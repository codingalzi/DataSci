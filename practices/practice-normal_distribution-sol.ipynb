{
 "cells": [
  {
   "cell_type": "markdown",
   "metadata": {
    "ExecuteTime": {
     "end_time": "2018-03-06T03:37:40.696920Z",
     "start_time": "2018-03-06T03:37:40.690655Z"
    }
   },
   "source": [
    "# (연습) 정규 분포"
   ]
  },
  {
   "cell_type": "markdown",
   "metadata": {},
   "source": [
    "**기본 설정**"
   ]
  },
  {
   "cell_type": "markdown",
   "metadata": {
    "ExecuteTime": {
     "end_time": "2018-08-03T08:26:15.690793Z",
     "start_time": "2018-08-03T08:26:15.507201Z"
    }
   },
   "source": [
    "Numpy와 Pandas 라이브러리를 각각 np와 pd로 불러온다."
   ]
  },
  {
   "cell_type": "code",
   "execution_count": 1,
   "metadata": {
    "ExecuteTime": {
     "end_time": "2018-08-14T06:43:30.149227Z",
     "start_time": "2018-08-14T06:43:29.960007Z"
    }
   },
   "outputs": [],
   "source": [
    "import numpy as np\n",
    "import pandas as pd"
   ]
  },
  {
   "cell_type": "markdown",
   "metadata": {},
   "source": [
    "데이터프레임의 [chained indexing을 금지시키기 위한 설정](https://pandas.pydata.org/pandas-docs/stable/user_guide/indexing.html#returning-a-view-versus-a-copy)을 지정한다.\n",
    "Pandas 3.0 버전부터는 기본 옵션으로 지정된다."
   ]
  },
  {
   "cell_type": "code",
   "execution_count": 2,
   "metadata": {},
   "outputs": [],
   "source": [
    "pd.options.mode.copy_on_write = True"
   ]
  },
  {
   "cell_type": "markdown",
   "metadata": {
    "ExecuteTime": {
     "end_time": "2018-08-14T06:43:30.149227Z",
     "start_time": "2018-08-14T06:43:29.960007Z"
    }
   },
   "source": [
    "주피터 노트북에서 부동소수점의 출력을 소수점 이하 6자리로 제한한다.\n",
    "아래 코드는 주피터 노트북에서만 사용하며 일반적인 파이썬 코드가 아니다."
   ]
  },
  {
   "cell_type": "code",
   "execution_count": 3,
   "metadata": {
    "ExecuteTime": {
     "end_time": "2018-08-14T06:43:30.149227Z",
     "start_time": "2018-08-14T06:43:29.960007Z"
    }
   },
   "outputs": [
    {
     "data": {
      "text/plain": [
       "'%.6f'"
      ]
     },
     "execution_count": 3,
     "metadata": {},
     "output_type": "execute_result"
    }
   ],
   "source": [
    "%precision 6"
   ]
  },
  {
   "cell_type": "markdown",
   "metadata": {
    "ExecuteTime": {
     "end_time": "2018-08-14T06:43:30.149227Z",
     "start_time": "2018-08-14T06:43:29.960007Z"
    }
   },
   "source": [
    "아래 코드는 데이터프레임 내에서 부동소수점의 출력을 소수점 이하 6자리로 제한한다."
   ]
  },
  {
   "cell_type": "code",
   "execution_count": 4,
   "metadata": {
    "ExecuteTime": {
     "end_time": "2018-08-14T06:43:30.149227Z",
     "start_time": "2018-08-14T06:43:29.960007Z"
    }
   },
   "outputs": [],
   "source": [
    "pd.set_option('display.precision', 6)"
   ]
  },
  {
   "cell_type": "markdown",
   "metadata": {},
   "source": [
    "데이터 시각화를 위해 `matplotlib.pyplot`를 `plt`라는 별칭으로 불러온다."
   ]
  },
  {
   "cell_type": "code",
   "execution_count": 5,
   "metadata": {},
   "outputs": [],
   "source": [
    "import matplotlib.pyplot as plt"
   ]
  },
  {
   "cell_type": "markdown",
   "metadata": {},
   "source": [
    "**데이터 저장소 디렉토리**"
   ]
  },
  {
   "cell_type": "markdown",
   "metadata": {},
   "source": [
    "코드에 사용되는 [데이터 저장소의 기본 디렉토리](https://github.com/codingalzi/DataSci/tree/master/data)를 지정한다."
   ]
  },
  {
   "cell_type": "code",
   "execution_count": 6,
   "metadata": {},
   "outputs": [],
   "source": [
    "data_url = 'https://raw.githubusercontent.com/codingalzi/DataSci/refs/heads/master/data/'"
   ]
  },
  {
   "cell_type": "markdown",
   "metadata": {},
   "source": [
    "### 예제: 피어슨  데이터셋"
   ]
  },
  {
   "cell_type": "markdown",
   "metadata": {},
   "source": [
    "아래 코드는 피어슨<font size='2'>Karl Pearson</font>이 1903년에 실험을 위해 수집한\n",
    "아버지와 아들의 키로 구성된 데이터셋을 불러온다.\n",
    "원래 인치 단위를 사용하지만 편의를 위해 센티미터 단위로 변환되었다."
   ]
  },
  {
   "cell_type": "code",
   "execution_count": 7,
   "metadata": {},
   "outputs": [],
   "source": [
    "pearson = pd.read_csv(data_url+\"pearson_dataset.csv\", header=0)"
   ]
  },
  {
   "cell_type": "markdown",
   "metadata": {},
   "source": [
    "처음 다섯 가족의 아버지 키와 아들 키 데이터는 다음과 같다."
   ]
  },
  {
   "cell_type": "code",
   "execution_count": 8,
   "metadata": {},
   "outputs": [
    {
     "data": {
      "text/html": [
       "<div>\n",
       "<style scoped>\n",
       "    .dataframe tbody tr th:only-of-type {\n",
       "        vertical-align: middle;\n",
       "    }\n",
       "\n",
       "    .dataframe tbody tr th {\n",
       "        vertical-align: top;\n",
       "    }\n",
       "\n",
       "    .dataframe thead th {\n",
       "        text-align: right;\n",
       "    }\n",
       "</style>\n",
       "<table border=\"1\" class=\"dataframe\">\n",
       "  <thead>\n",
       "    <tr style=\"text-align: right;\">\n",
       "      <th></th>\n",
       "      <th>Father</th>\n",
       "      <th>Son</th>\n",
       "    </tr>\n",
       "  </thead>\n",
       "  <tbody>\n",
       "    <tr>\n",
       "      <th>0</th>\n",
       "      <td>165.1</td>\n",
       "      <td>151.9</td>\n",
       "    </tr>\n",
       "    <tr>\n",
       "      <th>1</th>\n",
       "      <td>160.8</td>\n",
       "      <td>160.5</td>\n",
       "    </tr>\n",
       "    <tr>\n",
       "      <th>2</th>\n",
       "      <td>165.1</td>\n",
       "      <td>160.8</td>\n",
       "    </tr>\n",
       "    <tr>\n",
       "      <th>3</th>\n",
       "      <td>167.1</td>\n",
       "      <td>159.5</td>\n",
       "    </tr>\n",
       "    <tr>\n",
       "      <th>4</th>\n",
       "      <td>155.2</td>\n",
       "      <td>163.3</td>\n",
       "    </tr>\n",
       "  </tbody>\n",
       "</table>\n",
       "</div>"
      ],
      "text/plain": [
       "   Father    Son\n",
       "0   165.1  151.9\n",
       "1   160.8  160.5\n",
       "2   165.1  160.8\n",
       "3   167.1  159.5\n",
       "4   155.2  163.3"
      ]
     },
     "execution_count": 8,
     "metadata": {},
     "output_type": "execute_result"
    }
   ],
   "source": [
    "pearson.head()"
   ]
  },
  {
   "cell_type": "markdown",
   "metadata": {},
   "source": [
    "아버지 키와 아들 키 각각 총 1,078개의 부동소수점 값이 포함되었다."
   ]
  },
  {
   "cell_type": "code",
   "execution_count": 9,
   "metadata": {},
   "outputs": [
    {
     "name": "stdout",
     "output_type": "stream",
     "text": [
      "<class 'pandas.core.frame.DataFrame'>\n",
      "RangeIndex: 1078 entries, 0 to 1077\n",
      "Data columns (total 2 columns):\n",
      " #   Column  Non-Null Count  Dtype  \n",
      "---  ------  --------------  -----  \n",
      " 0   Father  1078 non-null   float64\n",
      " 1   Son     1078 non-null   float64\n",
      "dtypes: float64(2)\n",
      "memory usage: 17.0 KB\n"
     ]
    }
   ],
   "source": [
    "pearson.info()"
   ]
  },
  {
   "cell_type": "markdown",
   "metadata": {},
   "source": [
    "**문제 1**"
   ]
  },
  {
   "cell_type": "markdown",
   "metadata": {},
   "source": [
    "아버지 키의 분포를 확인하기 위해 밀도 히스토그램과 \n",
    "커널 밀도 추정(KDE) 기법으로 찾아진 확률 밀도 함수의 그래프를 함께 그린다."
   ]
  },
  {
   "cell_type": "code",
   "execution_count": 22,
   "metadata": {},
   "outputs": [
    {
     "data": {
      "image/png": "[encoded data removed]",
      "text/plain": [
       "<Figure size 640x480 with 1 Axes>"
      ]
     },
     "metadata": {},
     "output_type": "display_data"
    }
   ],
   "source": [
    "fig, ax = plt.subplots()\n",
    "\n",
    "# 아들 키 밀도 히스토그램\n",
    "pearson['Son'].plot.hist(ax=ax, bins=30, density=True, legend=False)\n",
    "\n",
    "# KDE 기법으로 계산된 확률 밀도 함수 그래프\n",
    "kde = sns.kdeplot(ax=ax, data=pearson['Son'])\n",
    "\n",
    "ax.set_xlabel('Height')\n",
    "ax.set_ylabel('Density')\n",
    "\n",
    "plt.show()"
   ]
  },
  {
   "cell_type": "markdown",
   "metadata": {},
   "source": [
    "그래프를 보면 평균값을 중심으로 거의 좌우 대칭을 이루는 분포를 따른다.\n",
    "즉, 아들 키가 정규 분포를 따르는 것처럼 보인다.\n",
    "이를 확인하기 위해 먼저 평균값과 분산을 계산한다."
   ]
  },
  {
   "cell_type": "code",
   "execution_count": 23,
   "metadata": {},
   "outputs": [
    {
     "data": {
      "text/plain": [
       "count    1078.000000\n",
       "mean      174.457978\n",
       "std         7.153552\n",
       "min       148.600000\n",
       "25%       169.900000\n",
       "50%       174.200000\n",
       "75%       179.100000\n",
       "max       199.100000\n",
       "Name: Son, dtype: float64"
      ]
     },
     "execution_count": 23,
     "metadata": {},
     "output_type": "execute_result"
    }
   ],
   "source": [
    "desc_son = pearson['Son'].describe()\n",
    "desc_son"
   ]
  },
  {
   "cell_type": "markdown",
   "metadata": {},
   "source": [
    "- 아들 키 평균값"
   ]
  },
  {
   "cell_type": "code",
   "execution_count": 24,
   "metadata": {},
   "outputs": [
    {
     "data": {
      "text/plain": [
       "174.457978"
      ]
     },
     "execution_count": 24,
     "metadata": {},
     "output_type": "execute_result"
    }
   ],
   "source": [
    "mu_son = desc_son.loc['mean']\n",
    "mu_son"
   ]
  },
  {
   "cell_type": "markdown",
   "metadata": {},
   "source": [
    "- 아들 키 표준편차"
   ]
  },
  {
   "cell_type": "code",
   "execution_count": 25,
   "metadata": {},
   "outputs": [
    {
     "data": {
      "text/plain": [
       "7.153552"
      ]
     },
     "execution_count": 25,
     "metadata": {},
     "output_type": "execute_result"
    }
   ],
   "source": [
    "sigma_son = desc_son.loc['std']\n",
    "sigma_son"
   ]
  },
  {
   "cell_type": "markdown",
   "metadata": {},
   "source": [
    "**정규 분포 확인**"
   ]
  },
  {
   "cell_type": "markdown",
   "metadata": {},
   "source": [
    "아래 코드는 `mu_son`와 `sigma_son`을 각각 평균값과 표준편차로 갖는 정규 분포의 확률 밀도 함수 그래프와\n",
    "앞서 KDE 기법으로 계산된 확률 밀도 함수 그래프가 거의 동일함을 보여준다."
   ]
  },
  {
   "cell_type": "code",
   "execution_count": 26,
   "metadata": {},
   "outputs": [
    {
     "data": {
      "image/png": "[encoded data removed]",
      "text/plain": [
       "<Figure size 640x480 with 1 Axes>"
      ]
     },
     "metadata": {},
     "output_type": "display_data"
    }
   ],
   "source": [
    "fig, ax = plt.subplots()\n",
    "\n",
    "# 20대 남성 키 데이터에 대해 KDE 기법으로 추정된 확률 밀도 함수 그래프\n",
    "kde = sns.kdeplot(ax=ax, data=pearson['Son'], label='KDE')\n",
    "\n",
    "# mu_son와 sigma_son를 이용한 정규 분포의 확률 밀도 함수 그래프\n",
    "x = np.arange(143, 204, 0.01)\n",
    "f = lambda y: f_gaussian(y, mu_son, sigma_son)\n",
    "plt.plot(x, f(x), label=r'$N(\\mu_{son}, \\sigma_{son}^2)$')\n",
    "\n",
    "ax.set_xlabel('Height')\n",
    "ax.set_ylabel('Density')\n",
    "\n",
    "ax.legend()\n",
    "\n",
    "plt.show()"
   ]
  },
  {
   "cell_type": "markdown",
   "metadata": {},
   "source": [
    "주의사항: 표준편차가 7.15 정도로 1보다 많이 크기에 정규 분포에 비해 보다 펑퍼짐한 봉우리로\n",
    "그려져야 하지만 표준 정규 분포에 가깝도록 보인다.\n",
    "하지만 이는 y-축이 0에서 0.4가 아닌 0에서 0.06 사이로 설정되었기에\n",
    "일종의 착시현상이 발생하기 때문이다."
   ]
  },
  {
   "cell_type": "markdown",
   "metadata": {},
   "source": [
    "**정규 분포 활용**"
   ]
  },
  {
   "cell_type": "markdown",
   "metadata": {
    "id": "rpyRIADMd0m_"
   },
   "source": [
    "결론적으로 아들 키를 가리키는 확률 변수 $X$는\n",
    "다음 정규 분포를 따른다라고 봐도 무방하다.\n",
    "\n",
    "$$\n",
    "X_{son} \\sim N(\\mu_{son}, \\sigma_{son}^2)\n",
    "$$\n",
    "\n",
    "이를 다음과 같이 `norm` 객체를 이용하여 직접 확률 변수로 선언한다.\n",
    "`norm` 객체를 활용할 때 함수처럼 평균값과 표준편차를 지정할 수 있음에 주의한다."
   ]
  },
  {
   "cell_type": "code",
   "execution_count": 28,
   "metadata": {},
   "outputs": [],
   "source": [
    "X_son = norm(loc=mu_son, scale=sigma_son)"
   ]
  },
  {
   "cell_type": "markdown",
   "metadata": {},
   "source": [
    "이렇게 정의된 확률 변수의 확률 밀도 함수(pdf)와 누적 분포 함수(cdf) 등은 추가 인자 없이 바로 활용된다.\n",
    "예를 들어 아래 코드는 임의로 선택된 20대 남성의 키가 평균값 이하일 확률이 50%임을 확인해준다."
   ]
  },
  {
   "cell_type": "code",
   "execution_count": 29,
   "metadata": {},
   "outputs": [
    {
     "data": {
      "text/plain": [
       "0.500000"
      ]
     },
     "execution_count": 29,
     "metadata": {},
     "output_type": "execute_result"
    }
   ],
   "source": [
    "X_son.cdf(mu_son)"
   ]
  },
  {
   "cell_type": "markdown",
   "metadata": {
    "id": "rpyRIADMd0m_"
   },
   "source": [
    "아래 코드는 우연히 선택된 아들 키가 180 이상일 확률 $P(X \\geq 180)$를 \n",
    "정규 분포의 확률 밀도 함수의 그래프와 x-축 사이의 특정 구간의 영역으로 보여준다."
   ]
  },
  {
   "cell_type": "code",
   "execution_count": 69,
   "metadata": {
    "colab": {
     "base_uri": "https://localhost:8080/",
     "height": 388
    },
    "executionInfo": {
     "elapsed": 1074,
     "status": "ok",
     "timestamp": 1677209793636,
     "user": {
      "displayName": "오리온",
      "userId": "03097998205438381973"
     },
     "user_tz": -540
    },
    "id": "V4yVYiuVaOoN",
    "outputId": "b65953a8-e17f-4e6b-e085-ef3dc9be8417",
    "scrolled": false
   },
   "outputs": [
    {
     "data": {
      "image/png": "[encoded data removed]",
      "text/plain": [
       "<Figure size 640x480 with 1 Axes>"
      ]
     },
     "metadata": {},
     "output_type": "display_data"
    }
   ],
   "source": [
    "fig = plt.figure()\n",
    "ax = fig.add_subplot(1, 1, 1)\n",
    "\n",
    "x = np.arange(143, 204, 0.01)\n",
    "f = X_son.pdf\n",
    "plt.plot(x, f(x))\n",
    "plt.fill_between(x, f(x), where=(x >= 180), alpha=0.4)\n",
    "\n",
    "ax.annotate(r'$P(X \\geq 180)$', xy=(184 ,0.01), xytext=(190, 0.025),\n",
    "            arrowprops=dict(facecolor='red', shrink=0.04, width=3, headwidth=8))\n",
    "\n",
    "# ax.plot([173.5, 173.5], [0, f(173.5)], color ='black', linewidth=1.4, linestyle=\"--\")\n",
    "\n",
    "ax.set_ylim(0, 0.062)\n",
    "\n",
    "plt.show()"
   ]
  },
  {
   "cell_type": "markdown",
   "metadata": {
    "id": "rpyRIADMd0m_"
   },
   "source": [
    "우연히 선택된 아들 키가 180 이상일 확률 $P(X \\geq 180)$의 계산은 `X_xon.cdf()` 함수를 이용한다."
   ]
  },
  {
   "cell_type": "code",
   "execution_count": 32,
   "metadata": {},
   "outputs": [
    {
     "data": {
      "text/plain": [
       "0.219252"
      ]
     },
     "execution_count": 32,
     "metadata": {},
     "output_type": "execute_result"
    }
   ],
   "source": [
    "1 - X_son.cdf(180)"
   ]
  },
  {
   "cell_type": "markdown",
   "metadata": {},
   "source": [
    "아래 코드는 데이터셋에서 아들 키가 180 이상인 샘플의 비율을 이용하여\n",
    "아들 키가 180 이상일 확률을 직접 계산한다."
   ]
  },
  {
   "cell_type": "code",
   "execution_count": 160,
   "metadata": {},
   "outputs": [
    {
     "data": {
      "text/plain": [
       "0.221707"
      ]
     },
     "execution_count": 160,
     "metadata": {},
     "output_type": "execute_result"
    }
   ],
   "source": [
    "# 180 이상인 경우만 True\n",
    "mask_180 = pearson['Son'] >= 180\n",
    "\n",
    "# 전체 데이터셋에서 True인 샘플의 비율\n",
    "mask_180.sum()/len(pearson)"
   ]
  },
  {
   "cell_type": "markdown",
   "metadata": {},
   "source": [
    "결론: 실제 값과 정규 분포의 누적 분포 함수를 이용하여 계산된 값이 매우 유사하다.\n",
    "따라서 앞으로는 실제 값을 구하는 대신 정규 분포의 성질과 기능만을 활용하여\n",
    "확률을 계산한다."
   ]
  },
  {
   "cell_type": "markdown",
   "metadata": {
    "id": "rpyRIADMd0m_"
   },
   "source": [
    "**$P(180<X<185)$ 계산**"
   ]
  },
  {
   "cell_type": "markdown",
   "metadata": {
    "id": "U8rNqjg8for-"
   },
   "source": [
    "아래 코드는 우연히 만난 한국 남성이 키 180 이상, 185 이하일 확률 $P(180<X<185)$를 그래프로 보여준다."
   ]
  },
  {
   "cell_type": "code",
   "execution_count": 67,
   "metadata": {
    "colab": {
     "base_uri": "https://localhost:8080/",
     "height": 388
    },
    "executionInfo": {
     "elapsed": 1074,
     "status": "ok",
     "timestamp": 1677209793636,
     "user": {
      "displayName": "오리온",
      "userId": "03097998205438381973"
     },
     "user_tz": -540
    },
    "id": "V4yVYiuVaOoN",
    "outputId": "b65953a8-e17f-4e6b-e085-ef3dc9be8417"
   },
   "outputs": [
    {
     "data": {
      "image/png": "[encoded data removed]",
      "text/plain": [
       "<Figure size 640x480 with 1 Axes>"
      ]
     },
     "metadata": {},
     "output_type": "display_data"
    }
   ],
   "source": [
    "fig = plt.figure()\n",
    "ax = fig.add_subplot(1, 1, 1)\n",
    "\n",
    "x = np.arange(143, 204, 0.01)\n",
    "f = X_son.pdf\n",
    "\n",
    "plt.plot(x, f(x))\n",
    "plt.fill_between(x, f(x), where=(x >= 180) & (x <= 185), alpha=0.4)\n",
    "\n",
    "# ax.annotate(r'$\\mu_{son}$', xy=(mu_son+.5 ,0.002))\n",
    "ax.annotate(r'$P(180 \\leq X \\leq 185)$', xy=(182.5 ,0.01), xytext=(188, 0.025),\n",
    "            arrowprops=dict(facecolor='red', shrink=0.04, width=3, headwidth=8))\n",
    "\n",
    "# ax.plot([mu_son, mu_son], [0, f(mu_son)], color ='black', linewidth=1.4, linestyle=\"--\")\n",
    "\n",
    "ax.set_ylim(0, 0.062)\n",
    "\n",
    "plt.show()"
   ]
  },
  {
   "cell_type": "markdown",
   "metadata": {
    "id": "rpyRIADMd0m_"
   },
   "source": [
    "한국 남성의 키를 가리키는 확률 변수 $X$가 정규 분포 $N(173.5, (5.17)^2)$ 을 따를 때\n",
    "키 180 이상, 185 이하의 남성을 소개팅에서 만날 확률 $P(180 \\leq X \\leq 185)$는 다음과 같이 계산된다."
   ]
  },
  {
   "cell_type": "code",
   "execution_count": 17,
   "metadata": {},
   "outputs": [
    {
     "data": {
      "text/plain": [
       "0.091269"
      ]
     },
     "execution_count": 17,
     "metadata": {},
     "output_type": "execute_result"
    }
   ],
   "source": [
    "F_gaussian(185, 173.5, 5.17) - F_gaussian(180, 173.5, 5.17)"
   ]
  },
  {
   "cell_type": "markdown",
   "metadata": {},
   "source": [
    "## 확률 변수 표준화"
   ]
  },
  {
   "cell_type": "markdown",
   "metadata": {
    "id": "VKko6LPegdA2"
   },
   "source": [
    "$X \\sim N(\\mu, \\sigma^2)$이 성립한다고 가정했을 때\n",
    "$X$의 표준 점수는 다음과 같이 정의된다.\n",
    "\n",
    "$$\n",
    "Z = \\frac{X-\\mu}{\\sigma}\n",
    "$$\n",
    "\n",
    "그러면 확률 변수 $Z$는 이제 표준 정규 분포를 따른다.\n",
    "\n",
    "$$\n",
    "Z \\sim N(0,1)\n",
    "$$"
   ]
  },
  {
   "cell_type": "markdown",
   "metadata": {
    "id": "VKko6LPegdA2"
   },
   "source": [
    "예를 들어 아들 키 180과 185의 표준 점수는 다음과 같다."
   ]
  },
  {
   "cell_type": "markdown",
   "metadata": {
    "id": "VKko6LPegdA2"
   },
   "source": [
    "- 180의 표준점수: "
   ]
  },
  {
   "cell_type": "code",
   "execution_count": 73,
   "metadata": {},
   "outputs": [
    {
     "data": {
      "text/plain": [
       "0.774723"
      ]
     },
     "execution_count": 73,
     "metadata": {},
     "output_type": "execute_result"
    }
   ],
   "source": [
    "z_180 = (180 - mu_son)/sigma_son\n",
    "z_180"
   ]
  },
  {
   "cell_type": "markdown",
   "metadata": {
    "id": "VKko6LPegdA2"
   },
   "source": [
    "- 185의 표준점수"
   ]
  },
  {
   "cell_type": "code",
   "execution_count": 74,
   "metadata": {},
   "outputs": [
    {
     "data": {
      "text/plain": [
       "1.473677"
      ]
     },
     "execution_count": 74,
     "metadata": {},
     "output_type": "execute_result"
    }
   ],
   "source": [
    "z_185 = (185 - mu_son)/sigma_son\n",
    "z_185"
   ]
  },
  {
   "cell_type": "markdown",
   "metadata": {},
   "source": [
    "**표준화 이전과 이후의 확률**"
   ]
  },
  {
   "cell_type": "markdown",
   "metadata": {
    "id": "VKko6LPegdA2"
   },
   "source": [
    "표준화 이후에는 평균값과 표준편차만 다른 정규 분포를 따른다.\n",
    "하지만 확률은 달라지지 않는다."
   ]
  },
  {
   "cell_type": "markdown",
   "metadata": {
    "id": "VKko6LPegdA2"
   },
   "source": [
    "- (키 180 이상일 확률) = (표준 점수가 0.774723 이상일 확률)"
   ]
  },
  {
   "cell_type": "code",
   "execution_count": 81,
   "metadata": {},
   "outputs": [
    {
     "data": {
      "text/plain": [
       "True"
      ]
     },
     "execution_count": 81,
     "metadata": {},
     "output_type": "execute_result"
    }
   ],
   "source": [
    "(1 - X_son.cdf(180)) == (1 - F_gaussian(z_180))"
   ]
  },
  {
   "cell_type": "markdown",
   "metadata": {
    "id": "VKko6LPegdA2"
   },
   "source": [
    "- 키 180 이상, 185 이하일 확률 = 표준 점수가  0.774723 이상, 1.473677 이하일 확률"
   ]
  },
  {
   "cell_type": "code",
   "execution_count": 83,
   "metadata": {},
   "outputs": [
    {
     "data": {
      "text/plain": [
       "True"
      ]
     },
     "execution_count": 83,
     "metadata": {},
     "output_type": "execute_result"
    }
   ],
   "source": [
    "(X_son.cdf(185) - X_son.cdf(180)) == (F_gaussian(z_185) - F_gaussian(z_180))"
   ]
  },
  {
   "cell_type": "markdown",
   "metadata": {},
   "source": [
    "**문제 1**"
   ]
  }
 ],
 "metadata": {
  "kernelspec": {
   "display_name": "Python 3 (ipykernel)",
   "language": "python",
   "name": "python3"
  },
  "language_info": {
   "codemirror_mode": {
    "name": "ipython",
    "version": 3
   },
   "file_extension": ".py",
   "mimetype": "text/x-python",
   "name": "python",
   "nbconvert_exporter": "python",
   "pygments_lexer": "ipython3",
   "version": "3.12.2"
  },
  "toc": {
   "nav_menu": {},
   "number_sections": true,
   "sideBar": true,
   "skip_h1_title": false,
   "toc_cell": false,
   "toc_position": {},
   "toc_section_display": "block",
   "toc_window_display": false
  }
 },
 "nbformat": 4,
 "nbformat_minor": 2
}
