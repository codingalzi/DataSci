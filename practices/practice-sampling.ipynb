{
 "cells": [
  {
   "cell_type": "markdown",
   "id": "f3c17522",
   "metadata": {},
   "source": [
    "# (연습) 모집단과 표본"
   ]
  },
  {
   "cell_type": "markdown",
   "id": "220a7368",
   "metadata": {},
   "source": [
    "**기본 설정**"
   ]
  },
  {
   "cell_type": "markdown",
   "id": "e8b69633",
   "metadata": {
    "ExecuteTime": {
     "end_time": "2018-08-03T08:26:15.690793Z",
     "start_time": "2018-08-03T08:26:15.507201Z"
    }
   },
   "source": [
    "Numpy와 Pandas 라이브러리를 각각 np와 pd로 불러온다."
   ]
  },
  {
   "cell_type": "code",
   "execution_count": 1,
   "id": "032780c8",
   "metadata": {
    "ExecuteTime": {
     "end_time": "2018-08-14T06:43:30.149227Z",
     "start_time": "2018-08-14T06:43:29.960007Z"
    }
   },
   "outputs": [],
   "source": [
    "import numpy as np\n",
    "import pandas as pd"
   ]
  },
  {
   "cell_type": "markdown",
   "id": "db6e5cc5",
   "metadata": {},
   "source": [
    "데이터프레임의 [chained indexing을 금지시키기 위한 설정](https://pandas.pydata.org/pandas-docs/stable/user_guide/indexing.html#returning-a-view-versus-a-copy)을 지정한다.\n",
    "Pandas 3.0 버전부터는 기본 옵션으로 지정된다."
   ]
  },
  {
   "cell_type": "code",
   "execution_count": 2,
   "id": "2e9572d2",
   "metadata": {},
   "outputs": [],
   "source": [
    "pd.options.mode.copy_on_write = True"
   ]
  },
  {
   "cell_type": "markdown",
   "id": "aac4264d",
   "metadata": {
    "ExecuteTime": {
     "end_time": "2018-08-14T06:43:30.149227Z",
     "start_time": "2018-08-14T06:43:29.960007Z"
    }
   },
   "source": [
    "주피터 노트북에서 부동소수점의 출력을 소수점 이하 6자리로 제한한다.\n",
    "아래 코드는 주피터 노트북에서만 사용하며 일반적인 파이썬 코드가 아니다."
   ]
  },
  {
   "cell_type": "code",
   "execution_count": 3,
   "id": "2de7da91",
   "metadata": {
    "ExecuteTime": {
     "end_time": "2018-08-14T06:43:30.149227Z",
     "start_time": "2018-08-14T06:43:29.960007Z"
    }
   },
   "outputs": [
    {
     "data": {
      "text/plain": [
       "'%.6f'"
      ]
     },
     "execution_count": 3,
     "metadata": {},
     "output_type": "execute_result"
    }
   ],
   "source": [
    "%precision 6"
   ]
  },
  {
   "cell_type": "markdown",
   "id": "630a1516",
   "metadata": {
    "ExecuteTime": {
     "end_time": "2018-08-14T06:43:30.149227Z",
     "start_time": "2018-08-14T06:43:29.960007Z"
    }
   },
   "source": [
    "아래 코드는 데이터프레임 내에서 부동소수점의 출력을 소수점 이하 6자리로 제한한다."
   ]
  },
  {
   "cell_type": "code",
   "execution_count": 4,
   "id": "81ce92bd",
   "metadata": {
    "ExecuteTime": {
     "end_time": "2018-08-14T06:43:30.149227Z",
     "start_time": "2018-08-14T06:43:29.960007Z"
    }
   },
   "outputs": [],
   "source": [
    "pd.set_option('display.precision', 6)"
   ]
  },
  {
   "cell_type": "markdown",
   "id": "c3c8a884",
   "metadata": {},
   "source": [
    "데이터 시각화를 위해 `matplotlib.pyplot`를 `plt`라는 별칭으로 불러온다."
   ]
  },
  {
   "cell_type": "code",
   "execution_count": 5,
   "id": "8221e367",
   "metadata": {},
   "outputs": [],
   "source": [
    "import matplotlib.pyplot as plt"
   ]
  },
  {
   "cell_type": "markdown",
   "id": "671fff9c",
   "metadata": {},
   "source": [
    "**데이터 저장소 디렉토리**"
   ]
  },
  {
   "cell_type": "markdown",
   "id": "191103b0",
   "metadata": {},
   "source": [
    "코드에 사용되는 [데이터 저장소의 기본 디렉토리](https://github.com/codingalzi/DataSci/tree/master/data)를 지정한다."
   ]
  },
  {
   "cell_type": "code",
   "execution_count": 6,
   "id": "a4960a37",
   "metadata": {},
   "outputs": [],
   "source": [
    "data_url = 'https://raw.githubusercontent.com/codingalzi/DataSci/refs/heads/master/data/'"
   ]
  },
  {
   "cell_type": "markdown",
   "id": "174bc1a3",
   "metadata": {
    "id": "D6CIjV_ICHko"
   },
   "source": [
    "## 타이타닉 데이터셋"
   ]
  },
  {
   "cell_type": "markdown",
   "id": "76396e14",
   "metadata": {},
   "source": [
    "타이타닉호의 승객에 대한 정보와 생존 여부를 담은 데이터셋을 불러온다."
   ]
  },
  {
   "cell_type": "code",
   "execution_count": 7,
   "id": "fef65c46",
   "metadata": {},
   "outputs": [],
   "source": [
    "titanic = pd.read_csv(data_url+\"titanic.csv\")"
   ]
  },
  {
   "cell_type": "markdown",
   "id": "cbcc251b",
   "metadata": {
    "id": "jmBPDayrCHko"
   },
   "source": [
    "각 생존자별로 12개의 정보가 포함된다."
   ]
  },
  {
   "cell_type": "markdown",
   "id": "977a45bb",
   "metadata": {
    "id": "fV1lT2IDCHkp"
   },
   "source": [
    "| 특성 | 의미 |\n",
    "| :--- | :--- |\n",
    "| PassengerId  | 승객 번호 |\n",
    "| Survived | 생존 여부. 0 또는 1. 1일 때 생존 |\n",
    "| Pclass | 승객 클래스 |\n",
    "| Name | 승객 이름 |\n",
    "| Sex | 승객의 성 |\n",
    "| Age | 승객 나이 |\n",
    "| SibSp | 타이타닉에 함께 승선한 형제자매와 배우자의 수 |\n",
    "| Parch | 타이타닉에 함께 승선한 자녀와 부모의 수 |\n",
    "| Ticket | 티켓 번호 |\n",
    "| Fare | 티켓 요금(영구 파운드화) |\n",
    "| Cabin | 객실 번호 |\n",
    "| Embarked | 승객이 타이타닉호에 승선한 항구 |\n",
    "| | C=Cherbourg, Q=Queenstown, S=Southampton |"
   ]
  },
  {
   "cell_type": "code",
   "execution_count": 8,
   "id": "a0bd3dc4",
   "metadata": {},
   "outputs": [
    {
     "data": {
      "text/html": [
       "<div>\n",
       "<style scoped>\n",
       "    .dataframe tbody tr th:only-of-type {\n",
       "        vertical-align: middle;\n",
       "    }\n",
       "\n",
       "    .dataframe tbody tr th {\n",
       "        vertical-align: top;\n",
       "    }\n",
       "\n",
       "    .dataframe thead th {\n",
       "        text-align: right;\n",
       "    }\n",
       "</style>\n",
       "<table border=\"1\" class=\"dataframe\">\n",
       "  <thead>\n",
       "    <tr style=\"text-align: right;\">\n",
       "      <th></th>\n",
       "      <th>PassengerId</th>\n",
       "      <th>Survived</th>\n",
       "      <th>Pclass</th>\n",
       "      <th>Name</th>\n",
       "      <th>Sex</th>\n",
       "      <th>Age</th>\n",
       "      <th>SibSp</th>\n",
       "      <th>Parch</th>\n",
       "      <th>Ticket</th>\n",
       "      <th>Fare</th>\n",
       "      <th>Cabin</th>\n",
       "      <th>Embarked</th>\n",
       "    </tr>\n",
       "  </thead>\n",
       "  <tbody>\n",
       "    <tr>\n",
       "      <th>0</th>\n",
       "      <td>1</td>\n",
       "      <td>0</td>\n",
       "      <td>3</td>\n",
       "      <td>Braund, Mr. Owen Harris</td>\n",
       "      <td>male</td>\n",
       "      <td>22.0</td>\n",
       "      <td>1</td>\n",
       "      <td>0</td>\n",
       "      <td>A/5 21171</td>\n",
       "      <td>7.2500</td>\n",
       "      <td>NaN</td>\n",
       "      <td>S</td>\n",
       "    </tr>\n",
       "    <tr>\n",
       "      <th>1</th>\n",
       "      <td>2</td>\n",
       "      <td>1</td>\n",
       "      <td>1</td>\n",
       "      <td>Cumings, Mrs. John Bradley (Florence Briggs Th...</td>\n",
       "      <td>female</td>\n",
       "      <td>38.0</td>\n",
       "      <td>1</td>\n",
       "      <td>0</td>\n",
       "      <td>PC 17599</td>\n",
       "      <td>71.2833</td>\n",
       "      <td>C85</td>\n",
       "      <td>C</td>\n",
       "    </tr>\n",
       "    <tr>\n",
       "      <th>2</th>\n",
       "      <td>3</td>\n",
       "      <td>1</td>\n",
       "      <td>3</td>\n",
       "      <td>Heikkinen, Miss. Laina</td>\n",
       "      <td>female</td>\n",
       "      <td>26.0</td>\n",
       "      <td>0</td>\n",
       "      <td>0</td>\n",
       "      <td>STON/O2. 3101282</td>\n",
       "      <td>7.9250</td>\n",
       "      <td>NaN</td>\n",
       "      <td>S</td>\n",
       "    </tr>\n",
       "    <tr>\n",
       "      <th>3</th>\n",
       "      <td>4</td>\n",
       "      <td>1</td>\n",
       "      <td>1</td>\n",
       "      <td>Futrelle, Mrs. Jacques Heath (Lily May Peel)</td>\n",
       "      <td>female</td>\n",
       "      <td>35.0</td>\n",
       "      <td>1</td>\n",
       "      <td>0</td>\n",
       "      <td>113803</td>\n",
       "      <td>53.1000</td>\n",
       "      <td>C123</td>\n",
       "      <td>S</td>\n",
       "    </tr>\n",
       "    <tr>\n",
       "      <th>4</th>\n",
       "      <td>5</td>\n",
       "      <td>0</td>\n",
       "      <td>3</td>\n",
       "      <td>Allen, Mr. William Henry</td>\n",
       "      <td>male</td>\n",
       "      <td>35.0</td>\n",
       "      <td>0</td>\n",
       "      <td>0</td>\n",
       "      <td>373450</td>\n",
       "      <td>8.0500</td>\n",
       "      <td>NaN</td>\n",
       "      <td>S</td>\n",
       "    </tr>\n",
       "    <tr>\n",
       "      <th>...</th>\n",
       "      <td>...</td>\n",
       "      <td>...</td>\n",
       "      <td>...</td>\n",
       "      <td>...</td>\n",
       "      <td>...</td>\n",
       "      <td>...</td>\n",
       "      <td>...</td>\n",
       "      <td>...</td>\n",
       "      <td>...</td>\n",
       "      <td>...</td>\n",
       "      <td>...</td>\n",
       "      <td>...</td>\n",
       "    </tr>\n",
       "    <tr>\n",
       "      <th>886</th>\n",
       "      <td>887</td>\n",
       "      <td>0</td>\n",
       "      <td>2</td>\n",
       "      <td>Montvila, Rev. Juozas</td>\n",
       "      <td>male</td>\n",
       "      <td>27.0</td>\n",
       "      <td>0</td>\n",
       "      <td>0</td>\n",
       "      <td>211536</td>\n",
       "      <td>13.0000</td>\n",
       "      <td>NaN</td>\n",
       "      <td>S</td>\n",
       "    </tr>\n",
       "    <tr>\n",
       "      <th>887</th>\n",
       "      <td>888</td>\n",
       "      <td>1</td>\n",
       "      <td>1</td>\n",
       "      <td>Graham, Miss. Margaret Edith</td>\n",
       "      <td>female</td>\n",
       "      <td>19.0</td>\n",
       "      <td>0</td>\n",
       "      <td>0</td>\n",
       "      <td>112053</td>\n",
       "      <td>30.0000</td>\n",
       "      <td>B42</td>\n",
       "      <td>S</td>\n",
       "    </tr>\n",
       "    <tr>\n",
       "      <th>888</th>\n",
       "      <td>889</td>\n",
       "      <td>0</td>\n",
       "      <td>3</td>\n",
       "      <td>Johnston, Miss. Catherine Helen \"Carrie\"</td>\n",
       "      <td>female</td>\n",
       "      <td>NaN</td>\n",
       "      <td>1</td>\n",
       "      <td>2</td>\n",
       "      <td>W./C. 6607</td>\n",
       "      <td>23.4500</td>\n",
       "      <td>NaN</td>\n",
       "      <td>S</td>\n",
       "    </tr>\n",
       "    <tr>\n",
       "      <th>889</th>\n",
       "      <td>890</td>\n",
       "      <td>1</td>\n",
       "      <td>1</td>\n",
       "      <td>Behr, Mr. Karl Howell</td>\n",
       "      <td>male</td>\n",
       "      <td>26.0</td>\n",
       "      <td>0</td>\n",
       "      <td>0</td>\n",
       "      <td>111369</td>\n",
       "      <td>30.0000</td>\n",
       "      <td>C148</td>\n",
       "      <td>C</td>\n",
       "    </tr>\n",
       "    <tr>\n",
       "      <th>890</th>\n",
       "      <td>891</td>\n",
       "      <td>0</td>\n",
       "      <td>3</td>\n",
       "      <td>Dooley, Mr. Patrick</td>\n",
       "      <td>male</td>\n",
       "      <td>32.0</td>\n",
       "      <td>0</td>\n",
       "      <td>0</td>\n",
       "      <td>370376</td>\n",
       "      <td>7.7500</td>\n",
       "      <td>NaN</td>\n",
       "      <td>Q</td>\n",
       "    </tr>\n",
       "  </tbody>\n",
       "</table>\n",
       "<p>891 rows × 12 columns</p>\n",
       "</div>"
      ],
      "text/plain": [
       "     PassengerId  Survived  Pclass  \\\n",
       "0              1         0       3   \n",
       "1              2         1       1   \n",
       "2              3         1       3   \n",
       "3              4         1       1   \n",
       "4              5         0       3   \n",
       "..           ...       ...     ...   \n",
       "886          887         0       2   \n",
       "887          888         1       1   \n",
       "888          889         0       3   \n",
       "889          890         1       1   \n",
       "890          891         0       3   \n",
       "\n",
       "                                                  Name     Sex   Age  SibSp  \\\n",
       "0                              Braund, Mr. Owen Harris    male  22.0      1   \n",
       "1    Cumings, Mrs. John Bradley (Florence Briggs Th...  female  38.0      1   \n",
       "2                               Heikkinen, Miss. Laina  female  26.0      0   \n",
       "3         Futrelle, Mrs. Jacques Heath (Lily May Peel)  female  35.0      1   \n",
       "4                             Allen, Mr. William Henry    male  35.0      0   \n",
       "..                                                 ...     ...   ...    ...   \n",
       "886                              Montvila, Rev. Juozas    male  27.0      0   \n",
       "887                       Graham, Miss. Margaret Edith  female  19.0      0   \n",
       "888           Johnston, Miss. Catherine Helen \"Carrie\"  female   NaN      1   \n",
       "889                              Behr, Mr. Karl Howell    male  26.0      0   \n",
       "890                                Dooley, Mr. Patrick    male  32.0      0   \n",
       "\n",
       "     Parch            Ticket     Fare Cabin Embarked  \n",
       "0        0         A/5 21171   7.2500   NaN        S  \n",
       "1        0          PC 17599  71.2833   C85        C  \n",
       "2        0  STON/O2. 3101282   7.9250   NaN        S  \n",
       "3        0            113803  53.1000  C123        S  \n",
       "4        0            373450   8.0500   NaN        S  \n",
       "..     ...               ...      ...   ...      ...  \n",
       "886      0            211536  13.0000   NaN        S  \n",
       "887      0            112053  30.0000   B42        S  \n",
       "888      2        W./C. 6607  23.4500   NaN        S  \n",
       "889      0            111369  30.0000  C148        C  \n",
       "890      0            370376   7.7500   NaN        Q  \n",
       "\n",
       "[891 rows x 12 columns]"
      ]
     },
     "execution_count": 8,
     "metadata": {},
     "output_type": "execute_result"
    }
   ],
   "source": [
    "titanic"
   ]
  },
  {
   "cell_type": "markdown",
   "id": "f18bba27",
   "metadata": {},
   "source": [
    "**인덱스 변경**"
   ]
  },
  {
   "cell_type": "markdown",
   "id": "1938bfbb",
   "metadata": {
    "id": "eRx0DUoGCHkp"
   },
   "source": [
    "먼저 `PassengerId` 특성을 인덱스로 지정한다."
   ]
  },
  {
   "cell_type": "code",
   "execution_count": 9,
   "id": "76b37ba2",
   "metadata": {
    "id": "GJWtfiXqCHkp"
   },
   "outputs": [],
   "source": [
    "titanic = titanic.set_index(\"PassengerId\")"
   ]
  },
  {
   "cell_type": "code",
   "execution_count": 10,
   "id": "8d237910",
   "metadata": {},
   "outputs": [
    {
     "data": {
      "text/html": [
       "<div>\n",
       "<style scoped>\n",
       "    .dataframe tbody tr th:only-of-type {\n",
       "        vertical-align: middle;\n",
       "    }\n",
       "\n",
       "    .dataframe tbody tr th {\n",
       "        vertical-align: top;\n",
       "    }\n",
       "\n",
       "    .dataframe thead th {\n",
       "        text-align: right;\n",
       "    }\n",
       "</style>\n",
       "<table border=\"1\" class=\"dataframe\">\n",
       "  <thead>\n",
       "    <tr style=\"text-align: right;\">\n",
       "      <th></th>\n",
       "      <th>Survived</th>\n",
       "      <th>Pclass</th>\n",
       "      <th>Name</th>\n",
       "      <th>Sex</th>\n",
       "      <th>Age</th>\n",
       "      <th>SibSp</th>\n",
       "      <th>Parch</th>\n",
       "      <th>Ticket</th>\n",
       "      <th>Fare</th>\n",
       "      <th>Cabin</th>\n",
       "      <th>Embarked</th>\n",
       "    </tr>\n",
       "    <tr>\n",
       "      <th>PassengerId</th>\n",
       "      <th></th>\n",
       "      <th></th>\n",
       "      <th></th>\n",
       "      <th></th>\n",
       "      <th></th>\n",
       "      <th></th>\n",
       "      <th></th>\n",
       "      <th></th>\n",
       "      <th></th>\n",
       "      <th></th>\n",
       "      <th></th>\n",
       "    </tr>\n",
       "  </thead>\n",
       "  <tbody>\n",
       "    <tr>\n",
       "      <th>1</th>\n",
       "      <td>0</td>\n",
       "      <td>3</td>\n",
       "      <td>Braund, Mr. Owen Harris</td>\n",
       "      <td>male</td>\n",
       "      <td>22.0</td>\n",
       "      <td>1</td>\n",
       "      <td>0</td>\n",
       "      <td>A/5 21171</td>\n",
       "      <td>7.2500</td>\n",
       "      <td>NaN</td>\n",
       "      <td>S</td>\n",
       "    </tr>\n",
       "    <tr>\n",
       "      <th>2</th>\n",
       "      <td>1</td>\n",
       "      <td>1</td>\n",
       "      <td>Cumings, Mrs. John Bradley (Florence Briggs Th...</td>\n",
       "      <td>female</td>\n",
       "      <td>38.0</td>\n",
       "      <td>1</td>\n",
       "      <td>0</td>\n",
       "      <td>PC 17599</td>\n",
       "      <td>71.2833</td>\n",
       "      <td>C85</td>\n",
       "      <td>C</td>\n",
       "    </tr>\n",
       "    <tr>\n",
       "      <th>3</th>\n",
       "      <td>1</td>\n",
       "      <td>3</td>\n",
       "      <td>Heikkinen, Miss. Laina</td>\n",
       "      <td>female</td>\n",
       "      <td>26.0</td>\n",
       "      <td>0</td>\n",
       "      <td>0</td>\n",
       "      <td>STON/O2. 3101282</td>\n",
       "      <td>7.9250</td>\n",
       "      <td>NaN</td>\n",
       "      <td>S</td>\n",
       "    </tr>\n",
       "    <tr>\n",
       "      <th>4</th>\n",
       "      <td>1</td>\n",
       "      <td>1</td>\n",
       "      <td>Futrelle, Mrs. Jacques Heath (Lily May Peel)</td>\n",
       "      <td>female</td>\n",
       "      <td>35.0</td>\n",
       "      <td>1</td>\n",
       "      <td>0</td>\n",
       "      <td>113803</td>\n",
       "      <td>53.1000</td>\n",
       "      <td>C123</td>\n",
       "      <td>S</td>\n",
       "    </tr>\n",
       "    <tr>\n",
       "      <th>5</th>\n",
       "      <td>0</td>\n",
       "      <td>3</td>\n",
       "      <td>Allen, Mr. William Henry</td>\n",
       "      <td>male</td>\n",
       "      <td>35.0</td>\n",
       "      <td>0</td>\n",
       "      <td>0</td>\n",
       "      <td>373450</td>\n",
       "      <td>8.0500</td>\n",
       "      <td>NaN</td>\n",
       "      <td>S</td>\n",
       "    </tr>\n",
       "    <tr>\n",
       "      <th>...</th>\n",
       "      <td>...</td>\n",
       "      <td>...</td>\n",
       "      <td>...</td>\n",
       "      <td>...</td>\n",
       "      <td>...</td>\n",
       "      <td>...</td>\n",
       "      <td>...</td>\n",
       "      <td>...</td>\n",
       "      <td>...</td>\n",
       "      <td>...</td>\n",
       "      <td>...</td>\n",
       "    </tr>\n",
       "    <tr>\n",
       "      <th>887</th>\n",
       "      <td>0</td>\n",
       "      <td>2</td>\n",
       "      <td>Montvila, Rev. Juozas</td>\n",
       "      <td>male</td>\n",
       "      <td>27.0</td>\n",
       "      <td>0</td>\n",
       "      <td>0</td>\n",
       "      <td>211536</td>\n",
       "      <td>13.0000</td>\n",
       "      <td>NaN</td>\n",
       "      <td>S</td>\n",
       "    </tr>\n",
       "    <tr>\n",
       "      <th>888</th>\n",
       "      <td>1</td>\n",
       "      <td>1</td>\n",
       "      <td>Graham, Miss. Margaret Edith</td>\n",
       "      <td>female</td>\n",
       "      <td>19.0</td>\n",
       "      <td>0</td>\n",
       "      <td>0</td>\n",
       "      <td>112053</td>\n",
       "      <td>30.0000</td>\n",
       "      <td>B42</td>\n",
       "      <td>S</td>\n",
       "    </tr>\n",
       "    <tr>\n",
       "      <th>889</th>\n",
       "      <td>0</td>\n",
       "      <td>3</td>\n",
       "      <td>Johnston, Miss. Catherine Helen \"Carrie\"</td>\n",
       "      <td>female</td>\n",
       "      <td>NaN</td>\n",
       "      <td>1</td>\n",
       "      <td>2</td>\n",
       "      <td>W./C. 6607</td>\n",
       "      <td>23.4500</td>\n",
       "      <td>NaN</td>\n",
       "      <td>S</td>\n",
       "    </tr>\n",
       "    <tr>\n",
       "      <th>890</th>\n",
       "      <td>1</td>\n",
       "      <td>1</td>\n",
       "      <td>Behr, Mr. Karl Howell</td>\n",
       "      <td>male</td>\n",
       "      <td>26.0</td>\n",
       "      <td>0</td>\n",
       "      <td>0</td>\n",
       "      <td>111369</td>\n",
       "      <td>30.0000</td>\n",
       "      <td>C148</td>\n",
       "      <td>C</td>\n",
       "    </tr>\n",
       "    <tr>\n",
       "      <th>891</th>\n",
       "      <td>0</td>\n",
       "      <td>3</td>\n",
       "      <td>Dooley, Mr. Patrick</td>\n",
       "      <td>male</td>\n",
       "      <td>32.0</td>\n",
       "      <td>0</td>\n",
       "      <td>0</td>\n",
       "      <td>370376</td>\n",
       "      <td>7.7500</td>\n",
       "      <td>NaN</td>\n",
       "      <td>Q</td>\n",
       "    </tr>\n",
       "  </tbody>\n",
       "</table>\n",
       "<p>891 rows × 11 columns</p>\n",
       "</div>"
      ],
      "text/plain": [
       "             Survived  Pclass  \\\n",
       "PassengerId                     \n",
       "1                   0       3   \n",
       "2                   1       1   \n",
       "3                   1       3   \n",
       "4                   1       1   \n",
       "5                   0       3   \n",
       "...               ...     ...   \n",
       "887                 0       2   \n",
       "888                 1       1   \n",
       "889                 0       3   \n",
       "890                 1       1   \n",
       "891                 0       3   \n",
       "\n",
       "                                                          Name     Sex   Age  \\\n",
       "PassengerId                                                                    \n",
       "1                                      Braund, Mr. Owen Harris    male  22.0   \n",
       "2            Cumings, Mrs. John Bradley (Florence Briggs Th...  female  38.0   \n",
       "3                                       Heikkinen, Miss. Laina  female  26.0   \n",
       "4                 Futrelle, Mrs. Jacques Heath (Lily May Peel)  female  35.0   \n",
       "5                                     Allen, Mr. William Henry    male  35.0   \n",
       "...                                                        ...     ...   ...   \n",
       "887                                      Montvila, Rev. Juozas    male  27.0   \n",
       "888                               Graham, Miss. Margaret Edith  female  19.0   \n",
       "889                   Johnston, Miss. Catherine Helen \"Carrie\"  female   NaN   \n",
       "890                                      Behr, Mr. Karl Howell    male  26.0   \n",
       "891                                        Dooley, Mr. Patrick    male  32.0   \n",
       "\n",
       "             SibSp  Parch            Ticket     Fare Cabin Embarked  \n",
       "PassengerId                                                          \n",
       "1                1      0         A/5 21171   7.2500   NaN        S  \n",
       "2                1      0          PC 17599  71.2833   C85        C  \n",
       "3                0      0  STON/O2. 3101282   7.9250   NaN        S  \n",
       "4                1      0            113803  53.1000  C123        S  \n",
       "5                0      0            373450   8.0500   NaN        S  \n",
       "...            ...    ...               ...      ...   ...      ...  \n",
       "887              0      0            211536  13.0000   NaN        S  \n",
       "888              0      0            112053  30.0000   B42        S  \n",
       "889              1      2        W./C. 6607  23.4500   NaN        S  \n",
       "890              0      0            111369  30.0000  C148        C  \n",
       "891              0      0            370376   7.7500   NaN        Q  \n",
       "\n",
       "[891 rows x 11 columns]"
      ]
     },
     "execution_count": 10,
     "metadata": {},
     "output_type": "execute_result"
    }
   ],
   "source": [
    "titanic"
   ]
  },
  {
   "cell_type": "markdown",
   "id": "db29a6c9",
   "metadata": {},
   "source": [
    "여기서는 `Sex`, `Age`, `Survived` 세 개의 특성만 활용한다."
   ]
  },
  {
   "cell_type": "code",
   "execution_count": 11,
   "id": "a96853b8",
   "metadata": {},
   "outputs": [
    {
     "data": {
      "text/html": [
       "<div>\n",
       "<style scoped>\n",
       "    .dataframe tbody tr th:only-of-type {\n",
       "        vertical-align: middle;\n",
       "    }\n",
       "\n",
       "    .dataframe tbody tr th {\n",
       "        vertical-align: top;\n",
       "    }\n",
       "\n",
       "    .dataframe thead th {\n",
       "        text-align: right;\n",
       "    }\n",
       "</style>\n",
       "<table border=\"1\" class=\"dataframe\">\n",
       "  <thead>\n",
       "    <tr style=\"text-align: right;\">\n",
       "      <th></th>\n",
       "      <th>Sex</th>\n",
       "      <th>Age</th>\n",
       "      <th>Survived</th>\n",
       "    </tr>\n",
       "    <tr>\n",
       "      <th>PassengerId</th>\n",
       "      <th></th>\n",
       "      <th></th>\n",
       "      <th></th>\n",
       "    </tr>\n",
       "  </thead>\n",
       "  <tbody>\n",
       "    <tr>\n",
       "      <th>1</th>\n",
       "      <td>male</td>\n",
       "      <td>22.0</td>\n",
       "      <td>0</td>\n",
       "    </tr>\n",
       "    <tr>\n",
       "      <th>2</th>\n",
       "      <td>female</td>\n",
       "      <td>38.0</td>\n",
       "      <td>1</td>\n",
       "    </tr>\n",
       "    <tr>\n",
       "      <th>3</th>\n",
       "      <td>female</td>\n",
       "      <td>26.0</td>\n",
       "      <td>1</td>\n",
       "    </tr>\n",
       "    <tr>\n",
       "      <th>4</th>\n",
       "      <td>female</td>\n",
       "      <td>35.0</td>\n",
       "      <td>1</td>\n",
       "    </tr>\n",
       "    <tr>\n",
       "      <th>5</th>\n",
       "      <td>male</td>\n",
       "      <td>35.0</td>\n",
       "      <td>0</td>\n",
       "    </tr>\n",
       "    <tr>\n",
       "      <th>...</th>\n",
       "      <td>...</td>\n",
       "      <td>...</td>\n",
       "      <td>...</td>\n",
       "    </tr>\n",
       "    <tr>\n",
       "      <th>887</th>\n",
       "      <td>male</td>\n",
       "      <td>27.0</td>\n",
       "      <td>0</td>\n",
       "    </tr>\n",
       "    <tr>\n",
       "      <th>888</th>\n",
       "      <td>female</td>\n",
       "      <td>19.0</td>\n",
       "      <td>1</td>\n",
       "    </tr>\n",
       "    <tr>\n",
       "      <th>889</th>\n",
       "      <td>female</td>\n",
       "      <td>NaN</td>\n",
       "      <td>0</td>\n",
       "    </tr>\n",
       "    <tr>\n",
       "      <th>890</th>\n",
       "      <td>male</td>\n",
       "      <td>26.0</td>\n",
       "      <td>1</td>\n",
       "    </tr>\n",
       "    <tr>\n",
       "      <th>891</th>\n",
       "      <td>male</td>\n",
       "      <td>32.0</td>\n",
       "      <td>0</td>\n",
       "    </tr>\n",
       "  </tbody>\n",
       "</table>\n",
       "<p>891 rows × 3 columns</p>\n",
       "</div>"
      ],
      "text/plain": [
       "                Sex   Age  Survived\n",
       "PassengerId                        \n",
       "1              male  22.0         0\n",
       "2            female  38.0         1\n",
       "3            female  26.0         1\n",
       "4            female  35.0         1\n",
       "5              male  35.0         0\n",
       "...             ...   ...       ...\n",
       "887            male  27.0         0\n",
       "888          female  19.0         1\n",
       "889          female   NaN         0\n",
       "890            male  26.0         1\n",
       "891            male  32.0         0\n",
       "\n",
       "[891 rows x 3 columns]"
      ]
     },
     "execution_count": 11,
     "metadata": {},
     "output_type": "execute_result"
    }
   ],
   "source": [
    "titanic = titanic[['Sex', 'Age', 'Survived']]\n",
    "titanic"
   ]
  },
  {
   "cell_type": "markdown",
   "id": "832aaf35",
   "metadata": {
    "id": "eOjrhiv9CHkp"
   },
   "source": [
    "**결측치 확인**"
   ]
  },
  {
   "cell_type": "markdown",
   "id": "d5d18fc2",
   "metadata": {},
   "source": [
    "데이터셋의 크기인 891보다 적은 수의 `non-null` 값을 갖는 특성에 결측치가 .\n",
    "데이터프레임의 `info()` 메서드로 확인하면 `Age` 특성에 \n",
    "데이터셋의 크기인 891보다 적은 수의 `non-null` 값이 포함되어 있다.\n",
    "이는 177개의 결측치가 존재함을 의미한다."
   ]
  },
  {
   "cell_type": "code",
   "execution_count": 12,
   "id": "d620203b",
   "metadata": {
    "id": "e6D2Qi0SCHkp",
    "outputId": "276ec52e-de15-4981-d257-c4c9a13dbad2"
   },
   "outputs": [
    {
     "name": "stdout",
     "output_type": "stream",
     "text": [
      "<class 'pandas.core.frame.DataFrame'>\n",
      "Index: 891 entries, 1 to 891\n",
      "Data columns (total 3 columns):\n",
      " #   Column    Non-Null Count  Dtype  \n",
      "---  ------    --------------  -----  \n",
      " 0   Sex       891 non-null    object \n",
      " 1   Age       714 non-null    float64\n",
      " 2   Survived  891 non-null    int64  \n",
      "dtypes: float64(1), int64(1), object(1)\n",
      "memory usage: 27.8+ KB\n"
     ]
    }
   ],
   "source": [
    "titanic.info()"
   ]
  },
  {
   "cell_type": "markdown",
   "id": "fd307f3c",
   "metadata": {},
   "source": [
    "**`Age` 특성 결측치 처리 방법 1: 특성 중앙값 활용**"
   ]
  },
  {
   "cell_type": "markdown",
   "id": "b6e2b4e5",
   "metadata": {},
   "source": [
    "`Age` 특성의 결측치를 다양한 방식으로 채운다.\n",
    "따라서 `titanic` 데이터셋의  원본을 그대로 두고 복제해서 사용한다."
   ]
  },
  {
   "cell_type": "code",
   "execution_count": 13,
   "id": "443b2f3e",
   "metadata": {},
   "outputs": [],
   "source": [
    "titanic_median = titanic.copy()"
   ]
  },
  {
   "cell_type": "markdown",
   "id": "76b3f263",
   "metadata": {},
   "source": [
    "`Age` 특성의 결측치를 모두 해당 특성의 중앙값으로 대체한다."
   ]
  },
  {
   "cell_type": "code",
   "execution_count": 14,
   "id": "13df4cba",
   "metadata": {},
   "outputs": [
    {
     "data": {
      "text/plain": [
       "28.000000"
      ]
     },
     "execution_count": 14,
     "metadata": {},
     "output_type": "execute_result"
    }
   ],
   "source": [
    "age_median =titanic_median['Age'].median()\n",
    "age_median"
   ]
  },
  {
   "cell_type": "code",
   "execution_count": 15,
   "id": "9fac2e40",
   "metadata": {},
   "outputs": [],
   "source": [
    "titanic_median['Age'] = titanic_median['Age'].fillna(age_median)"
   ]
  },
  {
   "cell_type": "code",
   "execution_count": 16,
   "id": "45fccd0c",
   "metadata": {},
   "outputs": [
    {
     "name": "stdout",
     "output_type": "stream",
     "text": [
      "<class 'pandas.core.frame.DataFrame'>\n",
      "Index: 891 entries, 1 to 891\n",
      "Data columns (total 3 columns):\n",
      " #   Column    Non-Null Count  Dtype  \n",
      "---  ------    --------------  -----  \n",
      " 0   Sex       891 non-null    object \n",
      " 1   Age       891 non-null    float64\n",
      " 2   Survived  891 non-null    int64  \n",
      "dtypes: float64(1), int64(1), object(1)\n",
      "memory usage: 27.8+ KB\n"
     ]
    }
   ],
   "source": [
    "titanic_median.info()"
   ]
  },
  {
   "cell_type": "markdown",
   "id": "bcc06a50",
   "metadata": {},
   "source": [
    "**`Age` 특성 결측치 처리 방법 2: 성(Sex)별 중앙값 활용**"
   ]
  },
  {
   "cell_type": "markdown",
   "id": "936920b8",
   "metadata": {},
   "source": [
    "- 방식 1: 부울 인덱싱 활용"
   ]
  },
  {
   "cell_type": "markdown",
   "id": "98e550ba",
   "metadata": {},
   "source": [
    "먼저 타이타닉 데이터셋을 복제한다."
   ]
  },
  {
   "cell_type": "code",
   "execution_count": 17,
   "id": "8bb1ccba",
   "metadata": {},
   "outputs": [],
   "source": [
    "titanic_sex_median = titanic.copy()"
   ]
  },
  {
   "cell_type": "markdown",
   "id": "bdecab4b",
   "metadata": {},
   "source": [
    "여성과 남성의 중위연령을 확인한다."
   ]
  },
  {
   "cell_type": "code",
   "execution_count": 18,
   "id": "60db2701",
   "metadata": {
    "id": "MsW2LgtqCHkp",
    "outputId": "fbe7fbdc-d825-4993-faf9-e401d9ad39e2"
   },
   "outputs": [
    {
     "name": "stdout",
     "output_type": "stream",
     "text": [
      "여성 평균연령: 27.0\n"
     ]
    }
   ],
   "source": [
    "f_mask = titanic_sex_median[\"Sex\"]==\"female\"\n",
    "f_age_median = titanic_sex_median.loc[f_mask, \"Age\"].median()\n",
    "print(\"여성 평균연령:\", f_age_median)"
   ]
  },
  {
   "cell_type": "code",
   "execution_count": 19,
   "id": "f5930cfe",
   "metadata": {
    "id": "MsW2LgtqCHkp",
    "outputId": "fbe7fbdc-d825-4993-faf9-e401d9ad39e2"
   },
   "outputs": [
    {
     "name": "stdout",
     "output_type": "stream",
     "text": [
      "남성 평균연령: 29.0\n"
     ]
    }
   ],
   "source": [
    "m_mask = titanic_sex_median[\"Sex\"]==\"male\"\n",
    "m_age_median = titanic_sex_median.loc[m_mask, \"Age\"].median()\n",
    "print(\"남성 평균연령:\", m_age_median)"
   ]
  },
  {
   "cell_type": "markdown",
   "id": "f8093527",
   "metadata": {},
   "source": [
    "부울 인덱싱으로 남녀별로 결측치를 각각의 중위값으로 대체한다."
   ]
  },
  {
   "cell_type": "code",
   "execution_count": 20,
   "id": "29c1cc85",
   "metadata": {},
   "outputs": [],
   "source": [
    "titanic_sex_median.loc[f_mask, 'Age'] = titanic_sex_median.loc[f_mask, 'Age'].fillna(f_age_median)\n",
    "titanic_sex_median.loc[m_mask, 'Age'] = titanic_sex_median.loc[m_mask, 'Age'].fillna(m_age_median)"
   ]
  },
  {
   "cell_type": "markdown",
   "id": "3de4033c",
   "metadata": {},
   "source": [
    "모든 결측치가 사라졌음을 확인한다."
   ]
  },
  {
   "cell_type": "code",
   "execution_count": 21,
   "id": "9c62b9d9",
   "metadata": {},
   "outputs": [
    {
     "name": "stdout",
     "output_type": "stream",
     "text": [
      "<class 'pandas.core.frame.DataFrame'>\n",
      "Index: 891 entries, 1 to 891\n",
      "Data columns (total 3 columns):\n",
      " #   Column    Non-Null Count  Dtype  \n",
      "---  ------    --------------  -----  \n",
      " 0   Sex       891 non-null    object \n",
      " 1   Age       891 non-null    float64\n",
      " 2   Survived  891 non-null    int64  \n",
      "dtypes: float64(1), int64(1), object(1)\n",
      "memory usage: 27.8+ KB\n"
     ]
    }
   ],
   "source": [
    "titanic_sex_median.info()"
   ]
  },
  {
   "cell_type": "markdown",
   "id": "714d689c",
   "metadata": {},
   "source": [
    "- 방식 2: `groupby()` 활용"
   ]
  },
  {
   "cell_type": "markdown",
   "id": "03b88c61",
   "metadata": {},
   "source": [
    "먼저 타이타닉 데이터셋을 복제한다."
   ]
  },
  {
   "cell_type": "code",
   "execution_count": 22,
   "id": "d0de4b69",
   "metadata": {},
   "outputs": [],
   "source": [
    "titanic_sex_median = titanic.copy()"
   ]
  },
  {
   "cell_type": "markdown",
   "id": "461511ea",
   "metadata": {},
   "source": [
    "여성과 남성의 중위연령을 확인한다."
   ]
  },
  {
   "cell_type": "code",
   "execution_count": 23,
   "id": "f2a3bb06",
   "metadata": {},
   "outputs": [
    {
     "data": {
      "text/plain": [
       "Sex\n",
       "female    27.0\n",
       "male      29.0\n",
       "Name: Age, dtype: float64"
      ]
     },
     "execution_count": 23,
     "metadata": {},
     "output_type": "execute_result"
    }
   ],
   "source": [
    "titanic_sex_median.groupby('Sex')['Age'].median()"
   ]
  },
  {
   "cell_type": "markdown",
   "id": "ca705c66",
   "metadata": {},
   "source": [
    "아래 코드는 성별에 따라 결측치를 각각의 중위값으로 대체한다."
   ]
  },
  {
   "cell_type": "code",
   "execution_count": 24,
   "id": "864e06b4",
   "metadata": {},
   "outputs": [
    {
     "data": {
      "text/plain": [
       "Sex     PassengerId\n",
       "female  2              38.0\n",
       "        3              26.0\n",
       "        4              35.0\n",
       "        9              27.0\n",
       "        10             14.0\n",
       "                       ... \n",
       "male    884            28.0\n",
       "        885            25.0\n",
       "        887            27.0\n",
       "        890            26.0\n",
       "        891            32.0\n",
       "Name: Age, Length: 891, dtype: float64"
      ]
     },
     "execution_count": 24,
     "metadata": {},
     "output_type": "execute_result"
    }
   ],
   "source": [
    "titanic_sex_median_age = titanic_sex_median.groupby('Sex')['Age'].apply(lambda y:y.fillna(y.median()))\n",
    "titanic_sex_median_age"
   ]
  },
  {
   "cell_type": "markdown",
   "id": "de973eea",
   "metadata": {},
   "source": [
    "다중인덱스의 레벨 1에 위치한 `PassensgerId`를 기준으로 오름차순으로 정렬한다."
   ]
  },
  {
   "cell_type": "code",
   "execution_count": 25,
   "id": "94cfb70f",
   "metadata": {},
   "outputs": [
    {
     "data": {
      "text/plain": [
       "Sex     PassengerId\n",
       "male    1              22.0\n",
       "female  2              38.0\n",
       "        3              26.0\n",
       "        4              35.0\n",
       "male    5              35.0\n",
       "                       ... \n",
       "        887            27.0\n",
       "female  888            19.0\n",
       "        889            27.0\n",
       "male    890            26.0\n",
       "        891            32.0\n",
       "Name: Age, Length: 891, dtype: float64"
      ]
     },
     "execution_count": 25,
     "metadata": {},
     "output_type": "execute_result"
    }
   ],
   "source": [
    "titanic_sex_median_age = titanic_sex_median_age.sort_index(level=1)\n",
    "titanic_sex_median_age"
   ]
  },
  {
   "cell_type": "markdown",
   "id": "0ade6b47",
   "metadata": {},
   "source": [
    "`Age` 특성의 값을 새롭게 지정한다."
   ]
  },
  {
   "cell_type": "code",
   "execution_count": 26,
   "id": "4620dc7a",
   "metadata": {},
   "outputs": [],
   "source": [
    "titanic_sex_median.loc[:, 'Age'] = titanic_sex_median_age.values"
   ]
  },
  {
   "cell_type": "markdown",
   "id": "b7fceb93",
   "metadata": {},
   "source": [
    "모든 결측치가 사라졌음을 확인한다."
   ]
  },
  {
   "cell_type": "code",
   "execution_count": 27,
   "id": "998d4b03",
   "metadata": {},
   "outputs": [
    {
     "name": "stdout",
     "output_type": "stream",
     "text": [
      "<class 'pandas.core.frame.DataFrame'>\n",
      "Index: 891 entries, 1 to 891\n",
      "Data columns (total 3 columns):\n",
      " #   Column    Non-Null Count  Dtype  \n",
      "---  ------    --------------  -----  \n",
      " 0   Sex       891 non-null    object \n",
      " 1   Age       891 non-null    float64\n",
      " 2   Survived  891 non-null    int64  \n",
      "dtypes: float64(1), int64(1), object(1)\n",
      "memory usage: 27.8+ KB\n"
     ]
    }
   ],
   "source": [
    "titanic_sex_median.info()"
   ]
  },
  {
   "cell_type": "markdown",
   "id": "4dc5c568",
   "metadata": {},
   "source": [
    "## 연습문제"
   ]
  },
  {
   "cell_type": "markdown",
   "id": "36b24d98",
   "metadata": {},
   "source": [
    "`Age`의 결측치가 성별 중위연령으로 대체된 타이타닉 데이터셋을 이용한다."
   ]
  },
  {
   "cell_type": "code",
   "execution_count": 28,
   "id": "131bc079",
   "metadata": {},
   "outputs": [
    {
     "data": {
      "text/html": [
       "<div>\n",
       "<style scoped>\n",
       "    .dataframe tbody tr th:only-of-type {\n",
       "        vertical-align: middle;\n",
       "    }\n",
       "\n",
       "    .dataframe tbody tr th {\n",
       "        vertical-align: top;\n",
       "    }\n",
       "\n",
       "    .dataframe thead th {\n",
       "        text-align: right;\n",
       "    }\n",
       "</style>\n",
       "<table border=\"1\" class=\"dataframe\">\n",
       "  <thead>\n",
       "    <tr style=\"text-align: right;\">\n",
       "      <th></th>\n",
       "      <th>Sex</th>\n",
       "      <th>Age</th>\n",
       "      <th>Survived</th>\n",
       "    </tr>\n",
       "    <tr>\n",
       "      <th>PassengerId</th>\n",
       "      <th></th>\n",
       "      <th></th>\n",
       "      <th></th>\n",
       "    </tr>\n",
       "  </thead>\n",
       "  <tbody>\n",
       "    <tr>\n",
       "      <th>1</th>\n",
       "      <td>male</td>\n",
       "      <td>22.0</td>\n",
       "      <td>0</td>\n",
       "    </tr>\n",
       "    <tr>\n",
       "      <th>2</th>\n",
       "      <td>female</td>\n",
       "      <td>38.0</td>\n",
       "      <td>1</td>\n",
       "    </tr>\n",
       "    <tr>\n",
       "      <th>3</th>\n",
       "      <td>female</td>\n",
       "      <td>26.0</td>\n",
       "      <td>1</td>\n",
       "    </tr>\n",
       "    <tr>\n",
       "      <th>4</th>\n",
       "      <td>female</td>\n",
       "      <td>35.0</td>\n",
       "      <td>1</td>\n",
       "    </tr>\n",
       "    <tr>\n",
       "      <th>5</th>\n",
       "      <td>male</td>\n",
       "      <td>35.0</td>\n",
       "      <td>0</td>\n",
       "    </tr>\n",
       "    <tr>\n",
       "      <th>...</th>\n",
       "      <td>...</td>\n",
       "      <td>...</td>\n",
       "      <td>...</td>\n",
       "    </tr>\n",
       "    <tr>\n",
       "      <th>887</th>\n",
       "      <td>male</td>\n",
       "      <td>27.0</td>\n",
       "      <td>0</td>\n",
       "    </tr>\n",
       "    <tr>\n",
       "      <th>888</th>\n",
       "      <td>female</td>\n",
       "      <td>19.0</td>\n",
       "      <td>1</td>\n",
       "    </tr>\n",
       "    <tr>\n",
       "      <th>889</th>\n",
       "      <td>female</td>\n",
       "      <td>27.0</td>\n",
       "      <td>0</td>\n",
       "    </tr>\n",
       "    <tr>\n",
       "      <th>890</th>\n",
       "      <td>male</td>\n",
       "      <td>26.0</td>\n",
       "      <td>1</td>\n",
       "    </tr>\n",
       "    <tr>\n",
       "      <th>891</th>\n",
       "      <td>male</td>\n",
       "      <td>32.0</td>\n",
       "      <td>0</td>\n",
       "    </tr>\n",
       "  </tbody>\n",
       "</table>\n",
       "<p>891 rows × 3 columns</p>\n",
       "</div>"
      ],
      "text/plain": [
       "                Sex   Age  Survived\n",
       "PassengerId                        \n",
       "1              male  22.0         0\n",
       "2            female  38.0         1\n",
       "3            female  26.0         1\n",
       "4            female  35.0         1\n",
       "5              male  35.0         0\n",
       "...             ...   ...       ...\n",
       "887            male  27.0         0\n",
       "888          female  19.0         1\n",
       "889          female  27.0         0\n",
       "890            male  26.0         1\n",
       "891            male  32.0         0\n",
       "\n",
       "[891 rows x 3 columns]"
      ]
     },
     "execution_count": 28,
     "metadata": {},
     "output_type": "execute_result"
    }
   ],
   "source": [
    "titanic = titanic_sex_median\n",
    "titanic"
   ]
  },
  {
   "cell_type": "markdown",
   "id": "93eb640b",
   "metadata": {},
   "source": [
    "**문제 1**"
   ]
  },
  {
   "cell_type": "markdown",
   "id": "a04b0439",
   "metadata": {},
   "source": [
    "(1) 891명의 10%를 무작위로 추출했을 때의 성비율을 확인하는 코드를 작성하라."
   ]
  },
  {
   "cell_type": "code",
   "execution_count": null,
   "id": "bc2d284c",
   "metadata": {},
   "outputs": [],
   "source": [
    "# 코드를 작성한다.\n",
    "# 필요하면 코드셀 또는 텍스트셀을 추가할 수 있습니다.\n"
   ]
  },
  {
   "cell_type": "markdown",
   "id": "58bd2aaf",
   "metadata": {},
   "source": [
    "(2) 891명의 10%를 성비율을 반영하면서 층화표집으로 추출했을 때의 성비율을 확인하는 코드를 작성하라."
   ]
  },
  {
   "cell_type": "code",
   "execution_count": null,
   "id": "b548d194",
   "metadata": {},
   "outputs": [],
   "source": [
    "# 코드를 작성한다.\n",
    "# 필요하면 코드셀 또는 텍스트셀을 추가할 수 있습니다.\n"
   ]
  },
  {
   "cell_type": "markdown",
   "id": "b0d8f4c0",
   "metadata": {},
   "source": [
    "(3) 무작위 추출과 층화표집의 결과를 비교하는 데이터프레임을 생성하는 코드를 작성하라."
   ]
  },
  {
   "cell_type": "code",
   "execution_count": null,
   "id": "c7411208",
   "metadata": {},
   "outputs": [],
   "source": [
    "# 코드를 작성한다.\n",
    "# 필요하면 코드셀 또는 텍스트셀을 추가할 수 있습니다.\n"
   ]
  },
  {
   "cell_type": "markdown",
   "id": "46600e59",
   "metadata": {},
   "source": [
    "**문제 2**"
   ]
  },
  {
   "cell_type": "markdown",
   "id": "f5f40ee8",
   "metadata": {},
   "source": [
    "(1) `Age` 특성을 10살 단위로 구분하는 연령구간을 지정하여 `Age_Bucket` 특성으로 추가하는 코드를 작성하라."
   ]
  },
  {
   "cell_type": "code",
   "execution_count": null,
   "id": "50279c0c",
   "metadata": {},
   "outputs": [],
   "source": [
    "# 코드를 작성한다.\n",
    "# 필요하면 코드셀 또는 텍스트셀을 추가할 수 있습니다.\n"
   ]
  },
  {
   "cell_type": "markdown",
   "id": "c9cd4b05",
   "metadata": {},
   "source": [
    "(2) 추가된 연령구간 정보를 활용하여 891명의 10%를 층화표집하는 코드를 작성하라."
   ]
  },
  {
   "cell_type": "code",
   "execution_count": null,
   "id": "c6e6b974",
   "metadata": {},
   "outputs": [],
   "source": [
    "# 코드를 작성한다.\n",
    "# 필요하면 코드셀 또는 텍스트셀을 추가할 수 있습니다.\n"
   ]
  },
  {
   "cell_type": "markdown",
   "id": "e839eb38",
   "metadata": {},
   "source": [
    "(3) 층화표집의 결과와 무작위 추출의 결과를 비교하는 데이터프레임을 생성하는 코드를 작성하라."
   ]
  },
  {
   "cell_type": "code",
   "execution_count": null,
   "id": "8d4e31ab",
   "metadata": {},
   "outputs": [],
   "source": [
    "# 코드를 작성한다.\n",
    "# 필요하면 코드셀 또는 텍스트셀을 추가할 수 있습니다.\n"
   ]
  }
 ],
 "metadata": {
  "kernelspec": {
   "display_name": "Python 3 (ipykernel)",
   "language": "python",
   "name": "python3"
  },
  "language_info": {
   "codemirror_mode": {
    "name": "ipython",
    "version": 3
   },
   "file_extension": ".py",
   "mimetype": "text/x-python",
   "name": "python",
   "nbconvert_exporter": "python",
   "pygments_lexer": "ipython3",
   "version": "3.12.2"
  }
 },
 "nbformat": 4,
 "nbformat_minor": 5
}
