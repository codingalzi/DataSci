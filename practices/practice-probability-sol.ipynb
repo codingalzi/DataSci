{
 "cells": [
  {
   "cell_type": "markdown",
   "id": "f3c17522",
   "metadata": {},
   "source": [
    "# (연습) 확률 분포"
   ]
  },
  {
   "cell_type": "markdown",
   "id": "220a7368",
   "metadata": {},
   "source": [
    "**기본 설정**"
   ]
  },
  {
   "cell_type": "markdown",
   "id": "e8b69633",
   "metadata": {
    "ExecuteTime": {
     "end_time": "2018-08-03T08:26:15.690793Z",
     "start_time": "2018-08-03T08:26:15.507201Z"
    }
   },
   "source": [
    "Numpy와 Pandas 라이브러리를 각각 np와 pd로 불러온다."
   ]
  },
  {
   "cell_type": "code",
   "execution_count": 1,
   "id": "032780c8",
   "metadata": {
    "ExecuteTime": {
     "end_time": "2018-08-14T06:43:30.149227Z",
     "start_time": "2018-08-14T06:43:29.960007Z"
    }
   },
   "outputs": [],
   "source": [
    "import numpy as np\n",
    "import pandas as pd"
   ]
  },
  {
   "cell_type": "markdown",
   "id": "db6e5cc5",
   "metadata": {},
   "source": [
    "데이터프레임의 [chained indexing을 금지시키기 위한 설정](https://pandas.pydata.org/pandas-docs/stable/user_guide/indexing.html#returning-a-view-versus-a-copy)을 지정한다.\n",
    "Pandas 3.0 버전부터는 기본 옵션으로 지정된다."
   ]
  },
  {
   "cell_type": "code",
   "execution_count": 2,
   "id": "2e9572d2",
   "metadata": {},
   "outputs": [],
   "source": [
    "pd.options.mode.copy_on_write = True"
   ]
  },
  {
   "cell_type": "markdown",
   "id": "aac4264d",
   "metadata": {
    "ExecuteTime": {
     "end_time": "2018-08-14T06:43:30.149227Z",
     "start_time": "2018-08-14T06:43:29.960007Z"
    }
   },
   "source": [
    "주피터 노트북에서 부동소수점의 출력을 소수점 이하 6자리로 제한한다.\n",
    "아래 코드는 주피터 노트북에서만 사용하며 일반적인 파이썬 코드가 아니다."
   ]
  },
  {
   "cell_type": "code",
   "execution_count": 3,
   "id": "2de7da91",
   "metadata": {
    "ExecuteTime": {
     "end_time": "2018-08-14T06:43:30.149227Z",
     "start_time": "2018-08-14T06:43:29.960007Z"
    }
   },
   "outputs": [
    {
     "data": {
      "text/plain": [
       "'%.6f'"
      ]
     },
     "execution_count": 3,
     "metadata": {},
     "output_type": "execute_result"
    }
   ],
   "source": [
    "%precision 6"
   ]
  },
  {
   "cell_type": "markdown",
   "id": "630a1516",
   "metadata": {
    "ExecuteTime": {
     "end_time": "2018-08-14T06:43:30.149227Z",
     "start_time": "2018-08-14T06:43:29.960007Z"
    }
   },
   "source": [
    "아래 코드는 데이터프레임 내에서 부동소수점의 출력을 소수점 이하 6자리로 제한한다."
   ]
  },
  {
   "cell_type": "code",
   "execution_count": 4,
   "id": "81ce92bd",
   "metadata": {
    "ExecuteTime": {
     "end_time": "2018-08-14T06:43:30.149227Z",
     "start_time": "2018-08-14T06:43:29.960007Z"
    }
   },
   "outputs": [],
   "source": [
    "pd.set_option('display.precision', 6)"
   ]
  },
  {
   "cell_type": "markdown",
   "id": "c3c8a884",
   "metadata": {},
   "source": [
    "데이터 시각화를 위해 `matplotlib.pyplot`를 `plt`라는 별칭으로 불러온다."
   ]
  },
  {
   "cell_type": "code",
   "execution_count": 5,
   "id": "8221e367",
   "metadata": {},
   "outputs": [],
   "source": [
    "import matplotlib.pyplot as plt"
   ]
  },
  {
   "cell_type": "markdown",
   "id": "671fff9c",
   "metadata": {},
   "source": [
    "**데이터 저장소 디렉토리**"
   ]
  },
  {
   "cell_type": "markdown",
   "id": "191103b0",
   "metadata": {},
   "source": [
    "코드에 사용되는 [데이터 저장소의 기본 디렉토리](https://github.com/codingalzi/DataSci/tree/master/data)를 지정한다."
   ]
  },
  {
   "cell_type": "code",
   "execution_count": 6,
   "id": "a4960a37",
   "metadata": {},
   "outputs": [],
   "source": [
    "data_url = 'https://raw.githubusercontent.com/codingalzi/DataSci/refs/heads/master/data/'"
   ]
  },
  {
   "cell_type": "markdown",
   "id": "174bc1a3",
   "metadata": {
    "id": "D6CIjV_ICHko"
   },
   "source": [
    "## 타이타닉 데이터셋"
   ]
  },
  {
   "cell_type": "markdown",
   "id": "76396e14",
   "metadata": {},
   "source": [
    "타이타닉호의 승객에 대한 정보와 생존 여부를 담은 데이터셋을 불러온다."
   ]
  },
  {
   "cell_type": "code",
   "execution_count": 7,
   "id": "fef65c46",
   "metadata": {},
   "outputs": [],
   "source": [
    "titanic = pd.read_csv(data_url+\"titanic.csv\")"
   ]
  },
  {
   "cell_type": "markdown",
   "id": "cbcc251b",
   "metadata": {
    "id": "jmBPDayrCHko"
   },
   "source": [
    "각 생존자별로 12개의 정보가 포함된다."
   ]
  },
  {
   "cell_type": "markdown",
   "id": "977a45bb",
   "metadata": {
    "id": "fV1lT2IDCHkp"
   },
   "source": [
    "| 특성 | 의미 |\n",
    "| :--- | :--- |\n",
    "| PassengerId  | 승객 번호 |\n",
    "| Survived | 생존 여부. 0 또는 1. 1일 때 생존 |\n",
    "| Pclass | 승객 클래스 |\n",
    "| Name | 승객 이름 |\n",
    "| Sex | 승객의 성 |\n",
    "| Age | 승객 나이 |\n",
    "| SibSp | 타이타닉에 함께 승선한 형제자매와 배우자의 수 |\n",
    "| Parch | 타이타닉에 함께 승선한 자녀와 부모의 수 |\n",
    "| Ticket | 티켓 번호 |\n",
    "| Fare | 티켓 요금(영구 파운드화) |\n",
    "| Cabin | 객실 번호 |\n",
    "| Embarked | 승객이 타이타닉호에 승선한 항구 |\n",
    "| | C=Cherbourg, Q=Queenstown, S=Southampton |"
   ]
  },
  {
   "cell_type": "code",
   "execution_count": 8,
   "id": "a0bd3dc4",
   "metadata": {},
   "outputs": [
    {
     "data": {
      "text/html": [
       "<div>\n",
       "<style scoped>\n",
       "    .dataframe tbody tr th:only-of-type {\n",
       "        vertical-align: middle;\n",
       "    }\n",
       "\n",
       "    .dataframe tbody tr th {\n",
       "        vertical-align: top;\n",
       "    }\n",
       "\n",
       "    .dataframe thead th {\n",
       "        text-align: right;\n",
       "    }\n",
       "</style>\n",
       "<table border=\"1\" class=\"dataframe\">\n",
       "  <thead>\n",
       "    <tr style=\"text-align: right;\">\n",
       "      <th></th>\n",
       "      <th>PassengerId</th>\n",
       "      <th>Survived</th>\n",
       "      <th>Pclass</th>\n",
       "      <th>Name</th>\n",
       "      <th>Sex</th>\n",
       "      <th>Age</th>\n",
       "      <th>SibSp</th>\n",
       "      <th>Parch</th>\n",
       "      <th>Ticket</th>\n",
       "      <th>Fare</th>\n",
       "      <th>Cabin</th>\n",
       "      <th>Embarked</th>\n",
       "    </tr>\n",
       "  </thead>\n",
       "  <tbody>\n",
       "    <tr>\n",
       "      <th>0</th>\n",
       "      <td>1</td>\n",
       "      <td>0</td>\n",
       "      <td>3</td>\n",
       "      <td>Braund, Mr. Owen Harris</td>\n",
       "      <td>male</td>\n",
       "      <td>22.0</td>\n",
       "      <td>1</td>\n",
       "      <td>0</td>\n",
       "      <td>A/5 21171</td>\n",
       "      <td>7.2500</td>\n",
       "      <td>NaN</td>\n",
       "      <td>S</td>\n",
       "    </tr>\n",
       "    <tr>\n",
       "      <th>1</th>\n",
       "      <td>2</td>\n",
       "      <td>1</td>\n",
       "      <td>1</td>\n",
       "      <td>Cumings, Mrs. John Bradley (Florence Briggs Th...</td>\n",
       "      <td>female</td>\n",
       "      <td>38.0</td>\n",
       "      <td>1</td>\n",
       "      <td>0</td>\n",
       "      <td>PC 17599</td>\n",
       "      <td>71.2833</td>\n",
       "      <td>C85</td>\n",
       "      <td>C</td>\n",
       "    </tr>\n",
       "    <tr>\n",
       "      <th>2</th>\n",
       "      <td>3</td>\n",
       "      <td>1</td>\n",
       "      <td>3</td>\n",
       "      <td>Heikkinen, Miss. Laina</td>\n",
       "      <td>female</td>\n",
       "      <td>26.0</td>\n",
       "      <td>0</td>\n",
       "      <td>0</td>\n",
       "      <td>STON/O2. 3101282</td>\n",
       "      <td>7.9250</td>\n",
       "      <td>NaN</td>\n",
       "      <td>S</td>\n",
       "    </tr>\n",
       "    <tr>\n",
       "      <th>3</th>\n",
       "      <td>4</td>\n",
       "      <td>1</td>\n",
       "      <td>1</td>\n",
       "      <td>Futrelle, Mrs. Jacques Heath (Lily May Peel)</td>\n",
       "      <td>female</td>\n",
       "      <td>35.0</td>\n",
       "      <td>1</td>\n",
       "      <td>0</td>\n",
       "      <td>113803</td>\n",
       "      <td>53.1000</td>\n",
       "      <td>C123</td>\n",
       "      <td>S</td>\n",
       "    </tr>\n",
       "    <tr>\n",
       "      <th>4</th>\n",
       "      <td>5</td>\n",
       "      <td>0</td>\n",
       "      <td>3</td>\n",
       "      <td>Allen, Mr. William Henry</td>\n",
       "      <td>male</td>\n",
       "      <td>35.0</td>\n",
       "      <td>0</td>\n",
       "      <td>0</td>\n",
       "      <td>373450</td>\n",
       "      <td>8.0500</td>\n",
       "      <td>NaN</td>\n",
       "      <td>S</td>\n",
       "    </tr>\n",
       "    <tr>\n",
       "      <th>...</th>\n",
       "      <td>...</td>\n",
       "      <td>...</td>\n",
       "      <td>...</td>\n",
       "      <td>...</td>\n",
       "      <td>...</td>\n",
       "      <td>...</td>\n",
       "      <td>...</td>\n",
       "      <td>...</td>\n",
       "      <td>...</td>\n",
       "      <td>...</td>\n",
       "      <td>...</td>\n",
       "      <td>...</td>\n",
       "    </tr>\n",
       "    <tr>\n",
       "      <th>886</th>\n",
       "      <td>887</td>\n",
       "      <td>0</td>\n",
       "      <td>2</td>\n",
       "      <td>Montvila, Rev. Juozas</td>\n",
       "      <td>male</td>\n",
       "      <td>27.0</td>\n",
       "      <td>0</td>\n",
       "      <td>0</td>\n",
       "      <td>211536</td>\n",
       "      <td>13.0000</td>\n",
       "      <td>NaN</td>\n",
       "      <td>S</td>\n",
       "    </tr>\n",
       "    <tr>\n",
       "      <th>887</th>\n",
       "      <td>888</td>\n",
       "      <td>1</td>\n",
       "      <td>1</td>\n",
       "      <td>Graham, Miss. Margaret Edith</td>\n",
       "      <td>female</td>\n",
       "      <td>19.0</td>\n",
       "      <td>0</td>\n",
       "      <td>0</td>\n",
       "      <td>112053</td>\n",
       "      <td>30.0000</td>\n",
       "      <td>B42</td>\n",
       "      <td>S</td>\n",
       "    </tr>\n",
       "    <tr>\n",
       "      <th>888</th>\n",
       "      <td>889</td>\n",
       "      <td>0</td>\n",
       "      <td>3</td>\n",
       "      <td>Johnston, Miss. Catherine Helen \"Carrie\"</td>\n",
       "      <td>female</td>\n",
       "      <td>NaN</td>\n",
       "      <td>1</td>\n",
       "      <td>2</td>\n",
       "      <td>W./C. 6607</td>\n",
       "      <td>23.4500</td>\n",
       "      <td>NaN</td>\n",
       "      <td>S</td>\n",
       "    </tr>\n",
       "    <tr>\n",
       "      <th>889</th>\n",
       "      <td>890</td>\n",
       "      <td>1</td>\n",
       "      <td>1</td>\n",
       "      <td>Behr, Mr. Karl Howell</td>\n",
       "      <td>male</td>\n",
       "      <td>26.0</td>\n",
       "      <td>0</td>\n",
       "      <td>0</td>\n",
       "      <td>111369</td>\n",
       "      <td>30.0000</td>\n",
       "      <td>C148</td>\n",
       "      <td>C</td>\n",
       "    </tr>\n",
       "    <tr>\n",
       "      <th>890</th>\n",
       "      <td>891</td>\n",
       "      <td>0</td>\n",
       "      <td>3</td>\n",
       "      <td>Dooley, Mr. Patrick</td>\n",
       "      <td>male</td>\n",
       "      <td>32.0</td>\n",
       "      <td>0</td>\n",
       "      <td>0</td>\n",
       "      <td>370376</td>\n",
       "      <td>7.7500</td>\n",
       "      <td>NaN</td>\n",
       "      <td>Q</td>\n",
       "    </tr>\n",
       "  </tbody>\n",
       "</table>\n",
       "<p>891 rows × 12 columns</p>\n",
       "</div>"
      ],
      "text/plain": [
       "     PassengerId  Survived  Pclass  \\\n",
       "0              1         0       3   \n",
       "1              2         1       1   \n",
       "2              3         1       3   \n",
       "3              4         1       1   \n",
       "4              5         0       3   \n",
       "..           ...       ...     ...   \n",
       "886          887         0       2   \n",
       "887          888         1       1   \n",
       "888          889         0       3   \n",
       "889          890         1       1   \n",
       "890          891         0       3   \n",
       "\n",
       "                                                  Name     Sex   Age  SibSp  \\\n",
       "0                              Braund, Mr. Owen Harris    male  22.0      1   \n",
       "1    Cumings, Mrs. John Bradley (Florence Briggs Th...  female  38.0      1   \n",
       "2                               Heikkinen, Miss. Laina  female  26.0      0   \n",
       "3         Futrelle, Mrs. Jacques Heath (Lily May Peel)  female  35.0      1   \n",
       "4                             Allen, Mr. William Henry    male  35.0      0   \n",
       "..                                                 ...     ...   ...    ...   \n",
       "886                              Montvila, Rev. Juozas    male  27.0      0   \n",
       "887                       Graham, Miss. Margaret Edith  female  19.0      0   \n",
       "888           Johnston, Miss. Catherine Helen \"Carrie\"  female   NaN      1   \n",
       "889                              Behr, Mr. Karl Howell    male  26.0      0   \n",
       "890                                Dooley, Mr. Patrick    male  32.0      0   \n",
       "\n",
       "     Parch            Ticket     Fare Cabin Embarked  \n",
       "0        0         A/5 21171   7.2500   NaN        S  \n",
       "1        0          PC 17599  71.2833   C85        C  \n",
       "2        0  STON/O2. 3101282   7.9250   NaN        S  \n",
       "3        0            113803  53.1000  C123        S  \n",
       "4        0            373450   8.0500   NaN        S  \n",
       "..     ...               ...      ...   ...      ...  \n",
       "886      0            211536  13.0000   NaN        S  \n",
       "887      0            112053  30.0000   B42        S  \n",
       "888      2        W./C. 6607  23.4500   NaN        S  \n",
       "889      0            111369  30.0000  C148        C  \n",
       "890      0            370376   7.7500   NaN        Q  \n",
       "\n",
       "[891 rows x 12 columns]"
      ]
     },
     "execution_count": 8,
     "metadata": {},
     "output_type": "execute_result"
    }
   ],
   "source": [
    "titanic"
   ]
  },
  {
   "cell_type": "markdown",
   "id": "f18bba27",
   "metadata": {},
   "source": [
    "**인덱스 변경**"
   ]
  },
  {
   "cell_type": "markdown",
   "id": "1938bfbb",
   "metadata": {
    "id": "eRx0DUoGCHkp"
   },
   "source": [
    "먼저 `PassengerId` 특성을 인덱스로 지정한다."
   ]
  },
  {
   "cell_type": "code",
   "execution_count": 9,
   "id": "76b37ba2",
   "metadata": {
    "id": "GJWtfiXqCHkp"
   },
   "outputs": [],
   "source": [
    "titanic = titanic.set_index(\"PassengerId\")"
   ]
  },
  {
   "cell_type": "code",
   "execution_count": 10,
   "id": "5c7ccf06",
   "metadata": {},
   "outputs": [
    {
     "data": {
      "text/html": [
       "<div>\n",
       "<style scoped>\n",
       "    .dataframe tbody tr th:only-of-type {\n",
       "        vertical-align: middle;\n",
       "    }\n",
       "\n",
       "    .dataframe tbody tr th {\n",
       "        vertical-align: top;\n",
       "    }\n",
       "\n",
       "    .dataframe thead th {\n",
       "        text-align: right;\n",
       "    }\n",
       "</style>\n",
       "<table border=\"1\" class=\"dataframe\">\n",
       "  <thead>\n",
       "    <tr style=\"text-align: right;\">\n",
       "      <th></th>\n",
       "      <th>Survived</th>\n",
       "      <th>Pclass</th>\n",
       "      <th>Name</th>\n",
       "      <th>Sex</th>\n",
       "      <th>Age</th>\n",
       "      <th>SibSp</th>\n",
       "      <th>Parch</th>\n",
       "      <th>Ticket</th>\n",
       "      <th>Fare</th>\n",
       "      <th>Cabin</th>\n",
       "      <th>Embarked</th>\n",
       "    </tr>\n",
       "    <tr>\n",
       "      <th>PassengerId</th>\n",
       "      <th></th>\n",
       "      <th></th>\n",
       "      <th></th>\n",
       "      <th></th>\n",
       "      <th></th>\n",
       "      <th></th>\n",
       "      <th></th>\n",
       "      <th></th>\n",
       "      <th></th>\n",
       "      <th></th>\n",
       "      <th></th>\n",
       "    </tr>\n",
       "  </thead>\n",
       "  <tbody>\n",
       "    <tr>\n",
       "      <th>1</th>\n",
       "      <td>0</td>\n",
       "      <td>3</td>\n",
       "      <td>Braund, Mr. Owen Harris</td>\n",
       "      <td>male</td>\n",
       "      <td>22.0</td>\n",
       "      <td>1</td>\n",
       "      <td>0</td>\n",
       "      <td>A/5 21171</td>\n",
       "      <td>7.2500</td>\n",
       "      <td>NaN</td>\n",
       "      <td>S</td>\n",
       "    </tr>\n",
       "    <tr>\n",
       "      <th>2</th>\n",
       "      <td>1</td>\n",
       "      <td>1</td>\n",
       "      <td>Cumings, Mrs. John Bradley (Florence Briggs Th...</td>\n",
       "      <td>female</td>\n",
       "      <td>38.0</td>\n",
       "      <td>1</td>\n",
       "      <td>0</td>\n",
       "      <td>PC 17599</td>\n",
       "      <td>71.2833</td>\n",
       "      <td>C85</td>\n",
       "      <td>C</td>\n",
       "    </tr>\n",
       "    <tr>\n",
       "      <th>3</th>\n",
       "      <td>1</td>\n",
       "      <td>3</td>\n",
       "      <td>Heikkinen, Miss. Laina</td>\n",
       "      <td>female</td>\n",
       "      <td>26.0</td>\n",
       "      <td>0</td>\n",
       "      <td>0</td>\n",
       "      <td>STON/O2. 3101282</td>\n",
       "      <td>7.9250</td>\n",
       "      <td>NaN</td>\n",
       "      <td>S</td>\n",
       "    </tr>\n",
       "    <tr>\n",
       "      <th>4</th>\n",
       "      <td>1</td>\n",
       "      <td>1</td>\n",
       "      <td>Futrelle, Mrs. Jacques Heath (Lily May Peel)</td>\n",
       "      <td>female</td>\n",
       "      <td>35.0</td>\n",
       "      <td>1</td>\n",
       "      <td>0</td>\n",
       "      <td>113803</td>\n",
       "      <td>53.1000</td>\n",
       "      <td>C123</td>\n",
       "      <td>S</td>\n",
       "    </tr>\n",
       "    <tr>\n",
       "      <th>5</th>\n",
       "      <td>0</td>\n",
       "      <td>3</td>\n",
       "      <td>Allen, Mr. William Henry</td>\n",
       "      <td>male</td>\n",
       "      <td>35.0</td>\n",
       "      <td>0</td>\n",
       "      <td>0</td>\n",
       "      <td>373450</td>\n",
       "      <td>8.0500</td>\n",
       "      <td>NaN</td>\n",
       "      <td>S</td>\n",
       "    </tr>\n",
       "    <tr>\n",
       "      <th>...</th>\n",
       "      <td>...</td>\n",
       "      <td>...</td>\n",
       "      <td>...</td>\n",
       "      <td>...</td>\n",
       "      <td>...</td>\n",
       "      <td>...</td>\n",
       "      <td>...</td>\n",
       "      <td>...</td>\n",
       "      <td>...</td>\n",
       "      <td>...</td>\n",
       "      <td>...</td>\n",
       "    </tr>\n",
       "    <tr>\n",
       "      <th>887</th>\n",
       "      <td>0</td>\n",
       "      <td>2</td>\n",
       "      <td>Montvila, Rev. Juozas</td>\n",
       "      <td>male</td>\n",
       "      <td>27.0</td>\n",
       "      <td>0</td>\n",
       "      <td>0</td>\n",
       "      <td>211536</td>\n",
       "      <td>13.0000</td>\n",
       "      <td>NaN</td>\n",
       "      <td>S</td>\n",
       "    </tr>\n",
       "    <tr>\n",
       "      <th>888</th>\n",
       "      <td>1</td>\n",
       "      <td>1</td>\n",
       "      <td>Graham, Miss. Margaret Edith</td>\n",
       "      <td>female</td>\n",
       "      <td>19.0</td>\n",
       "      <td>0</td>\n",
       "      <td>0</td>\n",
       "      <td>112053</td>\n",
       "      <td>30.0000</td>\n",
       "      <td>B42</td>\n",
       "      <td>S</td>\n",
       "    </tr>\n",
       "    <tr>\n",
       "      <th>889</th>\n",
       "      <td>0</td>\n",
       "      <td>3</td>\n",
       "      <td>Johnston, Miss. Catherine Helen \"Carrie\"</td>\n",
       "      <td>female</td>\n",
       "      <td>NaN</td>\n",
       "      <td>1</td>\n",
       "      <td>2</td>\n",
       "      <td>W./C. 6607</td>\n",
       "      <td>23.4500</td>\n",
       "      <td>NaN</td>\n",
       "      <td>S</td>\n",
       "    </tr>\n",
       "    <tr>\n",
       "      <th>890</th>\n",
       "      <td>1</td>\n",
       "      <td>1</td>\n",
       "      <td>Behr, Mr. Karl Howell</td>\n",
       "      <td>male</td>\n",
       "      <td>26.0</td>\n",
       "      <td>0</td>\n",
       "      <td>0</td>\n",
       "      <td>111369</td>\n",
       "      <td>30.0000</td>\n",
       "      <td>C148</td>\n",
       "      <td>C</td>\n",
       "    </tr>\n",
       "    <tr>\n",
       "      <th>891</th>\n",
       "      <td>0</td>\n",
       "      <td>3</td>\n",
       "      <td>Dooley, Mr. Patrick</td>\n",
       "      <td>male</td>\n",
       "      <td>32.0</td>\n",
       "      <td>0</td>\n",
       "      <td>0</td>\n",
       "      <td>370376</td>\n",
       "      <td>7.7500</td>\n",
       "      <td>NaN</td>\n",
       "      <td>Q</td>\n",
       "    </tr>\n",
       "  </tbody>\n",
       "</table>\n",
       "<p>891 rows × 11 columns</p>\n",
       "</div>"
      ],
      "text/plain": [
       "             Survived  Pclass  \\\n",
       "PassengerId                     \n",
       "1                   0       3   \n",
       "2                   1       1   \n",
       "3                   1       3   \n",
       "4                   1       1   \n",
       "5                   0       3   \n",
       "...               ...     ...   \n",
       "887                 0       2   \n",
       "888                 1       1   \n",
       "889                 0       3   \n",
       "890                 1       1   \n",
       "891                 0       3   \n",
       "\n",
       "                                                          Name     Sex   Age  \\\n",
       "PassengerId                                                                    \n",
       "1                                      Braund, Mr. Owen Harris    male  22.0   \n",
       "2            Cumings, Mrs. John Bradley (Florence Briggs Th...  female  38.0   \n",
       "3                                       Heikkinen, Miss. Laina  female  26.0   \n",
       "4                 Futrelle, Mrs. Jacques Heath (Lily May Peel)  female  35.0   \n",
       "5                                     Allen, Mr. William Henry    male  35.0   \n",
       "...                                                        ...     ...   ...   \n",
       "887                                      Montvila, Rev. Juozas    male  27.0   \n",
       "888                               Graham, Miss. Margaret Edith  female  19.0   \n",
       "889                   Johnston, Miss. Catherine Helen \"Carrie\"  female   NaN   \n",
       "890                                      Behr, Mr. Karl Howell    male  26.0   \n",
       "891                                        Dooley, Mr. Patrick    male  32.0   \n",
       "\n",
       "             SibSp  Parch            Ticket     Fare Cabin Embarked  \n",
       "PassengerId                                                          \n",
       "1                1      0         A/5 21171   7.2500   NaN        S  \n",
       "2                1      0          PC 17599  71.2833   C85        C  \n",
       "3                0      0  STON/O2. 3101282   7.9250   NaN        S  \n",
       "4                1      0            113803  53.1000  C123        S  \n",
       "5                0      0            373450   8.0500   NaN        S  \n",
       "...            ...    ...               ...      ...   ...      ...  \n",
       "887              0      0            211536  13.0000   NaN        S  \n",
       "888              0      0            112053  30.0000   B42        S  \n",
       "889              1      2        W./C. 6607  23.4500   NaN        S  \n",
       "890              0      0            111369  30.0000  C148        C  \n",
       "891              0      0            370376   7.7500   NaN        Q  \n",
       "\n",
       "[891 rows x 11 columns]"
      ]
     },
     "execution_count": 10,
     "metadata": {},
     "output_type": "execute_result"
    }
   ],
   "source": [
    "titanic"
   ]
  },
  {
   "cell_type": "markdown",
   "id": "6966ea88",
   "metadata": {},
   "source": [
    "**데이터분석 목표**"
   ]
  },
  {
   "cell_type": "markdown",
   "id": "5107e220",
   "metadata": {
    "id": "31K386I3CHkp"
   },
   "source": [
    "승객의 생존에 영향을 많이 끼친 특성을 파악한다. "
   ]
  },
  {
   "cell_type": "markdown",
   "id": "45a8cb79",
   "metadata": {},
   "source": [
    "### 결측치 처리"
   ]
  },
  {
   "cell_type": "markdown",
   "id": "832aaf35",
   "metadata": {
    "id": "eOjrhiv9CHkp"
   },
   "source": [
    "**결측치 확인**"
   ]
  },
  {
   "cell_type": "markdown",
   "id": "d5d18fc2",
   "metadata": {},
   "source": [
    "데이터셋의 크기인 891보다 적은 수의 `non-null` 값을 갖는 특성에 결측치가 존재한다.\n",
    "데이터프레임의 `info()` 메서드로 확인하면 `Age`, `Cabin`, `Embarked` 특성에 \n",
    "아래 표에 언급된 만큼의 결측치가 포함된다.\n",
    "\n",
    "| 특성 | 결측치 수 |\n",
    "| :--- | :---: |\n",
    "| `Age` | 177 |\n",
    "| `Cabin` | 687 |\n",
    "| `Embarked` | 2 |"
   ]
  },
  {
   "cell_type": "code",
   "execution_count": 11,
   "id": "d620203b",
   "metadata": {
    "id": "e6D2Qi0SCHkp",
    "outputId": "276ec52e-de15-4981-d257-c4c9a13dbad2"
   },
   "outputs": [
    {
     "name": "stdout",
     "output_type": "stream",
     "text": [
      "<class 'pandas.core.frame.DataFrame'>\n",
      "Index: 891 entries, 1 to 891\n",
      "Data columns (total 11 columns):\n",
      " #   Column    Non-Null Count  Dtype  \n",
      "---  ------    --------------  -----  \n",
      " 0   Survived  891 non-null    int64  \n",
      " 1   Pclass    891 non-null    int64  \n",
      " 2   Name      891 non-null    object \n",
      " 3   Sex       891 non-null    object \n",
      " 4   Age       714 non-null    float64\n",
      " 5   SibSp     891 non-null    int64  \n",
      " 6   Parch     891 non-null    int64  \n",
      " 7   Ticket    891 non-null    object \n",
      " 8   Fare      891 non-null    float64\n",
      " 9   Cabin     204 non-null    object \n",
      " 10  Embarked  889 non-null    object \n",
      "dtypes: float64(2), int64(4), object(5)\n",
      "memory usage: 83.5+ KB\n"
     ]
    }
   ],
   "source": [
    "titanic.info()"
   ]
  },
  {
   "cell_type": "markdown",
   "id": "1d968ef1",
   "metadata": {},
   "source": [
    "- `Cabin` 특성 결측치: \n",
    "    - 약 77%가 결측치다.\n",
    "    - 이처럼 결측치의 비율이 너무 큰 경우엔 해당 특성을 무시하는 게 좋다.\n",
    "- `Age` 특성 결측치\n",
    "    - 보통 평균값 또는 중앙값으로 대체한다.\n",
    "    - 경우에 따라 성별 또는 나이대별 나이의 평균값, 중앙값 등으로 대체하기도 한다.\n",
    "    - 어떤 방식이 데이터분석의 목적에 보다 적합한가는 미리 알 수 없다.\n",
    "- `Embarked` 특성 결측치\n",
    "    - 범주형 특성의 결측치는 일반적으로 최빈값으로 대체한다.\n",
    "    - 게다가 결측치가 2개밖에 없기에 최빈값으로 대체해도 데이터분석에 별 영향을 주지 않을 것이다."
   ]
  },
  {
   "cell_type": "markdown",
   "id": "6ee4f90b",
   "metadata": {},
   "source": [
    "**`Embarked` 특성 결측치 처리**"
   ]
  },
  {
   "cell_type": "markdown",
   "id": "22528531",
   "metadata": {},
   "source": [
    "`Embarked` 특성의 결측치를 모두 해당 특성의 최빈값으로 대체한다."
   ]
  },
  {
   "cell_type": "code",
   "execution_count": 12,
   "id": "6b52c088",
   "metadata": {},
   "outputs": [
    {
     "data": {
      "text/plain": [
       "'S'"
      ]
     },
     "execution_count": 12,
     "metadata": {},
     "output_type": "execute_result"
    }
   ],
   "source": [
    "embarked_mode =(titanic['Embarked'].mode().values)[0]\n",
    "embarked_mode"
   ]
  },
  {
   "cell_type": "code",
   "execution_count": 13,
   "id": "a90ac8cd",
   "metadata": {},
   "outputs": [],
   "source": [
    "titanic['Embarked'] = titanic['Embarked'].fillna(embarked_mode)"
   ]
  },
  {
   "cell_type": "markdown",
   "id": "6b643471",
   "metadata": {},
   "source": [
    "`Embarked` 특성의 결측치는 이제 더 이상 없다."
   ]
  },
  {
   "cell_type": "code",
   "execution_count": 14,
   "id": "cd5ee20d",
   "metadata": {},
   "outputs": [
    {
     "name": "stdout",
     "output_type": "stream",
     "text": [
      "<class 'pandas.core.frame.DataFrame'>\n",
      "Index: 891 entries, 1 to 891\n",
      "Data columns (total 11 columns):\n",
      " #   Column    Non-Null Count  Dtype  \n",
      "---  ------    --------------  -----  \n",
      " 0   Survived  891 non-null    int64  \n",
      " 1   Pclass    891 non-null    int64  \n",
      " 2   Name      891 non-null    object \n",
      " 3   Sex       891 non-null    object \n",
      " 4   Age       714 non-null    float64\n",
      " 5   SibSp     891 non-null    int64  \n",
      " 6   Parch     891 non-null    int64  \n",
      " 7   Ticket    891 non-null    object \n",
      " 8   Fare      891 non-null    float64\n",
      " 9   Cabin     204 non-null    object \n",
      " 10  Embarked  891 non-null    object \n",
      "dtypes: float64(2), int64(4), object(5)\n",
      "memory usage: 83.5+ KB\n"
     ]
    }
   ],
   "source": [
    "titanic.info()"
   ]
  },
  {
   "cell_type": "markdown",
   "id": "fd307f3c",
   "metadata": {},
   "source": [
    "**`Age` 특성 결측치 처리 방법 1: 특성 중앙값 활용**"
   ]
  },
  {
   "cell_type": "markdown",
   "id": "b6e2b4e5",
   "metadata": {},
   "source": [
    "`Age` 특성의 결측치를 다양한 방식으로 채운다.\n",
    "따라서 `titanic` 데이터셋의  원본을 그대로 두고 복제해서 사용한다."
   ]
  },
  {
   "cell_type": "code",
   "execution_count": 15,
   "id": "443b2f3e",
   "metadata": {},
   "outputs": [],
   "source": [
    "titanic_median = titanic.copy()"
   ]
  },
  {
   "cell_type": "markdown",
   "id": "76b3f263",
   "metadata": {},
   "source": [
    "`Age` 특성의 결측치를 모두 해당 특성의 중앙값으로 대체한다."
   ]
  },
  {
   "cell_type": "code",
   "execution_count": 16,
   "id": "13df4cba",
   "metadata": {},
   "outputs": [
    {
     "data": {
      "text/plain": [
       "28.000000"
      ]
     },
     "execution_count": 16,
     "metadata": {},
     "output_type": "execute_result"
    }
   ],
   "source": [
    "age_median =titanic_median['Age'].median()\n",
    "age_median"
   ]
  },
  {
   "cell_type": "code",
   "execution_count": 17,
   "id": "9fac2e40",
   "metadata": {},
   "outputs": [],
   "source": [
    "titanic_median['Age'] = titanic_median['Age'].fillna(age_median)"
   ]
  },
  {
   "cell_type": "code",
   "execution_count": 18,
   "id": "45fccd0c",
   "metadata": {},
   "outputs": [
    {
     "name": "stdout",
     "output_type": "stream",
     "text": [
      "<class 'pandas.core.frame.DataFrame'>\n",
      "Index: 891 entries, 1 to 891\n",
      "Data columns (total 11 columns):\n",
      " #   Column    Non-Null Count  Dtype  \n",
      "---  ------    --------------  -----  \n",
      " 0   Survived  891 non-null    int64  \n",
      " 1   Pclass    891 non-null    int64  \n",
      " 2   Name      891 non-null    object \n",
      " 3   Sex       891 non-null    object \n",
      " 4   Age       891 non-null    float64\n",
      " 5   SibSp     891 non-null    int64  \n",
      " 6   Parch     891 non-null    int64  \n",
      " 7   Ticket    891 non-null    object \n",
      " 8   Fare      891 non-null    float64\n",
      " 9   Cabin     204 non-null    object \n",
      " 10  Embarked  891 non-null    object \n",
      "dtypes: float64(2), int64(4), object(5)\n",
      "memory usage: 83.5+ KB\n"
     ]
    }
   ],
   "source": [
    "titanic_median.info()"
   ]
  },
  {
   "cell_type": "markdown",
   "id": "bcc06a50",
   "metadata": {},
   "source": [
    "**`Age` 특성 결측치 처리 방법 2: 성(Sex)별 중앙값 활용**"
   ]
  },
  {
   "cell_type": "markdown",
   "id": "936920b8",
   "metadata": {},
   "source": [
    "- 방식 1: 부울 인덱싱 활용"
   ]
  },
  {
   "cell_type": "markdown",
   "id": "98e550ba",
   "metadata": {},
   "source": [
    "먼저 타이타닉 데이터셋을 복제한다."
   ]
  },
  {
   "cell_type": "code",
   "execution_count": 19,
   "id": "8bb1ccba",
   "metadata": {},
   "outputs": [],
   "source": [
    "titanic_sex_median = titanic.copy()"
   ]
  },
  {
   "cell_type": "markdown",
   "id": "bdecab4b",
   "metadata": {},
   "source": [
    "여성과 남성의 중위연령을 확인한다."
   ]
  },
  {
   "cell_type": "code",
   "execution_count": 20,
   "id": "60db2701",
   "metadata": {
    "id": "MsW2LgtqCHkp",
    "outputId": "fbe7fbdc-d825-4993-faf9-e401d9ad39e2"
   },
   "outputs": [
    {
     "name": "stdout",
     "output_type": "stream",
     "text": [
      "여성 평균연령: 27.0\n"
     ]
    }
   ],
   "source": [
    "f_mask = titanic_sex_median[\"Sex\"]==\"female\"\n",
    "f_age_median = titanic_sex_median.loc[f_mask, \"Age\"].median()\n",
    "print(\"여성 평균연령:\", f_age_median)"
   ]
  },
  {
   "cell_type": "code",
   "execution_count": 21,
   "id": "f5930cfe",
   "metadata": {
    "id": "MsW2LgtqCHkp",
    "outputId": "fbe7fbdc-d825-4993-faf9-e401d9ad39e2"
   },
   "outputs": [
    {
     "name": "stdout",
     "output_type": "stream",
     "text": [
      "남성 평균연령: 29.0\n"
     ]
    }
   ],
   "source": [
    "m_mask = titanic_sex_median[\"Sex\"]==\"male\"\n",
    "m_age_median = titanic_sex_median.loc[m_mask, \"Age\"].median()\n",
    "print(\"남성 평균연령:\", m_age_median)"
   ]
  },
  {
   "cell_type": "markdown",
   "id": "f8093527",
   "metadata": {},
   "source": [
    "부울 인덱싱으로 남녀별로 각각의 중위값으로 결측치를 대체한다."
   ]
  },
  {
   "cell_type": "code",
   "execution_count": 22,
   "id": "29c1cc85",
   "metadata": {},
   "outputs": [],
   "source": [
    "titanic_sex_median.loc[f_mask, 'Age'] = titanic_sex_median.loc[f_mask, 'Age'].fillna(f_age_median)\n",
    "titanic_sex_median.loc[m_mask, 'Age'] = titanic_sex_median.loc[m_mask, 'Age'].fillna(m_age_median)"
   ]
  },
  {
   "cell_type": "markdown",
   "id": "3de4033c",
   "metadata": {},
   "source": [
    "`Cabin` 특성을 제외한 모든 결측치가 사라졌음을 확인한다."
   ]
  },
  {
   "cell_type": "code",
   "execution_count": 23,
   "id": "9c62b9d9",
   "metadata": {},
   "outputs": [
    {
     "name": "stdout",
     "output_type": "stream",
     "text": [
      "<class 'pandas.core.frame.DataFrame'>\n",
      "Index: 891 entries, 1 to 891\n",
      "Data columns (total 11 columns):\n",
      " #   Column    Non-Null Count  Dtype  \n",
      "---  ------    --------------  -----  \n",
      " 0   Survived  891 non-null    int64  \n",
      " 1   Pclass    891 non-null    int64  \n",
      " 2   Name      891 non-null    object \n",
      " 3   Sex       891 non-null    object \n",
      " 4   Age       891 non-null    float64\n",
      " 5   SibSp     891 non-null    int64  \n",
      " 6   Parch     891 non-null    int64  \n",
      " 7   Ticket    891 non-null    object \n",
      " 8   Fare      891 non-null    float64\n",
      " 9   Cabin     204 non-null    object \n",
      " 10  Embarked  891 non-null    object \n",
      "dtypes: float64(2), int64(4), object(5)\n",
      "memory usage: 83.5+ KB\n"
     ]
    }
   ],
   "source": [
    "titanic_sex_median.info()"
   ]
  },
  {
   "cell_type": "markdown",
   "id": "714d689c",
   "metadata": {},
   "source": [
    "- 방식 2: `groupby()` 활용"
   ]
  },
  {
   "cell_type": "markdown",
   "id": "03b88c61",
   "metadata": {},
   "source": [
    "먼저 타이타닉 데이터셋을 복제한다."
   ]
  },
  {
   "cell_type": "code",
   "execution_count": 24,
   "id": "d0de4b69",
   "metadata": {},
   "outputs": [],
   "source": [
    "titanic_sex_median = titanic.copy()"
   ]
  },
  {
   "cell_type": "markdown",
   "id": "461511ea",
   "metadata": {},
   "source": [
    "여성과 남성의 중위연령을 확인한다."
   ]
  },
  {
   "cell_type": "code",
   "execution_count": 25,
   "id": "f2a3bb06",
   "metadata": {},
   "outputs": [
    {
     "data": {
      "text/plain": [
       "Sex\n",
       "female    27.0\n",
       "male      29.0\n",
       "Name: Age, dtype: float64"
      ]
     },
     "execution_count": 25,
     "metadata": {},
     "output_type": "execute_result"
    }
   ],
   "source": [
    "titanic_sex_median.groupby('Sex')['Age'].median()"
   ]
  },
  {
   "cell_type": "markdown",
   "id": "ca705c66",
   "metadata": {},
   "source": [
    "아래 코드는 성별에 따라 결측치를 각각의 중위값으로 대체한다."
   ]
  },
  {
   "cell_type": "code",
   "execution_count": 26,
   "id": "864e06b4",
   "metadata": {},
   "outputs": [
    {
     "data": {
      "text/plain": [
       "Sex     PassengerId\n",
       "female  2              38.0\n",
       "        3              26.0\n",
       "        4              35.0\n",
       "        9              27.0\n",
       "        10             14.0\n",
       "                       ... \n",
       "male    884            28.0\n",
       "        885            25.0\n",
       "        887            27.0\n",
       "        890            26.0\n",
       "        891            32.0\n",
       "Name: Age, Length: 891, dtype: float64"
      ]
     },
     "execution_count": 26,
     "metadata": {},
     "output_type": "execute_result"
    }
   ],
   "source": [
    "titanic_sex_median_age = titanic_sex_median.groupby('Sex')['Age'].apply(lambda y:y.fillna(y.median()))\n",
    "titanic_sex_median_age"
   ]
  },
  {
   "cell_type": "markdown",
   "id": "de973eea",
   "metadata": {},
   "source": [
    "다중인덱스의 레벨 1에 위치한 `PassensgerId` 기준으로 오름차순으로 정렬한다."
   ]
  },
  {
   "cell_type": "code",
   "execution_count": 27,
   "id": "94cfb70f",
   "metadata": {},
   "outputs": [
    {
     "data": {
      "text/plain": [
       "Sex     PassengerId\n",
       "male    1              22.0\n",
       "female  2              38.0\n",
       "        3              26.0\n",
       "        4              35.0\n",
       "male    5              35.0\n",
       "                       ... \n",
       "        887            27.0\n",
       "female  888            19.0\n",
       "        889            27.0\n",
       "male    890            26.0\n",
       "        891            32.0\n",
       "Name: Age, Length: 891, dtype: float64"
      ]
     },
     "execution_count": 27,
     "metadata": {},
     "output_type": "execute_result"
    }
   ],
   "source": [
    "titanic_sex_median_age = titanic_sex_median_age.sort_index(level=1)\n",
    "titanic_sex_median_age"
   ]
  },
  {
   "cell_type": "markdown",
   "id": "0ade6b47",
   "metadata": {},
   "source": [
    "`Age` 특성의 값으로 지정하면 나이의 모든 결측치가 성별 중위연령으로 대체된다."
   ]
  },
  {
   "cell_type": "code",
   "execution_count": 28,
   "id": "4620dc7a",
   "metadata": {},
   "outputs": [],
   "source": [
    "titanic_sex_median.loc[:, 'Age'] = titanic_sex_median_age.values"
   ]
  },
  {
   "cell_type": "markdown",
   "id": "b7fceb93",
   "metadata": {},
   "source": [
    "`Cabin` 특성을 제외한 모든 결측치가 사라졌음을 확인한다."
   ]
  },
  {
   "cell_type": "code",
   "execution_count": 29,
   "id": "998d4b03",
   "metadata": {},
   "outputs": [
    {
     "name": "stdout",
     "output_type": "stream",
     "text": [
      "<class 'pandas.core.frame.DataFrame'>\n",
      "Index: 891 entries, 1 to 891\n",
      "Data columns (total 11 columns):\n",
      " #   Column    Non-Null Count  Dtype  \n",
      "---  ------    --------------  -----  \n",
      " 0   Survived  891 non-null    int64  \n",
      " 1   Pclass    891 non-null    int64  \n",
      " 2   Name      891 non-null    object \n",
      " 3   Sex       891 non-null    object \n",
      " 4   Age       891 non-null    float64\n",
      " 5   SibSp     891 non-null    int64  \n",
      " 6   Parch     891 non-null    int64  \n",
      " 7   Ticket    891 non-null    object \n",
      " 8   Fare      891 non-null    float64\n",
      " 9   Cabin     204 non-null    object \n",
      " 10  Embarked  891 non-null    object \n",
      "dtypes: float64(2), int64(4), object(5)\n",
      "memory usage: 83.5+ KB\n"
     ]
    }
   ],
   "source": [
    "titanic_sex_median.info()"
   ]
  },
  {
   "cell_type": "markdown",
   "id": "4a422cc8",
   "metadata": {},
   "source": [
    "지금부터 `titanic_sex_median`을 `titanic`으로 지정한다."
   ]
  },
  {
   "cell_type": "code",
   "execution_count": 30,
   "id": "303c324f",
   "metadata": {},
   "outputs": [],
   "source": [
    "titanic = titanic_sex_median"
   ]
  },
  {
   "cell_type": "markdown",
   "id": "d5935c3a",
   "metadata": {},
   "source": [
    "### 생존률 확인"
   ]
  },
  {
   "cell_type": "markdown",
   "id": "6de07fd6",
   "metadata": {
    "id": "5hWTW2RZCHkp"
   },
   "source": [
    "`Survived` 특성의 통계 정보를 확인한다."
   ]
  },
  {
   "cell_type": "code",
   "execution_count": 31,
   "id": "a0ae0543",
   "metadata": {
    "id": "rA8YkZwrCHkp",
    "outputId": "0647da66-456d-4342-d68b-8afa5f80c760"
   },
   "outputs": [
    {
     "data": {
      "text/plain": [
       "count    891.000000\n",
       "mean       0.383838\n",
       "std        0.486592\n",
       "min        0.000000\n",
       "25%        0.000000\n",
       "50%        0.000000\n",
       "75%        1.000000\n",
       "max        1.000000\n",
       "Name: Survived, dtype: float64"
      ]
     },
     "execution_count": 31,
     "metadata": {},
     "output_type": "execute_result"
    }
   ],
   "source": [
    "titanic['Survived'].describe()"
   ]
  },
  {
   "cell_type": "markdown",
   "id": "26d2c8eb",
   "metadata": {},
   "source": [
    "평균값이 약 0.38인데 이는 생존률이 약 38%임을 의미한다.\n",
    "이유는 `Survived` 특성에 사용된 값이 0 또는 1이기에\n",
    "해당 특성의 모든 값을 더한 값이 바로 생존자의 수와 같기 때문이다.\n",
    "아래 코드는 총 891명 중에 생존자가 342명에 불과함을 확인해준다."
   ]
  },
  {
   "cell_type": "code",
   "execution_count": 32,
   "id": "26f5c436",
   "metadata": {
    "id": "T54ga8STCHkq",
    "outputId": "b858151a-56c0-4e55-c147-0e6d64f45810"
   },
   "outputs": [
    {
     "data": {
      "text/plain": [
       "Survived\n",
       "0    549\n",
       "1    342\n",
       "Name: count, dtype: int64"
      ]
     },
     "execution_count": 32,
     "metadata": {},
     "output_type": "execute_result"
    }
   ],
   "source": [
    "titanic[\"Survived\"].value_counts()"
   ]
  },
  {
   "cell_type": "markdown",
   "id": "7aef2296",
   "metadata": {},
   "source": [
    "따라서 생존율은 다음과 같이 약 38%다."
   ]
  },
  {
   "cell_type": "code",
   "execution_count": 33,
   "id": "46585640",
   "metadata": {},
   "outputs": [
    {
     "data": {
      "text/plain": [
       "0.383838"
      ]
     },
     "execution_count": 33,
     "metadata": {},
     "output_type": "execute_result"
    }
   ],
   "source": [
    "342/891"
   ]
  },
  {
   "cell_type": "markdown",
   "id": "5b3841f4",
   "metadata": {},
   "source": [
    "그런데 영화 타이타닉(1997년 개봉)을 보면 성, 나이, 신분, 가족 유무 등에 따라 생존률이 많이 다를 것으로 기대된다.\n",
    "여기서는 성과 나이대에 따라 생존률이 많아 달라짐을 보인다."
   ]
  },
  {
   "cell_type": "markdown",
   "id": "6be3f18b",
   "metadata": {},
   "source": [
    "**성별 생존률**"
   ]
  },
  {
   "cell_type": "markdown",
   "id": "417637a2",
   "metadata": {},
   "source": [
    "성별 생존률은 `groupby()` 메서드로 바로 확인된다.\n",
    "바로 위에서 설명한 대로 `Survived`의 그룹별 평균값이 그룹별 생존률이다.\n",
    "\n",
    "여성의 생존률은 74%를 넘는 반면에 남성의 생존률은 채 20%가 되지 않는다."
   ]
  },
  {
   "cell_type": "code",
   "execution_count": 34,
   "id": "07fb7eba",
   "metadata": {
    "id": "51IT_3IaCHks",
    "outputId": "ea0c6aaf-6736-43b1-8105-69e46feaeebc"
   },
   "outputs": [
    {
     "data": {
      "text/html": [
       "<div>\n",
       "<style scoped>\n",
       "    .dataframe tbody tr th:only-of-type {\n",
       "        vertical-align: middle;\n",
       "    }\n",
       "\n",
       "    .dataframe tbody tr th {\n",
       "        vertical-align: top;\n",
       "    }\n",
       "\n",
       "    .dataframe thead th {\n",
       "        text-align: right;\n",
       "    }\n",
       "</style>\n",
       "<table border=\"1\" class=\"dataframe\">\n",
       "  <thead>\n",
       "    <tr style=\"text-align: right;\">\n",
       "      <th></th>\n",
       "      <th>Survived</th>\n",
       "    </tr>\n",
       "    <tr>\n",
       "      <th>Sex</th>\n",
       "      <th></th>\n",
       "    </tr>\n",
       "  </thead>\n",
       "  <tbody>\n",
       "    <tr>\n",
       "      <th>female</th>\n",
       "      <td>0.742038</td>\n",
       "    </tr>\n",
       "    <tr>\n",
       "      <th>male</th>\n",
       "      <td>0.188908</td>\n",
       "    </tr>\n",
       "  </tbody>\n",
       "</table>\n",
       "</div>"
      ],
      "text/plain": [
       "        Survived\n",
       "Sex             \n",
       "female  0.742038\n",
       "male    0.188908"
      ]
     },
     "execution_count": 34,
     "metadata": {},
     "output_type": "execute_result"
    }
   ],
   "source": [
    "titanic[[\"Sex\", \"Survived\"]].groupby(['Sex']).mean()"
   ]
  },
  {
   "cell_type": "markdown",
   "id": "06e43235",
   "metadata": {},
   "source": [
    "**나이대별 생존률**"
   ]
  },
  {
   "cell_type": "markdown",
   "id": "2dbe6d5a",
   "metadata": {},
   "source": [
    "10년 기준으로 나이대를 지정하여 `Age_Bucket` 특성으로 추가한다.\n",
    "아래 코드에 사용된 `astype('i8')` 또는 `astype('int64')`는 해당 특성에 포함된\n",
    "값들의 자료형인 `dtype`을 정수형으로 지정한다."
   ]
  },
  {
   "cell_type": "code",
   "execution_count": 35,
   "id": "4c8de531",
   "metadata": {
    "id": "51IT_3IaCHks",
    "outputId": "ea0c6aaf-6736-43b1-8105-69e46feaeebc"
   },
   "outputs": [
    {
     "data": {
      "text/html": [
       "<div>\n",
       "<style scoped>\n",
       "    .dataframe tbody tr th:only-of-type {\n",
       "        vertical-align: middle;\n",
       "    }\n",
       "\n",
       "    .dataframe tbody tr th {\n",
       "        vertical-align: top;\n",
       "    }\n",
       "\n",
       "    .dataframe thead th {\n",
       "        text-align: right;\n",
       "    }\n",
       "</style>\n",
       "<table border=\"1\" class=\"dataframe\">\n",
       "  <thead>\n",
       "    <tr style=\"text-align: right;\">\n",
       "      <th></th>\n",
       "      <th>Survived</th>\n",
       "      <th>Pclass</th>\n",
       "      <th>Name</th>\n",
       "      <th>Sex</th>\n",
       "      <th>Age</th>\n",
       "      <th>SibSp</th>\n",
       "      <th>Parch</th>\n",
       "      <th>Ticket</th>\n",
       "      <th>Fare</th>\n",
       "      <th>Cabin</th>\n",
       "      <th>Embarked</th>\n",
       "      <th>Age_Bucket</th>\n",
       "    </tr>\n",
       "    <tr>\n",
       "      <th>PassengerId</th>\n",
       "      <th></th>\n",
       "      <th></th>\n",
       "      <th></th>\n",
       "      <th></th>\n",
       "      <th></th>\n",
       "      <th></th>\n",
       "      <th></th>\n",
       "      <th></th>\n",
       "      <th></th>\n",
       "      <th></th>\n",
       "      <th></th>\n",
       "      <th></th>\n",
       "    </tr>\n",
       "  </thead>\n",
       "  <tbody>\n",
       "    <tr>\n",
       "      <th>1</th>\n",
       "      <td>0</td>\n",
       "      <td>3</td>\n",
       "      <td>Braund, Mr. Owen Harris</td>\n",
       "      <td>male</td>\n",
       "      <td>22.0</td>\n",
       "      <td>1</td>\n",
       "      <td>0</td>\n",
       "      <td>A/5 21171</td>\n",
       "      <td>7.2500</td>\n",
       "      <td>NaN</td>\n",
       "      <td>S</td>\n",
       "      <td>20</td>\n",
       "    </tr>\n",
       "    <tr>\n",
       "      <th>2</th>\n",
       "      <td>1</td>\n",
       "      <td>1</td>\n",
       "      <td>Cumings, Mrs. John Bradley (Florence Briggs Th...</td>\n",
       "      <td>female</td>\n",
       "      <td>38.0</td>\n",
       "      <td>1</td>\n",
       "      <td>0</td>\n",
       "      <td>PC 17599</td>\n",
       "      <td>71.2833</td>\n",
       "      <td>C85</td>\n",
       "      <td>C</td>\n",
       "      <td>30</td>\n",
       "    </tr>\n",
       "    <tr>\n",
       "      <th>3</th>\n",
       "      <td>1</td>\n",
       "      <td>3</td>\n",
       "      <td>Heikkinen, Miss. Laina</td>\n",
       "      <td>female</td>\n",
       "      <td>26.0</td>\n",
       "      <td>0</td>\n",
       "      <td>0</td>\n",
       "      <td>STON/O2. 3101282</td>\n",
       "      <td>7.9250</td>\n",
       "      <td>NaN</td>\n",
       "      <td>S</td>\n",
       "      <td>20</td>\n",
       "    </tr>\n",
       "    <tr>\n",
       "      <th>4</th>\n",
       "      <td>1</td>\n",
       "      <td>1</td>\n",
       "      <td>Futrelle, Mrs. Jacques Heath (Lily May Peel)</td>\n",
       "      <td>female</td>\n",
       "      <td>35.0</td>\n",
       "      <td>1</td>\n",
       "      <td>0</td>\n",
       "      <td>113803</td>\n",
       "      <td>53.1000</td>\n",
       "      <td>C123</td>\n",
       "      <td>S</td>\n",
       "      <td>30</td>\n",
       "    </tr>\n",
       "    <tr>\n",
       "      <th>5</th>\n",
       "      <td>0</td>\n",
       "      <td>3</td>\n",
       "      <td>Allen, Mr. William Henry</td>\n",
       "      <td>male</td>\n",
       "      <td>35.0</td>\n",
       "      <td>0</td>\n",
       "      <td>0</td>\n",
       "      <td>373450</td>\n",
       "      <td>8.0500</td>\n",
       "      <td>NaN</td>\n",
       "      <td>S</td>\n",
       "      <td>30</td>\n",
       "    </tr>\n",
       "    <tr>\n",
       "      <th>...</th>\n",
       "      <td>...</td>\n",
       "      <td>...</td>\n",
       "      <td>...</td>\n",
       "      <td>...</td>\n",
       "      <td>...</td>\n",
       "      <td>...</td>\n",
       "      <td>...</td>\n",
       "      <td>...</td>\n",
       "      <td>...</td>\n",
       "      <td>...</td>\n",
       "      <td>...</td>\n",
       "      <td>...</td>\n",
       "    </tr>\n",
       "    <tr>\n",
       "      <th>887</th>\n",
       "      <td>0</td>\n",
       "      <td>2</td>\n",
       "      <td>Montvila, Rev. Juozas</td>\n",
       "      <td>male</td>\n",
       "      <td>27.0</td>\n",
       "      <td>0</td>\n",
       "      <td>0</td>\n",
       "      <td>211536</td>\n",
       "      <td>13.0000</td>\n",
       "      <td>NaN</td>\n",
       "      <td>S</td>\n",
       "      <td>20</td>\n",
       "    </tr>\n",
       "    <tr>\n",
       "      <th>888</th>\n",
       "      <td>1</td>\n",
       "      <td>1</td>\n",
       "      <td>Graham, Miss. Margaret Edith</td>\n",
       "      <td>female</td>\n",
       "      <td>19.0</td>\n",
       "      <td>0</td>\n",
       "      <td>0</td>\n",
       "      <td>112053</td>\n",
       "      <td>30.0000</td>\n",
       "      <td>B42</td>\n",
       "      <td>S</td>\n",
       "      <td>10</td>\n",
       "    </tr>\n",
       "    <tr>\n",
       "      <th>889</th>\n",
       "      <td>0</td>\n",
       "      <td>3</td>\n",
       "      <td>Johnston, Miss. Catherine Helen \"Carrie\"</td>\n",
       "      <td>female</td>\n",
       "      <td>27.0</td>\n",
       "      <td>1</td>\n",
       "      <td>2</td>\n",
       "      <td>W./C. 6607</td>\n",
       "      <td>23.4500</td>\n",
       "      <td>NaN</td>\n",
       "      <td>S</td>\n",
       "      <td>20</td>\n",
       "    </tr>\n",
       "    <tr>\n",
       "      <th>890</th>\n",
       "      <td>1</td>\n",
       "      <td>1</td>\n",
       "      <td>Behr, Mr. Karl Howell</td>\n",
       "      <td>male</td>\n",
       "      <td>26.0</td>\n",
       "      <td>0</td>\n",
       "      <td>0</td>\n",
       "      <td>111369</td>\n",
       "      <td>30.0000</td>\n",
       "      <td>C148</td>\n",
       "      <td>C</td>\n",
       "      <td>20</td>\n",
       "    </tr>\n",
       "    <tr>\n",
       "      <th>891</th>\n",
       "      <td>0</td>\n",
       "      <td>3</td>\n",
       "      <td>Dooley, Mr. Patrick</td>\n",
       "      <td>male</td>\n",
       "      <td>32.0</td>\n",
       "      <td>0</td>\n",
       "      <td>0</td>\n",
       "      <td>370376</td>\n",
       "      <td>7.7500</td>\n",
       "      <td>NaN</td>\n",
       "      <td>Q</td>\n",
       "      <td>30</td>\n",
       "    </tr>\n",
       "  </tbody>\n",
       "</table>\n",
       "<p>891 rows × 12 columns</p>\n",
       "</div>"
      ],
      "text/plain": [
       "             Survived  Pclass  \\\n",
       "PassengerId                     \n",
       "1                   0       3   \n",
       "2                   1       1   \n",
       "3                   1       3   \n",
       "4                   1       1   \n",
       "5                   0       3   \n",
       "...               ...     ...   \n",
       "887                 0       2   \n",
       "888                 1       1   \n",
       "889                 0       3   \n",
       "890                 1       1   \n",
       "891                 0       3   \n",
       "\n",
       "                                                          Name     Sex   Age  \\\n",
       "PassengerId                                                                    \n",
       "1                                      Braund, Mr. Owen Harris    male  22.0   \n",
       "2            Cumings, Mrs. John Bradley (Florence Briggs Th...  female  38.0   \n",
       "3                                       Heikkinen, Miss. Laina  female  26.0   \n",
       "4                 Futrelle, Mrs. Jacques Heath (Lily May Peel)  female  35.0   \n",
       "5                                     Allen, Mr. William Henry    male  35.0   \n",
       "...                                                        ...     ...   ...   \n",
       "887                                      Montvila, Rev. Juozas    male  27.0   \n",
       "888                               Graham, Miss. Margaret Edith  female  19.0   \n",
       "889                   Johnston, Miss. Catherine Helen \"Carrie\"  female  27.0   \n",
       "890                                      Behr, Mr. Karl Howell    male  26.0   \n",
       "891                                        Dooley, Mr. Patrick    male  32.0   \n",
       "\n",
       "             SibSp  Parch            Ticket     Fare Cabin Embarked  \\\n",
       "PassengerId                                                           \n",
       "1                1      0         A/5 21171   7.2500   NaN        S   \n",
       "2                1      0          PC 17599  71.2833   C85        C   \n",
       "3                0      0  STON/O2. 3101282   7.9250   NaN        S   \n",
       "4                1      0            113803  53.1000  C123        S   \n",
       "5                0      0            373450   8.0500   NaN        S   \n",
       "...            ...    ...               ...      ...   ...      ...   \n",
       "887              0      0            211536  13.0000   NaN        S   \n",
       "888              0      0            112053  30.0000   B42        S   \n",
       "889              1      2        W./C. 6607  23.4500   NaN        S   \n",
       "890              0      0            111369  30.0000  C148        C   \n",
       "891              0      0            370376   7.7500   NaN        Q   \n",
       "\n",
       "             Age_Bucket  \n",
       "PassengerId              \n",
       "1                    20  \n",
       "2                    30  \n",
       "3                    20  \n",
       "4                    30  \n",
       "5                    30  \n",
       "...                 ...  \n",
       "887                  20  \n",
       "888                  10  \n",
       "889                  20  \n",
       "890                  20  \n",
       "891                  30  \n",
       "\n",
       "[891 rows x 12 columns]"
      ]
     },
     "execution_count": 35,
     "metadata": {},
     "output_type": "execute_result"
    }
   ],
   "source": [
    "titanic[\"Age_Bucket\"] = (titanic[\"Age\"] // 10 * 10).astype('i8')\n",
    "titanic"
   ]
  },
  {
   "cell_type": "markdown",
   "id": "687c9d7e",
   "metadata": {},
   "source": [
    "나이대별 생존률은 다음과 같다."
   ]
  },
  {
   "cell_type": "code",
   "execution_count": 36,
   "id": "b113430e",
   "metadata": {
    "id": "51IT_3IaCHks",
    "outputId": "ea0c6aaf-6736-43b1-8105-69e46feaeebc"
   },
   "outputs": [
    {
     "data": {
      "text/html": [
       "<div>\n",
       "<style scoped>\n",
       "    .dataframe tbody tr th:only-of-type {\n",
       "        vertical-align: middle;\n",
       "    }\n",
       "\n",
       "    .dataframe tbody tr th {\n",
       "        vertical-align: top;\n",
       "    }\n",
       "\n",
       "    .dataframe thead th {\n",
       "        text-align: right;\n",
       "    }\n",
       "</style>\n",
       "<table border=\"1\" class=\"dataframe\">\n",
       "  <thead>\n",
       "    <tr style=\"text-align: right;\">\n",
       "      <th></th>\n",
       "      <th>Survived</th>\n",
       "    </tr>\n",
       "    <tr>\n",
       "      <th>Age_Bucket</th>\n",
       "      <th></th>\n",
       "    </tr>\n",
       "  </thead>\n",
       "  <tbody>\n",
       "    <tr>\n",
       "      <th>0</th>\n",
       "      <td>0.612903</td>\n",
       "    </tr>\n",
       "    <tr>\n",
       "      <th>10</th>\n",
       "      <td>0.401961</td>\n",
       "    </tr>\n",
       "    <tr>\n",
       "      <th>20</th>\n",
       "      <td>0.324937</td>\n",
       "    </tr>\n",
       "    <tr>\n",
       "      <th>30</th>\n",
       "      <td>0.437126</td>\n",
       "    </tr>\n",
       "    <tr>\n",
       "      <th>40</th>\n",
       "      <td>0.382022</td>\n",
       "    </tr>\n",
       "    <tr>\n",
       "      <th>50</th>\n",
       "      <td>0.416667</td>\n",
       "    </tr>\n",
       "    <tr>\n",
       "      <th>60</th>\n",
       "      <td>0.315789</td>\n",
       "    </tr>\n",
       "    <tr>\n",
       "      <th>70</th>\n",
       "      <td>0.000000</td>\n",
       "    </tr>\n",
       "    <tr>\n",
       "      <th>80</th>\n",
       "      <td>1.000000</td>\n",
       "    </tr>\n",
       "  </tbody>\n",
       "</table>\n",
       "</div>"
      ],
      "text/plain": [
       "            Survived\n",
       "Age_Bucket          \n",
       "0           0.612903\n",
       "10          0.401961\n",
       "20          0.324937\n",
       "30          0.437126\n",
       "40          0.382022\n",
       "50          0.416667\n",
       "60          0.315789\n",
       "70          0.000000\n",
       "80          1.000000"
      ]
     },
     "execution_count": 36,
     "metadata": {},
     "output_type": "execute_result"
    }
   ],
   "source": [
    "titanic[[\"Age_Bucket\", \"Survived\"]].groupby(['Age_Bucket']).mean()"
   ]
  },
  {
   "cell_type": "markdown",
   "id": "298c70a7",
   "metadata": {},
   "source": [
    "10살 미만의 생존률이 61%로 가장 높다.\n",
    "구조 과정에서 아기와 아이들의 우선순위가 높았기 때문으로 추정된다.\n",
    "반면에 80대가 100%의 생존률을 보인 반면에 70대의 생존률은 0%인 점이 특이하다.\n",
    "\n",
    "이유는 80대보다 70대의 생존률이 높은 게 상식인데 그렇지 않기 때문이다.\n",
    "이런 경우에는 보통 도수가 중요하다.\n",
    "따라서 그룹별 도수를 확인해 본다."
   ]
  },
  {
   "cell_type": "code",
   "execution_count": 37,
   "id": "edf757a0",
   "metadata": {
    "id": "51IT_3IaCHks",
    "outputId": "ea0c6aaf-6736-43b1-8105-69e46feaeebc"
   },
   "outputs": [
    {
     "data": {
      "text/html": [
       "<div>\n",
       "<style scoped>\n",
       "    .dataframe tbody tr th:only-of-type {\n",
       "        vertical-align: middle;\n",
       "    }\n",
       "\n",
       "    .dataframe tbody tr th {\n",
       "        vertical-align: top;\n",
       "    }\n",
       "\n",
       "    .dataframe thead th {\n",
       "        text-align: right;\n",
       "    }\n",
       "</style>\n",
       "<table border=\"1\" class=\"dataframe\">\n",
       "  <thead>\n",
       "    <tr style=\"text-align: right;\">\n",
       "      <th></th>\n",
       "      <th>Survived</th>\n",
       "    </tr>\n",
       "    <tr>\n",
       "      <th>Age_Bucket</th>\n",
       "      <th></th>\n",
       "    </tr>\n",
       "  </thead>\n",
       "  <tbody>\n",
       "    <tr>\n",
       "      <th>0</th>\n",
       "      <td>62</td>\n",
       "    </tr>\n",
       "    <tr>\n",
       "      <th>10</th>\n",
       "      <td>102</td>\n",
       "    </tr>\n",
       "    <tr>\n",
       "      <th>20</th>\n",
       "      <td>397</td>\n",
       "    </tr>\n",
       "    <tr>\n",
       "      <th>30</th>\n",
       "      <td>167</td>\n",
       "    </tr>\n",
       "    <tr>\n",
       "      <th>40</th>\n",
       "      <td>89</td>\n",
       "    </tr>\n",
       "    <tr>\n",
       "      <th>50</th>\n",
       "      <td>48</td>\n",
       "    </tr>\n",
       "    <tr>\n",
       "      <th>60</th>\n",
       "      <td>19</td>\n",
       "    </tr>\n",
       "    <tr>\n",
       "      <th>70</th>\n",
       "      <td>6</td>\n",
       "    </tr>\n",
       "    <tr>\n",
       "      <th>80</th>\n",
       "      <td>1</td>\n",
       "    </tr>\n",
       "  </tbody>\n",
       "</table>\n",
       "</div>"
      ],
      "text/plain": [
       "            Survived\n",
       "Age_Bucket          \n",
       "0                 62\n",
       "10               102\n",
       "20               397\n",
       "30               167\n",
       "40                89\n",
       "50                48\n",
       "60                19\n",
       "70                 6\n",
       "80                 1"
      ]
     },
     "execution_count": 37,
     "metadata": {},
     "output_type": "execute_result"
    }
   ],
   "source": [
    "titanic[[\"Age_Bucket\", \"Survived\"]].groupby(['Age_Bucket']).count()"
   ]
  },
  {
   "cell_type": "markdown",
   "id": "d07334b5",
   "metadata": {},
   "source": [
    "80대는 1명 뿐이었고, 그 한 명이 생존하였기에 100%의 생존률이 나왔는데,\n",
    "70대의 6명은 모두 생존하지 못했다.\n",
    "따라서 80대의 생존률이 100%인 것에 대해 큰 의미를 부여할 필요는 없다."
   ]
  },
  {
   "cell_type": "markdown",
   "id": "6decb8d4",
   "metadata": {},
   "source": [
    "**성별+나이대별 생존률**"
   ]
  },
  {
   "cell_type": "markdown",
   "id": "b46e6a00",
   "metadata": {},
   "source": [
    "영화 타이타닉의 구조 과정에서 어린 아이들 뿐만 아니라 여성, 노약자 등을 우선적으로 구명보트에 태우는 것을 볼 수 있다.\n",
    "이처럼 나이뿐만 아니라 성별도 생존률에 지대한 영향을 끼쳤을 것으로 추정할 수 있으며\n",
    "이를 데이터로 확인해 본다.\n",
    "\n",
    "아래 코드는 `Sex`와 `Age_Bucket`을 기준으로 그룹화를 진행한 다음에\n",
    "그룹별로 생존률을 계산한다.\n",
    "그룹화의 기준으로 두 개 이상의 특성을 사용할 수 있으며 그 결과는 어렵지 않게 이해된다.\n",
    "\n",
    "- 먼저 언급된 `Sex`, 즉 성별로 그룹화 한다.\n",
    "- 이후 각각의 그룹에 대해 `Age_Bucket`, 즉 나이대별로 그룹화 한다."
   ]
  },
  {
   "cell_type": "code",
   "execution_count": 38,
   "id": "626ca349",
   "metadata": {
    "id": "51IT_3IaCHks",
    "outputId": "ea0c6aaf-6736-43b1-8105-69e46feaeebc"
   },
   "outputs": [
    {
     "data": {
      "text/html": [
       "<div>\n",
       "<style scoped>\n",
       "    .dataframe tbody tr th:only-of-type {\n",
       "        vertical-align: middle;\n",
       "    }\n",
       "\n",
       "    .dataframe tbody tr th {\n",
       "        vertical-align: top;\n",
       "    }\n",
       "\n",
       "    .dataframe thead th {\n",
       "        text-align: right;\n",
       "    }\n",
       "</style>\n",
       "<table border=\"1\" class=\"dataframe\">\n",
       "  <thead>\n",
       "    <tr style=\"text-align: right;\">\n",
       "      <th></th>\n",
       "      <th></th>\n",
       "      <th>Survived</th>\n",
       "    </tr>\n",
       "    <tr>\n",
       "      <th>Sex</th>\n",
       "      <th>Age_Bucket</th>\n",
       "      <th></th>\n",
       "    </tr>\n",
       "  </thead>\n",
       "  <tbody>\n",
       "    <tr>\n",
       "      <th rowspan=\"7\" valign=\"top\">female</th>\n",
       "      <th>0</th>\n",
       "      <td>0.633333</td>\n",
       "    </tr>\n",
       "    <tr>\n",
       "      <th>10</th>\n",
       "      <td>0.755556</td>\n",
       "    </tr>\n",
       "    <tr>\n",
       "      <th>20</th>\n",
       "      <td>0.704000</td>\n",
       "    </tr>\n",
       "    <tr>\n",
       "      <th>30</th>\n",
       "      <td>0.833333</td>\n",
       "    </tr>\n",
       "    <tr>\n",
       "      <th>40</th>\n",
       "      <td>0.687500</td>\n",
       "    </tr>\n",
       "    <tr>\n",
       "      <th>50</th>\n",
       "      <td>0.888889</td>\n",
       "    </tr>\n",
       "    <tr>\n",
       "      <th>60</th>\n",
       "      <td>1.000000</td>\n",
       "    </tr>\n",
       "    <tr>\n",
       "      <th rowspan=\"9\" valign=\"top\">male</th>\n",
       "      <th>0</th>\n",
       "      <td>0.593750</td>\n",
       "    </tr>\n",
       "    <tr>\n",
       "      <th>10</th>\n",
       "      <td>0.122807</td>\n",
       "    </tr>\n",
       "    <tr>\n",
       "      <th>20</th>\n",
       "      <td>0.150735</td>\n",
       "    </tr>\n",
       "    <tr>\n",
       "      <th>30</th>\n",
       "      <td>0.214953</td>\n",
       "    </tr>\n",
       "    <tr>\n",
       "      <th>40</th>\n",
       "      <td>0.210526</td>\n",
       "    </tr>\n",
       "    <tr>\n",
       "      <th>50</th>\n",
       "      <td>0.133333</td>\n",
       "    </tr>\n",
       "    <tr>\n",
       "      <th>60</th>\n",
       "      <td>0.133333</td>\n",
       "    </tr>\n",
       "    <tr>\n",
       "      <th>70</th>\n",
       "      <td>0.000000</td>\n",
       "    </tr>\n",
       "    <tr>\n",
       "      <th>80</th>\n",
       "      <td>1.000000</td>\n",
       "    </tr>\n",
       "  </tbody>\n",
       "</table>\n",
       "</div>"
      ],
      "text/plain": [
       "                   Survived\n",
       "Sex    Age_Bucket          \n",
       "female 0           0.633333\n",
       "       10          0.755556\n",
       "       20          0.704000\n",
       "       30          0.833333\n",
       "       40          0.687500\n",
       "       50          0.888889\n",
       "       60          1.000000\n",
       "male   0           0.593750\n",
       "       10          0.122807\n",
       "       20          0.150735\n",
       "       30          0.214953\n",
       "       40          0.210526\n",
       "       50          0.133333\n",
       "       60          0.133333\n",
       "       70          0.000000\n",
       "       80          1.000000"
      ]
     },
     "execution_count": 38,
     "metadata": {},
     "output_type": "execute_result"
    }
   ],
   "source": [
    "titanic[[\"Age_Bucket\", \"Sex\", \"Survived\"]].groupby(['Sex', 'Age_Bucket']).mean()"
   ]
  },
  {
   "cell_type": "markdown",
   "id": "fd083d9d",
   "metadata": {},
   "source": [
    "앞서 살펴본 대로 여성의 생존률이 약 74.2%인데\n",
    "여성 50대는 약 89%, 그리고 60대는 100%의 여성 평균 생존률보다 훨씬 높다.\n",
    "\n",
    "앞서 언급했듯이 이런 경우엔 도수도 확인해봐야 한다."
   ]
  },
  {
   "cell_type": "code",
   "execution_count": 39,
   "id": "d6df215d",
   "metadata": {
    "id": "51IT_3IaCHks",
    "outputId": "ea0c6aaf-6736-43b1-8105-69e46feaeebc"
   },
   "outputs": [
    {
     "data": {
      "text/html": [
       "<div>\n",
       "<style scoped>\n",
       "    .dataframe tbody tr th:only-of-type {\n",
       "        vertical-align: middle;\n",
       "    }\n",
       "\n",
       "    .dataframe tbody tr th {\n",
       "        vertical-align: top;\n",
       "    }\n",
       "\n",
       "    .dataframe thead th {\n",
       "        text-align: right;\n",
       "    }\n",
       "</style>\n",
       "<table border=\"1\" class=\"dataframe\">\n",
       "  <thead>\n",
       "    <tr style=\"text-align: right;\">\n",
       "      <th></th>\n",
       "      <th></th>\n",
       "      <th>Survived</th>\n",
       "    </tr>\n",
       "    <tr>\n",
       "      <th>Sex</th>\n",
       "      <th>Age_Bucket</th>\n",
       "      <th></th>\n",
       "    </tr>\n",
       "  </thead>\n",
       "  <tbody>\n",
       "    <tr>\n",
       "      <th rowspan=\"7\" valign=\"top\">female</th>\n",
       "      <th>0</th>\n",
       "      <td>30</td>\n",
       "    </tr>\n",
       "    <tr>\n",
       "      <th>10</th>\n",
       "      <td>45</td>\n",
       "    </tr>\n",
       "    <tr>\n",
       "      <th>20</th>\n",
       "      <td>125</td>\n",
       "    </tr>\n",
       "    <tr>\n",
       "      <th>30</th>\n",
       "      <td>60</td>\n",
       "    </tr>\n",
       "    <tr>\n",
       "      <th>40</th>\n",
       "      <td>32</td>\n",
       "    </tr>\n",
       "    <tr>\n",
       "      <th>50</th>\n",
       "      <td>18</td>\n",
       "    </tr>\n",
       "    <tr>\n",
       "      <th>60</th>\n",
       "      <td>4</td>\n",
       "    </tr>\n",
       "    <tr>\n",
       "      <th rowspan=\"9\" valign=\"top\">male</th>\n",
       "      <th>0</th>\n",
       "      <td>32</td>\n",
       "    </tr>\n",
       "    <tr>\n",
       "      <th>10</th>\n",
       "      <td>57</td>\n",
       "    </tr>\n",
       "    <tr>\n",
       "      <th>20</th>\n",
       "      <td>272</td>\n",
       "    </tr>\n",
       "    <tr>\n",
       "      <th>30</th>\n",
       "      <td>107</td>\n",
       "    </tr>\n",
       "    <tr>\n",
       "      <th>40</th>\n",
       "      <td>57</td>\n",
       "    </tr>\n",
       "    <tr>\n",
       "      <th>50</th>\n",
       "      <td>30</td>\n",
       "    </tr>\n",
       "    <tr>\n",
       "      <th>60</th>\n",
       "      <td>15</td>\n",
       "    </tr>\n",
       "    <tr>\n",
       "      <th>70</th>\n",
       "      <td>6</td>\n",
       "    </tr>\n",
       "    <tr>\n",
       "      <th>80</th>\n",
       "      <td>1</td>\n",
       "    </tr>\n",
       "  </tbody>\n",
       "</table>\n",
       "</div>"
      ],
      "text/plain": [
       "                   Survived\n",
       "Sex    Age_Bucket          \n",
       "female 0                 30\n",
       "       10                45\n",
       "       20               125\n",
       "       30                60\n",
       "       40                32\n",
       "       50                18\n",
       "       60                 4\n",
       "male   0                 32\n",
       "       10                57\n",
       "       20               272\n",
       "       30               107\n",
       "       40                57\n",
       "       50                30\n",
       "       60                15\n",
       "       70                 6\n",
       "       80                 1"
      ]
     },
     "execution_count": 39,
     "metadata": {},
     "output_type": "execute_result"
    }
   ],
   "source": [
    "titanic[[\"Age_Bucket\", \"Sex\", \"Survived\"]].groupby(['Sex', 'Age_Bucket']).count()"
   ]
  },
  {
   "cell_type": "markdown",
   "id": "8054e530",
   "metadata": {},
   "source": [
    "50대 여성은 18명, 60대 여성은 4명으로 무시하기 어렵다.\n",
    "50대 이상의 여성의 생존률이 높은 이유는\n",
    "노약자를 우선적으로 구명보트에 태웠기 때문인 것으로 추정된다."
   ]
  },
  {
   "cell_type": "markdown",
   "id": "77e65fb5",
   "metadata": {},
   "source": [
    "반면에 10살 미만의 여성 아이들의 생존률이 타 여성연령그룹보다 상대적으로 낮으며,\n",
    "10살 미만의 남성 아이들의 생존률은 타 남성연령그룹보다 상대적으로 높다.\n",
    "이에 대한 이유는 명확하지 않다."
   ]
  },
  {
   "cell_type": "code",
   "execution_count": 40,
   "id": "b14241b8",
   "metadata": {},
   "outputs": [
    {
     "data": {
      "text/plain": [
       "Sex\n",
       "female    0.633333\n",
       "male      0.593750\n",
       "Name: Survived, dtype: float64"
      ]
     },
     "execution_count": 40,
     "metadata": {},
     "output_type": "execute_result"
    }
   ],
   "source": [
    "mask = titanic['Age'] < 10\n",
    "titanic[mask].groupby('Sex')['Survived'].mean()"
   ]
  },
  {
   "cell_type": "markdown",
   "id": "82defec0",
   "metadata": {},
   "source": [
    "참고로 10살 미만의 평균 생존률은 61.3%다."
   ]
  },
  {
   "cell_type": "code",
   "execution_count": 41,
   "id": "58377da8",
   "metadata": {},
   "outputs": [
    {
     "data": {
      "text/plain": [
       "0.612903"
      ]
     },
     "execution_count": 41,
     "metadata": {},
     "output_type": "execute_result"
    }
   ],
   "source": [
    "mask = titanic['Age'] < 10\n",
    "titanic.loc[mask, 'Survived'].mean()"
   ]
  },
  {
   "cell_type": "markdown",
   "id": "69d63074",
   "metadata": {},
   "source": [
    "**가족의 생존률**"
   ]
  },
  {
   "cell_type": "markdown",
   "id": "93425428",
   "metadata": {},
   "source": [
    "`SisSp`는 형제자매와 배우자의 수를, `Parch`는 부모와 자식의 수를 가리킨다.\n",
    "따라서 함께 타이타닉호에 탑승한 가족의 수는 두 특성의 합으로 계산된다.\n",
    "아래 코드는 이를 새로운 특성으로 추가한다."
   ]
  },
  {
   "cell_type": "code",
   "execution_count": 42,
   "id": "fb21e098",
   "metadata": {
    "id": "rrWSOj-FCHks",
    "outputId": "dfebc1b0-d143-4e85-8093-8bd2a3630904"
   },
   "outputs": [],
   "source": [
    "titanic[\"RelativesOnboard\"] = titanic[\"SibSp\"] + titanic[\"Parch\"]"
   ]
  },
  {
   "cell_type": "markdown",
   "id": "b47867ca",
   "metadata": {},
   "source": [
    "함께 탑승한 가족의 수에 따른 승객의 수는 다음과 같다.\n",
    "가족이 0명, 즉 혼자 타이타닉호에 탑승한 승객이 537명으로 가장 많다.\n",
    "그 다음으로 1명 또는 2명의 가족과 함께 탑승한 승객들이 많다.\n",
    "최대 11명의 대가족으로 구성된 승객도 7명이나 된다."
   ]
  },
  {
   "cell_type": "code",
   "execution_count": 43,
   "id": "4290801c",
   "metadata": {},
   "outputs": [
    {
     "data": {
      "text/plain": [
       "RelativesOnboard\n",
       "0     537\n",
       "1     161\n",
       "2     102\n",
       "3      29\n",
       "4      15\n",
       "5      22\n",
       "6      12\n",
       "7       6\n",
       "10      7\n",
       "Name: count, dtype: int64"
      ]
     },
     "execution_count": 43,
     "metadata": {},
     "output_type": "execute_result"
    }
   ],
   "source": [
    "titanic[\"RelativesOnboard\"].value_counts().sort_index()"
   ]
  },
  {
   "cell_type": "markdown",
   "id": "5cc15301",
   "metadata": {},
   "source": [
    "함께 탑승한 가족수를 기준으로 그룹별 생존률을 확인하면 함께 탑승한 가족이 1명에서 3명일 때\n",
    "승객의 생존률이 압도적으로 높다.\n",
    "이또한 아무래도 어린 아이들과 노약자를 우선적으로 구조한 데에서 이유를 찾을 수 있을 것이다."
   ]
  },
  {
   "cell_type": "code",
   "execution_count": 44,
   "id": "7aff23ab",
   "metadata": {
    "id": "rrWSOj-FCHks",
    "outputId": "dfebc1b0-d143-4e85-8093-8bd2a3630904"
   },
   "outputs": [
    {
     "data": {
      "text/html": [
       "<div>\n",
       "<style scoped>\n",
       "    .dataframe tbody tr th:only-of-type {\n",
       "        vertical-align: middle;\n",
       "    }\n",
       "\n",
       "    .dataframe tbody tr th {\n",
       "        vertical-align: top;\n",
       "    }\n",
       "\n",
       "    .dataframe thead th {\n",
       "        text-align: right;\n",
       "    }\n",
       "</style>\n",
       "<table border=\"1\" class=\"dataframe\">\n",
       "  <thead>\n",
       "    <tr style=\"text-align: right;\">\n",
       "      <th></th>\n",
       "      <th>Survived</th>\n",
       "    </tr>\n",
       "    <tr>\n",
       "      <th>RelativesOnboard</th>\n",
       "      <th></th>\n",
       "    </tr>\n",
       "  </thead>\n",
       "  <tbody>\n",
       "    <tr>\n",
       "      <th>0</th>\n",
       "      <td>0.303538</td>\n",
       "    </tr>\n",
       "    <tr>\n",
       "      <th>1</th>\n",
       "      <td>0.552795</td>\n",
       "    </tr>\n",
       "    <tr>\n",
       "      <th>2</th>\n",
       "      <td>0.578431</td>\n",
       "    </tr>\n",
       "    <tr>\n",
       "      <th>3</th>\n",
       "      <td>0.724138</td>\n",
       "    </tr>\n",
       "    <tr>\n",
       "      <th>4</th>\n",
       "      <td>0.200000</td>\n",
       "    </tr>\n",
       "    <tr>\n",
       "      <th>5</th>\n",
       "      <td>0.136364</td>\n",
       "    </tr>\n",
       "    <tr>\n",
       "      <th>6</th>\n",
       "      <td>0.333333</td>\n",
       "    </tr>\n",
       "    <tr>\n",
       "      <th>7</th>\n",
       "      <td>0.000000</td>\n",
       "    </tr>\n",
       "    <tr>\n",
       "      <th>10</th>\n",
       "      <td>0.000000</td>\n",
       "    </tr>\n",
       "  </tbody>\n",
       "</table>\n",
       "</div>"
      ],
      "text/plain": [
       "                  Survived\n",
       "RelativesOnboard          \n",
       "0                 0.303538\n",
       "1                 0.552795\n",
       "2                 0.578431\n",
       "3                 0.724138\n",
       "4                 0.200000\n",
       "5                 0.136364\n",
       "6                 0.333333\n",
       "7                 0.000000\n",
       "10                0.000000"
      ]
     },
     "execution_count": 44,
     "metadata": {},
     "output_type": "execute_result"
    }
   ],
   "source": [
    "titanic[[\"RelativesOnboard\", \"Survived\"]].groupby(['RelativesOnboard']).mean()"
   ]
  },
  {
   "cell_type": "markdown",
   "id": "2847a5ed",
   "metadata": {},
   "source": [
    "성별로 구분해서 보면 남성의 경우도 2명에서 4명으로 구성된 가족의 구성원인 경우\n",
    "남성 평균의 생존률 18.8% 보다 훨씬 높다."
   ]
  },
  {
   "cell_type": "code",
   "execution_count": 45,
   "id": "1ab7afb4",
   "metadata": {
    "id": "rrWSOj-FCHks",
    "outputId": "dfebc1b0-d143-4e85-8093-8bd2a3630904"
   },
   "outputs": [
    {
     "data": {
      "text/html": [
       "<div>\n",
       "<style scoped>\n",
       "    .dataframe tbody tr th:only-of-type {\n",
       "        vertical-align: middle;\n",
       "    }\n",
       "\n",
       "    .dataframe tbody tr th {\n",
       "        vertical-align: top;\n",
       "    }\n",
       "\n",
       "    .dataframe thead th {\n",
       "        text-align: right;\n",
       "    }\n",
       "</style>\n",
       "<table border=\"1\" class=\"dataframe\">\n",
       "  <thead>\n",
       "    <tr style=\"text-align: right;\">\n",
       "      <th></th>\n",
       "      <th></th>\n",
       "      <th>Survived</th>\n",
       "    </tr>\n",
       "    <tr>\n",
       "      <th>Sex</th>\n",
       "      <th>RelativesOnboard</th>\n",
       "      <th></th>\n",
       "    </tr>\n",
       "  </thead>\n",
       "  <tbody>\n",
       "    <tr>\n",
       "      <th rowspan=\"9\" valign=\"top\">female</th>\n",
       "      <th>0</th>\n",
       "      <td>0.785714</td>\n",
       "    </tr>\n",
       "    <tr>\n",
       "      <th>1</th>\n",
       "      <td>0.816092</td>\n",
       "    </tr>\n",
       "    <tr>\n",
       "      <th>2</th>\n",
       "      <td>0.775510</td>\n",
       "    </tr>\n",
       "    <tr>\n",
       "      <th>3</th>\n",
       "      <td>0.842105</td>\n",
       "    </tr>\n",
       "    <tr>\n",
       "      <th>4</th>\n",
       "      <td>0.250000</td>\n",
       "    </tr>\n",
       "    <tr>\n",
       "      <th>5</th>\n",
       "      <td>0.375000</td>\n",
       "    </tr>\n",
       "    <tr>\n",
       "      <th>6</th>\n",
       "      <td>0.375000</td>\n",
       "    </tr>\n",
       "    <tr>\n",
       "      <th>7</th>\n",
       "      <td>0.000000</td>\n",
       "    </tr>\n",
       "    <tr>\n",
       "      <th>10</th>\n",
       "      <td>0.000000</td>\n",
       "    </tr>\n",
       "    <tr>\n",
       "      <th rowspan=\"9\" valign=\"top\">male</th>\n",
       "      <th>0</th>\n",
       "      <td>0.155718</td>\n",
       "    </tr>\n",
       "    <tr>\n",
       "      <th>1</th>\n",
       "      <td>0.243243</td>\n",
       "    </tr>\n",
       "    <tr>\n",
       "      <th>2</th>\n",
       "      <td>0.396226</td>\n",
       "    </tr>\n",
       "    <tr>\n",
       "      <th>3</th>\n",
       "      <td>0.500000</td>\n",
       "    </tr>\n",
       "    <tr>\n",
       "      <th>4</th>\n",
       "      <td>0.000000</td>\n",
       "    </tr>\n",
       "    <tr>\n",
       "      <th>5</th>\n",
       "      <td>0.000000</td>\n",
       "    </tr>\n",
       "    <tr>\n",
       "      <th>6</th>\n",
       "      <td>0.250000</td>\n",
       "    </tr>\n",
       "    <tr>\n",
       "      <th>7</th>\n",
       "      <td>0.000000</td>\n",
       "    </tr>\n",
       "    <tr>\n",
       "      <th>10</th>\n",
       "      <td>0.000000</td>\n",
       "    </tr>\n",
       "  </tbody>\n",
       "</table>\n",
       "</div>"
      ],
      "text/plain": [
       "                         Survived\n",
       "Sex    RelativesOnboard          \n",
       "female 0                 0.785714\n",
       "       1                 0.816092\n",
       "       2                 0.775510\n",
       "       3                 0.842105\n",
       "       4                 0.250000\n",
       "       5                 0.375000\n",
       "       6                 0.375000\n",
       "       7                 0.000000\n",
       "       10                0.000000\n",
       "male   0                 0.155718\n",
       "       1                 0.243243\n",
       "       2                 0.396226\n",
       "       3                 0.500000\n",
       "       4                 0.000000\n",
       "       5                 0.000000\n",
       "       6                 0.250000\n",
       "       7                 0.000000\n",
       "       10                0.000000"
      ]
     },
     "execution_count": 45,
     "metadata": {},
     "output_type": "execute_result"
    }
   ],
   "source": [
    "titanic[[\"Sex\", \"RelativesOnboard\", \"Survived\"]].groupby(['Sex', 'RelativesOnboard']).mean()"
   ]
  },
  {
   "cell_type": "markdown",
   "id": "4dc5c568",
   "metadata": {},
   "source": [
    "## 연습문제"
   ]
  },
  {
   "cell_type": "markdown",
   "id": "93eb640b",
   "metadata": {},
   "source": [
    "**문제 1**"
   ]
  },
  {
   "cell_type": "markdown",
   "id": "a04b0439",
   "metadata": {},
   "source": [
    "(1) `Cabin` 특성에 결측치가 많다.\n",
    "객실 정보가 있는 경우와 그렇지 않은 경우의 생존률을 확인하라.\n",
    "\n",
    "힌트: `pd.isna()`, `pd.notna()` 함수 또는 `pd.DataFrame.isna()`, `pd.DataFrame.notna()` 메서드 활용"
   ]
  },
  {
   "cell_type": "markdown",
   "id": "fbed0fd5",
   "metadata": {},
   "source": [
    "답:"
   ]
  },
  {
   "cell_type": "markdown",
   "id": "171127f3",
   "metadata": {},
   "source": [
    "- 방식 1: 부울 인덱싱 활용"
   ]
  },
  {
   "cell_type": "markdown",
   "id": "5244d24a",
   "metadata": {},
   "source": [
    "`Cabin` 정보가 있는 데이터만 부울 인덱싱으로 추출한다."
   ]
  },
  {
   "cell_type": "code",
   "execution_count": 46,
   "id": "3f197b55",
   "metadata": {},
   "outputs": [
    {
     "data": {
      "text/html": [
       "<div>\n",
       "<style scoped>\n",
       "    .dataframe tbody tr th:only-of-type {\n",
       "        vertical-align: middle;\n",
       "    }\n",
       "\n",
       "    .dataframe tbody tr th {\n",
       "        vertical-align: top;\n",
       "    }\n",
       "\n",
       "    .dataframe thead th {\n",
       "        text-align: right;\n",
       "    }\n",
       "</style>\n",
       "<table border=\"1\" class=\"dataframe\">\n",
       "  <thead>\n",
       "    <tr style=\"text-align: right;\">\n",
       "      <th></th>\n",
       "      <th>Survived</th>\n",
       "      <th>Pclass</th>\n",
       "      <th>Name</th>\n",
       "      <th>Sex</th>\n",
       "      <th>Age</th>\n",
       "      <th>SibSp</th>\n",
       "      <th>Parch</th>\n",
       "      <th>Ticket</th>\n",
       "      <th>Fare</th>\n",
       "      <th>Cabin</th>\n",
       "      <th>Embarked</th>\n",
       "      <th>Age_Bucket</th>\n",
       "      <th>RelativesOnboard</th>\n",
       "    </tr>\n",
       "    <tr>\n",
       "      <th>PassengerId</th>\n",
       "      <th></th>\n",
       "      <th></th>\n",
       "      <th></th>\n",
       "      <th></th>\n",
       "      <th></th>\n",
       "      <th></th>\n",
       "      <th></th>\n",
       "      <th></th>\n",
       "      <th></th>\n",
       "      <th></th>\n",
       "      <th></th>\n",
       "      <th></th>\n",
       "      <th></th>\n",
       "    </tr>\n",
       "  </thead>\n",
       "  <tbody>\n",
       "    <tr>\n",
       "      <th>2</th>\n",
       "      <td>1</td>\n",
       "      <td>1</td>\n",
       "      <td>Cumings, Mrs. John Bradley (Florence Briggs Th...</td>\n",
       "      <td>female</td>\n",
       "      <td>38.0</td>\n",
       "      <td>1</td>\n",
       "      <td>0</td>\n",
       "      <td>PC 17599</td>\n",
       "      <td>71.2833</td>\n",
       "      <td>C85</td>\n",
       "      <td>C</td>\n",
       "      <td>30</td>\n",
       "      <td>1</td>\n",
       "    </tr>\n",
       "    <tr>\n",
       "      <th>4</th>\n",
       "      <td>1</td>\n",
       "      <td>1</td>\n",
       "      <td>Futrelle, Mrs. Jacques Heath (Lily May Peel)</td>\n",
       "      <td>female</td>\n",
       "      <td>35.0</td>\n",
       "      <td>1</td>\n",
       "      <td>0</td>\n",
       "      <td>113803</td>\n",
       "      <td>53.1000</td>\n",
       "      <td>C123</td>\n",
       "      <td>S</td>\n",
       "      <td>30</td>\n",
       "      <td>1</td>\n",
       "    </tr>\n",
       "    <tr>\n",
       "      <th>7</th>\n",
       "      <td>0</td>\n",
       "      <td>1</td>\n",
       "      <td>McCarthy, Mr. Timothy J</td>\n",
       "      <td>male</td>\n",
       "      <td>54.0</td>\n",
       "      <td>0</td>\n",
       "      <td>0</td>\n",
       "      <td>17463</td>\n",
       "      <td>51.8625</td>\n",
       "      <td>E46</td>\n",
       "      <td>S</td>\n",
       "      <td>50</td>\n",
       "      <td>0</td>\n",
       "    </tr>\n",
       "    <tr>\n",
       "      <th>11</th>\n",
       "      <td>1</td>\n",
       "      <td>3</td>\n",
       "      <td>Sandstrom, Miss. Marguerite Rut</td>\n",
       "      <td>female</td>\n",
       "      <td>4.0</td>\n",
       "      <td>1</td>\n",
       "      <td>1</td>\n",
       "      <td>PP 9549</td>\n",
       "      <td>16.7000</td>\n",
       "      <td>G6</td>\n",
       "      <td>S</td>\n",
       "      <td>0</td>\n",
       "      <td>2</td>\n",
       "    </tr>\n",
       "    <tr>\n",
       "      <th>12</th>\n",
       "      <td>1</td>\n",
       "      <td>1</td>\n",
       "      <td>Bonnell, Miss. Elizabeth</td>\n",
       "      <td>female</td>\n",
       "      <td>58.0</td>\n",
       "      <td>0</td>\n",
       "      <td>0</td>\n",
       "      <td>113783</td>\n",
       "      <td>26.5500</td>\n",
       "      <td>C103</td>\n",
       "      <td>S</td>\n",
       "      <td>50</td>\n",
       "      <td>0</td>\n",
       "    </tr>\n",
       "    <tr>\n",
       "      <th>...</th>\n",
       "      <td>...</td>\n",
       "      <td>...</td>\n",
       "      <td>...</td>\n",
       "      <td>...</td>\n",
       "      <td>...</td>\n",
       "      <td>...</td>\n",
       "      <td>...</td>\n",
       "      <td>...</td>\n",
       "      <td>...</td>\n",
       "      <td>...</td>\n",
       "      <td>...</td>\n",
       "      <td>...</td>\n",
       "      <td>...</td>\n",
       "    </tr>\n",
       "    <tr>\n",
       "      <th>872</th>\n",
       "      <td>1</td>\n",
       "      <td>1</td>\n",
       "      <td>Beckwith, Mrs. Richard Leonard (Sallie Monypeny)</td>\n",
       "      <td>female</td>\n",
       "      <td>47.0</td>\n",
       "      <td>1</td>\n",
       "      <td>1</td>\n",
       "      <td>11751</td>\n",
       "      <td>52.5542</td>\n",
       "      <td>D35</td>\n",
       "      <td>S</td>\n",
       "      <td>40</td>\n",
       "      <td>2</td>\n",
       "    </tr>\n",
       "    <tr>\n",
       "      <th>873</th>\n",
       "      <td>0</td>\n",
       "      <td>1</td>\n",
       "      <td>Carlsson, Mr. Frans Olof</td>\n",
       "      <td>male</td>\n",
       "      <td>33.0</td>\n",
       "      <td>0</td>\n",
       "      <td>0</td>\n",
       "      <td>695</td>\n",
       "      <td>5.0000</td>\n",
       "      <td>B51 B53 B55</td>\n",
       "      <td>S</td>\n",
       "      <td>30</td>\n",
       "      <td>0</td>\n",
       "    </tr>\n",
       "    <tr>\n",
       "      <th>880</th>\n",
       "      <td>1</td>\n",
       "      <td>1</td>\n",
       "      <td>Potter, Mrs. Thomas Jr (Lily Alexenia Wilson)</td>\n",
       "      <td>female</td>\n",
       "      <td>56.0</td>\n",
       "      <td>0</td>\n",
       "      <td>1</td>\n",
       "      <td>11767</td>\n",
       "      <td>83.1583</td>\n",
       "      <td>C50</td>\n",
       "      <td>C</td>\n",
       "      <td>50</td>\n",
       "      <td>1</td>\n",
       "    </tr>\n",
       "    <tr>\n",
       "      <th>888</th>\n",
       "      <td>1</td>\n",
       "      <td>1</td>\n",
       "      <td>Graham, Miss. Margaret Edith</td>\n",
       "      <td>female</td>\n",
       "      <td>19.0</td>\n",
       "      <td>0</td>\n",
       "      <td>0</td>\n",
       "      <td>112053</td>\n",
       "      <td>30.0000</td>\n",
       "      <td>B42</td>\n",
       "      <td>S</td>\n",
       "      <td>10</td>\n",
       "      <td>0</td>\n",
       "    </tr>\n",
       "    <tr>\n",
       "      <th>890</th>\n",
       "      <td>1</td>\n",
       "      <td>1</td>\n",
       "      <td>Behr, Mr. Karl Howell</td>\n",
       "      <td>male</td>\n",
       "      <td>26.0</td>\n",
       "      <td>0</td>\n",
       "      <td>0</td>\n",
       "      <td>111369</td>\n",
       "      <td>30.0000</td>\n",
       "      <td>C148</td>\n",
       "      <td>C</td>\n",
       "      <td>20</td>\n",
       "      <td>0</td>\n",
       "    </tr>\n",
       "  </tbody>\n",
       "</table>\n",
       "<p>204 rows × 13 columns</p>\n",
       "</div>"
      ],
      "text/plain": [
       "             Survived  Pclass  \\\n",
       "PassengerId                     \n",
       "2                   1       1   \n",
       "4                   1       1   \n",
       "7                   0       1   \n",
       "11                  1       3   \n",
       "12                  1       1   \n",
       "...               ...     ...   \n",
       "872                 1       1   \n",
       "873                 0       1   \n",
       "880                 1       1   \n",
       "888                 1       1   \n",
       "890                 1       1   \n",
       "\n",
       "                                                          Name     Sex   Age  \\\n",
       "PassengerId                                                                    \n",
       "2            Cumings, Mrs. John Bradley (Florence Briggs Th...  female  38.0   \n",
       "4                 Futrelle, Mrs. Jacques Heath (Lily May Peel)  female  35.0   \n",
       "7                                      McCarthy, Mr. Timothy J    male  54.0   \n",
       "11                             Sandstrom, Miss. Marguerite Rut  female   4.0   \n",
       "12                                    Bonnell, Miss. Elizabeth  female  58.0   \n",
       "...                                                        ...     ...   ...   \n",
       "872           Beckwith, Mrs. Richard Leonard (Sallie Monypeny)  female  47.0   \n",
       "873                                   Carlsson, Mr. Frans Olof    male  33.0   \n",
       "880              Potter, Mrs. Thomas Jr (Lily Alexenia Wilson)  female  56.0   \n",
       "888                               Graham, Miss. Margaret Edith  female  19.0   \n",
       "890                                      Behr, Mr. Karl Howell    male  26.0   \n",
       "\n",
       "             SibSp  Parch    Ticket     Fare        Cabin Embarked  \\\n",
       "PassengerId                                                          \n",
       "2                1      0  PC 17599  71.2833          C85        C   \n",
       "4                1      0    113803  53.1000         C123        S   \n",
       "7                0      0     17463  51.8625          E46        S   \n",
       "11               1      1   PP 9549  16.7000           G6        S   \n",
       "12               0      0    113783  26.5500         C103        S   \n",
       "...            ...    ...       ...      ...          ...      ...   \n",
       "872              1      1     11751  52.5542          D35        S   \n",
       "873              0      0       695   5.0000  B51 B53 B55        S   \n",
       "880              0      1     11767  83.1583          C50        C   \n",
       "888              0      0    112053  30.0000          B42        S   \n",
       "890              0      0    111369  30.0000         C148        C   \n",
       "\n",
       "             Age_Bucket  RelativesOnboard  \n",
       "PassengerId                                \n",
       "2                    30                 1  \n",
       "4                    30                 1  \n",
       "7                    50                 0  \n",
       "11                    0                 2  \n",
       "12                   50                 0  \n",
       "...                 ...               ...  \n",
       "872                  40                 2  \n",
       "873                  30                 0  \n",
       "880                  50                 1  \n",
       "888                  10                 0  \n",
       "890                  20                 0  \n",
       "\n",
       "[204 rows x 13 columns]"
      ]
     },
     "execution_count": 46,
     "metadata": {},
     "output_type": "execute_result"
    }
   ],
   "source": [
    "mask = titanic['Cabin'].notna()\n",
    "titanic_with_cabin =titanic[mask]\n",
    "titanic_with_cabin"
   ]
  },
  {
   "cell_type": "markdown",
   "id": "9de87c68",
   "metadata": {},
   "source": [
    "`Cabin` 정보가 있는 경우의 생존률은 66.7%다."
   ]
  },
  {
   "cell_type": "code",
   "execution_count": 47,
   "id": "a67b7af4",
   "metadata": {},
   "outputs": [
    {
     "data": {
      "text/plain": [
       "0.666667"
      ]
     },
     "execution_count": 47,
     "metadata": {},
     "output_type": "execute_result"
    }
   ],
   "source": [
    "titanic_with_cabin['Survived'].sum() / len(titanic_with_cabin)"
   ]
  },
  {
   "cell_type": "markdown",
   "id": "e337b364",
   "metadata": {},
   "source": [
    "반면에 `Cabin` 정보가 없는 경우의 생존률은 30% 정도에 불과하다."
   ]
  },
  {
   "cell_type": "code",
   "execution_count": 48,
   "id": "8ba22dab",
   "metadata": {},
   "outputs": [
    {
     "data": {
      "text/plain": [
       "0.299854"
      ]
     },
     "execution_count": 48,
     "metadata": {},
     "output_type": "execute_result"
    }
   ],
   "source": [
    "titanic_wo_cabin =titanic[~mask]\n",
    "titanic_wo_cabin['Survived'].sum() / len(titanic_wo_cabin)"
   ]
  },
  {
   "cell_type": "markdown",
   "id": "f9e5289f",
   "metadata": {},
   "source": [
    "- 방식 2: `groupby()` 메서드 활용"
   ]
  },
  {
   "cell_type": "markdown",
   "id": "9d72de32",
   "metadata": {},
   "source": [
    "먼저 `Cabin` 정보의 존재유무를 기억하는 `Cabin?` 특성을 추가한다."
   ]
  },
  {
   "cell_type": "code",
   "execution_count": 49,
   "id": "6d461dc7",
   "metadata": {},
   "outputs": [],
   "source": [
    "titanic['Cabin?'] = titanic['Cabin'].notna()"
   ]
  },
  {
   "cell_type": "code",
   "execution_count": 50,
   "id": "2391330c",
   "metadata": {},
   "outputs": [
    {
     "data": {
      "text/plain": [
       "PassengerId\n",
       "1      False\n",
       "2       True\n",
       "3      False\n",
       "4       True\n",
       "5      False\n",
       "       ...  \n",
       "887    False\n",
       "888     True\n",
       "889    False\n",
       "890     True\n",
       "891    False\n",
       "Name: Cabin?, Length: 891, dtype: bool"
      ]
     },
     "execution_count": 50,
     "metadata": {},
     "output_type": "execute_result"
    }
   ],
   "source": [
    "titanic['Cabin?']"
   ]
  },
  {
   "cell_type": "markdown",
   "id": "13bf0ba0",
   "metadata": {},
   "source": [
    "`Cabin?` 특성에 따른 그룹화를 진행하였을 때 그룹별 크기는 다음과 같다."
   ]
  },
  {
   "cell_type": "code",
   "execution_count": 51,
   "id": "0d232e5d",
   "metadata": {},
   "outputs": [
    {
     "data": {
      "text/plain": [
       "Cabin?\n",
       "False    687\n",
       "True     204\n",
       "Name: Survived, dtype: int64"
      ]
     },
     "execution_count": 51,
     "metadata": {},
     "output_type": "execute_result"
    }
   ],
   "source": [
    "titanic_with_cabin_count = titanic.groupby(['Cabin?'])['Survived'].count()\n",
    "titanic_with_cabin_count"
   ]
  },
  {
   "cell_type": "markdown",
   "id": "6b80a85f",
   "metadata": {},
   "source": [
    "아래 코드는 그룹별 생존자의 수를 보여준다."
   ]
  },
  {
   "cell_type": "code",
   "execution_count": 52,
   "id": "273d6ffe",
   "metadata": {},
   "outputs": [
    {
     "data": {
      "text/plain": [
       "Cabin?\n",
       "False    206\n",
       "True     136\n",
       "Name: Survived, dtype: int64"
      ]
     },
     "execution_count": 52,
     "metadata": {},
     "output_type": "execute_result"
    }
   ],
   "source": [
    "titanic.groupby(['Cabin?'])['Survived'].sum()"
   ]
  },
  {
   "cell_type": "markdown",
   "id": "f24ae795",
   "metadata": {},
   "source": [
    "따라서 `Cabin` 정보가 있는 경우의 생존률은 66.7%, 그렇지 않은 경우는 30.0% 정도다."
   ]
  },
  {
   "cell_type": "code",
   "execution_count": 53,
   "id": "60757a5f",
   "metadata": {},
   "outputs": [
    {
     "data": {
      "text/plain": [
       "Cabin?\n",
       "False    0.299854\n",
       "True     0.666667\n",
       "Name: Survived, dtype: float64"
      ]
     },
     "execution_count": 53,
     "metadata": {},
     "output_type": "execute_result"
    }
   ],
   "source": [
    "titanic.groupby(['Cabin?'])['Survived'].sum() / titanic_with_cabin_count"
   ]
  },
  {
   "cell_type": "markdown",
   "id": "13cad441",
   "metadata": {},
   "source": [
    "결론\n",
    "\n",
    "- `Cabin` 정보가 있는 승객의 생존률이 압도적으로 높다.\n",
    "- 이유는 영화 타이타닉을 보면 알 수 있다. 확인해 보세요."
   ]
  },
  {
   "cell_type": "markdown",
   "id": "a29d1729",
   "metadata": {},
   "source": [
    "(2) 여성의 생존률이 평균적으로 훨씬 높다. 객실 정보가 있는 경우 성별 생존률을 확인하라."
   ]
  },
  {
   "cell_type": "markdown",
   "id": "0c77387a",
   "metadata": {},
   "source": [
    "답:"
   ]
  },
  {
   "cell_type": "markdown",
   "id": "5d699414",
   "metadata": {},
   "source": [
    "아래 코드는 그룹별로 성별 생존자의 수를 보여준다."
   ]
  },
  {
   "cell_type": "code",
   "execution_count": 54,
   "id": "055be958",
   "metadata": {},
   "outputs": [
    {
     "data": {
      "text/plain": [
       "Cabin?  Sex   \n",
       "False   female    142\n",
       "        male       64\n",
       "True    female     91\n",
       "        male       45\n",
       "Name: Survived, dtype: int64"
      ]
     },
     "execution_count": 54,
     "metadata": {},
     "output_type": "execute_result"
    }
   ],
   "source": [
    "titanic.groupby(['Cabin?', 'Sex'])['Survived'].sum()"
   ]
  },
  {
   "cell_type": "markdown",
   "id": "982f0aa0",
   "metadata": {},
   "source": [
    "`Cabin?`과 `Sex` 특성에 따른 그룹화를 진행하였을 때 그룹별 크기는 다음과 같다."
   ]
  },
  {
   "cell_type": "code",
   "execution_count": 55,
   "id": "87a5914b",
   "metadata": {},
   "outputs": [
    {
     "data": {
      "text/plain": [
       "Cabin?  Sex   \n",
       "False   female    217\n",
       "        male      470\n",
       "True    female     97\n",
       "        male      107\n",
       "Name: Survived, dtype: int64"
      ]
     },
     "execution_count": 55,
     "metadata": {},
     "output_type": "execute_result"
    }
   ],
   "source": [
    "titanic_with_cabin_sex_count = titanic.groupby(['Cabin?', 'Sex'])['Survived'].count()\n",
    "titanic_with_cabin_sex_count"
   ]
  },
  {
   "cell_type": "markdown",
   "id": "977925bb",
   "metadata": {},
   "source": [
    "따라서 `Cabin` 정보가 있는 경우의 생존률은 66.7%, 그렇지 않은 경우는 30.0% 정도다."
   ]
  },
  {
   "cell_type": "code",
   "execution_count": 56,
   "id": "ec044528",
   "metadata": {},
   "outputs": [
    {
     "data": {
      "text/plain": [
       "Cabin?  Sex   \n",
       "False   female    0.654378\n",
       "        male      0.136170\n",
       "True    female    0.938144\n",
       "        male      0.420561\n",
       "Name: Survived, dtype: float64"
      ]
     },
     "execution_count": 56,
     "metadata": {},
     "output_type": "execute_result"
    }
   ],
   "source": [
    "titanic.groupby(['Cabin?', 'Sex'])['Survived'].sum() / titanic_with_cabin_sex_count"
   ]
  },
  {
   "cell_type": "markdown",
   "id": "962e38ce",
   "metadata": {},
   "source": [
    "결론\n",
    "\n",
    "- 객실 정보가 있는 여성 승객의 생존률이 94% 정도로 거의 모두 생존했다.\n",
    "- 객실 정보가 있는 남성 승객의 생존률도 42% 정도로 객실 정보가 없는 남성들보다 월등히 높다."
   ]
  },
  {
   "cell_type": "markdown",
   "id": "dad3cc3a",
   "metadata": {},
   "source": [
    "(3) 객실 정보가 있는 경우 객실의 첫문자를 `C_Initial` 특성으로 추가하라.\n",
    "또한 첫문자별 도수를 확인하라.\n",
    "\n",
    "힌트: `pd.Series.map()` 메서드 활용"
   ]
  },
  {
   "cell_type": "markdown",
   "id": "48ec82c1",
   "metadata": {},
   "source": [
    "답:"
   ]
  },
  {
   "cell_type": "markdown",
   "id": "ba3adff4",
   "metadata": {},
   "source": [
    "`Cabin` 특성의 값만 따로 확인한다."
   ]
  },
  {
   "cell_type": "code",
   "execution_count": 57,
   "id": "60261bc4",
   "metadata": {},
   "outputs": [
    {
     "data": {
      "text/plain": [
       "PassengerId\n",
       "1       NaN\n",
       "2       C85\n",
       "3       NaN\n",
       "4      C123\n",
       "5       NaN\n",
       "       ... \n",
       "887     NaN\n",
       "888     B42\n",
       "889     NaN\n",
       "890    C148\n",
       "891     NaN\n",
       "Name: Cabin, Length: 891, dtype: object"
      ]
     },
     "execution_count": 57,
     "metadata": {},
     "output_type": "execute_result"
    }
   ],
   "source": [
    "cabin_feature = titanic['Cabin']\n",
    "cabin_feature"
   ]
  },
  {
   "cell_type": "markdown",
   "id": "10ca7e6c",
   "metadata": {},
   "source": [
    "`Cabin` 특성에 사용된 값들을 확인하면 A, B, C 등의 대문자 알파벳으로 시작한다."
   ]
  },
  {
   "cell_type": "code",
   "execution_count": 58,
   "id": "fd028faa",
   "metadata": {},
   "outputs": [
    {
     "data": {
      "text/plain": [
       "Cabin\n",
       "B96 B98        4\n",
       "G6             4\n",
       "C23 C25 C27    4\n",
       "F2             3\n",
       "C22 C26        3\n",
       "              ..\n",
       "C106           1\n",
       "A19            1\n",
       "D7             1\n",
       "C118           1\n",
       "E50            1\n",
       "Name: count, Length: 147, dtype: int64"
      ]
     },
     "execution_count": 58,
     "metadata": {},
     "output_type": "execute_result"
    }
   ],
   "source": [
    "cabin_info = titanic['Cabin'].value_counts()\n",
    "cabin_info"
   ]
  },
  {
   "cell_type": "markdown",
   "id": "f0677a5e",
   "metadata": {},
   "source": [
    "먼저 객실의 첫문자를 추출해서 새로운 특성으로 추가한다.\n",
    "이를 위해 `pd.Series.map()` 메서드를 활용한다.\n",
    "`map()` 메서드의 기능은 다음과 같다.\n",
    "\n",
    "- `lambda s: s[0]` 함수: 객실 특성의 문자열 각각에 대해 문자열의 첫문자를 추출하는 인덱싱 적용.\n",
    "- `na_action='ignore'` 키워드 인자: 결측치는 결측치 그대로 두는 설정임."
   ]
  },
  {
   "cell_type": "code",
   "execution_count": 59,
   "id": "5627b5ed",
   "metadata": {},
   "outputs": [],
   "source": [
    "titanic['C_Initial'] = cabin_feature.map(lambda s: s[0], na_action='ignore')"
   ]
  },
  {
   "cell_type": "markdown",
   "id": "1c991d08",
   "metadata": {},
   "source": [
    "객실의 첫문자와 도수는 다음과 같다."
   ]
  },
  {
   "cell_type": "code",
   "execution_count": 60,
   "id": "89d07449",
   "metadata": {},
   "outputs": [
    {
     "data": {
      "text/plain": [
       "C_Initial\n",
       "C    59\n",
       "B    47\n",
       "D    33\n",
       "E    32\n",
       "A    15\n",
       "F    13\n",
       "G     4\n",
       "T     1\n",
       "Name: count, dtype: int64"
      ]
     },
     "execution_count": 60,
     "metadata": {},
     "output_type": "execute_result"
    }
   ],
   "source": [
    "titanic['C_Initial'].value_counts()"
   ]
  },
  {
   "cell_type": "markdown",
   "id": "bfae12de",
   "metadata": {},
   "source": [
    "(4) 객실의 첫문자별로 객실의 요금의 평균값을 확인하라."
   ]
  },
  {
   "cell_type": "markdown",
   "id": "4410d16b",
   "metadata": {},
   "source": [
    "답:"
   ]
  },
  {
   "cell_type": "markdown",
   "id": "c914f651",
   "metadata": {},
   "source": [
    "객실의 첫문자와 요금(Fare) 특성만 별도로 다룬다."
   ]
  },
  {
   "cell_type": "code",
   "execution_count": 61,
   "id": "4b13433a",
   "metadata": {},
   "outputs": [
    {
     "data": {
      "text/html": [
       "<div>\n",
       "<style scoped>\n",
       "    .dataframe tbody tr th:only-of-type {\n",
       "        vertical-align: middle;\n",
       "    }\n",
       "\n",
       "    .dataframe tbody tr th {\n",
       "        vertical-align: top;\n",
       "    }\n",
       "\n",
       "    .dataframe thead th {\n",
       "        text-align: right;\n",
       "    }\n",
       "</style>\n",
       "<table border=\"1\" class=\"dataframe\">\n",
       "  <thead>\n",
       "    <tr style=\"text-align: right;\">\n",
       "      <th></th>\n",
       "      <th>C_Initial</th>\n",
       "      <th>Fare</th>\n",
       "    </tr>\n",
       "    <tr>\n",
       "      <th>PassengerId</th>\n",
       "      <th></th>\n",
       "      <th></th>\n",
       "    </tr>\n",
       "  </thead>\n",
       "  <tbody>\n",
       "    <tr>\n",
       "      <th>1</th>\n",
       "      <td>NaN</td>\n",
       "      <td>7.2500</td>\n",
       "    </tr>\n",
       "    <tr>\n",
       "      <th>2</th>\n",
       "      <td>C</td>\n",
       "      <td>71.2833</td>\n",
       "    </tr>\n",
       "    <tr>\n",
       "      <th>3</th>\n",
       "      <td>NaN</td>\n",
       "      <td>7.9250</td>\n",
       "    </tr>\n",
       "    <tr>\n",
       "      <th>4</th>\n",
       "      <td>C</td>\n",
       "      <td>53.1000</td>\n",
       "    </tr>\n",
       "    <tr>\n",
       "      <th>5</th>\n",
       "      <td>NaN</td>\n",
       "      <td>8.0500</td>\n",
       "    </tr>\n",
       "    <tr>\n",
       "      <th>...</th>\n",
       "      <td>...</td>\n",
       "      <td>...</td>\n",
       "    </tr>\n",
       "    <tr>\n",
       "      <th>887</th>\n",
       "      <td>NaN</td>\n",
       "      <td>13.0000</td>\n",
       "    </tr>\n",
       "    <tr>\n",
       "      <th>888</th>\n",
       "      <td>B</td>\n",
       "      <td>30.0000</td>\n",
       "    </tr>\n",
       "    <tr>\n",
       "      <th>889</th>\n",
       "      <td>NaN</td>\n",
       "      <td>23.4500</td>\n",
       "    </tr>\n",
       "    <tr>\n",
       "      <th>890</th>\n",
       "      <td>C</td>\n",
       "      <td>30.0000</td>\n",
       "    </tr>\n",
       "    <tr>\n",
       "      <th>891</th>\n",
       "      <td>NaN</td>\n",
       "      <td>7.7500</td>\n",
       "    </tr>\n",
       "  </tbody>\n",
       "</table>\n",
       "<p>891 rows × 2 columns</p>\n",
       "</div>"
      ],
      "text/plain": [
       "            C_Initial     Fare\n",
       "PassengerId                   \n",
       "1                 NaN   7.2500\n",
       "2                   C  71.2833\n",
       "3                 NaN   7.9250\n",
       "4                   C  53.1000\n",
       "5                 NaN   8.0500\n",
       "...               ...      ...\n",
       "887               NaN  13.0000\n",
       "888                 B  30.0000\n",
       "889               NaN  23.4500\n",
       "890                 C  30.0000\n",
       "891               NaN   7.7500\n",
       "\n",
       "[891 rows x 2 columns]"
      ]
     },
     "execution_count": 61,
     "metadata": {},
     "output_type": "execute_result"
    }
   ],
   "source": [
    "cabin_fare = titanic.loc[:, ['C_Initial', 'Fare']]\n",
    "cabin_fare"
   ]
  },
  {
   "cell_type": "markdown",
   "id": "e0f35e30",
   "metadata": {},
   "source": [
    "객실 첫문자를 기준으로 그룹화를 진행한 다음에 요금의 평균값을 확인한다."
   ]
  },
  {
   "cell_type": "code",
   "execution_count": 62,
   "id": "76273739",
   "metadata": {},
   "outputs": [
    {
     "data": {
      "text/html": [
       "<div>\n",
       "<style scoped>\n",
       "    .dataframe tbody tr th:only-of-type {\n",
       "        vertical-align: middle;\n",
       "    }\n",
       "\n",
       "    .dataframe tbody tr th {\n",
       "        vertical-align: top;\n",
       "    }\n",
       "\n",
       "    .dataframe thead th {\n",
       "        text-align: right;\n",
       "    }\n",
       "</style>\n",
       "<table border=\"1\" class=\"dataframe\">\n",
       "  <thead>\n",
       "    <tr style=\"text-align: right;\">\n",
       "      <th></th>\n",
       "      <th>Fare</th>\n",
       "    </tr>\n",
       "    <tr>\n",
       "      <th>C_Initial</th>\n",
       "      <th></th>\n",
       "    </tr>\n",
       "  </thead>\n",
       "  <tbody>\n",
       "    <tr>\n",
       "      <th>A</th>\n",
       "      <td>39.623887</td>\n",
       "    </tr>\n",
       "    <tr>\n",
       "      <th>B</th>\n",
       "      <td>113.505764</td>\n",
       "    </tr>\n",
       "    <tr>\n",
       "      <th>C</th>\n",
       "      <td>100.151341</td>\n",
       "    </tr>\n",
       "    <tr>\n",
       "      <th>D</th>\n",
       "      <td>57.244576</td>\n",
       "    </tr>\n",
       "    <tr>\n",
       "      <th>E</th>\n",
       "      <td>46.026694</td>\n",
       "    </tr>\n",
       "    <tr>\n",
       "      <th>F</th>\n",
       "      <td>18.696792</td>\n",
       "    </tr>\n",
       "    <tr>\n",
       "      <th>G</th>\n",
       "      <td>13.581250</td>\n",
       "    </tr>\n",
       "    <tr>\n",
       "      <th>T</th>\n",
       "      <td>35.500000</td>\n",
       "    </tr>\n",
       "  </tbody>\n",
       "</table>\n",
       "</div>"
      ],
      "text/plain": [
       "                 Fare\n",
       "C_Initial            \n",
       "A           39.623887\n",
       "B          113.505764\n",
       "C          100.151341\n",
       "D           57.244576\n",
       "E           46.026694\n",
       "F           18.696792\n",
       "G           13.581250\n",
       "T           35.500000"
      ]
     },
     "execution_count": 62,
     "metadata": {},
     "output_type": "execute_result"
    }
   ],
   "source": [
    "cabin_fare.groupby(['C_Initial']).mean()"
   ]
  },
  {
   "cell_type": "markdown",
   "id": "5e16d616",
   "metadata": {},
   "source": [
    "(5) 객실의 첫문자별 생존률을 확인하라."
   ]
  },
  {
   "cell_type": "markdown",
   "id": "392617e0",
   "metadata": {},
   "source": [
    "답:"
   ]
  },
  {
   "cell_type": "markdown",
   "id": "9efcb7ab",
   "metadata": {},
   "source": [
    "객실 첫문자에 따른 생존률를 확인하기 위해\n",
    "첫문자 특성과 생존여부 특성, 그리고 참고를 위해 객실요금 특성만 활용한다."
   ]
  },
  {
   "cell_type": "code",
   "execution_count": 63,
   "id": "53826260",
   "metadata": {},
   "outputs": [
    {
     "data": {
      "text/html": [
       "<div>\n",
       "<style scoped>\n",
       "    .dataframe tbody tr th:only-of-type {\n",
       "        vertical-align: middle;\n",
       "    }\n",
       "\n",
       "    .dataframe tbody tr th {\n",
       "        vertical-align: top;\n",
       "    }\n",
       "\n",
       "    .dataframe thead th {\n",
       "        text-align: right;\n",
       "    }\n",
       "</style>\n",
       "<table border=\"1\" class=\"dataframe\">\n",
       "  <thead>\n",
       "    <tr style=\"text-align: right;\">\n",
       "      <th></th>\n",
       "      <th>C_Initial</th>\n",
       "      <th>Fare</th>\n",
       "      <th>Survived</th>\n",
       "    </tr>\n",
       "    <tr>\n",
       "      <th>PassengerId</th>\n",
       "      <th></th>\n",
       "      <th></th>\n",
       "      <th></th>\n",
       "    </tr>\n",
       "  </thead>\n",
       "  <tbody>\n",
       "    <tr>\n",
       "      <th>1</th>\n",
       "      <td>NaN</td>\n",
       "      <td>7.2500</td>\n",
       "      <td>0</td>\n",
       "    </tr>\n",
       "    <tr>\n",
       "      <th>2</th>\n",
       "      <td>C</td>\n",
       "      <td>71.2833</td>\n",
       "      <td>1</td>\n",
       "    </tr>\n",
       "    <tr>\n",
       "      <th>3</th>\n",
       "      <td>NaN</td>\n",
       "      <td>7.9250</td>\n",
       "      <td>1</td>\n",
       "    </tr>\n",
       "    <tr>\n",
       "      <th>4</th>\n",
       "      <td>C</td>\n",
       "      <td>53.1000</td>\n",
       "      <td>1</td>\n",
       "    </tr>\n",
       "    <tr>\n",
       "      <th>5</th>\n",
       "      <td>NaN</td>\n",
       "      <td>8.0500</td>\n",
       "      <td>0</td>\n",
       "    </tr>\n",
       "    <tr>\n",
       "      <th>...</th>\n",
       "      <td>...</td>\n",
       "      <td>...</td>\n",
       "      <td>...</td>\n",
       "    </tr>\n",
       "    <tr>\n",
       "      <th>887</th>\n",
       "      <td>NaN</td>\n",
       "      <td>13.0000</td>\n",
       "      <td>0</td>\n",
       "    </tr>\n",
       "    <tr>\n",
       "      <th>888</th>\n",
       "      <td>B</td>\n",
       "      <td>30.0000</td>\n",
       "      <td>1</td>\n",
       "    </tr>\n",
       "    <tr>\n",
       "      <th>889</th>\n",
       "      <td>NaN</td>\n",
       "      <td>23.4500</td>\n",
       "      <td>0</td>\n",
       "    </tr>\n",
       "    <tr>\n",
       "      <th>890</th>\n",
       "      <td>C</td>\n",
       "      <td>30.0000</td>\n",
       "      <td>1</td>\n",
       "    </tr>\n",
       "    <tr>\n",
       "      <th>891</th>\n",
       "      <td>NaN</td>\n",
       "      <td>7.7500</td>\n",
       "      <td>0</td>\n",
       "    </tr>\n",
       "  </tbody>\n",
       "</table>\n",
       "<p>891 rows × 3 columns</p>\n",
       "</div>"
      ],
      "text/plain": [
       "            C_Initial     Fare  Survived\n",
       "PassengerId                             \n",
       "1                 NaN   7.2500         0\n",
       "2                   C  71.2833         1\n",
       "3                 NaN   7.9250         1\n",
       "4                   C  53.1000         1\n",
       "5                 NaN   8.0500         0\n",
       "...               ...      ...       ...\n",
       "887               NaN  13.0000         0\n",
       "888                 B  30.0000         1\n",
       "889               NaN  23.4500         0\n",
       "890                 C  30.0000         1\n",
       "891               NaN   7.7500         0\n",
       "\n",
       "[891 rows x 3 columns]"
      ]
     },
     "execution_count": 63,
     "metadata": {},
     "output_type": "execute_result"
    }
   ],
   "source": [
    "cabin_Survived = titanic.loc[:, ['C_Initial', 'Fare', 'Survived']]\n",
    "cabin_Survived"
   ]
  },
  {
   "cell_type": "markdown",
   "id": "14fbdede",
   "metadata": {},
   "source": [
    "객실 첫문자별 생존률은 다음과 같다.\n",
    "C로 시작하는 객실을 제외하고 객실요금이 비쌀수록 생존률이 올라갔다."
   ]
  },
  {
   "cell_type": "code",
   "execution_count": 64,
   "id": "c27a4baf",
   "metadata": {},
   "outputs": [
    {
     "data": {
      "text/html": [
       "<div>\n",
       "<style scoped>\n",
       "    .dataframe tbody tr th:only-of-type {\n",
       "        vertical-align: middle;\n",
       "    }\n",
       "\n",
       "    .dataframe tbody tr th {\n",
       "        vertical-align: top;\n",
       "    }\n",
       "\n",
       "    .dataframe thead th {\n",
       "        text-align: right;\n",
       "    }\n",
       "</style>\n",
       "<table border=\"1\" class=\"dataframe\">\n",
       "  <thead>\n",
       "    <tr style=\"text-align: right;\">\n",
       "      <th></th>\n",
       "      <th>Fare</th>\n",
       "      <th>Survived</th>\n",
       "    </tr>\n",
       "    <tr>\n",
       "      <th>C_Initial</th>\n",
       "      <th></th>\n",
       "      <th></th>\n",
       "    </tr>\n",
       "  </thead>\n",
       "  <tbody>\n",
       "    <tr>\n",
       "      <th>A</th>\n",
       "      <td>39.623887</td>\n",
       "      <td>0.466667</td>\n",
       "    </tr>\n",
       "    <tr>\n",
       "      <th>B</th>\n",
       "      <td>113.505764</td>\n",
       "      <td>0.744681</td>\n",
       "    </tr>\n",
       "    <tr>\n",
       "      <th>C</th>\n",
       "      <td>100.151341</td>\n",
       "      <td>0.593220</td>\n",
       "    </tr>\n",
       "    <tr>\n",
       "      <th>D</th>\n",
       "      <td>57.244576</td>\n",
       "      <td>0.757576</td>\n",
       "    </tr>\n",
       "    <tr>\n",
       "      <th>E</th>\n",
       "      <td>46.026694</td>\n",
       "      <td>0.750000</td>\n",
       "    </tr>\n",
       "    <tr>\n",
       "      <th>F</th>\n",
       "      <td>18.696792</td>\n",
       "      <td>0.615385</td>\n",
       "    </tr>\n",
       "    <tr>\n",
       "      <th>G</th>\n",
       "      <td>13.581250</td>\n",
       "      <td>0.500000</td>\n",
       "    </tr>\n",
       "    <tr>\n",
       "      <th>T</th>\n",
       "      <td>35.500000</td>\n",
       "      <td>0.000000</td>\n",
       "    </tr>\n",
       "  </tbody>\n",
       "</table>\n",
       "</div>"
      ],
      "text/plain": [
       "                 Fare  Survived\n",
       "C_Initial                      \n",
       "A           39.623887  0.466667\n",
       "B          113.505764  0.744681\n",
       "C          100.151341  0.593220\n",
       "D           57.244576  0.757576\n",
       "E           46.026694  0.750000\n",
       "F           18.696792  0.615385\n",
       "G           13.581250  0.500000\n",
       "T           35.500000  0.000000"
      ]
     },
     "execution_count": 64,
     "metadata": {},
     "output_type": "execute_result"
    }
   ],
   "source": [
    "cabin_Survived.groupby(['C_Initial']).mean()"
   ]
  },
  {
   "cell_type": "markdown",
   "id": "80e74d19",
   "metadata": {},
   "source": [
    "(6) 객실의 첫문자별 남녀 생존률을 확인하라."
   ]
  },
  {
   "cell_type": "markdown",
   "id": "6599b4c3",
   "metadata": {},
   "source": [
    "답:"
   ]
  },
  {
   "cell_type": "markdown",
   "id": "6a0f1a01",
   "metadata": {},
   "source": [
    "성별 특성도 추가해서 생존률을 확인한다."
   ]
  },
  {
   "cell_type": "code",
   "execution_count": 65,
   "id": "f6f06c53",
   "metadata": {},
   "outputs": [
    {
     "data": {
      "text/html": [
       "<div>\n",
       "<style scoped>\n",
       "    .dataframe tbody tr th:only-of-type {\n",
       "        vertical-align: middle;\n",
       "    }\n",
       "\n",
       "    .dataframe tbody tr th {\n",
       "        vertical-align: top;\n",
       "    }\n",
       "\n",
       "    .dataframe thead th {\n",
       "        text-align: right;\n",
       "    }\n",
       "</style>\n",
       "<table border=\"1\" class=\"dataframe\">\n",
       "  <thead>\n",
       "    <tr style=\"text-align: right;\">\n",
       "      <th></th>\n",
       "      <th>C_Initial</th>\n",
       "      <th>Sex</th>\n",
       "      <th>Fare</th>\n",
       "      <th>Survived</th>\n",
       "    </tr>\n",
       "    <tr>\n",
       "      <th>PassengerId</th>\n",
       "      <th></th>\n",
       "      <th></th>\n",
       "      <th></th>\n",
       "      <th></th>\n",
       "    </tr>\n",
       "  </thead>\n",
       "  <tbody>\n",
       "    <tr>\n",
       "      <th>1</th>\n",
       "      <td>NaN</td>\n",
       "      <td>male</td>\n",
       "      <td>7.2500</td>\n",
       "      <td>0</td>\n",
       "    </tr>\n",
       "    <tr>\n",
       "      <th>2</th>\n",
       "      <td>C</td>\n",
       "      <td>female</td>\n",
       "      <td>71.2833</td>\n",
       "      <td>1</td>\n",
       "    </tr>\n",
       "    <tr>\n",
       "      <th>3</th>\n",
       "      <td>NaN</td>\n",
       "      <td>female</td>\n",
       "      <td>7.9250</td>\n",
       "      <td>1</td>\n",
       "    </tr>\n",
       "    <tr>\n",
       "      <th>4</th>\n",
       "      <td>C</td>\n",
       "      <td>female</td>\n",
       "      <td>53.1000</td>\n",
       "      <td>1</td>\n",
       "    </tr>\n",
       "    <tr>\n",
       "      <th>5</th>\n",
       "      <td>NaN</td>\n",
       "      <td>male</td>\n",
       "      <td>8.0500</td>\n",
       "      <td>0</td>\n",
       "    </tr>\n",
       "    <tr>\n",
       "      <th>...</th>\n",
       "      <td>...</td>\n",
       "      <td>...</td>\n",
       "      <td>...</td>\n",
       "      <td>...</td>\n",
       "    </tr>\n",
       "    <tr>\n",
       "      <th>887</th>\n",
       "      <td>NaN</td>\n",
       "      <td>male</td>\n",
       "      <td>13.0000</td>\n",
       "      <td>0</td>\n",
       "    </tr>\n",
       "    <tr>\n",
       "      <th>888</th>\n",
       "      <td>B</td>\n",
       "      <td>female</td>\n",
       "      <td>30.0000</td>\n",
       "      <td>1</td>\n",
       "    </tr>\n",
       "    <tr>\n",
       "      <th>889</th>\n",
       "      <td>NaN</td>\n",
       "      <td>female</td>\n",
       "      <td>23.4500</td>\n",
       "      <td>0</td>\n",
       "    </tr>\n",
       "    <tr>\n",
       "      <th>890</th>\n",
       "      <td>C</td>\n",
       "      <td>male</td>\n",
       "      <td>30.0000</td>\n",
       "      <td>1</td>\n",
       "    </tr>\n",
       "    <tr>\n",
       "      <th>891</th>\n",
       "      <td>NaN</td>\n",
       "      <td>male</td>\n",
       "      <td>7.7500</td>\n",
       "      <td>0</td>\n",
       "    </tr>\n",
       "  </tbody>\n",
       "</table>\n",
       "<p>891 rows × 4 columns</p>\n",
       "</div>"
      ],
      "text/plain": [
       "            C_Initial     Sex     Fare  Survived\n",
       "PassengerId                                     \n",
       "1                 NaN    male   7.2500         0\n",
       "2                   C  female  71.2833         1\n",
       "3                 NaN  female   7.9250         1\n",
       "4                   C  female  53.1000         1\n",
       "5                 NaN    male   8.0500         0\n",
       "...               ...     ...      ...       ...\n",
       "887               NaN    male  13.0000         0\n",
       "888                 B  female  30.0000         1\n",
       "889               NaN  female  23.4500         0\n",
       "890                 C    male  30.0000         1\n",
       "891               NaN    male   7.7500         0\n",
       "\n",
       "[891 rows x 4 columns]"
      ]
     },
     "execution_count": 65,
     "metadata": {},
     "output_type": "execute_result"
    }
   ],
   "source": [
    "cabin_Survived = titanic.loc[:, ['C_Initial', 'Sex', 'Fare', 'Survived']]\n",
    "cabin_Survived"
   ]
  },
  {
   "cell_type": "markdown",
   "id": "d0888bde",
   "metadata": {},
   "source": [
    "객실 첫문자와 성(Sex)을 기준으로 그룹화한 후에 그룹별로 생존률을 계산한다."
   ]
  },
  {
   "cell_type": "code",
   "execution_count": 66,
   "id": "ae0d6bb0",
   "metadata": {},
   "outputs": [
    {
     "data": {
      "text/html": [
       "<div>\n",
       "<style scoped>\n",
       "    .dataframe tbody tr th:only-of-type {\n",
       "        vertical-align: middle;\n",
       "    }\n",
       "\n",
       "    .dataframe tbody tr th {\n",
       "        vertical-align: top;\n",
       "    }\n",
       "\n",
       "    .dataframe thead th {\n",
       "        text-align: right;\n",
       "    }\n",
       "</style>\n",
       "<table border=\"1\" class=\"dataframe\">\n",
       "  <thead>\n",
       "    <tr style=\"text-align: right;\">\n",
       "      <th></th>\n",
       "      <th></th>\n",
       "      <th>Fare</th>\n",
       "      <th>Survived</th>\n",
       "    </tr>\n",
       "    <tr>\n",
       "      <th>C_Initial</th>\n",
       "      <th>Sex</th>\n",
       "      <th></th>\n",
       "      <th></th>\n",
       "    </tr>\n",
       "  </thead>\n",
       "  <tbody>\n",
       "    <tr>\n",
       "      <th rowspan=\"2\" valign=\"top\">A</th>\n",
       "      <th>female</th>\n",
       "      <td>39.600000</td>\n",
       "      <td>1.000000</td>\n",
       "    </tr>\n",
       "    <tr>\n",
       "      <th>male</th>\n",
       "      <td>39.625593</td>\n",
       "      <td>0.428571</td>\n",
       "    </tr>\n",
       "    <tr>\n",
       "      <th rowspan=\"2\" valign=\"top\">B</th>\n",
       "      <th>female</th>\n",
       "      <td>115.803085</td>\n",
       "      <td>1.000000</td>\n",
       "    </tr>\n",
       "    <tr>\n",
       "      <th>male</th>\n",
       "      <td>110.404380</td>\n",
       "      <td>0.400000</td>\n",
       "    </tr>\n",
       "    <tr>\n",
       "      <th rowspan=\"2\" valign=\"top\">C</th>\n",
       "      <th>female</th>\n",
       "      <td>117.226541</td>\n",
       "      <td>0.888889</td>\n",
       "    </tr>\n",
       "    <tr>\n",
       "      <th>male</th>\n",
       "      <td>85.744141</td>\n",
       "      <td>0.343750</td>\n",
       "    </tr>\n",
       "    <tr>\n",
       "      <th rowspan=\"2\" valign=\"top\">D</th>\n",
       "      <th>female</th>\n",
       "      <td>60.776628</td>\n",
       "      <td>1.000000</td>\n",
       "    </tr>\n",
       "    <tr>\n",
       "      <th>male</th>\n",
       "      <td>53.006113</td>\n",
       "      <td>0.466667</td>\n",
       "    </tr>\n",
       "    <tr>\n",
       "      <th rowspan=\"2\" valign=\"top\">E</th>\n",
       "      <th>female</th>\n",
       "      <td>56.414167</td>\n",
       "      <td>0.933333</td>\n",
       "    </tr>\n",
       "    <tr>\n",
       "      <th>male</th>\n",
       "      <td>36.861276</td>\n",
       "      <td>0.588235</td>\n",
       "    </tr>\n",
       "    <tr>\n",
       "      <th rowspan=\"2\" valign=\"top\">F</th>\n",
       "      <th>female</th>\n",
       "      <td>19.071660</td>\n",
       "      <td>1.000000</td>\n",
       "    </tr>\n",
       "    <tr>\n",
       "      <th>male</th>\n",
       "      <td>18.462500</td>\n",
       "      <td>0.375000</td>\n",
       "    </tr>\n",
       "    <tr>\n",
       "      <th>G</th>\n",
       "      <th>female</th>\n",
       "      <td>13.581250</td>\n",
       "      <td>0.500000</td>\n",
       "    </tr>\n",
       "    <tr>\n",
       "      <th>T</th>\n",
       "      <th>male</th>\n",
       "      <td>35.500000</td>\n",
       "      <td>0.000000</td>\n",
       "    </tr>\n",
       "  </tbody>\n",
       "</table>\n",
       "</div>"
      ],
      "text/plain": [
       "                        Fare  Survived\n",
       "C_Initial Sex                         \n",
       "A         female   39.600000  1.000000\n",
       "          male     39.625593  0.428571\n",
       "B         female  115.803085  1.000000\n",
       "          male    110.404380  0.400000\n",
       "C         female  117.226541  0.888889\n",
       "          male     85.744141  0.343750\n",
       "D         female   60.776628  1.000000\n",
       "          male     53.006113  0.466667\n",
       "E         female   56.414167  0.933333\n",
       "          male     36.861276  0.588235\n",
       "F         female   19.071660  1.000000\n",
       "          male     18.462500  0.375000\n",
       "G         female   13.581250  0.500000\n",
       "T         male     35.500000  0.000000"
      ]
     },
     "execution_count": 66,
     "metadata": {},
     "output_type": "execute_result"
    }
   ],
   "source": [
    "cabin_sex_survived_rate = cabin_Survived.groupby(['C_Initial', 'Sex']).mean()\n",
    "cabin_sex_survived_rate"
   ]
  },
  {
   "cell_type": "markdown",
   "id": "bdd04604",
   "metadata": {},
   "source": [
    "여성의 생존률이 1인 그룹이 몇 군데 있다.\n",
    "이런 경우엔 도수를 확인해봐야 한다."
   ]
  },
  {
   "cell_type": "code",
   "execution_count": 67,
   "id": "4e5100b8",
   "metadata": {},
   "outputs": [
    {
     "data": {
      "text/html": [
       "<div>\n",
       "<style scoped>\n",
       "    .dataframe tbody tr th:only-of-type {\n",
       "        vertical-align: middle;\n",
       "    }\n",
       "\n",
       "    .dataframe tbody tr th {\n",
       "        vertical-align: top;\n",
       "    }\n",
       "\n",
       "    .dataframe thead th {\n",
       "        text-align: right;\n",
       "    }\n",
       "</style>\n",
       "<table border=\"1\" class=\"dataframe\">\n",
       "  <thead>\n",
       "    <tr style=\"text-align: right;\">\n",
       "      <th></th>\n",
       "      <th></th>\n",
       "      <th>Fare</th>\n",
       "      <th>Survived</th>\n",
       "    </tr>\n",
       "    <tr>\n",
       "      <th>C_Initial</th>\n",
       "      <th>Sex</th>\n",
       "      <th></th>\n",
       "      <th></th>\n",
       "    </tr>\n",
       "  </thead>\n",
       "  <tbody>\n",
       "    <tr>\n",
       "      <th rowspan=\"2\" valign=\"top\">A</th>\n",
       "      <th>female</th>\n",
       "      <td>1</td>\n",
       "      <td>1</td>\n",
       "    </tr>\n",
       "    <tr>\n",
       "      <th>male</th>\n",
       "      <td>14</td>\n",
       "      <td>14</td>\n",
       "    </tr>\n",
       "    <tr>\n",
       "      <th rowspan=\"2\" valign=\"top\">B</th>\n",
       "      <th>female</th>\n",
       "      <td>27</td>\n",
       "      <td>27</td>\n",
       "    </tr>\n",
       "    <tr>\n",
       "      <th>male</th>\n",
       "      <td>20</td>\n",
       "      <td>20</td>\n",
       "    </tr>\n",
       "    <tr>\n",
       "      <th rowspan=\"2\" valign=\"top\">C</th>\n",
       "      <th>female</th>\n",
       "      <td>27</td>\n",
       "      <td>27</td>\n",
       "    </tr>\n",
       "    <tr>\n",
       "      <th>male</th>\n",
       "      <td>32</td>\n",
       "      <td>32</td>\n",
       "    </tr>\n",
       "    <tr>\n",
       "      <th rowspan=\"2\" valign=\"top\">D</th>\n",
       "      <th>female</th>\n",
       "      <td>18</td>\n",
       "      <td>18</td>\n",
       "    </tr>\n",
       "    <tr>\n",
       "      <th>male</th>\n",
       "      <td>15</td>\n",
       "      <td>15</td>\n",
       "    </tr>\n",
       "    <tr>\n",
       "      <th rowspan=\"2\" valign=\"top\">E</th>\n",
       "      <th>female</th>\n",
       "      <td>15</td>\n",
       "      <td>15</td>\n",
       "    </tr>\n",
       "    <tr>\n",
       "      <th>male</th>\n",
       "      <td>17</td>\n",
       "      <td>17</td>\n",
       "    </tr>\n",
       "    <tr>\n",
       "      <th rowspan=\"2\" valign=\"top\">F</th>\n",
       "      <th>female</th>\n",
       "      <td>5</td>\n",
       "      <td>5</td>\n",
       "    </tr>\n",
       "    <tr>\n",
       "      <th>male</th>\n",
       "      <td>8</td>\n",
       "      <td>8</td>\n",
       "    </tr>\n",
       "    <tr>\n",
       "      <th>G</th>\n",
       "      <th>female</th>\n",
       "      <td>4</td>\n",
       "      <td>4</td>\n",
       "    </tr>\n",
       "    <tr>\n",
       "      <th>T</th>\n",
       "      <th>male</th>\n",
       "      <td>1</td>\n",
       "      <td>1</td>\n",
       "    </tr>\n",
       "  </tbody>\n",
       "</table>\n",
       "</div>"
      ],
      "text/plain": [
       "                  Fare  Survived\n",
       "C_Initial Sex                   \n",
       "A         female     1         1\n",
       "          male      14        14\n",
       "B         female    27        27\n",
       "          male      20        20\n",
       "C         female    27        27\n",
       "          male      32        32\n",
       "D         female    18        18\n",
       "          male      15        15\n",
       "E         female    15        15\n",
       "          male      17        17\n",
       "F         female     5         5\n",
       "          male       8         8\n",
       "G         female     4         4\n",
       "T         male       1         1"
      ]
     },
     "execution_count": 67,
     "metadata": {},
     "output_type": "execute_result"
    }
   ],
   "source": [
    "cabin_sex_survived_count = cabin_Survived.groupby(['C_Initial', 'Sex']).count()\n",
    "cabin_sex_survived_count"
   ]
  },
  {
   "cell_type": "markdown",
   "id": "81c93d04",
   "metadata": {},
   "source": [
    "실제 생존자수는 다음과 같다."
   ]
  },
  {
   "cell_type": "code",
   "execution_count": 68,
   "id": "1541f2a2",
   "metadata": {},
   "outputs": [
    {
     "data": {
      "text/html": [
       "<div>\n",
       "<style scoped>\n",
       "    .dataframe tbody tr th:only-of-type {\n",
       "        vertical-align: middle;\n",
       "    }\n",
       "\n",
       "    .dataframe tbody tr th {\n",
       "        vertical-align: top;\n",
       "    }\n",
       "\n",
       "    .dataframe thead th {\n",
       "        text-align: right;\n",
       "    }\n",
       "</style>\n",
       "<table border=\"1\" class=\"dataframe\">\n",
       "  <thead>\n",
       "    <tr style=\"text-align: right;\">\n",
       "      <th></th>\n",
       "      <th></th>\n",
       "      <th>Fare</th>\n",
       "      <th>Survived</th>\n",
       "    </tr>\n",
       "    <tr>\n",
       "      <th>C_Initial</th>\n",
       "      <th>Sex</th>\n",
       "      <th></th>\n",
       "      <th></th>\n",
       "    </tr>\n",
       "  </thead>\n",
       "  <tbody>\n",
       "    <tr>\n",
       "      <th rowspan=\"2\" valign=\"top\">A</th>\n",
       "      <th>female</th>\n",
       "      <td>39.6000</td>\n",
       "      <td>1</td>\n",
       "    </tr>\n",
       "    <tr>\n",
       "      <th>male</th>\n",
       "      <td>554.7583</td>\n",
       "      <td>6</td>\n",
       "    </tr>\n",
       "    <tr>\n",
       "      <th rowspan=\"2\" valign=\"top\">B</th>\n",
       "      <th>female</th>\n",
       "      <td>3126.6833</td>\n",
       "      <td>27</td>\n",
       "    </tr>\n",
       "    <tr>\n",
       "      <th>male</th>\n",
       "      <td>2208.0876</td>\n",
       "      <td>8</td>\n",
       "    </tr>\n",
       "    <tr>\n",
       "      <th rowspan=\"2\" valign=\"top\">C</th>\n",
       "      <th>female</th>\n",
       "      <td>3165.1166</td>\n",
       "      <td>24</td>\n",
       "    </tr>\n",
       "    <tr>\n",
       "      <th>male</th>\n",
       "      <td>2743.8125</td>\n",
       "      <td>11</td>\n",
       "    </tr>\n",
       "    <tr>\n",
       "      <th rowspan=\"2\" valign=\"top\">D</th>\n",
       "      <th>female</th>\n",
       "      <td>1093.9793</td>\n",
       "      <td>18</td>\n",
       "    </tr>\n",
       "    <tr>\n",
       "      <th>male</th>\n",
       "      <td>795.0917</td>\n",
       "      <td>7</td>\n",
       "    </tr>\n",
       "    <tr>\n",
       "      <th rowspan=\"2\" valign=\"top\">E</th>\n",
       "      <th>female</th>\n",
       "      <td>846.2125</td>\n",
       "      <td>14</td>\n",
       "    </tr>\n",
       "    <tr>\n",
       "      <th>male</th>\n",
       "      <td>626.6417</td>\n",
       "      <td>10</td>\n",
       "    </tr>\n",
       "    <tr>\n",
       "      <th rowspan=\"2\" valign=\"top\">F</th>\n",
       "      <th>female</th>\n",
       "      <td>95.3583</td>\n",
       "      <td>5</td>\n",
       "    </tr>\n",
       "    <tr>\n",
       "      <th>male</th>\n",
       "      <td>147.7000</td>\n",
       "      <td>3</td>\n",
       "    </tr>\n",
       "    <tr>\n",
       "      <th>G</th>\n",
       "      <th>female</th>\n",
       "      <td>54.3250</td>\n",
       "      <td>2</td>\n",
       "    </tr>\n",
       "    <tr>\n",
       "      <th>T</th>\n",
       "      <th>male</th>\n",
       "      <td>35.5000</td>\n",
       "      <td>0</td>\n",
       "    </tr>\n",
       "  </tbody>\n",
       "</table>\n",
       "</div>"
      ],
      "text/plain": [
       "                       Fare  Survived\n",
       "C_Initial Sex                        \n",
       "A         female    39.6000         1\n",
       "          male     554.7583         6\n",
       "B         female  3126.6833        27\n",
       "          male    2208.0876         8\n",
       "C         female  3165.1166        24\n",
       "          male    2743.8125        11\n",
       "D         female  1093.9793        18\n",
       "          male     795.0917         7\n",
       "E         female   846.2125        14\n",
       "          male     626.6417        10\n",
       "F         female    95.3583         5\n",
       "          male     147.7000         3\n",
       "G         female    54.3250         2\n",
       "T         male      35.5000         0"
      ]
     },
     "execution_count": 68,
     "metadata": {},
     "output_type": "execute_result"
    }
   ],
   "source": [
    "cabin_sex_survived_sum = cabin_Survived.groupby(['C_Initial', 'Sex']).sum()\n",
    "cabin_sex_survived_sum"
   ]
  },
  {
   "cell_type": "markdown",
   "id": "e323f1db",
   "metadata": {},
   "source": [
    "그룹별 크기와 생존률을 하나의 데이터프레임으로 만들면 전체 내용을 익히기 편리하다."
   ]
  },
  {
   "cell_type": "code",
   "execution_count": 69,
   "id": "3b5fe2ac",
   "metadata": {},
   "outputs": [
    {
     "data": {
      "text/html": [
       "<div>\n",
       "<style scoped>\n",
       "    .dataframe tbody tr th:only-of-type {\n",
       "        vertical-align: middle;\n",
       "    }\n",
       "\n",
       "    .dataframe tbody tr th {\n",
       "        vertical-align: top;\n",
       "    }\n",
       "\n",
       "    .dataframe thead th {\n",
       "        text-align: right;\n",
       "    }\n",
       "</style>\n",
       "<table border=\"1\" class=\"dataframe\">\n",
       "  <thead>\n",
       "    <tr style=\"text-align: right;\">\n",
       "      <th></th>\n",
       "      <th></th>\n",
       "      <th>요금평균</th>\n",
       "      <th>생존률</th>\n",
       "    </tr>\n",
       "    <tr>\n",
       "      <th>C_Initial</th>\n",
       "      <th>Sex</th>\n",
       "      <th></th>\n",
       "      <th></th>\n",
       "    </tr>\n",
       "  </thead>\n",
       "  <tbody>\n",
       "    <tr>\n",
       "      <th rowspan=\"2\" valign=\"top\">A</th>\n",
       "      <th>female</th>\n",
       "      <td>39.600000</td>\n",
       "      <td>1.000000</td>\n",
       "    </tr>\n",
       "    <tr>\n",
       "      <th>male</th>\n",
       "      <td>39.625593</td>\n",
       "      <td>0.428571</td>\n",
       "    </tr>\n",
       "    <tr>\n",
       "      <th rowspan=\"2\" valign=\"top\">B</th>\n",
       "      <th>female</th>\n",
       "      <td>115.803085</td>\n",
       "      <td>1.000000</td>\n",
       "    </tr>\n",
       "    <tr>\n",
       "      <th>male</th>\n",
       "      <td>110.404380</td>\n",
       "      <td>0.400000</td>\n",
       "    </tr>\n",
       "    <tr>\n",
       "      <th rowspan=\"2\" valign=\"top\">C</th>\n",
       "      <th>female</th>\n",
       "      <td>117.226541</td>\n",
       "      <td>0.888889</td>\n",
       "    </tr>\n",
       "    <tr>\n",
       "      <th>male</th>\n",
       "      <td>85.744141</td>\n",
       "      <td>0.343750</td>\n",
       "    </tr>\n",
       "    <tr>\n",
       "      <th rowspan=\"2\" valign=\"top\">D</th>\n",
       "      <th>female</th>\n",
       "      <td>60.776628</td>\n",
       "      <td>1.000000</td>\n",
       "    </tr>\n",
       "    <tr>\n",
       "      <th>male</th>\n",
       "      <td>53.006113</td>\n",
       "      <td>0.466667</td>\n",
       "    </tr>\n",
       "    <tr>\n",
       "      <th rowspan=\"2\" valign=\"top\">E</th>\n",
       "      <th>female</th>\n",
       "      <td>56.414167</td>\n",
       "      <td>0.933333</td>\n",
       "    </tr>\n",
       "    <tr>\n",
       "      <th>male</th>\n",
       "      <td>36.861276</td>\n",
       "      <td>0.588235</td>\n",
       "    </tr>\n",
       "    <tr>\n",
       "      <th rowspan=\"2\" valign=\"top\">F</th>\n",
       "      <th>female</th>\n",
       "      <td>19.071660</td>\n",
       "      <td>1.000000</td>\n",
       "    </tr>\n",
       "    <tr>\n",
       "      <th>male</th>\n",
       "      <td>18.462500</td>\n",
       "      <td>0.375000</td>\n",
       "    </tr>\n",
       "    <tr>\n",
       "      <th>G</th>\n",
       "      <th>female</th>\n",
       "      <td>13.581250</td>\n",
       "      <td>0.500000</td>\n",
       "    </tr>\n",
       "    <tr>\n",
       "      <th>T</th>\n",
       "      <th>male</th>\n",
       "      <td>35.500000</td>\n",
       "      <td>0.000000</td>\n",
       "    </tr>\n",
       "  </tbody>\n",
       "</table>\n",
       "</div>"
      ],
      "text/plain": [
       "                        요금평균       생존률\n",
       "C_Initial Sex                         \n",
       "A         female   39.600000  1.000000\n",
       "          male     39.625593  0.428571\n",
       "B         female  115.803085  1.000000\n",
       "          male    110.404380  0.400000\n",
       "C         female  117.226541  0.888889\n",
       "          male     85.744141  0.343750\n",
       "D         female   60.776628  1.000000\n",
       "          male     53.006113  0.466667\n",
       "E         female   56.414167  0.933333\n",
       "          male     36.861276  0.588235\n",
       "F         female   19.071660  1.000000\n",
       "          male     18.462500  0.375000\n",
       "G         female   13.581250  0.500000\n",
       "T         male     35.500000  0.000000"
      ]
     },
     "execution_count": 69,
     "metadata": {},
     "output_type": "execute_result"
    }
   ],
   "source": [
    "cabin_summary = cabin_sex_survived_rate.copy()\n",
    "cabin_summary.columns = ['요금평균', '생존률']\n",
    "cabin_summary"
   ]
  },
  {
   "cell_type": "code",
   "execution_count": 70,
   "id": "8963bb9d",
   "metadata": {},
   "outputs": [
    {
     "data": {
      "text/html": [
       "<div>\n",
       "<style scoped>\n",
       "    .dataframe tbody tr th:only-of-type {\n",
       "        vertical-align: middle;\n",
       "    }\n",
       "\n",
       "    .dataframe tbody tr th {\n",
       "        vertical-align: top;\n",
       "    }\n",
       "\n",
       "    .dataframe thead th {\n",
       "        text-align: right;\n",
       "    }\n",
       "</style>\n",
       "<table border=\"1\" class=\"dataframe\">\n",
       "  <thead>\n",
       "    <tr style=\"text-align: right;\">\n",
       "      <th></th>\n",
       "      <th></th>\n",
       "      <th>요금평균</th>\n",
       "      <th>생존률</th>\n",
       "      <th>생존자수</th>\n",
       "      <th>도수</th>\n",
       "    </tr>\n",
       "    <tr>\n",
       "      <th>C_Initial</th>\n",
       "      <th>Sex</th>\n",
       "      <th></th>\n",
       "      <th></th>\n",
       "      <th></th>\n",
       "      <th></th>\n",
       "    </tr>\n",
       "  </thead>\n",
       "  <tbody>\n",
       "    <tr>\n",
       "      <th rowspan=\"2\" valign=\"top\">A</th>\n",
       "      <th>female</th>\n",
       "      <td>39.600000</td>\n",
       "      <td>1.000000</td>\n",
       "      <td>1</td>\n",
       "      <td>1</td>\n",
       "    </tr>\n",
       "    <tr>\n",
       "      <th>male</th>\n",
       "      <td>39.625593</td>\n",
       "      <td>0.428571</td>\n",
       "      <td>6</td>\n",
       "      <td>14</td>\n",
       "    </tr>\n",
       "    <tr>\n",
       "      <th rowspan=\"2\" valign=\"top\">B</th>\n",
       "      <th>female</th>\n",
       "      <td>115.803085</td>\n",
       "      <td>1.000000</td>\n",
       "      <td>27</td>\n",
       "      <td>27</td>\n",
       "    </tr>\n",
       "    <tr>\n",
       "      <th>male</th>\n",
       "      <td>110.404380</td>\n",
       "      <td>0.400000</td>\n",
       "      <td>8</td>\n",
       "      <td>20</td>\n",
       "    </tr>\n",
       "    <tr>\n",
       "      <th rowspan=\"2\" valign=\"top\">C</th>\n",
       "      <th>female</th>\n",
       "      <td>117.226541</td>\n",
       "      <td>0.888889</td>\n",
       "      <td>24</td>\n",
       "      <td>27</td>\n",
       "    </tr>\n",
       "    <tr>\n",
       "      <th>male</th>\n",
       "      <td>85.744141</td>\n",
       "      <td>0.343750</td>\n",
       "      <td>11</td>\n",
       "      <td>32</td>\n",
       "    </tr>\n",
       "    <tr>\n",
       "      <th rowspan=\"2\" valign=\"top\">D</th>\n",
       "      <th>female</th>\n",
       "      <td>60.776628</td>\n",
       "      <td>1.000000</td>\n",
       "      <td>18</td>\n",
       "      <td>18</td>\n",
       "    </tr>\n",
       "    <tr>\n",
       "      <th>male</th>\n",
       "      <td>53.006113</td>\n",
       "      <td>0.466667</td>\n",
       "      <td>7</td>\n",
       "      <td>15</td>\n",
       "    </tr>\n",
       "    <tr>\n",
       "      <th rowspan=\"2\" valign=\"top\">E</th>\n",
       "      <th>female</th>\n",
       "      <td>56.414167</td>\n",
       "      <td>0.933333</td>\n",
       "      <td>14</td>\n",
       "      <td>15</td>\n",
       "    </tr>\n",
       "    <tr>\n",
       "      <th>male</th>\n",
       "      <td>36.861276</td>\n",
       "      <td>0.588235</td>\n",
       "      <td>10</td>\n",
       "      <td>17</td>\n",
       "    </tr>\n",
       "    <tr>\n",
       "      <th rowspan=\"2\" valign=\"top\">F</th>\n",
       "      <th>female</th>\n",
       "      <td>19.071660</td>\n",
       "      <td>1.000000</td>\n",
       "      <td>5</td>\n",
       "      <td>5</td>\n",
       "    </tr>\n",
       "    <tr>\n",
       "      <th>male</th>\n",
       "      <td>18.462500</td>\n",
       "      <td>0.375000</td>\n",
       "      <td>3</td>\n",
       "      <td>8</td>\n",
       "    </tr>\n",
       "    <tr>\n",
       "      <th>G</th>\n",
       "      <th>female</th>\n",
       "      <td>13.581250</td>\n",
       "      <td>0.500000</td>\n",
       "      <td>2</td>\n",
       "      <td>4</td>\n",
       "    </tr>\n",
       "    <tr>\n",
       "      <th>T</th>\n",
       "      <th>male</th>\n",
       "      <td>35.500000</td>\n",
       "      <td>0.000000</td>\n",
       "      <td>0</td>\n",
       "      <td>1</td>\n",
       "    </tr>\n",
       "  </tbody>\n",
       "</table>\n",
       "</div>"
      ],
      "text/plain": [
       "                        요금평균       생존률  생존자수  도수\n",
       "C_Initial Sex                                   \n",
       "A         female   39.600000  1.000000     1   1\n",
       "          male     39.625593  0.428571     6  14\n",
       "B         female  115.803085  1.000000    27  27\n",
       "          male    110.404380  0.400000     8  20\n",
       "C         female  117.226541  0.888889    24  27\n",
       "          male     85.744141  0.343750    11  32\n",
       "D         female   60.776628  1.000000    18  18\n",
       "          male     53.006113  0.466667     7  15\n",
       "E         female   56.414167  0.933333    14  15\n",
       "          male     36.861276  0.588235    10  17\n",
       "F         female   19.071660  1.000000     5   5\n",
       "          male     18.462500  0.375000     3   8\n",
       "G         female   13.581250  0.500000     2   4\n",
       "T         male     35.500000  0.000000     0   1"
      ]
     },
     "execution_count": 70,
     "metadata": {},
     "output_type": "execute_result"
    }
   ],
   "source": [
    "cabin_summary[\"생존자수\"] = cabin_sex_survived_sum.iloc[:, 1]\n",
    "cabin_summary[\"도수\"] = cabin_sex_survived_count.iloc[:, 1]\n",
    "cabin_summary"
   ]
  },
  {
   "cell_type": "markdown",
   "id": "755f0855",
   "metadata": {},
   "source": [
    "아래 표에서 확인되듯이 객실 정보가 있는 여성중에서 비싼 객실에 투숙한 여성의 생존률이 압도적이다."
   ]
  },
  {
   "cell_type": "markdown",
   "id": "0804cdb5",
   "metadata": {},
   "source": [
    "| 객실 첫문자 | 설명 |\n",
    "| :---: | :--- |\n",
    "| A | 1명뿐이기에 통계적 의미 없음 |\n",
    "| B | 여성 27명 전원 생존 |\n",
    "| C | 여성 27명 중 24명 생존 |\n",
    "| D | 여성 18명 전원 생존 |\n",
    "| E | 여성 15명 중 14명 생존 |\n",
    "| F | 여성 5명 전원 생존 |\n",
    "| G | 여성 4명 중 2명 생존 |"
   ]
  },
  {
   "cell_type": "markdown",
   "id": "99c5ca0f",
   "metadata": {},
   "source": [
    "**문제 2**"
   ]
  },
  {
   "cell_type": "markdown",
   "id": "5e3e0d09",
   "metadata": {},
   "source": [
    "타이타닉호에 탑승했던 891명의 승객에서 1명을 무작위로 선택했을 때의 생존여부를 가리키는 확률 변수를 X라 하자.\n",
    "확률 변수 X의 확률 분포는 다음과 같다.\n",
    "단, 0과 1은 각각 사망과 생존을 가리킨다.\n",
    "\n",
    "| X | 0 | 1 |\n",
    "| :---: | :---: | :---: |\n",
    "| 확률 | 0.62 | 0.38 |"
   ]
  },
  {
   "cell_type": "markdown",
   "id": "76b7a771",
   "metadata": {},
   "source": [
    "이유는 다음과 같이 타이타닉 승객의 생존률이 0.38이기 때문이다."
   ]
  },
  {
   "cell_type": "code",
   "execution_count": 71,
   "id": "50dc6891",
   "metadata": {},
   "outputs": [
    {
     "data": {
      "text/plain": [
       "0.383838"
      ]
     },
     "execution_count": 71,
     "metadata": {},
     "output_type": "execute_result"
    }
   ],
   "source": [
    "titanic['Survived'].mean()"
   ]
  },
  {
   "cell_type": "markdown",
   "id": "91a97f91",
   "metadata": {},
   "source": [
    "(1) 남성 승객에서 1명을 무작위로 선택했을 때의 생존여부를 가리키는 확률 변수를 X라 하자.\n",
    "확률 변수 X의 확률 분포를 구하라. "
   ]
  },
  {
   "cell_type": "markdown",
   "id": "8ea997d8",
   "metadata": {},
   "source": [
    "답:"
   ]
  },
  {
   "cell_type": "markdown",
   "id": "ab17f5ed",
   "metadata": {},
   "source": [
    "성별 생존률은 다음과 같다."
   ]
  },
  {
   "cell_type": "code",
   "execution_count": 72,
   "id": "a5fe1027",
   "metadata": {},
   "outputs": [
    {
     "data": {
      "text/html": [
       "<div>\n",
       "<style scoped>\n",
       "    .dataframe tbody tr th:only-of-type {\n",
       "        vertical-align: middle;\n",
       "    }\n",
       "\n",
       "    .dataframe tbody tr th {\n",
       "        vertical-align: top;\n",
       "    }\n",
       "\n",
       "    .dataframe thead th {\n",
       "        text-align: right;\n",
       "    }\n",
       "</style>\n",
       "<table border=\"1\" class=\"dataframe\">\n",
       "  <thead>\n",
       "    <tr style=\"text-align: right;\">\n",
       "      <th></th>\n",
       "      <th>Survived</th>\n",
       "    </tr>\n",
       "    <tr>\n",
       "      <th>Sex</th>\n",
       "      <th></th>\n",
       "    </tr>\n",
       "  </thead>\n",
       "  <tbody>\n",
       "    <tr>\n",
       "      <th>female</th>\n",
       "      <td>0.742038</td>\n",
       "    </tr>\n",
       "    <tr>\n",
       "      <th>male</th>\n",
       "      <td>0.188908</td>\n",
       "    </tr>\n",
       "  </tbody>\n",
       "</table>\n",
       "</div>"
      ],
      "text/plain": [
       "        Survived\n",
       "Sex             \n",
       "female  0.742038\n",
       "male    0.188908"
      ]
     },
     "execution_count": 72,
     "metadata": {},
     "output_type": "execute_result"
    }
   ],
   "source": [
    "titanic[['Sex', 'Survived']].groupby('Sex').mean()"
   ]
  },
  {
   "cell_type": "markdown",
   "id": "19681563",
   "metadata": {},
   "source": [
    "따라서 확률 변수 X의 확률분포는 다음과 같다."
   ]
  },
  {
   "cell_type": "markdown",
   "id": "294fb088",
   "metadata": {},
   "source": [
    "| X | 0 | 1 |\n",
    "| :---: | :---: | :---: |\n",
    "| 확률 | 0.81 | 0.19 |"
   ]
  },
  {
   "cell_type": "markdown",
   "id": "a703b100",
   "metadata": {},
   "source": [
    "(2) 객실 정보가 없는 여성 승객에서 1명을 무작위로 선택했을 때의 생존여부를 가리키는 확률 변수를 X라 하자.\n",
    "확률 변수 X의 확률 분포를 구하라. "
   ]
  },
  {
   "cell_type": "markdown",
   "id": "47dfc95a",
   "metadata": {},
   "source": [
    "답:"
   ]
  },
  {
   "cell_type": "markdown",
   "id": "519bc58f",
   "metadata": {},
   "source": [
    "객실정보 유무에 따른 성별 생존률은 다음과 같다."
   ]
  },
  {
   "cell_type": "code",
   "execution_count": 73,
   "id": "913537d2",
   "metadata": {},
   "outputs": [
    {
     "data": {
      "text/html": [
       "<div>\n",
       "<style scoped>\n",
       "    .dataframe tbody tr th:only-of-type {\n",
       "        vertical-align: middle;\n",
       "    }\n",
       "\n",
       "    .dataframe tbody tr th {\n",
       "        vertical-align: top;\n",
       "    }\n",
       "\n",
       "    .dataframe thead th {\n",
       "        text-align: right;\n",
       "    }\n",
       "</style>\n",
       "<table border=\"1\" class=\"dataframe\">\n",
       "  <thead>\n",
       "    <tr style=\"text-align: right;\">\n",
       "      <th></th>\n",
       "      <th></th>\n",
       "      <th>Survived</th>\n",
       "    </tr>\n",
       "    <tr>\n",
       "      <th>Cabin?</th>\n",
       "      <th>Sex</th>\n",
       "      <th></th>\n",
       "    </tr>\n",
       "  </thead>\n",
       "  <tbody>\n",
       "    <tr>\n",
       "      <th rowspan=\"2\" valign=\"top\">False</th>\n",
       "      <th>female</th>\n",
       "      <td>0.654378</td>\n",
       "    </tr>\n",
       "    <tr>\n",
       "      <th>male</th>\n",
       "      <td>0.136170</td>\n",
       "    </tr>\n",
       "    <tr>\n",
       "      <th rowspan=\"2\" valign=\"top\">True</th>\n",
       "      <th>female</th>\n",
       "      <td>0.938144</td>\n",
       "    </tr>\n",
       "    <tr>\n",
       "      <th>male</th>\n",
       "      <td>0.420561</td>\n",
       "    </tr>\n",
       "  </tbody>\n",
       "</table>\n",
       "</div>"
      ],
      "text/plain": [
       "               Survived\n",
       "Cabin? Sex             \n",
       "False  female  0.654378\n",
       "       male    0.136170\n",
       "True   female  0.938144\n",
       "       male    0.420561"
      ]
     },
     "execution_count": 73,
     "metadata": {},
     "output_type": "execute_result"
    }
   ],
   "source": [
    "titanic[['Cabin?', 'Sex', 'Survived']].groupby(['Cabin?', 'Sex']).mean()"
   ]
  },
  {
   "cell_type": "markdown",
   "id": "ef6c7ca4",
   "metadata": {},
   "source": [
    "따라서 확률 변수 X의 학률분포는 다음과 같다."
   ]
  },
  {
   "cell_type": "markdown",
   "id": "bcf770a5",
   "metadata": {},
   "source": [
    "| X | 0 | 1 |\n",
    "| :---: | :---: | :---: |\n",
    "| 확률 | 0.35 | 0.65 |"
   ]
  },
  {
   "cell_type": "markdown",
   "id": "2de3cd3c",
   "metadata": {},
   "source": [
    "(3) C로 시작하는 객실 정보가 있는 남성 승객에서 1명을 무작위로 선택했을 때의 생존여부를 가리키는 확률 변수를 X라 하자.\n",
    "확률 변수 X의 확률 분포를 구하라. "
   ]
  },
  {
   "cell_type": "markdown",
   "id": "47e686ab",
   "metadata": {},
   "source": [
    "답:"
   ]
  },
  {
   "cell_type": "markdown",
   "id": "5d2246b2",
   "metadata": {},
   "source": [
    "객실정보의 첫문자와 성별 생존률은 다음과 같다."
   ]
  },
  {
   "cell_type": "code",
   "execution_count": 74,
   "id": "ad70565c",
   "metadata": {},
   "outputs": [
    {
     "data": {
      "text/html": [
       "<div>\n",
       "<style scoped>\n",
       "    .dataframe tbody tr th:only-of-type {\n",
       "        vertical-align: middle;\n",
       "    }\n",
       "\n",
       "    .dataframe tbody tr th {\n",
       "        vertical-align: top;\n",
       "    }\n",
       "\n",
       "    .dataframe thead th {\n",
       "        text-align: right;\n",
       "    }\n",
       "</style>\n",
       "<table border=\"1\" class=\"dataframe\">\n",
       "  <thead>\n",
       "    <tr style=\"text-align: right;\">\n",
       "      <th></th>\n",
       "      <th></th>\n",
       "      <th>Survived</th>\n",
       "    </tr>\n",
       "    <tr>\n",
       "      <th>C_Initial</th>\n",
       "      <th>Sex</th>\n",
       "      <th></th>\n",
       "    </tr>\n",
       "  </thead>\n",
       "  <tbody>\n",
       "    <tr>\n",
       "      <th rowspan=\"2\" valign=\"top\">A</th>\n",
       "      <th>female</th>\n",
       "      <td>1.000000</td>\n",
       "    </tr>\n",
       "    <tr>\n",
       "      <th>male</th>\n",
       "      <td>0.428571</td>\n",
       "    </tr>\n",
       "    <tr>\n",
       "      <th rowspan=\"2\" valign=\"top\">B</th>\n",
       "      <th>female</th>\n",
       "      <td>1.000000</td>\n",
       "    </tr>\n",
       "    <tr>\n",
       "      <th>male</th>\n",
       "      <td>0.400000</td>\n",
       "    </tr>\n",
       "    <tr>\n",
       "      <th rowspan=\"2\" valign=\"top\">C</th>\n",
       "      <th>female</th>\n",
       "      <td>0.888889</td>\n",
       "    </tr>\n",
       "    <tr>\n",
       "      <th>male</th>\n",
       "      <td>0.343750</td>\n",
       "    </tr>\n",
       "    <tr>\n",
       "      <th rowspan=\"2\" valign=\"top\">D</th>\n",
       "      <th>female</th>\n",
       "      <td>1.000000</td>\n",
       "    </tr>\n",
       "    <tr>\n",
       "      <th>male</th>\n",
       "      <td>0.466667</td>\n",
       "    </tr>\n",
       "    <tr>\n",
       "      <th rowspan=\"2\" valign=\"top\">E</th>\n",
       "      <th>female</th>\n",
       "      <td>0.933333</td>\n",
       "    </tr>\n",
       "    <tr>\n",
       "      <th>male</th>\n",
       "      <td>0.588235</td>\n",
       "    </tr>\n",
       "    <tr>\n",
       "      <th rowspan=\"2\" valign=\"top\">F</th>\n",
       "      <th>female</th>\n",
       "      <td>1.000000</td>\n",
       "    </tr>\n",
       "    <tr>\n",
       "      <th>male</th>\n",
       "      <td>0.375000</td>\n",
       "    </tr>\n",
       "    <tr>\n",
       "      <th>G</th>\n",
       "      <th>female</th>\n",
       "      <td>0.500000</td>\n",
       "    </tr>\n",
       "    <tr>\n",
       "      <th>T</th>\n",
       "      <th>male</th>\n",
       "      <td>0.000000</td>\n",
       "    </tr>\n",
       "  </tbody>\n",
       "</table>\n",
       "</div>"
      ],
      "text/plain": [
       "                  Survived\n",
       "C_Initial Sex             \n",
       "A         female  1.000000\n",
       "          male    0.428571\n",
       "B         female  1.000000\n",
       "          male    0.400000\n",
       "C         female  0.888889\n",
       "          male    0.343750\n",
       "D         female  1.000000\n",
       "          male    0.466667\n",
       "E         female  0.933333\n",
       "          male    0.588235\n",
       "F         female  1.000000\n",
       "          male    0.375000\n",
       "G         female  0.500000\n",
       "T         male    0.000000"
      ]
     },
     "execution_count": 74,
     "metadata": {},
     "output_type": "execute_result"
    }
   ],
   "source": [
    "titanic[['C_Initial', 'Sex', 'Survived']].groupby(['C_Initial', 'Sex']).mean()"
   ]
  },
  {
   "cell_type": "markdown",
   "id": "c7dbdf75",
   "metadata": {},
   "source": [
    "이중에 C로 시작하는 객실정보의 성별 생존률은 다음과 같다."
   ]
  },
  {
   "cell_type": "code",
   "execution_count": 75,
   "id": "2b54167b",
   "metadata": {},
   "outputs": [
    {
     "data": {
      "text/html": [
       "<div>\n",
       "<style scoped>\n",
       "    .dataframe tbody tr th:only-of-type {\n",
       "        vertical-align: middle;\n",
       "    }\n",
       "\n",
       "    .dataframe tbody tr th {\n",
       "        vertical-align: top;\n",
       "    }\n",
       "\n",
       "    .dataframe thead th {\n",
       "        text-align: right;\n",
       "    }\n",
       "</style>\n",
       "<table border=\"1\" class=\"dataframe\">\n",
       "  <thead>\n",
       "    <tr style=\"text-align: right;\">\n",
       "      <th></th>\n",
       "      <th>Survived</th>\n",
       "    </tr>\n",
       "    <tr>\n",
       "      <th>Sex</th>\n",
       "      <th></th>\n",
       "    </tr>\n",
       "  </thead>\n",
       "  <tbody>\n",
       "    <tr>\n",
       "      <th>female</th>\n",
       "      <td>0.888889</td>\n",
       "    </tr>\n",
       "    <tr>\n",
       "      <th>male</th>\n",
       "      <td>0.343750</td>\n",
       "    </tr>\n",
       "  </tbody>\n",
       "</table>\n",
       "</div>"
      ],
      "text/plain": [
       "        Survived\n",
       "Sex             \n",
       "female  0.888889\n",
       "male    0.343750"
      ]
     },
     "execution_count": 75,
     "metadata": {},
     "output_type": "execute_result"
    }
   ],
   "source": [
    "titanic[['C_Initial', 'Sex', 'Survived']].groupby(['C_Initial', 'Sex']).mean().loc['C']"
   ]
  },
  {
   "cell_type": "markdown",
   "id": "f65fd750",
   "metadata": {},
   "source": [
    "따라서 확률 변수 X의 학률분포는 다음과 같다."
   ]
  },
  {
   "cell_type": "markdown",
   "id": "03239495",
   "metadata": {},
   "source": [
    "| X | 0 | 1 |\n",
    "| :---: | :---: | :---: |\n",
    "| 확률 | 0.66 | 0.34 |"
   ]
  },
  {
   "cell_type": "markdown",
   "id": "79190408",
   "metadata": {},
   "source": [
    "**문제 3**"
   ]
  },
  {
   "cell_type": "markdown",
   "id": "22ecca50",
   "metadata": {},
   "source": [
    "(1) 타이타닉호에 탑승했던 891명의 승객에서 무작위로 선택된 승객이 속하는 객실의 범주를 가리키는 확률 변수를 X라 하자.\n",
    "확률 변수 X의 확률 분포를 구하라.\n",
    "\n",
    "힌트: `pd.DataFrame.value_counts()` 메서드의 `dropna=False` 키워드 인자 활용"
   ]
  },
  {
   "cell_type": "markdown",
   "id": "8d7a5e6e",
   "metadata": {},
   "source": [
    "답:"
   ]
  },
  {
   "cell_type": "markdown",
   "id": "7f8577e6",
   "metadata": {},
   "source": [
    "타이타닉 호의 객실의 첫문자를 객실을 구분하는 범주로 사용했을 때 각 범주별 도수를 확인한다.\n",
    "\n",
    "- `value_counts()` 메서드의 `dropna=False` 키워드 인자: 결측치도 하나의 범주로 취급함."
   ]
  },
  {
   "cell_type": "code",
   "execution_count": 76,
   "id": "1413deb0",
   "metadata": {},
   "outputs": [
    {
     "data": {
      "text/plain": [
       "C_Initial\n",
       "A       15\n",
       "B       47\n",
       "C       59\n",
       "D       33\n",
       "E       32\n",
       "F       13\n",
       "G        4\n",
       "T        1\n",
       "NaN    687\n",
       "Name: count, dtype: int64"
      ]
     },
     "execution_count": 76,
     "metadata": {},
     "output_type": "execute_result"
    }
   ],
   "source": [
    "c_initial = titanic['C_Initial'].value_counts(dropna=False).sort_index()\n",
    "c_initial"
   ]
  },
  {
   "cell_type": "markdown",
   "id": "fc143a2b",
   "metadata": {},
   "source": [
    "객실의 첫문자와 NaN을 범주로 했을 때의 상대도수는 다음과 같다."
   ]
  },
  {
   "cell_type": "code",
   "execution_count": 77,
   "id": "1531b35d",
   "metadata": {},
   "outputs": [
    {
     "data": {
      "text/plain": [
       "C_Initial\n",
       "A      0.017\n",
       "B      0.053\n",
       "C      0.066\n",
       "D      0.037\n",
       "E      0.036\n",
       "F      0.015\n",
       "G      0.004\n",
       "T      0.001\n",
       "NaN    0.771\n",
       "Name: count, dtype: float64"
      ]
     },
     "execution_count": 77,
     "metadata": {},
     "output_type": "execute_result"
    }
   ],
   "source": [
    "(c_initial / c_initial.sum()).round(decimals=3)"
   ]
  },
  {
   "cell_type": "markdown",
   "id": "58ad0cb5",
   "metadata": {},
   "source": [
    "따라서 확률 변수 X의 학률분포는 다음과 같다."
   ]
  },
  {
   "cell_type": "markdown",
   "id": "b7e3d4da",
   "metadata": {},
   "source": [
    "| X | A | B | C | D | E | F | G | T | NaN |\n",
    "| :---: | :---: | :---: | :---: | :---: | :---: | :---: | :---: | :---: | :---: |\n",
    "| 확률 | 0.017 | 0.053 | 0.066 | 0.037 | 0.036 | 0.015 | 0.004 | 0.001 | 0.771 | "
   ]
  },
  {
   "cell_type": "markdown",
   "id": "4dd883c5",
   "metadata": {},
   "source": [
    "(2) 타이타닉호에 탑승했던 여성 승객에서 무작위로 선택된 승객이 속하는 객실의 범주를 가리키는 확률 변수를 X라 하자.\n",
    "확률 변수 X의 확률 분포를 구하라.\n",
    "\n",
    "힌트: `pd.crosstab()` 함수의 `dropna=False` 키워드 인자 활용."
   ]
  },
  {
   "cell_type": "markdown",
   "id": "55eff6fd",
   "metadata": {},
   "source": [
    "답:"
   ]
  },
  {
   "cell_type": "markdown",
   "id": "a68b350b",
   "metadata": {},
   "source": [
    "`C_initial`, `Sex` 두 특성을 대상으로 `pd.crosstab()` 함수를 적용하면\n",
    "객실 첫문자의 범주와 성별을 기준으로 도수를 계산한다.\n",
    "\n",
    "- `pd.crosstab()` 메서드의 `dropna=False` 키워드 인자: 결측치 범주도 포함시킴."
   ]
  },
  {
   "cell_type": "code",
   "execution_count": 78,
   "id": "8fe04f09",
   "metadata": {},
   "outputs": [
    {
     "data": {
      "text/html": [
       "<div>\n",
       "<style scoped>\n",
       "    .dataframe tbody tr th:only-of-type {\n",
       "        vertical-align: middle;\n",
       "    }\n",
       "\n",
       "    .dataframe tbody tr th {\n",
       "        vertical-align: top;\n",
       "    }\n",
       "\n",
       "    .dataframe thead th {\n",
       "        text-align: right;\n",
       "    }\n",
       "</style>\n",
       "<table border=\"1\" class=\"dataframe\">\n",
       "  <thead>\n",
       "    <tr style=\"text-align: right;\">\n",
       "      <th>Sex</th>\n",
       "      <th>female</th>\n",
       "      <th>male</th>\n",
       "    </tr>\n",
       "    <tr>\n",
       "      <th>C_Initial</th>\n",
       "      <th></th>\n",
       "      <th></th>\n",
       "    </tr>\n",
       "  </thead>\n",
       "  <tbody>\n",
       "    <tr>\n",
       "      <th>A</th>\n",
       "      <td>1</td>\n",
       "      <td>14</td>\n",
       "    </tr>\n",
       "    <tr>\n",
       "      <th>B</th>\n",
       "      <td>27</td>\n",
       "      <td>20</td>\n",
       "    </tr>\n",
       "    <tr>\n",
       "      <th>C</th>\n",
       "      <td>27</td>\n",
       "      <td>32</td>\n",
       "    </tr>\n",
       "    <tr>\n",
       "      <th>D</th>\n",
       "      <td>18</td>\n",
       "      <td>15</td>\n",
       "    </tr>\n",
       "    <tr>\n",
       "      <th>E</th>\n",
       "      <td>15</td>\n",
       "      <td>17</td>\n",
       "    </tr>\n",
       "    <tr>\n",
       "      <th>F</th>\n",
       "      <td>5</td>\n",
       "      <td>8</td>\n",
       "    </tr>\n",
       "    <tr>\n",
       "      <th>G</th>\n",
       "      <td>4</td>\n",
       "      <td>0</td>\n",
       "    </tr>\n",
       "    <tr>\n",
       "      <th>T</th>\n",
       "      <td>0</td>\n",
       "      <td>1</td>\n",
       "    </tr>\n",
       "    <tr>\n",
       "      <th>NaN</th>\n",
       "      <td>217</td>\n",
       "      <td>470</td>\n",
       "    </tr>\n",
       "  </tbody>\n",
       "</table>\n",
       "</div>"
      ],
      "text/plain": [
       "Sex        female  male\n",
       "C_Initial              \n",
       "A               1    14\n",
       "B              27    20\n",
       "C              27    32\n",
       "D              18    15\n",
       "E              15    17\n",
       "F               5     8\n",
       "G               4     0\n",
       "T               0     1\n",
       "NaN           217   470"
      ]
     },
     "execution_count": 78,
     "metadata": {},
     "output_type": "execute_result"
    }
   ],
   "source": [
    "c_initial_sex = pd.crosstab(titanic.C_Initial, titanic.Sex, dropna=False)\n",
    "c_initial_sex"
   ]
  },
  {
   "cell_type": "markdown",
   "id": "f2301f7d",
   "metadata": {},
   "source": [
    "여성 승객 데이터만 추출한다."
   ]
  },
  {
   "cell_type": "code",
   "execution_count": 79,
   "id": "2c08bfe0",
   "metadata": {},
   "outputs": [
    {
     "data": {
      "text/html": [
       "<div>\n",
       "<style scoped>\n",
       "    .dataframe tbody tr th:only-of-type {\n",
       "        vertical-align: middle;\n",
       "    }\n",
       "\n",
       "    .dataframe tbody tr th {\n",
       "        vertical-align: top;\n",
       "    }\n",
       "\n",
       "    .dataframe thead th {\n",
       "        text-align: right;\n",
       "    }\n",
       "</style>\n",
       "<table border=\"1\" class=\"dataframe\">\n",
       "  <thead>\n",
       "    <tr style=\"text-align: right;\">\n",
       "      <th>Sex</th>\n",
       "      <th>female</th>\n",
       "    </tr>\n",
       "    <tr>\n",
       "      <th>C_Initial</th>\n",
       "      <th></th>\n",
       "    </tr>\n",
       "  </thead>\n",
       "  <tbody>\n",
       "    <tr>\n",
       "      <th>A</th>\n",
       "      <td>1</td>\n",
       "    </tr>\n",
       "    <tr>\n",
       "      <th>B</th>\n",
       "      <td>27</td>\n",
       "    </tr>\n",
       "    <tr>\n",
       "      <th>C</th>\n",
       "      <td>27</td>\n",
       "    </tr>\n",
       "    <tr>\n",
       "      <th>D</th>\n",
       "      <td>18</td>\n",
       "    </tr>\n",
       "    <tr>\n",
       "      <th>E</th>\n",
       "      <td>15</td>\n",
       "    </tr>\n",
       "    <tr>\n",
       "      <th>F</th>\n",
       "      <td>5</td>\n",
       "    </tr>\n",
       "    <tr>\n",
       "      <th>G</th>\n",
       "      <td>4</td>\n",
       "    </tr>\n",
       "    <tr>\n",
       "      <th>T</th>\n",
       "      <td>0</td>\n",
       "    </tr>\n",
       "    <tr>\n",
       "      <th>NaN</th>\n",
       "      <td>217</td>\n",
       "    </tr>\n",
       "  </tbody>\n",
       "</table>\n",
       "</div>"
      ],
      "text/plain": [
       "Sex        female\n",
       "C_Initial        \n",
       "A               1\n",
       "B              27\n",
       "C              27\n",
       "D              18\n",
       "E              15\n",
       "F               5\n",
       "G               4\n",
       "T               0\n",
       "NaN           217"
      ]
     },
     "execution_count": 79,
     "metadata": {},
     "output_type": "execute_result"
    }
   ],
   "source": [
    "c_initial_woman = c_initial_sex.loc[:, ['female']]\n",
    "c_initial_woman"
   ]
  },
  {
   "cell_type": "markdown",
   "id": "006cf771",
   "metadata": {},
   "source": [
    "여성 승객을 대상으로 객실의 첫문자와 NaN을 범주로 했을 때의 상대도수는 다음과 같다."
   ]
  },
  {
   "cell_type": "code",
   "execution_count": 80,
   "id": "cd5347f9",
   "metadata": {},
   "outputs": [
    {
     "data": {
      "text/html": [
       "<div>\n",
       "<style scoped>\n",
       "    .dataframe tbody tr th:only-of-type {\n",
       "        vertical-align: middle;\n",
       "    }\n",
       "\n",
       "    .dataframe tbody tr th {\n",
       "        vertical-align: top;\n",
       "    }\n",
       "\n",
       "    .dataframe thead th {\n",
       "        text-align: right;\n",
       "    }\n",
       "</style>\n",
       "<table border=\"1\" class=\"dataframe\">\n",
       "  <thead>\n",
       "    <tr style=\"text-align: right;\">\n",
       "      <th>Sex</th>\n",
       "      <th>female</th>\n",
       "    </tr>\n",
       "    <tr>\n",
       "      <th>C_Initial</th>\n",
       "      <th></th>\n",
       "    </tr>\n",
       "  </thead>\n",
       "  <tbody>\n",
       "    <tr>\n",
       "      <th>A</th>\n",
       "      <td>0.003</td>\n",
       "    </tr>\n",
       "    <tr>\n",
       "      <th>B</th>\n",
       "      <td>0.086</td>\n",
       "    </tr>\n",
       "    <tr>\n",
       "      <th>C</th>\n",
       "      <td>0.086</td>\n",
       "    </tr>\n",
       "    <tr>\n",
       "      <th>D</th>\n",
       "      <td>0.057</td>\n",
       "    </tr>\n",
       "    <tr>\n",
       "      <th>E</th>\n",
       "      <td>0.048</td>\n",
       "    </tr>\n",
       "    <tr>\n",
       "      <th>F</th>\n",
       "      <td>0.016</td>\n",
       "    </tr>\n",
       "    <tr>\n",
       "      <th>G</th>\n",
       "      <td>0.013</td>\n",
       "    </tr>\n",
       "    <tr>\n",
       "      <th>T</th>\n",
       "      <td>0.000</td>\n",
       "    </tr>\n",
       "    <tr>\n",
       "      <th>NaN</th>\n",
       "      <td>0.691</td>\n",
       "    </tr>\n",
       "  </tbody>\n",
       "</table>\n",
       "</div>"
      ],
      "text/plain": [
       "Sex        female\n",
       "C_Initial        \n",
       "A           0.003\n",
       "B           0.086\n",
       "C           0.086\n",
       "D           0.057\n",
       "E           0.048\n",
       "F           0.016\n",
       "G           0.013\n",
       "T           0.000\n",
       "NaN         0.691"
      ]
     },
     "execution_count": 80,
     "metadata": {},
     "output_type": "execute_result"
    }
   ],
   "source": [
    "(c_initial_woman / c_initial_woman.sum()).round(decimals=3)"
   ]
  },
  {
   "cell_type": "markdown",
   "id": "f03a99de",
   "metadata": {},
   "source": [
    "따라서 확률 변수 X의 학률분포는 다음과 같다."
   ]
  },
  {
   "cell_type": "markdown",
   "id": "13ffefcb",
   "metadata": {},
   "source": [
    "| X | A | B | C | D | E | F | G | T | NaN |\n",
    "| :---: | :---: | :---: | :---: | :---: | :---: | :---: | :---: | :---: | :---: |\n",
    "| 확률 | 0.003 | 0.086 | 0.86 | 0.057 | 0.048 | 0.016 | 0.013 | 0.000 | 0.691 | "
   ]
  },
  {
   "cell_type": "markdown",
   "id": "6c4be14b",
   "metadata": {},
   "source": [
    "**문제 4**"
   ]
  },
  {
   "cell_type": "markdown",
   "id": "e7093b49",
   "metadata": {},
   "source": [
    "`Name` 특성만을 이용하여 다양한 경우에 대한 생존률을 계산하라.\n",
    "\n",
    "힌트: 아래 두 사이트의 내용을 참고한다.\n",
    "\n",
    "- [Titanic using Name only [0.81818]](https://www.kaggle.com/code/cdeotte/titanic-using-name-only-0-81818)\n",
    "- [Notes of Titanic on Kaggle](https://typewind.github.io/2017/07/25/titanic/)"
   ]
  },
  {
   "cell_type": "code",
   "execution_count": null,
   "id": "7d4c15b6",
   "metadata": {},
   "outputs": [],
   "source": [
    "# 코드를 작성한다.\n",
    "# 필요하면 코드셀 또는 텍스트셀을 추가할 수 있습니다.\n"
   ]
  }
 ],
 "metadata": {
  "kernelspec": {
   "display_name": "Python 3 (ipykernel)",
   "language": "python",
   "name": "python3"
  },
  "language_info": {
   "codemirror_mode": {
    "name": "ipython",
    "version": 3
   },
   "file_extension": ".py",
   "mimetype": "text/x-python",
   "name": "python",
   "nbconvert_exporter": "python",
   "pygments_lexer": "ipython3",
   "version": "3.12.2"
  }
 },
 "nbformat": 4,
 "nbformat_minor": 5
}
