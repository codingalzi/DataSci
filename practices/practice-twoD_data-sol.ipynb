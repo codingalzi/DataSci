{
 "cells": [
  {
   "cell_type": "markdown",
   "id": "4ba112a7",
   "metadata": {},
   "source": [
    "# (연습) 2차원 데이터"
   ]
  },
  {
   "cell_type": "markdown",
   "id": "d9f08d8d",
   "metadata": {},
   "source": [
    "**준비사항**"
   ]
  },
  {
   "cell_type": "markdown",
   "id": "a29b94a7",
   "metadata": {
    "ExecuteTime": {
     "end_time": "2018-08-03T08:26:15.690793Z",
     "start_time": "2018-08-03T08:26:15.507201Z"
    }
   },
   "source": [
    "Numpy와 Pandas 라이브러리를 각각 np와 pd라는 별칭으로 불러온다"
   ]
  },
  {
   "cell_type": "code",
   "execution_count": 1,
   "id": "f379aa57",
   "metadata": {
    "ExecuteTime": {
     "end_time": "2018-08-03T08:26:15.690793Z",
     "start_time": "2018-08-03T08:26:15.507201Z"
    }
   },
   "outputs": [],
   "source": [
    "import numpy as np\n",
    "import pandas as pd"
   ]
  },
  {
   "cell_type": "markdown",
   "id": "350b6f17",
   "metadata": {},
   "source": [
    "`matplotlib.pyplot`은 막대그래프, 히스토그램, 산점도 등 데이터를 그래프로 시각화할 때 필요한\n",
    "다양한 함수를 제공하는 모듈이다."
   ]
  },
  {
   "cell_type": "code",
   "execution_count": 2,
   "id": "ee21de7a",
   "metadata": {},
   "outputs": [],
   "source": [
    "import matplotlib.pyplot as plt\n",
    "\n",
    "# 그래프 설정\n",
    "plt.rc('figure', figsize=(10, 6))  # 그래프 크기 지정"
   ]
  },
  {
   "cell_type": "markdown",
   "id": "4fc6eb8b",
   "metadata": {},
   "source": [
    "**데이터 저장소 디렉토리**"
   ]
  },
  {
   "cell_type": "markdown",
   "id": "cba6842c",
   "metadata": {},
   "source": [
    "코드에 사용되는 데이터 저장소의 기본 디렉토리를 지정한다."
   ]
  },
  {
   "cell_type": "code",
   "execution_count": 3,
   "id": "97a88422",
   "metadata": {},
   "outputs": [],
   "source": [
    "data_url = 'https://raw.githubusercontent.com/codingalzi/DataSci/refs/heads/master/data/'"
   ]
  },
  {
   "cell_type": "markdown",
   "id": "451e25d5",
   "metadata": {},
   "source": [
    "**문제 1**"
   ]
  },
  {
   "cell_type": "markdown",
   "id": "95423de5",
   "metadata": {},
   "source": [
    "기본 데이터 저장소에 있는 `sc_weir.csv` 파일은\n",
    "광주광력시에서부터 전라남도 나주를 거쳐 서해까지 이어지는 영산강에 설치된 승촌보에서 측정한 \n",
    "두 종류의 데이터를 담고 있다.\n",
    "\n",
    "- `Chl-a`: 녹조 발생의 주요 요인인 클로로필-A의 수치 100개\n",
    "- `Discharge`: 보에서 방출되는 시간당 방류량 수치 100개\n",
    "\n",
    "클로로필-A 농도가 높을 수록 수질(water quality)이 나빠지며, 방류량이 많을 수록 클로로필-A 농도는 일반적으로 떨어지며,\n",
    "두 데이터 사이의 상관관계를 확인하기 위해 수집되었다."
   ]
  },
  {
   "cell_type": "code",
   "execution_count": 4,
   "id": "0371bd73",
   "metadata": {},
   "outputs": [
    {
     "data": {
      "text/html": [
       "<div>\n",
       "<style scoped>\n",
       "    .dataframe tbody tr th:only-of-type {\n",
       "        vertical-align: middle;\n",
       "    }\n",
       "\n",
       "    .dataframe tbody tr th {\n",
       "        vertical-align: top;\n",
       "    }\n",
       "\n",
       "    .dataframe thead th {\n",
       "        text-align: right;\n",
       "    }\n",
       "</style>\n",
       "<table border=\"1\" class=\"dataframe\">\n",
       "  <thead>\n",
       "    <tr style=\"text-align: right;\">\n",
       "      <th></th>\n",
       "      <th>Chl-a</th>\n",
       "      <th>Discharge</th>\n",
       "    </tr>\n",
       "  </thead>\n",
       "  <tbody>\n",
       "    <tr>\n",
       "      <th>0</th>\n",
       "      <td>51</td>\n",
       "      <td>25</td>\n",
       "    </tr>\n",
       "    <tr>\n",
       "      <th>1</th>\n",
       "      <td>51</td>\n",
       "      <td>25</td>\n",
       "    </tr>\n",
       "    <tr>\n",
       "      <th>2</th>\n",
       "      <td>53</td>\n",
       "      <td>24</td>\n",
       "    </tr>\n",
       "    <tr>\n",
       "      <th>3</th>\n",
       "      <td>53</td>\n",
       "      <td>24</td>\n",
       "    </tr>\n",
       "    <tr>\n",
       "      <th>4</th>\n",
       "      <td>54</td>\n",
       "      <td>22</td>\n",
       "    </tr>\n",
       "    <tr>\n",
       "      <th>...</th>\n",
       "      <td>...</td>\n",
       "      <td>...</td>\n",
       "    </tr>\n",
       "    <tr>\n",
       "      <th>95</th>\n",
       "      <td>122</td>\n",
       "      <td>9</td>\n",
       "    </tr>\n",
       "    <tr>\n",
       "      <th>96</th>\n",
       "      <td>122</td>\n",
       "      <td>9</td>\n",
       "    </tr>\n",
       "    <tr>\n",
       "      <th>97</th>\n",
       "      <td>124</td>\n",
       "      <td>49</td>\n",
       "    </tr>\n",
       "    <tr>\n",
       "      <th>98</th>\n",
       "      <td>125</td>\n",
       "      <td>9</td>\n",
       "    </tr>\n",
       "    <tr>\n",
       "      <th>99</th>\n",
       "      <td>124</td>\n",
       "      <td>9</td>\n",
       "    </tr>\n",
       "  </tbody>\n",
       "</table>\n",
       "<p>100 rows × 2 columns</p>\n",
       "</div>"
      ],
      "text/plain": [
       "    Chl-a  Discharge\n",
       "0      51         25\n",
       "1      51         25\n",
       "2      53         24\n",
       "3      53         24\n",
       "4      54         22\n",
       "..    ...        ...\n",
       "95    122          9\n",
       "96    122          9\n",
       "97    124         49\n",
       "98    125          9\n",
       "99    124          9\n",
       "\n",
       "[100 rows x 2 columns]"
      ]
     },
     "execution_count": 4,
     "metadata": {},
     "output_type": "execute_result"
    }
   ],
   "source": [
    "sc_weir_df = pd.read_csv(data_url+'sc_weir.csv')\n",
    "sc_weir_df"
   ]
  },
  {
   "cell_type": "markdown",
   "id": "ce4de981",
   "metadata": {},
   "source": [
    "항목만으로 구성된 넘파이 어레이를 선언한다."
   ]
  },
  {
   "cell_type": "code",
   "execution_count": 5,
   "id": "1bceb86b",
   "metadata": {},
   "outputs": [
    {
     "data": {
      "text/plain": [
       "(100, 2)"
      ]
     },
     "execution_count": 5,
     "metadata": {},
     "output_type": "execute_result"
    }
   ],
   "source": [
    "sc_weir_arr = sc_weir_df.values\n",
    "sc_weir_arr.shape"
   ]
  },
  {
   "cell_type": "markdown",
   "id": "dbc3bbef",
   "metadata": {},
   "source": [
    "두 데이터를 별도의 어레이로 지정한다."
   ]
  },
  {
   "cell_type": "code",
   "execution_count": 6,
   "id": "32172083",
   "metadata": {},
   "outputs": [],
   "source": [
    "chl_a_arr = sc_weir_arr[:, 0]\n",
    "discharge_arr = sc_weir_arr[:, 1]"
   ]
  },
  {
   "cell_type": "markdown",
   "id": "2190b90e",
   "metadata": {},
   "source": [
    "(1) 클로로필-A와 시간당 방류량 사이의 공분산을 계산하고 두 데이터 사이의 상관관계를 설명하라."
   ]
  },
  {
   "cell_type": "markdown",
   "id": "23c92577",
   "metadata": {},
   "source": [
    "- 넘파이 활용"
   ]
  },
  {
   "cell_type": "code",
   "execution_count": 7,
   "id": "c433af0b",
   "metadata": {},
   "outputs": [
    {
     "data": {
      "text/plain": [
       "array([[511.91959596, -66.88868687],\n",
       "       [-66.88868687,  40.6920202 ]])"
      ]
     },
     "execution_count": 7,
     "metadata": {},
     "output_type": "execute_result"
    }
   ],
   "source": [
    "np.cov(chl_a_arr, discharge_arr)"
   ]
  },
  {
   "cell_type": "markdown",
   "id": "9689aae5",
   "metadata": {},
   "source": [
    "- 데이터프레임 활용"
   ]
  },
  {
   "cell_type": "code",
   "execution_count": 8,
   "id": "0dc70d6b",
   "metadata": {},
   "outputs": [
    {
     "data": {
      "text/html": [
       "<div>\n",
       "<style scoped>\n",
       "    .dataframe tbody tr th:only-of-type {\n",
       "        vertical-align: middle;\n",
       "    }\n",
       "\n",
       "    .dataframe tbody tr th {\n",
       "        vertical-align: top;\n",
       "    }\n",
       "\n",
       "    .dataframe thead th {\n",
       "        text-align: right;\n",
       "    }\n",
       "</style>\n",
       "<table border=\"1\" class=\"dataframe\">\n",
       "  <thead>\n",
       "    <tr style=\"text-align: right;\">\n",
       "      <th></th>\n",
       "      <th>Chl-a</th>\n",
       "      <th>Discharge</th>\n",
       "    </tr>\n",
       "  </thead>\n",
       "  <tbody>\n",
       "    <tr>\n",
       "      <th>Chl-a</th>\n",
       "      <td>511.919596</td>\n",
       "      <td>-66.888687</td>\n",
       "    </tr>\n",
       "    <tr>\n",
       "      <th>Discharge</th>\n",
       "      <td>-66.888687</td>\n",
       "      <td>40.692020</td>\n",
       "    </tr>\n",
       "  </tbody>\n",
       "</table>\n",
       "</div>"
      ],
      "text/plain": [
       "                Chl-a  Discharge\n",
       "Chl-a      511.919596 -66.888687\n",
       "Discharge  -66.888687  40.692020"
      ]
     },
     "execution_count": 8,
     "metadata": {},
     "output_type": "execute_result"
    }
   ],
   "source": [
    "sc_weir_df.cov()"
   ]
  },
  {
   "cell_type": "markdown",
   "id": "38a364fc",
   "metadata": {},
   "source": [
    "(2) 클로로필-A와 시간당 방류량 사이의 피어슨 상관계수를 계산하고 두 데이터 사이의 선형 상관관계를 설명하라."
   ]
  },
  {
   "cell_type": "markdown",
   "id": "a6113842",
   "metadata": {},
   "source": [
    "- 넘파이 활용"
   ]
  },
  {
   "cell_type": "code",
   "execution_count": 9,
   "id": "a0b3c121",
   "metadata": {},
   "outputs": [
    {
     "data": {
      "text/plain": [
       "array([[ 1.       , -0.4634439],\n",
       "       [-0.4634439,  1.       ]])"
      ]
     },
     "execution_count": 9,
     "metadata": {},
     "output_type": "execute_result"
    }
   ],
   "source": [
    "np.corrcoef(chl_a_arr, discharge_arr)"
   ]
  },
  {
   "cell_type": "markdown",
   "id": "6d2a8ee2",
   "metadata": {},
   "source": [
    "- 데이터프레임 활용"
   ]
  },
  {
   "cell_type": "code",
   "execution_count": 10,
   "id": "1aef423c",
   "metadata": {},
   "outputs": [
    {
     "data": {
      "text/html": [
       "<div>\n",
       "<style scoped>\n",
       "    .dataframe tbody tr th:only-of-type {\n",
       "        vertical-align: middle;\n",
       "    }\n",
       "\n",
       "    .dataframe tbody tr th {\n",
       "        vertical-align: top;\n",
       "    }\n",
       "\n",
       "    .dataframe thead th {\n",
       "        text-align: right;\n",
       "    }\n",
       "</style>\n",
       "<table border=\"1\" class=\"dataframe\">\n",
       "  <thead>\n",
       "    <tr style=\"text-align: right;\">\n",
       "      <th></th>\n",
       "      <th>Chl-a</th>\n",
       "      <th>Discharge</th>\n",
       "    </tr>\n",
       "  </thead>\n",
       "  <tbody>\n",
       "    <tr>\n",
       "      <th>Chl-a</th>\n",
       "      <td>1.000000</td>\n",
       "      <td>-0.463444</td>\n",
       "    </tr>\n",
       "    <tr>\n",
       "      <th>Discharge</th>\n",
       "      <td>-0.463444</td>\n",
       "      <td>1.000000</td>\n",
       "    </tr>\n",
       "  </tbody>\n",
       "</table>\n",
       "</div>"
      ],
      "text/plain": [
       "              Chl-a  Discharge\n",
       "Chl-a      1.000000  -0.463444\n",
       "Discharge -0.463444   1.000000"
      ]
     },
     "execution_count": 10,
     "metadata": {},
     "output_type": "execute_result"
    }
   ],
   "source": [
    "sc_weir_df.corr()"
   ]
  },
  {
   "cell_type": "markdown",
   "id": "ce0db165",
   "metadata": {},
   "source": [
    "(3) x-축을 방류량, y-축을 클로로필-A 수치로 지정한 다음 산점도를 그린다."
   ]
  },
  {
   "cell_type": "markdown",
   "id": "3d2b740d",
   "metadata": {},
   "source": [
    "- 넘파이 활용"
   ]
  },
  {
   "cell_type": "code",
   "execution_count": 11,
   "id": "e3fd1852",
   "metadata": {},
   "outputs": [
    {
     "data": {
      "image/png": "[encoded data removed]",
      "text/plain": [
       "<Figure size 1000x600 with 1 Axes>"
      ]
     },
     "metadata": {},
     "output_type": "display_data"
    }
   ],
   "source": [
    "plt.scatter(discharge_arr, chl_a_arr)\n",
    "\n",
    "# 그래프 설정\n",
    "plt.xlabel(\"Discharge\")\n",
    "plt.ylabel(\"Chl-a\")    \n",
    "plt.show()"
   ]
  },
  {
   "cell_type": "markdown",
   "id": "e23513b9",
   "metadata": {},
   "source": [
    "- 데이터프레임 활용"
   ]
  },
  {
   "cell_type": "code",
   "execution_count": 12,
   "id": "e1082a1a",
   "metadata": {},
   "outputs": [
    {
     "data": {
      "image/png": "[encoded data removed]",
      "text/plain": [
       "<Figure size 1000x600 with 1 Axes>"
      ]
     },
     "metadata": {},
     "output_type": "display_data"
    }
   ],
   "source": [
    "sc_weir_df.plot.scatter('Discharge', 'Chl-a')\n",
    "\n",
    "# 그래프 설정\n",
    "plt.xlabel(\"Discharge\")           # x축 눈금 설명\n",
    "plt.ylabel(\"Chl-a\")       # y축 눈금 설명\n",
    "plt.show()"
   ]
  },
  {
   "cell_type": "markdown",
   "id": "fe1b7c70",
   "metadata": {},
   "source": [
    "(4) 위 산점도에 따르면 두 개의 이상치가 존재한다.\n",
    "어떤 데이터가 이상치인지 설명하라."
   ]
  },
  {
   "cell_type": "markdown",
   "id": "161908a9",
   "metadata": {},
   "source": [
    "답:"
   ]
  },
  {
   "cell_type": "markdown",
   "id": "6b2e2658",
   "metadata": {},
   "source": [
    "- 산점도 오른쪽 상단에 위치한 두 점이 이상치로 보인다.\n",
    "\n",
    "- 이유: 두 점을 제외하면 방류량이 많아질 수록 클로리필-A 농도가 떨어진다. \n",
    "    하지만 두 점은 방류량이 무엇보다도 높지만 클로리필-A 농도가 매우 높다."
   ]
  },
  {
   "cell_type": "markdown",
   "id": "34b67544",
   "metadata": {},
   "source": [
    "(5) 클로로필-A 데이터와 방수량 두 데이터셋 모두에서 이상치에 해당하는 두 개의 값을 제거한다."
   ]
  },
  {
   "cell_type": "markdown",
   "id": "91fd1f2d",
   "metadata": {},
   "source": [
    "- 넘파이 활용"
   ]
  },
  {
   "cell_type": "code",
   "execution_count": 13,
   "id": "4576c460",
   "metadata": {},
   "outputs": [
    {
     "data": {
      "text/plain": [
       "array([ 9,  9,  9,  9,  9,  9,  9,  9,  9, 10, 11, 11, 11, 11, 11, 11, 11,\n",
       "       11, 11, 11, 11, 11, 11, 11, 11, 11, 11, 11, 12, 12, 12, 12, 12, 12,\n",
       "       12, 12, 12, 12, 12, 12, 12, 12, 13, 13, 13, 13, 13, 13, 13, 13, 13,\n",
       "       13, 13, 14, 14, 14, 15, 15, 15, 15, 15, 15, 15, 16, 16, 16, 16, 16,\n",
       "       16, 16, 16, 16, 16, 16, 16, 16, 17, 17, 17, 17, 17, 17, 18, 18, 18,\n",
       "       19, 19, 19, 20, 20, 21, 21, 22, 22, 24, 24, 25, 25, 49, 52])"
      ]
     },
     "execution_count": 13,
     "metadata": {},
     "output_type": "execute_result"
    }
   ],
   "source": [
    "np.sort(discharge_arr)"
   ]
  },
  {
   "cell_type": "markdown",
   "id": "0df923a0",
   "metadata": {},
   "source": [
    "두 개의 이상치가 49와 52로 확인된다.\n",
    "그리고 두 숫자는 한 번씩만 사용되었다.\n",
    "두 이상치를 제거하려면 해당 인덱스를 알아야 한다.\n",
    "가능하긴 한데 조금 복잡하다.\n",
    "나중에 고급 인덱싱 기법을 배우면 어렵지 않게 처리할 수 있다.\n",
    "\n",
    "따라서 여기서는 데이터프레임을 이용하는 것으로 넘어간다."
   ]
  },
  {
   "cell_type": "markdown",
   "id": "290ca564",
   "metadata": {},
   "source": [
    "- 데이터프레임 활용"
   ]
  },
  {
   "cell_type": "markdown",
   "id": "81c8605e",
   "metadata": {},
   "source": [
    "힌트: 데이터프레임의 `sort_values()` 메서드 활용"
   ]
  },
  {
   "cell_type": "code",
   "execution_count": 14,
   "id": "cb529088",
   "metadata": {},
   "outputs": [
    {
     "data": {
      "text/html": [
       "<div>\n",
       "<style scoped>\n",
       "    .dataframe tbody tr th:only-of-type {\n",
       "        vertical-align: middle;\n",
       "    }\n",
       "\n",
       "    .dataframe tbody tr th {\n",
       "        vertical-align: top;\n",
       "    }\n",
       "\n",
       "    .dataframe thead th {\n",
       "        text-align: right;\n",
       "    }\n",
       "</style>\n",
       "<table border=\"1\" class=\"dataframe\">\n",
       "  <thead>\n",
       "    <tr style=\"text-align: right;\">\n",
       "      <th></th>\n",
       "      <th>Chl-a</th>\n",
       "      <th>Discharge</th>\n",
       "    </tr>\n",
       "  </thead>\n",
       "  <tbody>\n",
       "    <tr>\n",
       "      <th>99</th>\n",
       "      <td>124</td>\n",
       "      <td>9</td>\n",
       "    </tr>\n",
       "    <tr>\n",
       "      <th>98</th>\n",
       "      <td>125</td>\n",
       "      <td>9</td>\n",
       "    </tr>\n",
       "    <tr>\n",
       "      <th>95</th>\n",
       "      <td>122</td>\n",
       "      <td>9</td>\n",
       "    </tr>\n",
       "    <tr>\n",
       "      <th>94</th>\n",
       "      <td>122</td>\n",
       "      <td>9</td>\n",
       "    </tr>\n",
       "    <tr>\n",
       "      <th>91</th>\n",
       "      <td>121</td>\n",
       "      <td>9</td>\n",
       "    </tr>\n",
       "    <tr>\n",
       "      <th>...</th>\n",
       "      <td>...</td>\n",
       "      <td>...</td>\n",
       "    </tr>\n",
       "    <tr>\n",
       "      <th>2</th>\n",
       "      <td>53</td>\n",
       "      <td>24</td>\n",
       "    </tr>\n",
       "    <tr>\n",
       "      <th>1</th>\n",
       "      <td>51</td>\n",
       "      <td>25</td>\n",
       "    </tr>\n",
       "    <tr>\n",
       "      <th>0</th>\n",
       "      <td>51</td>\n",
       "      <td>25</td>\n",
       "    </tr>\n",
       "    <tr>\n",
       "      <th>97</th>\n",
       "      <td>124</td>\n",
       "      <td>49</td>\n",
       "    </tr>\n",
       "    <tr>\n",
       "      <th>62</th>\n",
       "      <td>105</td>\n",
       "      <td>52</td>\n",
       "    </tr>\n",
       "  </tbody>\n",
       "</table>\n",
       "<p>100 rows × 2 columns</p>\n",
       "</div>"
      ],
      "text/plain": [
       "    Chl-a  Discharge\n",
       "99    124          9\n",
       "98    125          9\n",
       "95    122          9\n",
       "94    122          9\n",
       "91    121          9\n",
       "..    ...        ...\n",
       "2      53         24\n",
       "1      51         25\n",
       "0      51         25\n",
       "97    124         49\n",
       "62    105         52\n",
       "\n",
       "[100 rows x 2 columns]"
      ]
     },
     "execution_count": 14,
     "metadata": {},
     "output_type": "execute_result"
    }
   ],
   "source": [
    "sc_weir_df.sort_values('Discharge')"
   ]
  },
  {
   "cell_type": "markdown",
   "id": "e0a74a72",
   "metadata": {},
   "source": [
    "두 개의 이상치의 인덱스가 97과 62로 확인된다.\n",
    "따라서 두 이상치를 `drop()` 메서드로 삭제한다.\n",
    "데이터 크기가 98로 줄어든다."
   ]
  },
  {
   "cell_type": "code",
   "execution_count": 15,
   "id": "3e97166c",
   "metadata": {},
   "outputs": [
    {
     "data": {
      "text/plain": [
       "(98, 2)"
      ]
     },
     "execution_count": 15,
     "metadata": {},
     "output_type": "execute_result"
    }
   ],
   "source": [
    "no_outlier = sc_weir_df.drop([62, 97], axis=0)\n",
    "no_outlier.shape"
   ]
  },
  {
   "cell_type": "markdown",
   "id": "72704922",
   "metadata": {},
   "source": [
    "(6) 이상치를 제거한 두 데이터셋을 이용하여 산점도를 다시 그려본다."
   ]
  },
  {
   "cell_type": "markdown",
   "id": "aca02f26",
   "metadata": {},
   "source": [
    "- 데이터프레임 활용"
   ]
  },
  {
   "cell_type": "code",
   "execution_count": 16,
   "id": "3d239a06",
   "metadata": {},
   "outputs": [
    {
     "data": {
      "image/png": "[encoded data removed]",
      "text/plain": [
       "<Figure size 1000x600 with 1 Axes>"
      ]
     },
     "metadata": {},
     "output_type": "display_data"
    }
   ],
   "source": [
    "no_outlier.plot.scatter('Discharge', 'Chl-a')\n",
    "\n",
    "# 그래프 설정\n",
    "plt.xlabel(\"Discharge\")           # x축 눈금 설명\n",
    "plt.ylabel(\"Chl-a\")       # y축 눈금 설명\n",
    "plt.show()"
   ]
  },
  {
   "cell_type": "markdown",
   "id": "8002b022",
   "metadata": {},
   "source": [
    "(7) 이상치를 제거하기 이전과 이후의 데이터셋을 이용하여 방류량과 관련하여 아래 값들이 어떻게 달라졌는지 확인한다.\n",
    "단, 공분산과 피어슨 상관계수는 클로로필-A 데이터와 관련해서 계산한다.\n",
    "\n",
    "- 평균값\n",
    "- 중앙값\n",
    "- 최빈값\n",
    "- 범위\n",
    "- 사분범위\n",
    "- 분산\n",
    "- 표준편차\n",
    "- 공분산\n",
    "- 피어슨 상관계수\n",
    "\n",
    "힌트: 데이터프레임만 활용"
   ]
  },
  {
   "cell_type": "markdown",
   "id": "7edc5998",
   "metadata": {},
   "source": [
    "답:"
   ]
  },
  {
   "cell_type": "markdown",
   "id": "58690f28",
   "metadata": {},
   "source": [
    "- 평균값"
   ]
  },
  {
   "cell_type": "markdown",
   "id": "2a8cd219",
   "metadata": {},
   "source": [
    "이상치 제거 전:"
   ]
  },
  {
   "cell_type": "code",
   "execution_count": 17,
   "id": "436031c5",
   "metadata": {},
   "outputs": [
    {
     "data": {
      "text/plain": [
       "count    100.00000\n",
       "mean      14.93000\n",
       "std        6.37903\n",
       "min        9.00000\n",
       "25%       11.00000\n",
       "50%       13.00000\n",
       "75%       16.00000\n",
       "max       52.00000\n",
       "Name: Discharge, dtype: float64"
      ]
     },
     "execution_count": 17,
     "metadata": {},
     "output_type": "execute_result"
    }
   ],
   "source": [
    "desc_sc = sc_weir_df['Discharge'].describe()\n",
    "desc_sc"
   ]
  },
  {
   "cell_type": "code",
   "execution_count": 18,
   "id": "cc44e076",
   "metadata": {},
   "outputs": [
    {
     "data": {
      "text/plain": [
       "14.93"
      ]
     },
     "execution_count": 18,
     "metadata": {},
     "output_type": "execute_result"
    }
   ],
   "source": [
    "desc_sc['mean']"
   ]
  },
  {
   "cell_type": "markdown",
   "id": "bab721aa",
   "metadata": {},
   "source": [
    "이상치 제거 후: 모두 조금씩 작아짐. 큰 쪽의 이상치가 제거되는 경우 일반적으로 작아짐."
   ]
  },
  {
   "cell_type": "code",
   "execution_count": 19,
   "id": "3ee3a7db",
   "metadata": {},
   "outputs": [
    {
     "data": {
      "text/plain": [
       "count    98.000000\n",
       "mean     14.204082\n",
       "std       3.855533\n",
       "min       9.000000\n",
       "25%      11.000000\n",
       "50%      13.000000\n",
       "75%      16.000000\n",
       "max      25.000000\n",
       "Name: Discharge, dtype: float64"
      ]
     },
     "execution_count": 19,
     "metadata": {},
     "output_type": "execute_result"
    }
   ],
   "source": [
    "desc_no = no_outlier['Discharge'].describe()\n",
    "desc_no"
   ]
  },
  {
   "cell_type": "code",
   "execution_count": 20,
   "id": "e1e50ee2",
   "metadata": {},
   "outputs": [
    {
     "data": {
      "text/plain": [
       "14.204081632653061"
      ]
     },
     "execution_count": 20,
     "metadata": {},
     "output_type": "execute_result"
    }
   ],
   "source": [
    "desc_no['mean']"
   ]
  },
  {
   "cell_type": "markdown",
   "id": "56071a04",
   "metadata": {},
   "source": [
    "- 중앙값"
   ]
  },
  {
   "cell_type": "markdown",
   "id": "f2d0ef99",
   "metadata": {},
   "source": [
    "이상치 제거 전:"
   ]
  },
  {
   "cell_type": "code",
   "execution_count": 21,
   "id": "090b9b6b",
   "metadata": {},
   "outputs": [
    {
     "data": {
      "text/plain": [
       "13.0"
      ]
     },
     "execution_count": 21,
     "metadata": {},
     "output_type": "execute_result"
    }
   ],
   "source": [
    "desc_sc['50%']"
   ]
  },
  {
   "cell_type": "markdown",
   "id": "632a12af",
   "metadata": {},
   "source": [
    "이상치 제거 후: 변하지 않음. 변하더라도 아주 조금 달라짐. 중앙값은 이상치에 민감하지 않음."
   ]
  },
  {
   "cell_type": "code",
   "execution_count": 22,
   "id": "5a379fde",
   "metadata": {},
   "outputs": [
    {
     "data": {
      "text/plain": [
       "13.0"
      ]
     },
     "execution_count": 22,
     "metadata": {},
     "output_type": "execute_result"
    }
   ],
   "source": [
    "desc_no['50%']"
   ]
  },
  {
   "cell_type": "markdown",
   "id": "a5119194",
   "metadata": {},
   "source": [
    "- 최빈값"
   ]
  },
  {
   "cell_type": "markdown",
   "id": "18481ab5",
   "metadata": {},
   "source": [
    "이상치 제거 전:"
   ]
  },
  {
   "cell_type": "code",
   "execution_count": 23,
   "id": "0ea5cd2b",
   "metadata": {},
   "outputs": [
    {
     "data": {
      "text/plain": [
       "0    11\n",
       "Name: Discharge, dtype: int64"
      ]
     },
     "execution_count": 23,
     "metadata": {},
     "output_type": "execute_result"
    }
   ],
   "source": [
    "sc_weir_df['Discharge'].mode()"
   ]
  },
  {
   "cell_type": "markdown",
   "id": "c3fbaa2c",
   "metadata": {},
   "source": [
    "이상치 제거 후: 변동 없음. 일반적으로 이상치가 최빈값에 영향을 주지 못함."
   ]
  },
  {
   "cell_type": "code",
   "execution_count": 24,
   "id": "ed38e1e6",
   "metadata": {},
   "outputs": [
    {
     "data": {
      "text/plain": [
       "0    11\n",
       "Name: Discharge, dtype: int64"
      ]
     },
     "execution_count": 24,
     "metadata": {},
     "output_type": "execute_result"
    }
   ],
   "source": [
    "no_outlier['Discharge'].mode()"
   ]
  },
  {
   "cell_type": "markdown",
   "id": "40abdd9f",
   "metadata": {},
   "source": [
    "- 범위"
   ]
  },
  {
   "cell_type": "markdown",
   "id": "ef3a2269",
   "metadata": {},
   "source": [
    "이상치 제거 전:"
   ]
  },
  {
   "cell_type": "code",
   "execution_count": 25,
   "id": "b0c2b1c2",
   "metadata": {},
   "outputs": [
    {
     "data": {
      "text/plain": [
       "43.0"
      ]
     },
     "execution_count": 25,
     "metadata": {},
     "output_type": "execute_result"
    }
   ],
   "source": [
    "desc_sc['max'] - desc_sc['min']"
   ]
  },
  {
   "cell_type": "markdown",
   "id": "02376ef3",
   "metadata": {},
   "source": [
    "이상치 제거 후: 범위는 무조건 크게 줄어든다."
   ]
  },
  {
   "cell_type": "code",
   "execution_count": 26,
   "id": "ae584d1a",
   "metadata": {},
   "outputs": [
    {
     "data": {
      "text/plain": [
       "16.0"
      ]
     },
     "execution_count": 26,
     "metadata": {},
     "output_type": "execute_result"
    }
   ],
   "source": [
    "desc_no['max'] - desc_no['min']"
   ]
  },
  {
   "cell_type": "markdown",
   "id": "fdfbd819",
   "metadata": {},
   "source": [
    "- 사분범위"
   ]
  },
  {
   "cell_type": "markdown",
   "id": "3fca1fd5",
   "metadata": {},
   "source": [
    "이상치 제거 전:"
   ]
  },
  {
   "cell_type": "code",
   "execution_count": 27,
   "id": "d697b786",
   "metadata": {},
   "outputs": [
    {
     "data": {
      "text/plain": [
       "5.0"
      ]
     },
     "execution_count": 27,
     "metadata": {},
     "output_type": "execute_result"
    }
   ],
   "source": [
    "desc_sc['75%'] - desc_sc['25%']"
   ]
  },
  {
   "cell_type": "markdown",
   "id": "7ef9e8e9",
   "metadata": {},
   "source": [
    "이상치 제거 후: 변하지 않거나 별로 줄어들지 않음. 즉 사분범위는 이상치에 민감하지 않음."
   ]
  },
  {
   "cell_type": "code",
   "execution_count": 28,
   "id": "551e5efb",
   "metadata": {},
   "outputs": [
    {
     "data": {
      "text/plain": [
       "5.0"
      ]
     },
     "execution_count": 28,
     "metadata": {},
     "output_type": "execute_result"
    }
   ],
   "source": [
    "desc_no['75%'] - desc_no['25%']"
   ]
  },
  {
   "cell_type": "markdown",
   "id": "b4cc02c9",
   "metadata": {},
   "source": [
    "- 분산"
   ]
  },
  {
   "cell_type": "markdown",
   "id": "cb0daa7d",
   "metadata": {},
   "source": [
    "이상치 제거 전:"
   ]
  },
  {
   "cell_type": "code",
   "execution_count": 29,
   "id": "d5c3c1ee",
   "metadata": {},
   "outputs": [
    {
     "data": {
      "text/plain": [
       "40.2851"
      ]
     },
     "execution_count": 29,
     "metadata": {},
     "output_type": "execute_result"
    }
   ],
   "source": [
    "sc_weir_df['Discharge'].var(ddof=0)"
   ]
  },
  {
   "cell_type": "markdown",
   "id": "4959ee15",
   "metadata": {},
   "source": [
    "이상치 제거 후: 분산이 많이 작아진다. 이상치 제거후에 일반적으로 벌어지는 현상임."
   ]
  },
  {
   "cell_type": "code",
   "execution_count": 30,
   "id": "2cd8bb42",
   "metadata": {},
   "outputs": [
    {
     "data": {
      "text/plain": [
       "14.713452728029981"
      ]
     },
     "execution_count": 30,
     "metadata": {},
     "output_type": "execute_result"
    }
   ],
   "source": [
    "no_outlier['Discharge'].var(ddof=0)"
   ]
  },
  {
   "cell_type": "markdown",
   "id": "c015bbac",
   "metadata": {},
   "source": [
    "- 표준편차"
   ]
  },
  {
   "cell_type": "markdown",
   "id": "f8cbc9b8",
   "metadata": {},
   "source": [
    "이상치 제거 전:"
   ]
  },
  {
   "cell_type": "code",
   "execution_count": 31,
   "id": "a14f6b50",
   "metadata": {},
   "outputs": [
    {
     "data": {
      "text/plain": [
       "6.34705443493279"
      ]
     },
     "execution_count": 31,
     "metadata": {},
     "output_type": "execute_result"
    }
   ],
   "source": [
    "sc_weir_df['Discharge'].std(ddof=0)"
   ]
  },
  {
   "cell_type": "markdown",
   "id": "e9a5dc46",
   "metadata": {},
   "source": [
    "이상치 제거 후: 분산과 동일하게 변한다."
   ]
  },
  {
   "cell_type": "code",
   "execution_count": 32,
   "id": "1bc6e466",
   "metadata": {},
   "outputs": [
    {
     "data": {
      "text/plain": [
       "3.835811873388733"
      ]
     },
     "execution_count": 32,
     "metadata": {},
     "output_type": "execute_result"
    }
   ],
   "source": [
    "no_outlier['Discharge'].std(ddof=0)"
   ]
  },
  {
   "cell_type": "markdown",
   "id": "4791eb69",
   "metadata": {},
   "source": [
    "- 공분산: 방류량과 클로로필-A 사이의 공분산"
   ]
  },
  {
   "cell_type": "markdown",
   "id": "2f6a391d",
   "metadata": {},
   "source": [
    "이상치 제거 전: 두 데이터의 공분산은 -66.9 정도로 음의 상관관계다. 즉, 서로 다른 방향으로 움직인다."
   ]
  },
  {
   "cell_type": "code",
   "execution_count": 33,
   "id": "85cb2acd",
   "metadata": {},
   "outputs": [
    {
     "data": {
      "text/html": [
       "<div>\n",
       "<style scoped>\n",
       "    .dataframe tbody tr th:only-of-type {\n",
       "        vertical-align: middle;\n",
       "    }\n",
       "\n",
       "    .dataframe tbody tr th {\n",
       "        vertical-align: top;\n",
       "    }\n",
       "\n",
       "    .dataframe thead th {\n",
       "        text-align: right;\n",
       "    }\n",
       "</style>\n",
       "<table border=\"1\" class=\"dataframe\">\n",
       "  <thead>\n",
       "    <tr style=\"text-align: right;\">\n",
       "      <th></th>\n",
       "      <th>Chl-a</th>\n",
       "      <th>Discharge</th>\n",
       "    </tr>\n",
       "  </thead>\n",
       "  <tbody>\n",
       "    <tr>\n",
       "      <th>Chl-a</th>\n",
       "      <td>511.919596</td>\n",
       "      <td>-66.888687</td>\n",
       "    </tr>\n",
       "    <tr>\n",
       "      <th>Discharge</th>\n",
       "      <td>-66.888687</td>\n",
       "      <td>40.692020</td>\n",
       "    </tr>\n",
       "  </tbody>\n",
       "</table>\n",
       "</div>"
      ],
      "text/plain": [
       "                Chl-a  Discharge\n",
       "Chl-a      511.919596 -66.888687\n",
       "Discharge  -66.888687  40.692020"
      ]
     },
     "execution_count": 33,
     "metadata": {},
     "output_type": "execute_result"
    }
   ],
   "source": [
    "sc_weir_df.cov()"
   ]
  },
  {
   "cell_type": "markdown",
   "id": "202b9288",
   "metadata": {},
   "source": [
    "이상치 제거 후: -83.4 정도로 음의 상관관계가 커졌다. 즉, 서로 반대 방향으로 움직이는 선형 관계가 더우 커졌다."
   ]
  },
  {
   "cell_type": "code",
   "execution_count": 34,
   "id": "45bba1f7",
   "metadata": {},
   "outputs": [
    {
     "data": {
      "text/html": [
       "<div>\n",
       "<style scoped>\n",
       "    .dataframe tbody tr th:only-of-type {\n",
       "        vertical-align: middle;\n",
       "    }\n",
       "\n",
       "    .dataframe tbody tr th {\n",
       "        vertical-align: top;\n",
       "    }\n",
       "\n",
       "    .dataframe thead th {\n",
       "        text-align: right;\n",
       "    }\n",
       "</style>\n",
       "<table border=\"1\" class=\"dataframe\">\n",
       "  <thead>\n",
       "    <tr style=\"text-align: right;\">\n",
       "      <th></th>\n",
       "      <th>Chl-a</th>\n",
       "      <th>Discharge</th>\n",
       "    </tr>\n",
       "  </thead>\n",
       "  <tbody>\n",
       "    <tr>\n",
       "      <th>Chl-a</th>\n",
       "      <td>511.650852</td>\n",
       "      <td>-83.420366</td>\n",
       "    </tr>\n",
       "    <tr>\n",
       "      <th>Discharge</th>\n",
       "      <td>-83.420366</td>\n",
       "      <td>14.865138</td>\n",
       "    </tr>\n",
       "  </tbody>\n",
       "</table>\n",
       "</div>"
      ],
      "text/plain": [
       "                Chl-a  Discharge\n",
       "Chl-a      511.650852 -83.420366\n",
       "Discharge  -83.420366  14.865138"
      ]
     },
     "execution_count": 34,
     "metadata": {},
     "output_type": "execute_result"
    }
   ],
   "source": [
    "no_outlier.cov()"
   ]
  },
  {
   "cell_type": "markdown",
   "id": "84140c46",
   "metadata": {},
   "source": [
    "- 피어슨 상관계수: 방류량과 클로로필-A 사이의 피어슨 상관계수"
   ]
  },
  {
   "cell_type": "markdown",
   "id": "b53b270a",
   "metadata": {},
   "source": [
    "이상치 제거 전: 두 데이터의 피어슨 상관계수은 -0.46 정도로 음의 상관관계가 꽤 큰 편이다."
   ]
  },
  {
   "cell_type": "code",
   "execution_count": 35,
   "id": "64c9cb95",
   "metadata": {},
   "outputs": [
    {
     "data": {
      "text/html": [
       "<div>\n",
       "<style scoped>\n",
       "    .dataframe tbody tr th:only-of-type {\n",
       "        vertical-align: middle;\n",
       "    }\n",
       "\n",
       "    .dataframe tbody tr th {\n",
       "        vertical-align: top;\n",
       "    }\n",
       "\n",
       "    .dataframe thead th {\n",
       "        text-align: right;\n",
       "    }\n",
       "</style>\n",
       "<table border=\"1\" class=\"dataframe\">\n",
       "  <thead>\n",
       "    <tr style=\"text-align: right;\">\n",
       "      <th></th>\n",
       "      <th>Chl-a</th>\n",
       "      <th>Discharge</th>\n",
       "    </tr>\n",
       "  </thead>\n",
       "  <tbody>\n",
       "    <tr>\n",
       "      <th>Chl-a</th>\n",
       "      <td>1.000000</td>\n",
       "      <td>-0.463444</td>\n",
       "    </tr>\n",
       "    <tr>\n",
       "      <th>Discharge</th>\n",
       "      <td>-0.463444</td>\n",
       "      <td>1.000000</td>\n",
       "    </tr>\n",
       "  </tbody>\n",
       "</table>\n",
       "</div>"
      ],
      "text/plain": [
       "              Chl-a  Discharge\n",
       "Chl-a      1.000000  -0.463444\n",
       "Discharge -0.463444   1.000000"
      ]
     },
     "execution_count": 35,
     "metadata": {},
     "output_type": "execute_result"
    }
   ],
   "source": [
    "sc_weir_df.corr()"
   ]
  },
  {
   "cell_type": "markdown",
   "id": "eb848337",
   "metadata": {},
   "source": [
    "이상치 제거 후: -0.96 정도로 음의 상관관계가 -1에 매우 가깝다.\n",
    "즉 두 데이터의 음의 선형관계가 절대적임을 알 수 있다."
   ]
  },
  {
   "cell_type": "code",
   "execution_count": 36,
   "id": "ab6983f3",
   "metadata": {},
   "outputs": [
    {
     "data": {
      "text/html": [
       "<div>\n",
       "<style scoped>\n",
       "    .dataframe tbody tr th:only-of-type {\n",
       "        vertical-align: middle;\n",
       "    }\n",
       "\n",
       "    .dataframe tbody tr th {\n",
       "        vertical-align: top;\n",
       "    }\n",
       "\n",
       "    .dataframe thead th {\n",
       "        text-align: right;\n",
       "    }\n",
       "</style>\n",
       "<table border=\"1\" class=\"dataframe\">\n",
       "  <thead>\n",
       "    <tr style=\"text-align: right;\">\n",
       "      <th></th>\n",
       "      <th>Chl-a</th>\n",
       "      <th>Discharge</th>\n",
       "    </tr>\n",
       "  </thead>\n",
       "  <tbody>\n",
       "    <tr>\n",
       "      <th>Chl-a</th>\n",
       "      <td>1.000000</td>\n",
       "      <td>-0.956535</td>\n",
       "    </tr>\n",
       "    <tr>\n",
       "      <th>Discharge</th>\n",
       "      <td>-0.956535</td>\n",
       "      <td>1.000000</td>\n",
       "    </tr>\n",
       "  </tbody>\n",
       "</table>\n",
       "</div>"
      ],
      "text/plain": [
       "              Chl-a  Discharge\n",
       "Chl-a      1.000000  -0.956535\n",
       "Discharge -0.956535   1.000000"
      ]
     },
     "execution_count": 36,
     "metadata": {},
     "output_type": "execute_result"
    }
   ],
   "source": [
    "no_outlier.corr()"
   ]
  },
  {
   "cell_type": "markdown",
   "id": "3d19d6e7",
   "metadata": {},
   "source": [
    "**문제 2**"
   ]
  },
  {
   "cell_type": "markdown",
   "id": "f99522b3",
   "metadata": {},
   "source": [
    "기본 데이터 저장소에 있는 `california_housing.csv` 파일은 미국 캘리포니아 주의 주택 정보를 담고 있다.\n",
    "위 파일의 내용을 데이터프레임으로 불러와서 `housing_df` 변수에 할당한다."
   ]
  },
  {
   "cell_type": "code",
   "execution_count": 37,
   "id": "66c483c2",
   "metadata": {},
   "outputs": [
    {
     "data": {
      "text/html": [
       "<div>\n",
       "<style scoped>\n",
       "    .dataframe tbody tr th:only-of-type {\n",
       "        vertical-align: middle;\n",
       "    }\n",
       "\n",
       "    .dataframe tbody tr th {\n",
       "        vertical-align: top;\n",
       "    }\n",
       "\n",
       "    .dataframe thead th {\n",
       "        text-align: right;\n",
       "    }\n",
       "</style>\n",
       "<table border=\"1\" class=\"dataframe\">\n",
       "  <thead>\n",
       "    <tr style=\"text-align: right;\">\n",
       "      <th></th>\n",
       "      <th>longitude</th>\n",
       "      <th>latitude</th>\n",
       "      <th>housing_median_age</th>\n",
       "      <th>total_rooms</th>\n",
       "      <th>total_bedrooms</th>\n",
       "      <th>population</th>\n",
       "      <th>households</th>\n",
       "      <th>median_income</th>\n",
       "      <th>median_house_value</th>\n",
       "      <th>ocean_proximity</th>\n",
       "    </tr>\n",
       "  </thead>\n",
       "  <tbody>\n",
       "    <tr>\n",
       "      <th>0</th>\n",
       "      <td>-122.23</td>\n",
       "      <td>37.88</td>\n",
       "      <td>41.0</td>\n",
       "      <td>880.0</td>\n",
       "      <td>129.0</td>\n",
       "      <td>322.0</td>\n",
       "      <td>126.0</td>\n",
       "      <td>8.3252</td>\n",
       "      <td>452600.0</td>\n",
       "      <td>NEAR BAY</td>\n",
       "    </tr>\n",
       "    <tr>\n",
       "      <th>1</th>\n",
       "      <td>-122.22</td>\n",
       "      <td>37.86</td>\n",
       "      <td>21.0</td>\n",
       "      <td>7099.0</td>\n",
       "      <td>1106.0</td>\n",
       "      <td>2401.0</td>\n",
       "      <td>1138.0</td>\n",
       "      <td>8.3014</td>\n",
       "      <td>358500.0</td>\n",
       "      <td>NEAR BAY</td>\n",
       "    </tr>\n",
       "    <tr>\n",
       "      <th>2</th>\n",
       "      <td>-122.24</td>\n",
       "      <td>37.85</td>\n",
       "      <td>52.0</td>\n",
       "      <td>1467.0</td>\n",
       "      <td>190.0</td>\n",
       "      <td>496.0</td>\n",
       "      <td>177.0</td>\n",
       "      <td>7.2574</td>\n",
       "      <td>352100.0</td>\n",
       "      <td>NEAR BAY</td>\n",
       "    </tr>\n",
       "    <tr>\n",
       "      <th>3</th>\n",
       "      <td>-122.25</td>\n",
       "      <td>37.85</td>\n",
       "      <td>52.0</td>\n",
       "      <td>1274.0</td>\n",
       "      <td>235.0</td>\n",
       "      <td>558.0</td>\n",
       "      <td>219.0</td>\n",
       "      <td>5.6431</td>\n",
       "      <td>341300.0</td>\n",
       "      <td>NEAR BAY</td>\n",
       "    </tr>\n",
       "    <tr>\n",
       "      <th>4</th>\n",
       "      <td>-122.25</td>\n",
       "      <td>37.85</td>\n",
       "      <td>52.0</td>\n",
       "      <td>1627.0</td>\n",
       "      <td>280.0</td>\n",
       "      <td>565.0</td>\n",
       "      <td>259.0</td>\n",
       "      <td>3.8462</td>\n",
       "      <td>342200.0</td>\n",
       "      <td>NEAR BAY</td>\n",
       "    </tr>\n",
       "    <tr>\n",
       "      <th>...</th>\n",
       "      <td>...</td>\n",
       "      <td>...</td>\n",
       "      <td>...</td>\n",
       "      <td>...</td>\n",
       "      <td>...</td>\n",
       "      <td>...</td>\n",
       "      <td>...</td>\n",
       "      <td>...</td>\n",
       "      <td>...</td>\n",
       "      <td>...</td>\n",
       "    </tr>\n",
       "    <tr>\n",
       "      <th>20635</th>\n",
       "      <td>-121.09</td>\n",
       "      <td>39.48</td>\n",
       "      <td>25.0</td>\n",
       "      <td>1665.0</td>\n",
       "      <td>374.0</td>\n",
       "      <td>845.0</td>\n",
       "      <td>330.0</td>\n",
       "      <td>1.5603</td>\n",
       "      <td>78100.0</td>\n",
       "      <td>INLAND</td>\n",
       "    </tr>\n",
       "    <tr>\n",
       "      <th>20636</th>\n",
       "      <td>-121.21</td>\n",
       "      <td>39.49</td>\n",
       "      <td>18.0</td>\n",
       "      <td>697.0</td>\n",
       "      <td>150.0</td>\n",
       "      <td>356.0</td>\n",
       "      <td>114.0</td>\n",
       "      <td>2.5568</td>\n",
       "      <td>77100.0</td>\n",
       "      <td>INLAND</td>\n",
       "    </tr>\n",
       "    <tr>\n",
       "      <th>20637</th>\n",
       "      <td>-121.22</td>\n",
       "      <td>39.43</td>\n",
       "      <td>17.0</td>\n",
       "      <td>2254.0</td>\n",
       "      <td>485.0</td>\n",
       "      <td>1007.0</td>\n",
       "      <td>433.0</td>\n",
       "      <td>1.7000</td>\n",
       "      <td>92300.0</td>\n",
       "      <td>INLAND</td>\n",
       "    </tr>\n",
       "    <tr>\n",
       "      <th>20638</th>\n",
       "      <td>-121.32</td>\n",
       "      <td>39.43</td>\n",
       "      <td>18.0</td>\n",
       "      <td>1860.0</td>\n",
       "      <td>409.0</td>\n",
       "      <td>741.0</td>\n",
       "      <td>349.0</td>\n",
       "      <td>1.8672</td>\n",
       "      <td>84700.0</td>\n",
       "      <td>INLAND</td>\n",
       "    </tr>\n",
       "    <tr>\n",
       "      <th>20639</th>\n",
       "      <td>-121.24</td>\n",
       "      <td>39.37</td>\n",
       "      <td>16.0</td>\n",
       "      <td>2785.0</td>\n",
       "      <td>616.0</td>\n",
       "      <td>1387.0</td>\n",
       "      <td>530.0</td>\n",
       "      <td>2.3886</td>\n",
       "      <td>89400.0</td>\n",
       "      <td>INLAND</td>\n",
       "    </tr>\n",
       "  </tbody>\n",
       "</table>\n",
       "<p>20640 rows × 10 columns</p>\n",
       "</div>"
      ],
      "text/plain": [
       "       longitude  latitude  housing_median_age  total_rooms  total_bedrooms  \\\n",
       "0        -122.23     37.88                41.0        880.0           129.0   \n",
       "1        -122.22     37.86                21.0       7099.0          1106.0   \n",
       "2        -122.24     37.85                52.0       1467.0           190.0   \n",
       "3        -122.25     37.85                52.0       1274.0           235.0   \n",
       "4        -122.25     37.85                52.0       1627.0           280.0   \n",
       "...          ...       ...                 ...          ...             ...   \n",
       "20635    -121.09     39.48                25.0       1665.0           374.0   \n",
       "20636    -121.21     39.49                18.0        697.0           150.0   \n",
       "20637    -121.22     39.43                17.0       2254.0           485.0   \n",
       "20638    -121.32     39.43                18.0       1860.0           409.0   \n",
       "20639    -121.24     39.37                16.0       2785.0           616.0   \n",
       "\n",
       "       population  households  median_income  median_house_value  \\\n",
       "0           322.0       126.0         8.3252            452600.0   \n",
       "1          2401.0      1138.0         8.3014            358500.0   \n",
       "2           496.0       177.0         7.2574            352100.0   \n",
       "3           558.0       219.0         5.6431            341300.0   \n",
       "4           565.0       259.0         3.8462            342200.0   \n",
       "...           ...         ...            ...                 ...   \n",
       "20635       845.0       330.0         1.5603             78100.0   \n",
       "20636       356.0       114.0         2.5568             77100.0   \n",
       "20637      1007.0       433.0         1.7000             92300.0   \n",
       "20638       741.0       349.0         1.8672             84700.0   \n",
       "20639      1387.0       530.0         2.3886             89400.0   \n",
       "\n",
       "      ocean_proximity  \n",
       "0            NEAR BAY  \n",
       "1            NEAR BAY  \n",
       "2            NEAR BAY  \n",
       "3            NEAR BAY  \n",
       "4            NEAR BAY  \n",
       "...               ...  \n",
       "20635          INLAND  \n",
       "20636          INLAND  \n",
       "20637          INLAND  \n",
       "20638          INLAND  \n",
       "20639          INLAND  \n",
       "\n",
       "[20640 rows x 10 columns]"
      ]
     },
     "execution_count": 37,
     "metadata": {},
     "output_type": "execute_result"
    }
   ],
   "source": [
    "housing_df = pd.read_csv(data_url+\"california_housing.csv\")\n",
    "housing_df"
   ]
  },
  {
   "cell_type": "markdown",
   "id": "00c83cd9",
   "metadata": {},
   "source": [
    "(1) 주택중위가격(median_house_value) 특성과 다른 수치형 특성 사이의 선형 상관계수를 나타내는 상관계수를 확인하라."
   ]
  },
  {
   "cell_type": "markdown",
   "id": "193cb3db",
   "metadata": {},
   "source": [
    "먼저 범주형 특성이 하나 있음을 확인한다.\n",
    "아래 코드의 실행결과에서 `ocean_proximity` 특성의 `Dtype`이 `object`로 되어 있기에 범주형 특성이다."
   ]
  },
  {
   "cell_type": "code",
   "execution_count": 38,
   "id": "42f8ac6b",
   "metadata": {},
   "outputs": [
    {
     "name": "stdout",
     "output_type": "stream",
     "text": [
      "<class 'pandas.core.frame.DataFrame'>\n",
      "RangeIndex: 20640 entries, 0 to 20639\n",
      "Data columns (total 10 columns):\n",
      " #   Column              Non-Null Count  Dtype  \n",
      "---  ------              --------------  -----  \n",
      " 0   longitude           20640 non-null  float64\n",
      " 1   latitude            20640 non-null  float64\n",
      " 2   housing_median_age  20640 non-null  float64\n",
      " 3   total_rooms         20640 non-null  float64\n",
      " 4   total_bedrooms      20433 non-null  float64\n",
      " 5   population          20640 non-null  float64\n",
      " 6   households          20640 non-null  float64\n",
      " 7   median_income       20640 non-null  float64\n",
      " 8   median_house_value  20640 non-null  float64\n",
      " 9   ocean_proximity     20640 non-null  object \n",
      "dtypes: float64(9), object(1)\n",
      "memory usage: 1.6+ MB\n"
     ]
    }
   ],
   "source": [
    "housing_df.info()"
   ]
  },
  {
   "cell_type": "markdown",
   "id": "fd0efc0f",
   "metadata": {},
   "source": [
    "따라서 범주형 특성을 제외한 나머지만으로 구성된 데이터프레임을 지정한다.\n",
    "이를 위해 여기서는 `iloc` 메서드를 이용한다. \n",
    "이유는 `ocean_proximity` 특성이 오른쪽 맨끝에 자리하기 때문이다.\n",
    "물론 다른 다양한 방식도 가능하다."
   ]
  },
  {
   "cell_type": "code",
   "execution_count": 39,
   "id": "c92d34dd",
   "metadata": {},
   "outputs": [
    {
     "data": {
      "text/html": [
       "<div>\n",
       "<style scoped>\n",
       "    .dataframe tbody tr th:only-of-type {\n",
       "        vertical-align: middle;\n",
       "    }\n",
       "\n",
       "    .dataframe tbody tr th {\n",
       "        vertical-align: top;\n",
       "    }\n",
       "\n",
       "    .dataframe thead th {\n",
       "        text-align: right;\n",
       "    }\n",
       "</style>\n",
       "<table border=\"1\" class=\"dataframe\">\n",
       "  <thead>\n",
       "    <tr style=\"text-align: right;\">\n",
       "      <th></th>\n",
       "      <th>longitude</th>\n",
       "      <th>latitude</th>\n",
       "      <th>housing_median_age</th>\n",
       "      <th>total_rooms</th>\n",
       "      <th>total_bedrooms</th>\n",
       "      <th>population</th>\n",
       "      <th>households</th>\n",
       "      <th>median_income</th>\n",
       "      <th>median_house_value</th>\n",
       "    </tr>\n",
       "  </thead>\n",
       "  <tbody>\n",
       "    <tr>\n",
       "      <th>0</th>\n",
       "      <td>-122.23</td>\n",
       "      <td>37.88</td>\n",
       "      <td>41.0</td>\n",
       "      <td>880.0</td>\n",
       "      <td>129.0</td>\n",
       "      <td>322.0</td>\n",
       "      <td>126.0</td>\n",
       "      <td>8.3252</td>\n",
       "      <td>452600.0</td>\n",
       "    </tr>\n",
       "    <tr>\n",
       "      <th>1</th>\n",
       "      <td>-122.22</td>\n",
       "      <td>37.86</td>\n",
       "      <td>21.0</td>\n",
       "      <td>7099.0</td>\n",
       "      <td>1106.0</td>\n",
       "      <td>2401.0</td>\n",
       "      <td>1138.0</td>\n",
       "      <td>8.3014</td>\n",
       "      <td>358500.0</td>\n",
       "    </tr>\n",
       "    <tr>\n",
       "      <th>2</th>\n",
       "      <td>-122.24</td>\n",
       "      <td>37.85</td>\n",
       "      <td>52.0</td>\n",
       "      <td>1467.0</td>\n",
       "      <td>190.0</td>\n",
       "      <td>496.0</td>\n",
       "      <td>177.0</td>\n",
       "      <td>7.2574</td>\n",
       "      <td>352100.0</td>\n",
       "    </tr>\n",
       "    <tr>\n",
       "      <th>3</th>\n",
       "      <td>-122.25</td>\n",
       "      <td>37.85</td>\n",
       "      <td>52.0</td>\n",
       "      <td>1274.0</td>\n",
       "      <td>235.0</td>\n",
       "      <td>558.0</td>\n",
       "      <td>219.0</td>\n",
       "      <td>5.6431</td>\n",
       "      <td>341300.0</td>\n",
       "    </tr>\n",
       "    <tr>\n",
       "      <th>4</th>\n",
       "      <td>-122.25</td>\n",
       "      <td>37.85</td>\n",
       "      <td>52.0</td>\n",
       "      <td>1627.0</td>\n",
       "      <td>280.0</td>\n",
       "      <td>565.0</td>\n",
       "      <td>259.0</td>\n",
       "      <td>3.8462</td>\n",
       "      <td>342200.0</td>\n",
       "    </tr>\n",
       "    <tr>\n",
       "      <th>...</th>\n",
       "      <td>...</td>\n",
       "      <td>...</td>\n",
       "      <td>...</td>\n",
       "      <td>...</td>\n",
       "      <td>...</td>\n",
       "      <td>...</td>\n",
       "      <td>...</td>\n",
       "      <td>...</td>\n",
       "      <td>...</td>\n",
       "    </tr>\n",
       "    <tr>\n",
       "      <th>20635</th>\n",
       "      <td>-121.09</td>\n",
       "      <td>39.48</td>\n",
       "      <td>25.0</td>\n",
       "      <td>1665.0</td>\n",
       "      <td>374.0</td>\n",
       "      <td>845.0</td>\n",
       "      <td>330.0</td>\n",
       "      <td>1.5603</td>\n",
       "      <td>78100.0</td>\n",
       "    </tr>\n",
       "    <tr>\n",
       "      <th>20636</th>\n",
       "      <td>-121.21</td>\n",
       "      <td>39.49</td>\n",
       "      <td>18.0</td>\n",
       "      <td>697.0</td>\n",
       "      <td>150.0</td>\n",
       "      <td>356.0</td>\n",
       "      <td>114.0</td>\n",
       "      <td>2.5568</td>\n",
       "      <td>77100.0</td>\n",
       "    </tr>\n",
       "    <tr>\n",
       "      <th>20637</th>\n",
       "      <td>-121.22</td>\n",
       "      <td>39.43</td>\n",
       "      <td>17.0</td>\n",
       "      <td>2254.0</td>\n",
       "      <td>485.0</td>\n",
       "      <td>1007.0</td>\n",
       "      <td>433.0</td>\n",
       "      <td>1.7000</td>\n",
       "      <td>92300.0</td>\n",
       "    </tr>\n",
       "    <tr>\n",
       "      <th>20638</th>\n",
       "      <td>-121.32</td>\n",
       "      <td>39.43</td>\n",
       "      <td>18.0</td>\n",
       "      <td>1860.0</td>\n",
       "      <td>409.0</td>\n",
       "      <td>741.0</td>\n",
       "      <td>349.0</td>\n",
       "      <td>1.8672</td>\n",
       "      <td>84700.0</td>\n",
       "    </tr>\n",
       "    <tr>\n",
       "      <th>20639</th>\n",
       "      <td>-121.24</td>\n",
       "      <td>39.37</td>\n",
       "      <td>16.0</td>\n",
       "      <td>2785.0</td>\n",
       "      <td>616.0</td>\n",
       "      <td>1387.0</td>\n",
       "      <td>530.0</td>\n",
       "      <td>2.3886</td>\n",
       "      <td>89400.0</td>\n",
       "    </tr>\n",
       "  </tbody>\n",
       "</table>\n",
       "<p>20640 rows × 9 columns</p>\n",
       "</div>"
      ],
      "text/plain": [
       "       longitude  latitude  housing_median_age  total_rooms  total_bedrooms  \\\n",
       "0        -122.23     37.88                41.0        880.0           129.0   \n",
       "1        -122.22     37.86                21.0       7099.0          1106.0   \n",
       "2        -122.24     37.85                52.0       1467.0           190.0   \n",
       "3        -122.25     37.85                52.0       1274.0           235.0   \n",
       "4        -122.25     37.85                52.0       1627.0           280.0   \n",
       "...          ...       ...                 ...          ...             ...   \n",
       "20635    -121.09     39.48                25.0       1665.0           374.0   \n",
       "20636    -121.21     39.49                18.0        697.0           150.0   \n",
       "20637    -121.22     39.43                17.0       2254.0           485.0   \n",
       "20638    -121.32     39.43                18.0       1860.0           409.0   \n",
       "20639    -121.24     39.37                16.0       2785.0           616.0   \n",
       "\n",
       "       population  households  median_income  median_house_value  \n",
       "0           322.0       126.0         8.3252            452600.0  \n",
       "1          2401.0      1138.0         8.3014            358500.0  \n",
       "2           496.0       177.0         7.2574            352100.0  \n",
       "3           558.0       219.0         5.6431            341300.0  \n",
       "4           565.0       259.0         3.8462            342200.0  \n",
       "...           ...         ...            ...                 ...  \n",
       "20635       845.0       330.0         1.5603             78100.0  \n",
       "20636       356.0       114.0         2.5568             77100.0  \n",
       "20637      1007.0       433.0         1.7000             92300.0  \n",
       "20638       741.0       349.0         1.8672             84700.0  \n",
       "20639      1387.0       530.0         2.3886             89400.0  \n",
       "\n",
       "[20640 rows x 9 columns]"
      ]
     },
     "execution_count": 39,
     "metadata": {},
     "output_type": "execute_result"
    }
   ],
   "source": [
    "numeric_df = housing_df.iloc[:, :-1].copy()\n",
    "numeric_df"
   ]
  },
  {
   "cell_type": "markdown",
   "id": "61def453",
   "metadata": {},
   "source": [
    "연습을 위해 항목만 갖는 어레이도 지정한다."
   ]
  },
  {
   "cell_type": "code",
   "execution_count": 40,
   "id": "87756816",
   "metadata": {},
   "outputs": [],
   "source": [
    "numeric_arr = numeric_df.values"
   ]
  },
  {
   "cell_type": "markdown",
   "id": "107c43fc",
   "metadata": {},
   "source": [
    "이제 상관계수를 계산한다."
   ]
  },
  {
   "cell_type": "markdown",
   "id": "edf1a0be",
   "metadata": {},
   "source": [
    "- 넘파이 활용:\n",
    "    - `np.corrcoef() 함수의 `rowvar` 키워드 인자의 값을 `False`로 설정해야 함.\n",
    "        그렇지 않으면 행 사이의, 즉, 데이터 샘플들 사이의 상관계수를 계산하여 (20640, 20640) 모양의 어레이가 생성됨.            \n",
    "    - 총 9개의 특성들 사이의 상관계수를 담은 (9, 9) 모양의 어레이가 생성됨."
   ]
  },
  {
   "cell_type": "code",
   "execution_count": 41,
   "id": "37849af5",
   "metadata": {},
   "outputs": [
    {
     "data": {
      "text/plain": [
       "array([[ 1.        , -0.92466443, -0.10819681,  0.04456798,         nan,\n",
       "         0.09977322,  0.05531009, -0.01517587, -0.04596662],\n",
       "       [-0.92466443,  1.        ,  0.01117267, -0.0360996 ,         nan,\n",
       "        -0.10878475, -0.07103543, -0.07980913, -0.14416028],\n",
       "       [-0.10819681,  0.01117267,  1.        , -0.3612622 ,         nan,\n",
       "        -0.29624424, -0.30291601, -0.11903399,  0.10562341],\n",
       "       [ 0.04456798, -0.0360996 , -0.3612622 ,  1.        ,         nan,\n",
       "         0.85712597,  0.91848449,  0.19804965,  0.13415311],\n",
       "       [        nan,         nan,         nan,         nan,         nan,\n",
       "                nan,         nan,         nan,         nan],\n",
       "       [ 0.09977322, -0.10878475, -0.29624424,  0.85712597,         nan,\n",
       "         1.        ,  0.90722227,  0.00483435, -0.02464968],\n",
       "       [ 0.05531009, -0.07103543, -0.30291601,  0.91848449,         nan,\n",
       "         0.90722227,  1.        ,  0.01303305,  0.06584265],\n",
       "       [-0.01517587, -0.07980913, -0.11903399,  0.19804965,         nan,\n",
       "         0.00483435,  0.01303305,  1.        ,  0.68807521],\n",
       "       [-0.04596662, -0.14416028,  0.10562341,  0.13415311,         nan,\n",
       "        -0.02464968,  0.06584265,  0.68807521,  1.        ]])"
      ]
     },
     "execution_count": 41,
     "metadata": {},
     "output_type": "execute_result"
    }
   ],
   "source": [
    "np.corrcoef(numeric_arr, rowvar=False)"
   ]
  },
  {
   "cell_type": "markdown",
   "id": "23f19b61",
   "metadata": {},
   "source": [
    "- 데이터프레임 활용"
   ]
  },
  {
   "cell_type": "code",
   "execution_count": 42,
   "id": "83bd29ab",
   "metadata": {},
   "outputs": [
    {
     "data": {
      "text/html": [
       "<div>\n",
       "<style scoped>\n",
       "    .dataframe tbody tr th:only-of-type {\n",
       "        vertical-align: middle;\n",
       "    }\n",
       "\n",
       "    .dataframe tbody tr th {\n",
       "        vertical-align: top;\n",
       "    }\n",
       "\n",
       "    .dataframe thead th {\n",
       "        text-align: right;\n",
       "    }\n",
       "</style>\n",
       "<table border=\"1\" class=\"dataframe\">\n",
       "  <thead>\n",
       "    <tr style=\"text-align: right;\">\n",
       "      <th></th>\n",
       "      <th>longitude</th>\n",
       "      <th>latitude</th>\n",
       "      <th>housing_median_age</th>\n",
       "      <th>total_rooms</th>\n",
       "      <th>total_bedrooms</th>\n",
       "      <th>population</th>\n",
       "      <th>households</th>\n",
       "      <th>median_income</th>\n",
       "      <th>median_house_value</th>\n",
       "    </tr>\n",
       "  </thead>\n",
       "  <tbody>\n",
       "    <tr>\n",
       "      <th>longitude</th>\n",
       "      <td>1.000000</td>\n",
       "      <td>-0.924664</td>\n",
       "      <td>-0.108197</td>\n",
       "      <td>0.044568</td>\n",
       "      <td>0.069608</td>\n",
       "      <td>0.099773</td>\n",
       "      <td>0.055310</td>\n",
       "      <td>-0.015176</td>\n",
       "      <td>-0.045967</td>\n",
       "    </tr>\n",
       "    <tr>\n",
       "      <th>latitude</th>\n",
       "      <td>-0.924664</td>\n",
       "      <td>1.000000</td>\n",
       "      <td>0.011173</td>\n",
       "      <td>-0.036100</td>\n",
       "      <td>-0.066983</td>\n",
       "      <td>-0.108785</td>\n",
       "      <td>-0.071035</td>\n",
       "      <td>-0.079809</td>\n",
       "      <td>-0.144160</td>\n",
       "    </tr>\n",
       "    <tr>\n",
       "      <th>housing_median_age</th>\n",
       "      <td>-0.108197</td>\n",
       "      <td>0.011173</td>\n",
       "      <td>1.000000</td>\n",
       "      <td>-0.361262</td>\n",
       "      <td>-0.320451</td>\n",
       "      <td>-0.296244</td>\n",
       "      <td>-0.302916</td>\n",
       "      <td>-0.119034</td>\n",
       "      <td>0.105623</td>\n",
       "    </tr>\n",
       "    <tr>\n",
       "      <th>total_rooms</th>\n",
       "      <td>0.044568</td>\n",
       "      <td>-0.036100</td>\n",
       "      <td>-0.361262</td>\n",
       "      <td>1.000000</td>\n",
       "      <td>0.930380</td>\n",
       "      <td>0.857126</td>\n",
       "      <td>0.918484</td>\n",
       "      <td>0.198050</td>\n",
       "      <td>0.134153</td>\n",
       "    </tr>\n",
       "    <tr>\n",
       "      <th>total_bedrooms</th>\n",
       "      <td>0.069608</td>\n",
       "      <td>-0.066983</td>\n",
       "      <td>-0.320451</td>\n",
       "      <td>0.930380</td>\n",
       "      <td>1.000000</td>\n",
       "      <td>0.877747</td>\n",
       "      <td>0.979728</td>\n",
       "      <td>-0.007723</td>\n",
       "      <td>0.049686</td>\n",
       "    </tr>\n",
       "    <tr>\n",
       "      <th>population</th>\n",
       "      <td>0.099773</td>\n",
       "      <td>-0.108785</td>\n",
       "      <td>-0.296244</td>\n",
       "      <td>0.857126</td>\n",
       "      <td>0.877747</td>\n",
       "      <td>1.000000</td>\n",
       "      <td>0.907222</td>\n",
       "      <td>0.004834</td>\n",
       "      <td>-0.024650</td>\n",
       "    </tr>\n",
       "    <tr>\n",
       "      <th>households</th>\n",
       "      <td>0.055310</td>\n",
       "      <td>-0.071035</td>\n",
       "      <td>-0.302916</td>\n",
       "      <td>0.918484</td>\n",
       "      <td>0.979728</td>\n",
       "      <td>0.907222</td>\n",
       "      <td>1.000000</td>\n",
       "      <td>0.013033</td>\n",
       "      <td>0.065843</td>\n",
       "    </tr>\n",
       "    <tr>\n",
       "      <th>median_income</th>\n",
       "      <td>-0.015176</td>\n",
       "      <td>-0.079809</td>\n",
       "      <td>-0.119034</td>\n",
       "      <td>0.198050</td>\n",
       "      <td>-0.007723</td>\n",
       "      <td>0.004834</td>\n",
       "      <td>0.013033</td>\n",
       "      <td>1.000000</td>\n",
       "      <td>0.688075</td>\n",
       "    </tr>\n",
       "    <tr>\n",
       "      <th>median_house_value</th>\n",
       "      <td>-0.045967</td>\n",
       "      <td>-0.144160</td>\n",
       "      <td>0.105623</td>\n",
       "      <td>0.134153</td>\n",
       "      <td>0.049686</td>\n",
       "      <td>-0.024650</td>\n",
       "      <td>0.065843</td>\n",
       "      <td>0.688075</td>\n",
       "      <td>1.000000</td>\n",
       "    </tr>\n",
       "  </tbody>\n",
       "</table>\n",
       "</div>"
      ],
      "text/plain": [
       "                    longitude  latitude  housing_median_age  total_rooms  \\\n",
       "longitude            1.000000 -0.924664           -0.108197     0.044568   \n",
       "latitude            -0.924664  1.000000            0.011173    -0.036100   \n",
       "housing_median_age  -0.108197  0.011173            1.000000    -0.361262   \n",
       "total_rooms          0.044568 -0.036100           -0.361262     1.000000   \n",
       "total_bedrooms       0.069608 -0.066983           -0.320451     0.930380   \n",
       "population           0.099773 -0.108785           -0.296244     0.857126   \n",
       "households           0.055310 -0.071035           -0.302916     0.918484   \n",
       "median_income       -0.015176 -0.079809           -0.119034     0.198050   \n",
       "median_house_value  -0.045967 -0.144160            0.105623     0.134153   \n",
       "\n",
       "                    total_bedrooms  population  households  median_income  \\\n",
       "longitude                 0.069608    0.099773    0.055310      -0.015176   \n",
       "latitude                 -0.066983   -0.108785   -0.071035      -0.079809   \n",
       "housing_median_age       -0.320451   -0.296244   -0.302916      -0.119034   \n",
       "total_rooms               0.930380    0.857126    0.918484       0.198050   \n",
       "total_bedrooms            1.000000    0.877747    0.979728      -0.007723   \n",
       "population                0.877747    1.000000    0.907222       0.004834   \n",
       "households                0.979728    0.907222    1.000000       0.013033   \n",
       "median_income            -0.007723    0.004834    0.013033       1.000000   \n",
       "median_house_value        0.049686   -0.024650    0.065843       0.688075   \n",
       "\n",
       "                    median_house_value  \n",
       "longitude                    -0.045967  \n",
       "latitude                     -0.144160  \n",
       "housing_median_age            0.105623  \n",
       "total_rooms                   0.134153  \n",
       "total_bedrooms                0.049686  \n",
       "population                   -0.024650  \n",
       "households                    0.065843  \n",
       "median_income                 0.688075  \n",
       "median_house_value            1.000000  "
      ]
     },
     "execution_count": 42,
     "metadata": {},
     "output_type": "execute_result"
    }
   ],
   "source": [
    "corr_df = numeric_df.corr()\n",
    "corr_df"
   ]
  },
  {
   "cell_type": "markdown",
   "id": "fdb731ed",
   "metadata": {},
   "source": [
    "`median_house_value`를 기준으로 하는 상관계수는 다음과 같다."
   ]
  },
  {
   "cell_type": "code",
   "execution_count": 43,
   "id": "ebaef1ae",
   "metadata": {},
   "outputs": [
    {
     "data": {
      "text/plain": [
       "longitude            -0.045967\n",
       "latitude             -0.144160\n",
       "housing_median_age    0.105623\n",
       "total_rooms           0.134153\n",
       "total_bedrooms        0.049686\n",
       "population           -0.024650\n",
       "households            0.065843\n",
       "median_income         0.688075\n",
       "median_house_value    1.000000\n",
       "Name: median_house_value, dtype: float64"
      ]
     },
     "execution_count": 43,
     "metadata": {},
     "output_type": "execute_result"
    }
   ],
   "source": [
    "corr_df.loc['median_house_value']"
   ]
  },
  {
   "cell_type": "markdown",
   "id": "95e05760",
   "metadata": {},
   "source": [
    "(2) 확인된 상관계수를 바탕으로 주택중위가격과 가장 상관관계가 높은 특성을 확인하고 그 이유를 추정하라.\n",
    "\n",
    "힌트: `sort_values()` 메서드 활용"
   ]
  },
  {
   "cell_type": "markdown",
   "id": "7a576cf2",
   "metadata": {},
   "source": [
    "상관계수를 기준으로 내림차순으로 정렬한다."
   ]
  },
  {
   "cell_type": "code",
   "execution_count": 44,
   "id": "700cc1e4",
   "metadata": {},
   "outputs": [
    {
     "data": {
      "text/plain": [
       "median_house_value    1.000000\n",
       "median_income         0.688075\n",
       "total_rooms           0.134153\n",
       "housing_median_age    0.105623\n",
       "households            0.065843\n",
       "total_bedrooms        0.049686\n",
       "population           -0.024650\n",
       "longitude            -0.045967\n",
       "latitude             -0.144160\n",
       "Name: median_house_value, dtype: float64"
      ]
     },
     "execution_count": 44,
     "metadata": {},
     "output_type": "execute_result"
    }
   ],
   "source": [
    "corr_df.loc['median_house_value'].sort_values(ascending=False)"
   ]
  },
  {
   "cell_type": "markdown",
   "id": "1a235469",
   "metadata": {},
   "source": [
    "그러면 주택중위가격 자신을 제외하고 가장 높은 선형 상관관계는 중위소득(`median_income`)과 갖는다.\n",
    "상관계수는 0.688이다.\n",
    "이 결과는 매우 상식적이다. 이유는 소득이 많을 수록 좋고 비싼 집에 사는 경향이 일반적이기 때문이다."
   ]
  }
 ],
 "metadata": {
  "kernelspec": {
   "display_name": "Python 3 (ipykernel)",
   "language": "python",
   "name": "python3"
  },
  "language_info": {
   "codemirror_mode": {
    "name": "ipython",
    "version": 3
   },
   "file_extension": ".py",
   "mimetype": "text/x-python",
   "name": "python",
   "nbconvert_exporter": "python",
   "pygments_lexer": "ipython3",
   "version": "3.12.2"
  },
  "vscode": {
   "interpreter": {
    "hash": "ad0f3c8a064f687cbf898a0868fd45ba1c7e928ac8a0404f7c241d812ddc1e76"
   }
  }
 },
 "nbformat": 4,
 "nbformat_minor": 5
}
