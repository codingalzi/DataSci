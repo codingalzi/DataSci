{
 "cells": [
  {
   "cell_type": "markdown",
   "metadata": {
    "ExecuteTime": {
     "end_time": "2018-03-06T03:37:40.696920Z",
     "start_time": "2018-03-06T03:37:40.690655Z"
    }
   },
   "source": [
    "# (연습) 연속 확률 분포"
   ]
  },
  {
   "cell_type": "markdown",
   "metadata": {},
   "source": [
    "**기본 설정**"
   ]
  },
  {
   "cell_type": "markdown",
   "metadata": {
    "ExecuteTime": {
     "end_time": "2018-08-03T08:26:15.690793Z",
     "start_time": "2018-08-03T08:26:15.507201Z"
    }
   },
   "source": [
    "Numpy와 Pandas 라이브러리를 각각 np와 pd로 불러온다."
   ]
  },
  {
   "cell_type": "code",
   "execution_count": 1,
   "metadata": {
    "ExecuteTime": {
     "end_time": "2018-08-14T06:43:30.149227Z",
     "start_time": "2018-08-14T06:43:29.960007Z"
    }
   },
   "outputs": [],
   "source": [
    "import numpy as np\n",
    "import pandas as pd"
   ]
  },
  {
   "cell_type": "markdown",
   "metadata": {},
   "source": [
    "데이터프레임의 [chained indexing을 금지시키기 위한 설정](https://pandas.pydata.org/pandas-docs/stable/user_guide/indexing.html#returning-a-view-versus-a-copy)을 지정한다.\n",
    "Pandas 3.0 버전부터는 기본 옵션으로 지정된다."
   ]
  },
  {
   "cell_type": "code",
   "execution_count": 2,
   "metadata": {},
   "outputs": [],
   "source": [
    "pd.options.mode.copy_on_write = True"
   ]
  },
  {
   "cell_type": "markdown",
   "metadata": {
    "ExecuteTime": {
     "end_time": "2018-08-14T06:43:30.149227Z",
     "start_time": "2018-08-14T06:43:29.960007Z"
    }
   },
   "source": [
    "주피터 노트북에서 부동소수점의 출력을 소수점 이하 6자리로 제한한다.\n",
    "아래 코드는 주피터 노트북에서만 사용하며 일반적인 파이썬 코드가 아니다."
   ]
  },
  {
   "cell_type": "code",
   "execution_count": 3,
   "metadata": {
    "ExecuteTime": {
     "end_time": "2018-08-14T06:43:30.149227Z",
     "start_time": "2018-08-14T06:43:29.960007Z"
    }
   },
   "outputs": [
    {
     "data": {
      "text/plain": [
       "'%.6f'"
      ]
     },
     "execution_count": 3,
     "metadata": {},
     "output_type": "execute_result"
    }
   ],
   "source": [
    "%precision 6"
   ]
  },
  {
   "cell_type": "markdown",
   "metadata": {
    "ExecuteTime": {
     "end_time": "2018-08-14T06:43:30.149227Z",
     "start_time": "2018-08-14T06:43:29.960007Z"
    }
   },
   "source": [
    "아래 코드는 데이터프레임 내에서 부동소수점의 출력을 소수점 이하 6자리로 제한한다."
   ]
  },
  {
   "cell_type": "code",
   "execution_count": 4,
   "metadata": {
    "ExecuteTime": {
     "end_time": "2018-08-14T06:43:30.149227Z",
     "start_time": "2018-08-14T06:43:29.960007Z"
    }
   },
   "outputs": [],
   "source": [
    "pd.set_option('display.precision', 6)"
   ]
  },
  {
   "cell_type": "markdown",
   "metadata": {},
   "source": [
    "데이터 시각화를 위해 `matplotlib.pyplot`를 `plt`로,\n",
    "`seaborn`을 `sns`로 불러온다."
   ]
  },
  {
   "cell_type": "code",
   "execution_count": 5,
   "metadata": {},
   "outputs": [],
   "source": [
    "import matplotlib.pyplot as plt\n",
    "import seaborn as sns"
   ]
  },
  {
   "cell_type": "markdown",
   "metadata": {},
   "source": [
    "그래프 스타일을 `seaborn`에서 제공하는 `white` 스타일로 지정한다."
   ]
  },
  {
   "cell_type": "code",
   "execution_count": 6,
   "metadata": {},
   "outputs": [],
   "source": [
    "sns.set_style(\"white\")"
   ]
  },
  {
   "cell_type": "markdown",
   "metadata": {},
   "source": [
    "**데이터 저장소 디렉토리**"
   ]
  },
  {
   "cell_type": "markdown",
   "metadata": {},
   "source": [
    "코드에 사용되는 [데이터 저장소의 기본 디렉토리](https://github.com/codingalzi/DataSci/tree/master/data)를 지정한다."
   ]
  },
  {
   "cell_type": "code",
   "execution_count": 7,
   "metadata": {},
   "outputs": [],
   "source": [
    "data_url = 'https://raw.githubusercontent.com/codingalzi/DataSci/refs/heads/master/data/'"
   ]
  },
  {
   "cell_type": "markdown",
   "metadata": {},
   "source": [
    "## 연속 균등 분포"
   ]
  },
  {
   "cell_type": "markdown",
   "metadata": {},
   "source": [
    "`np.random.uniform()` 함수를 한 번 적용해서 생성된 실수들의 분포는 균등하지 않아 보인다.\n",
    "하지만 현실에서의 균등 분포를 적절하게 반영한다.\n",
    "예를 들어 동전을 10번 던졌을 때 반드시 5번씩 앞면, 뒷면이 나오지 않으며\n",
    "주사위를 6번 던져도 반드시 1번씩 각각의 번호가 나오지는 않는다."
   ]
  },
  {
   "cell_type": "code",
   "execution_count": 8,
   "metadata": {},
   "outputs": [],
   "source": [
    "np.random.seed(17)\n",
    "uni1000 = np.random.uniform(2, 5,1000)"
   ]
  },
  {
   "cell_type": "code",
   "execution_count": 9,
   "metadata": {},
   "outputs": [
    {
     "data": {
      "image/png": "[encoded data removed]",
      "text/plain": [
       "<Figure size 640x480 with 1 Axes>"
      ]
     },
     "metadata": {},
     "output_type": "display_data"
    }
   ],
   "source": [
    "fig, ax = plt.subplots()\n",
    "\n",
    "freqs, bins, _ = ax.hist(uni1000, bins=25)\n",
    "\n",
    "# 평균 도수: freqs.mean() = 40.0\n",
    "ax.plot(bins, np.ones_like(bins) * freqs.mean(), linewidth=2, color='r')\n",
    "\n",
    "ax.set_xlabel('x')\n",
    "ax.set_ylabel('Frequency')\n",
    "\n",
    "plt.show()"
   ]
  },
  {
   "cell_type": "markdown",
   "metadata": {},
   "source": [
    "하지만 동전 던지기 횟수를 1만번, 10만번 등 키우면 거의 50대 50의 확률로 앞면, 뒷면이 나오고,\n",
    "주사위 던지기 횟수를 6만번, 60만번 으로 늘리면 거의 1/6의 확률로 각각의 숫자가 나온다.\n",
    "이처럼 시행횟수를 늘렸을 때 이론적인 확률값에 수렴하는 현상을 \n",
    "**큰 수의 법칙**<font size='2'>law of large numbers</font>이라 부른다."
   ]
  },
  {
   "cell_type": "markdown",
   "metadata": {},
   "source": [
    "**문제 1**"
   ]
  },
  {
   "cell_type": "markdown",
   "metadata": {},
   "source": [
    "`np.random.uniform()` 함수를 1만번 실행했을 때 균등하게 등분된 구간별 상대도수의 평균값이 일정함을 보이는 모의실험 코드를 구현하라.\n",
    "또한 구간별 상대도수의 평균값을 이용하여 아래와 같은 히스토그램을 그리는 코드를 작성하라."
   ]
  },
  {
   "cell_type": "markdown",
   "metadata": {},
   "source": [
    "<p><div align=\"center\"><img src=\"https://raw.githubusercontent.com/codingalzi/DataSci/master/jupyter-book/images/uniform_random01.png\" style=\"width:570px\"></div></p>"
   ]
  },
  {
   "cell_type": "markdown",
   "metadata": {},
   "source": [
    "힌트:"
   ]
  },
  {
   "cell_type": "markdown",
   "metadata": {},
   "source": [
    "1. `seed`값을 0부터 9,999까지 변경하면서 아래 내용을 1만 번 반복 실행한다.\n",
    "    \n",
    "  - 구간 $[2, 5]$에서 1,000개의 부동소수점을 균등 분포를 이용하여 선택한다.\n",
    "  - 25개로 등분된 구간별 상대도수 분포를 계산한다.\n",
    "  - 구간별 상대도수의 누적합을 계산한다.\n",
    "\n",
    "2. 최종적으로 구간별 상대도수의 평균값을 계산한다."
   ]
  },
  {
   "cell_type": "markdown",
   "metadata": {},
   "source": [
    "답:"
   ]
  },
  {
   "cell_type": "markdown",
   "metadata": {},
   "source": [
    "구간별 확률 밀도 함수값의 평균값을 계산한다."
   ]
  },
  {
   "cell_type": "code",
   "execution_count": 10,
   "metadata": {},
   "outputs": [],
   "source": [
    "iter_num = 10000    # 반복 횟수\n",
    "bins = 25           # 구간 개수\n",
    "sample_size = 1000  # 표본 크기\n",
    "\n",
    "# 구간별 확룰 밀도 함수값의 합 저장용\n",
    "dens_sum = np.zeros(bins)\n",
    "\n",
    "# iter_num 횟수만큼 표본 선택 실험 반복\n",
    "for i in range(iter_num):\n",
    "    np.random.seed(i) # 시드 다르게 지정\n",
    "    \n",
    "    uni1000 = np.random.uniform(2, 5,sample_size)\n",
    "    dens, bins = np.histogram(uni1000, bins=bins, density=True) # 히스토그램 데이터 생성\n",
    "    dens_sum += dens # 구간별 누적 확률 밀도 함숫값\n",
    "\n",
    "# 구간별 평균 확률 밀도 함숫값    \n",
    "dens_mean = dens_sum / iter_num"
   ]
  },
  {
   "cell_type": "markdown",
   "metadata": {},
   "source": [
    "아래 코드는\n",
    "계산된 구간별 확률 밀도 함숫값을 검정 실선 그래프로 그린다.\n",
    "결과적으로 빨간 직선으로 그려진 $y = 1/3$의 그래프와 거의 유사하다."
   ]
  },
  {
   "cell_type": "code",
   "execution_count": 11,
   "metadata": {},
   "outputs": [
    {
     "data": {
      "image/png": "[encoded data removed]",
      "text/plain": [
       "<Figure size 640x480 with 1 Axes>"
      ]
     },
     "metadata": {},
     "output_type": "display_data"
    }
   ],
   "source": [
    "fig, ax = plt.subplots()\n",
    "\n",
    "# 빨간 직선: y=1/3 그래프\n",
    "ax.plot(np.arange(-0.5, len(dens_mean)+0.5), np.ones_like(bins) * 1/3, linewidth=1, color='r')\n",
    "\n",
    "# 막대그래프: 구간별 평균 확률 밀도\n",
    "ax.bar(range(0, len(dens_mean)), dens_mean, width=1)\n",
    "\n",
    "ax.set_xticks(np.arange(0, 26, 4))\n",
    "ax.set_xticklabels(np.arange(2.0, 5.1, 0.5))\n",
    "\n",
    "ax.set_xlabel('x')\n",
    "ax.set_ylabel('Density')\n",
    "\n",
    "plt.show()"
   ]
  },
  {
   "cell_type": "markdown",
   "metadata": {
    "id": "D6CIjV_ICHko"
   },
   "source": [
    "## 붓꽃 데이터셋"
   ]
  },
  {
   "cell_type": "markdown",
   "metadata": {},
   "source": [
    "[2차원 데이터 시각화](https://colab.research.google.com/github/codingalzi/DataSci/blob/master/practices/practice-twoD_visualization.ipynb)에서 다뤘던 붓꽃 데이터셋을 활용하여\n",
    "확률 밀도 함수와 누적 분포 함수의 관계를 살펴 본다.\n",
    "\n",
    "먼저 붓꽃 데이터셋을 기본 저장소에서 불러온다."
   ]
  },
  {
   "cell_type": "code",
   "execution_count": 12,
   "metadata": {},
   "outputs": [],
   "source": [
    "iris = pd.read_csv(data_url+\"iris.csv\")"
   ]
  },
  {
   "cell_type": "markdown",
   "metadata": {},
   "source": [
    "총 150개의 샘플이 각각 다섯 개의 특성을 갖는다.\n",
    "\n",
    "| 특성 | 의미 |\n",
    "| :--- | :--- |\n",
    "| sepal.length | 꽃받침 길이 |\n",
    "| sepal.width | 꽃받침 너비 |\n",
    "| petal.length | 꽃잎 길이 |\n",
    "| petal.width | 꽃잎 길이 |\n",
    "| variety | 품종 |"
   ]
  },
  {
   "cell_type": "code",
   "execution_count": 13,
   "metadata": {},
   "outputs": [
    {
     "data": {
      "text/html": [
       "<div>\n",
       "<style scoped>\n",
       "    .dataframe tbody tr th:only-of-type {\n",
       "        vertical-align: middle;\n",
       "    }\n",
       "\n",
       "    .dataframe tbody tr th {\n",
       "        vertical-align: top;\n",
       "    }\n",
       "\n",
       "    .dataframe thead th {\n",
       "        text-align: right;\n",
       "    }\n",
       "</style>\n",
       "<table border=\"1\" class=\"dataframe\">\n",
       "  <thead>\n",
       "    <tr style=\"text-align: right;\">\n",
       "      <th></th>\n",
       "      <th>sepal.length</th>\n",
       "      <th>sepal.width</th>\n",
       "      <th>petal.length</th>\n",
       "      <th>petal.width</th>\n",
       "      <th>variety</th>\n",
       "    </tr>\n",
       "  </thead>\n",
       "  <tbody>\n",
       "    <tr>\n",
       "      <th>0</th>\n",
       "      <td>5.1</td>\n",
       "      <td>3.5</td>\n",
       "      <td>1.4</td>\n",
       "      <td>0.2</td>\n",
       "      <td>Setosa</td>\n",
       "    </tr>\n",
       "    <tr>\n",
       "      <th>1</th>\n",
       "      <td>4.9</td>\n",
       "      <td>3.0</td>\n",
       "      <td>1.4</td>\n",
       "      <td>0.2</td>\n",
       "      <td>Setosa</td>\n",
       "    </tr>\n",
       "    <tr>\n",
       "      <th>2</th>\n",
       "      <td>4.7</td>\n",
       "      <td>3.2</td>\n",
       "      <td>1.3</td>\n",
       "      <td>0.2</td>\n",
       "      <td>Setosa</td>\n",
       "    </tr>\n",
       "    <tr>\n",
       "      <th>3</th>\n",
       "      <td>4.6</td>\n",
       "      <td>3.1</td>\n",
       "      <td>1.5</td>\n",
       "      <td>0.2</td>\n",
       "      <td>Setosa</td>\n",
       "    </tr>\n",
       "    <tr>\n",
       "      <th>4</th>\n",
       "      <td>5.0</td>\n",
       "      <td>3.6</td>\n",
       "      <td>1.4</td>\n",
       "      <td>0.2</td>\n",
       "      <td>Setosa</td>\n",
       "    </tr>\n",
       "    <tr>\n",
       "      <th>...</th>\n",
       "      <td>...</td>\n",
       "      <td>...</td>\n",
       "      <td>...</td>\n",
       "      <td>...</td>\n",
       "      <td>...</td>\n",
       "    </tr>\n",
       "    <tr>\n",
       "      <th>145</th>\n",
       "      <td>6.7</td>\n",
       "      <td>3.0</td>\n",
       "      <td>5.2</td>\n",
       "      <td>2.3</td>\n",
       "      <td>Virginica</td>\n",
       "    </tr>\n",
       "    <tr>\n",
       "      <th>146</th>\n",
       "      <td>6.3</td>\n",
       "      <td>2.5</td>\n",
       "      <td>5.0</td>\n",
       "      <td>1.9</td>\n",
       "      <td>Virginica</td>\n",
       "    </tr>\n",
       "    <tr>\n",
       "      <th>147</th>\n",
       "      <td>6.5</td>\n",
       "      <td>3.0</td>\n",
       "      <td>5.2</td>\n",
       "      <td>2.0</td>\n",
       "      <td>Virginica</td>\n",
       "    </tr>\n",
       "    <tr>\n",
       "      <th>148</th>\n",
       "      <td>6.2</td>\n",
       "      <td>3.4</td>\n",
       "      <td>5.4</td>\n",
       "      <td>2.3</td>\n",
       "      <td>Virginica</td>\n",
       "    </tr>\n",
       "    <tr>\n",
       "      <th>149</th>\n",
       "      <td>5.9</td>\n",
       "      <td>3.0</td>\n",
       "      <td>5.1</td>\n",
       "      <td>1.8</td>\n",
       "      <td>Virginica</td>\n",
       "    </tr>\n",
       "  </tbody>\n",
       "</table>\n",
       "<p>150 rows × 5 columns</p>\n",
       "</div>"
      ],
      "text/plain": [
       "     sepal.length  sepal.width  petal.length  petal.width    variety\n",
       "0             5.1          3.5           1.4          0.2     Setosa\n",
       "1             4.9          3.0           1.4          0.2     Setosa\n",
       "2             4.7          3.2           1.3          0.2     Setosa\n",
       "3             4.6          3.1           1.5          0.2     Setosa\n",
       "4             5.0          3.6           1.4          0.2     Setosa\n",
       "..            ...          ...           ...          ...        ...\n",
       "145           6.7          3.0           5.2          2.3  Virginica\n",
       "146           6.3          2.5           5.0          1.9  Virginica\n",
       "147           6.5          3.0           5.2          2.0  Virginica\n",
       "148           6.2          3.4           5.4          2.3  Virginica\n",
       "149           5.9          3.0           5.1          1.8  Virginica\n",
       "\n",
       "[150 rows x 5 columns]"
      ]
     },
     "execution_count": 13,
     "metadata": {},
     "output_type": "execute_result"
    }
   ],
   "source": [
    "iris"
   ]
  },
  {
   "cell_type": "markdown",
   "metadata": {},
   "source": [
    "여기서는 꽃잎의 길이와 너비 정보만 활용한다."
   ]
  },
  {
   "cell_type": "code",
   "execution_count": 14,
   "metadata": {},
   "outputs": [],
   "source": [
    "iris = iris[['petal.length', 'petal.width']]"
   ]
  },
  {
   "cell_type": "markdown",
   "metadata": {},
   "source": [
    "꽃잎 길이와 너비는 부동소수점으로 표현되며 꽃잎의 길이는 정해진 순서로 하나, 둘, 셋 등으로 셀 수\n",
    "없기에 연속형 자료형이다."
   ]
  },
  {
   "cell_type": "code",
   "execution_count": 15,
   "metadata": {},
   "outputs": [
    {
     "name": "stdout",
     "output_type": "stream",
     "text": [
      "<class 'pandas.core.frame.DataFrame'>\n",
      "RangeIndex: 150 entries, 0 to 149\n",
      "Data columns (total 2 columns):\n",
      " #   Column        Non-Null Count  Dtype  \n",
      "---  ------        --------------  -----  \n",
      " 0   petal.length  150 non-null    float64\n",
      " 1   petal.width   150 non-null    float64\n",
      "dtypes: float64(2)\n",
      "memory usage: 2.5 KB\n"
     ]
    }
   ],
   "source": [
    "iris.info()"
   ]
  },
  {
   "cell_type": "markdown",
   "metadata": {},
   "source": [
    "**문제 2**"
   ]
  },
  {
   "cell_type": "markdown",
   "metadata": {},
   "source": [
    "꽃잎 길이 정보만 따로 변수로 지정한다."
   ]
  },
  {
   "cell_type": "code",
   "execution_count": 16,
   "metadata": {},
   "outputs": [],
   "source": [
    "iris_length = iris['petal.length']"
   ]
  },
  {
   "cell_type": "markdown",
   "metadata": {},
   "source": [
    "(1) 꽃잎 길이를 가리키는 연속 확률 변수 $X$가 특정 값 $a$ 이하의 값을 가질 확률을 계산하는\n",
    "함수 `F_length()`를 선언하라."
   ]
  },
  {
   "cell_type": "markdown",
   "metadata": {},
   "source": [
    "답:"
   ]
  },
  {
   "cell_type": "code",
   "execution_count": 17,
   "metadata": {},
   "outputs": [],
   "source": [
    "def F_length(a):\n",
    "    mask = iris_length <= a    # a 보다 같거나 작을 때만 1\n",
    "    return mask.mean()  # 전체 중에 True 인 지역의 비율 "
   ]
  },
  {
   "cell_type": "markdown",
   "metadata": {},
   "source": [
    "(2) `F_length()` 함수가 누적 분포 함수의 성질을 만족함을 보여라."
   ]
  },
  {
   "cell_type": "markdown",
   "metadata": {},
   "source": [
    "답:"
   ]
  },
  {
   "cell_type": "markdown",
   "metadata": {},
   "source": [
    "(2.1) `a < b`이면 `iris_length < a`에서 `True`인 항목은 `iris_length < b`에서도 참이기에 `F_length(b)`가 `F_length(a)` 보다 같거나 크다."
   ]
  },
  {
   "cell_type": "markdown",
   "metadata": {},
   "source": [
    "(2.2) `mask.mean()`은 `mask.sum()/len(iris_length)` 이기에 모든 `a`에 대해 `F_length(a)`는 0과 1 사이의 값을 갖는다."
   ]
  },
  {
   "cell_type": "markdown",
   "metadata": {},
   "source": [
    "(2.3) 최소 꽃잎 길이와 최대 꽃잎 길이에 대한 값도 요구되는 조건이 충족된다.\n",
    "단, `iris_length` 데이터셋의 크기가 실제로는 유한하기에 최솟값에 대한 누적 분포 함숫값은 0이 나오지는 않는다."
   ]
  },
  {
   "cell_type": "code",
   "execution_count": 18,
   "metadata": {},
   "outputs": [
    {
     "data": {
      "text/plain": [
       "0.006667"
      ]
     },
     "execution_count": 18,
     "metadata": {},
     "output_type": "execute_result"
    }
   ],
   "source": [
    "F_length(iris_length.min())"
   ]
  },
  {
   "cell_type": "markdown",
   "metadata": {},
   "source": [
    "이론과 실재의 차이는 어쩔 수 없다.\n",
    "하지만 최솟값보다 조금이라도 작은 값에 대해서는 0을 계산한다."
   ]
  },
  {
   "cell_type": "code",
   "execution_count": 19,
   "metadata": {},
   "outputs": [
    {
     "data": {
      "text/plain": [
       "0.000000"
      ]
     },
     "execution_count": 19,
     "metadata": {},
     "output_type": "execute_result"
    }
   ],
   "source": [
    "F_length(iris_length.min() - 1.0e-16)"
   ]
  },
  {
   "cell_type": "markdown",
   "metadata": {},
   "source": [
    "반면에 최댓값에 대해서는 정확하게 1을 계산한다."
   ]
  },
  {
   "cell_type": "code",
   "execution_count": 20,
   "metadata": {},
   "outputs": [
    {
     "data": {
      "text/plain": [
       "1.000000"
      ]
     },
     "execution_count": 20,
     "metadata": {},
     "output_type": "execute_result"
    }
   ],
   "source": [
    "F_length(iris_length.max())"
   ]
  },
  {
   "cell_type": "markdown",
   "metadata": {},
   "source": [
    "조금이라도 큰 값에 대해서도 항상 1을 계산한다."
   ]
  },
  {
   "cell_type": "code",
   "execution_count": 21,
   "metadata": {},
   "outputs": [
    {
     "data": {
      "text/plain": [
       "1.000000"
      ]
     },
     "execution_count": 21,
     "metadata": {},
     "output_type": "execute_result"
    }
   ],
   "source": [
    "F_length(iris_length.max() + 1.0e-16)"
   ]
  },
  {
   "cell_type": "markdown",
   "metadata": {},
   "source": [
    "**문제 3**"
   ]
  },
  {
   "cell_type": "markdown",
   "metadata": {},
   "source": [
    "`F_length()` 함수를 이용하여 임의로 선택된 꽃잎 길이가 특정 구간에 속할 확률을 계산하는\n",
    "`P_length()` 함수를 구현한 다음에\n",
    "꽃잎 길이가 0.9에서 2.0 사이에 포함될 확률을 구하라."
   ]
  },
  {
   "cell_type": "markdown",
   "metadata": {},
   "source": [
    "답:"
   ]
  },
  {
   "cell_type": "code",
   "execution_count": 22,
   "metadata": {},
   "outputs": [],
   "source": [
    "def P_length(a, b):\n",
    "    assert a <= b, f'둘째 인자가 첫째 인자보다 같거나 커야 함'\n",
    "    \n",
    "    return F_length(b) - F_length(a - 1.0e-2)"
   ]
  },
  {
   "cell_type": "code",
   "execution_count": 23,
   "metadata": {},
   "outputs": [
    {
     "data": {
      "text/plain": [
       "0.333333"
      ]
     },
     "execution_count": 23,
     "metadata": {},
     "output_type": "execute_result"
    }
   ],
   "source": [
    "P_length(0.9, 2.0)"
   ]
  },
  {
   "cell_type": "markdown",
   "metadata": {},
   "source": [
    "**주의사항: 연속성 보정**"
   ]
  },
  {
   "cell_type": "markdown",
   "metadata": {},
   "source": [
    "위 코드에서 `a` 대신 `a - 1.0e-6`, 즉 `a - 0.000001`를 사용한 이유는\n",
    "연속 확률 변수라 하더라도 유한개의 데이터만 다루기에\n",
    "확률 변수가 특정 값을 가질 확률이 0이 아닐 수 있다.\n",
    "예를 들어 붓꽃닢의 길이가 4.5일 확률이 5.3%다. "
   ]
  },
  {
   "cell_type": "code",
   "execution_count": 24,
   "metadata": {},
   "outputs": [
    {
     "data": {
      "text/plain": [
       "0.053333"
      ]
     },
     "execution_count": 24,
     "metadata": {},
     "output_type": "execute_result"
    }
   ],
   "source": [
    "(iris_length == 4.5).mean()"
   ]
  },
  {
   "cell_type": "markdown",
   "metadata": {},
   "source": [
    "결국 $P(a \\leq X \\leq b)$와 $P(a \\lt X \\leq b)$ 가 서로 다른 확률을 가질 수 있다.\n",
    "이런 결과를 보정하기 위해 `a`에서 10의 -2승을 뺀 값을 대신 사용한다.\n",
    "집값이 소수점 이하 첫째 자리까지 사용하기에 0.01을 빼준 값에 해당하는 데이터는 존재하지 않기에 \n",
    "특정 지점에서의 확률이 항상 0이 되어\n",
    "$P(a \\leq X \\leq b)$를 `F_length()` 함수를 이용하여 정확하게 계산할 수 있게 된다.\n",
    "이런 연속성 보정은 유한개의 실전 데이터를 직접 이용하여 확률을 계산할 때 항상 고려해야 한다."
   ]
  },
  {
   "cell_type": "markdown",
   "metadata": {},
   "source": [
    "**문제 4**"
   ]
  },
  {
   "cell_type": "markdown",
   "metadata": {},
   "source": [
    "아래 코드는 꽃잎 길이를 대상으로\n",
    "가우스 커널을 사용하는 밀도 추정 기법(Gaussian KDE)을 활용하여 추정된 확률 밀도 함수의 그래프를 그린다."
   ]
  },
  {
   "cell_type": "code",
   "execution_count": 25,
   "metadata": {},
   "outputs": [
    {
     "data": {
      "image/png": "[encoded data removed]",
      "text/plain": [
       "<Figure size 640x480 with 1 Axes>"
      ]
     },
     "metadata": {},
     "output_type": "display_data"
    }
   ],
   "source": [
    "fig, ax = plt.subplots()\n",
    "\n",
    "# 구간별 밀도 히스토그램\n",
    "ax.hist(iris_length, bins=30, density=True)\n",
    "\n",
    "# 추정된 확률 밀도 함수 그래프\n",
    "sns.kdeplot(ax=ax, data=iris_length)\n",
    "\n",
    "plt.show()"
   ]
  },
  {
   "cell_type": "markdown",
   "metadata": {},
   "source": [
    "하지만 아래 그림의 확률 밀도 함수 그래프가 보다 적절해 보인다.\n",
    "적절한 `bw_method` 키워드 인자를 지정하여 아래 그림의 그래프를 그리는 코드를 작성하라."
   ]
  },
  {
   "cell_type": "markdown",
   "metadata": {},
   "source": [
    "<p><div align=\"center\"><img src=\"https://raw.githubusercontent.com/codingalzi/DataSci/master/jupyter-book/images/iris_length_density01.png\" style=\"width:570px\"></div></p>"
   ]
  },
  {
   "cell_type": "markdown",
   "metadata": {},
   "source": [
    "답:"
   ]
  },
  {
   "cell_type": "code",
   "execution_count": 26,
   "metadata": {},
   "outputs": [
    {
     "data": {
      "image/png": "[encoded data removed]",
      "text/plain": [
       "<Figure size 640x480 with 1 Axes>"
      ]
     },
     "metadata": {},
     "output_type": "display_data"
    }
   ],
   "source": [
    "fig, ax = plt.subplots()\n",
    "\n",
    "# 구간별 밀도 히스토그램\n",
    "ax.hist(iris_length, bins=30, density=True)\n",
    "\n",
    "# 추정된 확률 밀도 함수 그래프\n",
    "sns.kdeplot(ax=ax, data=iris_length, bw_method=0.12)\n",
    "\n",
    "plt.show()"
   ]
  },
  {
   "cell_type": "markdown",
   "metadata": {},
   "source": [
    "**문제 5**"
   ]
  },
  {
   "cell_type": "markdown",
   "metadata": {},
   "source": [
    "`scipy.stats.gaussian_kde()` 함수를 이용하여 꽃잎 길이 데이터 분포에 대한 확률 밀도 함수의 그래프를 그려라.\n",
    "단, 확률 밀도 함수의 그래프가 이전 그림에서처럼 그려져야 한다."
   ]
  },
  {
   "cell_type": "markdown",
   "metadata": {},
   "source": [
    "답:"
   ]
  },
  {
   "cell_type": "code",
   "execution_count": 27,
   "metadata": {},
   "outputs": [],
   "source": [
    "import scipy.stats\n",
    "\n",
    "f_length = scipy.stats.gaussian_kde(iris_length, bw_method=.12)"
   ]
  },
  {
   "cell_type": "code",
   "execution_count": 28,
   "metadata": {},
   "outputs": [
    {
     "data": {
      "image/png": "[encoded data removed]",
      "text/plain": [
       "<Figure size 640x480 with 1 Axes>"
      ]
     },
     "metadata": {},
     "output_type": "display_data"
    }
   ],
   "source": [
    "fig, ax = plt.subplots()\n",
    "\n",
    "xs = np.arange(0.2, 7.9, 0.01)\n",
    "\n",
    "ax.plot(xs, f_length(xs), color='#ff7f0e')\n",
    "ax.set_xlim([-0.1, 8])\n",
    "ax.set_xticks(np.arange(1, 8, 1))\n",
    "ax.set_ylim([0.0, 0.93])\n",
    "ax.set_yticks(np.arange(0.0, 0.93, 0.2))\n",
    "\n",
    "ax.set_xlabel('petal.length')\n",
    "ax.set_ylabel('Density')\n",
    "\n",
    "plt.show()"
   ]
  },
  {
   "cell_type": "markdown",
   "metadata": {},
   "source": [
    "**문제 6**"
   ]
  },
  {
   "cell_type": "markdown",
   "metadata": {},
   "source": [
    "붓꽃 데이터셋에는 세 개의 품종이 각각 50개씩 포함되어 있으며,\n",
    "세토사, 버시컬러, 버지니카 순으로 정렬되어 있다."
   ]
  },
  {
   "cell_type": "markdown",
   "metadata": {},
   "source": [
    "| 인덱스 | 품종 |\n",
    "| :---: | :--- |\n",
    "| 0 - 49 | 세토사(Iris setosa) |\n",
    "| 50-99 | 버시컬러(Iris versicolor) |\n",
    "| 100-149 | 버지니카(Iris verginica) |"
   ]
  },
  {
   "cell_type": "markdown",
   "metadata": {},
   "source": [
    "아래 코드는\n",
    "꽃잎의 길이와 너비 정보만 이용하여 150개 데이터 샘플의 산점도를 \n",
    "품종별로 구분하여 그린다.\n",
    "\n",
    "옅은 빨강으로 칠해진 영역은 꽃잎 길이가 4.5에서 5.1에 사이에 위치하는 영역을 표시한다.\n",
    "\n",
    "- 4.5: 버지니카 품종 꽃잎 길이의 최솟값\n",
    "- 5.1: 버시컬러 품종 꽃잎 길이의 최댓값\n",
    "\n",
    "표시 영역에 버시컬러와 버지니카 두 품종이 섞여 있어서 \n",
    "꽃잎 길이 만으로는 두 품종을 구분하기 어렵다."
   ]
  },
  {
   "cell_type": "code",
   "execution_count": 29,
   "metadata": {},
   "outputs": [],
   "source": [
    "versicolor_max = iris_length[50:100].max()\n",
    "versinica_min = iris_length[100:150].min()"
   ]
  },
  {
   "cell_type": "code",
   "execution_count": 30,
   "metadata": {},
   "outputs": [
    {
     "data": {
      "image/png": "[encoded data removed]",
      "text/plain": [
       "<Figure size 640x480 with 1 Axes>"
      ]
     },
     "metadata": {},
     "output_type": "display_data"
    }
   ],
   "source": [
    "fig, ax = plt.subplots()\n",
    "\n",
    "# 품종별 산점도 구분\n",
    "styles = (\"yo\", \"bs\", \"g^\")\n",
    "for i in range(3):\n",
    "    iris[i*50: (i+1)*50].plot.scatter(ax=ax, \n",
    "                                      x='petal.length', \n",
    "                                      y='petal.width', \n",
    "                                      color=styles[i][0], \n",
    "                                      marker=styles[i][1])\n",
    "\n",
    "# versinica_min와 versicolor_max 구분선    \n",
    "ax.vlines(versinica_min, -0.1, 2.7, color='k', alpha=0.2)\n",
    "ax.vlines(versicolor_max, -0.1, 2.7, color='k', alpha=0.2)\n",
    "\n",
    "# 두 구분선 사이 색칠\n",
    "xs = np.arange(versinica_min, versicolor_max, 0.01)\n",
    "ys0 = [-0.1]*len(xs)\n",
    "ys1 = [2.7]*len(xs)\n",
    "ax.fill_between(xs, ys0, ys1, alpha=0.1, color='r')\n",
    "\n",
    "# y-축 범위 지정\n",
    "ax.set_ylim(-0.1, 2.7)\n",
    "\n",
    "plt.show()"
   ]
  },
  {
   "cell_type": "markdown",
   "metadata": {},
   "source": [
    "표시된 영역에 포함된 샘플의 비율을 계산하라.\n",
    "단, `P_length()` 함수는 이용하지 않고 넘파이 어레이 부울 연산만 활용한다."
   ]
  },
  {
   "cell_type": "markdown",
   "metadata": {},
   "source": [
    "답:"
   ]
  },
  {
   "cell_type": "code",
   "execution_count": 31,
   "metadata": {},
   "outputs": [
    {
     "data": {
      "text/plain": [
       "0.246667"
      ]
     },
     "execution_count": 31,
     "metadata": {},
     "output_type": "execute_result"
    }
   ],
   "source": [
    "mask = (iris_length >= 4.5) & (iris_length <= 5.1)\n",
    "mask.sum()/150"
   ]
  },
  {
   "cell_type": "markdown",
   "metadata": {},
   "source": [
    "**문제 7**"
   ]
  },
  {
   "cell_type": "markdown",
   "metadata": {},
   "source": [
    "(1) $P(a \\le X \\le b)$를 추정하는 `P_estimate()` 함수를 `scipy.integrate.quad()` 함수를 이용하여 정의하라."
   ]
  },
  {
   "cell_type": "markdown",
   "metadata": {},
   "source": [
    "답:"
   ]
  },
  {
   "cell_type": "code",
   "execution_count": 32,
   "metadata": {},
   "outputs": [],
   "source": [
    "from scipy.integrate import quad\n",
    "\n",
    "def P_estimate(a, b):\n",
    "    p, _ = quad(f_length, a, b)\n",
    "    return p"
   ]
  },
  {
   "cell_type": "markdown",
   "metadata": {},
   "source": [
    "(2) 실수 전체 영역에서는 확률이 1임을 확인하라."
   ]
  },
  {
   "cell_type": "markdown",
   "metadata": {},
   "source": [
    "답:"
   ]
  },
  {
   "cell_type": "code",
   "execution_count": 33,
   "metadata": {},
   "outputs": [
    {
     "data": {
      "text/plain": [
       "1.000000"
      ]
     },
     "execution_count": 33,
     "metadata": {},
     "output_type": "execute_result"
    }
   ],
   "source": [
    "P_estimate(-np.inf, np.inf)"
   ]
  },
  {
   "cell_type": "markdown",
   "metadata": {},
   "source": [
    "(3) 꽃잎 길이 전체 범위에서의 확률은 1보다 아주 조금 작음을 확인하라."
   ]
  },
  {
   "cell_type": "markdown",
   "metadata": {},
   "source": [
    "답:"
   ]
  },
  {
   "cell_type": "code",
   "execution_count": 34,
   "metadata": {},
   "outputs": [
    {
     "data": {
      "text/plain": [
       "0.978884"
      ]
     },
     "execution_count": 34,
     "metadata": {},
     "output_type": "execute_result"
    }
   ],
   "source": [
    "P_estimate(iris_length.min(), iris_length.max())"
   ]
  },
  {
   "cell_type": "markdown",
   "metadata": {},
   "source": [
    "(4) 세토사 품종의 비율을 `P_estimate()` 함수를 이용하여 확인하라."
   ]
  },
  {
   "cell_type": "markdown",
   "metadata": {},
   "source": [
    "답:"
   ]
  },
  {
   "cell_type": "code",
   "execution_count": 35,
   "metadata": {},
   "outputs": [
    {
     "data": {
      "text/plain": [
       "0.314946"
      ]
     },
     "execution_count": 35,
     "metadata": {},
     "output_type": "execute_result"
    }
   ],
   "source": [
    "P_estimate(-np.inf, iris_length[:50].max())"
   ]
  },
  {
   "cell_type": "markdown",
   "metadata": {},
   "source": [
    "(4) 문제 6의 그래프에서 옅은 빨강으로 표시된 영역에 포함된 샘플의 비율을 \n",
    "`P_estimate()`, `P_length()` 두 함수를 각각 이용하여 확인하고\n",
    "두 함숫값의 차이가 발생하는 이유를 설명하라."
   ]
  },
  {
   "cell_type": "markdown",
   "metadata": {},
   "source": [
    "답:"
   ]
  },
  {
   "cell_type": "markdown",
   "metadata": {},
   "source": [
    "`P_estimate()` 함수의 추정값이 실제 확률보다 6.4% 정도 작다."
   ]
  },
  {
   "cell_type": "code",
   "execution_count": 36,
   "metadata": {},
   "outputs": [
    {
     "data": {
      "text/plain": [
       "0.182559"
      ]
     },
     "execution_count": 36,
     "metadata": {},
     "output_type": "execute_result"
    }
   ],
   "source": [
    "P_estimate(4.5, 5.1)"
   ]
  },
  {
   "cell_type": "code",
   "execution_count": 37,
   "metadata": {},
   "outputs": [
    {
     "data": {
      "text/plain": [
       "0.246667"
      ]
     },
     "execution_count": 37,
     "metadata": {},
     "output_type": "execute_result"
    }
   ],
   "source": [
    "P_length(4.5, 5.1)"
   ]
  },
  {
   "cell_type": "code",
   "execution_count": 38,
   "metadata": {},
   "outputs": [
    {
     "data": {
      "text/plain": [
       "-0.064107"
      ]
     },
     "execution_count": 38,
     "metadata": {},
     "output_type": "execute_result"
    }
   ],
   "source": [
    "P_estimate(4.5, 5.1) - P_length(4.5, 5.1)"
   ]
  },
  {
   "cell_type": "markdown",
   "metadata": {},
   "source": [
    "이유:"
   ]
  },
  {
   "cell_type": "markdown",
   "metadata": {},
   "source": [
    "두 확률값의 오차가 좀 큰 편이다. \n",
    "아무래도 추정된 확률 밀도 함수가 정확하지 않은 것으로 보인다."
   ]
  },
  {
   "cell_type": "markdown",
   "metadata": {},
   "source": [
    "## 데이터 분포 시각화"
   ]
  },
  {
   "cell_type": "markdown",
   "metadata": {},
   "source": [
    "아래 네 개의 그래프 모두 붓꽃 데이터셋의 꽃잎 길이의 분포를 표현한다.\n",
    "\n",
    "- 상단 두 개 그래프: `bins=30` 사용. 오른편 그래프는 `bw_method=0.12` 지정.\n",
    "- 하단 두 개 그래프: `bins=13` 사용. 오른편 그래프는 `bw_method=0.2` 지정."
   ]
  },
  {
   "cell_type": "code",
   "execution_count": 39,
   "metadata": {},
   "outputs": [
    {
     "data": {
      "image/png": "[encoded data removed]",
      "text/plain": [
       "<Figure size 2000x1400 with 4 Axes>"
      ]
     },
     "metadata": {},
     "output_type": "display_data"
    }
   ],
   "source": [
    "fig, axes = plt.subplots(2, 2, figsize=(20, 14))\n",
    "\n",
    "axes[0, 0].hist(iris_length, bins=30, density=True)\n",
    "sns.kdeplot(ax=axes[0, 0], data=iris_length)\n",
    "axes[0, 0].set_xlim(-1, 9)\n",
    "\n",
    "axes[0, 1].hist(iris_length, bins=30, density=True)\n",
    "sns.kdeplot(ax=axes[0, 1], data=iris_length, bw_method=0.12)\n",
    "axes[0, 1].set_xlim(-1, 9)\n",
    "\n",
    "axes[1, 0].hist(iris_length, bins=13, density=True)\n",
    "sns.kdeplot(ax=axes[1, 0], data=iris_length)\n",
    "axes[1, 0].set_xlim(-1, 9)\n",
    "\n",
    "axes[1, 1].hist(iris_length, bins=13, density=True)\n",
    "sns.kdeplot(ax=axes[1, 1], data=iris_length, bw_method=0.2)\n",
    "axes[1, 1].set_xlim(-1, 9)\n",
    "\n",
    "plt.show()"
   ]
  },
  {
   "cell_type": "markdown",
   "metadata": {},
   "source": [
    "이처럼 히스토그램과 추정 확률 밀도 함수는 막대의 개수와 bandwidth 인자값에 의존한다.\n",
    "네 개 중에 붓꽃 데이터셋의 꽃잎 길이의 분포를 가장 잘 대변하는 그래프를 선정하는 기준이 있으면 좋겠지만 그렇지 않다.\n",
    "\n",
    "이전 설명에서는 상단 오른편 그래프를 선택하였다.\n",
    "이유는 세 개의 품종을 나름 잘 구분하면서 확률 밀도 함수 그래프가 그려지기 때문이다.\n",
    "그런데 상단 오른편의 확률 밀도 함수는 구간별 확률을 실제 확률과 많이 다르게 계산한다.\n",
    "앞서 보았듯이 버시컬러와 버지니카 품종이 꽃잎 길이 기준으로 구분할 수 없는 영역에\n",
    "포함된 샘들의 비율에 대한 오차가 6퍼센트 이상 차이난다."
   ]
  },
  {
   "cell_type": "code",
   "execution_count": 40,
   "metadata": {},
   "outputs": [
    {
     "data": {
      "text/plain": [
       "-0.064107"
      ]
     },
     "execution_count": 40,
     "metadata": {},
     "output_type": "execute_result"
    }
   ],
   "source": [
    "P_estimate(4.5, 5.1) - P_length(4.5, 5.1)"
   ]
  },
  {
   "cell_type": "markdown",
   "metadata": {},
   "source": [
    "하단 두 개의 그래프는 버시컬러와 버지니카 두 품종을 구분하지 않는다.\n",
    "하지만 KDE 기법으로 추정된 확률 밀도 함수가 보다 정확해 보인다.\n",
    "과연 실제로 보다 정확한 구간 확률을 계산하는지 확인해본다."
   ]
  },
  {
   "cell_type": "markdown",
   "metadata": {},
   "source": [
    "**문제 8**"
   ]
  },
  {
   "cell_type": "markdown",
   "metadata": {},
   "source": [
    "(1) 하단 오른편에 그려진 추정 확률 밀도 함수를 가리키는 `f_length13()` 함수를 선언하라."
   ]
  },
  {
   "cell_type": "markdown",
   "metadata": {},
   "source": [
    "답:"
   ]
  },
  {
   "cell_type": "code",
   "execution_count": 41,
   "metadata": {},
   "outputs": [],
   "source": [
    "import scipy.stats\n",
    "from scipy.integrate import quad\n",
    "\n",
    "f_length13 = scipy.stats.gaussian_kde(iris_length, bw_method=.2)"
   ]
  },
  {
   "cell_type": "markdown",
   "metadata": {},
   "source": [
    "(2) `f_length13()` 함수를 이용하여 누적 분포 함수 `P_estimate13()`를 선언하라."
   ]
  },
  {
   "cell_type": "markdown",
   "metadata": {},
   "source": [
    "답:"
   ]
  },
  {
   "cell_type": "code",
   "execution_count": 42,
   "metadata": {},
   "outputs": [],
   "source": [
    "def P_estimate13(a, b):\n",
    "    p, _ = quad(f_length13, a, b)\n",
    "    return p"
   ]
  },
  {
   "cell_type": "markdown",
   "metadata": {},
   "source": [
    "(3) 버시컬러와 버지니카 두 품종이 겹치는 영역에 속할 확률을 \n",
    "`P_estimate13()` 함수를 이용한 다음에 `P_length()` 함수와의 오차를 계산하라."
   ]
  },
  {
   "cell_type": "markdown",
   "metadata": {},
   "source": [
    "답:"
   ]
  },
  {
   "cell_type": "code",
   "execution_count": 43,
   "metadata": {},
   "outputs": [
    {
     "data": {
      "text/plain": [
       "0.171776"
      ]
     },
     "execution_count": 43,
     "metadata": {},
     "output_type": "execute_result"
    }
   ],
   "source": [
    "P_estimate13(4.5, 5.1)"
   ]
  },
  {
   "cell_type": "code",
   "execution_count": 44,
   "metadata": {},
   "outputs": [
    {
     "data": {
      "text/plain": [
       "-0.074891"
      ]
     },
     "execution_count": 44,
     "metadata": {},
     "output_type": "execute_result"
    }
   ],
   "source": [
    "P_estimate13(4.5, 5.1) - P_length(4.5, 5.1)"
   ]
  },
  {
   "cell_type": "markdown",
   "metadata": {},
   "source": [
    "(4) `P_estimate()` 함수를 이용할 때의 오차보다 큰 오차를 보인다. 그 이유를 추정하라."
   ]
  },
  {
   "cell_type": "markdown",
   "metadata": {},
   "source": [
    "답:"
   ]
  },
  {
   "cell_type": "markdown",
   "metadata": {},
   "source": [
    "보다 큰 bandwidth 값을 사용하였기에 추정된 확률 밀도 함수의 그래프가\n",
    "보다 낮고 평평하게 그려진다.\n",
    "따라서 모든 구간에서의 확률 밀도 함숫값이 상대적으로 작아지고 따라서 그래프와 $x$-축\n",
    "사이의 면적도 작아진다."
   ]
  },
  {
   "cell_type": "markdown",
   "metadata": {},
   "source": [
    "**문제 9**"
   ]
  },
  {
   "cell_type": "markdown",
   "metadata": {},
   "source": [
    "KDE 기법은 **단봉 분포**<font size='2'>unimodal distribution</font>, \n",
    "즉 하나의 봉우리만 갖는 형태의 데이터 분포를 갖는 확률 변수에 대해서만 제대로 작동한다.\n",
    "이전 문제에서 확인하였듯이 붓꽃 데이터셋의 꽃잎 길이는 사실 3 개의 봉우리를 \n",
    "갖는 **다봉 분포**<font size='2'>multimodal distribution</font>를 갖는다.\n",
    "\n",
    "그런데 품종을 구분하지 않은면서 산점도를 그리면\n",
    "버시컬러와 버지니카 품종은 꽃잎 길이를 기준으로 구분할 수 없다."
   ]
  },
  {
   "cell_type": "code",
   "execution_count": 45,
   "metadata": {},
   "outputs": [
    {
     "data": {
      "image/png": "[encoded data removed]",
      "text/plain": [
       "<Figure size 640x480 with 1 Axes>"
      ]
     },
     "metadata": {},
     "output_type": "display_data"
    }
   ],
   "source": [
    "fig, ax = plt.subplots()\n",
    "\n",
    "iris.plot.scatter(ax=ax, x='petal.length', y='petal.width')\n",
    "plt.show()"
   ]
  },
  {
   "cell_type": "markdown",
   "metadata": {},
   "source": [
    "이 아이디어에 착안해서 버시컬러와 버지니카 품종 100개만 별도로 분석해 본다."
   ]
  },
  {
   "cell_type": "code",
   "execution_count": 46,
   "metadata": {},
   "outputs": [],
   "source": [
    "versi_vergi = iris_length[50:]"
   ]
  },
  {
   "cell_type": "markdown",
   "metadata": {},
   "source": [
    "아래 코드는 버시컬러와 버지니카 품종 100개에 대해 KDE 기법을\n",
    "기본값으로 지정한 채 적용하여 얻은 확률 밀도 함수의 그래프를 그린다."
   ]
  },
  {
   "cell_type": "code",
   "execution_count": 47,
   "metadata": {},
   "outputs": [
    {
     "data": {
      "image/png": "[encoded data removed]",
      "text/plain": [
       "<Figure size 640x480 with 1 Axes>"
      ]
     },
     "metadata": {},
     "output_type": "display_data"
    }
   ],
   "source": [
    "fig, ax = plt.subplots()\n",
    "\n",
    "# 추정된 확률 밀도 함수 그래프\n",
    "sns.kdeplot(ax=ax, data=versi_vergi,color='#ff7f0e')\n",
    "\n",
    "ax.set_ylim(0.0, 0.53)\n",
    "\n",
    "plt.show()"
   ]
  },
  {
   "cell_type": "markdown",
   "metadata": {},
   "source": [
    "위 확률 밀도 함수를 이용하여 구간별 확률을 계산하면 이전 보다 정확한 값을 계산한다.\n",
    "예를 들어 버시컬러와 버지니카 품종이 섞여 있는 구간에 속할 확률이 실제 확률과의\n",
    "오차가 1.4% 정도로 줄어들었다.\n",
    "무엇보다도 이전과는 다르게 추정 확률이 실제 확률 보다 크다."
   ]
  },
  {
   "cell_type": "code",
   "execution_count": 48,
   "metadata": {},
   "outputs": [],
   "source": [
    "import scipy.stats\n",
    "from scipy.integrate import quad\n",
    "\n",
    "f_lengthVV = scipy.stats.gaussian_kde(versi_vergi)\n",
    "\n",
    "def P_estimateVV(a, b):\n",
    "    p, _ = quad(f_lengthVV, a, b)\n",
    "    return p"
   ]
  },
  {
   "cell_type": "code",
   "execution_count": 49,
   "metadata": {},
   "outputs": [
    {
     "data": {
      "text/plain": [
       "0.013764"
      ]
     },
     "execution_count": 49,
     "metadata": {},
     "output_type": "execute_result"
    }
   ],
   "source": [
    "P_estimateVV(4.5, 5.1) - P_length(4.5, 5.1)"
   ]
  },
  {
   "cell_type": "markdown",
   "metadata": {},
   "source": [
    "결론적으로 KDE 기법은 단봉 분포를 갖는 데이터의 분포에 보다 잘 작동한다."
   ]
  },
  {
   "cell_type": "markdown",
   "metadata": {},
   "source": [
    "질문: "
   ]
  },
  {
   "cell_type": "markdown",
   "metadata": {},
   "source": [
    "KDE 기법으로 버시컬러와 버지니카 품종 100개에 대해 KDE 기법으로 찾아진\n",
    "확률 밀도 함수의 그래프에 가장 적합한 히스토그램을 그리는 데에 필요한 구간의 개수,\n",
    "즉 `plt.hist()` 함수의 `bins` 키워드 인자의 값을 실험을 통해 확인하라."
   ]
  },
  {
   "cell_type": "markdown",
   "metadata": {},
   "source": [
    "답:"
   ]
  },
  {
   "cell_type": "markdown",
   "metadata": {},
   "source": [
    "여러 실험 결과 7개의 구간을 사용할 때 위 확률 밀도 함수 그래프와 가장 어울리는 히스토그램이 그려진다."
   ]
  },
  {
   "cell_type": "code",
   "execution_count": 50,
   "metadata": {},
   "outputs": [
    {
     "data": {
      "image/png": "[encoded data removed]",
      "text/plain": [
       "<Figure size 640x480 with 1 Axes>"
      ]
     },
     "metadata": {},
     "output_type": "display_data"
    }
   ],
   "source": [
    "fig, ax = plt.subplots()\n",
    "\n",
    "# 구간별 밀도 히스토그램\n",
    "ax.hist(versi_vergi, bins=7, density=True)\n",
    "\n",
    "# 추정된 확률 밀도 함수 그래프\n",
    "sns.kdeplot(ax=ax, data=versi_vergi)\n",
    "\n",
    "plt.show()"
   ]
  }
 ],
 "metadata": {
  "kernelspec": {
   "display_name": "Python 3 (ipykernel)",
   "language": "python",
   "name": "python3"
  },
  "language_info": {
   "codemirror_mode": {
    "name": "ipython",
    "version": 3
   },
   "file_extension": ".py",
   "mimetype": "text/x-python",
   "name": "python",
   "nbconvert_exporter": "python",
   "pygments_lexer": "ipython3",
   "version": "3.12.2"
  },
  "toc": {
   "nav_menu": {},
   "number_sections": true,
   "sideBar": true,
   "skip_h1_title": false,
   "toc_cell": false,
   "toc_position": {},
   "toc_section_display": "block",
   "toc_window_display": false
  }
 },
 "nbformat": 4,
 "nbformat_minor": 2
}
