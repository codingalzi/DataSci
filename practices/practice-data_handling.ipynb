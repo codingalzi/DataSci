{
 "cells": [
  {
   "cell_type": "markdown",
   "id": "4ba112a7",
   "metadata": {},
   "source": [
    "# (연습) 데이터 다루기"
   ]
  },
  {
   "cell_type": "markdown",
   "id": "6bb23e0d",
   "metadata": {},
   "source": [
    "**주의 사항**\n",
    "\n",
    "* 기존에 작성된 코드셀/텍스트셀은 수정하지 않는다.\n",
    "* 필요한 경우 코드셀 또는 텍스트셀을 추가할 수 있다."
   ]
  },
  {
   "cell_type": "markdown",
   "id": "d9f08d8d",
   "metadata": {},
   "source": [
    "**준비사항**"
   ]
  },
  {
   "cell_type": "markdown",
   "id": "a29b94a7",
   "metadata": {
    "ExecuteTime": {
     "end_time": "2018-08-03T08:26:15.690793Z",
     "start_time": "2018-08-03T08:26:15.507201Z"
    }
   },
   "source": [
    "Pandas 라이브러리를 pd라는 이름으로 불러온다"
   ]
  },
  {
   "cell_type": "code",
   "execution_count": null,
   "id": "f379aa57",
   "metadata": {
    "ExecuteTime": {
     "end_time": "2018-08-03T08:26:15.690793Z",
     "start_time": "2018-08-03T08:26:15.507201Z"
    }
   },
   "outputs": [],
   "source": [
    "import pandas as pd"
   ]
  },
  {
   "cell_type": "markdown",
   "id": "4fc6eb8b",
   "metadata": {},
   "source": [
    "**데이터 저장소 디렉토리**"
   ]
  },
  {
   "cell_type": "markdown",
   "id": "cba6842c",
   "metadata": {},
   "source": [
    "코드에 사용되는 데이터 저장소의 기본 디렉토리를 지정한다."
   ]
  },
  {
   "cell_type": "code",
   "execution_count": null,
   "id": "919b4f38",
   "metadata": {},
   "outputs": [],
   "source": [
    "data_url = 'https://raw.githubusercontent.com/codingalzi/DataSci/refs/heads/master/data/'"
   ]
  },
  {
   "cell_type": "markdown",
   "id": "5122cb73",
   "metadata": {},
   "source": [
    "**문제 1**"
   ]
  },
  {
   "cell_type": "markdown",
   "id": "5aa9f34e",
   "metadata": {},
   "source": [
    "광주광력시에서부터 전라남도 나주를 거쳐 서해까지 이어지는 영산강에 설치된 승촌보에서 측정한 두 개의 데이터셋이다.\n",
    "\n",
    "- `Chl-a`: 녹조 발생의 주요 요인인 클로로필-A의 수치 100개\n",
    "- `Discharge`: 보에서 방출되는 시간당 방류량 수치 100개\n",
    "\n",
    "클로로필-A 농도가 높을 수록 수질(water quality)이 나빠지며, 방류량이 많을 수록 클로로필-A 농도는 일반적으로 떨어지며,\n",
    "두 데이터 사이의 상관관계를 확인하기 위해 수집되었다."
   ]
  },
  {
   "cell_type": "code",
   "execution_count": null,
   "id": "5e3d742b",
   "metadata": {},
   "outputs": [],
   "source": [
    "sc_weir_df = pd.read_csv(data_url+'sc_weir.csv')\n",
    "\n",
    "sc_weir_df"
   ]
  },
  {
   "cell_type": "code",
   "execution_count": null,
   "id": "1b310b52",
   "metadata": {},
   "outputs": [],
   "source": [
    "sc_weir_df.shape"
   ]
  },
  {
   "cell_type": "code",
   "execution_count": null,
   "id": "89f1f516",
   "metadata": {},
   "outputs": [],
   "source": [
    "sc_weir_df.info()"
   ]
  },
  {
   "cell_type": "code",
   "execution_count": null,
   "id": "3d5a288f",
   "metadata": {},
   "outputs": [],
   "source": [
    "sc_weir_df.describe()"
   ]
  },
  {
   "cell_type": "markdown",
   "id": "dcf9d30b",
   "metadata": {},
   "source": [
    "(1) 각각의 데이터셋 크기가 100임을 확인하라."
   ]
  },
  {
   "cell_type": "code",
   "execution_count": null,
   "id": "f4251f45",
   "metadata": {},
   "outputs": [],
   "source": [
    "# 코드를 작성한다.\n",
    "# 필요하면 코드셀 또는 텍스트셀을 추가할 수 있습니다.\n"
   ]
  },
  {
   "cell_type": "markdown",
   "id": "5423885b",
   "metadata": {},
   "source": [
    "(2) 가장 높은 클로로필-A의 수치는 얼마인가?"
   ]
  },
  {
   "cell_type": "code",
   "execution_count": null,
   "id": "5e3c06ce",
   "metadata": {},
   "outputs": [],
   "source": [
    "# 코드를 작성한다.\n",
    "# 필요하면 코드셀 또는 텍스트셀을 추가할 수 있습니다.\n"
   ]
  },
  {
   "cell_type": "markdown",
   "id": "af256b34",
   "metadata": {},
   "source": [
    "(3) 가장 낮은 시간당 방류량 수치는 얼마인가?"
   ]
  },
  {
   "cell_type": "code",
   "execution_count": null,
   "id": "e82aee89",
   "metadata": {},
   "outputs": [],
   "source": [
    "# 코드를 작성한다.\n",
    "# 필요하면 코드셀 또는 텍스트셀을 추가할 수 있습니다.\n"
   ]
  },
  {
   "cell_type": "markdown",
   "id": "4fd469c2",
   "metadata": {},
   "source": [
    "**문제 2**"
   ]
  },
  {
   "cell_type": "markdown",
   "id": "ea2da708",
   "metadata": {},
   "source": [
    "기본 데이터 저장소에 있는 `california_housing.csv` 파일은 미국 캘리포니아 주의 주택 정보를 담고 있다."
   ]
  },
  {
   "cell_type": "markdown",
   "id": "0af77b5f",
   "metadata": {},
   "source": [
    "**참고**\n",
    "\n",
    "- 캘리포니아 주택 가격 데이터셋에 대해 인터넷에서 기초 정보 확인할 것\n",
    "- 예제: [(코딩알지) 캘리포니아 주택 가격](https://codingalzi.github.io/datapy/casestudy_california_housing.html)"
   ]
  },
  {
   "cell_type": "markdown",
   "id": "bdb0d35e",
   "metadata": {},
   "source": [
    "(1) 위 파일의 내용을 데이터프레임으로 불러와서 `housing_df` 변수에 할당하라.\n",
    "    단, 인덱스는 별도로 지정하지 않는다."
   ]
  },
  {
   "cell_type": "code",
   "execution_count": null,
   "id": "c5e787eb",
   "metadata": {},
   "outputs": [],
   "source": [
    "# 코드를 작성한다.\n",
    "# 필요하면 코드셀 또는 텍스트셀을 추가할 수 있습니다.\n"
   ]
  },
  {
   "cell_type": "markdown",
   "id": "3a8401a0",
   "metadata": {},
   "source": [
    "(2) 캘리포니아 주택 정보 데이터의 기초 정보를 확인하라."
   ]
  },
  {
   "cell_type": "code",
   "execution_count": null,
   "id": "2b845d15",
   "metadata": {},
   "outputs": [],
   "source": [
    "# 코드를 작성한다.\n",
    "# 필요하면 코드셀 또는 텍스트셀을 추가할 수 있습니다.\n"
   ]
  },
  {
   "cell_type": "markdown",
   "id": "cda30d3e",
   "metadata": {},
   "source": [
    "(3) 데이터셋에 포함된 특성을 다음 네 종류의 특성으로 구분하라.\n",
    "\n",
    "- 수치형 특성\n",
    "- 범주형 특성\n",
    "- 이산형 특성\n",
    "- 연속형 특성"
   ]
  },
  {
   "cell_type": "code",
   "execution_count": null,
   "id": "a2e8e97c",
   "metadata": {},
   "outputs": [],
   "source": [
    "# 코드를 작성한다.\n",
    "# 필요하면 코드셀 또는 텍스트셀을 추가할 수 있습니다.\n"
   ]
  },
  {
   "cell_type": "markdown",
   "id": "6fee3e1a",
   "metadata": {},
   "source": [
    "(4) 99번 인덱스의 샘플을 구하라."
   ]
  },
  {
   "cell_type": "code",
   "execution_count": null,
   "id": "364946cc",
   "metadata": {},
   "outputs": [],
   "source": [
    "# 코드를 작성한다.\n",
    "# 필요하면 코드셀 또는 텍스트셀을 추가할 수 있습니다.\n"
   ]
  },
  {
   "cell_type": "markdown",
   "id": "10885e79",
   "metadata": {},
   "source": [
    "(5) ocean_proximity 특성값만 포함한 데이터프레임을 구하라."
   ]
  },
  {
   "cell_type": "code",
   "execution_count": null,
   "id": "bedbdb67",
   "metadata": {},
   "outputs": [],
   "source": [
    "# 코드를 작성한다.\n",
    "# 필요하면 코드셀 또는 텍스트셀을 추가할 수 있습니다.\n"
   ]
  },
  {
   "cell_type": "markdown",
   "id": "b396e720",
   "metadata": {},
   "source": [
    "(6) median_income, median_house_value, ocean_proximity 특성값만으로 구성된 데이터프레임을 구하라."
   ]
  },
  {
   "cell_type": "code",
   "execution_count": null,
   "id": "c559033b",
   "metadata": {},
   "outputs": [],
   "source": [
    "# 코드를 작성한다.\n",
    "# 필요하면 코드셀 또는 텍스트셀을 추가할 수 있습니다.\n"
   ]
  }
 ],
 "metadata": {
  "kernelspec": {
   "display_name": "Python 3 (ipykernel)",
   "language": "python",
   "name": "python3"
  },
  "language_info": {
   "codemirror_mode": {
    "name": "ipython",
    "version": 3
   },
   "file_extension": ".py",
   "mimetype": "text/x-python",
   "name": "python",
   "nbconvert_exporter": "python",
   "pygments_lexer": "ipython3",
   "version": "3.12.7"
  },
  "vscode": {
   "interpreter": {
    "hash": "ad0f3c8a064f687cbf898a0868fd45ba1c7e928ac8a0404f7c241d812ddc1e76"
   }
  }
 },
 "nbformat": 4,
 "nbformat_minor": 5
}
