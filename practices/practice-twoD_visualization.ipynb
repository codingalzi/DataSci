{
 "cells": [
  {
   "cell_type": "markdown",
   "id": "f3c17522",
   "metadata": {},
   "source": [
    "# (연습) 2차원 데이터 시각화"
   ]
  },
  {
   "cell_type": "markdown",
   "id": "47758ef7",
   "metadata": {},
   "source": [
    "**기본 설정**"
   ]
  },
  {
   "cell_type": "code",
   "execution_count": 1,
   "id": "7309d4a3",
   "metadata": {},
   "outputs": [],
   "source": [
    "import numpy as np\n",
    "import pandas as pd\n",
    "import matplotlib.pyplot as plt\n",
    "\n",
    "plt.rc('figure', figsize=(8, 6))"
   ]
  },
  {
   "cell_type": "markdown",
   "id": "1c5dcf48",
   "metadata": {},
   "source": [
    "붓꽃 데이터셋을 아래 방식으로 불러온다. "
   ]
  },
  {
   "cell_type": "code",
   "execution_count": 2,
   "id": "4473806b",
   "metadata": {},
   "outputs": [],
   "source": [
    "from sklearn.datasets import load_iris\n",
    "\n",
    "iris = load_iris(as_frame=True)"
   ]
  },
  {
   "cell_type": "markdown",
   "id": "3afd1a9e",
   "metadata": {},
   "source": [
    "**참고**\n",
    "\n",
    "`sklearn`은 사이킷런 라이브러리이며 머신러닝에 가장 중요한 라이브러리 중 하나다."
   ]
  },
  {
   "cell_type": "markdown",
   "id": "73477dfa",
   "metadata": {},
   "source": [
    "`load_iris()` 함수의 반환값은 사이킷런 라이브리가 제공하는 `Bunch` 자료형이다. "
   ]
  },
  {
   "cell_type": "code",
   "execution_count": 3,
   "id": "279541cb",
   "metadata": {},
   "outputs": [
    {
     "data": {
      "text/plain": [
       "sklearn.utils._bunch.Bunch"
      ]
     },
     "execution_count": 3,
     "metadata": {},
     "output_type": "execute_result"
    }
   ],
   "source": [
    "type(iris)"
   ]
  },
  {
   "cell_type": "markdown",
   "id": "5af29aef",
   "metadata": {},
   "source": [
    "`Bunch` 객체는 데이터셋을 사전 형식으로 담으며, 키를 객체의 속성처럼 다룰 수 있다.\n",
    "사용된 키를 확인해보자."
   ]
  },
  {
   "cell_type": "code",
   "execution_count": 4,
   "id": "74ab550d",
   "metadata": {},
   "outputs": [
    {
     "data": {
      "text/plain": [
       "dict_keys(['data', 'target', 'frame', 'target_names', 'DESCR', 'feature_names', 'filename', 'data_module'])"
      ]
     },
     "execution_count": 4,
     "metadata": {},
     "output_type": "execute_result"
    }
   ],
   "source": [
    "iris.keys()"
   ]
  },
  {
   "cell_type": "markdown",
   "id": "a2b2e9ff",
   "metadata": {},
   "source": [
    "이중에 붓꽃 데이터는 `'data'` 키가 가리키는 데이터프레임 객체며,\n",
    "총 150개의 샘플이 각각 네 개의 특성을 갖는다.\n",
    "\n",
    "| 특성 | 의미 |\n",
    "| :--- | :--- |\n",
    "| sepal length | 꽃받침 길이 |\n",
    "| sepal width | 꽃받침 너비 |\n",
    "| petal length | 꽃잎 길이 |\n",
    "| petal width | 꽃잎 길이 |"
   ]
  },
  {
   "cell_type": "markdown",
   "id": "efe20475",
   "metadata": {},
   "source": [
    "<p><div align=\"center\"><img src=\"https://github.com/codingalzi/DataSci/blob/master/jupyter-book/images/iris.png?raw=true\" style=\"width:700px\"></div></p>"
   ]
  },
  {
   "cell_type": "code",
   "execution_count": 5,
   "id": "e7eab57d",
   "metadata": {},
   "outputs": [
    {
     "data": {
      "text/html": [
       "<div>\n",
       "<style scoped>\n",
       "    .dataframe tbody tr th:only-of-type {\n",
       "        vertical-align: middle;\n",
       "    }\n",
       "\n",
       "    .dataframe tbody tr th {\n",
       "        vertical-align: top;\n",
       "    }\n",
       "\n",
       "    .dataframe thead th {\n",
       "        text-align: right;\n",
       "    }\n",
       "</style>\n",
       "<table border=\"1\" class=\"dataframe\">\n",
       "  <thead>\n",
       "    <tr style=\"text-align: right;\">\n",
       "      <th></th>\n",
       "      <th>sepal length (cm)</th>\n",
       "      <th>sepal width (cm)</th>\n",
       "      <th>petal length (cm)</th>\n",
       "      <th>petal width (cm)</th>\n",
       "    </tr>\n",
       "  </thead>\n",
       "  <tbody>\n",
       "    <tr>\n",
       "      <th>0</th>\n",
       "      <td>5.1</td>\n",
       "      <td>3.5</td>\n",
       "      <td>1.4</td>\n",
       "      <td>0.2</td>\n",
       "    </tr>\n",
       "    <tr>\n",
       "      <th>1</th>\n",
       "      <td>4.9</td>\n",
       "      <td>3.0</td>\n",
       "      <td>1.4</td>\n",
       "      <td>0.2</td>\n",
       "    </tr>\n",
       "    <tr>\n",
       "      <th>2</th>\n",
       "      <td>4.7</td>\n",
       "      <td>3.2</td>\n",
       "      <td>1.3</td>\n",
       "      <td>0.2</td>\n",
       "    </tr>\n",
       "    <tr>\n",
       "      <th>3</th>\n",
       "      <td>4.6</td>\n",
       "      <td>3.1</td>\n",
       "      <td>1.5</td>\n",
       "      <td>0.2</td>\n",
       "    </tr>\n",
       "    <tr>\n",
       "      <th>4</th>\n",
       "      <td>5.0</td>\n",
       "      <td>3.6</td>\n",
       "      <td>1.4</td>\n",
       "      <td>0.2</td>\n",
       "    </tr>\n",
       "    <tr>\n",
       "      <th>...</th>\n",
       "      <td>...</td>\n",
       "      <td>...</td>\n",
       "      <td>...</td>\n",
       "      <td>...</td>\n",
       "    </tr>\n",
       "    <tr>\n",
       "      <th>145</th>\n",
       "      <td>6.7</td>\n",
       "      <td>3.0</td>\n",
       "      <td>5.2</td>\n",
       "      <td>2.3</td>\n",
       "    </tr>\n",
       "    <tr>\n",
       "      <th>146</th>\n",
       "      <td>6.3</td>\n",
       "      <td>2.5</td>\n",
       "      <td>5.0</td>\n",
       "      <td>1.9</td>\n",
       "    </tr>\n",
       "    <tr>\n",
       "      <th>147</th>\n",
       "      <td>6.5</td>\n",
       "      <td>3.0</td>\n",
       "      <td>5.2</td>\n",
       "      <td>2.0</td>\n",
       "    </tr>\n",
       "    <tr>\n",
       "      <th>148</th>\n",
       "      <td>6.2</td>\n",
       "      <td>3.4</td>\n",
       "      <td>5.4</td>\n",
       "      <td>2.3</td>\n",
       "    </tr>\n",
       "    <tr>\n",
       "      <th>149</th>\n",
       "      <td>5.9</td>\n",
       "      <td>3.0</td>\n",
       "      <td>5.1</td>\n",
       "      <td>1.8</td>\n",
       "    </tr>\n",
       "  </tbody>\n",
       "</table>\n",
       "<p>150 rows × 4 columns</p>\n",
       "</div>"
      ],
      "text/plain": [
       "     sepal length (cm)  sepal width (cm)  petal length (cm)  petal width (cm)\n",
       "0                  5.1               3.5                1.4               0.2\n",
       "1                  4.9               3.0                1.4               0.2\n",
       "2                  4.7               3.2                1.3               0.2\n",
       "3                  4.6               3.1                1.5               0.2\n",
       "4                  5.0               3.6                1.4               0.2\n",
       "..                 ...               ...                ...               ...\n",
       "145                6.7               3.0                5.2               2.3\n",
       "146                6.3               2.5                5.0               1.9\n",
       "147                6.5               3.0                5.2               2.0\n",
       "148                6.2               3.4                5.4               2.3\n",
       "149                5.9               3.0                5.1               1.8\n",
       "\n",
       "[150 rows x 4 columns]"
      ]
     },
     "execution_count": 5,
     "metadata": {},
     "output_type": "execute_result"
    }
   ],
   "source": [
    "iris_data = iris['data']\n",
    "iris_data"
   ]
  },
  {
   "cell_type": "markdown",
   "id": "4d4ea08c",
   "metadata": {},
   "source": [
    "붓꽃의 품종 정보는 `target_names` 키가 가리킨다."
   ]
  },
  {
   "cell_type": "code",
   "execution_count": 6,
   "id": "2b9b3a6c",
   "metadata": {},
   "outputs": [
    {
     "data": {
      "text/plain": [
       "array(['setosa', 'versicolor', 'virginica'], dtype='<U10')"
      ]
     },
     "execution_count": 6,
     "metadata": {},
     "output_type": "execute_result"
    }
   ],
   "source": [
    "iris['target_names']"
   ]
  },
  {
   "cell_type": "markdown",
   "id": "a754cb02",
   "metadata": {},
   "source": [
    "반면에 품종 데이터는 `'target'` 키가 가리키는 시리즈 객체다.\n",
    "항목은 0, 1, 2 정수이지만, 실제로는 구분을 위한 범주형으로 특성이다.\n",
    "각 숫자는 붓꽃의 품종을 가리킨다.\n",
    "\n",
    "| 번호 | 품종 |\n",
    "| :--- | :--- |\n",
    "| 0 | 세토사(Iris setosa) |\n",
    "| 1 | 버시컬러(Iris versicolor) |\n",
    "| 2 | 버지니카(Iris verginica) |"
   ]
  },
  {
   "cell_type": "code",
   "execution_count": 7,
   "id": "b55d33fa",
   "metadata": {},
   "outputs": [
    {
     "data": {
      "text/plain": [
       "0      0\n",
       "1      0\n",
       "2      0\n",
       "3      0\n",
       "4      0\n",
       "      ..\n",
       "145    2\n",
       "146    2\n",
       "147    2\n",
       "148    2\n",
       "149    2\n",
       "Name: target, Length: 150, dtype: int64"
      ]
     },
     "execution_count": 7,
     "metadata": {},
     "output_type": "execute_result"
    }
   ],
   "source": [
    "iris_varieties = iris['target']\n",
    "iris_varieties"
   ]
  },
  {
   "cell_type": "markdown",
   "id": "2145dfbd",
   "metadata": {},
   "source": [
    "## 분류"
   ]
  },
  {
   "cell_type": "markdown",
   "id": "63a79a7b",
   "metadata": {},
   "source": [
    "분류는 각 샘플 데이터에 대해 하나의 레이블을 할당한다.\n",
    "붓꽃의 꽃잎 길이와 너비를 특성으로 사용해서 \n",
    "품종을 레이블로 사용한 결과를 그래프로 그리려고 한다."
   ]
  },
  {
   "cell_type": "markdown",
   "id": "31804b81",
   "metadata": {},
   "source": [
    "**붓꽃 데이터 시각화**"
   ]
  },
  {
   "cell_type": "markdown",
   "id": "2ab46442",
   "metadata": {},
   "source": [
    "시각화를 위해 꽃잎<font size='2'>petal</font>의 길이와 너비 두 개의 특성만 선택한다."
   ]
  },
  {
   "cell_type": "code",
   "execution_count": 8,
   "id": "bba6ffa0",
   "metadata": {},
   "outputs": [],
   "source": [
    "X = iris_data[[\"petal length (cm)\", \"petal width (cm)\"]].values\n",
    "y = iris_varieties.values"
   ]
  },
  {
   "cell_type": "markdown",
   "id": "9bccc14d",
   "metadata": {},
   "source": [
    "**질문 1**"
   ]
  },
  {
   "cell_type": "markdown",
   "id": "79d611ea",
   "metadata": {},
   "source": [
    "150개의 데이터는 처음부터 50개씩 각각 세토사, 버시컬러, 버지키나 품종의 데이터로 구성된다."
   ]
  },
  {
   "cell_type": "markdown",
   "id": "9bdfa3fe",
   "metadata": {},
   "source": [
    "(1) 세토사, 버시컬ㄹ, 버지니카 각각의 품종으로 구성된 데이터프레임을 가리키는 \n",
    "세 개의 변수 `X_setosa`, `X_versicolor`, `X_verginica`를 선언하라."
   ]
  },
  {
   "cell_type": "code",
   "execution_count": 9,
   "id": "05fdc0c4",
   "metadata": {},
   "outputs": [],
   "source": [
    "# 코드를 작성한다.\n",
    "# 필요하면 코드셀 또는 텍스트셀을 추가할 수 있습니다.\n"
   ]
  },
  {
   "cell_type": "markdown",
   "id": "3ac463c8",
   "metadata": {},
   "source": [
    "(2) 각 데이터셋의 산점도를 다른 색을 이용하여 그려라."
   ]
  },
  {
   "cell_type": "code",
   "execution_count": 10,
   "id": "8a4b6040",
   "metadata": {},
   "outputs": [],
   "source": [
    "# 코드를 작성한다.\n",
    "# 필요하면 코드셀 또는 텍스트셀을 추가할 수 있습니다.\n"
   ]
  },
  {
   "cell_type": "markdown",
   "id": "9b9f4623",
   "metadata": {},
   "source": [
    "(3) 범위를 x 축은 0에서 7.5 사이로, y 축은 0에서 3 사이로 지정한 다음에 \n",
    "축의 척도를 일치 시킨 후에 산점도를 다시 그려라.\n",
    "\n",
    "힌트: `plt.gca().set_aspect(\"equal\")` 활용"
   ]
  },
  {
   "cell_type": "code",
   "execution_count": 11,
   "id": "175d242c",
   "metadata": {},
   "outputs": [],
   "source": [
    "# 코드를 작성한다.\n",
    "# 필요하면 코드셀 또는 텍스트셀을 추가할 수 있습니다.\n"
   ]
  },
  {
   "cell_type": "markdown",
   "id": "a0e88985",
   "metadata": {},
   "source": [
    "(4) 아래 그림과 같은 그래프를 그려라."
   ]
  },
  {
   "cell_type": "markdown",
   "id": "06fc753a",
   "metadata": {},
   "source": [
    "<p><div align=\"center\"><img src=\"https://github.com/codingalzi/DataSci/blob/master/jupyter-book/images/iris_sep.png?raw=true\" style=\"width:700px\"></div></p>"
   ]
  },
  {
   "cell_type": "markdown",
   "id": "3ade963e",
   "metadata": {},
   "source": [
    "힌트: 아래 코드 활용"
   ]
  },
  {
   "cell_type": "code",
   "execution_count": 12,
   "id": "ff4b5aba",
   "metadata": {},
   "outputs": [],
   "source": [
    "# x 좌표\n",
    "x0 = np.linspace(0, 7.5, 200)\n",
    "\n",
    "# 두 개의 직선에 대한 y 좌표값\n",
    "pred_1 = 5 * x0 - 12  # 직선 1의 y 좌표\n",
    "pred_2 = -x0 + 6.5    # 직선 2의 y 좌표"
   ]
  },
  {
   "cell_type": "code",
   "execution_count": 13,
   "id": "f39fff44",
   "metadata": {},
   "outputs": [],
   "source": [
    "# 코드를 작성한다.\n",
    "# 필요하면 코드셀 또는 텍스트셀을 추가할 수 있습니다.\n"
   ]
  },
  {
   "cell_type": "markdown",
   "id": "a167a6b4",
   "metadata": {},
   "source": [
    "## 군집화"
   ]
  },
  {
   "cell_type": "markdown",
   "id": "56dd1f6f",
   "metadata": {},
   "source": [
    "**군집**<font size='2'>cluster</font>은 유사한 대상들의 모음을 가리킨다.\n",
    "예를 들어, 산이나 공원에서 볼 수 있는 이름은 모르지만 동일 품종의 꽃으로 이루어진 군집 등을\n",
    "생각하면 된다.\n",
    "**군집화**<font size='2'>clustering</font>는 대상들을 나누어 군집을 \n",
    "형성하는 것을 말한다. \n",
    "\n",
    "각 샘플에 하나의 그룹을 할당한다는 점에서 분류와 유사하다.\n",
    "하지만 각 샘플에 대해 레이블을 할당하는 게 아니라\n",
    "유사한 샘플들의 군집으로 구분한다는 점에서 다르다."
   ]
  },
  {
   "cell_type": "markdown",
   "id": "30e6f6b4",
   "metadata": {},
   "source": [
    "(1) 아래 그림은 아이리스 붓꽃 데이터에 세토사 품종으로 구성된 군집과 나머지로 구성된 군집을 보여준다.\n",
    "아래 그래프를 그리는 코드를 작성하라."
   ]
  },
  {
   "cell_type": "markdown",
   "id": "b47f8826",
   "metadata": {},
   "source": [
    "<p><div align=\"center\"><img src=\"https://github.com/codingalzi/DataSci/blob/master/jupyter-book/images/iris_cluster.png?raw=true\" style=\"width:700px\"></div></p>"
   ]
  },
  {
   "cell_type": "code",
   "execution_count": 14,
   "id": "f1f6ba0d",
   "metadata": {},
   "outputs": [],
   "source": [
    "# 코드를 작성한다.\n",
    "# 필요하면 코드셀 또는 텍스트셀을 추가할 수 있습니다.\n"
   ]
  },
  {
   "cell_type": "markdown",
   "id": "4ea930a4",
   "metadata": {},
   "source": [
    "## 서브플롯 활용"
   ]
  },
  {
   "cell_type": "markdown",
   "id": "f7339364",
   "metadata": {},
   "source": [
    "(1) 아래 그림은 아이리스 붓꽃 데이터에 대해 앞서 그린 분류와 군집화 그래프를 동시에 보여준다.\n",
    "아래 그래프를 그리는 코드를 작성하라."
   ]
  },
  {
   "cell_type": "markdown",
   "id": "197c2c2b",
   "metadata": {},
   "source": [
    "<p><div align=\"center\"><img src=\"https://github.com/codingalzi/DataSci/blob/master/jupyter-book/images/iris_sep_cluster.png?raw=true\" style=\"width:900px\"></div></p>"
   ]
  },
  {
   "cell_type": "code",
   "execution_count": 15,
   "id": "41652c46",
   "metadata": {},
   "outputs": [],
   "source": [
    "# 코드를 작성한다.\n",
    "# 필요하면 코드셀 또는 텍스트셀을 추가할 수 있습니다.\n"
   ]
  }
 ],
 "metadata": {
  "kernelspec": {
   "display_name": "Python 3 (ipykernel)",
   "language": "python",
   "name": "python3"
  },
  "language_info": {
   "codemirror_mode": {
    "name": "ipython",
    "version": 3
   },
   "file_extension": ".py",
   "mimetype": "text/x-python",
   "name": "python",
   "nbconvert_exporter": "python",
   "pygments_lexer": "ipython3",
   "version": "3.12.2"
  }
 },
 "nbformat": 4,
 "nbformat_minor": 5
}
