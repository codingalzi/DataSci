{
 "cells": [
  {
   "cell_type": "markdown",
   "metadata": {
    "ExecuteTime": {
     "end_time": "2018-03-06T03:37:40.696920Z",
     "start_time": "2018-03-06T03:37:40.690655Z"
    }
   },
   "source": [
    "# (연습) 연속 확률 분포"
   ]
  },
  {
   "cell_type": "markdown",
   "metadata": {},
   "source": [
    "**기본 설정**"
   ]
  },
  {
   "cell_type": "markdown",
   "metadata": {
    "ExecuteTime": {
     "end_time": "2018-08-03T08:26:15.690793Z",
     "start_time": "2018-08-03T08:26:15.507201Z"
    }
   },
   "source": [
    "Numpy와 Pandas 라이브러리를 각각 np와 pd로 불러온다."
   ]
  },
  {
   "cell_type": "code",
   "execution_count": 1,
   "metadata": {
    "ExecuteTime": {
     "end_time": "2018-08-14T06:43:30.149227Z",
     "start_time": "2018-08-14T06:43:29.960007Z"
    }
   },
   "outputs": [],
   "source": [
    "import numpy as np\n",
    "import pandas as pd"
   ]
  },
  {
   "cell_type": "markdown",
   "metadata": {},
   "source": [
    "데이터프레임의 [chained indexing을 금지시키기 위한 설정](https://pandas.pydata.org/pandas-docs/stable/user_guide/indexing.html#returning-a-view-versus-a-copy)을 지정한다.\n",
    "Pandas 3.0 버전부터는 기본 옵션으로 지정된다."
   ]
  },
  {
   "cell_type": "code",
   "execution_count": 2,
   "metadata": {},
   "outputs": [],
   "source": [
    "pd.options.mode.copy_on_write = True"
   ]
  },
  {
   "cell_type": "markdown",
   "metadata": {
    "ExecuteTime": {
     "end_time": "2018-08-14T06:43:30.149227Z",
     "start_time": "2018-08-14T06:43:29.960007Z"
    }
   },
   "source": [
    "주피터 노트북에서 부동소수점의 출력을 소수점 이하 6자리로 제한한다.\n",
    "아래 코드는 주피터 노트북에서만 사용하며 일반적인 파이썬 코드가 아니다."
   ]
  },
  {
   "cell_type": "code",
   "execution_count": 3,
   "metadata": {
    "ExecuteTime": {
     "end_time": "2018-08-14T06:43:30.149227Z",
     "start_time": "2018-08-14T06:43:29.960007Z"
    }
   },
   "outputs": [
    {
     "data": {
      "text/plain": [
       "'%.6f'"
      ]
     },
     "execution_count": 3,
     "metadata": {},
     "output_type": "execute_result"
    }
   ],
   "source": [
    "%precision 6"
   ]
  },
  {
   "cell_type": "markdown",
   "metadata": {
    "ExecuteTime": {
     "end_time": "2018-08-14T06:43:30.149227Z",
     "start_time": "2018-08-14T06:43:29.960007Z"
    }
   },
   "source": [
    "아래 코드는 데이터프레임 내에서 부동소수점의 출력을 소수점 이하 6자리로 제한한다."
   ]
  },
  {
   "cell_type": "code",
   "execution_count": 4,
   "metadata": {
    "ExecuteTime": {
     "end_time": "2018-08-14T06:43:30.149227Z",
     "start_time": "2018-08-14T06:43:29.960007Z"
    }
   },
   "outputs": [],
   "source": [
    "pd.set_option('display.precision', 6)"
   ]
  },
  {
   "cell_type": "markdown",
   "metadata": {},
   "source": [
    "데이터 시각화를 위해 `matplotlib.pyplot`를 `plt`로,\n",
    "`seaborn`을 `sns`로 불러온다."
   ]
  },
  {
   "cell_type": "code",
   "execution_count": 5,
   "metadata": {},
   "outputs": [],
   "source": [
    "import matplotlib.pyplot as plt\n",
    "import seaborn as sns"
   ]
  },
  {
   "cell_type": "markdown",
   "metadata": {},
   "source": [
    "그래프 스타일을 `seaborn`에서 제공하는 `white` 스타일로 지정한다."
   ]
  },
  {
   "cell_type": "code",
   "execution_count": 6,
   "metadata": {},
   "outputs": [],
   "source": [
    "sns.set_style(\"white\")"
   ]
  },
  {
   "cell_type": "markdown",
   "metadata": {},
   "source": [
    "**데이터 저장소 디렉토리**"
   ]
  },
  {
   "cell_type": "markdown",
   "metadata": {},
   "source": [
    "코드에 사용되는 [데이터 저장소의 기본 디렉토리](https://github.com/codingalzi/DataSci/tree/master/data)를 지정한다."
   ]
  },
  {
   "cell_type": "code",
   "execution_count": 7,
   "metadata": {},
   "outputs": [],
   "source": [
    "data_url = 'https://raw.githubusercontent.com/codingalzi/DataSci/refs/heads/master/data/'"
   ]
  },
  {
   "cell_type": "markdown",
   "metadata": {},
   "source": [
    "## 연속 균등 분포"
   ]
  },
  {
   "cell_type": "markdown",
   "metadata": {},
   "source": [
    "`np.random.uniform()` 함수를 한 번 적용해서 생성된 실수들의 분포는 균등하지 않아 보인다.\n",
    "하지만 현실에서의 균등 분포를 적절하게 반영한다.\n",
    "예를 들어 동전을 10번 던졌을 때 반드시 5번씩 앞면, 뒷면이 나오지 않으며\n",
    "주사위를 6번 던져도 바드시 1번씩 각각의 번호가 나오지는 않는다."
   ]
  },
  {
   "cell_type": "code",
   "execution_count": 8,
   "metadata": {},
   "outputs": [],
   "source": [
    "np.random.seed(17)\n",
    "uni1000 = np.random.uniform(2, 5,1000)"
   ]
  },
  {
   "cell_type": "code",
   "execution_count": 9,
   "metadata": {},
   "outputs": [
    {
     "data": {
      "image/png": "[encoded data removed]",
      "text/plain": [
       "<Figure size 640x480 with 1 Axes>"
      ]
     },
     "metadata": {},
     "output_type": "display_data"
    }
   ],
   "source": [
    "fig, ax = plt.subplots()\n",
    "\n",
    "freqs, bins, _ = ax.hist(uni1000, bins=25)\n",
    "\n",
    "# 평균 도수: freqs.mean() = 40.0\n",
    "ax.plot(bins, np.ones_like(bins) * freqs.mean(), linewidth=2, color='r')\n",
    "\n",
    "ax.set_xlabel('x')\n",
    "ax.set_ylabel('Frequency')\n",
    "\n",
    "plt.show()"
   ]
  },
  {
   "cell_type": "markdown",
   "metadata": {},
   "source": [
    "하지만 동전 던지기 횟수를 1만번, 10만번 등 키우면 거의 50대 50의 확률로 앞면, 뒷면이 나오고,\n",
    "동전 던지기 횟루를 6만번, 60만번 으로 늘리면 거의 1/6의 확률로 각각의 숫자가 나온다.\n",
    "이처럼 시행횟수를 늘렸을 때 이론적인 확률값에 수렴하는 현상을 \n",
    "**큰 수의 법칙**<font size='2'>law of large numbers</font>이라 부른다."
   ]
  },
  {
   "cell_type": "markdown",
   "metadata": {},
   "source": [
    "**문제 1**"
   ]
  },
  {
   "cell_type": "markdown",
   "metadata": {},
   "source": [
    "`np.random.uniform()` 함수를 1만번 실행했을 때 균등하게 등분된 구간별 상대도수의 평균값이 일정함을 보이는 모의실험 코드를 구현하라.\n",
    "또한 구간별 상대도수의 평균값을 이용하여 아래와 같은 히스트로그램을 그리는 코드를 작성하라."
   ]
  },
  {
   "cell_type": "markdown",
   "metadata": {},
   "source": [
    "<p><div align=\"center\"><img src=\"https://raw.githubusercontent.com/codingalzi/DataSci/master/jupyter-book/images/uniform_random01.png\" style=\"width:570px\"></div></p>"
   ]
  },
  {
   "cell_type": "markdown",
   "metadata": {},
   "source": [
    "힌트:"
   ]
  },
  {
   "cell_type": "markdown",
   "metadata": {},
   "source": [
    "1. `seed`값을 0부터 9,999까지 변경하면서 아래 내용을 1만 번 반복 실행한다.\n",
    "    - 구간 $[2, 5]$에서 1,000개의 부동소수점을 균등 분포를 이용하여 선택한다.\n",
    "    - 25개로 등분된 구간별 상대도수 분포를 계산한다.\n",
    "    - 구간별 상대도수의 누적합을 계산한다.\n",
    "\n",
    "2. 최종적으로 구간별 상대도수의 평균값을 계산한다."
   ]
  },
  {
   "cell_type": "code",
   "execution_count": 1,
   "metadata": {},
   "outputs": [],
   "source": [
    "# 코드를 작성한다.\n",
    "# 필요하면 코드셀 또는 텍스트셀을 추가할 수 있습니다.\n"
   ]
  },
  {
   "cell_type": "markdown",
   "metadata": {
    "id": "D6CIjV_ICHko"
   },
   "source": [
    "## 붓꽃 데이터셋"
   ]
  },
  {
   "cell_type": "markdown",
   "metadata": {},
   "source": [
    "[2차원 데이터 시각화](https://colab.research.google.com/github/codingalzi/DataSci/blob/master/practices/practice-twoD_visualization.ipynb)에서 다뤘던 붓꽃 데이터셋을 활용하여\n",
    "확률 밀도 함수와 누적 분포 함수의 관계를 살펴 본다.\n",
    "\n",
    "먼저 붓꽃 데이터셋을 기본 저장소에서 불러온다."
   ]
  },
  {
   "cell_type": "code",
   "execution_count": 12,
   "metadata": {},
   "outputs": [],
   "source": [
    "iris = pd.read_csv(data_url+\"iris.csv\")"
   ]
  },
  {
   "cell_type": "markdown",
   "metadata": {},
   "source": [
    "총 150개의 샘플이 각각 다섯 개의 특성을 갖는다.\n",
    "\n",
    "| 특성 | 의미 |\n",
    "| :--- | :--- |\n",
    "| sepal.length | 꽃받침 길이 |\n",
    "| sepal.width | 꽃받침 너비 |\n",
    "| petal.length | 꽃잎 길이 |\n",
    "| petal.width | 꽃잎 길이 |\n",
    "| variety | 품종 |"
   ]
  },
  {
   "cell_type": "code",
   "execution_count": 13,
   "metadata": {},
   "outputs": [
    {
     "data": {
      "text/html": [
       "<div>\n",
       "<style scoped>\n",
       "    .dataframe tbody tr th:only-of-type {\n",
       "        vertical-align: middle;\n",
       "    }\n",
       "\n",
       "    .dataframe tbody tr th {\n",
       "        vertical-align: top;\n",
       "    }\n",
       "\n",
       "    .dataframe thead th {\n",
       "        text-align: right;\n",
       "    }\n",
       "</style>\n",
       "<table border=\"1\" class=\"dataframe\">\n",
       "  <thead>\n",
       "    <tr style=\"text-align: right;\">\n",
       "      <th></th>\n",
       "      <th>sepal.length</th>\n",
       "      <th>sepal.width</th>\n",
       "      <th>petal.length</th>\n",
       "      <th>petal.width</th>\n",
       "      <th>variety</th>\n",
       "    </tr>\n",
       "  </thead>\n",
       "  <tbody>\n",
       "    <tr>\n",
       "      <th>0</th>\n",
       "      <td>5.1</td>\n",
       "      <td>3.5</td>\n",
       "      <td>1.4</td>\n",
       "      <td>0.2</td>\n",
       "      <td>Setosa</td>\n",
       "    </tr>\n",
       "    <tr>\n",
       "      <th>1</th>\n",
       "      <td>4.9</td>\n",
       "      <td>3.0</td>\n",
       "      <td>1.4</td>\n",
       "      <td>0.2</td>\n",
       "      <td>Setosa</td>\n",
       "    </tr>\n",
       "    <tr>\n",
       "      <th>2</th>\n",
       "      <td>4.7</td>\n",
       "      <td>3.2</td>\n",
       "      <td>1.3</td>\n",
       "      <td>0.2</td>\n",
       "      <td>Setosa</td>\n",
       "    </tr>\n",
       "    <tr>\n",
       "      <th>3</th>\n",
       "      <td>4.6</td>\n",
       "      <td>3.1</td>\n",
       "      <td>1.5</td>\n",
       "      <td>0.2</td>\n",
       "      <td>Setosa</td>\n",
       "    </tr>\n",
       "    <tr>\n",
       "      <th>4</th>\n",
       "      <td>5.0</td>\n",
       "      <td>3.6</td>\n",
       "      <td>1.4</td>\n",
       "      <td>0.2</td>\n",
       "      <td>Setosa</td>\n",
       "    </tr>\n",
       "    <tr>\n",
       "      <th>...</th>\n",
       "      <td>...</td>\n",
       "      <td>...</td>\n",
       "      <td>...</td>\n",
       "      <td>...</td>\n",
       "      <td>...</td>\n",
       "    </tr>\n",
       "    <tr>\n",
       "      <th>145</th>\n",
       "      <td>6.7</td>\n",
       "      <td>3.0</td>\n",
       "      <td>5.2</td>\n",
       "      <td>2.3</td>\n",
       "      <td>Virginica</td>\n",
       "    </tr>\n",
       "    <tr>\n",
       "      <th>146</th>\n",
       "      <td>6.3</td>\n",
       "      <td>2.5</td>\n",
       "      <td>5.0</td>\n",
       "      <td>1.9</td>\n",
       "      <td>Virginica</td>\n",
       "    </tr>\n",
       "    <tr>\n",
       "      <th>147</th>\n",
       "      <td>6.5</td>\n",
       "      <td>3.0</td>\n",
       "      <td>5.2</td>\n",
       "      <td>2.0</td>\n",
       "      <td>Virginica</td>\n",
       "    </tr>\n",
       "    <tr>\n",
       "      <th>148</th>\n",
       "      <td>6.2</td>\n",
       "      <td>3.4</td>\n",
       "      <td>5.4</td>\n",
       "      <td>2.3</td>\n",
       "      <td>Virginica</td>\n",
       "    </tr>\n",
       "    <tr>\n",
       "      <th>149</th>\n",
       "      <td>5.9</td>\n",
       "      <td>3.0</td>\n",
       "      <td>5.1</td>\n",
       "      <td>1.8</td>\n",
       "      <td>Virginica</td>\n",
       "    </tr>\n",
       "  </tbody>\n",
       "</table>\n",
       "<p>150 rows × 5 columns</p>\n",
       "</div>"
      ],
      "text/plain": [
       "     sepal.length  sepal.width  petal.length  petal.width    variety\n",
       "0             5.1          3.5           1.4          0.2     Setosa\n",
       "1             4.9          3.0           1.4          0.2     Setosa\n",
       "2             4.7          3.2           1.3          0.2     Setosa\n",
       "3             4.6          3.1           1.5          0.2     Setosa\n",
       "4             5.0          3.6           1.4          0.2     Setosa\n",
       "..            ...          ...           ...          ...        ...\n",
       "145           6.7          3.0           5.2          2.3  Virginica\n",
       "146           6.3          2.5           5.0          1.9  Virginica\n",
       "147           6.5          3.0           5.2          2.0  Virginica\n",
       "148           6.2          3.4           5.4          2.3  Virginica\n",
       "149           5.9          3.0           5.1          1.8  Virginica\n",
       "\n",
       "[150 rows x 5 columns]"
      ]
     },
     "execution_count": 13,
     "metadata": {},
     "output_type": "execute_result"
    }
   ],
   "source": [
    "iris"
   ]
  },
  {
   "cell_type": "markdown",
   "metadata": {},
   "source": [
    "여기서는 꽃잎의 길이와 너비 정보만 활용한다."
   ]
  },
  {
   "cell_type": "code",
   "execution_count": 14,
   "metadata": {},
   "outputs": [],
   "source": [
    "iris = iris[['petal.length', 'petal.width']]"
   ]
  },
  {
   "cell_type": "markdown",
   "metadata": {},
   "source": [
    "꽃잎 길이와 너비는 부동소수점으로 표현되며 꽃잎의 길이는 정해진 순서로 하나, 둘, 셋 등으로 셀 수\n",
    "없기에 연속형 자료형이다."
   ]
  },
  {
   "cell_type": "code",
   "execution_count": 15,
   "metadata": {},
   "outputs": [
    {
     "name": "stdout",
     "output_type": "stream",
     "text": [
      "<class 'pandas.core.frame.DataFrame'>\n",
      "RangeIndex: 150 entries, 0 to 149\n",
      "Data columns (total 2 columns):\n",
      " #   Column        Non-Null Count  Dtype  \n",
      "---  ------        --------------  -----  \n",
      " 0   petal.length  150 non-null    float64\n",
      " 1   petal.width   150 non-null    float64\n",
      "dtypes: float64(2)\n",
      "memory usage: 2.5 KB\n"
     ]
    }
   ],
   "source": [
    "iris.info()"
   ]
  },
  {
   "cell_type": "markdown",
   "metadata": {},
   "source": [
    "**문제 2**"
   ]
  },
  {
   "cell_type": "markdown",
   "metadata": {},
   "source": [
    "꽃잎 길이 정보만 따로 변수로 지정한다."
   ]
  },
  {
   "cell_type": "code",
   "execution_count": 16,
   "metadata": {},
   "outputs": [],
   "source": [
    "iris_length = iris['petal.length']"
   ]
  },
  {
   "cell_type": "markdown",
   "metadata": {},
   "source": [
    "(1) 꽃잎 길이를 가리키는 연속 확률 변수 $X$가 특정 값 $a$ 이하의 값을 가질 확률을 계산하는\n",
    "함수 `F_length()`를 선언하라."
   ]
  },
  {
   "cell_type": "code",
   "execution_count": 1,
   "metadata": {},
   "outputs": [],
   "source": [
    "# 코드를 작성한다.\n",
    "# 필요하면 코드셀 또는 텍스트셀을 추가할 수 있습니다.\n"
   ]
  },
  {
   "cell_type": "markdown",
   "metadata": {},
   "source": [
    "(2) `F_length()` 함수가 누적 분포 함수의 성질을 만족함을 보여라."
   ]
  },
  {
   "cell_type": "code",
   "execution_count": 1,
   "metadata": {},
   "outputs": [],
   "source": [
    "# 코드를 작성한다.\n",
    "# 필요하면 코드셀 또는 텍스트셀을 추가할 수 있습니다.\n"
   ]
  },
  {
   "cell_type": "markdown",
   "metadata": {},
   "source": [
    "**문제 3**"
   ]
  },
  {
   "cell_type": "markdown",
   "metadata": {},
   "source": [
    "`F_length()` 함수를 이용하여 임의로 선택된 구역의 중위소득이 특정 구간에 속할 확률을 계산하는\n",
    "`P_length()` 함수를 구현한 다음에\n",
    "꽃잎 길이가 0.9에서 2.0 사이에 포함될 확률을 구하라."
   ]
  },
  {
   "cell_type": "code",
   "execution_count": 1,
   "metadata": {},
   "outputs": [],
   "source": [
    "# 코드를 작성한다.\n",
    "# 필요하면 코드셀 또는 텍스트셀을 추가할 수 있습니다.\n"
   ]
  },
  {
   "cell_type": "markdown",
   "metadata": {},
   "source": [
    "**문제 4**"
   ]
  },
  {
   "cell_type": "markdown",
   "metadata": {},
   "source": [
    "아래 코드는 꽃잎 길이를 대상으로\n",
    "가우스 커널을 사용하는 밀도 추정 기법(Gaussian KDE)을 활용하여 추정된 확률 밀도 함수의 그래프를 그린다."
   ]
  },
  {
   "cell_type": "code",
   "execution_count": 24,
   "metadata": {},
   "outputs": [
    {
     "data": {
      "image/png": "[encoded data removed]",
      "text/plain": [
       "<Figure size 640x480 with 1 Axes>"
      ]
     },
     "metadata": {},
     "output_type": "display_data"
    }
   ],
   "source": [
    "fig, ax = plt.subplots()\n",
    "\n",
    "# 구간별 밀도 히스토그램\n",
    "ax.hist(iris_length, bins=30, density=True)\n",
    "\n",
    "# 추정된 확률 밀도 함수 그래프\n",
    "kde = sns.kdeplot(ax=ax, data=iris_length)\n",
    "\n",
    "plt.show()"
   ]
  },
  {
   "cell_type": "markdown",
   "metadata": {},
   "source": [
    "하지만 아래 그림의 확률 밀도 함수 그래프가 보다 적절해 보인다.\n",
    "적절한 `bw_method` 키워드 인자를 지정하여 아래 그림의 그래프를 그리는 코드를 작성하라."
   ]
  },
  {
   "cell_type": "markdown",
   "metadata": {},
   "source": [
    "<p><div align=\"center\"><img src=\"https://raw.githubusercontent.com/codingalzi/DataSci/master/jupyter-book/images/iris_length_density01.png\" style=\"width:570px\"></div></p>"
   ]
  },
  {
   "cell_type": "code",
   "execution_count": 1,
   "metadata": {},
   "outputs": [],
   "source": [
    "# 코드를 작성한다.\n",
    "# 필요하면 코드셀 또는 텍스트셀을 추가할 수 있습니다.\n"
   ]
  },
  {
   "cell_type": "markdown",
   "metadata": {},
   "source": [
    "**문제 5**"
   ]
  },
  {
   "cell_type": "markdown",
   "metadata": {},
   "source": [
    "`scipy.stats.gaussian_kde()` 함수를 이용하여 꽃잎 길이 데이터 분포에 대한 확률 밀도 함수의 그래프를 그려라.\n",
    "단, 화률 밀도 함수의 그래프가 이전 그림에서처럼 그려져야 한다."
   ]
  },
  {
   "cell_type": "code",
   "execution_count": 1,
   "metadata": {},
   "outputs": [],
   "source": [
    "# 코드를 작성한다.\n",
    "# 필요하면 코드셀 또는 텍스트셀을 추가할 수 있습니다.\n"
   ]
  },
  {
   "cell_type": "markdown",
   "metadata": {},
   "source": [
    "**문제 6**"
   ]
  },
  {
   "cell_type": "markdown",
   "metadata": {},
   "source": [
    "붓꽃 데이터셋에는 세 개의 품종이 각각 50개씩 포함되어 있으며,\n",
    "세토사, 버시컬러, 버지니카 순으로 정렬되어 있다."
   ]
  },
  {
   "cell_type": "markdown",
   "metadata": {},
   "source": [
    "| 인덱스 | 품종 |\n",
    "| :---: | :--- |\n",
    "| 0 - 49 | 세토사(Iris setosa) |\n",
    "| 50-99 | 버시컬러(Iris versicolor) |\n",
    "| 100-149 | 버지니카(Iris verginica) |"
   ]
  },
  {
   "cell_type": "markdown",
   "metadata": {},
   "source": [
    "아래 코드는\n",
    "꽃잎의 길이와 너비 정보만 이용하여 150개 데이터 샘플의 산점도를 \n",
    "품종별로 구분하여 그린다.\n",
    "\n",
    "옅은 빨강으로 칠해진 영역은 꽃잎 길이가 4.5에서 5.1에 사이에 위치하는 영역을 표시한다.\n",
    "\n",
    "- 4.5: 버지니카 품종 꽃잎 길이의 최솟값\n",
    "- 5.1: 버시컬러 품종 꽃잎 길이의 최댓값\n",
    "\n",
    "표시 영역에 버시컬러와 버지니카 두 품종이 섞여 있어서 \n",
    "꽃잎 길이 만으로는 두 품종을 구분하기 어렵다."
   ]
  },
  {
   "cell_type": "code",
   "execution_count": 28,
   "metadata": {},
   "outputs": [],
   "source": [
    "versicolor_max = iris_length[50:100].max()\n",
    "versinica_min = iris_length[100:150].min()"
   ]
  },
  {
   "cell_type": "code",
   "execution_count": 29,
   "metadata": {},
   "outputs": [
    {
     "data": {
      "image/png": "[encoded data removed]",
      "text/plain": [
       "<Figure size 640x480 with 1 Axes>"
      ]
     },
     "metadata": {},
     "output_type": "display_data"
    }
   ],
   "source": [
    "fig, ax = plt.subplots()\n",
    "\n",
    "# 품종별 산점도 구분\n",
    "styles = (\"yo\", \"bs\", \"g^\")\n",
    "for i in range(3):\n",
    "    iris[i*50: (i+1)*50].plot.scatter(ax=ax, \n",
    "                                      x='petal.length', \n",
    "                                      y='petal.width', \n",
    "                                      color=styles[i][0], \n",
    "                                      marker=styles[i][1])\n",
    "\n",
    "# versinica_min와 versicolor_max 구분선    \n",
    "ax.vlines(versinica_min, -0.1, 2.7, color='k', alpha=0.2)\n",
    "ax.vlines(versicolor_max, -0.1, 2.7, color='k', alpha=0.2)\n",
    "\n",
    "# 두 구분선 사이 색칠\n",
    "xs = np.arange(versinica_min, versicolor_max, 0.01)\n",
    "ys0 = [-0.1]*len(xs)\n",
    "ys1 = [2.7]*len(xs)\n",
    "ax.fill_between(xs, ys0, ys1, alpha=0.1, color='r')\n",
    "\n",
    "# y-축 범위 지정\n",
    "ax.set_ylim(-0.1, 2.7)\n",
    "\n",
    "plt.show()"
   ]
  },
  {
   "cell_type": "markdown",
   "metadata": {},
   "source": [
    "표시된 영역에 포함된 샘플의 비율을 계산하라.\n",
    "단, `P_length()` 함수는 이용하지 않고 넘파이 어레이 부울 연산만 활용한다."
   ]
  },
  {
   "cell_type": "code",
   "execution_count": 1,
   "metadata": {},
   "outputs": [],
   "source": [
    "# 코드를 작성한다.\n",
    "# 필요하면 코드셀 또는 텍스트셀을 추가할 수 있습니다.\n"
   ]
  },
  {
   "cell_type": "markdown",
   "metadata": {},
   "source": [
    "**문제 7**"
   ]
  },
  {
   "cell_type": "markdown",
   "metadata": {},
   "source": [
    "(1) $P(a \\le X \\le b)$를 추정하는 `P_estimate()` 함수를 `scipy.integrate.quad()` 함수를 이용하여 정의하라."
   ]
  },
  {
   "cell_type": "code",
   "execution_count": 1,
   "metadata": {},
   "outputs": [],
   "source": [
    "# 코드를 작성한다.\n",
    "# 필요하면 코드셀 또는 텍스트셀을 추가할 수 있습니다.\n"
   ]
  },
  {
   "cell_type": "markdown",
   "metadata": {},
   "source": [
    "(2) 실수 전체 영역에서는 확률이 1임을 확인하라."
   ]
  },
  {
   "cell_type": "code",
   "execution_count": 1,
   "metadata": {},
   "outputs": [],
   "source": [
    "# 코드를 작성한다.\n",
    "# 필요하면 코드셀 또는 텍스트셀을 추가할 수 있습니다.\n"
   ]
  },
  {
   "cell_type": "markdown",
   "metadata": {},
   "source": [
    "(3) 꽃잎 길이 전체 범위에서의 확률은 1보다 아주 조금 작음을 확인하라."
   ]
  },
  {
   "cell_type": "code",
   "execution_count": 1,
   "metadata": {},
   "outputs": [],
   "source": [
    "# 코드를 작성한다.\n",
    "# 필요하면 코드셀 또는 텍스트셀을 추가할 수 있습니다.\n"
   ]
  },
  {
   "cell_type": "markdown",
   "metadata": {},
   "source": [
    "(4) 세토사 품종의 비율을 `P_estimate()` 함수를 이용하여 확인하라."
   ]
  },
  {
   "cell_type": "code",
   "execution_count": 1,
   "metadata": {},
   "outputs": [],
   "source": [
    "# 코드를 작성한다.\n",
    "# 필요하면 코드셀 또는 텍스트셀을 추가할 수 있습니다.\n"
   ]
  },
  {
   "cell_type": "markdown",
   "metadata": {},
   "source": [
    "(4) 문제 6의 그래프에서 옅은 빨강으로 표시된 영역에 포함된 샘플의 비율을 \n",
    "`P_estimate()`, `P_length()` 두 함수를 각각 이용하여 확인하고\n",
    "두 함숫값의 차이가 발생하는 이유를 설명하라."
   ]
  },
  {
   "cell_type": "code",
   "execution_count": 1,
   "metadata": {},
   "outputs": [],
   "source": [
    "# 코드를 작성한다.\n",
    "# 필요하면 코드셀 또는 텍스트셀을 추가할 수 있습니다.\n"
   ]
  }
 ],
 "metadata": {
  "kernelspec": {
   "display_name": "Python 3 (ipykernel)",
   "language": "python",
   "name": "python3"
  },
  "language_info": {
   "codemirror_mode": {
    "name": "ipython",
    "version": 3
   },
   "file_extension": ".py",
   "mimetype": "text/x-python",
   "name": "python",
   "nbconvert_exporter": "python",
   "pygments_lexer": "ipython3",
   "version": "3.12.2"
  },
  "toc": {
   "nav_menu": {},
   "number_sections": true,
   "sideBar": true,
   "skip_h1_title": false,
   "toc_cell": false,
   "toc_position": {},
   "toc_section_display": "block",
   "toc_window_display": false
  }
 },
 "nbformat": 4,
 "nbformat_minor": 2
}
