{
 "cells": [
  {
   "cell_type": "markdown",
   "metadata": {
    "ExecuteTime": {
     "end_time": "2018-03-06T03:37:40.696920Z",
     "start_time": "2018-03-06T03:37:40.690655Z"
    }
   },
   "source": [
    "# (연습) 기댓값과 분산"
   ]
  },
  {
   "cell_type": "markdown",
   "metadata": {},
   "source": [
    "**기본 설정**"
   ]
  },
  {
   "cell_type": "markdown",
   "metadata": {
    "ExecuteTime": {
     "end_time": "2018-08-03T08:26:15.690793Z",
     "start_time": "2018-08-03T08:26:15.507201Z"
    }
   },
   "source": [
    "Numpy와 Pandas 라이브러리를 각각 np와 pd로 불러온다."
   ]
  },
  {
   "cell_type": "code",
   "execution_count": 1,
   "metadata": {
    "ExecuteTime": {
     "end_time": "2018-08-14T06:43:30.149227Z",
     "start_time": "2018-08-14T06:43:29.960007Z"
    }
   },
   "outputs": [],
   "source": [
    "import numpy as np\n",
    "import pandas as pd"
   ]
  },
  {
   "cell_type": "markdown",
   "metadata": {},
   "source": [
    "데이터프레임의 [chained indexing을 금지시키기 위한 설정](https://pandas.pydata.org/pandas-docs/stable/user_guide/indexing.html#returning-a-view-versus-a-copy)을 지정한다.\n",
    "Pandas 3.0 버전부터는 기본 옵션으로 지정된다."
   ]
  },
  {
   "cell_type": "code",
   "execution_count": 2,
   "metadata": {},
   "outputs": [],
   "source": [
    "pd.options.mode.copy_on_write = True"
   ]
  },
  {
   "cell_type": "markdown",
   "metadata": {
    "ExecuteTime": {
     "end_time": "2018-08-14T06:43:30.149227Z",
     "start_time": "2018-08-14T06:43:29.960007Z"
    }
   },
   "source": [
    "주피터 노트북에서 부동소수점의 출력을 소수점 이하 6자리로 제한한다.\n",
    "아래 코드는 주피터 노트북에서만 사용하며 일반적인 파이썬 코드가 아니다."
   ]
  },
  {
   "cell_type": "code",
   "execution_count": 3,
   "metadata": {
    "ExecuteTime": {
     "end_time": "2018-08-14T06:43:30.149227Z",
     "start_time": "2018-08-14T06:43:29.960007Z"
    }
   },
   "outputs": [
    {
     "data": {
      "text/plain": [
       "'%.6f'"
      ]
     },
     "execution_count": 3,
     "metadata": {},
     "output_type": "execute_result"
    }
   ],
   "source": [
    "%precision 6"
   ]
  },
  {
   "cell_type": "markdown",
   "metadata": {
    "ExecuteTime": {
     "end_time": "2018-08-14T06:43:30.149227Z",
     "start_time": "2018-08-14T06:43:29.960007Z"
    }
   },
   "source": [
    "아래 코드는 데이터프레임 내에서 부동소수점의 출력을 소수점 이하 6자리로 제한한다."
   ]
  },
  {
   "cell_type": "code",
   "execution_count": 4,
   "metadata": {
    "ExecuteTime": {
     "end_time": "2018-08-14T06:43:30.149227Z",
     "start_time": "2018-08-14T06:43:29.960007Z"
    }
   },
   "outputs": [],
   "source": [
    "pd.set_option('display.precision', 6)"
   ]
  },
  {
   "cell_type": "markdown",
   "metadata": {},
   "source": [
    "데이터 시각화를 위해 `matplotlib.pyplot`를 `plt`라는 별칭으로 불러온다."
   ]
  },
  {
   "cell_type": "code",
   "execution_count": 5,
   "metadata": {},
   "outputs": [],
   "source": [
    "import matplotlib.pyplot as plt"
   ]
  },
  {
   "cell_type": "markdown",
   "metadata": {},
   "source": [
    "**데이터 저장소 디렉토리**"
   ]
  },
  {
   "cell_type": "markdown",
   "metadata": {},
   "source": [
    "코드에 사용되는 [데이터 저장소의 기본 디렉토리](https://github.com/codingalzi/DataSci/tree/master/data)를 지정한다."
   ]
  },
  {
   "cell_type": "code",
   "execution_count": 6,
   "metadata": {},
   "outputs": [],
   "source": [
    "data_url = 'https://raw.githubusercontent.com/codingalzi/DataSci/refs/heads/master/data/'"
   ]
  },
  {
   "cell_type": "markdown",
   "metadata": {},
   "source": [
    "**문제 1 (포아송 분포)**"
   ]
  },
  {
   "cell_type": "markdown",
   "metadata": {},
   "source": [
    "어떤 사건이 단위 시간 내에 발생하는 횟수를 가리키는 이산 확률 변수의 분포를\n",
    "**포아송 분포**<font size='2'>Poisson distribution</font>라 부른다.\n",
    "\n",
    "예를 들어, 일평균 $\\mu$ 명의 응급환자가 발생하는 병원에서 하룻동안 발생하는 응급환자의 수를\n",
    "확률 변수 `X`가 가리킨다고 하자.\n",
    "그러면 하루에 $x$ 명의 응급환자가 발생할 확률을 계산하는\n",
    "확률 질량 함수는 다음과 같다.\n",
    "\n",
    "$$\n",
    "f(x) = \\frac{\\mu^x\\, e^{-\\mu}}{x!}\n",
    "$$\n",
    "\n",
    "단, $x$는 음이 아닌 정수를 가리킨다.\n",
    "\n",
    "그러면 확률 변수 `X`에 대한 기댓값과 분산은 다음과 같다.\n",
    "\n",
    "$$\n",
    "E[X] = \\mu, \\qquad V(X) = \\mu\n",
    "$$"
   ]
  },
  {
   "cell_type": "markdown",
   "metadata": {},
   "source": [
    "아래 `poi()` 함수는 포아송 분포의 확률 질량 함수를 구현하며\n",
    "두 개의 매개 변수를 사용한다.\n",
    "\n",
    "- `mu`: $\\mu$ 에 해당하는 값, 즉 단위 시간 당 사건 평균 발생 횟수.\n",
    "- `x`: 확률 변수 $X$가 가리키는 값, 즉 단위 시간 당 사건 발생 횟수. 단 0에서 19까지만 값을 취함.\n",
    "    `x`가 20 이상이면 $f(x)$는 사실상 0으로 간주될 정도로 매우 작음."
   ]
  },
  {
   "cell_type": "code",
   "execution_count": 36,
   "metadata": {},
   "outputs": [],
   "source": [
    "from scipy.special import factorial\n",
    "\n",
    "def poi(mu, x):\n",
    "    if x in range(20):\n",
    "        return np.power(mu, x) * np.exp(-mu) / factorial(x)\n",
    "    else:\n",
    "        return 0"
   ]
  },
  {
   "cell_type": "markdown",
   "metadata": {},
   "source": [
    "하루 평균 5명의 응급환자가 발생한다고 가정하자.\n",
    "즉, $\\mu = 5$로 지정한다."
   ]
  },
  {
   "cell_type": "markdown",
   "metadata": {},
   "source": [
    "(1) 병원에서 하루에 2명의 응급환자가 발생할 확률을 계산하라."
   ]
  },
  {
   "cell_type": "markdown",
   "metadata": {},
   "source": [
    "답:"
   ]
  },
  {
   "cell_type": "code",
   "execution_count": 16,
   "metadata": {},
   "outputs": [
    {
     "data": {
      "text/plain": [
       "0.084224"
      ]
     },
     "execution_count": 16,
     "metadata": {},
     "output_type": "execute_result"
    }
   ],
   "source": [
    "poi(5, 2)"
   ]
  },
  {
   "cell_type": "markdown",
   "metadata": {},
   "source": [
    "(2) 병원에서 하루에 3명에서 5명 사이의 응급환자가 발생할 확률을 계산하라."
   ]
  },
  {
   "cell_type": "markdown",
   "metadata": {},
   "source": [
    "답:"
   ]
  },
  {
   "cell_type": "code",
   "execution_count": 17,
   "metadata": {},
   "outputs": [
    {
     "data": {
      "text/plain": [
       "0.491309"
      ]
     },
     "execution_count": 17,
     "metadata": {},
     "output_type": "execute_result"
    }
   ],
   "source": [
    "np.sum([poi(5, x) for x in range(3, 6)])"
   ]
  },
  {
   "cell_type": "markdown",
   "metadata": {},
   "source": [
    "(3) 확률 변수 `X`의 기댓값과 분산이 5로 계산됨을 확인하라."
   ]
  },
  {
   "cell_type": "markdown",
   "metadata": {},
   "source": [
    "답:"
   ]
  },
  {
   "cell_type": "markdown",
   "metadata": {},
   "source": [
    "- 기댓값"
   ]
  },
  {
   "cell_type": "code",
   "execution_count": 18,
   "metadata": {},
   "outputs": [
    {
     "name": "stdout",
     "output_type": "stream",
     "text": [
      "기댓값: 5.00\n"
     ]
    }
   ],
   "source": [
    "mu_poi5 = np.sum([x * poi(5, x) for x in range(20)])\n",
    "print(f\"기댓값: {mu_poi5:.2f}\")"
   ]
  },
  {
   "cell_type": "markdown",
   "metadata": {},
   "source": [
    "- 분산"
   ]
  },
  {
   "cell_type": "code",
   "execution_count": 19,
   "metadata": {},
   "outputs": [
    {
     "name": "stdout",
     "output_type": "stream",
     "text": [
      "분산: 5.00\n"
     ]
    }
   ],
   "source": [
    "V_poi5 = np.sum([(x - mu_poi5)**2 * poi(5, x) for x in range(20)])\n",
    "print(f\"분산: {V_poi5:.2f}\")"
   ]
  },
  {
   "cell_type": "markdown",
   "metadata": {},
   "source": [
    "(4) 확률 변수 `X`의 확률 분포, 즉 $\\mu=5$일 때의 포아송 분포를 (막대) 그래프로 그려라."
   ]
  },
  {
   "cell_type": "markdown",
   "metadata": {},
   "source": [
    "답:"
   ]
  },
  {
   "cell_type": "code",
   "execution_count": 31,
   "metadata": {},
   "outputs": [
    {
     "data": {
      "image/png": "[encoded data removed]",
      "text/plain": [
       "<Figure size 640x480 with 1 Axes>"
      ]
     },
     "metadata": {},
     "output_type": "display_data"
    }
   ],
   "source": [
    "fig = plt.figure()\n",
    "ax = fig.add_subplot(111)\n",
    "\n",
    "xs = np.arange(20)\n",
    "ys = np.array([poi(5, x) for x in xs])\n",
    "\n",
    "ax.bar(xs, ys)\n",
    "ax.set_title('Poisson distribution')\n",
    "ax.set_xlabel('# of patients')\n",
    "ax.set_ylabel('Probability')\n",
    "\n",
    "ax.set_xticks(np.arange(20))\n",
    "ax.set_xticklabels(range(0,20))\n",
    "\n",
    "plt.show()"
   ]
  },
  {
   "cell_type": "markdown",
   "metadata": {},
   "source": [
    "아래 그래프는 포아송 분포와 함께 기댓값도 함께 표시한다."
   ]
  },
  {
   "cell_type": "code",
   "execution_count": 29,
   "metadata": {},
   "outputs": [
    {
     "data": {
      "image/png": "[encoded data removed]",
      "text/plain": [
       "<Figure size 640x480 with 1 Axes>"
      ]
     },
     "metadata": {},
     "output_type": "display_data"
    }
   ],
   "source": [
    "fig = plt.figure()\n",
    "ax = fig.add_subplot(111)\n",
    "\n",
    "xs = np.arange(20)\n",
    "ys = np.array([poi(5, x) for x in xs])\n",
    "\n",
    "ax.bar(xs, ys, label=r'poi($\\mu=5$)')\n",
    "ax.set_title('Poisson distribution')\n",
    "ax.set_xlabel('# of patients')\n",
    "ax.set_ylabel('Probability')\n",
    "\n",
    "ax.vlines(mu_poi5, 0, max(ys)+0.005, label='E[X]', color='red')\n",
    "\n",
    "ax.set_xticks(np.arange(20))\n",
    "ax.set_xticklabels(range(0,20))\n",
    "ax.set_ylim(0, max(ys)+0.01)\n",
    "\n",
    "ax.legend()\n",
    "\n",
    "plt.show()"
   ]
  },
  {
   "cell_type": "markdown",
   "metadata": {},
   "source": [
    "**문제 2**"
   ]
  },
  {
   "cell_type": "markdown",
   "metadata": {},
   "source": [
    "`scipy.stats` 모듈의 `poisson` 객체가 포아송 분포를 가리킨다.\n",
    "`poisson` 은 `scipy.stats` 모듈의 `rv_discrete` 클래스의 인스턴스로 선언된 객체며,\n",
    "확률 밀도 함수(pmf), 누적 분포 함수(cdf) 등 이산 확률 분포의 기본 기능을 함께 제공한다."
   ]
  },
  {
   "cell_type": "code",
   "execution_count": 35,
   "metadata": {},
   "outputs": [],
   "source": [
    "from scipy.stats import poisson"
   ]
  },
  {
   "cell_type": "markdown",
   "metadata": {},
   "source": [
    "예를 들어, `mu=5`일 때의 포아송 분포를 다음과 같이 정의할 수 있다."
   ]
  },
  {
   "cell_type": "code",
   "execution_count": 41,
   "metadata": {},
   "outputs": [],
   "source": [
    "mu = 5\n",
    "\n",
    "rv_poi5 = poisson(mu)"
   ]
  },
  {
   "cell_type": "markdown",
   "metadata": {},
   "source": [
    "`poisson` 객체의 `pmf()` 메서드, `cdf()` 메서드가\n",
    "각각 확률 밀도 함수, 누적 분포 함수를 가리킨다.\n",
    "`mu=5`일 때의 포아송 분포의 막대그래프를 그리면 앞서 그린 그래프와 동일하게 그려진다.\n",
    "여기서도 `range(20)`을 확률 변수의 범위로 지정한다."
   ]
  },
  {
   "cell_type": "code",
   "execution_count": 43,
   "metadata": {},
   "outputs": [
    {
     "data": {
      "image/png": "[encoded data removed]",
      "text/plain": [
       "<Figure size 640x480 with 1 Axes>"
      ]
     },
     "metadata": {},
     "output_type": "display_data"
    }
   ],
   "source": [
    "fig = plt.figure()\n",
    "ax = fig.add_subplot(111)\n",
    "\n",
    "ax.bar(xs, rv_poi5.pmf(xs))\n",
    "ax.set_title('Poisson distribution')\n",
    "ax.set_xlabel('# of patients')\n",
    "ax.set_ylabel('Probability')\n",
    "\n",
    "ax.set_xticks(np.arange(20))\n",
    "ax.set_xticklabels(range(0,20))\n",
    "\n",
    "plt.show()"
   ]
  },
  {
   "cell_type": "markdown",
   "metadata": {},
   "source": [
    "**문제 3**"
   ]
  },
  {
   "cell_type": "markdown",
   "metadata": {},
   "source": [
    "아래 코드는 타이타닉호의 승객에 대한 정보와 생존 여부를 담은 데이터셋을 불러와서\n",
    "다음 전처리를 실행한다.\n",
    "코드에 대한 보다 자세한 설명은\n",
    "[(연습) 인산 확률 분포](https://colab.research.google.com/github/codingalzi/DataSci/blob/master/practices/practice-probability_discrete.ipynb)를\n",
    "참고한다.\n",
    "\n",
    "- `PassengerId` 특성을 인덱스로 지정\n",
    "- `Embarked` 특성의 결측치를 모두 해당 특성의 최빈값으로 대체\n",
    "- `Age` 특성의 결측치를 성(Sex)별 중앙값으로 대체\n",
    "- `Age` 특성을 10살 단위로 구분하는 연령구간을 지정하여 `Age_Bucket` 특성으로 추가"
   ]
  },
  {
   "cell_type": "code",
   "execution_count": 7,
   "metadata": {},
   "outputs": [],
   "source": [
    "titanic = pd.read_csv(data_url+\"titanic.csv\")\n",
    "titanic = titanic.set_index(\"PassengerId\")\n",
    "\n",
    "embarked_mode =(titanic['Embarked'].mode().values)[0]\n",
    "titanic['Embarked'] = titanic['Embarked'].fillna(embarked_mode)\n",
    "\n",
    "f_mask = titanic[\"Sex\"]==\"female\"\n",
    "f_age_median = titanic.loc[f_mask, \"Age\"].median()\n",
    "m_age_median = titanic.loc[~f_mask, \"Age\"].median()\n",
    "\n",
    "titanic.loc[f_mask, 'Age'] = titanic.loc[f_mask, 'Age'].fillna(f_age_median)\n",
    "titanic.loc[~f_mask, 'Age'] = titanic.loc[~f_mask, 'Age'].fillna(m_age_median)\n",
    "\n",
    "titanic['Age_Bucket'] = (titanic[\"Age\"] // 10 * 10).astype('i8')"
   ]
  },
  {
   "cell_type": "markdown",
   "metadata": {},
   "source": [
    "확률 변수 $X$가 타이타닉 데이터셋에서 임의로 선택된 사람의 나이대를 가리킨다고 하면\n",
    "아래 `prob_age` 변수가 확률 변수 `X`에 대한 확률 분포를,\n",
    "`f_age()` 함수는 확률 질량 함수를 가리킨다."
   ]
  },
  {
   "cell_type": "code",
   "execution_count": 8,
   "metadata": {},
   "outputs": [],
   "source": [
    "age_stratified_count = titanic.loc[:, ['Age_Bucket', 'Age']].groupby('Age_Bucket', observed=True, group_keys=True).count()\n",
    "age_stratified_ratio = age_stratified_count / len(titanic)\n",
    "\n",
    "# 데이터프레임으로 변환\n",
    "prob_age = age_stratified_ratio.iloc[:, 0:1]\n",
    "# 컬럼과 인덱스 이름 지정\n",
    "prob_age.columns = ['확률']\n",
    "prob_age.index.name = 'X'\n",
    "\n",
    "# 가로형의 데이터프레임으로 변환\n",
    "prob_age = prob_age.T"
   ]
  },
  {
   "cell_type": "code",
   "execution_count": 9,
   "metadata": {},
   "outputs": [
    {
     "data": {
      "text/html": [
       "<div>\n",
       "<style scoped>\n",
       "    .dataframe tbody tr th:only-of-type {\n",
       "        vertical-align: middle;\n",
       "    }\n",
       "\n",
       "    .dataframe tbody tr th {\n",
       "        vertical-align: top;\n",
       "    }\n",
       "\n",
       "    .dataframe thead th {\n",
       "        text-align: right;\n",
       "    }\n",
       "</style>\n",
       "<table border=\"1\" class=\"dataframe\">\n",
       "  <thead>\n",
       "    <tr style=\"text-align: right;\">\n",
       "      <th>X</th>\n",
       "      <th>0</th>\n",
       "      <th>10</th>\n",
       "      <th>20</th>\n",
       "      <th>30</th>\n",
       "      <th>40</th>\n",
       "      <th>50</th>\n",
       "      <th>60</th>\n",
       "      <th>70</th>\n",
       "      <th>80</th>\n",
       "    </tr>\n",
       "  </thead>\n",
       "  <tbody>\n",
       "    <tr>\n",
       "      <th>확률</th>\n",
       "      <td>0.069585</td>\n",
       "      <td>0.114478</td>\n",
       "      <td>0.445567</td>\n",
       "      <td>0.18743</td>\n",
       "      <td>0.099888</td>\n",
       "      <td>0.053872</td>\n",
       "      <td>0.021324</td>\n",
       "      <td>0.006734</td>\n",
       "      <td>0.001122</td>\n",
       "    </tr>\n",
       "  </tbody>\n",
       "</table>\n",
       "</div>"
      ],
      "text/plain": [
       "X         0         10        20       30        40        50        60  \\\n",
       "확률  0.069585  0.114478  0.445567  0.18743  0.099888  0.053872  0.021324   \n",
       "\n",
       "X         70        80  \n",
       "확률  0.006734  0.001122  "
      ]
     },
     "execution_count": 9,
     "metadata": {},
     "output_type": "execute_result"
    }
   ],
   "source": [
    "prob_age"
   ]
  },
  {
   "cell_type": "markdown",
   "metadata": {},
   "source": [
    "(1) 확률 변수 `X`의 확률 분포를 그래프로 그려라."
   ]
  },
  {
   "cell_type": "markdown",
   "metadata": {},
   "source": [
    "답:"
   ]
  },
  {
   "cell_type": "markdown",
   "metadata": {},
   "source": [
    "`prob_age`를 이용하여 막대그래프를 그린다."
   ]
  },
  {
   "cell_type": "code",
   "execution_count": 33,
   "metadata": {},
   "outputs": [
    {
     "data": {
      "image/png": "[encoded data removed]",
      "text/plain": [
       "<Figure size 640x480 with 1 Axes>"
      ]
     },
     "metadata": {},
     "output_type": "display_data"
    }
   ],
   "source": [
    "fig = plt.figure()\n",
    "ax = fig.add_subplot(111)\n",
    "\n",
    "prob_age.T.plot(ax=ax, kind='bar', rot=0, legend=False, width=.7)\n",
    "ax.set_title('Age distribution')\n",
    "ax.set_xlabel('Ages')\n",
    "ax.set_ylabel('Probability')\n",
    "\n",
    "plt.show()"
   ]
  },
  {
   "cell_type": "code",
   "execution_count": 10,
   "metadata": {},
   "outputs": [],
   "source": [
    "def f_age(x):\n",
    "    return prob_age[x].iloc[0]"
   ]
  },
  {
   "cell_type": "markdown",
   "metadata": {},
   "source": [
    "(2) 확률 변수 `X`의 기댓값을 가리키는 변수 `mu_age`를 선언하라."
   ]
  },
  {
   "cell_type": "markdown",
   "metadata": {},
   "source": [
    "답:"
   ]
  },
  {
   "cell_type": "markdown",
   "metadata": {},
   "source": [
    "기댓값 계산을 위해 아래 정의를 이용한다.\n",
    "\n",
    "$$\n",
    "E[X] = x_1 \\, f(x_1) + \\cdots + x_n \\, f(x_n) = \\sum_{i=1}^{n} x_i \\, f(x_i) \\\\[.5ex]\n",
    "$$"
   ]
  },
  {
   "cell_type": "code",
   "execution_count": 11,
   "metadata": {},
   "outputs": [
    {
     "name": "stdout",
     "output_type": "stream",
     "text": [
      "나이 기댓값: 24.2살\n"
     ]
    }
   ],
   "source": [
    "mu_age = np.sum([x * f_age(x) for x in range(0, 81, 10)])\n",
    "print(f\"나이 기댓값: {mu_age:.1f}살\")"
   ]
  },
  {
   "cell_type": "markdown",
   "metadata": {},
   "source": [
    "(3) 확률 변수 `X`의 표준편차를 가리키는 변수 `sigma_age`를 선언하라."
   ]
  },
  {
   "cell_type": "markdown",
   "metadata": {},
   "source": [
    "답:"
   ]
  },
  {
   "cell_type": "markdown",
   "metadata": {},
   "source": [
    "분산 계산을 위해 아래 정의를 이용한 다음에 제곱근을 계산하면 표준편차를 얻는다.\n",
    "\n",
    "$$\n",
    "V(X) = E[(X - \\mu_X)^2] = \\sum_{i=1}^n (x_i -\\mu_X)^2 \\, f(x_i)\n",
    "$$"
   ]
  },
  {
   "cell_type": "code",
   "execution_count": 12,
   "metadata": {},
   "outputs": [
    {
     "name": "stdout",
     "output_type": "stream",
     "text": [
      "나이 표준편차: 13.6살\n"
     ]
    }
   ],
   "source": [
    "V_age = np.sum([(x - mu_age)**2 * f_age(x) for x in range(0, 81, 10)])\n",
    "sigma_age = np.sqrt(V_age)\n",
    "\n",
    "print(f\"나이 표준편차: {sigma_age:.1f}살\")"
   ]
  },
  {
   "cell_type": "markdown",
   "metadata": {},
   "source": [
    "(4) 확률 변수 `X`가 가리키는 나이대는 10살 기준으로 구분하였다.\n",
    "나이대별 평균 나이를 가리키는 확률 변수 `Y`를 확률 변수 `X`의 선형 변환으로 정의하라."
   ]
  },
  {
   "cell_type": "markdown",
   "metadata": {},
   "source": [
    "답:"
   ]
  },
  {
   "cell_type": "markdown",
   "metadata": {},
   "source": [
    "사람들의 실제 나이는 나이대별로 평균적으로 5살을 더하는 게 적절해 보인다\n",
    "따라서 확률 변수 `X`에 5를 더하여 확률 변수 $Y$를 지정한다.\n",
    "\n",
    "$$\n",
    "Y = X + 5\n",
    "$$"
   ]
  },
  {
   "cell_type": "markdown",
   "metadata": {},
   "source": [
    "(5) 확률 변수 `Y`의 기댓값과 표준편차를 확률 변수 선형 변환 공식을 이용하여 계산하라."
   ]
  },
  {
   "cell_type": "markdown",
   "metadata": {},
   "source": [
    "답:"
   ]
  },
  {
   "cell_type": "markdown",
   "metadata": {},
   "source": [
    "확률 변수 $Y = a\\, X + b$의 기댓값, 분산, 표준편차는 다음과 같이 계산된다."
   ]
  },
  {
   "cell_type": "markdown",
   "metadata": {},
   "source": [
    "$$\n",
    "\\begin{align*}\n",
    "E[Y] &= a \\,E[X] + b \\\\[1ex]\n",
    "V(Y) &= a^2 \\, V(X) \\\\[1ex]\n",
    "\\sigma_Y &= |a|\\, \\sigma_X\n",
    "\\end{align*}\n",
    "$$"
   ]
  },
  {
   "cell_type": "markdown",
   "metadata": {},
   "source": [
    "- 나이대별 평균 나이의 기댓값"
   ]
  },
  {
   "cell_type": "code",
   "execution_count": 13,
   "metadata": {},
   "outputs": [
    {
     "data": {
      "text/plain": [
       "29.208754"
      ]
     },
     "execution_count": 13,
     "metadata": {},
     "output_type": "execute_result"
    }
   ],
   "source": [
    "mu_Y = mu_age + 5\n",
    "mu_Y"
   ]
  },
  {
   "cell_type": "markdown",
   "metadata": {},
   "source": [
    "- 나이대별 평균 나이의 표준편차"
   ]
  },
  {
   "cell_type": "code",
   "execution_count": 14,
   "metadata": {},
   "outputs": [
    {
     "data": {
      "text/plain": [
       "13.555273"
      ]
     },
     "execution_count": 14,
     "metadata": {},
     "output_type": "execute_result"
    }
   ],
   "source": [
    "sigma_Y = sigma_age\n",
    "sigma_Y"
   ]
  }
 ],
 "metadata": {
  "kernelspec": {
   "display_name": "Python 3 (ipykernel)",
   "language": "python",
   "name": "python3"
  },
  "language_info": {
   "codemirror_mode": {
    "name": "ipython",
    "version": 3
   },
   "file_extension": ".py",
   "mimetype": "text/x-python",
   "name": "python",
   "nbconvert_exporter": "python",
   "pygments_lexer": "ipython3",
   "version": "3.12.2"
  },
  "toc": {
   "nav_menu": {},
   "number_sections": true,
   "sideBar": true,
   "skip_h1_title": false,
   "toc_cell": false,
   "toc_position": {},
   "toc_section_display": "block",
   "toc_window_display": false
  }
 },
 "nbformat": 4,
 "nbformat_minor": 2
}
