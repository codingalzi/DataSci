{
 "cells": [
  {
   "cell_type": "markdown",
   "id": "4ba112a7",
   "metadata": {},
   "source": [
    "# (연습) 1차원 데이터"
   ]
  },
  {
   "cell_type": "markdown",
   "id": "d9f08d8d",
   "metadata": {},
   "source": [
    "**준비사항**"
   ]
  },
  {
   "cell_type": "markdown",
   "id": "a29b94a7",
   "metadata": {
    "ExecuteTime": {
     "end_time": "2018-08-03T08:26:15.690793Z",
     "start_time": "2018-08-03T08:26:15.507201Z"
    }
   },
   "source": [
    "Numpy와 Pandas 라이브러리를 각각 np와 pd라는 별칭으로 불러온다"
   ]
  },
  {
   "cell_type": "code",
   "execution_count": 1,
   "id": "f379aa57",
   "metadata": {
    "ExecuteTime": {
     "end_time": "2018-08-03T08:26:15.690793Z",
     "start_time": "2018-08-03T08:26:15.507201Z"
    }
   },
   "outputs": [],
   "source": [
    "import numpy as np\n",
    "import pandas as pd"
   ]
  },
  {
   "cell_type": "markdown",
   "id": "350b6f17",
   "metadata": {},
   "source": [
    "`matplotlib.pyplot`은 막대그래프, 히스토그램, 산점도 등 데이터를 그래프로 시각화할 때 필요한\n",
    "다양한 함수를 제공하는 모듈이다."
   ]
  },
  {
   "cell_type": "code",
   "execution_count": 2,
   "id": "ee21de7a",
   "metadata": {},
   "outputs": [],
   "source": [
    "import matplotlib.pyplot as plt\n",
    "\n",
    "# 그래프 설정\n",
    "plt.rc('figure', figsize=(10, 6))  # 그래프 크기 지정"
   ]
  },
  {
   "cell_type": "markdown",
   "id": "4fc6eb8b",
   "metadata": {},
   "source": [
    "**데이터 저장소 디렉토리**"
   ]
  },
  {
   "cell_type": "markdown",
   "id": "cba6842c",
   "metadata": {},
   "source": [
    "코드에 사용되는 데이터 저장소의 기본 디렉토리를 지정한다."
   ]
  },
  {
   "cell_type": "code",
   "execution_count": 3,
   "id": "919b4f38",
   "metadata": {},
   "outputs": [],
   "source": [
    "data_url = 'https://raw.githubusercontent.com/codingalzi/DataSci/refs/heads/master/data/'"
   ]
  },
  {
   "cell_type": "markdown",
   "id": "451e25d5",
   "metadata": {},
   "source": [
    "**문제 1**"
   ]
  },
  {
   "cell_type": "markdown",
   "id": "95423de5",
   "metadata": {},
   "source": [
    "기본 데이터 저장소에 있는 `sc_weir.csv` 파일은\n",
    "광주광력시에서부터 전라남도 나주를 거쳐 서해까지 이어지는 영산강에 설치된 승촌보에서 측정한 \n",
    "두 종류의 데이터를 담고 있다.\n",
    "\n",
    "- `Chl-a`: 녹조 발생의 주요 요인인 클로로필-A의 수치 100개\n",
    "- `Discharge`: 보에서 방출되는 시간당 방류량 수치 100개\n",
    "\n",
    "클로로필-A 농도가 높을 수록 수질(water quality)이 나빠지며, 방류량이 많을 수록 클로로필-A 농도는 일반적으로 떨어지며,\n",
    "두 데이터 사이의 상관관계를 확인하기 위해 수집되었다."
   ]
  },
  {
   "cell_type": "code",
   "execution_count": 4,
   "id": "0371bd73",
   "metadata": {},
   "outputs": [
    {
     "data": {
      "text/html": [
       "<div>\n",
       "<style scoped>\n",
       "    .dataframe tbody tr th:only-of-type {\n",
       "        vertical-align: middle;\n",
       "    }\n",
       "\n",
       "    .dataframe tbody tr th {\n",
       "        vertical-align: top;\n",
       "    }\n",
       "\n",
       "    .dataframe thead th {\n",
       "        text-align: right;\n",
       "    }\n",
       "</style>\n",
       "<table border=\"1\" class=\"dataframe\">\n",
       "  <thead>\n",
       "    <tr style=\"text-align: right;\">\n",
       "      <th></th>\n",
       "      <th>Chl-a</th>\n",
       "      <th>Discharge</th>\n",
       "    </tr>\n",
       "  </thead>\n",
       "  <tbody>\n",
       "    <tr>\n",
       "      <th>0</th>\n",
       "      <td>51</td>\n",
       "      <td>25</td>\n",
       "    </tr>\n",
       "    <tr>\n",
       "      <th>1</th>\n",
       "      <td>51</td>\n",
       "      <td>25</td>\n",
       "    </tr>\n",
       "    <tr>\n",
       "      <th>2</th>\n",
       "      <td>53</td>\n",
       "      <td>24</td>\n",
       "    </tr>\n",
       "    <tr>\n",
       "      <th>3</th>\n",
       "      <td>53</td>\n",
       "      <td>24</td>\n",
       "    </tr>\n",
       "    <tr>\n",
       "      <th>4</th>\n",
       "      <td>54</td>\n",
       "      <td>22</td>\n",
       "    </tr>\n",
       "    <tr>\n",
       "      <th>...</th>\n",
       "      <td>...</td>\n",
       "      <td>...</td>\n",
       "    </tr>\n",
       "    <tr>\n",
       "      <th>95</th>\n",
       "      <td>122</td>\n",
       "      <td>9</td>\n",
       "    </tr>\n",
       "    <tr>\n",
       "      <th>96</th>\n",
       "      <td>122</td>\n",
       "      <td>9</td>\n",
       "    </tr>\n",
       "    <tr>\n",
       "      <th>97</th>\n",
       "      <td>124</td>\n",
       "      <td>49</td>\n",
       "    </tr>\n",
       "    <tr>\n",
       "      <th>98</th>\n",
       "      <td>125</td>\n",
       "      <td>9</td>\n",
       "    </tr>\n",
       "    <tr>\n",
       "      <th>99</th>\n",
       "      <td>124</td>\n",
       "      <td>9</td>\n",
       "    </tr>\n",
       "  </tbody>\n",
       "</table>\n",
       "<p>100 rows × 2 columns</p>\n",
       "</div>"
      ],
      "text/plain": [
       "    Chl-a  Discharge\n",
       "0      51         25\n",
       "1      51         25\n",
       "2      53         24\n",
       "3      53         24\n",
       "4      54         22\n",
       "..    ...        ...\n",
       "95    122          9\n",
       "96    122          9\n",
       "97    124         49\n",
       "98    125          9\n",
       "99    124          9\n",
       "\n",
       "[100 rows x 2 columns]"
      ]
     },
     "execution_count": 4,
     "metadata": {},
     "output_type": "execute_result"
    }
   ],
   "source": [
    "sc_weir_df = pd.read_csv(data_url+'sc_weir.csv')\n",
    "sc_weir_df"
   ]
  },
  {
   "cell_type": "markdown",
   "id": "e1c8ab90",
   "metadata": {},
   "source": [
    "**데이터프레임 `values` 속성**"
   ]
  },
  {
   "cell_type": "markdown",
   "id": "c76aa34b",
   "metadata": {},
   "source": [
    "데이터프레임의 `values` 속성은 행과 열의 정보를 제외한 항목들로만 구성된\n",
    "동일한 모양의 넘파이 어레이를 가리킨다."
   ]
  },
  {
   "cell_type": "code",
   "execution_count": 5,
   "id": "68363152",
   "metadata": {},
   "outputs": [],
   "source": [
    "sc_weir_arr = sc_weir_df.values"
   ]
  },
  {
   "cell_type": "code",
   "execution_count": 6,
   "id": "626b60e1",
   "metadata": {},
   "outputs": [
    {
     "data": {
      "text/plain": [
       "(100, 2)"
      ]
     },
     "execution_count": 6,
     "metadata": {},
     "output_type": "execute_result"
    }
   ],
   "source": [
    "sc_weir_arr.shape"
   ]
  },
  {
   "cell_type": "markdown",
   "id": "1f10e808",
   "metadata": {},
   "source": [
    "처음 10개의 항목은 다음과 같다."
   ]
  },
  {
   "cell_type": "code",
   "execution_count": 7,
   "id": "6413e485",
   "metadata": {},
   "outputs": [
    {
     "data": {
      "text/plain": [
       "array([[51, 25],\n",
       "       [51, 25],\n",
       "       [53, 24],\n",
       "       [53, 24],\n",
       "       [54, 22],\n",
       "       [55, 22],\n",
       "       [57, 21],\n",
       "       [57, 21],\n",
       "       [59, 20],\n",
       "       [60, 20]])"
      ]
     },
     "execution_count": 7,
     "metadata": {},
     "output_type": "execute_result"
    }
   ],
   "source": [
    "sc_weir_arr[:10]"
   ]
  },
  {
   "cell_type": "markdown",
   "id": "b354d2bf",
   "metadata": {},
   "source": [
    "(1) 방류량의 평균값을 계산하라."
   ]
  },
  {
   "cell_type": "markdown",
   "id": "6f40a0cc",
   "metadata": {},
   "source": [
    "답:"
   ]
  },
  {
   "cell_type": "markdown",
   "id": "7651f717",
   "metadata": {},
   "source": [
    "- 넘파이 활용\n",
    "\n",
    "방류량은 1번 열의 데이터다."
   ]
  },
  {
   "cell_type": "code",
   "execution_count": 8,
   "id": "f93015c1",
   "metadata": {},
   "outputs": [],
   "source": [
    "discharge_arr = sc_weir_arr[:, 1]"
   ]
  },
  {
   "cell_type": "code",
   "execution_count": 9,
   "id": "a0f49cde",
   "metadata": {},
   "outputs": [
    {
     "data": {
      "text/plain": [
       "14.93"
      ]
     },
     "execution_count": 9,
     "metadata": {},
     "output_type": "execute_result"
    }
   ],
   "source": [
    "np.mean(discharge_arr)"
   ]
  },
  {
   "cell_type": "markdown",
   "id": "cc70739a",
   "metadata": {},
   "source": [
    "- 데이터프레임 활용"
   ]
  },
  {
   "cell_type": "code",
   "execution_count": 10,
   "id": "1ddbe386",
   "metadata": {},
   "outputs": [
    {
     "data": {
      "text/plain": [
       "14.93"
      ]
     },
     "execution_count": 10,
     "metadata": {},
     "output_type": "execute_result"
    }
   ],
   "source": [
    "sc_weir_df['Discharge'].mean()"
   ]
  },
  {
   "cell_type": "code",
   "execution_count": 11,
   "id": "8ccd7f99",
   "metadata": {},
   "outputs": [
    {
     "data": {
      "text/plain": [
       "14.93"
      ]
     },
     "execution_count": 11,
     "metadata": {},
     "output_type": "execute_result"
    }
   ],
   "source": [
    "desc = sc_weir_df.describe()\n",
    "mean_desc = desc.loc['mean']\n",
    "mean_desc['Discharge']"
   ]
  },
  {
   "cell_type": "markdown",
   "id": "16dc162e",
   "metadata": {},
   "source": [
    "(2) 방류량의 중앙값을 계산하라."
   ]
  },
  {
   "cell_type": "markdown",
   "id": "0f036f07",
   "metadata": {},
   "source": [
    "- 넘파이 활용"
   ]
  },
  {
   "cell_type": "code",
   "execution_count": 12,
   "id": "756a815e",
   "metadata": {},
   "outputs": [
    {
     "data": {
      "text/plain": [
       "13.0"
      ]
     },
     "execution_count": 12,
     "metadata": {},
     "output_type": "execute_result"
    }
   ],
   "source": [
    "np.median(discharge_arr)"
   ]
  },
  {
   "cell_type": "markdown",
   "id": "bcc70cfe",
   "metadata": {},
   "source": [
    "- 데이터프레임 활용"
   ]
  },
  {
   "cell_type": "code",
   "execution_count": 13,
   "id": "ba41fbd1",
   "metadata": {},
   "outputs": [
    {
     "data": {
      "text/plain": [
       "13.0"
      ]
     },
     "execution_count": 13,
     "metadata": {},
     "output_type": "execute_result"
    }
   ],
   "source": [
    "sc_weir_df['Discharge'].median()"
   ]
  },
  {
   "cell_type": "code",
   "execution_count": 14,
   "id": "6f6284a6",
   "metadata": {},
   "outputs": [
    {
     "data": {
      "text/plain": [
       "13.0"
      ]
     },
     "execution_count": 14,
     "metadata": {},
     "output_type": "execute_result"
    }
   ],
   "source": [
    "desc = sc_weir_df.describe()\n",
    "median_desc = desc.loc['50%']\n",
    "median_desc['Discharge']"
   ]
  },
  {
   "cell_type": "markdown",
   "id": "b72a49d8",
   "metadata": {},
   "source": [
    "(3) 방류량의 최빈값을 계산하라."
   ]
  },
  {
   "cell_type": "markdown",
   "id": "be10884a",
   "metadata": {},
   "source": [
    "- 넘파이 활용: 지원되지 않음."
   ]
  },
  {
   "cell_type": "markdown",
   "id": "193eb39f",
   "metadata": {},
   "source": [
    "- 데이터프레임 활용"
   ]
  },
  {
   "cell_type": "code",
   "execution_count": 15,
   "id": "56e5b8fa",
   "metadata": {},
   "outputs": [
    {
     "data": {
      "text/plain": [
       "0    11\n",
       "Name: Discharge, dtype: int64"
      ]
     },
     "execution_count": 15,
     "metadata": {},
     "output_type": "execute_result"
    }
   ],
   "source": [
    "sc_weir_df['Discharge'].mode()"
   ]
  },
  {
   "cell_type": "code",
   "execution_count": 16,
   "id": "1dbcdcfb",
   "metadata": {},
   "outputs": [],
   "source": [
    "mode_desc = sc_weir_df['Discharge'].mode()"
   ]
  },
  {
   "cell_type": "code",
   "execution_count": 17,
   "id": "d3c788c0",
   "metadata": {},
   "outputs": [
    {
     "data": {
      "text/plain": [
       "pandas.core.series.Series"
      ]
     },
     "execution_count": 17,
     "metadata": {},
     "output_type": "execute_result"
    }
   ],
   "source": [
    "type(mode_desc)"
   ]
  },
  {
   "cell_type": "code",
   "execution_count": 18,
   "id": "7ba3124d",
   "metadata": {},
   "outputs": [
    {
     "data": {
      "text/plain": [
       "RangeIndex(start=0, stop=1, step=1)"
      ]
     },
     "execution_count": 18,
     "metadata": {},
     "output_type": "execute_result"
    }
   ],
   "source": [
    "mode_desc.index"
   ]
  },
  {
   "cell_type": "code",
   "execution_count": 19,
   "id": "7d2d9854",
   "metadata": {},
   "outputs": [
    {
     "data": {
      "text/plain": [
       "11"
      ]
     },
     "execution_count": 19,
     "metadata": {},
     "output_type": "execute_result"
    }
   ],
   "source": [
    "mode_desc[0]"
   ]
  },
  {
   "cell_type": "markdown",
   "id": "30081d43",
   "metadata": {},
   "source": [
    "(4) 방류량의 제1, 제3 사분위수를 계산하라."
   ]
  },
  {
   "cell_type": "markdown",
   "id": "905ae0d5",
   "metadata": {},
   "source": [
    "- 넘파이 활용"
   ]
  },
  {
   "cell_type": "code",
   "execution_count": 20,
   "id": "a596f14e",
   "metadata": {},
   "outputs": [
    {
     "name": "stdout",
     "output_type": "stream",
     "text": [
      "11.0\n",
      "16.0\n"
     ]
    }
   ],
   "source": [
    "Q1 = np.percentile(discharge_arr, 25)\n",
    "Q3 = np.percentile(discharge_arr, 75)\n",
    "print(Q1, Q3, sep='\\n')"
   ]
  },
  {
   "cell_type": "markdown",
   "id": "f8c99daf",
   "metadata": {},
   "source": [
    "- 데이터프레임 활용"
   ]
  },
  {
   "cell_type": "code",
   "execution_count": 21,
   "id": "7ce74e81",
   "metadata": {},
   "outputs": [
    {
     "data": {
      "text/html": [
       "<div>\n",
       "<style scoped>\n",
       "    .dataframe tbody tr th:only-of-type {\n",
       "        vertical-align: middle;\n",
       "    }\n",
       "\n",
       "    .dataframe tbody tr th {\n",
       "        vertical-align: top;\n",
       "    }\n",
       "\n",
       "    .dataframe thead th {\n",
       "        text-align: right;\n",
       "    }\n",
       "</style>\n",
       "<table border=\"1\" class=\"dataframe\">\n",
       "  <thead>\n",
       "    <tr style=\"text-align: right;\">\n",
       "      <th></th>\n",
       "      <th>Chl-a</th>\n",
       "      <th>Discharge</th>\n",
       "    </tr>\n",
       "  </thead>\n",
       "  <tbody>\n",
       "    <tr>\n",
       "      <th>25%</th>\n",
       "      <td>74.5</td>\n",
       "      <td>11.0</td>\n",
       "    </tr>\n",
       "    <tr>\n",
       "      <th>75%</th>\n",
       "      <td>114.5</td>\n",
       "      <td>16.0</td>\n",
       "    </tr>\n",
       "  </tbody>\n",
       "</table>\n",
       "</div>"
      ],
      "text/plain": [
       "     Chl-a  Discharge\n",
       "25%   74.5       11.0\n",
       "75%  114.5       16.0"
      ]
     },
     "execution_count": 21,
     "metadata": {},
     "output_type": "execute_result"
    }
   ],
   "source": [
    "desc.loc[['25%', '75%']]"
   ]
  },
  {
   "cell_type": "markdown",
   "id": "2dc793d1",
   "metadata": {},
   "source": [
    "(5) 클로로필-A 데이터의 범위를 계산하라."
   ]
  },
  {
   "cell_type": "markdown",
   "id": "252450dc",
   "metadata": {},
   "source": [
    "- 넘파이 활용\n",
    "\n",
    "클로로필-A 데이터는 0번 열이다."
   ]
  },
  {
   "cell_type": "code",
   "execution_count": 22,
   "id": "952f0268",
   "metadata": {},
   "outputs": [],
   "source": [
    "chl_a_arr = sc_weir_arr[:, 0]"
   ]
  },
  {
   "cell_type": "code",
   "execution_count": 23,
   "id": "dfb32374",
   "metadata": {},
   "outputs": [
    {
     "name": "stdout",
     "output_type": "stream",
     "text": [
      "min: 51\n",
      "max: 125\n",
      "범위: 74\n"
     ]
    }
   ],
   "source": [
    "print('min:', chl_a_arr.min())\n",
    "print('max:', chl_a_arr.max())\n",
    "print('범위:', chl_a_arr.max() - chl_a_arr.min())"
   ]
  },
  {
   "cell_type": "markdown",
   "id": "84566bee",
   "metadata": {},
   "source": [
    "- 데이터프레임 활용"
   ]
  },
  {
   "cell_type": "code",
   "execution_count": 24,
   "id": "23bd71d0",
   "metadata": {},
   "outputs": [
    {
     "data": {
      "text/html": [
       "<div>\n",
       "<style scoped>\n",
       "    .dataframe tbody tr th:only-of-type {\n",
       "        vertical-align: middle;\n",
       "    }\n",
       "\n",
       "    .dataframe tbody tr th {\n",
       "        vertical-align: top;\n",
       "    }\n",
       "\n",
       "    .dataframe thead th {\n",
       "        text-align: right;\n",
       "    }\n",
       "</style>\n",
       "<table border=\"1\" class=\"dataframe\">\n",
       "  <thead>\n",
       "    <tr style=\"text-align: right;\">\n",
       "      <th></th>\n",
       "      <th>Chl-a</th>\n",
       "      <th>Discharge</th>\n",
       "    </tr>\n",
       "  </thead>\n",
       "  <tbody>\n",
       "    <tr>\n",
       "      <th>min</th>\n",
       "      <td>51.0</td>\n",
       "      <td>9.0</td>\n",
       "    </tr>\n",
       "    <tr>\n",
       "      <th>max</th>\n",
       "      <td>125.0</td>\n",
       "      <td>52.0</td>\n",
       "    </tr>\n",
       "  </tbody>\n",
       "</table>\n",
       "</div>"
      ],
      "text/plain": [
       "     Chl-a  Discharge\n",
       "min   51.0        9.0\n",
       "max  125.0       52.0"
      ]
     },
     "execution_count": 24,
     "metadata": {},
     "output_type": "execute_result"
    }
   ],
   "source": [
    "desc.loc[['min', 'max']]"
   ]
  },
  {
   "cell_type": "code",
   "execution_count": 25,
   "id": "ecdeaa0f",
   "metadata": {},
   "outputs": [
    {
     "data": {
      "text/plain": [
       "74.0"
      ]
     },
     "execution_count": 25,
     "metadata": {},
     "output_type": "execute_result"
    }
   ],
   "source": [
    "(desc.loc['max'] - desc.loc['min']).loc['Chl-a']"
   ]
  },
  {
   "cell_type": "markdown",
   "id": "f30911df",
   "metadata": {},
   "source": [
    "(6) 클로로필-A 데이터의 분산을 계산하라."
   ]
  },
  {
   "cell_type": "markdown",
   "id": "c8c201fe",
   "metadata": {},
   "source": [
    "- 넘파이 활용"
   ]
  },
  {
   "cell_type": "code",
   "execution_count": 26,
   "id": "0d3a1835",
   "metadata": {},
   "outputs": [
    {
     "data": {
      "text/plain": [
       "506.8004000000001"
      ]
     },
     "execution_count": 26,
     "metadata": {},
     "output_type": "execute_result"
    }
   ],
   "source": [
    "np.var(chl_a_arr, ddof=0)"
   ]
  },
  {
   "cell_type": "markdown",
   "id": "400e902f",
   "metadata": {},
   "source": [
    "- 데이터프레임 활용"
   ]
  },
  {
   "cell_type": "code",
   "execution_count": 27,
   "id": "bd2353aa",
   "metadata": {},
   "outputs": [
    {
     "data": {
      "text/plain": [
       "Chl-a        506.8004\n",
       "Discharge     40.2851\n",
       "dtype: float64"
      ]
     },
     "execution_count": 27,
     "metadata": {},
     "output_type": "execute_result"
    }
   ],
   "source": [
    "sc_weir_df.var(ddof=0)"
   ]
  },
  {
   "cell_type": "code",
   "execution_count": 28,
   "id": "b64b24b1",
   "metadata": {},
   "outputs": [
    {
     "data": {
      "text/plain": [
       "506.80040000000014"
      ]
     },
     "execution_count": 28,
     "metadata": {},
     "output_type": "execute_result"
    }
   ],
   "source": [
    "sc_weir_df.var(ddof=0).loc['Chl-a']"
   ]
  },
  {
   "cell_type": "markdown",
   "id": "9a156e8b",
   "metadata": {},
   "source": [
    "(7) 클로로필-A 데이터의 표준편차를 계산하라."
   ]
  },
  {
   "cell_type": "markdown",
   "id": "1745f47d",
   "metadata": {},
   "source": [
    "- 넘파이 활용"
   ]
  },
  {
   "cell_type": "code",
   "execution_count": 29,
   "id": "bf998215",
   "metadata": {},
   "outputs": [
    {
     "data": {
      "text/plain": [
       "22.51222778847087"
      ]
     },
     "execution_count": 29,
     "metadata": {},
     "output_type": "execute_result"
    }
   ],
   "source": [
    "np.std(chl_a_arr,ddof=0)"
   ]
  },
  {
   "cell_type": "markdown",
   "id": "50382f0b",
   "metadata": {},
   "source": [
    "- 데이터프레임 활용"
   ]
  },
  {
   "cell_type": "code",
   "execution_count": 30,
   "id": "b3bd2adf",
   "metadata": {},
   "outputs": [
    {
     "data": {
      "text/plain": [
       "Chl-a        22.512228\n",
       "Discharge     6.347054\n",
       "dtype: float64"
      ]
     },
     "execution_count": 30,
     "metadata": {},
     "output_type": "execute_result"
    }
   ],
   "source": [
    "sc_weir_df.std(ddof=0)"
   ]
  },
  {
   "cell_type": "code",
   "execution_count": 31,
   "id": "0645b47b",
   "metadata": {},
   "outputs": [
    {
     "data": {
      "text/plain": [
       "22.512227788470874"
      ]
     },
     "execution_count": 31,
     "metadata": {},
     "output_type": "execute_result"
    }
   ],
   "source": [
    "sc_weir_df.std(ddof=0).loc['Chl-a']"
   ]
  },
  {
   "cell_type": "markdown",
   "id": "ae463878",
   "metadata": {},
   "source": [
    "**문제 2**"
   ]
  },
  {
   "cell_type": "markdown",
   "id": "ce60e5a4",
   "metadata": {},
   "source": [
    "기본 데이터 저장소에 있는 `california_housing.csv` 파일은 미국 캘리포니아 주의 주택 정보를 담고 있다."
   ]
  },
  {
   "cell_type": "markdown",
   "id": "adcf3ca1",
   "metadata": {},
   "source": [
    "(1) 위 파일의 내용을 데이터프레임으로 불러와서 `housing_df` 변수에 할당하라. 단, 인덱스는 별도로 지정하지 않는다."
   ]
  },
  {
   "cell_type": "code",
   "execution_count": 32,
   "id": "514e6483",
   "metadata": {},
   "outputs": [],
   "source": [
    "housing_df = pd.read_csv(data_url+'california_housing.csv')"
   ]
  },
  {
   "cell_type": "code",
   "execution_count": 33,
   "id": "5ca2a039",
   "metadata": {},
   "outputs": [
    {
     "data": {
      "text/html": [
       "<div>\n",
       "<style scoped>\n",
       "    .dataframe tbody tr th:only-of-type {\n",
       "        vertical-align: middle;\n",
       "    }\n",
       "\n",
       "    .dataframe tbody tr th {\n",
       "        vertical-align: top;\n",
       "    }\n",
       "\n",
       "    .dataframe thead th {\n",
       "        text-align: right;\n",
       "    }\n",
       "</style>\n",
       "<table border=\"1\" class=\"dataframe\">\n",
       "  <thead>\n",
       "    <tr style=\"text-align: right;\">\n",
       "      <th></th>\n",
       "      <th>longitude</th>\n",
       "      <th>latitude</th>\n",
       "      <th>housing_median_age</th>\n",
       "      <th>total_rooms</th>\n",
       "      <th>total_bedrooms</th>\n",
       "      <th>population</th>\n",
       "      <th>households</th>\n",
       "      <th>median_income</th>\n",
       "      <th>median_house_value</th>\n",
       "      <th>ocean_proximity</th>\n",
       "    </tr>\n",
       "  </thead>\n",
       "  <tbody>\n",
       "    <tr>\n",
       "      <th>0</th>\n",
       "      <td>-122.23</td>\n",
       "      <td>37.88</td>\n",
       "      <td>41.0</td>\n",
       "      <td>880.0</td>\n",
       "      <td>129.0</td>\n",
       "      <td>322.0</td>\n",
       "      <td>126.0</td>\n",
       "      <td>8.3252</td>\n",
       "      <td>452600.0</td>\n",
       "      <td>NEAR BAY</td>\n",
       "    </tr>\n",
       "    <tr>\n",
       "      <th>1</th>\n",
       "      <td>-122.22</td>\n",
       "      <td>37.86</td>\n",
       "      <td>21.0</td>\n",
       "      <td>7099.0</td>\n",
       "      <td>1106.0</td>\n",
       "      <td>2401.0</td>\n",
       "      <td>1138.0</td>\n",
       "      <td>8.3014</td>\n",
       "      <td>358500.0</td>\n",
       "      <td>NEAR BAY</td>\n",
       "    </tr>\n",
       "    <tr>\n",
       "      <th>2</th>\n",
       "      <td>-122.24</td>\n",
       "      <td>37.85</td>\n",
       "      <td>52.0</td>\n",
       "      <td>1467.0</td>\n",
       "      <td>190.0</td>\n",
       "      <td>496.0</td>\n",
       "      <td>177.0</td>\n",
       "      <td>7.2574</td>\n",
       "      <td>352100.0</td>\n",
       "      <td>NEAR BAY</td>\n",
       "    </tr>\n",
       "    <tr>\n",
       "      <th>3</th>\n",
       "      <td>-122.25</td>\n",
       "      <td>37.85</td>\n",
       "      <td>52.0</td>\n",
       "      <td>1274.0</td>\n",
       "      <td>235.0</td>\n",
       "      <td>558.0</td>\n",
       "      <td>219.0</td>\n",
       "      <td>5.6431</td>\n",
       "      <td>341300.0</td>\n",
       "      <td>NEAR BAY</td>\n",
       "    </tr>\n",
       "    <tr>\n",
       "      <th>4</th>\n",
       "      <td>-122.25</td>\n",
       "      <td>37.85</td>\n",
       "      <td>52.0</td>\n",
       "      <td>1627.0</td>\n",
       "      <td>280.0</td>\n",
       "      <td>565.0</td>\n",
       "      <td>259.0</td>\n",
       "      <td>3.8462</td>\n",
       "      <td>342200.0</td>\n",
       "      <td>NEAR BAY</td>\n",
       "    </tr>\n",
       "    <tr>\n",
       "      <th>...</th>\n",
       "      <td>...</td>\n",
       "      <td>...</td>\n",
       "      <td>...</td>\n",
       "      <td>...</td>\n",
       "      <td>...</td>\n",
       "      <td>...</td>\n",
       "      <td>...</td>\n",
       "      <td>...</td>\n",
       "      <td>...</td>\n",
       "      <td>...</td>\n",
       "    </tr>\n",
       "    <tr>\n",
       "      <th>20635</th>\n",
       "      <td>-121.09</td>\n",
       "      <td>39.48</td>\n",
       "      <td>25.0</td>\n",
       "      <td>1665.0</td>\n",
       "      <td>374.0</td>\n",
       "      <td>845.0</td>\n",
       "      <td>330.0</td>\n",
       "      <td>1.5603</td>\n",
       "      <td>78100.0</td>\n",
       "      <td>INLAND</td>\n",
       "    </tr>\n",
       "    <tr>\n",
       "      <th>20636</th>\n",
       "      <td>-121.21</td>\n",
       "      <td>39.49</td>\n",
       "      <td>18.0</td>\n",
       "      <td>697.0</td>\n",
       "      <td>150.0</td>\n",
       "      <td>356.0</td>\n",
       "      <td>114.0</td>\n",
       "      <td>2.5568</td>\n",
       "      <td>77100.0</td>\n",
       "      <td>INLAND</td>\n",
       "    </tr>\n",
       "    <tr>\n",
       "      <th>20637</th>\n",
       "      <td>-121.22</td>\n",
       "      <td>39.43</td>\n",
       "      <td>17.0</td>\n",
       "      <td>2254.0</td>\n",
       "      <td>485.0</td>\n",
       "      <td>1007.0</td>\n",
       "      <td>433.0</td>\n",
       "      <td>1.7000</td>\n",
       "      <td>92300.0</td>\n",
       "      <td>INLAND</td>\n",
       "    </tr>\n",
       "    <tr>\n",
       "      <th>20638</th>\n",
       "      <td>-121.32</td>\n",
       "      <td>39.43</td>\n",
       "      <td>18.0</td>\n",
       "      <td>1860.0</td>\n",
       "      <td>409.0</td>\n",
       "      <td>741.0</td>\n",
       "      <td>349.0</td>\n",
       "      <td>1.8672</td>\n",
       "      <td>84700.0</td>\n",
       "      <td>INLAND</td>\n",
       "    </tr>\n",
       "    <tr>\n",
       "      <th>20639</th>\n",
       "      <td>-121.24</td>\n",
       "      <td>39.37</td>\n",
       "      <td>16.0</td>\n",
       "      <td>2785.0</td>\n",
       "      <td>616.0</td>\n",
       "      <td>1387.0</td>\n",
       "      <td>530.0</td>\n",
       "      <td>2.3886</td>\n",
       "      <td>89400.0</td>\n",
       "      <td>INLAND</td>\n",
       "    </tr>\n",
       "  </tbody>\n",
       "</table>\n",
       "<p>20640 rows × 10 columns</p>\n",
       "</div>"
      ],
      "text/plain": [
       "       longitude  latitude  housing_median_age  total_rooms  total_bedrooms  \\\n",
       "0        -122.23     37.88                41.0        880.0           129.0   \n",
       "1        -122.22     37.86                21.0       7099.0          1106.0   \n",
       "2        -122.24     37.85                52.0       1467.0           190.0   \n",
       "3        -122.25     37.85                52.0       1274.0           235.0   \n",
       "4        -122.25     37.85                52.0       1627.0           280.0   \n",
       "...          ...       ...                 ...          ...             ...   \n",
       "20635    -121.09     39.48                25.0       1665.0           374.0   \n",
       "20636    -121.21     39.49                18.0        697.0           150.0   \n",
       "20637    -121.22     39.43                17.0       2254.0           485.0   \n",
       "20638    -121.32     39.43                18.0       1860.0           409.0   \n",
       "20639    -121.24     39.37                16.0       2785.0           616.0   \n",
       "\n",
       "       population  households  median_income  median_house_value  \\\n",
       "0           322.0       126.0         8.3252            452600.0   \n",
       "1          2401.0      1138.0         8.3014            358500.0   \n",
       "2           496.0       177.0         7.2574            352100.0   \n",
       "3           558.0       219.0         5.6431            341300.0   \n",
       "4           565.0       259.0         3.8462            342200.0   \n",
       "...           ...         ...            ...                 ...   \n",
       "20635       845.0       330.0         1.5603             78100.0   \n",
       "20636       356.0       114.0         2.5568             77100.0   \n",
       "20637      1007.0       433.0         1.7000             92300.0   \n",
       "20638       741.0       349.0         1.8672             84700.0   \n",
       "20639      1387.0       530.0         2.3886             89400.0   \n",
       "\n",
       "      ocean_proximity  \n",
       "0            NEAR BAY  \n",
       "1            NEAR BAY  \n",
       "2            NEAR BAY  \n",
       "3            NEAR BAY  \n",
       "4            NEAR BAY  \n",
       "...               ...  \n",
       "20635          INLAND  \n",
       "20636          INLAND  \n",
       "20637          INLAND  \n",
       "20638          INLAND  \n",
       "20639          INLAND  \n",
       "\n",
       "[20640 rows x 10 columns]"
      ]
     },
     "execution_count": 33,
     "metadata": {},
     "output_type": "execute_result"
    }
   ],
   "source": [
    "housing_df"
   ]
  },
  {
   "cell_type": "markdown",
   "id": "236ed5b1",
   "metadata": {},
   "source": [
    "(2) `total_rooms` 특성값만으로 구성된 데이터프레임을 이용하여 평균값, 중앙값, 최빈값, 분산, 표준편차, 범위, 사분범위를 구하라. 또한 상자 그림을 그리고 정규화를 진행한다."
   ]
  },
  {
   "cell_type": "markdown",
   "id": "02093251",
   "metadata": {},
   "source": [
    "`total_rooms` 특성만 갖는 데이터프레임을 지정한다."
   ]
  },
  {
   "cell_type": "code",
   "execution_count": 34,
   "id": "3c2b2f7c",
   "metadata": {},
   "outputs": [
    {
     "data": {
      "text/html": [
       "<div>\n",
       "<style scoped>\n",
       "    .dataframe tbody tr th:only-of-type {\n",
       "        vertical-align: middle;\n",
       "    }\n",
       "\n",
       "    .dataframe tbody tr th {\n",
       "        vertical-align: top;\n",
       "    }\n",
       "\n",
       "    .dataframe thead th {\n",
       "        text-align: right;\n",
       "    }\n",
       "</style>\n",
       "<table border=\"1\" class=\"dataframe\">\n",
       "  <thead>\n",
       "    <tr style=\"text-align: right;\">\n",
       "      <th></th>\n",
       "      <th>total_rooms</th>\n",
       "    </tr>\n",
       "  </thead>\n",
       "  <tbody>\n",
       "    <tr>\n",
       "      <th>0</th>\n",
       "      <td>880.0</td>\n",
       "    </tr>\n",
       "    <tr>\n",
       "      <th>1</th>\n",
       "      <td>7099.0</td>\n",
       "    </tr>\n",
       "    <tr>\n",
       "      <th>2</th>\n",
       "      <td>1467.0</td>\n",
       "    </tr>\n",
       "    <tr>\n",
       "      <th>3</th>\n",
       "      <td>1274.0</td>\n",
       "    </tr>\n",
       "    <tr>\n",
       "      <th>4</th>\n",
       "      <td>1627.0</td>\n",
       "    </tr>\n",
       "    <tr>\n",
       "      <th>...</th>\n",
       "      <td>...</td>\n",
       "    </tr>\n",
       "    <tr>\n",
       "      <th>20635</th>\n",
       "      <td>1665.0</td>\n",
       "    </tr>\n",
       "    <tr>\n",
       "      <th>20636</th>\n",
       "      <td>697.0</td>\n",
       "    </tr>\n",
       "    <tr>\n",
       "      <th>20637</th>\n",
       "      <td>2254.0</td>\n",
       "    </tr>\n",
       "    <tr>\n",
       "      <th>20638</th>\n",
       "      <td>1860.0</td>\n",
       "    </tr>\n",
       "    <tr>\n",
       "      <th>20639</th>\n",
       "      <td>2785.0</td>\n",
       "    </tr>\n",
       "  </tbody>\n",
       "</table>\n",
       "<p>20640 rows × 1 columns</p>\n",
       "</div>"
      ],
      "text/plain": [
       "       total_rooms\n",
       "0            880.0\n",
       "1           7099.0\n",
       "2           1467.0\n",
       "3           1274.0\n",
       "4           1627.0\n",
       "...            ...\n",
       "20635       1665.0\n",
       "20636        697.0\n",
       "20637       2254.0\n",
       "20638       1860.0\n",
       "20639       2785.0\n",
       "\n",
       "[20640 rows x 1 columns]"
      ]
     },
     "execution_count": 34,
     "metadata": {},
     "output_type": "execute_result"
    }
   ],
   "source": [
    "total_rooms = housing_df.loc[:, ['total_rooms']]\n",
    "total_rooms"
   ]
  },
  {
   "cell_type": "markdown",
   "id": "7e215554",
   "metadata": {},
   "source": [
    "- 평균값과 중앙값은 `describe()` 메서드로 확인. 범위와 사분범위 정보도 추출 가능."
   ]
  },
  {
   "cell_type": "code",
   "execution_count": 35,
   "id": "91ead51a",
   "metadata": {},
   "outputs": [
    {
     "data": {
      "text/html": [
       "<div>\n",
       "<style scoped>\n",
       "    .dataframe tbody tr th:only-of-type {\n",
       "        vertical-align: middle;\n",
       "    }\n",
       "\n",
       "    .dataframe tbody tr th {\n",
       "        vertical-align: top;\n",
       "    }\n",
       "\n",
       "    .dataframe thead th {\n",
       "        text-align: right;\n",
       "    }\n",
       "</style>\n",
       "<table border=\"1\" class=\"dataframe\">\n",
       "  <thead>\n",
       "    <tr style=\"text-align: right;\">\n",
       "      <th></th>\n",
       "      <th>total_rooms</th>\n",
       "    </tr>\n",
       "  </thead>\n",
       "  <tbody>\n",
       "    <tr>\n",
       "      <th>count</th>\n",
       "      <td>20640.000000</td>\n",
       "    </tr>\n",
       "    <tr>\n",
       "      <th>mean</th>\n",
       "      <td>2635.763081</td>\n",
       "    </tr>\n",
       "    <tr>\n",
       "      <th>std</th>\n",
       "      <td>2181.615252</td>\n",
       "    </tr>\n",
       "    <tr>\n",
       "      <th>min</th>\n",
       "      <td>2.000000</td>\n",
       "    </tr>\n",
       "    <tr>\n",
       "      <th>25%</th>\n",
       "      <td>1447.750000</td>\n",
       "    </tr>\n",
       "    <tr>\n",
       "      <th>50%</th>\n",
       "      <td>2127.000000</td>\n",
       "    </tr>\n",
       "    <tr>\n",
       "      <th>75%</th>\n",
       "      <td>3148.000000</td>\n",
       "    </tr>\n",
       "    <tr>\n",
       "      <th>max</th>\n",
       "      <td>39320.000000</td>\n",
       "    </tr>\n",
       "  </tbody>\n",
       "</table>\n",
       "</div>"
      ],
      "text/plain": [
       "        total_rooms\n",
       "count  20640.000000\n",
       "mean    2635.763081\n",
       "std     2181.615252\n",
       "min        2.000000\n",
       "25%     1447.750000\n",
       "50%     2127.000000\n",
       "75%     3148.000000\n",
       "max    39320.000000"
      ]
     },
     "execution_count": 35,
     "metadata": {},
     "output_type": "execute_result"
    }
   ],
   "source": [
    "total_rooms.describe()"
   ]
  },
  {
   "cell_type": "markdown",
   "id": "b8d4e904",
   "metadata": {},
   "source": [
    "- 분산"
   ]
  },
  {
   "cell_type": "code",
   "execution_count": 36,
   "id": "c078165b",
   "metadata": {},
   "outputs": [
    {
     "data": {
      "text/plain": [
       "total_rooms    4.759215e+06\n",
       "dtype: float64"
      ]
     },
     "execution_count": 36,
     "metadata": {},
     "output_type": "execute_result"
    }
   ],
   "source": [
    "total_rooms.var(ddof=0)"
   ]
  },
  {
   "cell_type": "markdown",
   "id": "67805ec5",
   "metadata": {},
   "source": [
    "- 표준편차"
   ]
  },
  {
   "cell_type": "code",
   "execution_count": 37,
   "id": "19ea2620",
   "metadata": {},
   "outputs": [
    {
     "data": {
      "text/plain": [
       "total_rooms    2181.562402\n",
       "dtype: float64"
      ]
     },
     "execution_count": 37,
     "metadata": {},
     "output_type": "execute_result"
    }
   ],
   "source": [
    "total_rooms.std(ddof=0)"
   ]
  },
  {
   "cell_type": "markdown",
   "id": "c764e8fc",
   "metadata": {},
   "source": [
    "- 상자범위"
   ]
  },
  {
   "cell_type": "code",
   "execution_count": 38,
   "id": "4013019e",
   "metadata": {},
   "outputs": [
    {
     "data": {
      "image/png": "[encoded data removed]",
      "text/plain": [
       "<Figure size 1000x600 with 1 Axes>"
      ]
     },
     "metadata": {},
     "output_type": "display_data"
    }
   ],
   "source": [
    "total_rooms.boxplot(grid=False)\n",
    "plt.show()"
   ]
  },
  {
   "cell_type": "markdown",
   "id": "539415d6",
   "metadata": {},
   "source": [
    "- 데이터프레임 정규화: min-max 스케일링"
   ]
  },
  {
   "cell_type": "code",
   "execution_count": 39,
   "id": "00867650",
   "metadata": {},
   "outputs": [
    {
     "data": {
      "text/html": [
       "<div>\n",
       "<style scoped>\n",
       "    .dataframe tbody tr th:only-of-type {\n",
       "        vertical-align: middle;\n",
       "    }\n",
       "\n",
       "    .dataframe tbody tr th {\n",
       "        vertical-align: top;\n",
       "    }\n",
       "\n",
       "    .dataframe thead th {\n",
       "        text-align: right;\n",
       "    }\n",
       "</style>\n",
       "<table border=\"1\" class=\"dataframe\">\n",
       "  <thead>\n",
       "    <tr style=\"text-align: right;\">\n",
       "      <th></th>\n",
       "      <th>total_rooms</th>\n",
       "    </tr>\n",
       "  </thead>\n",
       "  <tbody>\n",
       "    <tr>\n",
       "      <th>0</th>\n",
       "      <td>0.022331</td>\n",
       "    </tr>\n",
       "    <tr>\n",
       "      <th>1</th>\n",
       "      <td>0.180503</td>\n",
       "    </tr>\n",
       "    <tr>\n",
       "      <th>2</th>\n",
       "      <td>0.037260</td>\n",
       "    </tr>\n",
       "    <tr>\n",
       "      <th>3</th>\n",
       "      <td>0.032352</td>\n",
       "    </tr>\n",
       "    <tr>\n",
       "      <th>4</th>\n",
       "      <td>0.041330</td>\n",
       "    </tr>\n",
       "    <tr>\n",
       "      <th>...</th>\n",
       "      <td>...</td>\n",
       "    </tr>\n",
       "    <tr>\n",
       "      <th>20635</th>\n",
       "      <td>0.042296</td>\n",
       "    </tr>\n",
       "    <tr>\n",
       "      <th>20636</th>\n",
       "      <td>0.017676</td>\n",
       "    </tr>\n",
       "    <tr>\n",
       "      <th>20637</th>\n",
       "      <td>0.057277</td>\n",
       "    </tr>\n",
       "    <tr>\n",
       "      <th>20638</th>\n",
       "      <td>0.047256</td>\n",
       "    </tr>\n",
       "    <tr>\n",
       "      <th>20639</th>\n",
       "      <td>0.070782</td>\n",
       "    </tr>\n",
       "  </tbody>\n",
       "</table>\n",
       "<p>20640 rows × 1 columns</p>\n",
       "</div>"
      ],
      "text/plain": [
       "       total_rooms\n",
       "0         0.022331\n",
       "1         0.180503\n",
       "2         0.037260\n",
       "3         0.032352\n",
       "4         0.041330\n",
       "...            ...\n",
       "20635     0.042296\n",
       "20636     0.017676\n",
       "20637     0.057277\n",
       "20638     0.047256\n",
       "20639     0.070782\n",
       "\n",
       "[20640 rows x 1 columns]"
      ]
     },
     "execution_count": 39,
     "metadata": {},
     "output_type": "execute_result"
    }
   ],
   "source": [
    "minmax = (total_rooms - total_rooms.min()) / (total_rooms.max() - total_rooms.min())\n",
    "minmax"
   ]
  },
  {
   "cell_type": "code",
   "execution_count": 40,
   "id": "dca83b79",
   "metadata": {},
   "outputs": [
    {
     "data": {
      "text/html": [
       "<div>\n",
       "<style scoped>\n",
       "    .dataframe tbody tr th:only-of-type {\n",
       "        vertical-align: middle;\n",
       "    }\n",
       "\n",
       "    .dataframe tbody tr th {\n",
       "        vertical-align: top;\n",
       "    }\n",
       "\n",
       "    .dataframe thead th {\n",
       "        text-align: right;\n",
       "    }\n",
       "</style>\n",
       "<table border=\"1\" class=\"dataframe\">\n",
       "  <thead>\n",
       "    <tr style=\"text-align: right;\">\n",
       "      <th></th>\n",
       "      <th>total_rooms</th>\n",
       "    </tr>\n",
       "  </thead>\n",
       "  <tbody>\n",
       "    <tr>\n",
       "      <th>count</th>\n",
       "      <td>20640.000000</td>\n",
       "    </tr>\n",
       "    <tr>\n",
       "      <th>mean</th>\n",
       "      <td>0.066986</td>\n",
       "    </tr>\n",
       "    <tr>\n",
       "      <th>std</th>\n",
       "      <td>0.055486</td>\n",
       "    </tr>\n",
       "    <tr>\n",
       "      <th>min</th>\n",
       "      <td>0.000000</td>\n",
       "    </tr>\n",
       "    <tr>\n",
       "      <th>25%</th>\n",
       "      <td>0.036771</td>\n",
       "    </tr>\n",
       "    <tr>\n",
       "      <th>50%</th>\n",
       "      <td>0.054046</td>\n",
       "    </tr>\n",
       "    <tr>\n",
       "      <th>75%</th>\n",
       "      <td>0.080014</td>\n",
       "    </tr>\n",
       "    <tr>\n",
       "      <th>max</th>\n",
       "      <td>1.000000</td>\n",
       "    </tr>\n",
       "  </tbody>\n",
       "</table>\n",
       "</div>"
      ],
      "text/plain": [
       "        total_rooms\n",
       "count  20640.000000\n",
       "mean       0.066986\n",
       "std        0.055486\n",
       "min        0.000000\n",
       "25%        0.036771\n",
       "50%        0.054046\n",
       "75%        0.080014\n",
       "max        1.000000"
      ]
     },
     "execution_count": 40,
     "metadata": {},
     "output_type": "execute_result"
    }
   ],
   "source": [
    "minmax.describe()"
   ]
  },
  {
   "cell_type": "markdown",
   "id": "30816727",
   "metadata": {},
   "source": [
    "- 데이터프레임 정규화: 표준화"
   ]
  },
  {
   "cell_type": "code",
   "execution_count": 41,
   "id": "75df5ae2",
   "metadata": {},
   "outputs": [
    {
     "data": {
      "text/html": [
       "<div>\n",
       "<style scoped>\n",
       "    .dataframe tbody tr th:only-of-type {\n",
       "        vertical-align: middle;\n",
       "    }\n",
       "\n",
       "    .dataframe tbody tr th {\n",
       "        vertical-align: top;\n",
       "    }\n",
       "\n",
       "    .dataframe thead th {\n",
       "        text-align: right;\n",
       "    }\n",
       "</style>\n",
       "<table border=\"1\" class=\"dataframe\">\n",
       "  <thead>\n",
       "    <tr style=\"text-align: right;\">\n",
       "      <th></th>\n",
       "      <th>total_rooms</th>\n",
       "    </tr>\n",
       "  </thead>\n",
       "  <tbody>\n",
       "    <tr>\n",
       "      <th>0</th>\n",
       "      <td>-0.804819</td>\n",
       "    </tr>\n",
       "    <tr>\n",
       "      <th>1</th>\n",
       "      <td>2.045890</td>\n",
       "    </tr>\n",
       "    <tr>\n",
       "      <th>2</th>\n",
       "      <td>-0.535746</td>\n",
       "    </tr>\n",
       "    <tr>\n",
       "      <th>3</th>\n",
       "      <td>-0.624215</td>\n",
       "    </tr>\n",
       "    <tr>\n",
       "      <th>4</th>\n",
       "      <td>-0.462404</td>\n",
       "    </tr>\n",
       "    <tr>\n",
       "      <th>...</th>\n",
       "      <td>...</td>\n",
       "    </tr>\n",
       "    <tr>\n",
       "      <th>20635</th>\n",
       "      <td>-0.444985</td>\n",
       "    </tr>\n",
       "    <tr>\n",
       "      <th>20636</th>\n",
       "      <td>-0.888704</td>\n",
       "    </tr>\n",
       "    <tr>\n",
       "      <th>20637</th>\n",
       "      <td>-0.174995</td>\n",
       "    </tr>\n",
       "    <tr>\n",
       "      <th>20638</th>\n",
       "      <td>-0.355600</td>\n",
       "    </tr>\n",
       "    <tr>\n",
       "      <th>20639</th>\n",
       "      <td>0.068408</td>\n",
       "    </tr>\n",
       "  </tbody>\n",
       "</table>\n",
       "<p>20640 rows × 1 columns</p>\n",
       "</div>"
      ],
      "text/plain": [
       "       total_rooms\n",
       "0        -0.804819\n",
       "1         2.045890\n",
       "2        -0.535746\n",
       "3        -0.624215\n",
       "4        -0.462404\n",
       "...            ...\n",
       "20635    -0.444985\n",
       "20636    -0.888704\n",
       "20637    -0.174995\n",
       "20638    -0.355600\n",
       "20639     0.068408\n",
       "\n",
       "[20640 rows x 1 columns]"
      ]
     },
     "execution_count": 41,
     "metadata": {},
     "output_type": "execute_result"
    }
   ],
   "source": [
    "z = (total_rooms - total_rooms.mean()) / total_rooms.std(ddof=0)\n",
    "z"
   ]
  },
  {
   "cell_type": "code",
   "execution_count": 42,
   "id": "7be8fa23",
   "metadata": {},
   "outputs": [
    {
     "data": {
      "text/html": [
       "<div>\n",
       "<style scoped>\n",
       "    .dataframe tbody tr th:only-of-type {\n",
       "        vertical-align: middle;\n",
       "    }\n",
       "\n",
       "    .dataframe tbody tr th {\n",
       "        vertical-align: top;\n",
       "    }\n",
       "\n",
       "    .dataframe thead th {\n",
       "        text-align: right;\n",
       "    }\n",
       "</style>\n",
       "<table border=\"1\" class=\"dataframe\">\n",
       "  <thead>\n",
       "    <tr style=\"text-align: right;\">\n",
       "      <th></th>\n",
       "      <th>total_rooms</th>\n",
       "    </tr>\n",
       "  </thead>\n",
       "  <tbody>\n",
       "    <tr>\n",
       "      <th>count</th>\n",
       "      <td>2.064000e+04</td>\n",
       "    </tr>\n",
       "    <tr>\n",
       "      <th>mean</th>\n",
       "      <td>3.408126e-17</td>\n",
       "    </tr>\n",
       "    <tr>\n",
       "      <th>std</th>\n",
       "      <td>1.000024e+00</td>\n",
       "    </tr>\n",
       "    <tr>\n",
       "      <th>min</th>\n",
       "      <td>-1.207283e+00</td>\n",
       "    </tr>\n",
       "    <tr>\n",
       "      <th>25%</th>\n",
       "      <td>-5.445698e-01</td>\n",
       "    </tr>\n",
       "    <tr>\n",
       "      <th>50%</th>\n",
       "      <td>-2.332104e-01</td>\n",
       "    </tr>\n",
       "    <tr>\n",
       "      <th>75%</th>\n",
       "      <td>2.348028e-01</td>\n",
       "    </tr>\n",
       "    <tr>\n",
       "      <th>max</th>\n",
       "      <td>1.681558e+01</td>\n",
       "    </tr>\n",
       "  </tbody>\n",
       "</table>\n",
       "</div>"
      ],
      "text/plain": [
       "        total_rooms\n",
       "count  2.064000e+04\n",
       "mean   3.408126e-17\n",
       "std    1.000024e+00\n",
       "min   -1.207283e+00\n",
       "25%   -5.445698e-01\n",
       "50%   -2.332104e-01\n",
       "75%    2.348028e-01\n",
       "max    1.681558e+01"
      ]
     },
     "execution_count": 42,
     "metadata": {},
     "output_type": "execute_result"
    }
   ],
   "source": [
    "z.describe()"
   ]
  },
  {
   "cell_type": "markdown",
   "id": "9e892a67",
   "metadata": {},
   "source": [
    "넘파이 어레이를 이용한 정규화도 물론 가능하다."
   ]
  },
  {
   "cell_type": "code",
   "execution_count": 43,
   "id": "bf91af0c",
   "metadata": {},
   "outputs": [
    {
     "data": {
      "text/plain": [
       "(20640, 1)"
      ]
     },
     "execution_count": 43,
     "metadata": {},
     "output_type": "execute_result"
    }
   ],
   "source": [
    "total_rooms_arr = total_rooms.values\n",
    "total_rooms_arr.shape"
   ]
  },
  {
   "cell_type": "markdown",
   "id": "8583d1c8",
   "metadata": {},
   "source": [
    "- 어레이 정규화: min-max 스케일링"
   ]
  },
  {
   "cell_type": "code",
   "execution_count": 44,
   "id": "07a2170a",
   "metadata": {},
   "outputs": [
    {
     "data": {
      "text/plain": [
       "array([[0.02233074],\n",
       "       [0.18050257],\n",
       "       [0.03726029],\n",
       "       ...,\n",
       "       [0.05727657],\n",
       "       [0.04725571],\n",
       "       [0.07078183]])"
      ]
     },
     "execution_count": 44,
     "metadata": {},
     "output_type": "execute_result"
    }
   ],
   "source": [
    "minmax_arr = (total_rooms_arr - np.min(total_rooms_arr)) / (np.max(total_rooms_arr) - np.min(total_rooms_arr))\n",
    "minmax_arr"
   ]
  },
  {
   "cell_type": "code",
   "execution_count": 45,
   "id": "82727c52",
   "metadata": {},
   "outputs": [
    {
     "data": {
      "text/plain": [
       "0.0"
      ]
     },
     "execution_count": 45,
     "metadata": {},
     "output_type": "execute_result"
    }
   ],
   "source": [
    "np.min(minmax_arr)"
   ]
  },
  {
   "cell_type": "code",
   "execution_count": 46,
   "id": "a75f4998",
   "metadata": {},
   "outputs": [
    {
     "data": {
      "text/plain": [
       "1.0"
      ]
     },
     "execution_count": 46,
     "metadata": {},
     "output_type": "execute_result"
    }
   ],
   "source": [
    "np.max(minmax_arr)"
   ]
  },
  {
   "cell_type": "markdown",
   "id": "08206ef9",
   "metadata": {},
   "source": [
    "- 어레이 정규화: 표준화"
   ]
  },
  {
   "cell_type": "code",
   "execution_count": 47,
   "id": "0294c7d6",
   "metadata": {},
   "outputs": [
    {
     "data": {
      "text/plain": [
       "array([[-0.8048191 ],\n",
       "       [ 2.0458901 ],\n",
       "       [-0.53574589],\n",
       "       ...,\n",
       "       [-0.17499526],\n",
       "       [-0.35559977],\n",
       "       [ 0.06840827]])"
      ]
     },
     "execution_count": 47,
     "metadata": {},
     "output_type": "execute_result"
    }
   ],
   "source": [
    "z_arr = (total_rooms_arr - np.mean(total_rooms_arr)) / np.std(total_rooms_arr)\n",
    "z_arr"
   ]
  },
  {
   "cell_type": "code",
   "execution_count": 48,
   "id": "5f90b953",
   "metadata": {},
   "outputs": [
    {
     "data": {
      "text/plain": [
       "3.201573373337661e-17"
      ]
     },
     "execution_count": 48,
     "metadata": {},
     "output_type": "execute_result"
    }
   ],
   "source": [
    "np.mean(z_arr)"
   ]
  },
  {
   "cell_type": "code",
   "execution_count": 49,
   "id": "a32faacf",
   "metadata": {},
   "outputs": [
    {
     "data": {
      "text/plain": [
       "1.0"
      ]
     },
     "execution_count": 49,
     "metadata": {},
     "output_type": "execute_result"
    }
   ],
   "source": [
    "np.std(z_arr)"
   ]
  }
 ],
 "metadata": {
  "kernelspec": {
   "display_name": "Python 3 (ipykernel)",
   "language": "python",
   "name": "python3"
  },
  "language_info": {
   "codemirror_mode": {
    "name": "ipython",
    "version": 3
   },
   "file_extension": ".py",
   "mimetype": "text/x-python",
   "name": "python",
   "nbconvert_exporter": "python",
   "pygments_lexer": "ipython3",
   "version": "3.12.7"
  },
  "vscode": {
   "interpreter": {
    "hash": "ad0f3c8a064f687cbf898a0868fd45ba1c7e928ac8a0404f7c241d812ddc1e76"
   }
  }
 },
 "nbformat": 4,
 "nbformat_minor": 5
}
