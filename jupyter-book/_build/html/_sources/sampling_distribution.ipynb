{
 "cells": [
  {
   "cell_type": "markdown",
   "metadata": {
    "ExecuteTime": {
     "end_time": "2018-03-06T03:37:40.696920Z",
     "start_time": "2018-03-06T03:37:40.690655Z"
    }
   },
   "source": [
    "(ch:sampling-distribution)=\n",
    "# 표본분포(준비중)"
   ]
  },
  {
   "cell_type": "markdown",
   "metadata": {},
   "source": [
    "**기본 설정**"
   ]
  },
  {
   "cell_type": "markdown",
   "metadata": {
    "ExecuteTime": {
     "end_time": "2018-08-03T08:26:15.690793Z",
     "start_time": "2018-08-03T08:26:15.507201Z"
    }
   },
   "source": [
    "`numpy`와 `pandas` 라이브러리를 각각 `np`와 `pd`로 불러온다."
   ]
  },
  {
   "cell_type": "code",
   "execution_count": 1,
   "metadata": {
    "ExecuteTime": {
     "end_time": "2018-08-14T06:43:30.149227Z",
     "start_time": "2018-08-14T06:43:29.960007Z"
    }
   },
   "outputs": [],
   "source": [
    "import numpy as np\n",
    "import pandas as pd"
   ]
  },
  {
   "cell_type": "markdown",
   "metadata": {},
   "source": [
    "데이터프레임의 [chained indexing을 금지시키기 위한 설정](https://pandas.pydata.org/pandas-docs/stable/user_guide/indexing.html#returning-a-view-versus-a-copy)을 지정한다.\n",
    "Pandas 3.0 버전부터는 기본 옵션으로 지정된다."
   ]
  },
  {
   "cell_type": "code",
   "execution_count": 2,
   "metadata": {},
   "outputs": [],
   "source": [
    "pd.options.mode.copy_on_write = True"
   ]
  },
  {
   "cell_type": "markdown",
   "metadata": {
    "ExecuteTime": {
     "end_time": "2018-08-14T06:43:30.149227Z",
     "start_time": "2018-08-14T06:43:29.960007Z"
    }
   },
   "source": [
    "주피터 노트북에서 부동소수점의 출력을 소수점 이하 6자리로 제한한다.\n",
    "아래 코드는 주피터 노트북에서만 사용하며 일반적인 파이썬 코드가 아니다."
   ]
  },
  {
   "cell_type": "code",
   "execution_count": 3,
   "metadata": {
    "ExecuteTime": {
     "end_time": "2018-08-14T06:43:30.149227Z",
     "start_time": "2018-08-14T06:43:29.960007Z"
    }
   },
   "outputs": [
    {
     "data": {
      "text/plain": [
       "'%.6f'"
      ]
     },
     "execution_count": 3,
     "metadata": {},
     "output_type": "execute_result"
    }
   ],
   "source": [
    "%precision 6"
   ]
  },
  {
   "cell_type": "markdown",
   "metadata": {
    "ExecuteTime": {
     "end_time": "2018-08-14T06:43:30.149227Z",
     "start_time": "2018-08-14T06:43:29.960007Z"
    }
   },
   "source": [
    "아래 코드는 데이터프레임 내에서 부동소수점의 출력을 소수점 이하 6자리로 제한한다."
   ]
  },
  {
   "cell_type": "code",
   "execution_count": 4,
   "metadata": {
    "ExecuteTime": {
     "end_time": "2018-08-14T06:43:30.149227Z",
     "start_time": "2018-08-14T06:43:29.960007Z"
    }
   },
   "outputs": [],
   "source": [
    "pd.set_option('display.precision', 6)"
   ]
  },
  {
   "cell_type": "markdown",
   "metadata": {},
   "source": [
    "데이터 시각화를 위해 `matplotlib.pyplot`를 `plt`로,\n",
    "`seaborn`을 `sns`로 불러온다.\n",
    "`seaborn` 라이브러리는 통계 관련 데이터의 정보를 보다 세련되고 정확하게 전달하는 그래프를 그리는 도구를 제공한다.\n",
    "`matplotlib` 라이브러리를 바탕으로 만들어져서 함께 사용해도 된다."
   ]
  },
  {
   "cell_type": "code",
   "execution_count": 5,
   "metadata": {},
   "outputs": [],
   "source": [
    "import matplotlib.pyplot as plt\n",
    "import seaborn as sns"
   ]
  },
  {
   "cell_type": "markdown",
   "metadata": {},
   "source": [
    "그래프 스타일을 `seaborn`에서 제공하는 `white` 스타일로 지정한다."
   ]
  },
  {
   "cell_type": "code",
   "execution_count": 6,
   "metadata": {},
   "outputs": [],
   "source": [
    "sns.set_style(\"white\")"
   ]
  },
  {
   "cell_type": "markdown",
   "metadata": {},
   "source": [
    "**데이터 저장소 디렉토리**"
   ]
  },
  {
   "cell_type": "markdown",
   "metadata": {},
   "source": [
    "코드에 사용되는 [데이터 저장소의 기본 디렉토리](https://github.com/codingalzi/DataSci/tree/master/data)를 지정한다."
   ]
  },
  {
   "cell_type": "code",
   "execution_count": 7,
   "metadata": {},
   "outputs": [],
   "source": [
    "data_url = 'https://raw.githubusercontent.com/codingalzi/DataSci/refs/heads/master/data/'"
   ]
  },
  {
   "cell_type": "markdown",
   "metadata": {},
   "source": [
    "**주요 내용**"
   ]
  },
  {
   "cell_type": "markdown",
   "metadata": {},
   "source": [
    "표본 분포의 주요 개념을 소개한다.\n",
    "\n",
    "- 독립동일분포\n",
    "- 정규분포 연산\n",
    "- 표본평균의 분포\n",
    "- 중심극한정리\n",
    "- 큰 수의 법칙"
   ]
  },
  {
   "cell_type": "markdown",
   "metadata": {},
   "source": [
    "## 독립동일분포"
   ]
  },
  {
   "cell_type": "markdown",
   "metadata": {},
   "source": [
    "확률론에서 **독립동일분포**는 특정 확률 분포를 따르는 데이터셋에서 무작위로 표본을 독립적으로 여러 번 추출해서 얻어진 값들로 구성된 데이터를 가리키는 다차원 확률변수를 의미한다.\n",
    "독립동일분포는 보통 'independently and identically distributed'의 표현의 줄임말인 **iid**로 불린다.\n",
    "\n",
    "예를 들어 동일한 주사위를 10 번 던져서 나온 값들로 구성된 튜플,\n",
    "무작위로 선택된 100명에게 물은 동일한 질문에 대한 답으로 구성된 튜플 등을\n",
    "가리키는 확률변수가 대표적인 독립동일분포다.\n",
    "단, 다음 사항에 주의해야 한다.\n",
    "\n",
    "- 주사위를 반복해서 던질 때 동일 조건에서 반복되어야 함. \n",
    "- 무작위로 선택된 사람의 답변이 다른 사람의 답변과 어떤 영향도 주고받지 않아야 함."
   ]
  },
  {
   "cell_type": "markdown",
   "metadata": {},
   "source": [
    "### 독립성"
   ]
  },
  {
   "cell_type": "markdown",
   "metadata": {},
   "source": [
    "확률변수 $X$와 $Y$가 서로 어떤 영향도 끼치지 않을 때 서로 독립이라 하며\n",
    "다음 수식이 성립한다.\n",
    "\n",
    "$$\n",
    "f_{XY}(x, y) = f_X(x) \\cdot f_Y(y)\n",
    "$$"
   ]
  },
  {
   "cell_type": "markdown",
   "metadata": {},
   "source": [
    "예를 들어 $X$는 정상적인 주사위를 던져서 나오는 값을 가리키는 확률변수라 하자.\n",
    "$X$의 확률 분포는 다음과 같다.\n",
    "\n",
    "| X | 1 | 2 | 3 | 4 | 5 | 6|\n",
    "| :---: | :---: | :---: | :---: | :---: | :---: | :---: |\n",
    "| 확률 | 1/6 | 1/6 | 1/6 | 1/6 | 1/6 | 1/6 |"
   ]
  },
  {
   "cell_type": "code",
   "execution_count": 8,
   "metadata": {},
   "outputs": [],
   "source": [
    "def f_X(x):\n",
    "    if x in range(1, 7):\n",
    "        return 1/6\n",
    "    else:\n",
    "        return 0"
   ]
  },
  {
   "cell_type": "markdown",
   "metadata": {},
   "source": [
    "반면에 $Y$는 비정상적으로 다음 확률 분포를 따르는 확률 변수라 하자.\n",
    "\n",
    "| Y | 1 | 2 | 3 | 4 | 5 | 6|\n",
    "| :---: | :---: | :---: | :---: | :---: | :---: | :---: |\n",
    "| 확률 | 1/21 | 2/21 | 3/21 | 4/21 | 5/21 | 6/21 |"
   ]
  },
  {
   "cell_type": "code",
   "execution_count": 9,
   "metadata": {},
   "outputs": [],
   "source": [
    "def f_Y(y):\n",
    "    if y in range(1, 7):\n",
    "        return y/21\n",
    "    else:\n",
    "        return 0"
   ]
  },
  {
   "cell_type": "markdown",
   "metadata": {},
   "source": [
    "정상적인 주사위와 비정상적인 주사위를 동시에 던져서 나오는 값의 튜플을 가리키는\n",
    "결합 확률변수 $(X, Y)$의 결합 확률 질량 함수의 결합 확률 질량 함수는 다음과 같다."
   ]
  },
  {
   "cell_type": "code",
   "execution_count": 10,
   "metadata": {},
   "outputs": [],
   "source": [
    "def f_XY(x, y):\n",
    "    if y in range(1, 7):\n",
    "        return (1/6) * (y/21)\n",
    "    else:\n",
    "        return 0"
   ]
  },
  {
   "cell_type": "markdown",
   "metadata": {},
   "source": [
    "따라서 자연스럽게 두 확률변수가 서로 독립임이 확인된다."
   ]
  },
  {
   "cell_type": "markdown",
   "metadata": {},
   "source": [
    "### 독립성 대 무상관성"
   ]
  },
  {
   "cell_type": "markdown",
   "metadata": {},
   "source": [
    "확률변수 $X$와 $Y$가 서로 독립이면 두 확률변수 사이에 어떠한 상관성도 존재하지 않는다.\n",
    "예를 들어 {numref}`%s장 <ch:twoD-data>`에서 설명한 공분산과 상관계수가 0으로 계산된다."
   ]
  },
  {
   "cell_type": "markdown",
   "metadata": {},
   "source": [
    "$$\n",
    "\\begin{align*}\n",
    "E_{XY}[X] &= \\sum_{x}\\sum_y x \\, f_{XY}(x, y)\\\\[.5ex]\n",
    "E_{XY}[Y] &= \\sum_{x}\\sum_y y \\, f_{XY}(x, y)\\\\[.5ex]\n",
    "Var_{XY}(X) &= E_{XY}[(X - E_{XY}[X])^2]\\\\[1ex]\n",
    "Var_{XY}(Y) &= E_{XY}[(Y - E_{XY}[Y])^2]\\\\[1ex]\n",
    "Cov[X, Y] &= E_{XY}[(X - E_{XY}[X])\\,(Y-E_{XY}[Y])]\\\\[.5ex]\n",
    " &= \\sum_{x}\\sum_y (x-E_{XY}[X])\\, (y-E_{XY}[Y]) \\, f_{XY}(x, y)\\\\[1ex]\n",
    "Corr[X, Y] &= \\frac{Cov[X, Y]}{\\sqrt{Var_{XY}(X)\\, Var_{XY}(Y)}}\\\n",
    "\\end{align*}\n",
    "$$"
   ]
  },
  {
   "cell_type": "code",
   "execution_count": 11,
   "metadata": {},
   "outputs": [
    {
     "data": {
      "text/plain": [
       "3.500000"
      ]
     },
     "execution_count": 11,
     "metadata": {},
     "output_type": "execute_result"
    }
   ],
   "source": [
    "E_X = np.sum([x * f_XY(x, y) for x in range(1, 7) for y in range(1, 7)])\n",
    "E_X"
   ]
  },
  {
   "cell_type": "code",
   "execution_count": 12,
   "metadata": {},
   "outputs": [
    {
     "data": {
      "text/plain": [
       "4.333333"
      ]
     },
     "execution_count": 12,
     "metadata": {},
     "output_type": "execute_result"
    }
   ],
   "source": [
    "E_Y = np.sum([y * f_XY(x, y) for x in range(1, 7) for y in range(1, 7)])\n",
    "E_Y"
   ]
  },
  {
   "cell_type": "code",
   "execution_count": 13,
   "metadata": {},
   "outputs": [
    {
     "data": {
      "text/plain": [
       "-0.000000"
      ]
     },
     "execution_count": 13,
     "metadata": {},
     "output_type": "execute_result"
    }
   ],
   "source": [
    "np.sum([(x-E_X)*(y-E_Y)*f_XY(x, y) for x in range(1, 7) for y in range(1, 7)])"
   ]
  },
  {
   "cell_type": "markdown",
   "metadata": {},
   "source": [
    "공분산이 0이기에 상관계수도 0이다."
   ]
  },
  {
   "cell_type": "markdown",
   "metadata": {
    "id": "wUMnPIRtJl8J"
   },
   "source": [
    "## 정규분포 연산"
   ]
  },
  {
   "cell_type": "markdown",
   "metadata": {
    "id": "wUMnPIRtJl8J"
   },
   "source": [
    "### 합과 차"
   ]
  },
  {
   "cell_type": "markdown",
   "metadata": {
    "id": "wUMnPIRtJl8J"
   },
   "source": [
    "상호 독립인 확률변수 $X$와 $Y$가 정규분포를 따른다고 가정한다.\n",
    "\n",
    "$$\n",
    "X \\sim N(\\mu_X, \\sigma_X^2) \\qquad Y \\sim N(\\mu_y, \\sigma_y^2)\n",
    "$$"
   ]
  },
  {
   "cell_type": "markdown",
   "metadata": {
    "id": "wUMnPIRtJl8J"
   },
   "source": [
    "그러면 두 확률 번수의 합과 차를 확률변수 $X+Y$와 $X-Y$ 모두 정규분포를 따르며\n",
    "두 분포가 따르는 정규분포는 다음과 같다.\n",
    "\n",
    "$$\n",
    "X+Y \\sim N(\\mu_X+\\mu_Y,\\sigma_{X}^{2}+\\sigma_{Y}^{2}) \\qquad X-Y \\sim N(\\mu_X-\\mu_Y,\\ \\sigma_{X}^{2}+\\sigma_{Y}^{2})\n",
    "$$\n",
    "\n",
    "즉, $X+Y$의 평균값과 분산은 두 확률변수 각각의 평균값의 합과 분산의 합으로,\n",
    "$X-Y$의 평균값과 분산은 두 확률변수 각각의 평균값의 차와 분산의 합으로 계산된다.\n",
    "$X+Y$와 $X-Y$의 분산이 두 확률변수 각각의 분산의 합으로 계산되는 이유를 직관적으로 설명하기 위해\n",
    "다음 두 예제를 이용한다."
   ]
  },
  {
   "cell_type": "markdown",
   "metadata": {
    "id": "1CXFHBfSSpJR"
   },
   "source": [
    "**예제: 남자, 여자 체중의 합의 분포**"
   ]
  },
  {
   "cell_type": "markdown",
   "metadata": {},
   "source": [
    "해야 할 일: 아래 분포를 따라는 남녀 키 데이터를 생성해서 활용할 것.\n",
    "상호 독립이어야 함."
   ]
  },
  {
   "cell_type": "markdown",
   "metadata": {
    "id": "1CXFHBfSSpJR"
   },
   "source": [
    "- 전제\n",
    "    - 남자의 체중 $Y \\sim N(71.2, 8.5^2)$\n",
    "    - 여자의 체중 $X \\sim N(53.7, 6.3^2)$\n",
    "    \n",
    "- 결론\n",
    "    - 남자 + 여자의 체중 $\\sim N(124.9, 10.58^2)$\n",
    "    - 단, 남자와 여자의 체중은 상호 독립이라고 가정한다."
   ]
  },
  {
   "cell_type": "code",
   "execution_count": 14,
   "metadata": {},
   "outputs": [],
   "source": [
    "from scipy.stats import norm"
   ]
  },
  {
   "cell_type": "code",
   "execution_count": 21,
   "metadata": {},
   "outputs": [
    {
     "data": {
      "text/plain": [
       "10.580170"
      ]
     },
     "execution_count": 21,
     "metadata": {},
     "output_type": "execute_result"
    }
   ],
   "source": [
    "np.sqrt(8.5**2 + 6.3**2)"
   ]
  },
  {
   "cell_type": "code",
   "execution_count": 28,
   "metadata": {},
   "outputs": [],
   "source": [
    "X_men = norm(71.2, 8.5)\n",
    "X_wemen = norm(53.7, 6.3)\n",
    "X_sum = norm(124.9, 10.58)\n",
    "X_diff = norm(17.5, 10.58)"
   ]
  },
  {
   "cell_type": "code",
   "execution_count": 16,
   "metadata": {},
   "outputs": [],
   "source": [
    "data_men = X_men.rvs(size=1000)\n",
    "data_wemen = X_wemen.rvs(size=1000)"
   ]
  },
  {
   "cell_type": "code",
   "execution_count": 17,
   "metadata": {},
   "outputs": [
    {
     "data": {
      "text/html": [
       "<div>\n",
       "<style scoped>\n",
       "    .dataframe tbody tr th:only-of-type {\n",
       "        vertical-align: middle;\n",
       "    }\n",
       "\n",
       "    .dataframe tbody tr th {\n",
       "        vertical-align: top;\n",
       "    }\n",
       "\n",
       "    .dataframe thead th {\n",
       "        text-align: right;\n",
       "    }\n",
       "</style>\n",
       "<table border=\"1\" class=\"dataframe\">\n",
       "  <thead>\n",
       "    <tr style=\"text-align: right;\">\n",
       "      <th></th>\n",
       "      <th>Men</th>\n",
       "      <th>Wemen</th>\n",
       "    </tr>\n",
       "  </thead>\n",
       "  <tbody>\n",
       "    <tr>\n",
       "      <th>0</th>\n",
       "      <td>82.482049</td>\n",
       "      <td>58.560508</td>\n",
       "    </tr>\n",
       "    <tr>\n",
       "      <th>1</th>\n",
       "      <td>66.383688</td>\n",
       "      <td>54.541060</td>\n",
       "    </tr>\n",
       "    <tr>\n",
       "      <th>2</th>\n",
       "      <td>70.520752</td>\n",
       "      <td>56.189584</td>\n",
       "    </tr>\n",
       "    <tr>\n",
       "      <th>3</th>\n",
       "      <td>67.183047</td>\n",
       "      <td>59.024809</td>\n",
       "    </tr>\n",
       "    <tr>\n",
       "      <th>4</th>\n",
       "      <td>54.831566</td>\n",
       "      <td>53.376824</td>\n",
       "    </tr>\n",
       "    <tr>\n",
       "      <th>...</th>\n",
       "      <td>...</td>\n",
       "      <td>...</td>\n",
       "    </tr>\n",
       "    <tr>\n",
       "      <th>995</th>\n",
       "      <td>68.590987</td>\n",
       "      <td>45.792705</td>\n",
       "    </tr>\n",
       "    <tr>\n",
       "      <th>996</th>\n",
       "      <td>75.084614</td>\n",
       "      <td>56.315349</td>\n",
       "    </tr>\n",
       "    <tr>\n",
       "      <th>997</th>\n",
       "      <td>81.511496</td>\n",
       "      <td>56.323359</td>\n",
       "    </tr>\n",
       "    <tr>\n",
       "      <th>998</th>\n",
       "      <td>82.169376</td>\n",
       "      <td>55.234738</td>\n",
       "    </tr>\n",
       "    <tr>\n",
       "      <th>999</th>\n",
       "      <td>73.941220</td>\n",
       "      <td>56.396447</td>\n",
       "    </tr>\n",
       "  </tbody>\n",
       "</table>\n",
       "<p>1000 rows × 2 columns</p>\n",
       "</div>"
      ],
      "text/plain": [
       "           Men      Wemen\n",
       "0    82.482049  58.560508\n",
       "1    66.383688  54.541060\n",
       "2    70.520752  56.189584\n",
       "3    67.183047  59.024809\n",
       "4    54.831566  53.376824\n",
       "..         ...        ...\n",
       "995  68.590987  45.792705\n",
       "996  75.084614  56.315349\n",
       "997  81.511496  56.323359\n",
       "998  82.169376  55.234738\n",
       "999  73.941220  56.396447\n",
       "\n",
       "[1000 rows x 2 columns]"
      ]
     },
     "execution_count": 17,
     "metadata": {},
     "output_type": "execute_result"
    }
   ],
   "source": [
    "data = pd.DataFrame({'Men': data_men, 'Wemen':data_wemen})\n",
    "data"
   ]
  },
  {
   "cell_type": "code",
   "execution_count": 18,
   "metadata": {},
   "outputs": [
    {
     "data": {
      "text/html": [
       "<div>\n",
       "<style scoped>\n",
       "    .dataframe tbody tr th:only-of-type {\n",
       "        vertical-align: middle;\n",
       "    }\n",
       "\n",
       "    .dataframe tbody tr th {\n",
       "        vertical-align: top;\n",
       "    }\n",
       "\n",
       "    .dataframe thead th {\n",
       "        text-align: right;\n",
       "    }\n",
       "</style>\n",
       "<table border=\"1\" class=\"dataframe\">\n",
       "  <thead>\n",
       "    <tr style=\"text-align: right;\">\n",
       "      <th></th>\n",
       "      <th>Men</th>\n",
       "      <th>Wemen</th>\n",
       "      <th>Men+Wemen</th>\n",
       "      <th>Men-Wemen</th>\n",
       "    </tr>\n",
       "  </thead>\n",
       "  <tbody>\n",
       "    <tr>\n",
       "      <th>0</th>\n",
       "      <td>82.482049</td>\n",
       "      <td>58.560508</td>\n",
       "      <td>141.042558</td>\n",
       "      <td>23.921541</td>\n",
       "    </tr>\n",
       "    <tr>\n",
       "      <th>1</th>\n",
       "      <td>66.383688</td>\n",
       "      <td>54.541060</td>\n",
       "      <td>120.924748</td>\n",
       "      <td>11.842628</td>\n",
       "    </tr>\n",
       "    <tr>\n",
       "      <th>2</th>\n",
       "      <td>70.520752</td>\n",
       "      <td>56.189584</td>\n",
       "      <td>126.710335</td>\n",
       "      <td>14.331168</td>\n",
       "    </tr>\n",
       "    <tr>\n",
       "      <th>3</th>\n",
       "      <td>67.183047</td>\n",
       "      <td>59.024809</td>\n",
       "      <td>126.207857</td>\n",
       "      <td>8.158238</td>\n",
       "    </tr>\n",
       "    <tr>\n",
       "      <th>4</th>\n",
       "      <td>54.831566</td>\n",
       "      <td>53.376824</td>\n",
       "      <td>108.208389</td>\n",
       "      <td>1.454742</td>\n",
       "    </tr>\n",
       "    <tr>\n",
       "      <th>...</th>\n",
       "      <td>...</td>\n",
       "      <td>...</td>\n",
       "      <td>...</td>\n",
       "      <td>...</td>\n",
       "    </tr>\n",
       "    <tr>\n",
       "      <th>995</th>\n",
       "      <td>68.590987</td>\n",
       "      <td>45.792705</td>\n",
       "      <td>114.383693</td>\n",
       "      <td>22.798282</td>\n",
       "    </tr>\n",
       "    <tr>\n",
       "      <th>996</th>\n",
       "      <td>75.084614</td>\n",
       "      <td>56.315349</td>\n",
       "      <td>131.399964</td>\n",
       "      <td>18.769265</td>\n",
       "    </tr>\n",
       "    <tr>\n",
       "      <th>997</th>\n",
       "      <td>81.511496</td>\n",
       "      <td>56.323359</td>\n",
       "      <td>137.834855</td>\n",
       "      <td>25.188137</td>\n",
       "    </tr>\n",
       "    <tr>\n",
       "      <th>998</th>\n",
       "      <td>82.169376</td>\n",
       "      <td>55.234738</td>\n",
       "      <td>137.404115</td>\n",
       "      <td>26.934638</td>\n",
       "    </tr>\n",
       "    <tr>\n",
       "      <th>999</th>\n",
       "      <td>73.941220</td>\n",
       "      <td>56.396447</td>\n",
       "      <td>130.337667</td>\n",
       "      <td>17.544773</td>\n",
       "    </tr>\n",
       "  </tbody>\n",
       "</table>\n",
       "<p>1000 rows × 4 columns</p>\n",
       "</div>"
      ],
      "text/plain": [
       "           Men      Wemen   Men+Wemen  Men-Wemen\n",
       "0    82.482049  58.560508  141.042558  23.921541\n",
       "1    66.383688  54.541060  120.924748  11.842628\n",
       "2    70.520752  56.189584  126.710335  14.331168\n",
       "3    67.183047  59.024809  126.207857   8.158238\n",
       "4    54.831566  53.376824  108.208389   1.454742\n",
       "..         ...        ...         ...        ...\n",
       "995  68.590987  45.792705  114.383693  22.798282\n",
       "996  75.084614  56.315349  131.399964  18.769265\n",
       "997  81.511496  56.323359  137.834855  25.188137\n",
       "998  82.169376  55.234738  137.404115  26.934638\n",
       "999  73.941220  56.396447  130.337667  17.544773\n",
       "\n",
       "[1000 rows x 4 columns]"
      ]
     },
     "execution_count": 18,
     "metadata": {},
     "output_type": "execute_result"
    }
   ],
   "source": [
    "data['Men+Wemen'] = data_men + data_wemen\n",
    "data['Men-Wemen'] = data_men - data_wemen\n",
    "data"
   ]
  },
  {
   "cell_type": "code",
   "execution_count": 29,
   "metadata": {
    "colab": {
     "base_uri": "https://localhost:8080/",
     "height": 265
    },
    "executionInfo": {
     "elapsed": 505,
     "status": "ok",
     "timestamp": 1677562090025,
     "user": {
      "displayName": "심지혜",
      "userId": "04812080460422707380"
     },
     "user_tz": -540
    },
    "id": "J1S4jNBqUjes",
    "outputId": "448189ea-76fd-454f-e221-5872843c1eb3"
   },
   "outputs": [
    {
     "data": {
      "image/png": "[encoded data removed]",
      "text/plain": [
       "<Figure size 640x480 with 1 Axes>"
      ]
     },
     "metadata": {},
     "output_type": "display_data"
    }
   ],
   "source": [
    "fig, ax = plt.subplots()\n",
    "\n",
    "data_sum = data.iloc[:, [0, 1, 2]]\n",
    "sns.kdeplot(ax=ax, data=data_sum)\n",
    "\n",
    "x = np.arange(80, 170, 0.01)\n",
    "ax.plot(x, X_sum.pdf(x), color='tab:red', label='sum')\n",
    "\n",
    "x = np.arange(40, 100, 0.01)\n",
    "ax.plot(x, X_men.pdf(x), color='tab:red', label='sum')\n",
    "\n",
    "\n",
    "\n",
    "x_ticks = np.append(ax.get_xticks(), [71.2, 53.7, 124.9])\n",
    "x_ticks_ = np.append(ax.get_xticks(), [r'$\\mu_{men}$', r'$\\mu_{wemen}$', r'$\\mu_{sum}$']) # 실제로 보이는 눈금 기호\n",
    "\n",
    "ax.set_xticks(x_ticks, x_ticks_, rotation=90)\n",
    "ax.get_xticklabels()[-3].set_color(\"red\") # a 눈금 색 지정\n",
    "ax.get_xticklabels()[-2].set_color(\"red\") # a 눈금 색 지정\n",
    "ax.get_xticklabels()[-1].set_color(\"red\") # a 눈금 색 지정\n",
    "\n",
    "ax.set_xlabel('Weight')\n",
    "ax.legend()\n",
    "\n",
    "plt.show()"
   ]
  },
  {
   "cell_type": "markdown",
   "metadata": {
    "id": "wakZm7DkeFMV"
   },
   "source": [
    "**예제: 남자, 여자의 체중 차이**"
   ]
  },
  {
   "cell_type": "markdown",
   "metadata": {
    "id": "1CXFHBfSSpJR"
   },
   "source": [
    "- 전제\n",
    "    - 남자의 체중 $Y \\sim N(71.2, 8.5^2)$\n",
    "    - 여자의 체중 $X \\sim N(53.7, 6.3^2)$\n",
    "    \n",
    "- 결론\n",
    "    - 남자 - 여자의 체중 $\\sim N(17.5, 10.58^2)$\n",
    "    - 단, 남자와 여자의 체중은 상호 독립이라고 가정한다."
   ]
  },
  {
   "cell_type": "code",
   "execution_count": 20,
   "metadata": {
    "colab": {
     "base_uri": "https://localhost:8080/",
     "height": 265
    },
    "executionInfo": {
     "elapsed": 505,
     "status": "ok",
     "timestamp": 1677562090025,
     "user": {
      "displayName": "심지혜",
      "userId": "04812080460422707380"
     },
     "user_tz": -540
    },
    "id": "J1S4jNBqUjes",
    "outputId": "448189ea-76fd-454f-e221-5872843c1eb3"
   },
   "outputs": [
    {
     "data": {
      "image/png": "[encoded data removed]",
      "text/plain": [
       "<Figure size 640x480 with 1 Axes>"
      ]
     },
     "metadata": {},
     "output_type": "display_data"
    }
   ],
   "source": [
    "fig, ax = plt.subplots()\n",
    "\n",
    "data_diff = data.iloc[:, [0, 1, 3]]\n",
    "\n",
    "sns.kdeplot(ax=ax, data=data_diff)\n",
    "\n",
    "x_ticks = np.append(ax.get_xticks(), [71.2, 53.7, 17.5])\n",
    "x_ticks_ = np.append(ax.get_xticks(), [r'$\\mu_{men}$', r'$\\mu_{wemen}$', r'$\\mu_{diff}$']) # 실제로 보이는 눈금 기호\n",
    "\n",
    "ax.set_xticks(x_ticks, x_ticks_, rotation=90)\n",
    "ax.get_xticklabels()[-3].set_color(\"red\") # a 눈금 색 지정\n",
    "ax.get_xticklabels()[-2].set_color(\"red\") # a 눈금 색 지정\n",
    "ax.get_xticklabels()[-1].set_color(\"red\") # a 눈금 색 지정\n",
    "\n",
    "\n",
    "ax.set_xlabel('Weight')\n",
    "\n",
    "plt.show()"
   ]
  },
  {
   "cell_type": "markdown",
   "metadata": {},
   "source": [
    "**상호 독립성의 중요성: 피어슨  데이터셋**"
   ]
  },
  {
   "cell_type": "markdown",
   "metadata": {},
   "source": [
    "**주의사항**"
   ]
  },
  {
   "cell_type": "markdown",
   "metadata": {},
   "source": [
    "- $X$와 $Y$가 상호 독립이지 않은 경우를 다뤄야 함.\n",
    "- 예를 들어 피어슨 데이터셋의 아버지와 아들의 키 데이터셋. 아버지 키와 아들 키는 독립적일 수 없음."
   ]
  },
  {
   "cell_type": "markdown",
   "metadata": {},
   "source": [
    "아래 코드는 피어슨<font size='2'>Pearson</font>이 1903년에 실험을 위해 수집한\n",
    "아버지와 아들의 키로 구성된 데이터셋을 불러온다.\n",
    "원래 인치 단위를 사용하지만 편의를 위해 센티미터 단위로 변환되었다."
   ]
  },
  {
   "cell_type": "code",
   "execution_count": 60,
   "metadata": {},
   "outputs": [
    {
     "data": {
      "text/html": [
       "<div>\n",
       "<style scoped>\n",
       "    .dataframe tbody tr th:only-of-type {\n",
       "        vertical-align: middle;\n",
       "    }\n",
       "\n",
       "    .dataframe tbody tr th {\n",
       "        vertical-align: top;\n",
       "    }\n",
       "\n",
       "    .dataframe thead th {\n",
       "        text-align: right;\n",
       "    }\n",
       "</style>\n",
       "<table border=\"1\" class=\"dataframe\">\n",
       "  <thead>\n",
       "    <tr style=\"text-align: right;\">\n",
       "      <th></th>\n",
       "      <th>Father</th>\n",
       "      <th>Son</th>\n",
       "    </tr>\n",
       "  </thead>\n",
       "  <tbody>\n",
       "    <tr>\n",
       "      <th>0</th>\n",
       "      <td>165.1</td>\n",
       "      <td>151.9</td>\n",
       "    </tr>\n",
       "    <tr>\n",
       "      <th>1</th>\n",
       "      <td>160.8</td>\n",
       "      <td>160.5</td>\n",
       "    </tr>\n",
       "    <tr>\n",
       "      <th>2</th>\n",
       "      <td>165.1</td>\n",
       "      <td>160.8</td>\n",
       "    </tr>\n",
       "    <tr>\n",
       "      <th>3</th>\n",
       "      <td>167.1</td>\n",
       "      <td>159.5</td>\n",
       "    </tr>\n",
       "    <tr>\n",
       "      <th>4</th>\n",
       "      <td>155.2</td>\n",
       "      <td>163.3</td>\n",
       "    </tr>\n",
       "  </tbody>\n",
       "</table>\n",
       "</div>"
      ],
      "text/plain": [
       "   Father    Son\n",
       "0   165.1  151.9\n",
       "1   160.8  160.5\n",
       "2   165.1  160.8\n",
       "3   167.1  159.5\n",
       "4   155.2  163.3"
      ]
     },
     "execution_count": 60,
     "metadata": {},
     "output_type": "execute_result"
    }
   ],
   "source": [
    "pearson = pd.read_csv(data_url+\"pearson_dataset.csv\", header=0)\n",
    "\n",
    "pearson.head()"
   ]
  },
  {
   "cell_type": "markdown",
   "metadata": {},
   "source": [
    "아버지 키와 아들 키 각각 총 1,078개의 부동소수점 값이 포함되었다."
   ]
  },
  {
   "cell_type": "code",
   "execution_count": 61,
   "metadata": {},
   "outputs": [
    {
     "name": "stdout",
     "output_type": "stream",
     "text": [
      "<class 'pandas.core.frame.DataFrame'>\n",
      "RangeIndex: 1078 entries, 0 to 1077\n",
      "Data columns (total 2 columns):\n",
      " #   Column  Non-Null Count  Dtype  \n",
      "---  ------  --------------  -----  \n",
      " 0   Father  1078 non-null   float64\n",
      " 1   Son     1078 non-null   float64\n",
      "dtypes: float64(2)\n",
      "memory usage: 17.0 KB\n"
     ]
    }
   ],
   "source": [
    "pearson.info()"
   ]
  },
  {
   "cell_type": "markdown",
   "metadata": {},
   "source": [
    "**아버지 키와 아들 키의 상관관계**"
   ]
  },
  {
   "cell_type": "markdown",
   "metadata": {},
   "source": [
    "- 공분산"
   ]
  },
  {
   "cell_type": "code",
   "execution_count": 62,
   "metadata": {},
   "outputs": [
    {
     "data": {
      "text/html": [
       "<div>\n",
       "<style scoped>\n",
       "    .dataframe tbody tr th:only-of-type {\n",
       "        vertical-align: middle;\n",
       "    }\n",
       "\n",
       "    .dataframe tbody tr th {\n",
       "        vertical-align: top;\n",
       "    }\n",
       "\n",
       "    .dataframe thead th {\n",
       "        text-align: right;\n",
       "    }\n",
       "</style>\n",
       "<table border=\"1\" class=\"dataframe\">\n",
       "  <thead>\n",
       "    <tr style=\"text-align: right;\">\n",
       "      <th></th>\n",
       "      <th>Father</th>\n",
       "      <th>Son</th>\n",
       "    </tr>\n",
       "  </thead>\n",
       "  <tbody>\n",
       "    <tr>\n",
       "      <th>Father</th>\n",
       "      <td>48.612085</td>\n",
       "      <td>24.984513</td>\n",
       "    </tr>\n",
       "    <tr>\n",
       "      <th>Son</th>\n",
       "      <td>24.984513</td>\n",
       "      <td>51.125832</td>\n",
       "    </tr>\n",
       "  </tbody>\n",
       "</table>\n",
       "</div>"
      ],
      "text/plain": [
       "           Father        Son\n",
       "Father  48.612085  24.984513\n",
       "Son     24.984513  51.125832"
      ]
     },
     "execution_count": 62,
     "metadata": {},
     "output_type": "execute_result"
    }
   ],
   "source": [
    "pearson.cov(ddof=0)"
   ]
  },
  {
   "cell_type": "markdown",
   "metadata": {},
   "source": [
    "- 피어슨 상관계수"
   ]
  },
  {
   "cell_type": "code",
   "execution_count": 64,
   "metadata": {},
   "outputs": [
    {
     "data": {
      "text/html": [
       "<div>\n",
       "<style scoped>\n",
       "    .dataframe tbody tr th:only-of-type {\n",
       "        vertical-align: middle;\n",
       "    }\n",
       "\n",
       "    .dataframe tbody tr th {\n",
       "        vertical-align: top;\n",
       "    }\n",
       "\n",
       "    .dataframe thead th {\n",
       "        text-align: right;\n",
       "    }\n",
       "</style>\n",
       "<table border=\"1\" class=\"dataframe\">\n",
       "  <thead>\n",
       "    <tr style=\"text-align: right;\">\n",
       "      <th></th>\n",
       "      <th>Father</th>\n",
       "      <th>Son</th>\n",
       "    </tr>\n",
       "  </thead>\n",
       "  <tbody>\n",
       "    <tr>\n",
       "      <th>Father</th>\n",
       "      <td>1.000000</td>\n",
       "      <td>0.501163</td>\n",
       "    </tr>\n",
       "    <tr>\n",
       "      <th>Son</th>\n",
       "      <td>0.501163</td>\n",
       "      <td>1.000000</td>\n",
       "    </tr>\n",
       "  </tbody>\n",
       "</table>\n",
       "</div>"
      ],
      "text/plain": [
       "          Father       Son\n",
       "Father  1.000000  0.501163\n",
       "Son     0.501163  1.000000"
      ]
     },
     "execution_count": 64,
     "metadata": {},
     "output_type": "execute_result"
    }
   ],
   "source": [
    "pearson.corr()"
   ]
  },
  {
   "cell_type": "markdown",
   "metadata": {},
   "source": [
    "결론: 아버지키와 아들 키는 상호 독립이 아님."
   ]
  },
  {
   "cell_type": "markdown",
   "metadata": {},
   "source": [
    "- 아버지 키와 아들 키 합 데이터 추가"
   ]
  },
  {
   "cell_type": "code",
   "execution_count": 65,
   "metadata": {},
   "outputs": [
    {
     "data": {
      "text/html": [
       "<div>\n",
       "<style scoped>\n",
       "    .dataframe tbody tr th:only-of-type {\n",
       "        vertical-align: middle;\n",
       "    }\n",
       "\n",
       "    .dataframe tbody tr th {\n",
       "        vertical-align: top;\n",
       "    }\n",
       "\n",
       "    .dataframe thead th {\n",
       "        text-align: right;\n",
       "    }\n",
       "</style>\n",
       "<table border=\"1\" class=\"dataframe\">\n",
       "  <thead>\n",
       "    <tr style=\"text-align: right;\">\n",
       "      <th></th>\n",
       "      <th>Father</th>\n",
       "      <th>Son</th>\n",
       "      <th>Father+Son</th>\n",
       "    </tr>\n",
       "  </thead>\n",
       "  <tbody>\n",
       "    <tr>\n",
       "      <th>0</th>\n",
       "      <td>165.1</td>\n",
       "      <td>151.9</td>\n",
       "      <td>317.0</td>\n",
       "    </tr>\n",
       "    <tr>\n",
       "      <th>1</th>\n",
       "      <td>160.8</td>\n",
       "      <td>160.5</td>\n",
       "      <td>321.3</td>\n",
       "    </tr>\n",
       "    <tr>\n",
       "      <th>2</th>\n",
       "      <td>165.1</td>\n",
       "      <td>160.8</td>\n",
       "      <td>325.9</td>\n",
       "    </tr>\n",
       "    <tr>\n",
       "      <th>3</th>\n",
       "      <td>167.1</td>\n",
       "      <td>159.5</td>\n",
       "      <td>326.6</td>\n",
       "    </tr>\n",
       "    <tr>\n",
       "      <th>4</th>\n",
       "      <td>155.2</td>\n",
       "      <td>163.3</td>\n",
       "      <td>318.5</td>\n",
       "    </tr>\n",
       "  </tbody>\n",
       "</table>\n",
       "</div>"
      ],
      "text/plain": [
       "   Father    Son  Father+Son\n",
       "0   165.1  151.9       317.0\n",
       "1   160.8  160.5       321.3\n",
       "2   165.1  160.8       325.9\n",
       "3   167.1  159.5       326.6\n",
       "4   155.2  163.3       318.5"
      ]
     },
     "execution_count": 65,
     "metadata": {},
     "output_type": "execute_result"
    }
   ],
   "source": [
    "pearson['Father+Son'] = pearson['Father'] + pearson['Son']\n",
    "pearson.head()"
   ]
  },
  {
   "cell_type": "code",
   "execution_count": 66,
   "metadata": {},
   "outputs": [
    {
     "data": {
      "text/html": [
       "<div>\n",
       "<style scoped>\n",
       "    .dataframe tbody tr th:only-of-type {\n",
       "        vertical-align: middle;\n",
       "    }\n",
       "\n",
       "    .dataframe tbody tr th {\n",
       "        vertical-align: top;\n",
       "    }\n",
       "\n",
       "    .dataframe thead th {\n",
       "        text-align: right;\n",
       "    }\n",
       "</style>\n",
       "<table border=\"1\" class=\"dataframe\">\n",
       "  <thead>\n",
       "    <tr style=\"text-align: right;\">\n",
       "      <th></th>\n",
       "      <th>Father</th>\n",
       "      <th>Son</th>\n",
       "      <th>Father+Son</th>\n",
       "    </tr>\n",
       "  </thead>\n",
       "  <tbody>\n",
       "    <tr>\n",
       "      <th>count</th>\n",
       "      <td>1078.000000</td>\n",
       "      <td>1078.000000</td>\n",
       "      <td>1078.000000</td>\n",
       "    </tr>\n",
       "    <tr>\n",
       "      <th>mean</th>\n",
       "      <td>171.922635</td>\n",
       "      <td>174.457978</td>\n",
       "      <td>346.380612</td>\n",
       "    </tr>\n",
       "    <tr>\n",
       "      <th>std</th>\n",
       "      <td>6.975473</td>\n",
       "      <td>7.153552</td>\n",
       "      <td>12.241158</td>\n",
       "    </tr>\n",
       "    <tr>\n",
       "      <th>min</th>\n",
       "      <td>149.900000</td>\n",
       "      <td>148.600000</td>\n",
       "      <td>307.800000</td>\n",
       "    </tr>\n",
       "    <tr>\n",
       "      <th>25%</th>\n",
       "      <td>167.100000</td>\n",
       "      <td>169.900000</td>\n",
       "      <td>338.025000</td>\n",
       "    </tr>\n",
       "    <tr>\n",
       "      <th>50%</th>\n",
       "      <td>172.200000</td>\n",
       "      <td>174.200000</td>\n",
       "      <td>346.400000</td>\n",
       "    </tr>\n",
       "    <tr>\n",
       "      <th>75%</th>\n",
       "      <td>176.800000</td>\n",
       "      <td>179.100000</td>\n",
       "      <td>354.800000</td>\n",
       "    </tr>\n",
       "    <tr>\n",
       "      <th>max</th>\n",
       "      <td>191.500000</td>\n",
       "      <td>199.100000</td>\n",
       "      <td>381.000000</td>\n",
       "    </tr>\n",
       "  </tbody>\n",
       "</table>\n",
       "</div>"
      ],
      "text/plain": [
       "            Father          Son   Father+Son\n",
       "count  1078.000000  1078.000000  1078.000000\n",
       "mean    171.922635   174.457978   346.380612\n",
       "std       6.975473     7.153552    12.241158\n",
       "min     149.900000   148.600000   307.800000\n",
       "25%     167.100000   169.900000   338.025000\n",
       "50%     172.200000   174.200000   346.400000\n",
       "75%     176.800000   179.100000   354.800000\n",
       "max     191.500000   199.100000   381.000000"
      ]
     },
     "execution_count": 66,
     "metadata": {},
     "output_type": "execute_result"
    }
   ],
   "source": [
    "pearson_desc = pearson.describe()\n",
    "pearson_desc"
   ]
  },
  {
   "cell_type": "markdown",
   "metadata": {},
   "source": [
    "- 평균값의 합"
   ]
  },
  {
   "cell_type": "code",
   "execution_count": 67,
   "metadata": {},
   "outputs": [
    {
     "data": {
      "text/plain": [
       "346.380612"
      ]
     },
     "execution_count": 67,
     "metadata": {},
     "output_type": "execute_result"
    }
   ],
   "source": [
    "mu_FS = pearson_desc.loc['mean', 'Father'] + pearson_desc.loc['mean', 'Son']\n",
    "mu_FS"
   ]
  },
  {
   "cell_type": "markdown",
   "metadata": {},
   "source": [
    "- 분산의 합"
   ]
  },
  {
   "cell_type": "code",
   "execution_count": 68,
   "metadata": {},
   "outputs": [
    {
     "data": {
      "text/plain": [
       "99.830524"
      ]
     },
     "execution_count": 68,
     "metadata": {},
     "output_type": "execute_result"
    }
   ],
   "source": [
    "sigma_FS_squared = pearson_desc.loc['std', 'Father'] ** 2 + pearson_desc.loc['std', 'Son'] ** 2\n",
    "sigma_FS_squared"
   ]
  },
  {
   "cell_type": "markdown",
   "metadata": {},
   "source": [
    "- 이론적인 아버지 키와 아들 키의 합의 표준편차"
   ]
  },
  {
   "cell_type": "code",
   "execution_count": 69,
   "metadata": {},
   "outputs": [
    {
     "data": {
      "text/plain": [
       "9.991523"
      ]
     },
     "execution_count": 69,
     "metadata": {},
     "output_type": "execute_result"
    }
   ],
   "source": [
    "sigma_FS = np.sqrt(sigma_FS_squared)\n",
    "sigma_FS"
   ]
  },
  {
   "cell_type": "markdown",
   "metadata": {},
   "source": [
    "이론과 실제 계산된 표준편차가 많이 다르다."
   ]
  },
  {
   "cell_type": "markdown",
   "metadata": {},
   "source": [
    "- 실제 아버지 키와 아들 키의 합의 표준편차"
   ]
  },
  {
   "cell_type": "code",
   "execution_count": 70,
   "metadata": {},
   "outputs": [
    {
     "data": {
      "text/plain": [
       "12.241158"
      ]
     },
     "execution_count": 70,
     "metadata": {},
     "output_type": "execute_result"
    }
   ],
   "source": [
    "sigma_FaddS = pearson_desc.loc['std', 'Father+Son']\n",
    "sigma_FaddS"
   ]
  },
  {
   "cell_type": "markdown",
   "metadata": {},
   "source": [
    "- (아버지 키 + 아들 키)의 이론적 정규분포"
   ]
  },
  {
   "cell_type": "code",
   "execution_count": 71,
   "metadata": {},
   "outputs": [],
   "source": [
    "from scipy.stats import norm\n",
    "\n",
    "X_FS = norm(mu_FS, sigma_FS)"
   ]
  },
  {
   "cell_type": "markdown",
   "metadata": {},
   "source": [
    "- 확률 밀도 함수 그래프로 구분하기"
   ]
  },
  {
   "cell_type": "code",
   "execution_count": 72,
   "metadata": {},
   "outputs": [
    {
     "data": {
      "image/png": "[encoded data removed]",
      "text/plain": [
       "<Figure size 640x480 with 1 Axes>"
      ]
     },
     "metadata": {},
     "output_type": "display_data"
    }
   ],
   "source": [
    "fig, ax = plt.subplots()\n",
    "\n",
    "# KDE 기법으로 계산된 확률 밀도 함수 그래프\n",
    "# 아버지 키의 정규분포\n",
    "sns.kdeplot(ax=ax, data=pearson['Father'], label='Father')\n",
    "# 아들 키의 정규분포\n",
    "sns.kdeplot(ax=ax, data=pearson['Son'], label='Son')\n",
    "# (아버지 키+아들 키)의 실제 분포: 정규분포 아님\n",
    "sns.kdeplot(ax=ax, data=pearson['Father+Son'], label='Father+Son')\n",
    "\n",
    "# (아버지 키+아들 키)의 이론적 정규분포\n",
    "x = np.linspace(300, 400, 100)\n",
    "ax.plot(x, X_FS.pdf(x), label=r'$N(\\mu_{FS}, \\sigma_{FS})$')\n",
    "\n",
    "ax.set_xlabel('Height')\n",
    "ax.set_ylabel('Density')\n",
    "\n",
    "ax.legend()\n",
    "plt.show()"
   ]
  },
  {
   "cell_type": "markdown",
   "metadata": {},
   "source": [
    "결론\n",
    "\n",
    "- 두 정규분포가 독립이 아니면 합의 분산은 언급된 공식으로 계산되지 않는다.\n",
    "- 아버지 키와 많이 다른 아들 키가 존재할 수 있기 때문으로 추정된다. (?)"
   ]
  },
  {
   "cell_type": "markdown",
   "metadata": {
    "id": "zLVHnCHL9hGh"
   },
   "source": [
    "### 정규분포 선형 변환"
   ]
  },
  {
   "cell_type": "markdown",
   "metadata": {
    "id": "wUMnPIRtJl8J"
   },
   "source": [
    "* 전제\n",
    "$$X ∼ N(μ, 𝜎^{2})$$\n",
    "\n",
    "* 결론\n",
    "$$⇒\\ aX+b ∼ N(aμ+b,\\ a^{2}𝜎)$$"
   ]
  },
  {
   "cell_type": "markdown",
   "metadata": {
    "id": "zLVHnCHL9hGh"
   },
   "source": [
    "X가 한국인 성인 한 명의 체중이라고 하면 **정규분포**를 따른다.    \n",
    "체중의 평균이 μ, 분산은 $𝜎^2$라 하자. 즉 다음이 성립한다.\n",
    "\n",
    "$$\n",
    "X ∼ N(μ,𝜎^2)\n",
    "$$\n",
    "\n",
    "이제, 중력이 지구의 4배인 행성이 있고 모든 한국인이 그 행성으로 이주했다고 가정하자.      \n",
    "그러면 모든 한국인의 체중이 지구에서의 체중의 4배로 늘어난다. 따라서 체중의 평균도 4배, 즉 4μ가 된다.\n",
    "\n",
    "반면에, 체중의 분산은 지구에서의 경우보다 $4^2배,\\ 즉\\ 16𝜎^2$이 된다.\n",
    "\n",
    "따라서, 새로운 행성에서의 한국인 체중은 아래의 분포를 따른다\n",
    "\n",
    "$$\n",
    "4X∼ N(4μ,16𝜎^2)\n",
    "$$\n",
    "\n",
    "$4X$는 사람들의 체중이 4배되었음을 의미한다.\n",
    "\n",
    "이렇게 기존에 사용된 데이터가 $ax+b의\\ 방식으로\\ 변하면,\\ _{(기존\\ 데이터의\\ 각각의\\ 값을\\ a배한\\ 후\\ b를\\ 더해주는\\ 방식)}$,\n",
    "즉, **선형 변환**을 하면 새로운 데이터의 평균과 분산은 아래와 같이 변한다.\n",
    "\n",
    "$$\n",
    "aX+b ∼ N(a⋅μ+b,\\ \\ a^2𝜎^2)\n",
    "$$"
   ]
  },
  {
   "cell_type": "markdown",
   "metadata": {
    "id": "Hg4GgJPE-xZC"
   },
   "source": [
    "### 정규분포의 독립 관측"
   ]
  },
  {
   "cell_type": "markdown",
   "metadata": {
    "id": "wUMnPIRtJl8J"
   },
   "source": [
    "* 전제\n",
    "$$X ∼ N(μ, 𝜎^{2})$$\n",
    "$$⇒ X_{1}, ⋯, X_ n\\ 모두\\ X의\\ 독립\\ 관측$$ \n",
    "\n",
    "* 결론\n",
    "$$X_1+⋯+X_n ∼ N(nμ, n𝜎^2)$$"
   ]
  },
  {
   "cell_type": "markdown",
   "metadata": {
    "id": "Hg4GgJPE-xZC"
   },
   "source": [
    "X가 한국인 성인 한 명의 체중이라고 하면 **정규분포**를 따른다.    \n",
    "체중의 평균이 μ, 분산은 $𝜎^2$라 하자. 즉 다음이 성립한다.\n",
    "\n",
    "$$\n",
    "X ∼ N(μ,𝜎^2)\n",
    "$$\n",
    "\n",
    "이제, <u>한국인 성인 4명을 무작위로, 그리고 상호 독립적으로 선발</u>하였을 때 4명 체중의 합의 평균은 4μ이다.\n",
    "\n",
    "또한, 4명 체중의 합의 분산도 $4𝜎^2$이 된다.\n",
    "\n",
    "무작위적이며 상호 독립적인 방식으로 4명을 선택하여 합한 체중의 분포를 $X+X+X+X$로 표기한다\n",
    "\n",
    "> $X+X+X+X$는 4명을 무작위적이며, 서로 아무 상관없이 독립적으로 선택한다는 의미\n",
    "\n",
    "이때 $X+X+X+X ∼ N(4μ,4𝜎^2)$이 성립한다.\n",
    "\n",
    "일반적으로 아래 공식이 성립한다.\n",
    "\n",
    "$$\n",
    "X_1+X_2+⋯+X_n ∼ N(nμ,n𝜎^2)\n",
    "$$\n",
    "\n",
    "단, $X_i$는 모두 $X$의 독립관측이다. ($X$를 독립적으로 $n$번 반복한다는 의미)"
   ]
  },
  {
   "cell_type": "markdown",
   "metadata": {},
   "source": [
    "**캘리포니아 주택가격 데이터셋**"
   ]
  },
  {
   "cell_type": "markdown",
   "metadata": {},
   "source": [
    "캘리포니아 주택가격 데이터셋을 계속해서 활용한다."
   ]
  },
  {
   "cell_type": "markdown",
   "metadata": {},
   "source": [
    "- 캘리포니아 주택가격 데이터셋"
   ]
  },
  {
   "cell_type": "code",
   "execution_count": 7,
   "metadata": {},
   "outputs": [
    {
     "data": {
      "text/html": [
       "<div>\n",
       "<style scoped>\n",
       "    .dataframe tbody tr th:only-of-type {\n",
       "        vertical-align: middle;\n",
       "    }\n",
       "\n",
       "    .dataframe tbody tr th {\n",
       "        vertical-align: top;\n",
       "    }\n",
       "\n",
       "    .dataframe thead th {\n",
       "        text-align: right;\n",
       "    }\n",
       "</style>\n",
       "<table border=\"1\" class=\"dataframe\">\n",
       "  <thead>\n",
       "    <tr style=\"text-align: right;\">\n",
       "      <th></th>\n",
       "      <th>longitude</th>\n",
       "      <th>latitude</th>\n",
       "      <th>housing_median_age</th>\n",
       "      <th>total_rooms</th>\n",
       "      <th>total_bedrooms</th>\n",
       "      <th>population</th>\n",
       "      <th>households</th>\n",
       "      <th>median_income</th>\n",
       "      <th>median_house_value</th>\n",
       "      <th>ocean_proximity</th>\n",
       "    </tr>\n",
       "  </thead>\n",
       "  <tbody>\n",
       "    <tr>\n",
       "      <th>0</th>\n",
       "      <td>-122.23</td>\n",
       "      <td>37.88</td>\n",
       "      <td>41.0</td>\n",
       "      <td>880.0</td>\n",
       "      <td>129.0</td>\n",
       "      <td>322.0</td>\n",
       "      <td>126.0</td>\n",
       "      <td>8.3252</td>\n",
       "      <td>452600.0</td>\n",
       "      <td>NEAR BAY</td>\n",
       "    </tr>\n",
       "    <tr>\n",
       "      <th>1</th>\n",
       "      <td>-122.22</td>\n",
       "      <td>37.86</td>\n",
       "      <td>21.0</td>\n",
       "      <td>7099.0</td>\n",
       "      <td>1106.0</td>\n",
       "      <td>2401.0</td>\n",
       "      <td>1138.0</td>\n",
       "      <td>8.3014</td>\n",
       "      <td>358500.0</td>\n",
       "      <td>NEAR BAY</td>\n",
       "    </tr>\n",
       "    <tr>\n",
       "      <th>2</th>\n",
       "      <td>-122.24</td>\n",
       "      <td>37.85</td>\n",
       "      <td>52.0</td>\n",
       "      <td>1467.0</td>\n",
       "      <td>190.0</td>\n",
       "      <td>496.0</td>\n",
       "      <td>177.0</td>\n",
       "      <td>7.2574</td>\n",
       "      <td>352100.0</td>\n",
       "      <td>NEAR BAY</td>\n",
       "    </tr>\n",
       "    <tr>\n",
       "      <th>3</th>\n",
       "      <td>-122.25</td>\n",
       "      <td>37.85</td>\n",
       "      <td>52.0</td>\n",
       "      <td>1274.0</td>\n",
       "      <td>235.0</td>\n",
       "      <td>558.0</td>\n",
       "      <td>219.0</td>\n",
       "      <td>5.6431</td>\n",
       "      <td>341300.0</td>\n",
       "      <td>NEAR BAY</td>\n",
       "    </tr>\n",
       "    <tr>\n",
       "      <th>4</th>\n",
       "      <td>-122.25</td>\n",
       "      <td>37.85</td>\n",
       "      <td>52.0</td>\n",
       "      <td>1627.0</td>\n",
       "      <td>280.0</td>\n",
       "      <td>565.0</td>\n",
       "      <td>259.0</td>\n",
       "      <td>3.8462</td>\n",
       "      <td>342200.0</td>\n",
       "      <td>NEAR BAY</td>\n",
       "    </tr>\n",
       "    <tr>\n",
       "      <th>...</th>\n",
       "      <td>...</td>\n",
       "      <td>...</td>\n",
       "      <td>...</td>\n",
       "      <td>...</td>\n",
       "      <td>...</td>\n",
       "      <td>...</td>\n",
       "      <td>...</td>\n",
       "      <td>...</td>\n",
       "      <td>...</td>\n",
       "      <td>...</td>\n",
       "    </tr>\n",
       "    <tr>\n",
       "      <th>20635</th>\n",
       "      <td>-121.09</td>\n",
       "      <td>39.48</td>\n",
       "      <td>25.0</td>\n",
       "      <td>1665.0</td>\n",
       "      <td>374.0</td>\n",
       "      <td>845.0</td>\n",
       "      <td>330.0</td>\n",
       "      <td>1.5603</td>\n",
       "      <td>78100.0</td>\n",
       "      <td>INLAND</td>\n",
       "    </tr>\n",
       "    <tr>\n",
       "      <th>20636</th>\n",
       "      <td>-121.21</td>\n",
       "      <td>39.49</td>\n",
       "      <td>18.0</td>\n",
       "      <td>697.0</td>\n",
       "      <td>150.0</td>\n",
       "      <td>356.0</td>\n",
       "      <td>114.0</td>\n",
       "      <td>2.5568</td>\n",
       "      <td>77100.0</td>\n",
       "      <td>INLAND</td>\n",
       "    </tr>\n",
       "    <tr>\n",
       "      <th>20637</th>\n",
       "      <td>-121.22</td>\n",
       "      <td>39.43</td>\n",
       "      <td>17.0</td>\n",
       "      <td>2254.0</td>\n",
       "      <td>485.0</td>\n",
       "      <td>1007.0</td>\n",
       "      <td>433.0</td>\n",
       "      <td>1.7000</td>\n",
       "      <td>92300.0</td>\n",
       "      <td>INLAND</td>\n",
       "    </tr>\n",
       "    <tr>\n",
       "      <th>20638</th>\n",
       "      <td>-121.32</td>\n",
       "      <td>39.43</td>\n",
       "      <td>18.0</td>\n",
       "      <td>1860.0</td>\n",
       "      <td>409.0</td>\n",
       "      <td>741.0</td>\n",
       "      <td>349.0</td>\n",
       "      <td>1.8672</td>\n",
       "      <td>84700.0</td>\n",
       "      <td>INLAND</td>\n",
       "    </tr>\n",
       "    <tr>\n",
       "      <th>20639</th>\n",
       "      <td>-121.24</td>\n",
       "      <td>39.37</td>\n",
       "      <td>16.0</td>\n",
       "      <td>2785.0</td>\n",
       "      <td>616.0</td>\n",
       "      <td>1387.0</td>\n",
       "      <td>530.0</td>\n",
       "      <td>2.3886</td>\n",
       "      <td>89400.0</td>\n",
       "      <td>INLAND</td>\n",
       "    </tr>\n",
       "  </tbody>\n",
       "</table>\n",
       "<p>20640 rows × 10 columns</p>\n",
       "</div>"
      ],
      "text/plain": [
       "       longitude  latitude  housing_median_age  total_rooms  total_bedrooms  \\\n",
       "0        -122.23     37.88                41.0        880.0           129.0   \n",
       "1        -122.22     37.86                21.0       7099.0          1106.0   \n",
       "2        -122.24     37.85                52.0       1467.0           190.0   \n",
       "3        -122.25     37.85                52.0       1274.0           235.0   \n",
       "4        -122.25     37.85                52.0       1627.0           280.0   \n",
       "...          ...       ...                 ...          ...             ...   \n",
       "20635    -121.09     39.48                25.0       1665.0           374.0   \n",
       "20636    -121.21     39.49                18.0        697.0           150.0   \n",
       "20637    -121.22     39.43                17.0       2254.0           485.0   \n",
       "20638    -121.32     39.43                18.0       1860.0           409.0   \n",
       "20639    -121.24     39.37                16.0       2785.0           616.0   \n",
       "\n",
       "       population  households  median_income  median_house_value  \\\n",
       "0           322.0       126.0         8.3252            452600.0   \n",
       "1          2401.0      1138.0         8.3014            358500.0   \n",
       "2           496.0       177.0         7.2574            352100.0   \n",
       "3           558.0       219.0         5.6431            341300.0   \n",
       "4           565.0       259.0         3.8462            342200.0   \n",
       "...           ...         ...            ...                 ...   \n",
       "20635       845.0       330.0         1.5603             78100.0   \n",
       "20636       356.0       114.0         2.5568             77100.0   \n",
       "20637      1007.0       433.0         1.7000             92300.0   \n",
       "20638       741.0       349.0         1.8672             84700.0   \n",
       "20639      1387.0       530.0         2.3886             89400.0   \n",
       "\n",
       "      ocean_proximity  \n",
       "0            NEAR BAY  \n",
       "1            NEAR BAY  \n",
       "2            NEAR BAY  \n",
       "3            NEAR BAY  \n",
       "4            NEAR BAY  \n",
       "...               ...  \n",
       "20635          INLAND  \n",
       "20636          INLAND  \n",
       "20637          INLAND  \n",
       "20638          INLAND  \n",
       "20639          INLAND  \n",
       "\n",
       "[20640 rows x 10 columns]"
      ]
     },
     "execution_count": 7,
     "metadata": {},
     "output_type": "execute_result"
    }
   ],
   "source": [
    "housing = pd.read_csv(data_url+\"california_housing.csv\")\n",
    "housing"
   ]
  },
  {
   "cell_type": "markdown",
   "metadata": {},
   "source": [
    "- 가구중위소득과 주택중위가격만 활용"
   ]
  },
  {
   "cell_type": "code",
   "execution_count": 8,
   "metadata": {},
   "outputs": [
    {
     "data": {
      "text/html": [
       "<div>\n",
       "<style scoped>\n",
       "    .dataframe tbody tr th:only-of-type {\n",
       "        vertical-align: middle;\n",
       "    }\n",
       "\n",
       "    .dataframe tbody tr th {\n",
       "        vertical-align: top;\n",
       "    }\n",
       "\n",
       "    .dataframe thead th {\n",
       "        text-align: right;\n",
       "    }\n",
       "</style>\n",
       "<table border=\"1\" class=\"dataframe\">\n",
       "  <thead>\n",
       "    <tr style=\"text-align: right;\">\n",
       "      <th></th>\n",
       "      <th>median_income</th>\n",
       "      <th>median_house_value</th>\n",
       "    </tr>\n",
       "  </thead>\n",
       "  <tbody>\n",
       "    <tr>\n",
       "      <th>0</th>\n",
       "      <td>8.3252</td>\n",
       "      <td>452600.0</td>\n",
       "    </tr>\n",
       "    <tr>\n",
       "      <th>1</th>\n",
       "      <td>8.3014</td>\n",
       "      <td>358500.0</td>\n",
       "    </tr>\n",
       "    <tr>\n",
       "      <th>2</th>\n",
       "      <td>7.2574</td>\n",
       "      <td>352100.0</td>\n",
       "    </tr>\n",
       "    <tr>\n",
       "      <th>3</th>\n",
       "      <td>5.6431</td>\n",
       "      <td>341300.0</td>\n",
       "    </tr>\n",
       "    <tr>\n",
       "      <th>4</th>\n",
       "      <td>3.8462</td>\n",
       "      <td>342200.0</td>\n",
       "    </tr>\n",
       "    <tr>\n",
       "      <th>...</th>\n",
       "      <td>...</td>\n",
       "      <td>...</td>\n",
       "    </tr>\n",
       "    <tr>\n",
       "      <th>20635</th>\n",
       "      <td>1.5603</td>\n",
       "      <td>78100.0</td>\n",
       "    </tr>\n",
       "    <tr>\n",
       "      <th>20636</th>\n",
       "      <td>2.5568</td>\n",
       "      <td>77100.0</td>\n",
       "    </tr>\n",
       "    <tr>\n",
       "      <th>20637</th>\n",
       "      <td>1.7000</td>\n",
       "      <td>92300.0</td>\n",
       "    </tr>\n",
       "    <tr>\n",
       "      <th>20638</th>\n",
       "      <td>1.8672</td>\n",
       "      <td>84700.0</td>\n",
       "    </tr>\n",
       "    <tr>\n",
       "      <th>20639</th>\n",
       "      <td>2.3886</td>\n",
       "      <td>89400.0</td>\n",
       "    </tr>\n",
       "  </tbody>\n",
       "</table>\n",
       "<p>20640 rows × 2 columns</p>\n",
       "</div>"
      ],
      "text/plain": [
       "       median_income  median_house_value\n",
       "0             8.3252            452600.0\n",
       "1             8.3014            358500.0\n",
       "2             7.2574            352100.0\n",
       "3             5.6431            341300.0\n",
       "4             3.8462            342200.0\n",
       "...              ...                 ...\n",
       "20635         1.5603             78100.0\n",
       "20636         2.5568             77100.0\n",
       "20637         1.7000             92300.0\n",
       "20638         1.8672             84700.0\n",
       "20639         2.3886             89400.0\n",
       "\n",
       "[20640 rows x 2 columns]"
      ]
     },
     "execution_count": 8,
     "metadata": {},
     "output_type": "execute_result"
    }
   ],
   "source": [
    "housing = housing.loc[:, ['median_income', 'median_house_value']]\n",
    "housing"
   ]
  },
  {
   "cell_type": "markdown",
   "metadata": {},
   "source": [
    "- 이상치 제거: 중위주택가격이 50만을 초과하는 경우 삭제. 이후 인덱스 초기화"
   ]
  },
  {
   "cell_type": "code",
   "execution_count": 9,
   "metadata": {},
   "outputs": [
    {
     "data": {
      "text/html": [
       "<div>\n",
       "<style scoped>\n",
       "    .dataframe tbody tr th:only-of-type {\n",
       "        vertical-align: middle;\n",
       "    }\n",
       "\n",
       "    .dataframe tbody tr th {\n",
       "        vertical-align: top;\n",
       "    }\n",
       "\n",
       "    .dataframe thead th {\n",
       "        text-align: right;\n",
       "    }\n",
       "</style>\n",
       "<table border=\"1\" class=\"dataframe\">\n",
       "  <thead>\n",
       "    <tr style=\"text-align: right;\">\n",
       "      <th></th>\n",
       "      <th>median_income</th>\n",
       "      <th>median_house_value</th>\n",
       "    </tr>\n",
       "    <tr>\n",
       "      <th>district</th>\n",
       "      <th></th>\n",
       "      <th></th>\n",
       "    </tr>\n",
       "  </thead>\n",
       "  <tbody>\n",
       "    <tr>\n",
       "      <th>0</th>\n",
       "      <td>8.3252</td>\n",
       "      <td>452600.0</td>\n",
       "    </tr>\n",
       "    <tr>\n",
       "      <th>1</th>\n",
       "      <td>8.3014</td>\n",
       "      <td>358500.0</td>\n",
       "    </tr>\n",
       "    <tr>\n",
       "      <th>2</th>\n",
       "      <td>7.2574</td>\n",
       "      <td>352100.0</td>\n",
       "    </tr>\n",
       "    <tr>\n",
       "      <th>3</th>\n",
       "      <td>5.6431</td>\n",
       "      <td>341300.0</td>\n",
       "    </tr>\n",
       "    <tr>\n",
       "      <th>4</th>\n",
       "      <td>3.8462</td>\n",
       "      <td>342200.0</td>\n",
       "    </tr>\n",
       "    <tr>\n",
       "      <th>...</th>\n",
       "      <td>...</td>\n",
       "      <td>...</td>\n",
       "    </tr>\n",
       "    <tr>\n",
       "      <th>19670</th>\n",
       "      <td>1.5603</td>\n",
       "      <td>78100.0</td>\n",
       "    </tr>\n",
       "    <tr>\n",
       "      <th>19671</th>\n",
       "      <td>2.5568</td>\n",
       "      <td>77100.0</td>\n",
       "    </tr>\n",
       "    <tr>\n",
       "      <th>19672</th>\n",
       "      <td>1.7000</td>\n",
       "      <td>92300.0</td>\n",
       "    </tr>\n",
       "    <tr>\n",
       "      <th>19673</th>\n",
       "      <td>1.8672</td>\n",
       "      <td>84700.0</td>\n",
       "    </tr>\n",
       "    <tr>\n",
       "      <th>19674</th>\n",
       "      <td>2.3886</td>\n",
       "      <td>89400.0</td>\n",
       "    </tr>\n",
       "  </tbody>\n",
       "</table>\n",
       "<p>19675 rows × 2 columns</p>\n",
       "</div>"
      ],
      "text/plain": [
       "          median_income  median_house_value\n",
       "district                                   \n",
       "0                8.3252            452600.0\n",
       "1                8.3014            358500.0\n",
       "2                7.2574            352100.0\n",
       "3                5.6431            341300.0\n",
       "4                3.8462            342200.0\n",
       "...                 ...                 ...\n",
       "19670            1.5603             78100.0\n",
       "19671            2.5568             77100.0\n",
       "19672            1.7000             92300.0\n",
       "19673            1.8672             84700.0\n",
       "19674            2.3886             89400.0\n",
       "\n",
       "[19675 rows x 2 columns]"
      ]
     },
     "execution_count": 9,
     "metadata": {},
     "output_type": "execute_result"
    }
   ],
   "source": [
    "house_value_max = housing['median_house_value'].max() # 500,001\n",
    "mask = housing['median_house_value'] >= house_value_max\n",
    "housing = housing[~mask]\n",
    "housing = housing.reset_index(drop=True)\n",
    "housing.index.name = 'district'\n",
    "housing"
   ]
  },
  {
   "cell_type": "code",
   "execution_count": 10,
   "metadata": {},
   "outputs": [
    {
     "data": {
      "text/plain": [
       "19675"
      ]
     },
     "execution_count": 10,
     "metadata": {},
     "output_type": "execute_result"
    }
   ],
   "source": [
    "total_number = housing.shape[0]\n",
    "total_number"
   ]
  },
  {
   "cell_type": "markdown",
   "metadata": {
    "id": "wUMnPIRtJl8J"
   },
   "source": [
    "## 합의 분포"
   ]
  },
  {
   "cell_type": "markdown",
   "metadata": {},
   "source": [
    "..."
   ]
  },
  {
   "cell_type": "markdown",
   "metadata": {},
   "source": [
    "## 표본평균의 분포"
   ]
  },
  {
   "cell_type": "markdown",
   "metadata": {},
   "source": [
    "**10% 표본추출**"
   ]
  },
  {
   "cell_type": "code",
   "execution_count": 31,
   "metadata": {},
   "outputs": [
    {
     "data": {
      "text/html": [
       "<div>\n",
       "<style scoped>\n",
       "    .dataframe tbody tr th:only-of-type {\n",
       "        vertical-align: middle;\n",
       "    }\n",
       "\n",
       "    .dataframe tbody tr th {\n",
       "        vertical-align: top;\n",
       "    }\n",
       "\n",
       "    .dataframe thead th {\n",
       "        text-align: right;\n",
       "    }\n",
       "</style>\n",
       "<table border=\"1\" class=\"dataframe\">\n",
       "  <thead>\n",
       "    <tr style=\"text-align: right;\">\n",
       "      <th></th>\n",
       "      <th>median_income</th>\n",
       "      <th>median_house_value</th>\n",
       "    </tr>\n",
       "    <tr>\n",
       "      <th>district</th>\n",
       "      <th></th>\n",
       "      <th></th>\n",
       "    </tr>\n",
       "  </thead>\n",
       "  <tbody>\n",
       "    <tr>\n",
       "      <th>15377</th>\n",
       "      <td>4.1116</td>\n",
       "      <td>187500.0</td>\n",
       "    </tr>\n",
       "    <tr>\n",
       "      <th>282</th>\n",
       "      <td>5.9849</td>\n",
       "      <td>371000.0</td>\n",
       "    </tr>\n",
       "    <tr>\n",
       "      <th>5346</th>\n",
       "      <td>2.8106</td>\n",
       "      <td>184400.0</td>\n",
       "    </tr>\n",
       "    <tr>\n",
       "      <th>12420</th>\n",
       "      <td>1.8589</td>\n",
       "      <td>144000.0</td>\n",
       "    </tr>\n",
       "    <tr>\n",
       "      <th>8840</th>\n",
       "      <td>4.3182</td>\n",
       "      <td>252700.0</td>\n",
       "    </tr>\n",
       "    <tr>\n",
       "      <th>...</th>\n",
       "      <td>...</td>\n",
       "      <td>...</td>\n",
       "    </tr>\n",
       "    <tr>\n",
       "      <th>16738</th>\n",
       "      <td>2.5804</td>\n",
       "      <td>216300.0</td>\n",
       "    </tr>\n",
       "    <tr>\n",
       "      <th>15067</th>\n",
       "      <td>2.3887</td>\n",
       "      <td>337500.0</td>\n",
       "    </tr>\n",
       "    <tr>\n",
       "      <th>13340</th>\n",
       "      <td>1.7062</td>\n",
       "      <td>86800.0</td>\n",
       "    </tr>\n",
       "    <tr>\n",
       "      <th>17896</th>\n",
       "      <td>1.7292</td>\n",
       "      <td>61700.0</td>\n",
       "    </tr>\n",
       "    <tr>\n",
       "      <th>8047</th>\n",
       "      <td>5.4359</td>\n",
       "      <td>194100.0</td>\n",
       "    </tr>\n",
       "  </tbody>\n",
       "</table>\n",
       "<p>1967 rows × 2 columns</p>\n",
       "</div>"
      ],
      "text/plain": [
       "          median_income  median_house_value\n",
       "district                                   \n",
       "15377            4.1116            187500.0\n",
       "282              5.9849            371000.0\n",
       "5346             2.8106            184400.0\n",
       "12420            1.8589            144000.0\n",
       "8840             4.3182            252700.0\n",
       "...                 ...                 ...\n",
       "16738            2.5804            216300.0\n",
       "15067            2.3887            337500.0\n",
       "13340            1.7062             86800.0\n",
       "17896            1.7292             61700.0\n",
       "8047             5.4359            194100.0\n",
       "\n",
       "[1967 rows x 2 columns]"
      ]
     },
     "execution_count": 31,
     "metadata": {},
     "output_type": "execute_result"
    }
   ],
   "source": [
    "ten_percent = np.random.choice(total_number, total_number//10)\n",
    "\n",
    "sampling = housing.iloc[ten_percent]\n",
    "sampling"
   ]
  },
  {
   "cell_type": "markdown",
   "metadata": {},
   "source": [
    "**표본추출 반복**"
   ]
  },
  {
   "cell_type": "markdown",
   "metadata": {},
   "source": [
    "아래 코드는 무작위 추출을 5번 반복한다."
   ]
  },
  {
   "cell_type": "code",
   "execution_count": 32,
   "metadata": {},
   "outputs": [
    {
     "name": "stdout",
     "output_type": "stream",
     "text": [
      "1번째 표본추출:\n",
      "median_income              3.679355\n",
      "median_house_value    193633.197763\n",
      "dtype: float64\n",
      "\n",
      "2번째 표본추출:\n",
      "median_income              3.657730\n",
      "median_house_value    192268.378241\n",
      "dtype: float64\n",
      "\n",
      "3번째 표본추출:\n",
      "median_income              3.686453\n",
      "median_house_value    194232.130147\n",
      "dtype: float64\n",
      "\n",
      "4번째 표본추출:\n",
      "median_income              3.702366\n",
      "median_house_value    197300.254194\n",
      "dtype: float64\n",
      "\n",
      "5번째 표본추출:\n",
      "median_income              3.683035\n",
      "median_house_value    193355.210981\n",
      "dtype: float64\n",
      "\n"
     ]
    }
   ],
   "source": [
    "for i in range(5):\n",
    "    ten_percent = np.random.choice(total_number, total_number//10)\n",
    "\n",
    "    sampling = housing.iloc[ten_percent, :2]\n",
    "    print(f\"{i+1}번째 표본추출:\")\n",
    "    print(sampling.mean())\n",
    "    print()"
   ]
  },
  {
   "cell_type": "code",
   "execution_count": 33,
   "metadata": {},
   "outputs": [
    {
     "data": {
      "text/html": [
       "<div>\n",
       "<style scoped>\n",
       "    .dataframe tbody tr th:only-of-type {\n",
       "        vertical-align: middle;\n",
       "    }\n",
       "\n",
       "    .dataframe tbody tr th {\n",
       "        vertical-align: top;\n",
       "    }\n",
       "\n",
       "    .dataframe thead th {\n",
       "        text-align: right;\n",
       "    }\n",
       "</style>\n",
       "<table border=\"1\" class=\"dataframe\">\n",
       "  <thead>\n",
       "    <tr style=\"text-align: right;\">\n",
       "      <th></th>\n",
       "      <th>median_income</th>\n",
       "      <th>median_house_value</th>\n",
       "    </tr>\n",
       "    <tr>\n",
       "      <th>district</th>\n",
       "      <th></th>\n",
       "      <th></th>\n",
       "    </tr>\n",
       "  </thead>\n",
       "  <tbody>\n",
       "    <tr>\n",
       "      <th>5212</th>\n",
       "      <td>3.3955</td>\n",
       "      <td>225000.0</td>\n",
       "    </tr>\n",
       "    <tr>\n",
       "      <th>17995</th>\n",
       "      <td>6.8872</td>\n",
       "      <td>305200.0</td>\n",
       "    </tr>\n",
       "    <tr>\n",
       "      <th>8700</th>\n",
       "      <td>5.1163</td>\n",
       "      <td>233200.0</td>\n",
       "    </tr>\n",
       "    <tr>\n",
       "      <th>737</th>\n",
       "      <td>3.4722</td>\n",
       "      <td>135400.0</td>\n",
       "    </tr>\n",
       "    <tr>\n",
       "      <th>11647</th>\n",
       "      <td>2.4554</td>\n",
       "      <td>89400.0</td>\n",
       "    </tr>\n",
       "    <tr>\n",
       "      <th>...</th>\n",
       "      <td>...</td>\n",
       "      <td>...</td>\n",
       "    </tr>\n",
       "    <tr>\n",
       "      <th>6484</th>\n",
       "      <td>3.5875</td>\n",
       "      <td>309300.0</td>\n",
       "    </tr>\n",
       "    <tr>\n",
       "      <th>11136</th>\n",
       "      <td>3.0870</td>\n",
       "      <td>196900.0</td>\n",
       "    </tr>\n",
       "    <tr>\n",
       "      <th>19440</th>\n",
       "      <td>4.9234</td>\n",
       "      <td>241400.0</td>\n",
       "    </tr>\n",
       "    <tr>\n",
       "      <th>5039</th>\n",
       "      <td>2.0917</td>\n",
       "      <td>99300.0</td>\n",
       "    </tr>\n",
       "    <tr>\n",
       "      <th>8075</th>\n",
       "      <td>2.5504</td>\n",
       "      <td>151300.0</td>\n",
       "    </tr>\n",
       "  </tbody>\n",
       "</table>\n",
       "<p>1967 rows × 2 columns</p>\n",
       "</div>"
      ],
      "text/plain": [
       "          median_income  median_house_value\n",
       "district                                   \n",
       "5212             3.3955            225000.0\n",
       "17995            6.8872            305200.0\n",
       "8700             5.1163            233200.0\n",
       "737              3.4722            135400.0\n",
       "11647            2.4554             89400.0\n",
       "...                 ...                 ...\n",
       "6484             3.5875            309300.0\n",
       "11136            3.0870            196900.0\n",
       "19440            4.9234            241400.0\n",
       "5039             2.0917             99300.0\n",
       "8075             2.5504            151300.0\n",
       "\n",
       "[1967 rows x 2 columns]"
      ]
     },
     "execution_count": 33,
     "metadata": {},
     "output_type": "execute_result"
    }
   ],
   "source": [
    "sampling"
   ]
  },
  {
   "cell_type": "markdown",
   "metadata": {},
   "source": [
    "아래 코드는 무작위 추출 10,000 반복하면서 표본평균을 모은다."
   ]
  },
  {
   "cell_type": "code",
   "execution_count": 34,
   "metadata": {},
   "outputs": [],
   "source": [
    "sampling_count = 10000\n",
    "\n",
    "income_mean = np.zeros(sampling_count)\n",
    "\n",
    "for i in range(sampling_count):\n",
    "    ten_percent = np.random.choice(total_number, total_number//10)\n",
    "\n",
    "    sampling = housing.iloc[ten_percent, :2]\n",
    "    income_mean[i] = sampling['median_income'].mean()"
   ]
  },
  {
   "cell_type": "markdown",
   "metadata": {},
   "source": [
    "모아진 10,000개의 표본평균 자체로 새로운 분포를 가지며 표본평균의 평균값은 다음과 같다."
   ]
  },
  {
   "cell_type": "code",
   "execution_count": 35,
   "metadata": {},
   "outputs": [
    {
     "data": {
      "text/plain": [
       "3.676986"
      ]
     },
     "execution_count": 35,
     "metadata": {},
     "output_type": "execute_result"
    }
   ],
   "source": [
    "np.mean(income_mean)"
   ]
  },
  {
   "cell_type": "markdown",
   "metadata": {},
   "source": [
    "표본평균의 분산이 매우 작다."
   ]
  },
  {
   "cell_type": "code",
   "execution_count": 36,
   "metadata": {},
   "outputs": [
    {
     "data": {
      "text/plain": [
       "0.001269"
      ]
     },
     "execution_count": 36,
     "metadata": {},
     "output_type": "execute_result"
    }
   ],
   "source": [
    "np.var(income_mean)"
   ]
  },
  {
   "cell_type": "markdown",
   "metadata": {},
   "source": [
    "모집단의 평균값과 표본평균의 평균값이 매우 유사하다."
   ]
  },
  {
   "cell_type": "code",
   "execution_count": 37,
   "metadata": {},
   "outputs": [
    {
     "data": {
      "text/plain": [
       "3.676717"
      ]
     },
     "execution_count": 37,
     "metadata": {},
     "output_type": "execute_result"
    }
   ],
   "source": [
    "housing['median_income'].mean()"
   ]
  },
  {
   "cell_type": "markdown",
   "metadata": {},
   "source": [
    "## 연습문제"
   ]
  },
  {
   "cell_type": "markdown",
   "metadata": {},
   "source": [
    "참고: [(연습) 표본 분포](https://colab.research.google.com/github/codingalzi/DataSci/blob/master/practices/practice-sampling_distribution.ipynb)"
   ]
  }
 ],
 "metadata": {
  "kernelspec": {
   "display_name": "Python 3 (ipykernel)",
   "language": "python",
   "name": "python3"
  },
  "language_info": {
   "codemirror_mode": {
    "name": "ipython",
    "version": 3
   },
   "file_extension": ".py",
   "mimetype": "text/x-python",
   "name": "python",
   "nbconvert_exporter": "python",
   "pygments_lexer": "ipython3",
   "version": "3.12.2"
  },
  "toc": {
   "nav_menu": {},
   "number_sections": true,
   "sideBar": true,
   "skip_h1_title": false,
   "toc_cell": false,
   "toc_position": {},
   "toc_section_display": "block",
   "toc_window_display": false
  }
 },
 "nbformat": 4,
 "nbformat_minor": 2
}
