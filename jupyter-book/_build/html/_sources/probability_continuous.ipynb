{
 "cells": [
  {
   "cell_type": "markdown",
   "metadata": {
    "ExecuteTime": {
     "end_time": "2018-03-06T03:37:40.696920Z",
     "start_time": "2018-03-06T03:37:40.690655Z"
    }
   },
   "source": [
    "(ch:probability-continuous)=\n",
    "# 연속 확률분포(준비중)"
   ]
  },
  {
   "cell_type": "markdown",
   "metadata": {},
   "source": [
    "**기본 설정**"
   ]
  },
  {
   "cell_type": "markdown",
   "metadata": {
    "ExecuteTime": {
     "end_time": "2018-08-03T08:26:15.690793Z",
     "start_time": "2018-08-03T08:26:15.507201Z"
    }
   },
   "source": [
    "Numpy와 Pandas 라이브러리를 각각 np와 pd로 불러온다."
   ]
  },
  {
   "cell_type": "code",
   "execution_count": 1,
   "metadata": {
    "ExecuteTime": {
     "end_time": "2018-08-14T06:43:30.149227Z",
     "start_time": "2018-08-14T06:43:29.960007Z"
    }
   },
   "outputs": [],
   "source": [
    "import numpy as np\n",
    "import pandas as pd"
   ]
  },
  {
   "cell_type": "markdown",
   "metadata": {},
   "source": [
    "데이터프레임의 [chained indexing을 금지시키기 위한 설정](https://pandas.pydata.org/pandas-docs/stable/user_guide/indexing.html#returning-a-view-versus-a-copy)을 지정한다.\n",
    "Pandas 3.0 버전부터는 기본 옵션으로 지정된다."
   ]
  },
  {
   "cell_type": "code",
   "execution_count": 2,
   "metadata": {},
   "outputs": [],
   "source": [
    "pd.options.mode.copy_on_write = True"
   ]
  },
  {
   "cell_type": "markdown",
   "metadata": {
    "ExecuteTime": {
     "end_time": "2018-08-14T06:43:30.149227Z",
     "start_time": "2018-08-14T06:43:29.960007Z"
    }
   },
   "source": [
    "주피터 노트북에서 부동소수점의 출력을 소수점 이하 6자리로 제한한다.\n",
    "아래 코드는 주피터 노트북에서만 사용하며 일반적인 파이썬 코드가 아니다."
   ]
  },
  {
   "cell_type": "code",
   "execution_count": 3,
   "metadata": {
    "ExecuteTime": {
     "end_time": "2018-08-14T06:43:30.149227Z",
     "start_time": "2018-08-14T06:43:29.960007Z"
    }
   },
   "outputs": [
    {
     "data": {
      "text/plain": [
       "'%.6f'"
      ]
     },
     "execution_count": 3,
     "metadata": {},
     "output_type": "execute_result"
    }
   ],
   "source": [
    "%precision 6"
   ]
  },
  {
   "cell_type": "markdown",
   "metadata": {
    "ExecuteTime": {
     "end_time": "2018-08-14T06:43:30.149227Z",
     "start_time": "2018-08-14T06:43:29.960007Z"
    }
   },
   "source": [
    "아래 코드는 데이터프레임 내에서 부동소수점의 출력을 소수점 이하 6자리로 제한한다."
   ]
  },
  {
   "cell_type": "code",
   "execution_count": 4,
   "metadata": {
    "ExecuteTime": {
     "end_time": "2018-08-14T06:43:30.149227Z",
     "start_time": "2018-08-14T06:43:29.960007Z"
    }
   },
   "outputs": [],
   "source": [
    "pd.set_option('display.precision', 6)"
   ]
  },
  {
   "cell_type": "markdown",
   "metadata": {},
   "source": [
    "데이터 시각화를 위해 `matplotlib.pyplot`를 `plt`로,\n",
    "`seaborn`을 `sns`로 불러온다."
   ]
  },
  {
   "cell_type": "code",
   "execution_count": 5,
   "metadata": {},
   "outputs": [],
   "source": [
    "import matplotlib.pyplot as plt\n",
    "import seaborn as sns"
   ]
  },
  {
   "cell_type": "code",
   "execution_count": 6,
   "metadata": {},
   "outputs": [],
   "source": [
    "import seaborn as sns"
   ]
  },
  {
   "cell_type": "code",
   "execution_count": 7,
   "metadata": {},
   "outputs": [],
   "source": [
    "sns.set_style(\"white\")"
   ]
  },
  {
   "cell_type": "code",
   "execution_count": 8,
   "metadata": {},
   "outputs": [],
   "source": [
    "sns.set_style(\"white\")"
   ]
  },
  {
   "cell_type": "markdown",
   "metadata": {},
   "source": [
    "**데이터 저장소 디렉토리**"
   ]
  },
  {
   "cell_type": "markdown",
   "metadata": {},
   "source": [
    "코드에 사용되는 [데이터 저장소의 기본 디렉토리](https://github.com/codingalzi/DataSci/tree/master/data)를 지정한다."
   ]
  },
  {
   "cell_type": "code",
   "execution_count": 9,
   "metadata": {},
   "outputs": [],
   "source": [
    "data_url = 'https://raw.githubusercontent.com/codingalzi/DataSci/refs/heads/master/data/'"
   ]
  },
  {
   "cell_type": "markdown",
   "metadata": {},
   "source": [
    "**주요 내용**"
   ]
  },
  {
   "cell_type": "markdown",
   "metadata": {},
   "source": [
    "이산 확률 분포의 주요 개념을 소개한다.\n",
    "\n",
    "- 연속 확률 변수\n",
    "- 연속 확률 분포\n",
    "- 누적 분포 함수\n",
    "- 확률 밀도 함수"
   ]
  },
  {
   "cell_type": "markdown",
   "metadata": {},
   "source": [
    "## 연속 확률 변수"
   ]
  },
  {
   "cell_type": "markdown",
   "metadata": {},
   "source": [
    "{numref}`%s장 <ch:probability-discrete>`에서 살펴 본 이산 확률 변수는\n",
    "$x_1$, $x_2$, $x_3$ ... 등의 형식으로 하나, 둘, 셋 하며 셀 수 있는 \n",
    "**이산형 값**<font size='2'>discrete value</font>을 취한다.\n",
    "\n",
    "예를 들어 하나의 정상적인 주사위를 던졌을 때 나오는 값을 가리키는 확률 변수는\n",
    "1, 2, 3, 4, 5, 6 중에 하나를 취하고,\n",
    "캘리포니아 주택가격 데이터셋에서 임의로 선택된 구역의 소득 범주를 가리키는 확률 변수는\n",
    "1, 2, 3, 4, 5 중에 하나를 취한다.\n",
    "그리고 어느 학급의 수학 시험 점수를 가리키는 확률 변수는 0부터 100까지의 정수 중에 하나를 취한다.\n",
    "\n",
    "반면에 **연속 확률 변수**<font size='2'>continuous random variable</font>는 \n",
    "일정 구간에 속한 임의의 실수를 가리킨다.\n",
    "여기서 구간은 0과 1사이 등 구간의 크기가 유한할 수도 있지만\n",
    "0보다 큰 모든 실수, 아니면 그냥 모든 실수 처럼 구간의 크기가 무한일 수도 있다.\n",
    "\n",
    "예를 들어 캘리포니아 주택가격 데이터셋에서 임의로 선택된 구역의 가구중위소득은\n",
    "0.4999에서 15.0001 사이의 실수로 구성된다.\n",
    "그리고 대학생의 학점 평균으로 구성된 데이터셋은 0에서 4.5 사이의 실수로 구성된다."
   ]
  },
  {
   "cell_type": "markdown",
   "metadata": {},
   "source": [
    ":::{admonition} 실수와 부동소수점\n",
    ":class: note\n",
    "\n",
    "프로그래밍에서 실수는 부동소수점으로 표현된다.\n",
    "부동소수점은 엄밀히 말해 유한소수만 다루지만 여기서는 특별한 의미 없이 실수라는 표현을 사용한다.\n",
    ":::"
   ]
  },
  {
   "cell_type": "markdown",
   "metadata": {},
   "source": [
    "**이산 확률 분포 대 연속 확률 분포**"
   ]
  },
  {
   "cell_type": "markdown",
   "metadata": {},
   "source": [
    "이산 확률 분포는 확률 변수가 특정 값을 가리킬 확률을 표 형식으로 표현한다.\n",
    "예를 들어 아래 표는 정상적인 주사위 하나를 던졌을 때 나오는 값을 가리키는 확률 변수 $X$의 확률 분포다.\n",
    "\n",
    "| X | 1 | 2 | 3 | 4 | 5 | 6|\n",
    "| :---: | :---: | :---: | :---: | :---: | :---: | :---: |\n",
    "| 확률 | 1/6 | 1/6 | 1/6 | 1/6 | 1/6 | 1/6 |\n",
    "\n",
    "그리고 {numref}`%s장 <ch:probability-discrete>`에서 살펴 본 아래 표는 캘리포니아 주택가격 데이터셋에서 임의로 선택된 구역의 소득 범주를 가리키는 확률 변수 $X$의 확률 분포다.\n",
    "1부터 5까지 소득 범주는 중위소득을 0에서 1.5, 1.5에서 3.0, 3.0에서 4.5, 4.5에서 6, 6 이상 등 5개의 구간에 각각 해당한다.\n",
    "\n",
    "| X | 1 | 2 | 3 | 4 | 5 |\n",
    "| :---: | :---: | :---: | :---: | :---: | :---: |\n",
    "| 확률 | 0.041372 | 0.333011 | 0.361017 | 0.177992 | 0.086607 |"
   ]
  },
  {
   "cell_type": "markdown",
   "metadata": {},
   "source": [
    "반면에 연속 확률 변수가 따르는 확률 분포를 **연속 확률 분포**<font size='2'>continuous probability distribution</font>라 한다.\n",
    "이산 확률 분포와는 달리 연속 확률 분포는 확률 변수가 특정 값을 취할 확률을 계산하지 않는다.\n",
    "이유는 연속 확률 변수 $X$가 특정 실수 $x$를 취할 확률은 항상 0이기 때문이다\n",
    "\n",
    "$$\n",
    "P(X=x) = 0\n",
    "$$\n",
    "\n",
    "예를 들어 0과 1사이의 실수 중에서 무작위로 하나의 값을 취했을 때 그 값이 정확히 0.5일 확률과\n",
    "캘리포니아 주택가격 데이터셋에서 임의로 선택된 구역의 중위소득이 정확히 1.999999일 확률 보두 0이다.\n",
    "\n",
    "연속 확률 분포는 대신 확률 변수가 특정 구간에서 하나의 값을 취할 확률을 계산한다.\n",
    "0과 1사이에서 무작위로 선택한 값이 0.49에서 0.51 사이일 확률은 0.02, 즉 2%다.\n",
    "구간 전체의 크기가 1인데 0.49에서 0.51 사이 구간의 크기는 0.02이기 때문이다.\n",
    "반면에 캘리포니아 주택가격 데이터셋에서 임의로 선택된 구역의 중위소득이 1.5에서 3.0 사이일 확률은 \n",
    "중위 소득이 2구간에 속할 확률인 0.333011이다.\n",
    "\n",
    "이처럼 연속 확률 변수는 아래 표현식처럼 특정 구간의 값을 취할 확률을 계산한다.\n",
    "\n",
    "$$\n",
    "P(a \\le X \\le b)\n",
    "$$\n",
    "\n",
    "또한 연속 확률 변수가 특정 값을 취할 확률은 0이기에 구간의 끝 포함 여부는 중요하지 않기에\n",
    "아래 식에서처럼 등호 기호는 생략해도 된다.\n",
    "\n",
    "$$\n",
    "P(a \\le X \\le b) = P(a < X < b) = P(a < X \\le b) = P(a \\le X < b)\n",
    "$$"
   ]
  },
  {
   "cell_type": "markdown",
   "metadata": {},
   "source": [
    "### 누적 분포 함수"
   ]
  },
  {
   "cell_type": "markdown",
   "metadata": {},
   "source": [
    "0과 1사이의 실수 중에서 구간 $[a, b]$에서 하나의 값을 취할 확률은 $b-a$임을 바로 알 수 있다.\n",
    "하지만 연속 확률 변수가 특정 구간의 값을 취할 확률을 정확하게 계산하는 일이\n",
    "일반적으로 그렇게 간단하지 않다.\n",
    "예를 들어 캘리포니아 주택가격 데이터셋에서 임의로 선택된 구역의 중위소득이 2.0에서 2.1 사이일 확률은 쉽게 알 수 없다.\n",
    "이유는 해당 구간이 앞서 언급된 구간 어디에도 해당되지 않기 때문이다.\n",
    "\n",
    "여기서는 **누적 분포 함수**<font size='2'>cumulative distribution function</font>(CDF)를 활용하여\n",
    "연속 확률 변수가 특정 구간의 값을 취할 확률을 계산하는 방법을 소개한다.\n",
    "연속 확률 변수 $X$의 누적 분포 함수 $F$는\n",
    "아래 식에서 처럼 확률 변수 $X$가 특정 값보다 같거나 작은 값을 취할 확률을 계산한다.\n",
    "\n",
    "$$\n",
    "F(a) = P(X \\le a)\n",
    "$$\n",
    "\n",
    "누적 분포 함수가 알려진 경우 연속 확률 변수 $X$가 $a$에서 $b$ 사이의 값을 취할 확률은\n",
    "다음과 같이 계산된다.\n",
    "단, $a \\le b$를 가정한다.\n",
    "\n",
    "$$\n",
    "P(a \\le X \\le b) = F(b) - F(a)\n",
    "$$"
   ]
  },
  {
   "cell_type": "markdown",
   "metadata": {},
   "source": [
    "**예제: 캘리포니아 구역별 중위소득 확률 분포**"
   ]
  },
  {
   "cell_type": "markdown",
   "metadata": {},
   "source": [
    "확률 변수 $X$가 캘리포니아의 구역별 중위소득을 가리킨다고 할 때\n",
    "임의로 선택된 구역의 중위소득이 특정 값 이하일 확률을 계산하는 누적 분포 함수 $F$를 \n",
    "부울 인덱싱을 이용하여 정의할 수 있다.\n",
    "\n",
    "아래 코드는 캘리포니아 주택가격 데이터셋을 불러온 후에\n",
    "중위주택가격이 50만을 초과하는 경우는 삭제하고 인덱스를 초기화한다.\n",
    "최종적으로 중위소득 특성만 남긴다."
   ]
  },
  {
   "cell_type": "code",
   "execution_count": 10,
   "metadata": {},
   "outputs": [
    {
     "data": {
      "text/plain": [
       "district\n",
       "0        8.3252\n",
       "1        8.3014\n",
       "2        7.2574\n",
       "3        5.6431\n",
       "4        3.8462\n",
       "          ...  \n",
       "19670    1.5603\n",
       "19671    2.5568\n",
       "19672    1.7000\n",
       "19673    1.8672\n",
       "19674    2.3886\n",
       "Name: median_income, Length: 19675, dtype: float64"
      ]
     },
     "execution_count": 10,
     "metadata": {},
     "output_type": "execute_result"
    }
   ],
   "source": [
    "housing = pd.read_csv(data_url+\"california_housing.csv\")\n",
    "\n",
    "# 중위주택가격이 50만1달러 이상인 구역 삭제\n",
    "house_value_max = housing['median_house_value'].max() # 500,001\n",
    "mask = housing['median_house_value'] >= house_value_max\n",
    "housing = housing[~mask]\n",
    "\n",
    "# 인덱스 초기화\n",
    "housing = housing.reset_index(drop=True)\n",
    "\n",
    "# 중위소득 특성만 선택\n",
    "housing = housing.loc[:, 'median_income']\n",
    "housing.index.name = 'district'\n",
    "housing"
   ]
  },
  {
   "cell_type": "markdown",
   "metadata": {},
   "source": [
    "중위소득을 가리키는 연속 확률 변수 $X$가 특정 값 $a$ 이하의 값을 가질 확률은\n",
    "중위소득이 $a$보다 같거나 작은 구역의 비율이며,\n",
    "아래 `F_income()` 함수가 확률 변수 $X$에 대한 누적 분포 함수를 구현한다."
   ]
  },
  {
   "cell_type": "code",
   "execution_count": 11,
   "metadata": {},
   "outputs": [],
   "source": [
    "def F_income(a):\n",
    "    mask = housing <= a # a 보다 같거나 작을 때만 1\n",
    "    return mask.mean()  # 전체 중에 True 인 지역의 비율 "
   ]
  },
  {
   "cell_type": "markdown",
   "metadata": {},
   "source": [
    "임의의 구역을 선택했을 때 소득 범주 2에 속할 확률 $P(1.5 < X <= 3.0)$를\n",
    "`F_income()`을 이용하여 계산하면 앞서 언급한 값과 동일하게 나온다."
   ]
  },
  {
   "cell_type": "code",
   "execution_count": 12,
   "metadata": {},
   "outputs": [
    {
     "data": {
      "text/plain": [
       "0.333011"
      ]
     },
     "execution_count": 12,
     "metadata": {},
     "output_type": "execute_result"
    }
   ],
   "source": [
    "F_income(3.0) - F_income(1.5)"
   ]
  },
  {
   "cell_type": "markdown",
   "metadata": {},
   "source": [
    "아래 `P_income()` 함수는 임의로 선택된 구역의 중위소득이 특정 구간에 속할 확률을 계산한다."
   ]
  },
  {
   "cell_type": "code",
   "execution_count": 13,
   "metadata": {},
   "outputs": [],
   "source": [
    "def P_income(a, b):\n",
    "    assert a <= b, f'둘째 인자가 첫째 인자보다 같거나 커야 함'\n",
    "    \n",
    "    return F_income(b) - F_income(a)"
   ]
  },
  {
   "cell_type": "code",
   "execution_count": 14,
   "metadata": {},
   "outputs": [
    {
     "data": {
      "text/plain": [
       "0.333011"
      ]
     },
     "execution_count": 14,
     "metadata": {},
     "output_type": "execute_result"
    }
   ],
   "source": [
    "P_income(1.5, 3.0)"
   ]
  },
  {
   "cell_type": "markdown",
   "metadata": {},
   "source": [
    "앞서 질문했던 임의의 구역을 선택했을 때 중위소득이 2.0에서 2.1 사이일 확률은 약 2.1%로 계산된다."
   ]
  },
  {
   "cell_type": "code",
   "execution_count": 15,
   "metadata": {},
   "outputs": [
    {
     "data": {
      "text/plain": [
       "0.020534"
      ]
     },
     "execution_count": 15,
     "metadata": {},
     "output_type": "execute_result"
    }
   ],
   "source": [
    "P_income(2.0, 2.1)"
   ]
  },
  {
   "cell_type": "markdown",
   "metadata": {},
   "source": [
    "**누적 분포 함수의 성질**"
   ]
  },
  {
   "cell_type": "markdown",
   "metadata": {},
   "source": [
    "연속 확률 변수 $X$가 $x_0$에서 $x_1$ 사이에서만 값을 취한다고 가정하자.\n",
    "그러면 $X$의 누적 분포 함수$F$는 다음 세 가지 성질을 만족한다.\n",
    "단, $a, b \\in [x_0, x_1]$과 $a \\le b$를 가정한다."
   ]
  },
  {
   "cell_type": "markdown",
   "metadata": {},
   "source": [
    "$(1)\\,\\,\\, F(a) \\le F(b)$"
   ]
  },
  {
   "cell_type": "markdown",
   "metadata": {},
   "source": [
    "$(2)\\,\\,\\, 0 \\le F(a) \\le 1$"
   ]
  },
  {
   "cell_type": "markdown",
   "metadata": {},
   "source": [
    "$(3)\\,\\,\\, \\displaystyle \\lim_{a \\to x_0} F(a) = 0$ 와 $\\displaystyle\\lim_{a \\to x_1} F(a) = 1$"
   ]
  },
  {
   "cell_type": "markdown",
   "metadata": {},
   "source": [
    "위 식에서 경우에 따라 다음과 같이 $x_0$는 음의 무한대를, $x_1$은 양의 무한대를 가리킬 수 있다.\n",
    "\n",
    ":::{list-table} 무한대와 구간\n",
    ":widths: 10 55\n",
    ":header-rows: 1\n",
    ":name: infinity\n",
    "\n",
    "*   - 구간\n",
    "    - 의미\n",
    "*   - $[-\\infty, \\infty]$\n",
    "    - 모든 실수들의 구간\n",
    "*   - $[0, \\infty]$\n",
    "    - 음이 아닌 실수들의 구간\n",
    "*   - $[-\\infty, 1]$\n",
    "    - $1$보다 같거나 작은 모든 실수들의 구간\n",
    "*   - $[0, 1]$\n",
    "    - $0$과 $1$ 사이의 모든 실수들의 구간\n",
    "*   - $[-1, 1]$\n",
    "    - $-1$과 $1$ 사이의 모든 실수들의 구간\n",
    ":::"
   ]
  },
  {
   "cell_type": "markdown",
   "metadata": {},
   "source": [
    "$x_0$ 또는 $x_1$이 각각 음의 무한대와 양의 무한대를 가리키지 않아도 $F(a)$는 \n",
    "모든 실수 $a$에 대해 정의되었다고 가정할 수 있다.\n",
    "이유는 구간 $[x_0, x_1]$ 밖에 위치하는 값에 대해서 다음과 같이 정의할 수 있기 때문이다.\n",
    "\n",
    "- $a \\le x_0$인 경우: $F(a) = 0$\n",
    "- $a \\ge x_1$인 경우: $F(a) = 1$"
   ]
  },
  {
   "cell_type": "markdown",
   "metadata": {},
   "source": [
    "`F_income()` 함수가 앞서 언급한 모든 성질을 만족한다."
   ]
  },
  {
   "cell_type": "markdown",
   "metadata": {},
   "source": [
    "$(1)$ `a < b`이면 `housing < a`에서 `True`인 항목은 `housing < b`에서도 참이기에 `F_income(b)`가 `F_income(a)` 보다 같거나 크다."
   ]
  },
  {
   "cell_type": "markdown",
   "metadata": {},
   "source": [
    "$(2)$ `mask.mean()`은 `mask.sum()/len(housing)` 이기에 모든 `a`에 대해 `F_income(a)`는 0과 1 사이의 값을 갖는다."
   ]
  },
  {
   "cell_type": "markdown",
   "metadata": {},
   "source": [
    "$(3)$ 최소 중위소득과 최대 중위소득에 대한 값도 요구되는 조건이 충족된다.\n",
    "단, `housing` 데이터셋의 크기가 실제로는 유한하기에 최솟값에 대한 누적 분포 함숫값은 0은 아니다."
   ]
  },
  {
   "cell_type": "code",
   "execution_count": 16,
   "metadata": {},
   "outputs": [
    {
     "data": {
      "text/plain": [
       "0.000508"
      ]
     },
     "execution_count": 16,
     "metadata": {},
     "output_type": "execute_result"
    }
   ],
   "source": [
    "F_income(housing.min())"
   ]
  },
  {
   "cell_type": "markdown",
   "metadata": {},
   "source": [
    "실제로 최솟값은 갖는 구역이 10군데인데 그 비율이 계산된다."
   ]
  },
  {
   "cell_type": "code",
   "execution_count": 17,
   "metadata": {},
   "outputs": [
    {
     "data": {
      "text/plain": [
       "10"
      ]
     },
     "execution_count": 17,
     "metadata": {},
     "output_type": "execute_result"
    }
   ],
   "source": [
    "housing.value_counts()[housing.min()]"
   ]
  },
  {
   "cell_type": "code",
   "execution_count": 18,
   "metadata": {},
   "outputs": [
    {
     "data": {
      "text/plain": [
       "0.000508"
      ]
     },
     "execution_count": 18,
     "metadata": {},
     "output_type": "execute_result"
    }
   ],
   "source": [
    "housing.value_counts()[housing.min()] / len(housing)"
   ]
  },
  {
   "cell_type": "markdown",
   "metadata": {},
   "source": [
    "하지만 최솟값보다 조금이라도 작은 값에 대해서는 0을 계산한다."
   ]
  },
  {
   "cell_type": "code",
   "execution_count": 19,
   "metadata": {},
   "outputs": [
    {
     "data": {
      "text/plain": [
       "0.000000"
      ]
     },
     "execution_count": 19,
     "metadata": {},
     "output_type": "execute_result"
    }
   ],
   "source": [
    "F_income(housing.min() - 1.0e-16)"
   ]
  },
  {
   "cell_type": "markdown",
   "metadata": {},
   "source": [
    "반면에 최댓값에 대해서는 정확하게 1을 계산한다."
   ]
  },
  {
   "cell_type": "code",
   "execution_count": 20,
   "metadata": {},
   "outputs": [
    {
     "data": {
      "text/plain": [
       "1.000000"
      ]
     },
     "execution_count": 20,
     "metadata": {},
     "output_type": "execute_result"
    }
   ],
   "source": [
    "F_income(housing.max())"
   ]
  },
  {
   "cell_type": "markdown",
   "metadata": {},
   "source": [
    "조금이라도 큰 값에 대해서도 항상 1을 계산한다."
   ]
  },
  {
   "cell_type": "code",
   "execution_count": 21,
   "metadata": {},
   "outputs": [
    {
     "data": {
      "text/plain": [
       "1.000000"
      ]
     },
     "execution_count": 21,
     "metadata": {},
     "output_type": "execute_result"
    }
   ],
   "source": [
    "F_income(housing.max() + 1.0e-16)"
   ]
  },
  {
   "cell_type": "markdown",
   "metadata": {},
   "source": [
    "### 확률 밀도 함수"
   ]
  },
  {
   "cell_type": "markdown",
   "metadata": {},
   "source": [
    "연속 확률 변수가 특정 구간 내에서 값을 취할 확률을 이용하여\n",
    "누적 분포 함수의 특정 값 근처에서의 변화율을 계산할 수 있다.\n",
    "\n",
    "예를 들어 연속 확률 변수 $X$가 임의의 양수 $h$에 대해 구간 $[x, x+h]$에서 값을 취할 확률은 다음과 같다.\n",
    "\n",
    "$$\n",
    "F(x + h) - F(x)\n",
    "$$\n",
    "\n",
    "위 값을 $h$로 나눈다.\n",
    "\n",
    "$$\n",
    "\\frac{F(x + h) - F(x)}{h}\n",
    "$$\n",
    "\n",
    "함수 $F$가 $x$에서 미분가능하다면 $h$가 0에 수렴할 때 위 식은 \n",
    "$x$에서 누적 분포 함수의 변화율인 $F'(x)$로 수렴한다.\n",
    "\n",
    "$$\n",
    "F'(x) = \\lim_{h \\to 0}\\frac{F(x + h) - F(x)}{h}\n",
    "$$\n",
    "\n",
    "$F'$은 함수 $F$의 도함수를 가리키며, $F$가 단조증가함수이기에 $F'(x) \\ge 0$ 이다."
   ]
  },
  {
   "cell_type": "markdown",
   "metadata": {},
   "source": [
    "대부분의 누적 분포 함수 $F$는 지정된 구간에서 미분가능하다.\n",
    "그리고 $F$가 구간 $[x_0, x_1]$ 전체에서 미분가능하다면 정적분의 정의에 의해 다음이 성립한다.\n",
    "아래 식에서 $f$는 도함수 $F'$을 가리킨다.\n",
    "\n",
    "$$\n",
    "F(a) = P(X \\le a) = P(x_0 < X \\le a) = F(a) - F(x_0) = \\int_{x_0}^{a} f(x)\\, dx\n",
    "$$\n",
    "\n",
    "아래 왼편 그림의 내용은 다음과 같다.\n",
    "\n",
    "- $F(a)$: 빨강 영역. 구간 $[x_0, a]$ 내에서 음이 아닌 값을 갖는 함수 $f$의 그래프와 $x$-축 사이의 면적.\n",
    "- $P(a \\le x \\le b)$: 회색 영역. $[a, b]$ 구간 내에서 확률 밀도 함수 $f$의 그래프와 $x$-축 사이의 면적\n",
    "\n",
    "영역의 변화율을 가리킨다는 의미에서 $f$를 연속 확률 변수 $X$의 \n",
    "**확률 밀도 함수**<font size='2'>probability density function</font>(PDF)라 부른다.\n",
    "\n",
    "아래 오른편 그림은 누적 분포 함수의 그래프를 보여준다.\n",
    "왼편 그림에서 빨간색 면적에 해당하는 값은 일반적으로 늘어진 S자 형태를 띄며\n",
    "$x$가 작아지면서 0에, 커지면서 1에 수렴한다."
   ]
  },
  {
   "cell_type": "markdown",
   "metadata": {},
   "source": [
    "<p><div align=\"center\"><img src=\"https://raw.githubusercontent.com/codingalzi/DataSci/master/jupyter-book/images/pdf-cdf-1.png\" style=\"width:100%\"></div></p>"
   ]
  },
  {
   "cell_type": "markdown",
   "metadata": {},
   "source": [
    ":::{admonition} 확률 질량 함수 vs. 확률 밀도 함수\n",
    ":class: note\n",
    "\n",
    "확률 질량 함수(PMF)는 이산 확률 변수가 특정 값을 취할 확률을 계산한다.\n",
    "반면에 확률 밀도 함수(PDF)는 연속 확률 변수가 특정 값 이하의 값을 가질 확률의 변화율을 계산한다.\n",
    "\n",
    "<p><div align=\"center\"><img src=\"https://raw.githubusercontent.com/codingalzi/DataSci/master/jupyter-book/images/pmf-pdf-cdf.png\" style=\"width:450px\"></div></p>\n",
    ":::"
   ]
  },
  {
   "cell_type": "markdown",
   "metadata": {},
   "source": [
    "### 연속 균등 분포"
   ]
  },
  {
   "cell_type": "markdown",
   "metadata": {},
   "source": [
    "특정 범위 내에서 균등하게 값을 취할 수 있는 연속 확률 변수의 분포를\n",
    "**연속 균등 분포**<font size='2'>continuous uniform distribution</font>라 한다.\n",
    "$U(a, b)$는 구간 $[a, b]$에서 값을 취하는 연속 균등 분포를 표현한다.\n",
    "\n",
    "연속 균등 분포 $U(a, b)$의 누적 분포 함수는 다음과 같이 직선의 기울기가 $\\frac{1}{b-a}$인 직선의 선분으로 표현된다.\n",
    "\n",
    "<p><div align=\"center\"><img src=\"https://raw.githubusercontent.com/codingalzi/DataSci/master/jupyter-book/images/uniform-cdf.png\" style=\"width:300px\"></div></p>\n",
    "\n",
    "따라서 연속 균등 분포 $U(a, b)$의 확률 밀도 함수는 구간 $[a, b]$에서 \n",
    "기울기가 $\\frac{1}{b-a}$인 직선의 미분 함수인 상수 함수 $f(x) = \\frac{1}{b-a}$로 표현된다.\n",
    "\n",
    "<p><div align=\"center\"><img src=\"https://raw.githubusercontent.com/codingalzi/DataSci/master/jupyter-book/images/uniform-pdf.png\" style=\"width:300px\"></div></p>\n",
    "\n",
    "실제로 구간 $[a, b]$에서 확률 밀도 함수 $f$와 $x$-축 사이의 영역인 직사각형의 넓이는 1이며,\n",
    "$x$가 $a$에서 $b$ 사이에 움직일 때의 밑변 $\\overline{ax}$를 갖는 직사각형의 면적 $F(x)$는 \n",
    "일정하게 $\\frac{1}{b-a}$의 비율로 증가한다."
   ]
  },
  {
   "cell_type": "markdown",
   "metadata": {},
   "source": [
    "**`np.random.uniform()` 함수**"
   ]
  },
  {
   "cell_type": "markdown",
   "metadata": {},
   "source": [
    "넘파이 라이브러리에서 제공하는 `np.random.uniform()` 함수는 지정된 구간 내에서\n",
    "균등 분포를 따르면서 무작위로 원하는 개수만큼의 부동소수점을 생성한다.\n",
    "단, 생성된 부동소수점은 지정된 모양<font size='2'>shape</font>의 어레이로 반환된다."
   ]
  },
  {
   "cell_type": "markdown",
   "metadata": {},
   "source": [
    "예를 들어 아래 코드는 2와 5 사이에서 균등하게 선택된 1,000개의 부동소수점을 포함하는 1차원 어레이를 반환한다."
   ]
  },
  {
   "cell_type": "code",
   "execution_count": 22,
   "metadata": {},
   "outputs": [],
   "source": [
    "np.random.seed(17)\n",
    "\n",
    "uni1000 = np.random.uniform(2, 5,1000)"
   ]
  },
  {
   "cell_type": "markdown",
   "metadata": {},
   "source": [
    "선택된 부동소수점이 2보다는 같거나 크고, 5보다는 작음이 확인된다."
   ]
  },
  {
   "cell_type": "code",
   "execution_count": 23,
   "metadata": {},
   "outputs": [
    {
     "data": {
      "text/plain": [
       "True"
      ]
     },
     "execution_count": 23,
     "metadata": {},
     "output_type": "execute_result"
    }
   ],
   "source": [
    "np.all((2 <= uni1000) & (uni1000 < 5))"
   ]
  },
  {
   "cell_type": "markdown",
   "metadata": {},
   "source": [
    "아래 코드는 선택된 1,000개의 부동소수점에 대해 히스토그램을 그린다.\n",
    "`bins=30` 키워드 인자는 전체 영역을 25 등분해서 각 구간별 도수크기에 해당하는 막대를 그린다.\n",
    "편차가 있기는 하지만 각 구간에 평균 $1000/25 = 40$ 개의 데이터가 포함된다.\n",
    "\n",
    "`plt.hist()` 함수는 `(n, bins, patches)` 형식의 튜플을 반환한다.\n",
    "\n",
    "- `n`: 구간별 도수 또는 밀도로 구성된 어레이\n",
    "- `bins`: 구간의 양 끝을 가리키는 값들의 어레이\n",
    "- `patches`: 막대그래프를 담당하는 `BarContainer` 객체\n",
    "\n",
    "이중에 `patches`에 해당하는 값인 `BarContainer` 객체는 신경쓰지 않는다.\n",
    "`n`이 가리키는 값이 도수인지 밀도인지 여부는 `density` 키워드의 인자가\n",
    "`False` 또는 `True` 여부에 의해 결정된다.\n",
    "아래 코드에서는 `density=False` 기본 키워드 인자가 사용되기에\n",
    "각 구간별 도수가 $y$-축에 표시된다."
   ]
  },
  {
   "cell_type": "code",
   "execution_count": 24,
   "metadata": {},
   "outputs": [
    {
     "data": {
      "image/png": "[encoded data removed]",
      "text/plain": [
       "<Figure size 640x480 with 1 Axes>"
      ]
     },
     "metadata": {},
     "output_type": "display_data"
    }
   ],
   "source": [
    "fig, ax = plt.subplots()\n",
    "\n",
    "freqs, bins, _ = ax.hist(uni1000, bins=25)\n",
    "\n",
    "# 평균 도수: freqs.mean() = 40.0\n",
    "ax.plot(bins, np.ones_like(bins) * freqs.mean(), linewidth=2, color='r')\n",
    "\n",
    "ax.set_xlabel('x')\n",
    "ax.set_ylabel('Frequency')\n",
    "\n",
    "plt.show()"
   ]
  },
  {
   "cell_type": "markdown",
   "metadata": {},
   "source": [
    "반면에 `density=True` 키워드 인자를 지정하면 각 구간별로 상대도수를 막대로 표현한다.\n",
    "그런데 전체 구역의 면적을 1로 만들기 위해 구간의 상대도수를 해당 구간의 크기로 나눈 값을 막대의 높이로 사용한다.\n",
    "\n",
    "균등 분포의 경우 막대 높이는 평균 $\\frac{1}{b-a}$이며, 이유는 다음과 같다.\n",
    "단, $t$를 데이터셋의 크기, $n$은 구간의 개수를 가리킨다고 할 때\n",
    "구간별 평균 상대도수는 $\\frac t n$이고 구간의 크기는 $\\frac{b-a}{n}$임에 주의한다.\n",
    "\n",
    "$$\n",
    "\\frac{\\displaystyle\\frac{t}{n}}{t} \\cdot \\frac{1}{\\displaystyle \\frac{b-a}{n}} = \\frac 1 n \\cdot \\frac{n}{b-a} = \\frac{1}{b-a}\n",
    "$$\n",
    "\n",
    "예를 들어 아래 코드는 전체 영역이 2부터 5까지를 대상으로 하기에 \n",
    "막대로 구성된 영역의 면적을 1로 만들기 위해 \n",
    "구간별 막대의 높이는 평균 약 $1/3 = 0.33$이다. \n",
    "\n",
    "$$\n",
    "\\frac{1}{5-2} \\simeq 0.333333\n",
    "$$\n",
    "\n",
    "그래프에서 빨간 직선은 이론적 평균 밀도인 0.333333을, \n",
    "노란 직선은 주어진 데이터셋의 실제 평균 밀도인 0.334067을 가리킨다.\n",
    "이론과 실재가 사실상 동일한 결과를 보인다."
   ]
  },
  {
   "cell_type": "code",
   "execution_count": 45,
   "metadata": {},
   "outputs": [
    {
     "data": {
      "image/png": "[encoded data removed]",
      "text/plain": [
       "<Figure size 640x480 with 1 Axes>"
      ]
     },
     "metadata": {},
     "output_type": "display_data"
    }
   ],
   "source": [
    "fig, ax = plt.subplots()\n",
    "\n",
    "dens, bins, _ = ax.hist(uni1000, 25, density=True)\n",
    "\n",
    "# 확률 밀도 함수 그래프: y = 1/(5-2) = 0.333333 (빨간 직선)\n",
    "ax.plot(bins, np.ones_like(bins)/(5-2), linewidth=3, color='r')\n",
    "\n",
    "# 실제 평균 밀도: dens.mean() = 0.334067 (노란 직선)\n",
    "ax.plot(bins, np.ones_like(bins)*dens.mean(), linewidth=2, color='y')\n",
    "\n",
    "ax.set_xlabel('x')\n",
    "ax.set_ylabel('Density')\n",
    "\n",
    "plt.show()"
   ]
  },
  {
   "cell_type": "markdown",
   "metadata": {},
   "source": [
    "### **캘리포니아 주택가격 데이터셋: 중위소득**"
   ]
  },
  {
   "cell_type": "code",
   "execution_count": 20,
   "metadata": {},
   "outputs": [
    {
     "data": {
      "text/html": [
       "<div>\n",
       "<style scoped>\n",
       "    .dataframe tbody tr th:only-of-type {\n",
       "        vertical-align: middle;\n",
       "    }\n",
       "\n",
       "    .dataframe tbody tr th {\n",
       "        vertical-align: top;\n",
       "    }\n",
       "\n",
       "    .dataframe thead th {\n",
       "        text-align: right;\n",
       "    }\n",
       "</style>\n",
       "<table border=\"1\" class=\"dataframe\">\n",
       "  <thead>\n",
       "    <tr style=\"text-align: right;\">\n",
       "      <th></th>\n",
       "      <th>median_income</th>\n",
       "    </tr>\n",
       "    <tr>\n",
       "      <th>district</th>\n",
       "      <th></th>\n",
       "    </tr>\n",
       "  </thead>\n",
       "  <tbody>\n",
       "    <tr>\n",
       "      <th>0</th>\n",
       "      <td>8.3252</td>\n",
       "    </tr>\n",
       "    <tr>\n",
       "      <th>1</th>\n",
       "      <td>8.3014</td>\n",
       "    </tr>\n",
       "    <tr>\n",
       "      <th>2</th>\n",
       "      <td>7.2574</td>\n",
       "    </tr>\n",
       "    <tr>\n",
       "      <th>3</th>\n",
       "      <td>5.6431</td>\n",
       "    </tr>\n",
       "    <tr>\n",
       "      <th>4</th>\n",
       "      <td>3.8462</td>\n",
       "    </tr>\n",
       "    <tr>\n",
       "      <th>...</th>\n",
       "      <td>...</td>\n",
       "    </tr>\n",
       "    <tr>\n",
       "      <th>19670</th>\n",
       "      <td>1.5603</td>\n",
       "    </tr>\n",
       "    <tr>\n",
       "      <th>19671</th>\n",
       "      <td>2.5568</td>\n",
       "    </tr>\n",
       "    <tr>\n",
       "      <th>19672</th>\n",
       "      <td>1.7000</td>\n",
       "    </tr>\n",
       "    <tr>\n",
       "      <th>19673</th>\n",
       "      <td>1.8672</td>\n",
       "    </tr>\n",
       "    <tr>\n",
       "      <th>19674</th>\n",
       "      <td>2.3886</td>\n",
       "    </tr>\n",
       "  </tbody>\n",
       "</table>\n",
       "<p>19675 rows × 1 columns</p>\n",
       "</div>"
      ],
      "text/plain": [
       "          median_income\n",
       "district               \n",
       "0                8.3252\n",
       "1                8.3014\n",
       "2                7.2574\n",
       "3                5.6431\n",
       "4                3.8462\n",
       "...                 ...\n",
       "19670            1.5603\n",
       "19671            2.5568\n",
       "19672            1.7000\n",
       "19673            1.8672\n",
       "19674            2.3886\n",
       "\n",
       "[19675 rows x 1 columns]"
      ]
     },
     "execution_count": 20,
     "metadata": {},
     "output_type": "execute_result"
    }
   ],
   "source": [
    "housing = pd.read_csv(data_url+\"california_housing.csv\")\n",
    "\n",
    "# 중위주택가격이 50만1달러 이상인 구역 삭제\n",
    "house_value_max = housing['median_house_value'].max() # 500,001\n",
    "mask = housing['median_house_value'] >= house_value_max\n",
    "housing = housing[~mask]\n",
    "\n",
    "# 인덱스 초기화\n",
    "housing = housing.reset_index(drop=True)\n",
    "\n",
    "# 중위소득 특성만 선택\n",
    "housing = housing.loc[:, ['median_income']]\n",
    "housing.index.name = 'district'\n",
    "housing"
   ]
  },
  {
   "cell_type": "code",
   "execution_count": 33,
   "metadata": {},
   "outputs": [
    {
     "data": {
      "image/png": "[encoded data removed]",
      "text/plain": [
       "<Figure size 640x480 with 1 Axes>"
      ]
     },
     "metadata": {},
     "output_type": "display_data"
    }
   ],
   "source": [
    "fig, ax = plt.subplots()\n",
    "\n",
    "ax.hist(housing.median_income, bins=30, density=True)\n",
    "\n",
    "ax.set_xlim([-1, 16.7])\n",
    "ax.set_ylim([0.0, 0.299])\n",
    "\n",
    "plt.show()"
   ]
  },
  {
   "cell_type": "code",
   "execution_count": 32,
   "metadata": {},
   "outputs": [
    {
     "data": {
      "image/png": "[encoded data removed]",
      "text/plain": [
       "<Figure size 640x480 with 1 Axes>"
      ]
     },
     "metadata": {},
     "output_type": "display_data"
    }
   ],
   "source": [
    "fig, ax = plt.subplots()\n",
    "\n",
    "sns.histplot(ax=ax, data=housing.median_income, bins=30, stat='density')\n",
    "sns.kdeplot(ax=ax, data=housing.median_income, bw_method=.19)\n",
    "\n",
    "plt.show()"
   ]
  },
  {
   "cell_type": "markdown",
   "metadata": {},
   "source": [
    "참고:\n",
    "\n",
    "1. [KDE Plot Visualization with Pandas and Seaborn](https://www.geeksforgeeks.org/kde-plot-visualization-with-pandas-and-seaborn/)\n",
    "1. [How to extract density function probabilities in python (pandas kde)](https://stackoverflow.com/questions/63258749/how-to-extract-density-function-probabilities-in-python-pandas-kde)"
   ]
  },
  {
   "cell_type": "code",
   "execution_count": 23,
   "metadata": {},
   "outputs": [],
   "source": [
    "import scipy.stats\n",
    "\n",
    "pdf_income = scipy.stats.gaussian_kde(housing.median_income, bw_method=.19)"
   ]
  },
  {
   "cell_type": "code",
   "execution_count": 24,
   "metadata": {},
   "outputs": [
    {
     "data": {
      "image/png": "[encoded data removed]",
      "text/plain": [
       "<Figure size 640x480 with 1 Axes>"
      ]
     },
     "metadata": {},
     "output_type": "display_data"
    }
   ],
   "source": [
    "fig, ax = plt.subplots()\n",
    "\n",
    "xs = np.arange(0, 16, 0.01)\n",
    "ys = pdf_income(xs)\n",
    "\n",
    "ax.plot(xs, ys)\n",
    "ax.set_xlim([-1, 16.7])\n",
    "ax.set_ylim([0.0, 0.299])\n",
    "\n",
    "plt.show()"
   ]
  },
  {
   "cell_type": "code",
   "execution_count": null,
   "metadata": {},
   "outputs": [],
   "source": []
  },
  {
   "cell_type": "code",
   "execution_count": null,
   "metadata": {},
   "outputs": [],
   "source": []
  },
  {
   "cell_type": "code",
   "execution_count": null,
   "metadata": {},
   "outputs": [],
   "source": []
  },
  {
   "cell_type": "markdown",
   "metadata": {},
   "source": [
    "## 다변량 분포"
   ]
  },
  {
   "cell_type": "markdown",
   "metadata": {},
   "source": [
    "### 연속 결합 확률 분포"
   ]
  },
  {
   "cell_type": "markdown",
   "metadata": {},
   "source": [
    "**보스턴 주택가격 데이터셋**"
   ]
  },
  {
   "cell_type": "markdown",
   "metadata": {},
   "source": [
    "보스턴 주택가격 데이터셋은\n",
    "1978년에 발표된 미국 보스턴 지녁의 총 506개 구역에서 주택 가격에 영향을 미치는 요소들을 수집한 자료를 담고 있다.\n",
    "구역별 중위주택가격을 포함해서 총 14가지 특성이 포함된다."
   ]
  },
  {
   "cell_type": "markdown",
   "metadata": {},
   "source": [
    ":::{list-table} 보스턴 주택가격 데이터셋의 특성\n",
    ":widths: 15 55\n",
    ":header-rows: 1\n",
    ":name: boston\n",
    "\n",
    "*   - 특성\n",
    "    - 의미\n",
    "*   - <font color=#FF0000>CRIM</font>\n",
    "    - <font color=#FF0000>구역별 1인당 범죄율</font>\n",
    "*   - ZN\n",
    "    - 25000 평방 피트 이상의 주거 구역 비율\n",
    "*   - INDUS\n",
    "    - 구역별 비소매 사업지(에이커) 비율\n",
    "*   - CHAS\n",
    "    - Charles River 인접 여부\n",
    "*   - NOX\n",
    "    - 10ppm 당 일산화 질소 농도\n",
    "*   - RM\n",
    "    - 주택 당 평균 방의 개수\n",
    "*   - AGE\n",
    "     - 1940년 이전에 건축된 소유주택 비율\n",
    "*   - DIS\n",
    "    - 보스턴 고용 센터 다섯 군데까지의 접근성 지수\n",
    "*   - RAD\n",
    "    - 방사형 고속도로 접근성 지수\n",
    "*   - TAX\n",
    "    - 1만달러 당 재산세율\n",
    "*   - PTRATIO\n",
    "    - 구역별 학생 대 교사 비율\n",
    "*   - <font color=#FF0000>B</font> \n",
    "    - <font color=#FF0000>1000(Bk - 0.63)^2 (Bk는구역별 흑인 비율)</font>\n",
    "*   - <font color=#FF0000>LSTAT</font>\n",
    "    - <font color=#FF0000>구역별 하위 계층 인구 비율</font>\n",
    "*   - MEDV\n",
    "    - 자가 주택 중위가격\n",
    ":::"
   ]
  },
  {
   "cell_type": "markdown",
   "metadata": {},
   "source": [
    "**보스턴 주택가격 데이터셋 불러오기**"
   ]
  },
  {
   "cell_type": "markdown",
   "metadata": {},
   "source": [
    "아래는 보스턴 데이터가 저장된 csv 파일의 처음 10줄이다.\n",
    "각각의 특성은 2, 3개의 공백으로 구분되어 있으며 특성명은 없다.\n",
    "\n",
    "```\n",
    " 0.00632  18.00   2.310  0  0.5380  6.5750  65.20  4.0900   1  296.0  15.30 396.90   4.98  24.00\n",
    " 0.02731   0.00   7.070  0  0.4690  6.4210  78.90  4.9671   2  242.0  17.80 396.90   9.14  21.60\n",
    " 0.02729   0.00   7.070  0  0.4690  7.1850  61.10  4.9671   2  242.0  17.80 392.83   4.03  34.70\n",
    " 0.03237   0.00   2.180  0  0.4580  6.9980  45.80  6.0622   3  222.0  18.70 394.63   2.94  33.40\n",
    " 0.06905   0.00   2.180  0  0.4580  7.1470  54.20  6.0622   3  222.0  18.70 396.90   5.33  36.20\n",
    " 0.02985   0.00   2.180  0  0.4580  6.4300  58.70  6.0622   3  222.0  18.70 394.12   5.21  28.70\n",
    " 0.08829  12.50   7.870  0  0.5240  6.0120  66.60  5.5605   5  311.0  15.20 395.60  12.43  22.90\n",
    " 0.14455  12.50   7.870  0  0.5240  6.1720  96.10  5.9505   5  311.0  15.20 396.90  19.15  27.10\n",
    " 0.21124  12.50   7.870  0  0.5240  5.6310 100.00  6.0821   5  311.0  15.20 386.63  29.93  16.50\n",
    " 0.17004  12.50   7.870  0  0.5240  6.0040  85.90  6.5921   5  311.0  15.20 386.71  17.10  18.90\n",
    " ```"
   ]
  },
  {
   "cell_type": "markdown",
   "metadata": {},
   "source": [
    "14개 특성의 특성명은 다음과 같다."
   ]
  },
  {
   "cell_type": "code",
   "execution_count": 25,
   "metadata": {},
   "outputs": [],
   "source": [
    "column_names = ['CRIM', 'ZN', 'INDUS', 'CHAS', 'NOX', \n",
    "                'RM', 'AGE', 'DIS', 'RAD', 'TAX',\n",
    "                'PTRATIO', 'B', 'LSTAT', 'MEDV']"
   ]
  },
  {
   "cell_type": "markdown",
   "metadata": {},
   "source": [
    "아래 코드는 특성명 정보를 활용하여 보스턴 주택가격 데이터셋을 데이터프레임으로 불러온다.\n",
    "`pd.read_csv()` 함수 호출에 사용된 키워드 인자는 다음과 같다.\n",
    "\n",
    "- `header=None`: 특성명 등 데이터 정보를 포함하는 행의 개수. `None`은 그런 행이 없다은 의미임.\n",
    "- `delimiter=r'\\s+`: 특성값 구분 문자열 지정. 기본값은 쉼표이지만 여기서는 한 개 이상의 공백 문자로 구성된 문자열을\n",
    "    가리키는 정규표현식 지정.\n",
    "- `names`: 특성명을 담은 리스트 또는 어레이 지정."
   ]
  },
  {
   "cell_type": "code",
   "execution_count": 26,
   "metadata": {},
   "outputs": [],
   "source": [
    "boston = pd.read_csv(data_url+\"boston_housing.csv\", \n",
    "                     header=None, \n",
    "                     delimiter=r'\\s+',\n",
    "                     names=column_names)"
   ]
  },
  {
   "cell_type": "code",
   "execution_count": 27,
   "metadata": {},
   "outputs": [
    {
     "data": {
      "text/html": [
       "<div>\n",
       "<style scoped>\n",
       "    .dataframe tbody tr th:only-of-type {\n",
       "        vertical-align: middle;\n",
       "    }\n",
       "\n",
       "    .dataframe tbody tr th {\n",
       "        vertical-align: top;\n",
       "    }\n",
       "\n",
       "    .dataframe thead th {\n",
       "        text-align: right;\n",
       "    }\n",
       "</style>\n",
       "<table border=\"1\" class=\"dataframe\">\n",
       "  <thead>\n",
       "    <tr style=\"text-align: right;\">\n",
       "      <th></th>\n",
       "      <th>CRIM</th>\n",
       "      <th>ZN</th>\n",
       "      <th>INDUS</th>\n",
       "      <th>CHAS</th>\n",
       "      <th>NOX</th>\n",
       "      <th>RM</th>\n",
       "      <th>AGE</th>\n",
       "      <th>DIS</th>\n",
       "      <th>RAD</th>\n",
       "      <th>TAX</th>\n",
       "      <th>PTRATIO</th>\n",
       "      <th>B</th>\n",
       "      <th>LSTAT</th>\n",
       "      <th>MEDV</th>\n",
       "    </tr>\n",
       "  </thead>\n",
       "  <tbody>\n",
       "    <tr>\n",
       "      <th>0</th>\n",
       "      <td>0.00632</td>\n",
       "      <td>18.0</td>\n",
       "      <td>2.31</td>\n",
       "      <td>0</td>\n",
       "      <td>0.538</td>\n",
       "      <td>6.575</td>\n",
       "      <td>65.2</td>\n",
       "      <td>4.0900</td>\n",
       "      <td>1</td>\n",
       "      <td>296.0</td>\n",
       "      <td>15.3</td>\n",
       "      <td>396.90</td>\n",
       "      <td>4.98</td>\n",
       "      <td>24.0</td>\n",
       "    </tr>\n",
       "    <tr>\n",
       "      <th>1</th>\n",
       "      <td>0.02731</td>\n",
       "      <td>0.0</td>\n",
       "      <td>7.07</td>\n",
       "      <td>0</td>\n",
       "      <td>0.469</td>\n",
       "      <td>6.421</td>\n",
       "      <td>78.9</td>\n",
       "      <td>4.9671</td>\n",
       "      <td>2</td>\n",
       "      <td>242.0</td>\n",
       "      <td>17.8</td>\n",
       "      <td>396.90</td>\n",
       "      <td>9.14</td>\n",
       "      <td>21.6</td>\n",
       "    </tr>\n",
       "    <tr>\n",
       "      <th>2</th>\n",
       "      <td>0.02729</td>\n",
       "      <td>0.0</td>\n",
       "      <td>7.07</td>\n",
       "      <td>0</td>\n",
       "      <td>0.469</td>\n",
       "      <td>7.185</td>\n",
       "      <td>61.1</td>\n",
       "      <td>4.9671</td>\n",
       "      <td>2</td>\n",
       "      <td>242.0</td>\n",
       "      <td>17.8</td>\n",
       "      <td>392.83</td>\n",
       "      <td>4.03</td>\n",
       "      <td>34.7</td>\n",
       "    </tr>\n",
       "    <tr>\n",
       "      <th>3</th>\n",
       "      <td>0.03237</td>\n",
       "      <td>0.0</td>\n",
       "      <td>2.18</td>\n",
       "      <td>0</td>\n",
       "      <td>0.458</td>\n",
       "      <td>6.998</td>\n",
       "      <td>45.8</td>\n",
       "      <td>6.0622</td>\n",
       "      <td>3</td>\n",
       "      <td>222.0</td>\n",
       "      <td>18.7</td>\n",
       "      <td>394.63</td>\n",
       "      <td>2.94</td>\n",
       "      <td>33.4</td>\n",
       "    </tr>\n",
       "    <tr>\n",
       "      <th>4</th>\n",
       "      <td>0.06905</td>\n",
       "      <td>0.0</td>\n",
       "      <td>2.18</td>\n",
       "      <td>0</td>\n",
       "      <td>0.458</td>\n",
       "      <td>7.147</td>\n",
       "      <td>54.2</td>\n",
       "      <td>6.0622</td>\n",
       "      <td>3</td>\n",
       "      <td>222.0</td>\n",
       "      <td>18.7</td>\n",
       "      <td>396.90</td>\n",
       "      <td>5.33</td>\n",
       "      <td>36.2</td>\n",
       "    </tr>\n",
       "    <tr>\n",
       "      <th>...</th>\n",
       "      <td>...</td>\n",
       "      <td>...</td>\n",
       "      <td>...</td>\n",
       "      <td>...</td>\n",
       "      <td>...</td>\n",
       "      <td>...</td>\n",
       "      <td>...</td>\n",
       "      <td>...</td>\n",
       "      <td>...</td>\n",
       "      <td>...</td>\n",
       "      <td>...</td>\n",
       "      <td>...</td>\n",
       "      <td>...</td>\n",
       "      <td>...</td>\n",
       "    </tr>\n",
       "    <tr>\n",
       "      <th>501</th>\n",
       "      <td>0.06263</td>\n",
       "      <td>0.0</td>\n",
       "      <td>11.93</td>\n",
       "      <td>0</td>\n",
       "      <td>0.573</td>\n",
       "      <td>6.593</td>\n",
       "      <td>69.1</td>\n",
       "      <td>2.4786</td>\n",
       "      <td>1</td>\n",
       "      <td>273.0</td>\n",
       "      <td>21.0</td>\n",
       "      <td>391.99</td>\n",
       "      <td>9.67</td>\n",
       "      <td>22.4</td>\n",
       "    </tr>\n",
       "    <tr>\n",
       "      <th>502</th>\n",
       "      <td>0.04527</td>\n",
       "      <td>0.0</td>\n",
       "      <td>11.93</td>\n",
       "      <td>0</td>\n",
       "      <td>0.573</td>\n",
       "      <td>6.120</td>\n",
       "      <td>76.7</td>\n",
       "      <td>2.2875</td>\n",
       "      <td>1</td>\n",
       "      <td>273.0</td>\n",
       "      <td>21.0</td>\n",
       "      <td>396.90</td>\n",
       "      <td>9.08</td>\n",
       "      <td>20.6</td>\n",
       "    </tr>\n",
       "    <tr>\n",
       "      <th>503</th>\n",
       "      <td>0.06076</td>\n",
       "      <td>0.0</td>\n",
       "      <td>11.93</td>\n",
       "      <td>0</td>\n",
       "      <td>0.573</td>\n",
       "      <td>6.976</td>\n",
       "      <td>91.0</td>\n",
       "      <td>2.1675</td>\n",
       "      <td>1</td>\n",
       "      <td>273.0</td>\n",
       "      <td>21.0</td>\n",
       "      <td>396.90</td>\n",
       "      <td>5.64</td>\n",
       "      <td>23.9</td>\n",
       "    </tr>\n",
       "    <tr>\n",
       "      <th>504</th>\n",
       "      <td>0.10959</td>\n",
       "      <td>0.0</td>\n",
       "      <td>11.93</td>\n",
       "      <td>0</td>\n",
       "      <td>0.573</td>\n",
       "      <td>6.794</td>\n",
       "      <td>89.3</td>\n",
       "      <td>2.3889</td>\n",
       "      <td>1</td>\n",
       "      <td>273.0</td>\n",
       "      <td>21.0</td>\n",
       "      <td>393.45</td>\n",
       "      <td>6.48</td>\n",
       "      <td>22.0</td>\n",
       "    </tr>\n",
       "    <tr>\n",
       "      <th>505</th>\n",
       "      <td>0.04741</td>\n",
       "      <td>0.0</td>\n",
       "      <td>11.93</td>\n",
       "      <td>0</td>\n",
       "      <td>0.573</td>\n",
       "      <td>6.030</td>\n",
       "      <td>80.8</td>\n",
       "      <td>2.5050</td>\n",
       "      <td>1</td>\n",
       "      <td>273.0</td>\n",
       "      <td>21.0</td>\n",
       "      <td>396.90</td>\n",
       "      <td>7.88</td>\n",
       "      <td>11.9</td>\n",
       "    </tr>\n",
       "  </tbody>\n",
       "</table>\n",
       "<p>506 rows × 14 columns</p>\n",
       "</div>"
      ],
      "text/plain": [
       "        CRIM    ZN  INDUS  CHAS    NOX     RM   AGE     DIS  RAD    TAX  \\\n",
       "0    0.00632  18.0   2.31     0  0.538  6.575  65.2  4.0900    1  296.0   \n",
       "1    0.02731   0.0   7.07     0  0.469  6.421  78.9  4.9671    2  242.0   \n",
       "2    0.02729   0.0   7.07     0  0.469  7.185  61.1  4.9671    2  242.0   \n",
       "3    0.03237   0.0   2.18     0  0.458  6.998  45.8  6.0622    3  222.0   \n",
       "4    0.06905   0.0   2.18     0  0.458  7.147  54.2  6.0622    3  222.0   \n",
       "..       ...   ...    ...   ...    ...    ...   ...     ...  ...    ...   \n",
       "501  0.06263   0.0  11.93     0  0.573  6.593  69.1  2.4786    1  273.0   \n",
       "502  0.04527   0.0  11.93     0  0.573  6.120  76.7  2.2875    1  273.0   \n",
       "503  0.06076   0.0  11.93     0  0.573  6.976  91.0  2.1675    1  273.0   \n",
       "504  0.10959   0.0  11.93     0  0.573  6.794  89.3  2.3889    1  273.0   \n",
       "505  0.04741   0.0  11.93     0  0.573  6.030  80.8  2.5050    1  273.0   \n",
       "\n",
       "     PTRATIO       B  LSTAT  MEDV  \n",
       "0       15.3  396.90   4.98  24.0  \n",
       "1       17.8  396.90   9.14  21.6  \n",
       "2       17.8  392.83   4.03  34.7  \n",
       "3       18.7  394.63   2.94  33.4  \n",
       "4       18.7  396.90   5.33  36.2  \n",
       "..       ...     ...    ...   ...  \n",
       "501     21.0  391.99   9.67  22.4  \n",
       "502     21.0  396.90   9.08  20.6  \n",
       "503     21.0  396.90   5.64  23.9  \n",
       "504     21.0  393.45   6.48  22.0  \n",
       "505     21.0  396.90   7.88  11.9  \n",
       "\n",
       "[506 rows x 14 columns]"
      ]
     },
     "execution_count": 27,
     "metadata": {},
     "output_type": "execute_result"
    }
   ],
   "source": [
    "boston"
   ]
  },
  {
   "cell_type": "code",
   "execution_count": null,
   "metadata": {},
   "outputs": [],
   "source": []
  },
  {
   "cell_type": "code",
   "execution_count": null,
   "metadata": {},
   "outputs": [],
   "source": []
  },
  {
   "cell_type": "code",
   "execution_count": null,
   "metadata": {},
   "outputs": [],
   "source": []
  },
  {
   "cell_type": "code",
   "execution_count": null,
   "metadata": {},
   "outputs": [],
   "source": []
  },
  {
   "cell_type": "markdown",
   "metadata": {
    "colab_type": "text"
   },
   "source": [
    "### 데이터 전처리: 표준화"
   ]
  },
  {
   "cell_type": "markdown",
   "metadata": {},
   "source": [
    "특성에 따라 사용되는 값들의 크기 정도<font size='2'>scale</font>가 다르다. \n",
    "어떤 특성은 0과 1사이의 값을, 다른 특성은 100단위의 값을 포함하기도 한다.\n",
    "그런데 머신러닝 모델은 기본적으로 모든 특성이 동일한 크기 정도의 \n",
    "값으로 구성될 때 보다 잘 훈련된다.\n",
    "이런 이유로 여기서는 평균은 0, 표준편차는 1이 되도록 변환하는\n",
    "**표준화**<font size='2'>standardization</font>를 적용해서\n",
    "훈련셋과 테스트셋을 전처리한다."
   ]
  },
  {
   "cell_type": "markdown",
   "metadata": {},
   "source": [
    "표준화는 다음 식으로 계산된다. \n",
    "\n",
    "$$\n",
    "\\frac{x - \\mu}{\\sigma}\n",
    "$$\n",
    "\n",
    "$x$는 샘플의 특성값을, $\\mu$와 $\\sigma$는 특성별 평균값과 표준편차를 가리킨다.\n",
    "넘파이 어레이를 이용하면 전체 훈련셋에 대해 다음처럼 한 번에 표준화를 진행할 수 있다."
   ]
  },
  {
   "cell_type": "markdown",
   "metadata": {},
   "source": [
    "```python\n",
    "# 훈련셋의 특성별 평균값/표준편차\n",
    "mean = train_data.mean(axis=0)\n",
    "std = train_data.std(axis=0)\n",
    "\n",
    "# 훈련셋 표준화\n",
    "train_data -= mean\n",
    "train_data /= std\n",
    "```"
   ]
  },
  {
   "cell_type": "markdown",
   "metadata": {},
   "source": [
    "## 연습문제"
   ]
  },
  {
   "cell_type": "markdown",
   "metadata": {},
   "source": [
    "참고: [(연습) 연속 확률 분포](https://colab.research.google.com/github/codingalzi/DataSci/blob/master/practices/practice-probability_continuous.ipynb)"
   ]
  }
 ],
 "metadata": {
  "kernelspec": {
   "display_name": "Python 3 (ipykernel)",
   "language": "python",
   "name": "python3"
  },
  "language_info": {
   "codemirror_mode": {
    "name": "ipython",
    "version": 3
   },
   "file_extension": ".py",
   "mimetype": "text/x-python",
   "name": "python",
   "nbconvert_exporter": "python",
   "pygments_lexer": "ipython3",
   "version": "3.12.2"
  },
  "toc": {
   "nav_menu": {},
   "number_sections": true,
   "sideBar": true,
   "skip_h1_title": false,
   "toc_cell": false,
   "toc_position": {},
   "toc_section_display": "block",
   "toc_window_display": false
  }
 },
 "nbformat": 4,
 "nbformat_minor": 2
}
