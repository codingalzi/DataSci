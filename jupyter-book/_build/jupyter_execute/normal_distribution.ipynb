{
 "cells": [
  {
   "cell_type": "markdown",
   "metadata": {
    "ExecuteTime": {
     "end_time": "2018-03-06T03:37:40.696920Z",
     "start_time": "2018-03-06T03:37:40.690655Z"
    }
   },
   "source": [
    "(ch:normal-distribution)=\n",
    "# 정규분포"
   ]
  },
  {
   "cell_type": "markdown",
   "metadata": {},
   "source": [
    "**기본 설정**"
   ]
  },
  {
   "cell_type": "markdown",
   "metadata": {
    "ExecuteTime": {
     "end_time": "2018-08-03T08:26:15.690793Z",
     "start_time": "2018-08-03T08:26:15.507201Z"
    }
   },
   "source": [
    "`numpy`와 `pandas` 라이브러리를 각각 `np`와 `pd`로 불러온다."
   ]
  },
  {
   "cell_type": "code",
   "execution_count": 1,
   "metadata": {
    "ExecuteTime": {
     "end_time": "2018-08-14T06:43:30.149227Z",
     "start_time": "2018-08-14T06:43:29.960007Z"
    }
   },
   "outputs": [],
   "source": [
    "import numpy as np\n",
    "import pandas as pd"
   ]
  },
  {
   "cell_type": "markdown",
   "metadata": {},
   "source": [
    "데이터프레임의 [chained indexing을 금지시키기 위한 설정](https://pandas.pydata.org/pandas-docs/stable/user_guide/indexing.html#returning-a-view-versus-a-copy)을 지정한다.\n",
    "Pandas 3.0 버전부터는 기본 옵션으로 지정된다."
   ]
  },
  {
   "cell_type": "code",
   "execution_count": 2,
   "metadata": {},
   "outputs": [],
   "source": [
    "pd.options.mode.copy_on_write = True"
   ]
  },
  {
   "cell_type": "markdown",
   "metadata": {
    "ExecuteTime": {
     "end_time": "2018-08-14T06:43:30.149227Z",
     "start_time": "2018-08-14T06:43:29.960007Z"
    }
   },
   "source": [
    "주피터 노트북에서 부동소수점의 출력을 소수점 이하 6자리로 제한한다.\n",
    "아래 코드는 주피터 노트북에서만 사용하며 일반적인 파이썬 코드가 아니다."
   ]
  },
  {
   "cell_type": "code",
   "execution_count": 3,
   "metadata": {
    "ExecuteTime": {
     "end_time": "2018-08-14T06:43:30.149227Z",
     "start_time": "2018-08-14T06:43:29.960007Z"
    }
   },
   "outputs": [
    {
     "data": {
      "text/plain": [
       "'%.6f'"
      ]
     },
     "execution_count": 3,
     "metadata": {},
     "output_type": "execute_result"
    }
   ],
   "source": [
    "%precision 6"
   ]
  },
  {
   "cell_type": "markdown",
   "metadata": {
    "ExecuteTime": {
     "end_time": "2018-08-14T06:43:30.149227Z",
     "start_time": "2018-08-14T06:43:29.960007Z"
    }
   },
   "source": [
    "아래 코드는 데이터프레임 내에서 부동소수점의 출력을 소수점 이하 6자리로 제한한다."
   ]
  },
  {
   "cell_type": "code",
   "execution_count": 4,
   "metadata": {
    "ExecuteTime": {
     "end_time": "2018-08-14T06:43:30.149227Z",
     "start_time": "2018-08-14T06:43:29.960007Z"
    }
   },
   "outputs": [],
   "source": [
    "pd.set_option('display.precision', 6)"
   ]
  },
  {
   "cell_type": "markdown",
   "metadata": {},
   "source": [
    "데이터 시각화를 위해 `matplotlib.pyplot`를 `plt`로,\n",
    "`seaborn`을 `sns`로 불러온다.\n",
    "`seaborn` 라이브러리는 통계 관련 데이터의 정보를 보다 세련되고 정확하게 전달하는 그래프를 그리는 도구를 제공한다.\n",
    "`matplotlib` 라이브러리를 바탕으로 만들어져서 함께 사용해도 된다."
   ]
  },
  {
   "cell_type": "code",
   "execution_count": 5,
   "metadata": {},
   "outputs": [],
   "source": [
    "import matplotlib.pyplot as plt\n",
    "import seaborn as sns"
   ]
  },
  {
   "cell_type": "markdown",
   "metadata": {},
   "source": [
    "그래프 스타일을 `seaborn`에서 제공하는 `white` 스타일로 지정한다."
   ]
  },
  {
   "cell_type": "code",
   "execution_count": 6,
   "metadata": {},
   "outputs": [],
   "source": [
    "sns.set_style(\"white\")"
   ]
  },
  {
   "cell_type": "markdown",
   "metadata": {},
   "source": [
    "**데이터 저장소 디렉토리**"
   ]
  },
  {
   "cell_type": "markdown",
   "metadata": {},
   "source": [
    "코드에 사용되는 [데이터 저장소의 기본 디렉토리](https://github.com/codingalzi/DataSci/tree/master/data)를 지정한다."
   ]
  },
  {
   "cell_type": "code",
   "execution_count": 7,
   "metadata": {},
   "outputs": [],
   "source": [
    "data_url = 'https://raw.githubusercontent.com/codingalzi/DataSci/refs/heads/master/data/'"
   ]
  },
  {
   "cell_type": "markdown",
   "metadata": {},
   "source": [
    "**주요 내용**"
   ]
  },
  {
   "cell_type": "markdown",
   "metadata": {},
   "source": [
    "확률과 통계에서 가장 유명한 연속 확률 분포인 정규분포를 소개한다.\n",
    "\n",
    "- 가우스 함수\n",
    "- 표준화\n",
    "- 정규분포 연산\n",
    "- 정규분포 활용"
   ]
  },
  {
   "cell_type": "markdown",
   "metadata": {
    "id": "-qLKQXViQhv6"
   },
   "source": [
    "## 가우스 함수"
   ]
  },
  {
   "cell_type": "markdown",
   "metadata": {
    "id": "OPLF9K0UOzoV"
   },
   "source": [
    "**정규분포**<font size='2'>normal distribution</font>는 \n",
    "길이, 크기, 높이 등의 데이터처럼 실생활 또는 자연에서 얻어지는 값을\n",
    "다룰 때 자주 접하는 확률 분포다.\n",
    "예를 들어 아래 사례들이 일반적으로 정규분포를 따른다.\n",
    "\n",
    "- 사람들의 키 또는 몸무게의 분포, \n",
    "- 대학생들의 성적 평점의 분포\n",
    "- 초등학생들의 통학시간의 분포"
   ]
  },
  {
   "cell_type": "markdown",
   "metadata": {
    "id": "Jp__Xw26UbqJ"
   },
   "source": [
    "정규분포의 확률 밀도 함수는 아래 가우스 함수로 정의된다.\n",
    "단, $\\mu$는 평균값을, $\\sigma$는 표준편차를 가리킨다."
   ]
  },
  {
   "cell_type": "markdown",
   "metadata": {
    "id": "Jp__Xw26UbqJ"
   },
   "source": [
    "$$\n",
    "f(x) = \\frac{1}{\\sigma \\sqrt{2\\pi}}\\, \\exp(-\\frac{(x-\\mu)^2}{2\\sigma^2})\n",
    "$$"
   ]
  },
  {
   "cell_type": "markdown",
   "metadata": {},
   "source": [
    "아래 `f_gaussian()` 함수가 가우스 함수를 구현한다.\n",
    "\n",
    "- `loc=0`: 평균값($\\mu$). 기본값 0.\n",
    "- `scale=1`: 표준편차($\\sigma$). 기본값 1."
   ]
  },
  {
   "cell_type": "code",
   "execution_count": 8,
   "metadata": {
    "colab": {
     "base_uri": "https://localhost:8080/",
     "height": 332
    },
    "executionInfo": {
     "elapsed": 350,
     "status": "ok",
     "timestamp": 1677206853574,
     "user": {
      "displayName": "오리온",
      "userId": "03097998205438381973"
     },
     "user_tz": -540
    },
    "id": "RHFcTQRVXtSH",
    "outputId": "3676f095-c594-4835-c27f-ad4e9007bc9d"
   },
   "outputs": [],
   "source": [
    "def f_gaussian(x, loc=0, scale=1):\n",
    "    return (1 / (scale * np.sqrt(2 * np.pi))) * np.exp(-(x - loc)**2 / (2 * scale**2))"
   ]
  },
  {
   "cell_type": "markdown",
   "metadata": {
    "id": "EvfmZcN4WnQk"
   },
   "source": [
    "아래 코드는 평균값 $\\mu$와 표준편차 $\\sigma$에 따라 가우스 함수의 그래프가\n",
    "어떻게 달라지는지 보여준다."
   ]
  },
  {
   "cell_type": "code",
   "execution_count": 9,
   "metadata": {
    "colab": {
     "base_uri": "https://localhost:8080/",
     "height": 332
    },
    "executionInfo": {
     "elapsed": 350,
     "status": "ok",
     "timestamp": 1677206853574,
     "user": {
      "displayName": "오리온",
      "userId": "03097998205438381973"
     },
     "user_tz": -540
    },
    "id": "RHFcTQRVXtSH",
    "outputId": "3676f095-c594-4835-c27f-ad4e9007bc9d"
   },
   "outputs": [
    {
     "data": {
      "image/png": "[encoded data removed]",
      "text/plain": [
       "<Figure size 640x480 with 1 Axes>"
      ]
     },
     "metadata": {},
     "output_type": "display_data"
    }
   ],
   "source": [
    "fig = plt.figure()\n",
    "ax = fig.add_subplot(1, 1, 1)\n",
    "\n",
    "x = np.arange(-4, 6, 0.01)\n",
    "\n",
    "ax.plot(x, f_gaussian(x, loc=0, scale=1.0), label=r'$\\mu = 0, \\sigma = 1.0$')\n",
    "ax.plot(x, f_gaussian(x, loc=0, scale=0.5), label=r'$\\mu = 0, \\sigma = 0.5$')\n",
    "ax.plot(x, f_gaussian(x, loc=0, scale=2.0), label=r'$\\mu = 0, \\sigma = 2.0$')\n",
    "ax.plot(x, f_gaussian(x, loc=2, scale=0.8), label=r'$\\mu = 2, \\sigma = 0.8$')\n",
    "\n",
    "ax.set_xlabel('x')\n",
    "ax.set_ylabel(r'Density')\n",
    "\n",
    "plt.legend()\n",
    "plt.show()"
   ]
  },
  {
   "cell_type": "markdown",
   "metadata": {
    "id": "Jp__Xw26UbqJ"
   },
   "source": [
    "확률변수 $X$가 평균값이 $\\mu$이고 분산이 $\\sigma^2$인\n",
    "정규분포를 따를 때 아래와 같이 표기한다.  \n",
    "\n",
    "$$\n",
    "X \\sim N(\\mu, \\sigma^2)\n",
    "$$"
   ]
  },
  {
   "cell_type": "markdown",
   "metadata": {},
   "source": [
    "앞서 직접 구현한 정규분포의 확률 밀도 함수(pdf) `f_gaussian()` 등 정규분포와\n",
    "관련된 모든 기능을 `scipy.stats` 모듈의 `norm` 객체가 제공한다."
   ]
  },
  {
   "cell_type": "code",
   "execution_count": 10,
   "metadata": {},
   "outputs": [],
   "source": [
    "from scipy.stats import norm"
   ]
  },
  {
   "cell_type": "markdown",
   "metadata": {},
   "source": [
    "예를 들어 `norm.pdf()`가 `f_gaussian()`에 해당하며,\n",
    "이어지는 코드에서 대신 사용된다."
   ]
  },
  {
   "cell_type": "code",
   "execution_count": 11,
   "metadata": {},
   "outputs": [],
   "source": [
    "f_gaussian = norm.pdf"
   ]
  },
  {
   "cell_type": "markdown",
   "metadata": {},
   "source": [
    "반면에 `norm.cdf()` 함수는 정규분포의 누적 분포 함수(cdf)를 가리킨다."
   ]
  },
  {
   "cell_type": "code",
   "execution_count": 12,
   "metadata": {},
   "outputs": [],
   "source": [
    "F_gaussian = norm.cdf"
   ]
  },
  {
   "cell_type": "markdown",
   "metadata": {},
   "source": [
    "두 함수 모두 `loc=0`과 `scale=1`을 키워드 인자로 사용하며\n",
    "각각 분포의 평균값과 표준편차를 지정한다."
   ]
  },
  {
   "cell_type": "markdown",
   "metadata": {},
   "source": [
    "**정규분포의 기댓값과 분산**"
   ]
  },
  {
   "cell_type": "markdown",
   "metadata": {},
   "source": [
    "정규분포의 기댓값과 분산은 각각 데이터의 평균값, 분산과 일치한다.\n",
    "즉 다음이 성립한다."
   ]
  },
  {
   "cell_type": "markdown",
   "metadata": {},
   "source": [
    "$$\n",
    "X \\sim N(\\mu, \\sigma^2) \\quad \\Longrightarrow \\quad E[X] = \\mu,\\,\\, V(X) = \\sigma^2\n",
    "$$"
   ]
  },
  {
   "cell_type": "markdown",
   "metadata": {},
   "source": [
    "### 표준정규분포"
   ]
  },
  {
   "cell_type": "markdown",
   "metadata": {},
   "source": [
    "표준정규분포는 평균값이 0, 표준편차가 1인 정규분포다.\n",
    "아래 코드는 표준정규분포의 확률 밀도 함수만 따로 떼어 그래프로 나타낸다."
   ]
  },
  {
   "cell_type": "code",
   "execution_count": 13,
   "metadata": {
    "colab": {
     "base_uri": "https://localhost:8080/",
     "height": 332
    },
    "executionInfo": {
     "elapsed": 350,
     "status": "ok",
     "timestamp": 1677206853574,
     "user": {
      "displayName": "오리온",
      "userId": "03097998205438381973"
     },
     "user_tz": -540
    },
    "id": "RHFcTQRVXtSH",
    "outputId": "3676f095-c594-4835-c27f-ad4e9007bc9d"
   },
   "outputs": [
    {
     "data": {
      "image/png": "[encoded data removed]",
      "text/plain": [
       "<Figure size 640x480 with 1 Axes>"
      ]
     },
     "metadata": {},
     "output_type": "display_data"
    }
   ],
   "source": [
    "fig = plt.figure()\n",
    "ax = fig.add_subplot(1, 1, 1)\n",
    "\n",
    "x = np.arange(-4, 4, 0.01)\n",
    "\n",
    "ax.plot(x, f_gaussian(x, loc=0, scale=1.0), label=r'$\\mu = 0, \\sigma = 1.0$')\n",
    "\n",
    "ax.set_xlabel('x')\n",
    "\n",
    "ax.set_xlabel('x')\n",
    "ax.set_ylabel(r'Density')\n",
    "ax.legend()\n",
    "\n",
    "plt.show()"
   ]
  },
  {
   "cell_type": "markdown",
   "metadata": {
    "id": "n5ckAdaJY1O0"
   },
   "source": [
    "### 정규분포 확률"
   ]
  },
  {
   "cell_type": "markdown",
   "metadata": {
    "id": "n5ckAdaJY1O0"
   },
   "source": [
    "아래 그래프는 \n",
    "$X \\sim N(0, 1)$일 때, $X$가 $a$보다 같거나 작은 값을 취할 확률 $P(X \\leq a)$를\n",
    "영역으로 보여준다.\n",
    "즉, $a$ 보다 같거나 작은 구간에서 확률 밀도 함수 곡선과 $x$-축 사이의 면적이다."
   ]
  },
  {
   "cell_type": "code",
   "execution_count": 14,
   "metadata": {
    "colab": {
     "base_uri": "https://localhost:8080/",
     "height": 332
    },
    "executionInfo": {
     "elapsed": 583,
     "status": "ok",
     "timestamp": 1677209124314,
     "user": {
      "displayName": "오리온",
      "userId": "03097998205438381973"
     },
     "user_tz": -540
    },
    "id": "qaTbtYNiaJ60",
    "outputId": "8d316f9f-e335-4958-8a80-49fe7b490056"
   },
   "outputs": [
    {
     "data": {
      "image/png": "[encoded data removed]",
      "text/plain": [
       "<Figure size 640x480 with 1 Axes>"
      ]
     },
     "metadata": {},
     "output_type": "display_data"
    }
   ],
   "source": [
    "x = np.arange(-4, 4, 0.01)\n",
    "\n",
    "fig = plt.figure()\n",
    "ax = fig.add_subplot(1, 1, 1)\n",
    "\n",
    "# norm.pdf()\n",
    "ax.plot(x, f_gaussian(x, 0, 1))\n",
    "\n",
    "# -2에서 1 사이의 면적 표시\n",
    "point_a = -0.5\n",
    "ax.fill_between(x, f_gaussian(x), where=(x <= point_a), alpha=0.4)\n",
    "\n",
    "# 함수명 주석 달기\n",
    "ax.annotate(r'f_gaussian', xy=(.807, f_gaussian(.8)), xytext=(2.3, 0.35),\n",
    "            arrowprops=dict(facecolor='red', shrink=0.01, width=3, headwidth=8))\n",
    "\n",
    "ax.annotate(r'$P(X \\leq a)$', xy=(-1.1 ,0.15), xytext=(-3.8, 0.2),\n",
    "            arrowprops=dict(facecolor='red', shrink=0.05, width=3, headwidth=8))\n",
    "\n",
    "# point_a를 눈금으로 추가 표시\n",
    "x_ticks = np.append(ax.get_xticks(), point_a)\n",
    "x_ticks_ = np.append(ax.get_xticks(), 'a') # 실제로 보이는 눈금 기호\n",
    "ax.set_xticks(x_ticks, x_ticks_)\n",
    "ax.get_xticklabels()[-1].set_color(\"red\") # a 눈금 색 지정\n",
    "\n",
    "ax.set_xlabel('x')\n",
    "ax.set_ylim(0, 0.42)\n",
    "\n",
    "plt.show()"
   ]
  },
  {
   "cell_type": "markdown",
   "metadata": {},
   "source": [
    "위 그래프는 `a=-0.5`일 때의 $P(X \\leq a)$를 보여주며 실제 계산은 `F_gaussian()` 함수를 \n",
    "이용하면 된다."
   ]
  },
  {
   "cell_type": "code",
   "execution_count": 15,
   "metadata": {},
   "outputs": [
    {
     "data": {
      "text/plain": [
       "0.308538"
      ]
     },
     "execution_count": 15,
     "metadata": {},
     "output_type": "execute_result"
    }
   ],
   "source": [
    "F_gaussian(-0.5)"
   ]
  },
  {
   "cell_type": "markdown",
   "metadata": {
    "id": "n5ckAdaJY1O0"
   },
   "source": [
    "반면에 아래 그래프는 \n",
    "$X \\sim N(0, 1)$일 때, $X$가 $a$와 $b$ 사이의 값을 취할 확률 $P(a \\le X \\le b)$를\n",
    "구간 $a$와 $b$ 사이에서 확률 밀도 함수 곡선과 $x$-축 사이의 면적으로 보여준다."
   ]
  },
  {
   "cell_type": "code",
   "execution_count": 16,
   "metadata": {
    "colab": {
     "base_uri": "https://localhost:8080/",
     "height": 332
    },
    "executionInfo": {
     "elapsed": 583,
     "status": "ok",
     "timestamp": 1677209124314,
     "user": {
      "displayName": "오리온",
      "userId": "03097998205438381973"
     },
     "user_tz": -540
    },
    "id": "qaTbtYNiaJ60",
    "outputId": "8d316f9f-e335-4958-8a80-49fe7b490056",
    "scrolled": false
   },
   "outputs": [
    {
     "data": {
      "image/png": "[encoded data removed]",
      "text/plain": [
       "<Figure size 640x480 with 1 Axes>"
      ]
     },
     "metadata": {},
     "output_type": "display_data"
    }
   ],
   "source": [
    "x = np.arange(-4, 4, 0.01)\n",
    "\n",
    "fig = plt.figure()\n",
    "ax = fig.add_subplot(1, 1, 1)\n",
    "\n",
    "# norm.pdf()\n",
    "ax.plot(x, f_gaussian(x, 0, 1))\n",
    "\n",
    "# -2에서 1 사이의 면적 표시\n",
    "point_a = -1.5\n",
    "point_b = 0.5\n",
    "ax.fill_between(x, f_gaussian(x), where=(point_a <= x) & (x <= point_b), alpha=0.4)\n",
    "\n",
    "# 함수명 주석 달기\n",
    "ax.annotate(r'f_gaussian', xy=(0.5, f_gaussian(0.5)), xytext=(2, 0.39),\n",
    "            arrowprops=dict(facecolor='red', shrink=0.01, width=3, headwidth=8))\n",
    "\n",
    "ax.annotate(r'$P(a \\leq X \\leq b)$', xy=(-.8 ,0.15), xytext=(-3.8, 0.2),\n",
    "            arrowprops=dict(facecolor='red', shrink=0.05, width=3, headwidth=8))\n",
    "\n",
    "# point_a와 point_b를 눈금으로 추가 표시\n",
    "x_ticks = np.append(ax.get_xticks(), [point_a, point_b])\n",
    "x_ticks_ = np.append(ax.get_xticks(), ['a', 'b']) # 실제로 보이는 눈금 기호\n",
    "ax.set_xticks(x_ticks, x_ticks_)\n",
    "ax.get_xticklabels()[-2].set_color(\"red\") # a 눈금 색 지정\n",
    "ax.get_xticklabels()[-1].set_color(\"red\") # b 눈금 색 지정\n",
    "\n",
    "ax.set_xlabel('x')\n",
    "ax.set_ylim(0, 0.42)\n",
    "\n",
    "plt.show()"
   ]
  },
  {
   "cell_type": "markdown",
   "metadata": {},
   "source": [
    "위 그래프는 `a=-1.5`이고 `b=0.5`일 때의 $P(a \\leq X \\leq b)$를 보여주며 실제 계산은 `F_gaussian()` 함수를 \n",
    "이용한다."
   ]
  },
  {
   "cell_type": "code",
   "execution_count": 17,
   "metadata": {},
   "outputs": [
    {
     "data": {
      "text/plain": [
       "0.624655"
      ]
     },
     "execution_count": 17,
     "metadata": {},
     "output_type": "execute_result"
    }
   ],
   "source": [
    "F_gaussian(0.5) - F_gaussian(-1.5)"
   ]
  },
  {
   "cell_type": "markdown",
   "metadata": {},
   "source": [
    "### 예제: 피어슨  데이터셋"
   ]
  },
  {
   "cell_type": "markdown",
   "metadata": {},
   "source": [
    "아래 코드는 피어슨<font size='2'>Pearson</font>이 1903년에 실험을 위해 수집한\n",
    "아버지와 아들의 키로 구성된 데이터셋을 불러온다.\n",
    "원래 인치 단위를 사용하지만 편의를 위해 센티미터 단위로 변환되었다."
   ]
  },
  {
   "cell_type": "code",
   "execution_count": 18,
   "metadata": {},
   "outputs": [],
   "source": [
    "pearson = pd.read_csv(data_url+\"pearson_dataset.csv\", header=0)"
   ]
  },
  {
   "cell_type": "markdown",
   "metadata": {},
   "source": [
    "처음 다섯 가족의 아버지 키와 아들 키 데이터는 다음과 같다."
   ]
  },
  {
   "cell_type": "code",
   "execution_count": 19,
   "metadata": {},
   "outputs": [
    {
     "data": {
      "text/html": [
       "<div>\n",
       "<style scoped>\n",
       "    .dataframe tbody tr th:only-of-type {\n",
       "        vertical-align: middle;\n",
       "    }\n",
       "\n",
       "    .dataframe tbody tr th {\n",
       "        vertical-align: top;\n",
       "    }\n",
       "\n",
       "    .dataframe thead th {\n",
       "        text-align: right;\n",
       "    }\n",
       "</style>\n",
       "<table border=\"1\" class=\"dataframe\">\n",
       "  <thead>\n",
       "    <tr style=\"text-align: right;\">\n",
       "      <th></th>\n",
       "      <th>Father</th>\n",
       "      <th>Son</th>\n",
       "    </tr>\n",
       "  </thead>\n",
       "  <tbody>\n",
       "    <tr>\n",
       "      <th>0</th>\n",
       "      <td>165.1</td>\n",
       "      <td>151.9</td>\n",
       "    </tr>\n",
       "    <tr>\n",
       "      <th>1</th>\n",
       "      <td>160.8</td>\n",
       "      <td>160.5</td>\n",
       "    </tr>\n",
       "    <tr>\n",
       "      <th>2</th>\n",
       "      <td>165.1</td>\n",
       "      <td>160.8</td>\n",
       "    </tr>\n",
       "    <tr>\n",
       "      <th>3</th>\n",
       "      <td>167.1</td>\n",
       "      <td>159.5</td>\n",
       "    </tr>\n",
       "    <tr>\n",
       "      <th>4</th>\n",
       "      <td>155.2</td>\n",
       "      <td>163.3</td>\n",
       "    </tr>\n",
       "  </tbody>\n",
       "</table>\n",
       "</div>"
      ],
      "text/plain": [
       "   Father    Son\n",
       "0   165.1  151.9\n",
       "1   160.8  160.5\n",
       "2   165.1  160.8\n",
       "3   167.1  159.5\n",
       "4   155.2  163.3"
      ]
     },
     "execution_count": 19,
     "metadata": {},
     "output_type": "execute_result"
    }
   ],
   "source": [
    "pearson.head()"
   ]
  },
  {
   "cell_type": "markdown",
   "metadata": {},
   "source": [
    "아버지 키와 아들 키 각각 총 1,078개의 부동소수점 값이 포함되었다."
   ]
  },
  {
   "cell_type": "code",
   "execution_count": 20,
   "metadata": {},
   "outputs": [
    {
     "name": "stdout",
     "output_type": "stream",
     "text": [
      "<class 'pandas.core.frame.DataFrame'>\n",
      "RangeIndex: 1078 entries, 0 to 1077\n",
      "Data columns (total 2 columns):\n",
      " #   Column  Non-Null Count  Dtype  \n",
      "---  ------  --------------  -----  \n",
      " 0   Father  1078 non-null   float64\n",
      " 1   Son     1078 non-null   float64\n",
      "dtypes: float64(2)\n",
      "memory usage: 17.0 KB\n"
     ]
    }
   ],
   "source": [
    "pearson.info()"
   ]
  },
  {
   "cell_type": "markdown",
   "metadata": {},
   "source": [
    "**밀도 히스토그램 확인**"
   ]
  },
  {
   "cell_type": "markdown",
   "metadata": {},
   "source": [
    "먼저 아들 키의 분포를 확인하기 위해 밀도 히스토그램과 \n",
    "커널 밀도 추정(KDE) 기법으로 찾아진 확률 밀도 함수의 그래프를 함께 그린다."
   ]
  },
  {
   "cell_type": "code",
   "execution_count": 21,
   "metadata": {},
   "outputs": [
    {
     "data": {
      "image/png": "[encoded data removed]",
      "text/plain": [
       "<Figure size 640x480 with 1 Axes>"
      ]
     },
     "metadata": {},
     "output_type": "display_data"
    }
   ],
   "source": [
    "fig, ax = plt.subplots()\n",
    "\n",
    "# 아들 키 밀도 히스토그램\n",
    "pearson['Son'].plot.hist(ax=ax, bins=30, density=True, legend=False)\n",
    "\n",
    "# KDE 기법으로 계산된 확률 밀도 함수 그래프\n",
    "kde = sns.kdeplot(ax=ax, data=pearson['Son'])\n",
    "\n",
    "ax.set_xlabel('Height')\n",
    "ax.set_ylabel('Density')\n",
    "\n",
    "plt.show()"
   ]
  },
  {
   "cell_type": "markdown",
   "metadata": {},
   "source": [
    "그래프를 보면 평균값을 중심으로 거의 좌우 대칭을 이루는 분포를 따른다.\n",
    "즉, 아들 키가 정규분포를 따르는 것처럼 보인다.\n",
    "이를 확인하기 위해 먼저 평균값과 분산을 계산한다."
   ]
  },
  {
   "cell_type": "code",
   "execution_count": 22,
   "metadata": {},
   "outputs": [
    {
     "data": {
      "text/plain": [
       "count    1078.000000\n",
       "mean      174.457978\n",
       "std         7.153552\n",
       "min       148.600000\n",
       "25%       169.900000\n",
       "50%       174.200000\n",
       "75%       179.100000\n",
       "max       199.100000\n",
       "Name: Son, dtype: float64"
      ]
     },
     "execution_count": 22,
     "metadata": {},
     "output_type": "execute_result"
    }
   ],
   "source": [
    "desc_son = pearson['Son'].describe()\n",
    "desc_son"
   ]
  },
  {
   "cell_type": "markdown",
   "metadata": {},
   "source": [
    "- 아들 키 평균값"
   ]
  },
  {
   "cell_type": "code",
   "execution_count": 23,
   "metadata": {},
   "outputs": [
    {
     "data": {
      "text/plain": [
       "174.457978"
      ]
     },
     "execution_count": 23,
     "metadata": {},
     "output_type": "execute_result"
    }
   ],
   "source": [
    "mu_son = desc_son.loc['mean']\n",
    "mu_son"
   ]
  },
  {
   "cell_type": "markdown",
   "metadata": {},
   "source": [
    "- 아들 키 표준편차"
   ]
  },
  {
   "cell_type": "code",
   "execution_count": 24,
   "metadata": {},
   "outputs": [
    {
     "data": {
      "text/plain": [
       "7.153552"
      ]
     },
     "execution_count": 24,
     "metadata": {},
     "output_type": "execute_result"
    }
   ],
   "source": [
    "sigma_son = desc_son.loc['std']\n",
    "sigma_son"
   ]
  },
  {
   "cell_type": "markdown",
   "metadata": {},
   "source": [
    "**정규분포 확인**"
   ]
  },
  {
   "cell_type": "markdown",
   "metadata": {},
   "source": [
    "아래 코드는 `mu_son`과 `sigma_son`을 각각 평균값과 표준편차로 갖는 정규분포의 확률 밀도 함수 그래프와\n",
    "앞서 KDE 기법으로 계산된 확률 밀도 함수 그래프가 거의 동일하게 그려짐을 확인해준다."
   ]
  },
  {
   "cell_type": "code",
   "execution_count": 25,
   "metadata": {},
   "outputs": [
    {
     "data": {
      "image/png": "[encoded data removed]",
      "text/plain": [
       "<Figure size 640x480 with 1 Axes>"
      ]
     },
     "metadata": {},
     "output_type": "display_data"
    }
   ],
   "source": [
    "fig, ax = plt.subplots()\n",
    "\n",
    "# 아들 키 데이터에 대해 KDE 기법으로 추정된 확률 밀도 함수 그래프\n",
    "kde = sns.kdeplot(ax=ax, data=pearson['Son'], label='KDE')\n",
    "\n",
    "# mu_son와 sigma_son를 이용한 정규분포의 확률 밀도 함수 그래프\n",
    "x = np.arange(143, 204, 0.01)\n",
    "f = lambda y: f_gaussian(y, mu_son, sigma_son)\n",
    "ax.plot(x, f(x), label=r'$N(\\mu_{son}, \\sigma_{son}^2)$')\n",
    "\n",
    "ax.set_xlabel('Height')\n",
    "ax.set_ylabel('Density')\n",
    "\n",
    "ax.legend()\n",
    "\n",
    "plt.show()"
   ]
  },
  {
   "cell_type": "markdown",
   "metadata": {},
   "source": [
    "표준편차가 7.15 정도로 1보다 많이 크기에 정규분포에 비해 보다 펑퍼짐한 봉우리로\n",
    "그려져야 하지만 표준정규분포에 가깝도록 보인다.\n",
    "하지만 이는 $y$-축이 0에서 0.4가 아닌 0에서 0.06 사이로 설정되었기에\n",
    "일종의 착시현상임에 주의한다."
   ]
  },
  {
   "cell_type": "markdown",
   "metadata": {},
   "source": [
    "**정규분포 활용**"
   ]
  },
  {
   "cell_type": "markdown",
   "metadata": {
    "id": "rpyRIADMd0m_"
   },
   "source": [
    "앞서 확인하였듯이 아들 키를 가리키는 확률변수 $X$는\n",
    "다음과 같이 앞서 계산된 평균값과 표준편차를 갖는 정규분포를 따른다고 간주해도 무방하다.\n",
    "\n",
    "$$\n",
    "X_{son} \\sim N(\\mu_{son}, \\sigma_{son}^2)\n",
    "$$\n",
    "\n",
    "따라서 다음과 같이 `norm` 객체를 이용하여 아들 키를 가리키는 확률변수를 선언한다.\n",
    "`norm` 객체를 활용할 때 함수처럼 평균값과 표준편차를 지정할 수 있음에 주의한다."
   ]
  },
  {
   "cell_type": "code",
   "execution_count": 26,
   "metadata": {},
   "outputs": [],
   "source": [
    "X_son = norm(loc=mu_son, scale=sigma_son)"
   ]
  },
  {
   "cell_type": "markdown",
   "metadata": {},
   "source": [
    "평균값과 표준편차가 이미 지정되었기에 확률 밀도 함수(pdf)와 누적 분포 함수(cdf) 등은 추가 인자 없이 바로 활용된다.\n",
    "예를 들어 아래 코드는 임의로 선택된 아들 키가 평균값 이하일 확률이 50%임을 확인해준다."
   ]
  },
  {
   "cell_type": "code",
   "execution_count": 27,
   "metadata": {},
   "outputs": [
    {
     "data": {
      "text/plain": [
       "0.500000"
      ]
     },
     "execution_count": 27,
     "metadata": {},
     "output_type": "execute_result"
    }
   ],
   "source": [
    "X_son.cdf(mu_son)"
   ]
  },
  {
   "cell_type": "markdown",
   "metadata": {
    "id": "rpyRIADMd0m_"
   },
   "source": [
    "아래 코드는 우연히 선택된 아들 키가 180 이상일 확률 $P(X \\geq 180)$를 \n",
    "정규분포의 확률 밀도 함수의 그래프와 $x$-축 사이의 특정 구간의 영역으로 보여준다."
   ]
  },
  {
   "cell_type": "code",
   "execution_count": 28,
   "metadata": {
    "colab": {
     "base_uri": "https://localhost:8080/",
     "height": 388
    },
    "executionInfo": {
     "elapsed": 1074,
     "status": "ok",
     "timestamp": 1677209793636,
     "user": {
      "displayName": "오리온",
      "userId": "03097998205438381973"
     },
     "user_tz": -540
    },
    "id": "V4yVYiuVaOoN",
    "outputId": "b65953a8-e17f-4e6b-e085-ef3dc9be8417",
    "scrolled": false
   },
   "outputs": [
    {
     "data": {
      "image/png": "[encoded data removed]",
      "text/plain": [
       "<Figure size 640x480 with 1 Axes>"
      ]
     },
     "metadata": {},
     "output_type": "display_data"
    }
   ],
   "source": [
    "fig = plt.figure()\n",
    "ax = fig.add_subplot(1, 1, 1)\n",
    "\n",
    "x = np.arange(143, 204, 0.01)\n",
    "f = X_son.pdf\n",
    "ax.plot(x, f(x))\n",
    "ax.fill_between(x, f(x), where=(x >= 180), alpha=0.4)\n",
    "\n",
    "ax.annotate(r'$P(X_{son} \\geq 180)$', xy=(184 ,0.01), xytext=(190, 0.025),\n",
    "            arrowprops=dict(facecolor='red', shrink=0.04, width=3, headwidth=8))\n",
    "\n",
    "ax.set_ylim(0, 0.062)\n",
    "\n",
    "plt.show()"
   ]
  },
  {
   "cell_type": "markdown",
   "metadata": {
    "id": "rpyRIADMd0m_"
   },
   "source": [
    "우연히 선택된 아들 키가 180 이상일 확률 $P(X_{son} \\geq 180)$의 계산은 `X_xon.cdf()` 함수를 이용한다."
   ]
  },
  {
   "cell_type": "code",
   "execution_count": 29,
   "metadata": {},
   "outputs": [
    {
     "data": {
      "text/plain": [
       "0.219252"
      ]
     },
     "execution_count": 29,
     "metadata": {},
     "output_type": "execute_result"
    }
   ],
   "source": [
    "1 - X_son.cdf(180)"
   ]
  },
  {
   "cell_type": "markdown",
   "metadata": {},
   "source": [
    "**실제 확률 비교**"
   ]
  },
  {
   "cell_type": "markdown",
   "metadata": {},
   "source": [
    "아래 코드는 데이터셋에서 아들 키가 180 이상인 샘플의 비율을 이용하여\n",
    "아들 키가 180 이상일 확률을 직접 계산한다."
   ]
  },
  {
   "cell_type": "code",
   "execution_count": 30,
   "metadata": {},
   "outputs": [
    {
     "data": {
      "text/plain": [
       "0.221707"
      ]
     },
     "execution_count": 30,
     "metadata": {},
     "output_type": "execute_result"
    }
   ],
   "source": [
    "# 180 이상인 경우만 True\n",
    "mask_180 = pearson['Son'] >= 180\n",
    "\n",
    "# 전체 데이터셋에서 True인 샘플의 비율\n",
    "mask_180.sum()/len(pearson)"
   ]
  },
  {
   "cell_type": "markdown",
   "metadata": {},
   "source": [
    "실제 값과 정규분포의 누적 분포 함수를 이용하여 계산된 값이 매우 유사하다.\n",
    "따라서 앞으로는 실제 값을 구하는 대신 정규분포의 성질과 기능만을 활용하여\n",
    "확률을 계산한다."
   ]
  },
  {
   "cell_type": "markdown",
   "metadata": {
    "id": "rpyRIADMd0m_"
   },
   "source": [
    "**$P(180 \\leq X_{son} \\leq 185)$ 계산**"
   ]
  },
  {
   "cell_type": "markdown",
   "metadata": {
    "id": "U8rNqjg8for-"
   },
   "source": [
    "아래 코드는 우연히 선택된 아들 키가 180 이상, 185 이하일 확률 $P(180 \\leq X_{son} \\leq 185)$를 그래프로 보여준다."
   ]
  },
  {
   "cell_type": "code",
   "execution_count": 31,
   "metadata": {
    "colab": {
     "base_uri": "https://localhost:8080/",
     "height": 388
    },
    "executionInfo": {
     "elapsed": 1074,
     "status": "ok",
     "timestamp": 1677209793636,
     "user": {
      "displayName": "오리온",
      "userId": "03097998205438381973"
     },
     "user_tz": -540
    },
    "id": "V4yVYiuVaOoN",
    "outputId": "b65953a8-e17f-4e6b-e085-ef3dc9be8417"
   },
   "outputs": [
    {
     "data": {
      "image/png": "[encoded data removed]",
      "text/plain": [
       "<Figure size 640x480 with 1 Axes>"
      ]
     },
     "metadata": {},
     "output_type": "display_data"
    }
   ],
   "source": [
    "fig = plt.figure()\n",
    "ax = fig.add_subplot(1, 1, 1)\n",
    "\n",
    "x = np.arange(143, 204, 0.01)\n",
    "f = X_son.pdf\n",
    "\n",
    "ax.plot(x, f(x))\n",
    "ax.fill_between(x, f(x), where=(x >= 180) & (x <= 185), alpha=0.4)\n",
    "\n",
    "ax.annotate(r'$P(180 \\leq X_{son} \\leq 185)$', xy=(182.5 ,0.01), xytext=(188, 0.025),\n",
    "            arrowprops=dict(facecolor='red', shrink=0.04, width=3, headwidth=8))\n",
    "\n",
    "ax.set_ylim(0, 0.062)\n",
    "\n",
    "plt.show()"
   ]
  },
  {
   "cell_type": "markdown",
   "metadata": {
    "id": "rpyRIADMd0m_"
   },
   "source": [
    "아들 키를 가리키는 확률변수 $X_{son}$이 정규분포 $N(173.5, (5.17)^2)$ 을 따를 때\n",
    "키 180 이상, 185 이하의 값을 가리킬 확률 $P(180 \\leq X_{son} \\leq 185)$는 다음과 같이 계산된다."
   ]
  },
  {
   "cell_type": "code",
   "execution_count": 32,
   "metadata": {},
   "outputs": [
    {
     "data": {
      "text/plain": [
       "0.148967"
      ]
     },
     "execution_count": 32,
     "metadata": {},
     "output_type": "execute_result"
    }
   ],
   "source": [
    "X_son.cdf(185) - X_son.cdf(180)"
   ]
  },
  {
   "cell_type": "markdown",
   "metadata": {},
   "source": [
    "## 정규분포 표준화"
   ]
  },
  {
   "cell_type": "markdown",
   "metadata": {},
   "source": [
    "{numref}`%s절 <sec:scaling>`에서 소개한 표준화는 데이터의 분포를 평균값은 0, 표준편차는 1이 되도록 하며,\n",
    "이를 확률변수가 가리킬 수 있는 값들에 대해 적용해도 동일하다."
   ]
  },
  {
   "cell_type": "markdown",
   "metadata": {
    "id": "VKko6LPegdA2"
   },
   "source": [
    "임의의 확률변수 $X$에 대해 $X$가 가리키는 값의 표준 점수를 가리키는 확률변수 $Z$를 다음과 같이 정의한다.\n",
    "그러면 확률변수 $Z$가 가리키는 값들의 평균값 $\\mu_Z$와 표준편차 $\\sigma_Z$는 각각 0과 1이 된다.\n",
    "단, $\\mu_X$와 $\\sigma_X$는 각각 $X$가 가리키는 값의 평균값과 표준편차다."
   ]
  },
  {
   "cell_type": "markdown",
   "metadata": {
    "id": "VKko6LPegdA2"
   },
   "source": [
    "$$\n",
    "Z = \\frac{X-\\mu_X}{\\sigma_X}\n",
    "$$"
   ]
  },
  {
   "cell_type": "markdown",
   "metadata": {
    "id": "VKko6LPegdA2"
   },
   "source": [
    "확률변수 $X$가 만약 정규분포를 따른다면,\n",
    "즉 만약 $X \\sim N(\\mu, \\sigma^2)$이 성립하면\n",
    "확률변수 $Z$는 표준정규분포를 따른다.\n",
    "\n",
    "$$\n",
    "Z \\sim N(0,1)\n",
    "$$"
   ]
  },
  {
   "cell_type": "markdown",
   "metadata": {
    "id": "VKko6LPegdA2"
   },
   "source": [
    "예를 들어 아들 키 180과 185의 표준 점수는 다음과 같다."
   ]
  },
  {
   "cell_type": "markdown",
   "metadata": {
    "id": "VKko6LPegdA2"
   },
   "source": [
    "- 180의 표준점수: "
   ]
  },
  {
   "cell_type": "code",
   "execution_count": 33,
   "metadata": {},
   "outputs": [
    {
     "data": {
      "text/plain": [
       "0.774723"
      ]
     },
     "execution_count": 33,
     "metadata": {},
     "output_type": "execute_result"
    }
   ],
   "source": [
    "z_180 = (180 - mu_son)/sigma_son\n",
    "z_180"
   ]
  },
  {
   "cell_type": "markdown",
   "metadata": {
    "id": "VKko6LPegdA2"
   },
   "source": [
    "- 185의 표준점수"
   ]
  },
  {
   "cell_type": "code",
   "execution_count": 34,
   "metadata": {},
   "outputs": [
    {
     "data": {
      "text/plain": [
       "1.473677"
      ]
     },
     "execution_count": 34,
     "metadata": {},
     "output_type": "execute_result"
    }
   ],
   "source": [
    "z_185 = (185 - mu_son)/sigma_son\n",
    "z_185"
   ]
  },
  {
   "cell_type": "markdown",
   "metadata": {},
   "source": [
    "**표준화 이전과 이후의 확률**"
   ]
  },
  {
   "cell_type": "markdown",
   "metadata": {
    "id": "VKko6LPegdA2"
   },
   "source": [
    "정규분포를 따르는 확률변수를 표준화한 다음에는 평균값과 표준편차만 다를뿐\n",
    "표준화 이전과 이후의 확률값은 달라지지 않는다."
   ]
  },
  {
   "cell_type": "markdown",
   "metadata": {
    "id": "VKko6LPegdA2"
   },
   "source": [
    "- (키 180 이상일 확률) = (표준 점수가 0.774723 이상일 확률)"
   ]
  },
  {
   "cell_type": "code",
   "execution_count": 35,
   "metadata": {},
   "outputs": [
    {
     "data": {
      "text/plain": [
       "True"
      ]
     },
     "execution_count": 35,
     "metadata": {},
     "output_type": "execute_result"
    }
   ],
   "source": [
    "(1 - X_son.cdf(180)) == (1 - F_gaussian(z_180))"
   ]
  },
  {
   "cell_type": "markdown",
   "metadata": {
    "id": "VKko6LPegdA2"
   },
   "source": [
    "- 키 180 이상, 185 이하일 확률 = 표준 점수가  0.774723 이상, 1.473677 이하일 확률"
   ]
  },
  {
   "cell_type": "code",
   "execution_count": 36,
   "metadata": {},
   "outputs": [
    {
     "data": {
      "text/plain": [
       "True"
      ]
     },
     "execution_count": 36,
     "metadata": {},
     "output_type": "execute_result"
    }
   ],
   "source": [
    "(X_son.cdf(185) - X_son.cdf(180)) == (F_gaussian(z_185) - F_gaussian(z_180))"
   ]
  },
  {
   "cell_type": "markdown",
   "metadata": {
    "id": "wUMnPIRtJl8J"
   },
   "source": [
    "## 정규분포 특징"
   ]
  },
  {
   "cell_type": "markdown",
   "metadata": {
    "id": "EvfmZcN4WnQk"
   },
   "source": [
    "지금까지 살펴 보았듯이 \n",
    "정규분포를 따르는 데이터의 확률 밀도 함수 그래프는 종 모양의 봉우리 모양을 가지며\n",
    "아래 특성을 갖는다. \n",
    "\n",
    "- 그래프의 봉우리가 평균값 $\\mu$ 근처에서 가장 높고 데이터의 분포가 $\\mu$를 중심으로 좌우 대칭을 이룬다.\n",
    "- 곡선은 $x$-축과 절대로 만나지 않으면서 $\\mu$에서 멀어질 수록 점점 $x$-축에 가까워진다.  \n",
    "- $\\sigma$ 가 커지면 곡선은 넓고 평평해진다.  \n",
    "- 곡선과 $x$-축 사이의 면적은 항상 1이다."
   ]
  },
  {
   "cell_type": "markdown",
   "metadata": {},
   "source": [
    "그런데 확률 밀도 함수가 종 모양과 조금 다른 그래프를 그린다 하더라도 정규 분포로 인정받는 경우가 있다.\n",
    "반면에 데이터 분포가 완벽한 대칭을 이루는 종 모양을 갖더라도 정규 분포가 아닌 경우도 많다."
   ]
  },
  {
   "cell_type": "markdown",
   "metadata": {},
   "source": [
    "**정규 분포 예제: 아버지 키**"
   ]
  },
  {
   "cell_type": "markdown",
   "metadata": {},
   "source": [
    "피어슨 데이터셋에서 아버지 키의 분포를 확인해보자.\n",
    "아래 코드는 아버지 키 데이터의 밀도 히스토그램과\n",
    "KDE 기법으로 추정된 확률 밀도 함수(pdf0의 그래프를 그린다."
   ]
  },
  {
   "cell_type": "code",
   "execution_count": 37,
   "metadata": {},
   "outputs": [
    {
     "data": {
      "image/png": "[encoded data removed]",
      "text/plain": [
       "<Figure size 640x480 with 1 Axes>"
      ]
     },
     "metadata": {},
     "output_type": "display_data"
    }
   ],
   "source": [
    "fig, ax = plt.subplots()\n",
    "\n",
    "# 아들 키 밀도 히스토그램\n",
    "pearson['Father'].plot.hist(ax=ax, bins=30, density=True, legend=False)\n",
    "\n",
    "# KDE 기법으로 계산된 확률 밀도 함수 그래프\n",
    "kde = sns.kdeplot(ax=ax, data=pearson['Father'])\n",
    "\n",
    "ax.set_xlabel('Height')\n",
    "ax.set_ylabel('Density')\n",
    "\n",
    "plt.show()"
   ]
  },
  {
   "cell_type": "markdown",
   "metadata": {},
   "source": [
    "밀도 히스토그램과 확률 밀도 함수 모두 정규 분포와 거리가 있어 보인다.\n",
    "이번엔 아버지 키의 평균값과 표준편차를 갖는 정규분포의 확률 밀도 함수 그래프와\n",
    "KDE 기법으로 추정된 확률 밀도 함수의 그래프를 함께 그려보자."
   ]
  },
  {
   "cell_type": "code",
   "execution_count": 38,
   "metadata": {},
   "outputs": [
    {
     "data": {
      "image/png": "[encoded data removed]",
      "text/plain": [
       "<Figure size 640x480 with 1 Axes>"
      ]
     },
     "metadata": {},
     "output_type": "display_data"
    }
   ],
   "source": [
    "# 아버지 키의 평균값과 표준편차\n",
    "mu_father = pearson['Father'].mean()\n",
    "sigma_father = pearson['Father'].std()\n",
    "\n",
    "fig, ax = plt.subplots()\n",
    "\n",
    "# mu_father와 sigma_father를 이용한 정규분포의 확률 밀도 함수 그래프\n",
    "x = np.arange(143, 204, 0.01)\n",
    "f = lambda y: f_gaussian(y, mu_father, sigma_father)\n",
    "ax.plot(x, f(x), label=r'$N(\\mu_{father}, \\sigma_{father}^2)$')\n",
    "\n",
    "# 아버지 키 데이터에 대해 KDE 기법으로 추정된 확률 밀도 함수 그래프\n",
    "kde = sns.kdeplot(ax=ax, data=pearson['Father'], label='KDE')\n",
    "\n",
    "ax.set_xlabel('Height')\n",
    "ax.set_ylabel('Density')\n",
    "\n",
    "ax.legend()\n",
    "\n",
    "plt.show()"
   ]
  },
  {
   "cell_type": "markdown",
   "metadata": {},
   "source": [
    "두 함수의 그래프가 서로 조금 다르기는 하지만 평균값을 중심으로 좌우로 퍼져있는 정도와\n",
    "대칭성이 거의 일치한다. 따라서 아버지 키 데이터 또한 정규분포를 따른다고 말할 수 있다."
   ]
  },
  {
   "cell_type": "markdown",
   "metadata": {},
   "source": [
    "**정규분포가 아닌 예제: t-분포**"
   ]
  },
  {
   "cell_type": "markdown",
   "metadata": {},
   "source": [
    "t-분포는 정규분포를 따르는 모집단의 평균값이 위치하는 구간을 추정할 때 사용되는 분포이며,\n",
    "자유도에 따라 데이터 분포가 달라진다.\n",
    "t-분포에 대해서는 나중에 자세히 다룰 것이며 여기서는 정규분포와 유사하지만 \n",
    "정규분포는 아닌 하나의 예제로만 활용한다.\n",
    "\n",
    "먼저 자유도($\\nu$)가 3인 t-분포 $t_\\nu$를 가리키는 변수 `t_nu`를 선언한다."
   ]
  },
  {
   "cell_type": "code",
   "execution_count": 39,
   "metadata": {},
   "outputs": [],
   "source": [
    "from scipy.stats import t\n",
    "\n",
    "nu = 3\n",
    "t_nu = t(nu)"
   ]
  },
  {
   "cell_type": "markdown",
   "metadata": {},
   "source": [
    "아래 코드는 $t_\\nu$-분포의 확률 밀도 함수 그래프를 그린다."
   ]
  },
  {
   "cell_type": "code",
   "execution_count": 40,
   "metadata": {},
   "outputs": [
    {
     "data": {
      "image/png": "[encoded data removed]",
      "text/plain": [
       "<Figure size 640x480 with 1 Axes>"
      ]
     },
     "metadata": {},
     "output_type": "display_data"
    }
   ],
   "source": [
    "fig, ax = plt.subplots(1, 1)\n",
    "\n",
    "x = np.linspace(t_nu.ppf(0.01), t_nu.ppf(0.99), 100)\n",
    "ax.plot(x, t_nu.pdf(x), color='red', label=r'$t_\\nu$')\n",
    "\n",
    "ax.set_ylim(0, 0.39)\n",
    "ax.legend()\n",
    "\n",
    "plt.show()"
   ]
  },
  {
   "cell_type": "markdown",
   "metadata": {},
   "source": [
    ":::{admonition} 확률분포의 `ppf()` 메서드\n",
    ":class: note\n",
    "\n",
    "위 코드에 사용된 분포 객체의 `ppf()` 메서드는 \n",
    "백분위수 함수<font size='2'>percent point function</font>이며,\n",
    "누적 분포 함수(cdf)의 역함수에 해당한다.\n",
    "즉, 다음이 성립한다.\n",
    "\n",
    "```\n",
    "cdf(x) = p <=> ppf(p) = x\n",
    "```\n",
    "\n",
    "예를 들어 `x = t_nu.ppf(0.01)`는\n",
    "자유도가 3인 t-분포를 따르는 확률 변수 `t_nu`가 `x` 보다 작은 값을 가질 확률이 1%라는 의미다.\n",
    "따라서 `t_nu`의 확률 밀도 함수는 `x`에서 0에 매우 가까운 함숫값을 갖는다.\n",
    "동일한 방식으로 `t_nu.ppf(0.99)`가 가리키는 값이 평균값을 기준으로 `t_nu.ppf(0.01)`에\n",
    "대칭되는 값을 가리킴을 쉽게 이해할 수 있다.\n",
    "\n",
    "이런 두 함숫값의 성질을 이용하여 위 코드에서 두 값을 $x$-축의 범위로 지정하였다.\n",
    ":::"
   ]
  },
  {
   "cell_type": "markdown",
   "metadata": {},
   "source": [
    "$t_\\nu$-분포의 확률 밀도 함수 그래프만 보면 정규분포처럼 보인다.\n",
    "이를 확인하기 위해 위 그래프를 \n",
    "$t_\\nu$-분포와 동일한 평균값과 표준편차를 갖는 정규분포의 확률 밀도 함수 그래프와\n",
    "함께 그려보자."
   ]
  },
  {
   "cell_type": "markdown",
   "metadata": {},
   "source": [
    "다음 `X_normal` 변수는\n",
    "$t_\\nu$-분포와 동일한 평균값과 표준편차를 갖는 정규분포를 따르는 확률 변수를 가리킨다."
   ]
  },
  {
   "cell_type": "code",
   "execution_count": 41,
   "metadata": {},
   "outputs": [],
   "source": [
    "mu_nu = t_nu.mean()\n",
    "sigma_nu = t_nu.std()\n",
    "X_normal = norm(mu_nu, sigma_nu)"
   ]
  },
  {
   "cell_type": "markdown",
   "metadata": {},
   "source": [
    "아래 코드는 두 분포의 확률 밀도 함수 그래프가 매우 다르게 그려짐을 확인해준다."
   ]
  },
  {
   "cell_type": "code",
   "execution_count": 42,
   "metadata": {},
   "outputs": [
    {
     "data": {
      "image/png": "[encoded data removed]",
      "text/plain": [
       "<Figure size 640x480 with 1 Axes>"
      ]
     },
     "metadata": {},
     "output_type": "display_data"
    }
   ],
   "source": [
    "fig, ax = plt.subplots(1, 1)\n",
    "\n",
    "x = np.linspace(t_nu.ppf(0.01), t_nu.ppf(0.99), 100)\n",
    "ax.plot(x, t_nu.pdf(x), color='red', label=r'$t_\\nu$')\n",
    "ax.plot(x, X_normal.pdf(x), label=r'$N(\\mu_\\nu, \\sigma_\\nu)$')\n",
    "\n",
    "ax.set_ylim(0, 0.39)\n",
    "ax.legend()\n",
    "\n",
    "plt.show()"
   ]
  },
  {
   "cell_type": "markdown",
   "metadata": {},
   "source": [
    "**정규분포와 표준편차**"
   ]
  },
  {
   "cell_type": "markdown",
   "metadata": {},
   "source": [
    "정균분포를 특징짓는 성질이 하나 더 있으며 바로 표준편차와 관련된 확률값이다.\n",
    "임의의 정규분포 $X \\sim N(\\mu, \\sigma)$에 대해\n",
    "평균값을 기준으로 좌우 $\\sigma$, $2\\sigma$, $3\\sigma$와 관련된 확률값이 \n",
    "아래 그래프에 표시된 대로 계산된다."
   ]
  },
  {
   "cell_type": "markdown",
   "metadata": {},
   "source": [
    "<p><div align=\"center\"><img src=\"https://raw.githubusercontent.com/codingalzi/DataSci/master/jupyter-book/images/standard_deviation_diagram.png\" style=\"width:700px\"></div></p>"
   ]
  },
  {
   "cell_type": "markdown",
   "metadata": {},
   "source": [
    "표준정규분포를 대상으로 실제로 확률값을 계산해보자.\n",
    "여기서는 편의상 표준정규분포를 이용하지만 임의의 정규분포에 대해서 확률값은 동일하다."
   ]
  },
  {
   "cell_type": "code",
   "execution_count": 43,
   "metadata": {},
   "outputs": [],
   "source": [
    "mu = 0\n",
    "sigma = 1"
   ]
  },
  {
   "cell_type": "markdown",
   "metadata": {},
   "source": [
    "- 평균값 $\\mu$부터 $\\sigma$까지의 영역의 크기"
   ]
  },
  {
   "cell_type": "code",
   "execution_count": 44,
   "metadata": {},
   "outputs": [
    {
     "data": {
      "text/plain": [
       "0.341345"
      ]
     },
     "execution_count": 44,
     "metadata": {},
     "output_type": "execute_result"
    }
   ],
   "source": [
    "F_gaussian(sigma, mu, sigma) - F_gaussian(mu, mu, sigma)"
   ]
  },
  {
   "cell_type": "markdown",
   "metadata": {},
   "source": [
    "- 평균값 $\\mu$를 중심으로 좌우 $\\sigma$ 만틈 떨어진 영역의 크기"
   ]
  },
  {
   "cell_type": "code",
   "execution_count": 45,
   "metadata": {},
   "outputs": [
    {
     "data": {
      "text/plain": [
       "0.682689"
      ]
     },
     "execution_count": 45,
     "metadata": {},
     "output_type": "execute_result"
    }
   ],
   "source": [
    "F_gaussian(sigma, mu, sigma) - F_gaussian(-sigma, mu, sigma)"
   ]
  },
  {
   "cell_type": "markdown",
   "metadata": {},
   "source": [
    "- 평균값 $\\mu$부터 $2\\sigma$까지의 영역의 크기"
   ]
  },
  {
   "cell_type": "code",
   "execution_count": 46,
   "metadata": {},
   "outputs": [
    {
     "data": {
      "text/plain": [
       "0.477250"
      ]
     },
     "execution_count": 46,
     "metadata": {},
     "output_type": "execute_result"
    }
   ],
   "source": [
    "F_gaussian(2*sigma, mu, sigma) - F_gaussian(mu, mu, sigma)"
   ]
  },
  {
   "cell_type": "markdown",
   "metadata": {},
   "source": [
    "- 평균값 $\\mu$를 중심으로 좌우 $2\\sigma$ 만틈 떨어진 영역의 크기"
   ]
  },
  {
   "cell_type": "code",
   "execution_count": 47,
   "metadata": {},
   "outputs": [
    {
     "data": {
      "text/plain": [
       "0.954500"
      ]
     },
     "execution_count": 47,
     "metadata": {},
     "output_type": "execute_result"
    }
   ],
   "source": [
    "F_gaussian(2*sigma, mu, sigma) - F_gaussian(-2*sigma, mu, sigma)"
   ]
  },
  {
   "cell_type": "markdown",
   "metadata": {},
   "source": [
    "- 평균값 $\\mu$를 중심으로 좌우 $3\\sigma$ 만틈 떨어진 영역의 크기"
   ]
  },
  {
   "cell_type": "code",
   "execution_count": 48,
   "metadata": {},
   "outputs": [
    {
     "data": {
      "text/plain": [
       "0.997300"
      ]
     },
     "execution_count": 48,
     "metadata": {},
     "output_type": "execute_result"
    }
   ],
   "source": [
    "F_gaussian(3*sigma, mu, sigma) - F_gaussian(-3*sigma, mu, sigma)"
   ]
  },
  {
   "cell_type": "markdown",
   "metadata": {},
   "source": [
    "- 평균값 $\\mu$부터 $3\\sigma$까지의 영역의 크기"
   ]
  },
  {
   "cell_type": "code",
   "execution_count": 49,
   "metadata": {},
   "outputs": [
    {
     "data": {
      "text/plain": [
       "0.498650"
      ]
     },
     "execution_count": 49,
     "metadata": {},
     "output_type": "execute_result"
    }
   ],
   "source": [
    "F_gaussian(3*sigma, mu, sigma) - F_gaussian(mu, mu, sigma)"
   ]
  },
  {
   "cell_type": "markdown",
   "metadata": {},
   "source": [
    "- 평균값 $\\mu$를 중심으로 좌우 $3\\sigma$ 만틈 떨어진 영역의 크기"
   ]
  },
  {
   "cell_type": "code",
   "execution_count": 50,
   "metadata": {},
   "outputs": [
    {
     "data": {
      "text/plain": [
       "0.997300"
      ]
     },
     "execution_count": 50,
     "metadata": {},
     "output_type": "execute_result"
    }
   ],
   "source": [
    "F_gaussian(3*sigma, mu, sigma) - F_gaussian(-3*sigma, mu, sigma)"
   ]
  },
  {
   "cell_type": "markdown",
   "metadata": {},
   "source": [
    "- 평균값 $\\mu$를 중심으로 좌우 $3\\sigma$ 만틈 떨어진 영역의 크기"
   ]
  },
  {
   "cell_type": "code",
   "execution_count": 51,
   "metadata": {},
   "outputs": [
    {
     "data": {
      "text/plain": [
       "0.997300"
      ]
     },
     "execution_count": 51,
     "metadata": {},
     "output_type": "execute_result"
    }
   ],
   "source": [
    "F_gaussian(3*sigma, mu, sigma) - F_gaussian(-3*sigma, mu, sigma)"
   ]
  },
  {
   "cell_type": "markdown",
   "metadata": {
    "id": "wUMnPIRtJl8J"
   },
   "source": [
    "## 정규분포 활용"
   ]
  },
  {
   "cell_type": "markdown",
   "metadata": {
    "id": "wUMnPIRtJl8J"
   },
   "source": [
    "### 이항 분포 확률 계산"
   ]
  },
  {
   "cell_type": "markdown",
   "metadata": {},
   "source": [
    "동일한 시도를 $n$번 반복할 때, 매 시도에서 $p$의 확률로 발생하는 사건이 발생하는 빈도를 가리키는 확률변수가\n",
    "따르는 분포를 **이항분포**라 한다.\n",
    "단, 각각의 시도는 상호 독립적이어야 한다.\n",
    "\n",
    "이항분포를 따르는 확률변수 $X$를 다음과 같이 표기한다.\n",
    "\n",
    "$$\n",
    "X ∼ B(n,p)\n",
    "$$"
   ]
  },
  {
   "cell_type": "markdown",
   "metadata": {},
   "source": [
    "확률변수가 위 이항분포를 따를 때 해당 사건이 $k$번 발생할 확률은 다음과 같이 계산된다.\n",
    "\n",
    "$$\n",
    "P(X = k) = \\binom{n}{k}\\, p^k\\, (1-p)^{n-k}\n",
    "$$\n",
    "\n",
    "위 식에서 $\\binom{n}{k}$는 서로 다른 $n$개 중에서 $k$개를 선택하는 경우의 수를 가리킨다.\n",
    "\n",
    "$$\n",
    "\\binom n k = \\frac{n!}{k!\\, (n-k)!}\n",
    "$$"
   ]
  },
  {
   "cell_type": "markdown",
   "metadata": {
    "id": "ptZe05S3i6Bq"
   },
   "source": [
    "**예제: 5지선다 40문제를 임의로 찍어서 30 문제 이상 맞힐 확률**"
   ]
  },
  {
   "cell_type": "markdown",
   "metadata": {
    "id": "ptZe05S3i6Bq"
   },
   "source": [
    "5지선다 문제 하나를 임의로 답을 찍어 맞힐 확률은 1/5, 즉 0.2다.\n",
    "40문제 각각에 대해 임의로 답을 찍는 행위는 서로 독립적이기에\n",
    "40문제 중에서 맞히는 답의 수는 다음 이항분포를 따른다.\n",
    "\n",
    "$$\n",
    "X_{bin} \\sim B\\left (40, 0.2\\right )\n",
    "$$\n",
    "\n",
    "따라서 40문제 중 15문제 이상 맞힐 확률은 아래와 같이 계산된다.\n",
    "\n",
    "$$\n",
    "\\sum_{k=15}^{40} \\binom{40}{k}\\,\\left (\\frac{1}{5}\\right )^{k}\\,\\left (\\frac{4}{5}\\right )^{40-k} =\n",
    "\\binom{40}{15}\\,\\left (\\frac{1}{5}\\right )^{15}\\,\\left (\\frac{4}{5}\\right )^{25}\n",
    "+ \\cdots\n",
    "+ \\binom{40}{40}\\,\\left (\\frac{1}{5}\\right )^{40}\\,\\left (\\frac{4}{5}\\right )^{0}\n",
    "$$"
   ]
  },
  {
   "cell_type": "markdown",
   "metadata": {
    "id": "ptZe05S3i6Bq"
   },
   "source": [
    "그런데 위 계산은 너무 수고스럽거나, 너무 오래 걸리거나, 경우에 따라 계산이 불가능하다.\n",
    "이유는 $n!$ 등의 계산이 $n$이 조금만 커져도 너무 오래 걸리거나 심지어 웬만한 PC로도\n",
    "불가능해지기 때문이다.\n",
    "\n",
    "이런 경우 정규분포를 활용할 수 있다.\n",
    "단, 다음 조건이 성립해야 한다. \n",
    "\n",
    "$$\n",
    "X_{bin} \\sim B(n, p), \\quad n p>5, \\quad n (1-p)>5\n",
    "$$\n",
    "\n",
    "그러면 확률변수 $X_{bin}$는 평균값은 $n p$, 분산은 $n p (1-p)$인 정규분포를 따른다고 간주해도 된다.\n",
    "즉 다음이 성립한다.\n",
    "\n",
    "$$\n",
    "X_{bin} \\sim N(n p, n p (1-p))\n",
    "$$"
   ]
  },
  {
   "cell_type": "markdown",
   "metadata": {},
   "source": [
    "그리고 \n",
    "$40 \\cdot 0.2 = 8$, $40 \\cdot 0.8 = 32$ 이기에 확률변수 $X$가 $N(8, 6.4)$의 정규분포를 따른다고 말할 수 있다.\n",
    "아래 코드의 `X_contiuous` 변수가 위 정규분포를 따르는 연속 확률변수 $X_{bin}$를 가리킨다."
   ]
  },
  {
   "cell_type": "code",
   "execution_count": 52,
   "metadata": {},
   "outputs": [],
   "source": [
    "X_continuous = norm(8, np.sqrt(6.4))"
   ]
  },
  {
   "cell_type": "markdown",
   "metadata": {},
   "source": [
    "이제 40문제중 15문제 이상을 맞힐 확률 $P(X_{bin} \\geq 15)$은 다음과 같이 쉽게 계산된다."
   ]
  },
  {
   "cell_type": "code",
   "execution_count": 53,
   "metadata": {},
   "outputs": [
    {
     "data": {
      "text/plain": [
       "0.002829"
      ]
     },
     "execution_count": 53,
     "metadata": {},
     "output_type": "execute_result"
    }
   ],
   "source": [
    "1 - X_continuous.cdf(15)"
   ]
  },
  {
   "cell_type": "markdown",
   "metadata": {},
   "source": [
    "반면에 7 문제 이하로 맞힐 확률은 다음과 같다."
   ]
  },
  {
   "cell_type": "code",
   "execution_count": 54,
   "metadata": {},
   "outputs": [
    {
     "data": {
      "text/plain": [
       "0.346316"
      ]
     },
     "execution_count": 54,
     "metadata": {},
     "output_type": "execute_result"
    }
   ],
   "source": [
    "X_continuous.cdf(7)"
   ]
  },
  {
   "cell_type": "markdown",
   "metadata": {},
   "source": [
    "그런데 위 결과들이 정확하지 않다.\n",
    "실제로 이항분포의 누적 분포 함수를 이용하여 계산하면 많이 다른 확률값이 계산된다.\n",
    "이를 위해 `scipy.stats` 모듈의 `binom` 객체를 활용한다.\n",
    "아래 코드의 `X_discrete` 변수가 5지선다 40문제를 임의로 찍었을 때 맞히는 문제의 개수를 가리키는 확률변수를 선언한다."
   ]
  },
  {
   "cell_type": "code",
   "execution_count": 55,
   "metadata": {},
   "outputs": [],
   "source": [
    "from scipy.stats import binom\n",
    "\n",
    "n = 40\n",
    "p = 0.2\n",
    "\n",
    "X_discrete = binom(n, p)"
   ]
  },
  {
   "cell_type": "markdown",
   "metadata": {},
   "source": [
    "이산일 때의 $P(X_{bin} \\geq 15)$는 다음과 같다."
   ]
  },
  {
   "cell_type": "code",
   "execution_count": 56,
   "metadata": {},
   "outputs": [
    {
     "data": {
      "text/plain": [
       "0.007916"
      ]
     },
     "execution_count": 56,
     "metadata": {},
     "output_type": "execute_result"
    }
   ],
   "source": [
    "1 - X_discrete.cdf(14)"
   ]
  },
  {
   "cell_type": "markdown",
   "metadata": {},
   "source": [
    "반면에 이산일 때의 $P(X_{bin} \\leq 7)$는 다음과 같다."
   ]
  },
  {
   "cell_type": "code",
   "execution_count": 57,
   "metadata": {},
   "outputs": [
    {
     "data": {
      "text/plain": [
       "0.437146"
      ]
     },
     "execution_count": 57,
     "metadata": {},
     "output_type": "execute_result"
    }
   ],
   "source": [
    "X_discrete.cdf(7)"
   ]
  },
  {
   "cell_type": "markdown",
   "metadata": {},
   "source": [
    "이렇게 오차가 크게 발생하는 이유는 이산 확률변수를 연속 확률변수로 간주할 때 항상 발생하며\n",
    "이런 오차를 보정해야만 보다 정확한 확률값을 계산할 수 있다.\n",
    "이산에서 연속으로 변환할 때 발생하는 오차를 보정하는 기법을\n",
    "연속성 보정이라 한다.\n",
    "이어서 보다 단순한 이항분포를 이용하여 자세히 설명한다."
   ]
  },
  {
   "cell_type": "markdown",
   "metadata": {},
   "source": [
    "### 연속성 보정"
   ]
  },
  {
   "cell_type": "markdown",
   "metadata": {
    "id": "jWj1XTwt1vbU"
   },
   "source": [
    "이항분포를 정규분포로 대체하여 확률을 계산할 때 주의할 점이 하나 있다.\n",
    "설명을 위해 정상적인 동전을 반복해서 12번 던졌을 때 앞면이 5번 이하로 나올 확률을 계산해보자.\n",
    "\n",
    "정상적인 동전을 던졌을 때 앞면이 나올 확률은 0.5이며, \n",
    "동전을 던질 때마다의 결과는 이전 결과와 아무 상관이 없다.\n",
    "즉, 12번의 동전던지기가 상호 독립적이며, 따라서 \n",
    "동전을 12번 던져서 앞면이 나오는 횟수를 가리키는 확률변수 $X$는 다음 이항분포를 따른다.\n",
    "\n",
    "$$\n",
    "X \\sim B(12, 0.5)\n",
    "$$"
   ]
  },
  {
   "cell_type": "code",
   "execution_count": 58,
   "metadata": {},
   "outputs": [],
   "source": [
    "from scipy.stats import binom\n",
    "\n",
    "n = 12\n",
    "p = 0.5\n",
    "\n",
    "X_12 = binom(n, p)"
   ]
  },
  {
   "cell_type": "markdown",
   "metadata": {},
   "source": [
    "**예제: 정상적인 동전을 12번 던져서 앞면이 5번 이하 나올 확률**"
   ]
  },
  {
   "cell_type": "markdown",
   "metadata": {},
   "source": [
    "$X \\sim B(12, 0.5)$가 성립하기에 $P(X \\leq 5)$는 다음과 같이 계산된다."
   ]
  },
  {
   "cell_type": "code",
   "execution_count": 59,
   "metadata": {},
   "outputs": [
    {
     "data": {
      "text/plain": [
       "0.387207"
      ]
     },
     "execution_count": 59,
     "metadata": {},
     "output_type": "execute_result"
    }
   ],
   "source": [
    "P_less5 = X_12.cdf(5)\n",
    "P_less5"
   ]
  },
  {
   "cell_type": "markdown",
   "metadata": {
    "id": "jWj1XTwt1vbU"
   },
   "source": [
    "반면에, $12 \\cdot 0.5 = 6 > 5$가 성립하여, $P(X \\le 5)$를 계산하기 위해\n",
    "$X \\sim N(6,3)$을 활용할 수 있다.\n",
    "그런데 정규분포를 이용한 계산이 기대와는 다른 결과를 보여준다."
   ]
  },
  {
   "cell_type": "code",
   "execution_count": 60,
   "metadata": {},
   "outputs": [
    {
     "data": {
      "text/plain": [
       "0.281851"
      ]
     },
     "execution_count": 60,
     "metadata": {},
     "output_type": "execute_result"
    }
   ],
   "source": [
    "F_gaussian(5, 6, np.sqrt(3))"
   ]
  },
  {
   "cell_type": "markdown",
   "metadata": {
    "id": "jWj1XTwt1vbU"
   },
   "source": [
    "앞서 정규분포를 사용하여 이항분포의 확률을 계산해도 된다고 하였는데,\n",
    "전혀 비슷하지 않은 결과가 나왔다.\n",
    "원인을 찾기 위해 먼저 막대그래프를 이용한다.\n",
    "\n",
    "이산 확률변수로서의 $X$가 $X \\sim B(12, 0.5)$일 때\n",
    "$P(X \\leq 5)$은 아래 그래프에서 빨강색으로 칠해진 막대들의 면적에 해당한다."
   ]
  },
  {
   "cell_type": "code",
   "execution_count": 61,
   "metadata": {
    "colab": {
     "base_uri": "https://localhost:8080/",
     "height": 290
    },
    "executionInfo": {
     "elapsed": 489,
     "status": "ok",
     "timestamp": 1677602107948,
     "user": {
      "displayName": "심지혜",
      "userId": "04812080460422707380"
     },
     "user_tz": -540
    },
    "id": "gUU_AifIgJni",
    "outputId": "015e1b9d-77b0-4d03-972a-7c6e4a12128d"
   },
   "outputs": [
    {
     "data": {
      "image/png": "[encoded data removed]",
      "text/plain": [
       "<Figure size 640x480 with 1 Axes>"
      ]
     },
     "metadata": {},
     "output_type": "display_data"
    }
   ],
   "source": [
    "fig, ax = plt.subplots(1, 1)\n",
    "\n",
    "# 이항분포 확률 질량 함수 그래프\n",
    "x1 = range(13)\n",
    "bar_colors = ['tab:red']*6 + ['tab:blue']*7\n",
    "z = ax.bar(x1, X_12.pmf(x1), color=bar_colors, width=1., alpha=.8)\n",
    "\n",
    "ax.set_xticks(range(0, 13))\n",
    "ax.set_xlabel('x')\n",
    "ax.set_ylabel('Probability')\n",
    "\n",
    "plt.show()\n"
   ]
  },
  {
   "cell_type": "markdown",
   "metadata": {},
   "source": [
    "반면에 아래 코드는 $X$가 정규분포 $N(6, 3)$을 따른다고 가정했을 때의 확률 밀도 함수 그래프를 함께 그린다.\n",
    "옅은 검정색으로 칠해진 영역은 연속 확률변수로서의 $P(X \\leq 5)$에 해당한다.\n",
    "\n",
    "그런데 이산일 때의 $P(X \\leq 5)$가 연속일 때의 $P(X \\leq 5)$보다 화살표로 표시된 영역만큼 더 크다."
   ]
  },
  {
   "cell_type": "code",
   "execution_count": 62,
   "metadata": {
    "colab": {
     "base_uri": "https://localhost:8080/",
     "height": 290
    },
    "executionInfo": {
     "elapsed": 489,
     "status": "ok",
     "timestamp": 1677602107948,
     "user": {
      "displayName": "심지혜",
      "userId": "04812080460422707380"
     },
     "user_tz": -540
    },
    "id": "gUU_AifIgJni",
    "outputId": "015e1b9d-77b0-4d03-972a-7c6e4a12128d"
   },
   "outputs": [
    {
     "data": {
      "image/png": "[encoded data removed]",
      "text/plain": [
       "<Figure size 640x480 with 1 Axes>"
      ]
     },
     "metadata": {},
     "output_type": "display_data"
    }
   ],
   "source": [
    "fig, ax = plt.subplots(1, 1)\n",
    "\n",
    "# 이항분포 확률 질량 함수 그래프\n",
    "x1 = range(13)\n",
    "bar_colors = ['tab:red']*6 + ['tab:blue']*7\n",
    "z = ax.bar(x1, X_12.pmf(x1), color=bar_colors, width=1., alpha=.8)\n",
    "\n",
    "# 정규분포 확률 밀도 함수 그래프\n",
    "x2 = np.arange(0, 12, 0.01)\n",
    "ax.plot(x2, f_gaussian(x2, 6, np.sqrt(3)), color='tab:orange')\n",
    "ax.fill_between(x2, f_gaussian(x2, 6, np.sqrt(3)), where=(x2 <= 5), color='black', alpha=0.6)\n",
    "\n",
    "ax.annotate('More area', xy=(5.2, 0.18), xytext=(3, 0.22), \n",
    "            arrowprops={'facecolor':'k', 'width':3, 'headwidth':8})\n",
    "\n",
    "# ax.hlines(0.23, 5.5, 6, color='gray', linestyle='solid', linewidth=3)\n",
    "ax.annotate(r'$N(6, 3)$', xy=(8., f_gaussian(8, 6, np.sqrt(3))+.01), xytext=(9, 0.17), \n",
    "            arrowprops={'facecolor':'tab:orange', 'width':3, 'headwidth':8})\n",
    "\n",
    "# ax.set_xticks(range(0, 13))\n",
    "ax.set_xlabel('x')\n",
    "ax.set_ylabel('Density')\n",
    "\n",
    "plt.show()\n"
   ]
  },
  {
   "cell_type": "markdown",
   "metadata": {
    "id": "VaVABNW06g2m"
   },
   "source": [
    "앞서 설명에 따라 이산 확률 분포에 대한 확률을 연속 확률 분포를 이용하여 계산하고자 할 때 \n",
    "발생하는 차이를 보정해주는 과정이 필요하며\n",
    "이를 **연속성 보정**<font size='2'>continuity correction</font>이라 부른다.\n",
    "\n",
    "앞에 언급한 예제의 경우, 정규분포의 확률 밀도 함수 그래프에 따르면 \n",
    "$P(X \\leq 5)$ 대신에 $P(X \\leq 5.5)$이 이산 확률변수로서의 $P(X \\leq 5)$에 해당한다는 것을 알 수 있다.\n",
    "\n",
    "실제로 $X \\sim N(6,3)$일 때 다음과 같이 확률값이 계산된다."
   ]
  },
  {
   "cell_type": "code",
   "execution_count": 63,
   "metadata": {},
   "outputs": [
    {
     "data": {
      "text/plain": [
       "0.386415"
      ]
     },
     "execution_count": 63,
     "metadata": {},
     "output_type": "execute_result"
    }
   ],
   "source": [
    "F_gaussian(5.5, 6, np.sqrt(3))"
   ]
  },
  {
   "cell_type": "markdown",
   "metadata": {},
   "source": [
    "이산일 때의 $P(X \\leq 5)$는 다음과 같았다."
   ]
  },
  {
   "cell_type": "code",
   "execution_count": 64,
   "metadata": {},
   "outputs": [
    {
     "data": {
      "text/plain": [
       "0.387207"
      ]
     },
     "execution_count": 64,
     "metadata": {},
     "output_type": "execute_result"
    }
   ],
   "source": [
    "P_less5 = X_12.cdf(5)\n",
    "P_less5"
   ]
  },
  {
   "cell_type": "markdown",
   "metadata": {},
   "source": [
    "**예제: 정상적인 동전을 12번 던져서 앞면이 9번 이상 나올 확률**"
   ]
  },
  {
   "cell_type": "markdown",
   "metadata": {},
   "source": [
    "이산일 때의 $P(X \\geq 9)$는 다음과 같다."
   ]
  },
  {
   "cell_type": "code",
   "execution_count": 65,
   "metadata": {},
   "outputs": [
    {
     "data": {
      "text/plain": [
       "0.072998"
      ]
     },
     "execution_count": 65,
     "metadata": {},
     "output_type": "execute_result"
    }
   ],
   "source": [
    "P_above9 = 1- X_12.cdf(8)\n",
    "P_above9"
   ]
  },
  {
   "cell_type": "markdown",
   "metadata": {},
   "source": [
    "연속일 때의 $P(X \\geq 9)$는 다음과 같으며 이산일 때보다 작게 계산된다."
   ]
  },
  {
   "cell_type": "code",
   "execution_count": 66,
   "metadata": {},
   "outputs": [
    {
     "data": {
      "text/plain": [
       "0.041632"
      ]
     },
     "execution_count": 66,
     "metadata": {},
     "output_type": "execute_result"
    }
   ],
   "source": [
    "1 - F_gaussian(9, 6, np.sqrt(3))"
   ]
  },
  {
   "cell_type": "markdown",
   "metadata": {},
   "source": [
    "이번에도 그래프를 그려보면 연속일 때의 확률이 작게 계산되는 이유가 이전 예제에서와 유사한 방식으로 설명될 수 있다."
   ]
  },
  {
   "cell_type": "code",
   "execution_count": 67,
   "metadata": {
    "colab": {
     "base_uri": "https://localhost:8080/",
     "height": 290
    },
    "executionInfo": {
     "elapsed": 489,
     "status": "ok",
     "timestamp": 1677602107948,
     "user": {
      "displayName": "심지혜",
      "userId": "04812080460422707380"
     },
     "user_tz": -540
    },
    "id": "gUU_AifIgJni",
    "outputId": "015e1b9d-77b0-4d03-972a-7c6e4a12128d"
   },
   "outputs": [
    {
     "data": {
      "image/png": "[encoded data removed]",
      "text/plain": [
       "<Figure size 640x480 with 1 Axes>"
      ]
     },
     "metadata": {},
     "output_type": "display_data"
    }
   ],
   "source": [
    "fig, ax = plt.subplots(1, 1)\n",
    "\n",
    "# 이항분포 확률 질량 함수 그래프\n",
    "x1 = range(13)\n",
    "bar_colors = ['tab:blue']*9 + ['tab:red']*4\n",
    "z = ax.bar(x1, X_12.pmf(x1), color=bar_colors, width=1., alpha=.8)\n",
    "\n",
    "# 정규분포 확률 밀도 함수 그래프\n",
    "x2 = np.arange(0, 12, 0.01)\n",
    "ax.plot(x2, f_gaussian(x2, 6, np.sqrt(3)), color='tab:orange')\n",
    "ax.fill_between(x2, f_gaussian(x2, 6, np.sqrt(3)), where=(x2 >= 9), color='black', alpha=0.6)\n",
    "\n",
    "ax.annotate('More area', xy=(8.8, 0.04), xytext=(9.1, 0.09), \n",
    "            arrowprops={'facecolor':'k', 'width':3, 'headwidth':8})\n",
    "\n",
    "# ax.hlines(0.23, 5.5, 6, color='gray', linestyle='solid', linewidth=3)\n",
    "ax.annotate(r'$N(6, 3)$', xy=(8., f_gaussian(8, 6, np.sqrt(3))+.01), xytext=(9, 0.17), \n",
    "            arrowprops={'facecolor':'tab:orange', 'width':3, 'headwidth':8})\n",
    "\n",
    "ax.set_xticks(range(0, 13))\n",
    "ax.set_xlabel('x')\n",
    "ax.set_ylabel('Density')\n",
    "\n",
    "plt.show()\n"
   ]
  },
  {
   "cell_type": "markdown",
   "metadata": {},
   "source": [
    "따라서 이번에도 연속성 보정을 적용하여\n",
    "연속일 때의 확률값은 $P(X \\geq 8.5)$로 계산해야\n",
    "이산일 때의 $P(X \\geq 9)$에 근사한 확률값을 얻는다."
   ]
  },
  {
   "cell_type": "code",
   "execution_count": 68,
   "metadata": {},
   "outputs": [
    {
     "data": {
      "text/plain": [
       "0.074457"
      ]
     },
     "execution_count": 68,
     "metadata": {},
     "output_type": "execute_result"
    }
   ],
   "source": [
    "1 - F_gaussian(8.5, 6, np.sqrt(3))"
   ]
  },
  {
   "cell_type": "markdown",
   "metadata": {},
   "source": [
    "**예제: 정상적인 동전을 12번 던져서 앞면이 3번 이상 6번 이하 나올 확률**"
   ]
  },
  {
   "cell_type": "markdown",
   "metadata": {},
   "source": [
    "이산일 때의 $P(3 \\leq X \\leq 6)$는 다음과 같다."
   ]
  },
  {
   "cell_type": "code",
   "execution_count": 69,
   "metadata": {},
   "outputs": [
    {
     "data": {
      "text/plain": [
       "0.593506"
      ]
     },
     "execution_count": 69,
     "metadata": {},
     "output_type": "execute_result"
    }
   ],
   "source": [
    "P_3between6 = X_12.cdf(6) - X_12.cdf(2)\n",
    "P_3between6"
   ]
  },
  {
   "cell_type": "markdown",
   "metadata": {},
   "source": [
    "연속일 때의 $P(3 \\leq X \\leq 6)$는 다음과 같으며 이산일 때보다 작게 계산된다."
   ]
  },
  {
   "cell_type": "code",
   "execution_count": 70,
   "metadata": {},
   "outputs": [
    {
     "data": {
      "text/plain": [
       "0.458368"
      ]
     },
     "execution_count": 70,
     "metadata": {},
     "output_type": "execute_result"
    }
   ],
   "source": [
    "F_gaussian(6, 6, np.sqrt(3)) - F_gaussian(3, 6, np.sqrt(3))"
   ]
  },
  {
   "cell_type": "markdown",
   "metadata": {},
   "source": [
    "이번에도 그래프를 그려보면 연속일 때의 확률이 작게 계산되는 이유가 이전 예제에서와 유사한 방식으로 설명될 수 있다."
   ]
  },
  {
   "cell_type": "code",
   "execution_count": 71,
   "metadata": {
    "colab": {
     "base_uri": "https://localhost:8080/",
     "height": 290
    },
    "executionInfo": {
     "elapsed": 489,
     "status": "ok",
     "timestamp": 1677602107948,
     "user": {
      "displayName": "심지혜",
      "userId": "04812080460422707380"
     },
     "user_tz": -540
    },
    "id": "gUU_AifIgJni",
    "outputId": "015e1b9d-77b0-4d03-972a-7c6e4a12128d"
   },
   "outputs": [
    {
     "data": {
      "image/png": "[encoded data removed]",
      "text/plain": [
       "<Figure size 640x480 with 1 Axes>"
      ]
     },
     "metadata": {},
     "output_type": "display_data"
    }
   ],
   "source": [
    "fig, ax = plt.subplots(1, 1)\n",
    "\n",
    "# 이항분포 확률 질량 함수 그래프\n",
    "x1 = range(13)\n",
    "bar_colors = ['tab:blue']*3 + ['tab:red']*4 + ['tab:blue']*6\n",
    "z = ax.bar(x1, X_12.pmf(x1), color=bar_colors, width=1., alpha=.8)\n",
    "\n",
    "# 정규분포 확률 밀도 함수 그래프\n",
    "x2 = np.arange(0, 12, 0.01)\n",
    "ax.plot(x2, f_gaussian(x2, 6, np.sqrt(3)), color='tab:orange')\n",
    "ax.fill_between(x2, f_gaussian(x2, 6, np.sqrt(3)), where=(x2 >= 3) & (x2 <= 6), color='black', alpha=0.6)\n",
    "\n",
    "ax.annotate('More area', xy=(2.75, 0.02), xytext=(0., 0.06), \n",
    "            arrowprops={'facecolor':'k', 'width':3, 'headwidth':8})\n",
    "ax.annotate('More area', xy=(6.3, 0.2), xytext=(7.8, 0.22), \n",
    "            arrowprops={'facecolor':'k', 'width':3, 'headwidth':8})\n",
    "\n",
    "# ax.hlines(0.23, 5.5, 6, color='gray', linestyle='solid', linewidth=3)\n",
    "ax.annotate(r'$N(6, 3)$', xy=(8., f_gaussian(8, 6, np.sqrt(3))+.01), xytext=(9, 0.17), \n",
    "            arrowprops={'facecolor':'tab:orange', 'width':3, 'headwidth':8})\n",
    "\n",
    "ax.set_xticks(range(0, 13))\n",
    "ax.set_xlabel('x')\n",
    "ax.set_ylabel('Density')\n",
    "\n",
    "plt.show()\n"
   ]
  },
  {
   "cell_type": "markdown",
   "metadata": {},
   "source": [
    "따라서 이번에도 연속성 보정을 적용하여\n",
    "연속일 때의 확률값은 $P(2.5 \\leq X \\leq 6.5)$로 계산해야\n",
    "이산일 때의 $P(3 \\leq X \\leq 6)$에 근사한 확률값을 얻는다."
   ]
  },
  {
   "cell_type": "code",
   "execution_count": 72,
   "metadata": {},
   "outputs": [
    {
     "data": {
      "text/plain": [
       "0.591931"
      ]
     },
     "execution_count": 72,
     "metadata": {},
     "output_type": "execute_result"
    }
   ],
   "source": [
    "F_gaussian(6.5, 6, np.sqrt(3)) - F_gaussian(2.5, 6, np.sqrt(3))"
   ]
  },
  {
   "cell_type": "markdown",
   "metadata": {
    "id": "VaVABNW06g2m"
   },
   "source": [
    "**연속성 보정 일반화**"
   ]
  },
  {
   "cell_type": "markdown",
   "metadata": {
    "id": "VaVABNW06g2m"
   },
   "source": [
    "이산 확률변수 $X$가 이항분포를 따르며 다음이 성립한다고 가정한다.\n",
    "\n",
    "$$\n",
    "X \\sim B(n,p), \\quad np>5,\\quad n(1-p)>5\n",
    "$$\n",
    "\n",
    "그러면 확률 변수 $X$를 다음 정규분포를 따르는 연속 확률변수로 간주해도 된다.\n",
    "\n",
    "$$\n",
    "X \\sim N(np, npq)\n",
    "$$\n",
    "\n",
    "하지만 정규분포를 따르는 연속 확률변수로 간주했을 때 경우에 따라 연속성 보정을 다음과 같이\n",
    "적용해야 한다.\n",
    "\n",
    ":::{list-table} 연속성 보정\n",
    ":widths: 50 50\n",
    ":header-rows: 1\n",
    ":name: continuity_correction\n",
    "\n",
    "*   - 이항분포 (이산)\n",
    "    - 정규분포 (연속)\n",
    "*   - $P(X \\leq a)$\n",
    "    - $P(X \\leq a+0.5)$\n",
    "*   - $P(X \\geq a)$\n",
    "    - $P(X \\geq a-0.5)$\n",
    "*   - $P(a \\leq X \\leq b)$\n",
    "    - $P(a-0.5 \\leq X \\leq b+0.5)$\n",
    ":::"
   ]
  },
  {
   "cell_type": "markdown",
   "metadata": {
    "id": "ptZe05S3i6Bq"
   },
   "source": [
    "**연속성 보정 예제: 5지선다 40문제를 임의로 찍어서 30 문제 이상 맞힐 확률**"
   ]
  },
  {
   "cell_type": "markdown",
   "metadata": {},
   "source": [
    "5지선다 40문제의 답을 모두 임의로 찍어 15문제 이상을 맞힐 확률을 연속성 보정을 적용하여 다시 계산한다.\n",
    "\n",
    "5지선다 문제 하나를 임의로 답을 찍어 맞힐 확률은 1/5, 즉 0.2다.\n",
    "40문제 각각에 대해 임의로 답을 찍는 행위는 서로 독립적이기에\n",
    "40문제 중에서 맞히는 답의 수는 다음 이항분포를 따른다.\n",
    "\n",
    "$$\n",
    "X_{bin} \\sim B\\left (40, 0.2\\right )\n",
    "$$"
   ]
  },
  {
   "cell_type": "markdown",
   "metadata": {},
   "source": [
    "아래 `X_discrete` 변수가 이산 확률변수로서의 $X_{bin}$을 가리킨다."
   ]
  },
  {
   "cell_type": "code",
   "execution_count": 73,
   "metadata": {},
   "outputs": [],
   "source": [
    "from scipy.stats import binom\n",
    "\n",
    "n = 40\n",
    "p = 0.2\n",
    "\n",
    "X_discrete = binom(n, p)"
   ]
  },
  {
   "cell_type": "markdown",
   "metadata": {},
   "source": [
    "또한 다음이 성립한다.\n",
    "\n",
    "$$\n",
    "40 \\cdot 0.2 = 8 >5, \\quad 40 \\cdot 0.8 = 32>5\n",
    "$$\n",
    "\n",
    "따라서 확률변수 $X_{bin}$를 다음 정규분포를 따르는 연속 확률변수로 간주할 수 있다.\n",
    "\n",
    "$$\n",
    "X_{bin} \\sim N(8, 6.4)\n",
    "$$"
   ]
  },
  {
   "cell_type": "markdown",
   "metadata": {},
   "source": [
    "아래 `X_coninuous` 변수가 연속 확률변수로서의 $X_{bin}$을 가리킨다."
   ]
  },
  {
   "cell_type": "code",
   "execution_count": 74,
   "metadata": {},
   "outputs": [],
   "source": [
    "X_continuous = norm(8, np.sqrt(6.4))"
   ]
  },
  {
   "cell_type": "markdown",
   "metadata": {},
   "source": [
    "이산일 때의 $P(X_{bin} \\geq 15)$는 다음과 같다."
   ]
  },
  {
   "cell_type": "code",
   "execution_count": 75,
   "metadata": {},
   "outputs": [
    {
     "data": {
      "text/plain": [
       "0.007916"
      ]
     },
     "execution_count": 75,
     "metadata": {},
     "output_type": "execute_result"
    }
   ],
   "source": [
    "1 - X_discrete.cdf(14)"
   ]
  },
  {
   "cell_type": "markdown",
   "metadata": {},
   "source": [
    "연속일 때는 연속성 보정을 적용하여 $P(X_{bin} \\geq 14.5)$를 계산한다."
   ]
  },
  {
   "cell_type": "code",
   "execution_count": 76,
   "metadata": {},
   "outputs": [
    {
     "data": {
      "text/plain": [
       "0.005094"
      ]
     },
     "execution_count": 76,
     "metadata": {},
     "output_type": "execute_result"
    }
   ],
   "source": [
    "1 - X_continuous.cdf(14.5)"
   ]
  },
  {
   "cell_type": "markdown",
   "metadata": {},
   "source": [
    "연속성 보정을 적용하지 않고 $P(X_{bin} \\geq 15)$를 계산하면 오차가 더 커진다."
   ]
  },
  {
   "cell_type": "code",
   "execution_count": 77,
   "metadata": {},
   "outputs": [
    {
     "data": {
      "text/plain": [
       "0.002829"
      ]
     },
     "execution_count": 77,
     "metadata": {},
     "output_type": "execute_result"
    }
   ],
   "source": [
    "1 - X_continuous.cdf(15)"
   ]
  },
  {
   "cell_type": "markdown",
   "metadata": {},
   "source": [
    "반면에 이산일 때의 $P(X_{bin} \\leq 7)$는 다음과 같다."
   ]
  },
  {
   "cell_type": "code",
   "execution_count": 78,
   "metadata": {},
   "outputs": [
    {
     "data": {
      "text/plain": [
       "0.437146"
      ]
     },
     "execution_count": 78,
     "metadata": {},
     "output_type": "execute_result"
    }
   ],
   "source": [
    "X_discrete.cdf(7)"
   ]
  },
  {
   "cell_type": "markdown",
   "metadata": {},
   "source": [
    "연속일 때는 연속성 보정을 적용하여 $P(X_{bin} \\leq 7.5)$를 계산한다."
   ]
  },
  {
   "cell_type": "code",
   "execution_count": 79,
   "metadata": {},
   "outputs": [
    {
     "data": {
      "text/plain": [
       "0.421662"
      ]
     },
     "execution_count": 79,
     "metadata": {},
     "output_type": "execute_result"
    }
   ],
   "source": [
    "X_continuous.cdf(7.5)"
   ]
  },
  {
   "cell_type": "markdown",
   "metadata": {},
   "source": [
    "연속성 보정을 적용하지 않고 $P(X_{bin} \\leq 7)$을 계산하면 역시나 오차가 더 커진다."
   ]
  },
  {
   "cell_type": "code",
   "execution_count": 80,
   "metadata": {},
   "outputs": [
    {
     "data": {
      "text/plain": [
       "0.346316"
      ]
     },
     "execution_count": 80,
     "metadata": {},
     "output_type": "execute_result"
    }
   ],
   "source": [
    "X_continuous.cdf(7)"
   ]
  },
  {
   "cell_type": "markdown",
   "metadata": {},
   "source": [
    "## 연습문제"
   ]
  },
  {
   "cell_type": "markdown",
   "metadata": {},
   "source": [
    "참고: [(연습) 정규분포](https://colab.research.google.com/github/codingalzi/DataSci/blob/master/practices/practice-normal_distribution.ipynb)"
   ]
  }
 ],
 "metadata": {
  "kernelspec": {
   "display_name": "Python 3 (ipykernel)",
   "language": "python",
   "name": "python3"
  },
  "language_info": {
   "codemirror_mode": {
    "name": "ipython",
    "version": 3
   },
   "file_extension": ".py",
   "mimetype": "text/x-python",
   "name": "python",
   "nbconvert_exporter": "python",
   "pygments_lexer": "ipython3",
   "version": "3.12.2"
  },
  "toc": {
   "nav_menu": {},
   "number_sections": true,
   "sideBar": true,
   "skip_h1_title": false,
   "toc_cell": false,
   "toc_position": {},
   "toc_section_display": "block",
   "toc_window_display": false
  }
 },
 "nbformat": 4,
 "nbformat_minor": 2
}