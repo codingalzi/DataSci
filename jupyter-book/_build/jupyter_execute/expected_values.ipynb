{
 "cells": [
  {
   "cell_type": "markdown",
   "metadata": {
    "ExecuteTime": {
     "end_time": "2018-03-06T03:37:40.696920Z",
     "start_time": "2018-03-06T03:37:40.690655Z"
    }
   },
   "source": [
    "(ch:expectation-variance)=\n",
    "# 기댓값과 분산"
   ]
  },
  {
   "cell_type": "markdown",
   "metadata": {},
   "source": [
    "**기본 설정**"
   ]
  },
  {
   "cell_type": "markdown",
   "metadata": {
    "ExecuteTime": {
     "end_time": "2018-08-03T08:26:15.690793Z",
     "start_time": "2018-08-03T08:26:15.507201Z"
    }
   },
   "source": [
    "`numpy`와 `pandas` 라이브러리를 각각 `np`와 `pd`로 불러온다."
   ]
  },
  {
   "cell_type": "code",
   "execution_count": 1,
   "metadata": {
    "ExecuteTime": {
     "end_time": "2018-08-14T06:43:30.149227Z",
     "start_time": "2018-08-14T06:43:29.960007Z"
    }
   },
   "outputs": [],
   "source": [
    "import numpy as np\n",
    "import pandas as pd"
   ]
  },
  {
   "cell_type": "markdown",
   "metadata": {},
   "source": [
    "데이터프레임의 [chained indexing을 금지시키기 위한 설정](https://pandas.pydata.org/pandas-docs/stable/user_guide/indexing.html#returning-a-view-versus-a-copy)을 지정한다.\n",
    "Pandas 3.0 버전부터는 기본 옵션으로 지정된다."
   ]
  },
  {
   "cell_type": "code",
   "execution_count": 2,
   "metadata": {},
   "outputs": [],
   "source": [
    "pd.options.mode.copy_on_write = True"
   ]
  },
  {
   "cell_type": "markdown",
   "metadata": {
    "ExecuteTime": {
     "end_time": "2018-08-14T06:43:30.149227Z",
     "start_time": "2018-08-14T06:43:29.960007Z"
    }
   },
   "source": [
    "주피터 노트북에서 부동소수점의 출력을 소수점 이하 6자리로 제한한다.\n",
    "아래 코드는 주피터 노트북에서만 사용하며 일반적인 파이썬 코드가 아니다."
   ]
  },
  {
   "cell_type": "code",
   "execution_count": 3,
   "metadata": {
    "ExecuteTime": {
     "end_time": "2018-08-14T06:43:30.149227Z",
     "start_time": "2018-08-14T06:43:29.960007Z"
    }
   },
   "outputs": [
    {
     "data": {
      "text/plain": [
       "'%.6f'"
      ]
     },
     "execution_count": 3,
     "metadata": {},
     "output_type": "execute_result"
    }
   ],
   "source": [
    "%precision 6"
   ]
  },
  {
   "cell_type": "markdown",
   "metadata": {
    "ExecuteTime": {
     "end_time": "2018-08-14T06:43:30.149227Z",
     "start_time": "2018-08-14T06:43:29.960007Z"
    }
   },
   "source": [
    "아래 코드는 데이터프레임 내에서 부동소수점의 출력을 소수점 이하 6자리로 제한한다."
   ]
  },
  {
   "cell_type": "code",
   "execution_count": 4,
   "metadata": {
    "ExecuteTime": {
     "end_time": "2018-08-14T06:43:30.149227Z",
     "start_time": "2018-08-14T06:43:29.960007Z"
    }
   },
   "outputs": [],
   "source": [
    "pd.set_option('display.precision', 6)"
   ]
  },
  {
   "cell_type": "markdown",
   "metadata": {},
   "source": [
    "데이터 시각화를 위해 `matplotlib.pyplot`를 `plt`로,\n",
    "`seaborn`을 `sns`로 불러온다.\n",
    "`seaborn` 라이브러리는 통계 관련 데이터의 정보를 보다 세련되고 정확하게 전달하는 그래프를 그리는 도구를 제공한다.\n",
    "`matplotlib` 라이브러리를 바탕으로 만들어져서 함께 사용해도 된다."
   ]
  },
  {
   "cell_type": "code",
   "execution_count": 5,
   "metadata": {},
   "outputs": [],
   "source": [
    "import matplotlib.pyplot as plt\n",
    "import seaborn as sns"
   ]
  },
  {
   "cell_type": "markdown",
   "metadata": {},
   "source": [
    "그래프 스타일을 `seaborn`에서 제공하는 `white` 스타일로 지정한다."
   ]
  },
  {
   "cell_type": "code",
   "execution_count": 6,
   "metadata": {},
   "outputs": [],
   "source": [
    "sns.set_style(\"white\")"
   ]
  },
  {
   "cell_type": "markdown",
   "metadata": {},
   "source": [
    "**데이터 저장소 디렉토리**"
   ]
  },
  {
   "cell_type": "markdown",
   "metadata": {},
   "source": [
    "코드에 사용되는 [데이터 저장소의 기본 디렉토리](https://github.com/codingalzi/DataSci/tree/master/data)를 지정한다."
   ]
  },
  {
   "cell_type": "code",
   "execution_count": 7,
   "metadata": {},
   "outputs": [],
   "source": [
    "data_url = 'https://raw.githubusercontent.com/codingalzi/DataSci/refs/heads/master/data/'"
   ]
  },
  {
   "cell_type": "markdown",
   "metadata": {},
   "source": [
    "**주요 내용**"
   ]
  },
  {
   "cell_type": "markdown",
   "metadata": {},
   "source": [
    "확률 변수가 취할 수 있는 값들의 평균값인 기댓값과 분산을 소개한다.\n",
    "\n",
    "- 확률 변수의 기댓값\n",
    "- 확률 변수의 분산"
   ]
  },
  {
   "cell_type": "markdown",
   "metadata": {},
   "source": [
    "## 이산 확률 변수의 기댓값과 분산"
   ]
  },
  {
   "cell_type": "markdown",
   "metadata": {},
   "source": [
    "### 기댓값과 평균값"
   ]
  },
  {
   "cell_type": "markdown",
   "metadata": {},
   "source": [
    "데이터셋의 중심역할을 하는 대표하는 값으로 {numref}`%s장 <ch:oneD-data>`에서 소개된 평균값은\n",
    "확률 분포를 고려하지 않고 단순하게 주어진 값들만 이용하여 정의된다."
   ]
  },
  {
   "cell_type": "markdown",
   "metadata": {},
   "source": [
    "**평균값**"
   ]
  },
  {
   "cell_type": "markdown",
   "metadata": {},
   "source": [
    "평균값은 데이터를 모두 더한 다음 데이터의 개수로 나눈다.\n",
    "\n",
    "$$\n",
    "\\bar x = \\frac 1 n \\sum_{i=1}^{n} x_i = \\frac 1 n (x_1 + x_2 + \\cdots + x_n)\n",
    "$$"
   ]
  },
  {
   "cell_type": "markdown",
   "metadata": {},
   "source": [
    "예를 들어 1부터 6까지의 정수로 구성된 데이터셋의 평균값은 1부터 6까지 더한 값인 21을 6으로 나눈 3.5다."
   ]
  },
  {
   "cell_type": "code",
   "execution_count": 8,
   "metadata": {},
   "outputs": [
    {
     "data": {
      "text/plain": [
       "3.500000"
      ]
     },
     "execution_count": 8,
     "metadata": {},
     "output_type": "execute_result"
    }
   ],
   "source": [
    "sum(range(1, 7)) / 6"
   ]
  },
  {
   "cell_type": "markdown",
   "metadata": {},
   "source": [
    "**공정한 주사위 던지기의 기댓값**"
   ]
  },
  {
   "cell_type": "markdown",
   "metadata": {},
   "source": [
    "데이터셋을 확률 변수가 취할 수 있는 값들의 집합으로 볼 때는\n",
    "확률 분포를, 즉 각각의 값이 발생할 확률을 함께 고려하면서\n",
    "데이터들의 중심을 정의해야 한다.\n",
    "\n",
    "예를 들어 주사위를 던졌을 때 나오는 값들의 평균값을 계산해보자.\n",
    "주사위를 던지면 1부터 6 사이의 정수 하나가 나오기에 \n",
    "나온 값들의 평균값이 1부터 6까지의 정수의 평균값인 3.5가 값이 나올 것으로 기대한다.\n",
    "아래 코드는 주사위 던지기를 반복해서 던지면 나온 값들의 평균값이 \n",
    "실제로 3.5에 수렴함을 보여준다.\n",
    "\n",
    "코드는 아래 내용을 구현한다.\n",
    "\n",
    "- `np.random.choice()` 함수를 이용한 주사위 총 10만 번 던지기 구현\n",
    "- 100번씩 끊어서 그때까지 나온 값들을 대상으로 누적 평균값 계산"
   ]
  },
  {
   "cell_type": "code",
   "execution_count": 9,
   "metadata": {},
   "outputs": [
    {
     "data": {
      "image/png": "[encoded data removed]",
      "text/plain": [
       "<Figure size 600x400 with 1 Axes>"
      ]
     },
     "metadata": {},
     "output_type": "display_data"
    }
   ],
   "source": [
    "np.random.seed(100)\n",
    "\n",
    "fig = plt.figure(figsize=(6,4 ))\n",
    "ax = fig.add_subplot(111)\n",
    "\n",
    "# 총 10만번 주사위 던지기\n",
    "size = 100_001\n",
    "cubic100k = np.random.choice(range(1, 7), size)\n",
    "\n",
    "# 100번 던질 때마다 누적 평균값 계산\n",
    "cubic_means = [cubic100k[:step].mean() for step in range(100, size, 100)]\n",
    "plt.plot(range(100, size, 100), cubic_means)\n",
    "\n",
    "# 평균값들의 기댓값\n",
    "mu_fair = 3.5\n",
    "plt.hlines(mu_fair, 100, size, color='red')\n",
    "\n",
    "plt.show()"
   ]
  },
  {
   "cell_type": "markdown",
   "metadata": {},
   "source": [
    "위 결과만 보면 확률 분포를 고려할 때와 그렇지 않을 때의 결과가 동일해 보인다.\n",
    "하지만 이는 정상적인 주사위를 사용한다는 전제가 있었기에 가능했다.\n",
    "실제로 `np.random.choice()` 함수를 이용하여 1부터 6 사이의 정수를 \n",
    "다음과 같은 균등 분포에 따라 임의로 선택하였다."
   ]
  },
  {
   "cell_type": "markdown",
   "metadata": {},
   "source": [
    "| X | 1 | 2 | 3 | 4 | 5 | 6|\n",
    "| :---: | :---: | :---: | :---: | :---: | :---: | :---: |\n",
    "| 확률 | 1/6 | 1/6 | 1/6 | 1/6 | 1/6 | 1/6 |"
   ]
  },
  {
   "cell_type": "markdown",
   "metadata": {},
   "source": [
    "**불공정한 주사위 던지기의 기댓값**"
   ]
  },
  {
   "cell_type": "markdown",
   "metadata": {},
   "source": [
    "불공정한 주사위를 사용하는 경우에는 실행 결과의 평균값이 다르게 나올 수 있다.\n",
    "예를 들어 다음과 같이 높은 숫자일 수록 나올 확률이 높아진다고 가정하자."
   ]
  },
  {
   "cell_type": "markdown",
   "metadata": {},
   "source": [
    "| X | 1 | 2 | 3 | 4 | 5 | 6|\n",
    "| :---: | :---: | :---: | :---: | :---: | :---: | :---: |\n",
    "| 확률 | 1/21 | 2/21 | 3/21 | 4/21 | 5/21 | 6/21 |"
   ]
  },
  {
   "cell_type": "markdown",
   "metadata": {},
   "source": [
    "아래 코드는 불공정한 주사위를 던졌을 때 나오는 값을 가리키는 \n",
    "확률 변수 $X$의 확률 질량 함수와 확률 분포를 정의한다."
   ]
  },
  {
   "cell_type": "markdown",
   "metadata": {},
   "source": [
    "- 불공정한 주사위 던지기의 확률 질량 함수"
   ]
  },
  {
   "cell_type": "code",
   "execution_count": 10,
   "metadata": {},
   "outputs": [],
   "source": [
    "def f_unfair(x):\n",
    "    return x/21"
   ]
  },
  {
   "cell_type": "markdown",
   "metadata": {},
   "source": [
    "- 불공정한 주사위 던지기의 확률 분포 지정"
   ]
  },
  {
   "cell_type": "code",
   "execution_count": 11,
   "metadata": {},
   "outputs": [],
   "source": [
    "prob_X = [f_unfair(x) for x in range(1, 7)]"
   ]
  },
  {
   "cell_type": "markdown",
   "metadata": {},
   "source": [
    "아래 코드는 위 확률 분포를 이용하여 동일한 모의실험을 진행한다.\n",
    "`np.random.choice()` 함수를 호출할 때 `p=prob_X` 키워드 인자를 지정하면\n",
    "언급된 확률 분포를 따르면서 1부터 6 사이의 정수를 10만 개 선택한다.\n",
    "생성된 그래프에서 빨간 직선은 불공정한 주사위를 반복해서 던질 때 나온 값들의 평균값을 가리킨다."
   ]
  },
  {
   "cell_type": "code",
   "execution_count": 12,
   "metadata": {},
   "outputs": [
    {
     "data": {
      "image/png": "[encoded data removed]",
      "text/plain": [
       "<Figure size 600x400 with 1 Axes>"
      ]
     },
     "metadata": {},
     "output_type": "display_data"
    }
   ],
   "source": [
    "np.random.seed(100)\n",
    "\n",
    "fig = plt.figure(figsize=(6,4 ))\n",
    "ax = fig.add_subplot(111)\n",
    "\n",
    "# 총 10만번 불공정한 주사위 던지기\n",
    "size = 100_001\n",
    "cubic100k = np.random.choice(range(1, 7), size, p=prob_X)\n",
    "\n",
    "# 100번 던질 때마다 누적 평균값 계산\n",
    "cubic_means = [cubic100k[:step].mean() for step in range(100, size, 100)]\n",
    "plt.plot(range(100, size, 100), cubic_means)\n",
    "\n",
    "# 평균값들의 기댓값\n",
    "mu_unfair = np.sum([x * f_unfair(x) for x in range(1, 7)])\n",
    "plt.hlines(mu_unfair, 100, size, color='red')\n",
    "\n",
    "plt.show()"
   ]
  },
  {
   "cell_type": "markdown",
   "metadata": {},
   "source": [
    "**확률 변수의 기댓값**"
   ]
  },
  {
   "cell_type": "markdown",
   "metadata": {},
   "source": [
    "이산 확률 변수 $X$가 취할 수 있는 값들의 평균값을 **기댓값**<font size='2'>expectation value</font>이라 부른다.\n",
    "확률 변수의 기댓값은 $E[X]$로 표기하며 다음과 같이 정의된다.\n",
    "아래 식에서 함수 $f$는 확률 질량 함수를, \n",
    "$n$은 확률 변수 $X$가 취할 수 있는 값들의 개수를 가리킨다.\n",
    "\n",
    "$$\n",
    "E[X] = x_1 \\, f(x_1) + \\cdots + x_n \\, f(x_n) = \\sum_{i=1}^{n} x_i \\, f(x_i) \\\\[.5ex]\n",
    "$$"
   ]
  },
  {
   "cell_type": "markdown",
   "metadata": {},
   "source": [
    "위 식에 따르면 불공정한 주사위를 많이 던졌을 때 나올 수 있는 값들의 평균값은 4.33 정도다.\n",
    "\n",
    "$$\n",
    "1\\, \\frac{1}{21} + 2 \\, \\frac{2}{21} + 3 \\, \\frac{3}{21} + 4\\, \\frac{4}{21} + 5\\, \\frac{5}{21} + 6 \\, \\frac{6}{21} = 4.333333\n",
    "$$"
   ]
  },
  {
   "cell_type": "markdown",
   "metadata": {},
   "source": [
    "아래 코드가 이를 확인해준다."
   ]
  },
  {
   "cell_type": "code",
   "execution_count": 13,
   "metadata": {},
   "outputs": [
    {
     "data": {
      "text/plain": [
       "4.333333"
      ]
     },
     "execution_count": 13,
     "metadata": {},
     "output_type": "execute_result"
    }
   ],
   "source": [
    "mu_unfair = np.sum([x * f_unfair(x) for x in range(1, 7)])\n",
    "mu_unfair"
   ]
  },
  {
   "cell_type": "markdown",
   "metadata": {},
   "source": [
    "반면에 정상적인 주사위를 사용한 경우에는 앞서 기댓값이 3.5로 계산된다.\n",
    "\n",
    "$$\n",
    "1\\, \\frac{1}{6} + 2 \\, \\frac{1}{6} + 3 \\, \\frac{1}{6} + 4\\, \\frac{1}{6} + 5\\, \\frac{1}{6} + 6 \\, \\frac{1}{6} = 3.5\n",
    "$$"
   ]
  },
  {
   "cell_type": "code",
   "execution_count": 14,
   "metadata": {},
   "outputs": [
    {
     "data": {
      "text/plain": [
       "3.500000"
      ]
     },
     "execution_count": 14,
     "metadata": {},
     "output_type": "execute_result"
    }
   ],
   "source": [
    "mu_fair = np.sum([x * 1/6 for x in range(1, 7)])\n",
    "mu_fair"
   ]
  },
  {
   "cell_type": "markdown",
   "metadata": {},
   "source": [
    "결론적으로 확률 변수가 취할 수 있는 값들의 집합이 동일하더라도\n",
    "기댓값은 확률 변수가 따르는 확률 분포에 따라 다르게 계산된다."
   ]
  },
  {
   "cell_type": "markdown",
   "metadata": {},
   "source": [
    "**평균값과 균등 분포**"
   ]
  },
  {
   "cell_type": "markdown",
   "metadata": {},
   "source": [
    "사실 평균값은 모든 데이터에 대한 선택 가능성이 동일하다는, \n",
    "즉 균등 분포를 따른다는 전제하에 계산된 기댓값이다.\n",
    "데이터셋의 크기가 $n$일 때 확률 변수가 임의의 값을 취할 확률은 항상 1/n이고,\n",
    "따라서 기댓값과 평균값이 동일하게 계산된다.\n",
    "\n",
    "$$\n",
    "\\begin{align*}\n",
    "E[X] &= x_1\\, \\frac 1 n + \\cdots + x_n\\, \\frac 1 n \\\\\n",
    " &= (x_1 + x_2 + \\cdots + x_n) \\, \\frac 1 n \\\\\n",
    " &= \\bar x\n",
    "\\end{align*}\n",
    "$$\n",
    "\n",
    "예를 들어, 정상적인 주사위의 경우 모든 숫자가 나올 확률이 균등하게 1/6이다.\n",
    "따라서 단순한 숫자로서의 평균값과 주사위 던지기의 확률 변수에 대한 기댓값\n",
    "모두 3.5로 계산된다.\n",
    "\n",
    "$$\n",
    "1\\, \\frac 1 6 + 2 \\, \\frac 1 6 + \\cdots + 6 \\, \\frac 1 6 = \\frac{1 + 2 + 3 + 4 + 5 + 6}{6} = 3.5\n",
    "$$"
   ]
  },
  {
   "cell_type": "markdown",
   "metadata": {},
   "source": [
    "### 분산"
   ]
  },
  {
   "cell_type": "markdown",
   "metadata": {},
   "source": [
    "확률 변수 $X$의 분산 $V(X)$는\n",
    "확률 변수가 가질 수 있는 값들과 기댓값 사이의 오차의 제곱에 대한 기댓값으로 \n",
    "다음과 같이 정의된다.\n",
    "단, $\\mu_X$는 $E[X]$를 가리킨다."
   ]
  },
  {
   "cell_type": "markdown",
   "metadata": {},
   "source": [
    "$$\n",
    "V(X) = E[(X - \\mu_X)^2] = \\sum_{i=1}^n (x_i -\\mu_X)^2 \\, f(x_i)\n",
    "$$"
   ]
  },
  {
   "cell_type": "markdown",
   "metadata": {},
   "source": [
    "분산 $V(X)$를 $\\sigma_X^2$로 표현하기도 한다. 그러면 $\\sigma_X$는 확률 변수 $X$의 표준편차를 나타낸다.\n",
    "확률 변수의 분산은 확률 변수가 취하는 값들이 기댓값으로부터 얼마만큼 떨어져서 선택될 것인가에 대한 기댓값으로 이해될 수 있다."
   ]
  },
  {
   "cell_type": "markdown",
   "metadata": {},
   "source": [
    "앞서 언급된 불공정한 주사위의 확률 변수 $X$의 분산은 2.222222로 계산된다."
   ]
  },
  {
   "cell_type": "code",
   "execution_count": 27,
   "metadata": {},
   "outputs": [
    {
     "data": {
      "text/plain": [
       "2.222222"
      ]
     },
     "execution_count": 27,
     "metadata": {},
     "output_type": "execute_result"
    }
   ],
   "source": [
    "V_unfair = np.sum([(x - mu_unfair)**2 * f_unfair(x) for x in range(1, 7)])\n",
    "V_unfair"
   ]
  },
  {
   "cell_type": "markdown",
   "metadata": {},
   "source": [
    "표준편차는 1.49정도로 계산되며 이는 주사위를 던졌을 때 얻는 숫자가 기댓값 4.33에서\n",
    "평균적으로 약 1.5정도 차이가 날 것으로 기대할 수 있음을 의미한다."
   ]
  },
  {
   "cell_type": "code",
   "execution_count": 28,
   "metadata": {},
   "outputs": [
    {
     "data": {
      "text/plain": [
       "1.490712"
      ]
     },
     "execution_count": 28,
     "metadata": {},
     "output_type": "execute_result"
    }
   ],
   "source": [
    "sigma_unfair = np.sqrt(V_unfair)\n",
    "sigma_unfair"
   ]
  },
  {
   "cell_type": "markdown",
   "metadata": {},
   "source": [
    "**예제: 캘리포니아 주택가격 데이터셋 중위소득 범주**"
   ]
  },
  {
   "cell_type": "markdown",
   "metadata": {},
   "source": [
    "{numref}`%s장 <ch:probability>`에서 살펴 본대로 \n",
    "캘리포니아 주택가격 데이터셋에서 임의로 선택된 구역의 중위소득 범주를 가리키는 확률 변수 $X$의\n",
    "확률 분포는 다음과 같다.\n",
    "\n",
    "| X | 1 | 2 | 3 | 4 | 5 |\n",
    "| :---: | :---: | :---: | :---: | :---: | :---: |\n",
    "| 확률 | 0.041372 | 0.333011 | 0.361017 | 0.177993 | 0.086607 |"
   ]
  },
  {
   "cell_type": "markdown",
   "metadata": {},
   "source": [
    "따라서 임의로 선택된 구역의 중위소득 범주에 대한 기댓값과 분산은 다음과 같다."
   ]
  },
  {
   "cell_type": "markdown",
   "metadata": {},
   "source": [
    "- 중위소득 범주 확률 분포"
   ]
  },
  {
   "cell_type": "code",
   "execution_count": 17,
   "metadata": {},
   "outputs": [],
   "source": [
    "prob_income = [0.041372 , 0.333011 , 0.361017 , 0.177993 , 0.086607]"
   ]
  },
  {
   "cell_type": "markdown",
   "metadata": {},
   "source": [
    "- 중위소득 범주 분포의 확률 밀도 함수"
   ]
  },
  {
   "cell_type": "code",
   "execution_count": 18,
   "metadata": {},
   "outputs": [],
   "source": [
    "def f_income(x):\n",
    "    assert 1 <= x <= 5\n",
    "    return prob_income[x-1]"
   ]
  },
  {
   "cell_type": "markdown",
   "metadata": {},
   "source": [
    "* 중위소득 범주 확률 변수의 기댓값"
   ]
  },
  {
   "cell_type": "code",
   "execution_count": 19,
   "metadata": {},
   "outputs": [
    {
     "data": {
      "text/plain": [
       "2.935452"
      ]
     },
     "execution_count": 19,
     "metadata": {},
     "output_type": "execute_result"
    }
   ],
   "source": [
    "mu_income = np.sum([x * f_income(x) for x in range(1, 6)])\n",
    "mu_income"
   ]
  },
  {
   "cell_type": "markdown",
   "metadata": {},
   "source": [
    "* 중위소득 범주 확률 변수의 분산"
   ]
  },
  {
   "cell_type": "code",
   "execution_count": 20,
   "metadata": {},
   "outputs": [
    {
     "data": {
      "text/plain": [
       "1.018754"
      ]
     },
     "execution_count": 20,
     "metadata": {},
     "output_type": "execute_result"
    }
   ],
   "source": [
    "V_income = np.sum([(x - mu_income)**2 * f_income(x) for x in range(1, 6)])\n",
    "V_income"
   ]
  },
  {
   "cell_type": "markdown",
   "metadata": {},
   "source": [
    "* 중위소득 범주 확률 변수의 표준편차"
   ]
  },
  {
   "cell_type": "code",
   "execution_count": 21,
   "metadata": {},
   "outputs": [
    {
     "data": {
      "text/plain": [
       "1.009333"
      ]
     },
     "execution_count": 21,
     "metadata": {},
     "output_type": "execute_result"
    }
   ],
   "source": [
    "sigma_income = np.sqrt(V_income)\n",
    "sigma_income"
   ]
  },
  {
   "cell_type": "markdown",
   "metadata": {},
   "source": [
    "### 확률 변수 선형 변환"
   ]
  },
  {
   "cell_type": "markdown",
   "metadata": {},
   "source": [
    "확률 변수 $X$가 취할 수 있는 값에 상수 $a$를 곱한 다음에 상수 $b$를 더한 값을 가리키는 확률 변수 $Y$는 다음과 같이 정의된다.\n",
    "확률 변수 $Y$는 확률 변수 $X$를 선형 변환한 결과이며 서로 동일한 확률 분포를 따른다.\n",
    "\n",
    "$$\n",
    "Y = a\\, X + b\n",
    "$$"
   ]
  },
  {
   "cell_type": "markdown",
   "metadata": {},
   "source": [
    "확률 변수 $Y$의 기댓값, 분산, 표준편차는 다음과 같으며 증명은 생략한다."
   ]
  },
  {
   "cell_type": "markdown",
   "metadata": {},
   "source": [
    "$$\n",
    "\\begin{align*}\n",
    "E[Y] &= a \\,E[X] + b \\\\[1ex]\n",
    "V(Y) &= a^2 \\, V(X) \\\\[1ex]\n",
    "\\sigma_Y &= |a|\\, \\sigma_X\n",
    "\\end{align*}\n",
    "$$"
   ]
  },
  {
   "cell_type": "markdown",
   "metadata": {},
   "source": [
    "**예제**"
   ]
  },
  {
   "cell_type": "markdown",
   "metadata": {},
   "source": [
    "캘리포니아 주택가격 데이터셋의 중위소득 범주는 1부터 5 사이의 정수이고,\n",
    "각각의 범주가 가리키는 중위소득의 구간은 다음과 같다.\n",
    "\n",
    "| 범주 | 1 | 2 | 3 | 4 | 5 |\n",
    "| :---: | :---: | :---: | :---: | :---: | :---: |\n",
    "| 구간 | 1.5 이하 | 1.5 - 3.0 | 3.0 - 4.5 | 4.5 - 6.0 | 6.0 이상 |"
   ]
  },
  {
   "cell_type": "markdown",
   "metadata": {},
   "source": [
    "하지만 실제 중위소득은 몇 만 달러 단위로 움직인다.\n",
    "따라서 범주에 1만5천을 곱한 다음에 7천5백 정도 빼주어 실제 중위소득을 계산한다고 가정하면\n",
    "실제 중위소득을 가리키는 확률 변수는 다음과 같게 된다.\n",
    "\n",
    "$$\n",
    "Y = 15000\\, X - 7500\n",
    "$$"
   ]
  },
  {
   "cell_type": "markdown",
   "metadata": {},
   "source": [
    "앞선 공식을 적용하면 임의로 선택된 구역의 중위소득에 대한 기댓값은 \n",
    "36,532 달러 정도로 계산된다."
   ]
  },
  {
   "cell_type": "markdown",
   "metadata": {},
   "source": [
    "- $E[Y]$ 계산"
   ]
  },
  {
   "cell_type": "code",
   "execution_count": 64,
   "metadata": {},
   "outputs": [
    {
     "name": "stdout",
     "output_type": "stream",
     "text": [
      "중위소득 기댓값: 36,531.78 달러\n"
     ]
    }
   ],
   "source": [
    "mu_real_income = 15000 * mu_income - 7500\n",
    "print(f\"중위소득 기댓값: {mu_real_income:,.2f} 달러\")"
   ]
  },
  {
   "cell_type": "markdown",
   "metadata": {},
   "source": [
    "임의로 선택된 구역의 실제 중위소득은 위 기댓값으로부터 평균적으로\n",
    "15,140 달러 정도의 오차를 가질 것으로 기대된다."
   ]
  },
  {
   "cell_type": "markdown",
   "metadata": {},
   "source": [
    "- $V(Y)$와 $\\sigma_Y$ 계산"
   ]
  },
  {
   "cell_type": "code",
   "execution_count": 67,
   "metadata": {},
   "outputs": [
    {
     "name": "stdout",
     "output_type": "stream",
     "text": [
      "중위소득 분    산: 229,219,550.03 달러\n",
      "중위소득 표준편차:      15,140.00 달러\n"
     ]
    }
   ],
   "source": [
    "V_real_income = 15000**2 * V_income\n",
    "sigma_real_income = 15000 * sigma_income\n",
    "print(f\"중위소득 분    산: {V_real_income:14,.2f} 달러\")\n",
    "print(f\"중위소득 표준편차: {sigma_real_income:14,.2f} 달러\")"
   ]
  },
  {
   "cell_type": "markdown",
   "metadata": {},
   "source": [
    "**선형 변환 결과 확인**"
   ]
  },
  {
   "cell_type": "markdown",
   "metadata": {},
   "source": [
    "앞서 공식을 이용한 계산대로 결과가 나오는지 실제 확인해본다.\n",
    "아래 표는 범주에 1만5천을 곱한 다음에 7천5백을 뺀 실제 중위소득을 담고 있다."
   ]
  },
  {
   "cell_type": "markdown",
   "metadata": {},
   "source": [
    "| 범주 | 1 | 2 | 3 | 4 | 5 |\n",
    "| :---: | :---: | :---: | :---: | :---: | :---: |\n",
    "| 실제 중위소득 | 7,500 | 22,500 | 37,500 | 52,500 | 67,500 |"
   ]
  },
  {
   "cell_type": "markdown",
   "metadata": {},
   "source": [
    "확률 분포는 `f_income()` 함수와 동일하기에\n",
    "임의로 선택된 구역의 실제 중위소득에 대한 기댓값은 다음과 같이 계산된다."
   ]
  },
  {
   "cell_type": "code",
   "execution_count": 66,
   "metadata": {},
   "outputs": [
    {
     "name": "stdout",
     "output_type": "stream",
     "text": [
      "중위소득 기댓값: 36,531.78 달러\n"
     ]
    }
   ],
   "source": [
    "mu_transformed = np.sum([(15000 * x - 7500) * f_income(x) for x in range(1, 6)])\n",
    "print(f\"중위소득 기댓값: {mu_transformed:,.2f} 달러\")"
   ]
  },
  {
   "cell_type": "markdown",
   "metadata": {},
   "source": [
    "아래 코드는 임의로 선택된 10만 개 구역의 중위소득에 대해 100개씩 누적된 평균값은\n",
    "바로 앞서 계산된 `mu_transformed`에 수렴함을 보여준다."
   ]
  },
  {
   "cell_type": "code",
   "execution_count": 25,
   "metadata": {},
   "outputs": [
    {
     "data": {
      "image/png": "[encoded data removed]",
      "text/plain": [
       "<Figure size 600x400 with 1 Axes>"
      ]
     },
     "metadata": {},
     "output_type": "display_data"
    }
   ],
   "source": [
    "np.random.seed(0)\n",
    "\n",
    "fig = plt.figure(figsize=(6,4 ))\n",
    "ax = fig.add_subplot(111)\n",
    "\n",
    "# 총 10만번 실제 중위소득 선택\n",
    "size = 100_001\n",
    "income100k_transformed = np.random.choice(range(1, 6), size, p=prob_income) * 15000 - 7500\n",
    "\n",
    "# 100번 던질 때마다 누적 평균값 계산\n",
    "income_means_transformed = [income100k_transformed[:step].mean() for step in range(100, size, 100)]\n",
    "plt.plot(range(100, size, 100), income_means_transformed)\n",
    "\n",
    "# 평균값들의 기댓값\n",
    "plt.hlines(mu_transformed, 100, size, color='red')\n",
    "\n",
    "plt.show()"
   ]
  },
  {
   "cell_type": "markdown",
   "metadata": {},
   "source": [
    "표준편차 또한 동일하게 계산된다."
   ]
  },
  {
   "cell_type": "code",
   "execution_count": 68,
   "metadata": {},
   "outputs": [
    {
     "name": "stdout",
     "output_type": "stream",
     "text": [
      "중위소득 분    산: 229,219,550.03 달러\n",
      "중위소득 표준편차:      15,140.00 달러\n"
     ]
    }
   ],
   "source": [
    "V_transformed = np.sum([(15000 * x - 7500 - mu_transformed)**2 * f_income(x) for x in range(1, 6)])\n",
    "sigma_transformed = np.sqrt(V_transformed)\n",
    "print(f\"중위소득 분    산: {V_transformed:14,.2f} 달러\")\n",
    "print(f\"중위소득 표준편차: {sigma_transformed:14,.2f} 달러\")"
   ]
  },
  {
   "cell_type": "markdown",
   "metadata": {},
   "source": [
    "## 연속 확률 변수의 기댓값과 분산"
   ]
  },
  {
   "cell_type": "markdown",
   "metadata": {},
   "source": [
    "연속형 확률 변수 $X$에 대한 기댓값, 분산, 선형 변환은\n",
    "이산 확률 변수의 경우와 사실상 동일하다.\n",
    "다만 유한 개수의 합 $\\sum$이 적분 기호 $\\int$로 대체되고\n",
    "확률 질량 함수 대신에 확률 밀도 함수가 사용될 뿐이다."
   ]
  },
  {
   "cell_type": "markdown",
   "metadata": {},
   "source": [
    "### 기댓값, 분산, 선형 변환"
   ]
  },
  {
   "cell_type": "markdown",
   "metadata": {},
   "source": [
    "**기댓값**"
   ]
  },
  {
   "cell_type": "markdown",
   "metadata": {},
   "source": [
    "연속형 확률 변수 $X$에 대한 기댓값 $E[X]$는 다음과 같이 정의된다.\n",
    "단, $f$는 확률 변수 $X$의 확률 밀도 함수다."
   ]
  },
  {
   "cell_type": "markdown",
   "metadata": {},
   "source": [
    "$$\n",
    "E[X] = \\int_{-\\infty}^{\\infty} x\\, f(x)\\; dx\n",
    "$$"
   ]
  },
  {
   "cell_type": "markdown",
   "metadata": {},
   "source": [
    "**분산**"
   ]
  },
  {
   "cell_type": "markdown",
   "metadata": {},
   "source": [
    "연속형 확률 변수 $X$에 대한 분산 $V(X)$는 다음과 같이 정의된다.\n",
    "단, $\\mu_X$는 확률 변수 $X$의 기댓값이다."
   ]
  },
  {
   "cell_type": "markdown",
   "metadata": {},
   "source": [
    "$$\n",
    "V(X) = E[(X - \\mu_X)^2] = \\int_{-\\infty}^{\\infty} (x -\\mu_X)^2 \\, f(x) \\; dx\n",
    "$$"
   ]
  },
  {
   "cell_type": "markdown",
   "metadata": {},
   "source": [
    "**확률 변수 선형 변환**"
   ]
  },
  {
   "cell_type": "markdown",
   "metadata": {},
   "source": [
    "연속 확률 변수에 대해서도 동일한 선형 변환 공식이 성립한다.\n",
    "다음 확률 변수 $Y$는 확률 변수 $X$를 선형 변환한 결과이며 서로 동일한 확률 분포를 따른다.\n",
    "\n",
    "$$\n",
    "Y = a\\, X + b\n",
    "$$"
   ]
  },
  {
   "cell_type": "markdown",
   "metadata": {},
   "source": [
    "확률 변수 $Y$의 기댓값, 분산, 표준편차를 구하는 공식도 이산 확률 변수의 경우와 동일하다."
   ]
  },
  {
   "cell_type": "markdown",
   "metadata": {},
   "source": [
    "$$\n",
    "\\begin{align*}\n",
    "E[Y] &= a \\,E[X] + b \\\\[1ex]\n",
    "V(Y) &= a^2 \\, V(X) \\\\[1ex]\n",
    "\\sigma_Y &= |a|\\, \\sigma_X\n",
    "\\end{align*}\n",
    "$$"
   ]
  },
  {
   "cell_type": "markdown",
   "metadata": {},
   "source": [
    "### 예제: 캘리포니아 구역별 중위소득 확률 분포"
   ]
  },
  {
   "cell_type": "markdown",
   "metadata": {},
   "source": [
    "{numref}`%s장 <ch:probability-continuous>`에서\n",
    "캘리포니아 주택가격 데이터셋의 중위소득 데이터를 활용하여\n",
    "연속 확률 변수에 대한 기댓값, 분산, 선형 변환 결과를 계산한다."
   ]
  },
  {
   "cell_type": "markdown",
   "metadata": {},
   "source": [
    "아래 코드는 캘리포니아 주택가격 데이터셋을 불러온 후에 중위주택가격이 \n",
    "50만을 초과하는 경우는 삭제하고 인덱스를 초기화한다. \n",
    "최종적으로 중위소득 특성만 남긴다."
   ]
  },
  {
   "cell_type": "code",
   "execution_count": 77,
   "metadata": {},
   "outputs": [
    {
     "data": {
      "text/plain": [
       "district\n",
       "0        8.3252\n",
       "1        8.3014\n",
       "2        7.2574\n",
       "3        5.6431\n",
       "4        3.8462\n",
       "          ...  \n",
       "19670    1.5603\n",
       "19671    2.5568\n",
       "19672    1.7000\n",
       "19673    1.8672\n",
       "19674    2.3886\n",
       "Name: median_income, Length: 19675, dtype: float64"
      ]
     },
     "execution_count": 77,
     "metadata": {},
     "output_type": "execute_result"
    }
   ],
   "source": [
    "housing = pd.read_csv(data_url+\"california_housing.csv\")\n",
    "\n",
    "# 중위주택가격이 50만1달러 이상인 구역 삭제\n",
    "house_value_max = housing['median_house_value'].max() # 500,001\n",
    "mask = housing['median_house_value'] >= house_value_max\n",
    "housing = housing[~mask]\n",
    "\n",
    "# 인덱스 초기화\n",
    "housing = housing.reset_index(drop=True)\n",
    "\n",
    "# 중위소득 특성만 선택\n",
    "housing = housing.loc[:, 'median_income']\n",
    "housing.index.name = 'district'\n",
    "housing"
   ]
  },
  {
   "cell_type": "markdown",
   "metadata": {},
   "source": [
    "아래 코드는 통계 함수를 제공하는 `scipy.stats` 모듈의 `gaussian_kde()` 함수를\n",
    "이용하여 중위소득 데이터에 대한 확률 밀도 함수를 구한다."
   ]
  },
  {
   "cell_type": "code",
   "execution_count": 117,
   "metadata": {},
   "outputs": [],
   "source": [
    "import scipy.stats\n",
    "\n",
    "f_income = scipy.stats.gaussian_kde(housing, bw_method=.19)"
   ]
  },
  {
   "cell_type": "markdown",
   "metadata": {},
   "source": [
    "아래 코드는 확률 밀도 함수의 그래프를 그린다."
   ]
  },
  {
   "cell_type": "code",
   "execution_count": 79,
   "metadata": {},
   "outputs": [
    {
     "data": {
      "image/png": "[encoded data removed]",
      "text/plain": [
       "<Figure size 640x480 with 1 Axes>"
      ]
     },
     "metadata": {},
     "output_type": "display_data"
    }
   ],
   "source": [
    "fig, ax = plt.subplots()\n",
    "\n",
    "xs = np.arange(-0.2, 15.7, 0.01)\n",
    "\n",
    "ax.plot(xs, f_income(xs), color='#ff7f0e')\n",
    "\n",
    "ax.set_ylim([0.0, 0.299])\n",
    "\n",
    "plt.show()"
   ]
  },
  {
   "cell_type": "markdown",
   "metadata": {},
   "source": [
    "**중위소득 기댓값**"
   ]
  },
  {
   "cell_type": "markdown",
   "metadata": {},
   "source": [
    "적분을 위해 `scipy.integrate` 모듈의 `quad()` 함수를 이용한다.\n",
    "그런데 적분을 프로그래밍으로 실행하는 일은 완전하지 않아 종종 오류나 경고가 발생하곤 한다.\n",
    "여기서는 엄밀한 계산이 중요하지 않기에 \n",
    "아래 코드를 이용하여 적분 과정에 발생하는 오류는 무시하도록 한다."
   ]
  },
  {
   "cell_type": "code",
   "execution_count": 126,
   "metadata": {},
   "outputs": [],
   "source": [
    "from scipy import integrate\n",
    "import warnings\n",
    "\n",
    "warnings.filterwarnings('ignore', category=integrate.IntegrationWarning)"
   ]
  },
  {
   "cell_type": "markdown",
   "metadata": {},
   "source": [
    "중위소득을 가리키는 확률 변수의 기댓값은 다음과 같다.\n",
    "적분 대상인 $x \\, f(x)$ 는 아래 람다 함수로 구현된다.\n",
    "\n",
    "```\n",
    "lambda x: x * f_income(x)\n",
    "```"
   ]
  },
  {
   "cell_type": "code",
   "execution_count": 132,
   "metadata": {},
   "outputs": [],
   "source": [
    "from scipy.integrate import quad\n",
    "\n",
    "E_X = quad(lambda x: x * f_income(x), -np.inf, np.inf)[0]"
   ]
  },
  {
   "cell_type": "code",
   "execution_count": 133,
   "metadata": {},
   "outputs": [
    {
     "name": "stdout",
     "output_type": "stream",
     "text": [
      "중위소득 기댓값: 3.676717\n"
     ]
    }
   ],
   "source": [
    "print(f\"중위소득 기댓값: {E_X:.6f}\")"
   ]
  },
  {
   "cell_type": "markdown",
   "metadata": {},
   "source": [
    "적분 결과에 1만을 곱하면 실제 중위소득이 확인된다."
   ]
  },
  {
   "cell_type": "code",
   "execution_count": 134,
   "metadata": {},
   "outputs": [
    {
     "name": "stdout",
     "output_type": "stream",
     "text": [
      "중위소득 기댓값: 36,767.17 달러\n"
     ]
    }
   ],
   "source": [
    "print(f\"중위소득 기댓값: {E_X * 10000:,.2f} 달러\")"
   ]
  },
  {
   "cell_type": "markdown",
   "metadata": {},
   "source": [
    "앞서 중위소득 범주에 1만5천을 곱한 후 7천5백을 뺀 이산 확률 분포의 기댓값과\n",
    "유사한 값이 계산되었다."
   ]
  },
  {
   "cell_type": "code",
   "execution_count": 154,
   "metadata": {},
   "outputs": [
    {
     "name": "stdout",
     "output_type": "stream",
     "text": [
      "선형 변환된 중위소득: 36,531.78\n"
     ]
    }
   ],
   "source": [
    "print(f\"선형 변환된 중위소득: {mu_transformed:,.2f}\")"
   ]
  },
  {
   "cell_type": "markdown",
   "metadata": {},
   "source": [
    "결론적으로 중위소득 범주에 대한 선형 변환이 적절했음이 확인된다."
   ]
  },
  {
   "cell_type": "markdown",
   "metadata": {},
   "source": [
    "**중위소득 분산**"
   ]
  },
  {
   "cell_type": "markdown",
   "metadata": {},
   "source": [
    "분산도 적분을 이용하여 계산해본다."
   ]
  },
  {
   "cell_type": "code",
   "execution_count": 136,
   "metadata": {},
   "outputs": [],
   "source": [
    "V_X = quad(lambda x: (x - E_X)**2 * f_income(x), -np.inf, np.inf)[0]"
   ]
  },
  {
   "cell_type": "code",
   "execution_count": 137,
   "metadata": {},
   "outputs": [
    {
     "name": "stdout",
     "output_type": "stream",
     "text": [
      "중위소득 분산: 2.554641\n"
     ]
    }
   ],
   "source": [
    "print(f\"중위소득 분산: {V_X:.6f}\")"
   ]
  },
  {
   "cell_type": "markdown",
   "metadata": {},
   "source": [
    "계산된 값에 1만의 제곱, 즉 10의 8승을 곱하면 앞서 \n",
    "이산 확률 변수에 선형 변환을 적용하여 계산된 분산과 유사한 값이 나온다."
   ]
  },
  {
   "cell_type": "markdown",
   "metadata": {},
   "source": [
    "- 이산 확률 변수 선형 변환 결과의 분산"
   ]
  },
  {
   "cell_type": "code",
   "execution_count": 155,
   "metadata": {},
   "outputs": [
    {
     "name": "stdout",
     "output_type": "stream",
     "text": [
      "선형 변환된 분산: 229,219,550.03\n"
     ]
    }
   ],
   "source": [
    "print(f\"선형 변환된 분산: {V_transformed:,.2f}\")"
   ]
  },
  {
   "cell_type": "markdown",
   "metadata": {},
   "source": [
    "- 중위소득 분산에 10의 8승 곱하기. 분산은 제곱을 사용하기에 10의 4승의 제곱을 곱해야 단위가 동일해짐."
   ]
  },
  {
   "cell_type": "code",
   "execution_count": 159,
   "metadata": {},
   "outputs": [
    {
     "name": "stdout",
     "output_type": "stream",
     "text": [
      "중위소득 분산 곱하기 10의8승: 255,464,128.57\n"
     ]
    }
   ],
   "source": [
    "print(f\"중위소득 분산 곱하기 10의8승: {V_X * 1.0e8:,.2f}\")"
   ]
  },
  {
   "cell_type": "markdown",
   "metadata": {},
   "source": [
    "**중위소득 표준편차**"
   ]
  },
  {
   "cell_type": "markdown",
   "metadata": {},
   "source": [
    "각각의 값에 루트 함수를 적용하여 각각의 표준편차를 계산해도 유사하게 계산된다."
   ]
  },
  {
   "cell_type": "code",
   "execution_count": 163,
   "metadata": {},
   "outputs": [],
   "source": [
    "sigma_X = np.sqrt(V_X)"
   ]
  },
  {
   "cell_type": "code",
   "execution_count": 164,
   "metadata": {},
   "outputs": [
    {
     "name": "stdout",
     "output_type": "stream",
     "text": [
      "중위소득 분산: 1.598325\n"
     ]
    }
   ],
   "source": [
    "print(f\"중위소득 분산: {sigma_X:.6f}\")"
   ]
  },
  {
   "cell_type": "markdown",
   "metadata": {},
   "source": [
    "- 이산 확률 변수 선형 변환 결과의 표준편차"
   ]
  },
  {
   "cell_type": "code",
   "execution_count": 158,
   "metadata": {},
   "outputs": [
    {
     "name": "stdout",
     "output_type": "stream",
     "text": [
      "선형 변환된 표준편차: 15,140.00\n"
     ]
    }
   ],
   "source": [
    "print(f\"선형 변환된 표준편차: {sigma_transformed:,.2f}\")"
   ]
  },
  {
   "cell_type": "markdown",
   "metadata": {},
   "source": [
    "- 중위소득 표준편차에 1만 곱하기."
   ]
  },
  {
   "cell_type": "code",
   "execution_count": 160,
   "metadata": {},
   "outputs": [
    {
     "name": "stdout",
     "output_type": "stream",
     "text": [
      "중위소득 표준편차 곱하기 1만: 15,983.25\n"
     ]
    }
   ],
   "source": [
    "print(f\"중위소득 표준편차 곱하기 1만: {np.sqrt(V_X) * 1.0e4:,.2f}\")"
   ]
  },
  {
   "cell_type": "markdown",
   "metadata": {},
   "source": [
    "**선형 변환**"
   ]
  },
  {
   "cell_type": "markdown",
   "metadata": {},
   "source": [
    "실제 중위소득을 가리키는 확률 변수 $Y$는 확률 변수 $X$에 1만을 구해 얻어진다."
   ]
  },
  {
   "cell_type": "markdown",
   "metadata": {},
   "source": [
    "$$\n",
    "Y = 10000  X\n",
    "$$"
   ]
  },
  {
   "cell_type": "markdown",
   "metadata": {},
   "source": [
    "아래 코드는 확률 변수 $Y$가 가리키는 실제 데이터셋 `income_real`을 선언한다."
   ]
  },
  {
   "cell_type": "code",
   "execution_count": 116,
   "metadata": {},
   "outputs": [],
   "source": [
    "income_real = housing * 10000"
   ]
  },
  {
   "cell_type": "markdown",
   "metadata": {},
   "source": [
    "- 확률 변수 $Y$에 대한 확률 밀도 함수"
   ]
  },
  {
   "cell_type": "code",
   "execution_count": 119,
   "metadata": {},
   "outputs": [],
   "source": [
    "f_real = scipy.stats.gaussian_kde(income_real, bw_method=.19)"
   ]
  },
  {
   "cell_type": "markdown",
   "metadata": {},
   "source": [
    "- 확률 변수 $Y$에 대한 기댓값"
   ]
  },
  {
   "cell_type": "code",
   "execution_count": 146,
   "metadata": {},
   "outputs": [],
   "source": [
    "E_real = quad(lambda x: x * f_real(x), -np.inf, np.inf)[0]"
   ]
  },
  {
   "cell_type": "code",
   "execution_count": 148,
   "metadata": {},
   "outputs": [
    {
     "name": "stdout",
     "output_type": "stream",
     "text": [
      "실제 중위소득 기댓값: 37545.065231\n"
     ]
    }
   ],
   "source": [
    "print(f\"실제 중위소득 기댓값: {E_real:.6f}\")"
   ]
  },
  {
   "cell_type": "markdown",
   "metadata": {},
   "source": [
    "- 확률 변수 $Y$에 대한 분산"
   ]
  },
  {
   "cell_type": "code",
   "execution_count": 149,
   "metadata": {},
   "outputs": [],
   "source": [
    "V_real = quad(lambda x: (x - E_real)**2 * f_real(x), -np.inf, np.inf)[0]"
   ]
  },
  {
   "cell_type": "code",
   "execution_count": 151,
   "metadata": {},
   "outputs": [
    {
     "name": "stdout",
     "output_type": "stream",
     "text": [
      "실제 중위소득 분산: 274748943.704969\n"
     ]
    }
   ],
   "source": [
    "print(f\"실제 중위소득 분산: {V_real:.6f}\")"
   ]
  },
  {
   "cell_type": "markdown",
   "metadata": {},
   "source": [
    "- 확률 변수 $Y$에 대한 표준편차"
   ]
  },
  {
   "cell_type": "code",
   "execution_count": 161,
   "metadata": {},
   "outputs": [],
   "source": [
    "sigma_real = np.sqrt(V_real)"
   ]
  },
  {
   "cell_type": "code",
   "execution_count": 162,
   "metadata": {},
   "outputs": [
    {
     "name": "stdout",
     "output_type": "stream",
     "text": [
      "실제 중위소득 표준편차: 16575.552591\n"
     ]
    }
   ],
   "source": [
    "print(f\"실제 중위소득 표준편차: {sigma_real:.6f}\")"
   ]
  },
  {
   "cell_type": "markdown",
   "metadata": {},
   "source": [
    "**결론**"
   ]
  },
  {
   "cell_type": "markdown",
   "metadata": {},
   "source": [
    "`E_real`, `V_real`, `sigma_real` 결과가 `1.0e4 * E_X`, `1.0e8 * V_X`, `1.0e4 * sigma_X`와\n",
    "차이가 많이 난다.\n",
    "이유는 부동소수점에 대한 적분이 제대로 지원되지 않은 것으로 추정된다.\n",
    "여기서는 엄밀한 계산이 아닌 연속 확률 변수에 대한 기댓값, 분산, 표준편차 계산 방식에 대한\n",
    "이해가 중요하기에 더 이상 적분에 대해서는 언급하지 않는다."
   ]
  },
  {
   "cell_type": "markdown",
   "metadata": {},
   "source": [
    "## 연습문제"
   ]
  },
  {
   "cell_type": "markdown",
   "metadata": {},
   "source": [
    "참고: [(연습) 기댓값과 분산](https://colab.research.google.com/github/codingalzi/DataSci/blob/master/practices/practice-expected_values.ipynb)"
   ]
  }
 ],
 "metadata": {
  "kernelspec": {
   "display_name": "Python 3 (ipykernel)",
   "language": "python",
   "name": "python3"
  },
  "language_info": {
   "codemirror_mode": {
    "name": "ipython",
    "version": 3
   },
   "file_extension": ".py",
   "mimetype": "text/x-python",
   "name": "python",
   "nbconvert_exporter": "python",
   "pygments_lexer": "ipython3",
   "version": "3.12.2"
  },
  "toc": {
   "nav_menu": {},
   "number_sections": true,
   "sideBar": true,
   "skip_h1_title": false,
   "toc_cell": false,
   "toc_position": {},
   "toc_section_display": "block",
   "toc_window_display": false
  }
 },
 "nbformat": 4,
 "nbformat_minor": 2
}