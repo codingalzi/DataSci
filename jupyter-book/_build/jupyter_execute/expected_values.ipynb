{
 "cells": [
  {
   "cell_type": "markdown",
   "metadata": {
    "ExecuteTime": {
     "end_time": "2018-03-06T03:37:40.696920Z",
     "start_time": "2018-03-06T03:37:40.690655Z"
    }
   },
   "source": [
    "(ch:expectation-variance)=\n",
    "# 기댓값과 분산"
   ]
  },
  {
   "cell_type": "markdown",
   "metadata": {},
   "source": [
    "**기본 설정**"
   ]
  },
  {
   "cell_type": "markdown",
   "metadata": {
    "ExecuteTime": {
     "end_time": "2018-08-03T08:26:15.690793Z",
     "start_time": "2018-08-03T08:26:15.507201Z"
    }
   },
   "source": [
    "`numpy`와 `pandas` 라이브러리를 각각 `np`와 `pd`로 불러온다."
   ]
  },
  {
   "cell_type": "code",
   "execution_count": 1,
   "metadata": {
    "ExecuteTime": {
     "end_time": "2018-08-14T06:43:30.149227Z",
     "start_time": "2018-08-14T06:43:29.960007Z"
    }
   },
   "outputs": [],
   "source": [
    "import numpy as np\n",
    "import pandas as pd"
   ]
  },
  {
   "cell_type": "markdown",
   "metadata": {},
   "source": [
    "데이터프레임의 [chained indexing을 금지시키기 위한 설정](https://pandas.pydata.org/pandas-docs/stable/user_guide/indexing.html#returning-a-view-versus-a-copy)을 지정한다.\n",
    "Pandas 3.0 버전부터는 기본 옵션으로 지정된다."
   ]
  },
  {
   "cell_type": "code",
   "execution_count": 2,
   "metadata": {},
   "outputs": [],
   "source": [
    "pd.options.mode.copy_on_write = True"
   ]
  },
  {
   "cell_type": "markdown",
   "metadata": {
    "ExecuteTime": {
     "end_time": "2018-08-14T06:43:30.149227Z",
     "start_time": "2018-08-14T06:43:29.960007Z"
    }
   },
   "source": [
    "주피터 노트북에서 부동소수점의 출력을 소수점 이하 6자리로 제한한다.\n",
    "아래 코드는 주피터 노트북에서만 사용하며 일반적인 파이썬 코드가 아니다."
   ]
  },
  {
   "cell_type": "code",
   "execution_count": 3,
   "metadata": {
    "ExecuteTime": {
     "end_time": "2018-08-14T06:43:30.149227Z",
     "start_time": "2018-08-14T06:43:29.960007Z"
    }
   },
   "outputs": [
    {
     "data": {
      "text/plain": [
       "'%.6f'"
      ]
     },
     "execution_count": 3,
     "metadata": {},
     "output_type": "execute_result"
    }
   ],
   "source": [
    "%precision 6"
   ]
  },
  {
   "cell_type": "markdown",
   "metadata": {
    "ExecuteTime": {
     "end_time": "2018-08-14T06:43:30.149227Z",
     "start_time": "2018-08-14T06:43:29.960007Z"
    }
   },
   "source": [
    "아래 코드는 데이터프레임 내에서 부동소수점의 출력을 소수점 이하 6자리로 제한한다."
   ]
  },
  {
   "cell_type": "code",
   "execution_count": 4,
   "metadata": {
    "ExecuteTime": {
     "end_time": "2018-08-14T06:43:30.149227Z",
     "start_time": "2018-08-14T06:43:29.960007Z"
    }
   },
   "outputs": [],
   "source": [
    "pd.set_option('display.precision', 6)"
   ]
  },
  {
   "cell_type": "markdown",
   "metadata": {},
   "source": [
    "데이터 시각화를 위해 `matplotlib.pyplot`를 `plt`로,\n",
    "`seaborn`을 `sns`로 불러온다.\n",
    "`seaborn` 라이브러리는 통계 관련 데이터의 정보를 보다 세련되고 정확하게 전달하는 그래프를 그리는 도구를 제공한다.\n",
    "`matplotlib` 라이브러리를 바탕으로 만들어져서 함께 사용해도 된다."
   ]
  },
  {
   "cell_type": "code",
   "execution_count": 5,
   "metadata": {},
   "outputs": [],
   "source": [
    "import matplotlib.pyplot as plt\n",
    "import seaborn as sns"
   ]
  },
  {
   "cell_type": "markdown",
   "metadata": {},
   "source": [
    "그래프 스타일을 `seaborn`에서 제공하는 `white` 스타일로 지정한다."
   ]
  },
  {
   "cell_type": "code",
   "execution_count": 6,
   "metadata": {},
   "outputs": [],
   "source": [
    "sns.set_style(\"white\")"
   ]
  },
  {
   "cell_type": "markdown",
   "metadata": {},
   "source": [
    "**데이터 저장소 디렉토리**"
   ]
  },
  {
   "cell_type": "markdown",
   "metadata": {},
   "source": [
    "코드에 사용되는 [데이터 저장소의 기본 디렉토리](https://github.com/codingalzi/DataSci/tree/master/data)를 지정한다."
   ]
  },
  {
   "cell_type": "code",
   "execution_count": 7,
   "metadata": {},
   "outputs": [],
   "source": [
    "data_url = 'https://raw.githubusercontent.com/codingalzi/DataSci/refs/heads/master/data/'"
   ]
  },
  {
   "cell_type": "markdown",
   "metadata": {},
   "source": [
    "**주요 내용**"
   ]
  },
  {
   "cell_type": "markdown",
   "metadata": {},
   "source": [
    "확률 변수가 취할 수 있는 값들의 평균값인 기댓값과 분산을 소개한다.\n",
    "\n",
    "- 확률 변수의 기댓값\n",
    "- 확률 변수의 분산"
   ]
  },
  {
   "cell_type": "markdown",
   "metadata": {},
   "source": [
    "## 이산 확률 변수의 기댓값과 분산"
   ]
  },
  {
   "cell_type": "markdown",
   "metadata": {},
   "source": [
    "### 기댓값과 평균값"
   ]
  },
  {
   "cell_type": "markdown",
   "metadata": {},
   "source": [
    "데이터셋의 중심역할을 하는 대표하는 값으로 {numref}`%s장 <ch:oneD-data>`에서 소개된 평균값은\n",
    "확률 분포를 고려하지 않고 단순하게 주어진 값들만 이용하여 정의된다."
   ]
  },
  {
   "cell_type": "markdown",
   "metadata": {},
   "source": [
    "**평균값**"
   ]
  },
  {
   "cell_type": "markdown",
   "metadata": {},
   "source": [
    "평균값은 데이터를 모두 더한 다음 데이터의 개수로 나눈다.\n",
    "\n",
    "$$\n",
    "\\bar x = \\frac 1 n \\sum_{i=1}^{n} x_i = \\frac 1 n (x_1 + x_2 + \\cdots + x_n)\n",
    "$$"
   ]
  },
  {
   "cell_type": "markdown",
   "metadata": {},
   "source": [
    "예를 들어 1부터 6까지의 정수로 구성된 데이터셋의 평균값은 1부터 6까지 더합 값인 21을 6으로 나눈 3.5다."
   ]
  },
  {
   "cell_type": "code",
   "execution_count": 8,
   "metadata": {},
   "outputs": [
    {
     "data": {
      "text/plain": [
       "3.500000"
      ]
     },
     "execution_count": 8,
     "metadata": {},
     "output_type": "execute_result"
    }
   ],
   "source": [
    "sum(range(1, 7)) / 6"
   ]
  },
  {
   "cell_type": "markdown",
   "metadata": {},
   "source": [
    "**공정한 주사위 던지기의 기댓값**"
   ]
  },
  {
   "cell_type": "markdown",
   "metadata": {},
   "source": [
    "데이터셋을 확률 변수가 취할 수 있는 값들의 집합으로 볼 때는\n",
    "확률 분포를, 즉 각각의 값이 발생할 확률을 함께 고려하면서\n",
    "데이터들의 중심을 정의해야 한다.\n",
    "\n",
    "예를 들어 주사위를 던졌을 때 나오는 값들의 평균값을 계산해보자.\n",
    "주사위를 던지면 1부터 6 사이의 정수 하나가 나오기에 \n",
    "나온 값들의 평균값이 1부터 6까지의 정수의 평균값인 3.5가 값이 나올 것으로 기대한다.\n",
    "아래 코드는 주사위 던지기를 반복해서 던지면 나온 값들의 평균값이 \n",
    "실제로 3.5에 수렴함을 보여준다.\n",
    "\n",
    "코드는 아래 내용을 구현한다.\n",
    "\n",
    "- `np.random.choice()` 함수를 이용항 주사위 총 10만 번 던지기 구현\n",
    "- 100번씩 끊어서 그때까지 나온 값들을 대상으로 누적 평균값 계산"
   ]
  },
  {
   "cell_type": "code",
   "execution_count": 9,
   "metadata": {},
   "outputs": [
    {
     "data": {
      "image/png": "[encoded data removed]",
      "text/plain": [
       "<Figure size 600x400 with 1 Axes>"
      ]
     },
     "metadata": {},
     "output_type": "display_data"
    }
   ],
   "source": [
    "np.random.seed(100)\n",
    "\n",
    "fig = plt.figure(figsize=(6,4 ))\n",
    "ax = fig.add_subplot(111)\n",
    "\n",
    "# 총 10만번 주사위 던지기\n",
    "size = 100_001\n",
    "cubic100k = np.random.choice(range(1, 7), size)\n",
    "\n",
    "# 100번 던질 때마다 누적 평균값 계산\n",
    "cubic_means = [cubic100k[:step].mean() for step in range(100, size, 100)]\n",
    "plt.plot(range(100, size, 100), cubic_means)\n",
    "\n",
    "# 평균값들의 기댓값\n",
    "mu_fair = 3.5\n",
    "plt.hlines(mu_fair, 100, size, color='red')\n",
    "\n",
    "plt.show()"
   ]
  },
  {
   "cell_type": "markdown",
   "metadata": {},
   "source": [
    "위 결과만 보면 확률 분포를 고려할 때와 그렇지 않을 때의 결과가 동일해 보인다.\n",
    "하지만 이는 정상적인 주사위를 사용한다는 전제가 있었기에 가능했다.\n",
    "실제로 `np.random.choice()` 함수를 이용하여 1부터 6 사이의 정수를 \n",
    "다음과 같은 균등 분포에 따라 임의로 선택하였다."
   ]
  },
  {
   "cell_type": "markdown",
   "metadata": {},
   "source": [
    "| X | 1 | 2 | 3 | 4 | 5 | 6|\n",
    "| :---: | :---: | :---: | :---: | :---: | :---: | :---: |\n",
    "| 확률 | 1/6 | 1/6 | 1/6 | 1/6 | 1/6 | 1/6 |"
   ]
  },
  {
   "cell_type": "markdown",
   "metadata": {},
   "source": [
    "**불공정한 주사위 던지기의 기댓값**"
   ]
  },
  {
   "cell_type": "markdown",
   "metadata": {},
   "source": [
    "불공정한 주사위를 사용하는 경우에는 실행 결과의 평균값이 다르게 나올 수 있다.\n",
    "예를 들어 다음과 같이 높은 숫자일 수록 나올 확률이 높아진다고 가정하자."
   ]
  },
  {
   "cell_type": "markdown",
   "metadata": {},
   "source": [
    "| X | 1 | 2 | 3 | 4 | 5 | 6|\n",
    "| :---: | :---: | :---: | :---: | :---: | :---: | :---: |\n",
    "| 확률 | 1/21 | 2/21 | 3/21 | 4/21 | 5/21 | 6/21 |"
   ]
  },
  {
   "cell_type": "markdown",
   "metadata": {},
   "source": [
    "아래 코드는 불공정한 주사위를 던졌을 때 나오는 값을 가리키는 \n",
    "확률 변수 $X$의 확률 질량 함수와 확률 분포를 정의한다."
   ]
  },
  {
   "cell_type": "markdown",
   "metadata": {},
   "source": [
    "- 불공정한 주사위 던지기의 확률 질량 함수"
   ]
  },
  {
   "cell_type": "code",
   "execution_count": 10,
   "metadata": {},
   "outputs": [],
   "source": [
    "def f_unfair(x):\n",
    "    return x/21"
   ]
  },
  {
   "cell_type": "markdown",
   "metadata": {},
   "source": [
    "- 불공정한 주사위 던지기의 확률 분포 지정"
   ]
  },
  {
   "cell_type": "code",
   "execution_count": 11,
   "metadata": {},
   "outputs": [],
   "source": [
    "prob_X = [f_unfair(x) for x in range(1, 7)]"
   ]
  },
  {
   "cell_type": "markdown",
   "metadata": {},
   "source": [
    "아래 코드는 위 확률 분포를 이용하여 동일한 모의실험을 진행한다.\n",
    "`np.random.choice()` 함수를 호출할 때 `p=prob_X` 키워드 인자를 지정하면\n",
    "언급된 확률 분포를 따르면서 1부터 6 사이의 정수를 10만 개 선택한다.\n",
    "생성된 그래프에서 빨간 직선은 불공정한 주사위를 반복해서 던질 때 나온 값들의 평균값을 가리킨다."
   ]
  },
  {
   "cell_type": "code",
   "execution_count": 12,
   "metadata": {},
   "outputs": [
    {
     "data": {
      "image/png": "[encoded data removed]",
      "text/plain": [
       "<Figure size 600x400 with 1 Axes>"
      ]
     },
     "metadata": {},
     "output_type": "display_data"
    }
   ],
   "source": [
    "np.random.seed(100)\n",
    "\n",
    "fig = plt.figure(figsize=(6,4 ))\n",
    "ax = fig.add_subplot(111)\n",
    "\n",
    "# 총 10만번 불공정한 주사위 던지기\n",
    "size = 100_001\n",
    "cubic100k = np.random.choice(range(1, 7), size, p=prob_X)\n",
    "\n",
    "# 100번 던질 때마다 누적 평균값 계산\n",
    "cubic_means = [cubic100k[:step].mean() for step in range(100, size, 100)]\n",
    "plt.plot(range(100, size, 100), cubic_means)\n",
    "\n",
    "# 평균값들의 기댓값\n",
    "mu_unfair = np.sum([x * f_unfair(x) for x in range(1, 7)])\n",
    "plt.hlines(mu_unfair, 100, size, color='red')\n",
    "\n",
    "plt.show()"
   ]
  },
  {
   "cell_type": "markdown",
   "metadata": {},
   "source": [
    "**확률 변수의 기댓값**"
   ]
  },
  {
   "cell_type": "markdown",
   "metadata": {},
   "source": [
    "이산 확률 변수 $X$ 가 취할 수 있는 값들의 평균값을 **기댓값**<font size='2'>expectation value</font>이라 부른다.\n",
    "확률 변수의 기댓값은 $E[X]$로 표기하며 다음과 같이 정의된다.\n",
    "아래 식에서 함수 $f$는 확률 질량 함수를, $N$은 데이터들의 개수를 가리킨다.\n",
    "\n",
    "$$\n",
    "E[X] = x_1 \\, f(x_1) + \\cdots + x_n \\, f(x_n) = \\sum_{k=1}^{n} x_i \\, f(x_i) \\\\[.5ex]\n",
    "$$"
   ]
  },
  {
   "cell_type": "markdown",
   "metadata": {},
   "source": [
    "위 식에 따르면 불공정한 주사위를 많이 던졌을 때 나올 수 있는 값들의 평균값은 4.33 정도다.\n",
    "\n",
    "$$\n",
    "1\\, \\frac{1}{12} + 2 \\, \\frac{2}{12} + 3 \\, \\frac{3}{12} + 4\\, \\frac{4}{12} + 5\\, \\frac{5}{12} + 6 \\, \\frac{6}{12} = 4.333333\n",
    "$$"
   ]
  },
  {
   "cell_type": "markdown",
   "metadata": {},
   "source": [
    "아래 코드가 이를 확인해준다."
   ]
  },
  {
   "cell_type": "code",
   "execution_count": 13,
   "metadata": {},
   "outputs": [
    {
     "data": {
      "text/plain": [
       "4.333333"
      ]
     },
     "execution_count": 13,
     "metadata": {},
     "output_type": "execute_result"
    }
   ],
   "source": [
    "mu_unfair = np.sum([x * f_unfair(x) for x in range(1, 7)])\n",
    "mu_unfair"
   ]
  },
  {
   "cell_type": "markdown",
   "metadata": {},
   "source": [
    "반면에 정상적인 주사위를 사용한 경우에는 앞서 기댓값이 3.5로 계산된다.\n",
    "\n",
    "$$\n",
    "1\\, \\frac{1}{6} + 2 \\, \\frac{1}{6} + 3 \\, \\frac{1}{6} + 4\\, \\frac{1}{6} + 5\\, \\frac{1}{6} + 6 \\, \\frac{1}{6} = 3.5\n",
    "$$"
   ]
  },
  {
   "cell_type": "code",
   "execution_count": 14,
   "metadata": {},
   "outputs": [
    {
     "data": {
      "text/plain": [
       "3.500000"
      ]
     },
     "execution_count": 14,
     "metadata": {},
     "output_type": "execute_result"
    }
   ],
   "source": [
    "mu_fair = np.sum([x * 1/6 for x in range(1, 7)])\n",
    "mu_fair"
   ]
  },
  {
   "cell_type": "markdown",
   "metadata": {},
   "source": [
    "결론적으로 확률 변수가 취할 수 있는 값이 동일하더라도\n",
    "기댓값은 확률 변수가 따르는 확률 분포에 따라 다르게 계산된다."
   ]
  },
  {
   "cell_type": "markdown",
   "metadata": {},
   "source": [
    "**평균값과 균등 분포**"
   ]
  },
  {
   "cell_type": "markdown",
   "metadata": {},
   "source": [
    "사실 평균값은 모든 데이터에 대한 선택 가능성이 동일하다는, \n",
    "즉 균등 분포를 따른다는 전제하에 계산된 기댓값이다.\n",
    "데이터셋의 크기가 $n$일 때 확률 변수가 임의의 값을 취할 확률은 항상 1/n이고,\n",
    "따라서 기댓값과 평균값이 동일하게 계산된다.\n",
    "\n",
    "$$\n",
    "\\begin{align*}\n",
    "E[X] &= x_1\\, \\frac 1 n + \\cdots + x_n\\, \\frac 1 n \\\\\n",
    " &= (x_1 + x_2 + \\cdots + x_n) \\, \\frac 1 n \\\\\n",
    " &= \\bar x\n",
    "\\end{align*}\n",
    "$$\n",
    "\n",
    "예를 들어, 정상적인 주사위의 경우 모든 숫자가 나올 확률이 균등하게 1/6이다.\n",
    "따라서 단순한 숫자로서의 평균값과 주사위 던지기의 확률 변수에 대한 기댓값\n",
    "모두 3.5로 계산된다.\n",
    "\n",
    "$$\n",
    "1\\, \\frac 1 6 + 2 \\, \\frac 1 6 + \\cdots + 6 \\, \\frac 1 6 = \\frac{1 + 2 + 3 + 4 + 5 + 6}{6} = 3.5\n",
    "$$"
   ]
  },
  {
   "cell_type": "markdown",
   "metadata": {},
   "source": [
    "### 분산"
   ]
  },
  {
   "cell_type": "markdown",
   "metadata": {},
   "source": [
    "확률 변수 $X$의 분산 $V(X)$은 \n",
    "확률 변수가 가질 수 있는 값들과 기댓값 사이의 오차의 제곱에 대한 기댓값으로 \n",
    "다음과 같이 정의된다.\n",
    "단, $\\mu_X$는 $E[X]$를 가리킨다."
   ]
  },
  {
   "cell_type": "markdown",
   "metadata": {},
   "source": [
    "$$\n",
    "V(X) = E[(X - \\mu_X)^2] = \\sum_{i=1}^n (x_i -\\mu_X)^2 \\, f(x_i)\n",
    "$$"
   ]
  },
  {
   "cell_type": "markdown",
   "metadata": {},
   "source": [
    "분산 $V(X)$를 $\\sigma_X^2$로 표현하기도 한다. 그러면 $\\sigma_X$는 확률 변수 $X$의 표준편차를 나타낸다."
   ]
  },
  {
   "cell_type": "markdown",
   "metadata": {},
   "source": [
    "확률 변수의 분산은 확률 변수가 취하는 값들이 기댓값으로부터 얼마만큼 떨어져서 선택될 것인가에 대한 기댓값으로 이해될 수 있다."
   ]
  },
  {
   "cell_type": "markdown",
   "metadata": {},
   "source": [
    "앞서 언급된 불공정한 주사위의 확률 변수 $X$의 분산은 2.222222로 계산된다."
   ]
  },
  {
   "cell_type": "code",
   "execution_count": 15,
   "metadata": {},
   "outputs": [
    {
     "data": {
      "text/plain": [
       "2.222222"
      ]
     },
     "execution_count": 15,
     "metadata": {},
     "output_type": "execute_result"
    }
   ],
   "source": [
    "V_unfair = np.sum([(x - mu_unfair)**2 * f_unfair(x) for x in range(1, 7)])\n",
    "V_unfair"
   ]
  },
  {
   "cell_type": "markdown",
   "metadata": {},
   "source": [
    "표준편차는 1.49정도로 계산되며 이는 주사위를 던졌을 때 얻는 숫자가 기댓값 4.33에서\n",
    "평균적으로 약 1.5정도 차이가 날 것으로 기대할 수 있음을 의미한다."
   ]
  },
  {
   "cell_type": "code",
   "execution_count": 16,
   "metadata": {},
   "outputs": [
    {
     "data": {
      "text/plain": [
       "1.490712"
      ]
     },
     "execution_count": 16,
     "metadata": {},
     "output_type": "execute_result"
    }
   ],
   "source": [
    "sigma_unfair = np.sqrt(V_unfair)\n",
    "sigma_unfair"
   ]
  },
  {
   "cell_type": "markdown",
   "metadata": {},
   "source": [
    "**예제: 캘리포니아 주택가격 데이터셋 중위소득 구간**"
   ]
  },
  {
   "cell_type": "markdown",
   "metadata": {},
   "source": [
    "{numref}`%s장 <ch:probability>`에서 살펴 본대로 \n",
    "캘리포니아 주택가격 데이터셋에서 임의로 선택된 구역의 중위소득 범주를 가리키는 확률 변수 $X$의\n",
    "확률 분포는 다음과 같다.\n",
    "\n",
    "| X | 1 | 2 | 3 | 4 | 5 |\n",
    "| :---: | :---: | :---: | :---: | :---: | :---: |\n",
    "| 확률 | 0.041372 | 0.333011 | 0.361017 | 0.177993 | 0.086607 |"
   ]
  },
  {
   "cell_type": "markdown",
   "metadata": {},
   "source": [
    "따라서 임의로 선택된 구역의 중위소득 범주에 대한 기댓값과 분산은 다음과 같다."
   ]
  },
  {
   "cell_type": "markdown",
   "metadata": {},
   "source": [
    "- 중위소득 범주 확률 분포"
   ]
  },
  {
   "cell_type": "code",
   "execution_count": 17,
   "metadata": {},
   "outputs": [],
   "source": [
    "prob_income = [0.041372 , 0.333011 , 0.361017 , 0.177993 , 0.086607]"
   ]
  },
  {
   "cell_type": "markdown",
   "metadata": {},
   "source": [
    "- 중위소득 범주 분포의 확률 밀도 함수"
   ]
  },
  {
   "cell_type": "code",
   "execution_count": 18,
   "metadata": {},
   "outputs": [],
   "source": [
    "def f_income(x):\n",
    "    assert 1 <= x <= 5\n",
    "    return prob_income[x-1]"
   ]
  },
  {
   "cell_type": "markdown",
   "metadata": {},
   "source": [
    "* 중위소득 범주 확률 변수의 기댓값"
   ]
  },
  {
   "cell_type": "code",
   "execution_count": 19,
   "metadata": {},
   "outputs": [
    {
     "data": {
      "text/plain": [
       "2.935452"
      ]
     },
     "execution_count": 19,
     "metadata": {},
     "output_type": "execute_result"
    }
   ],
   "source": [
    "mu_income = np.sum([x * f_income(x) for x in range(1, 6)])\n",
    "mu_income"
   ]
  },
  {
   "cell_type": "markdown",
   "metadata": {},
   "source": [
    "* 중위소득 범주 확률 변수의 분산"
   ]
  },
  {
   "cell_type": "code",
   "execution_count": 20,
   "metadata": {},
   "outputs": [
    {
     "data": {
      "text/plain": [
       "1.018754"
      ]
     },
     "execution_count": 20,
     "metadata": {},
     "output_type": "execute_result"
    }
   ],
   "source": [
    "V_income = np.sum([(x - mu_income)**2 * f_income(x) for x in range(1, 6)])\n",
    "V_income"
   ]
  },
  {
   "cell_type": "markdown",
   "metadata": {},
   "source": [
    "* 중위소득 범주 확률 변수의 표준편차"
   ]
  },
  {
   "cell_type": "code",
   "execution_count": 21,
   "metadata": {},
   "outputs": [
    {
     "data": {
      "text/plain": [
       "1.009333"
      ]
     },
     "execution_count": 21,
     "metadata": {},
     "output_type": "execute_result"
    }
   ],
   "source": [
    "sigma_income = np.sqrt(V_income)\n",
    "sigma_income"
   ]
  },
  {
   "cell_type": "markdown",
   "metadata": {},
   "source": [
    "### 확률 변수 선형 변환"
   ]
  },
  {
   "cell_type": "markdown",
   "metadata": {},
   "source": [
    "확률 변수 $X$가 취할 수 있는 값에 상수 $a$를 곱한 다음에 상수 $b$를 더한 값을 가리키는 확률 변수 $Y$는 다음과 같이 정의된다.\n",
    "확률 변수 $Y$는 확률 변수 $X$를 선형 변환한 결과이며 서로 동일한 확률 분포를 따른다.\n",
    "\n",
    "$$\n",
    "Y = a\\, X + b\n",
    "$$"
   ]
  },
  {
   "cell_type": "markdown",
   "metadata": {},
   "source": [
    "확률 변수$Y$의 기댓값, 분산, 표준편차는 다음과 같으며 증명은 생략한다."
   ]
  },
  {
   "cell_type": "markdown",
   "metadata": {},
   "source": [
    "$$\n",
    "\\begin{align*}\n",
    "E[Y] &= a \\,E[X] + b \\\\[1ex]\n",
    "V(Y) &= a^2 \\, V(X) \\\\[1ex]\n",
    "\\sigma_Y &= |a|\\, \\sigma_X\n",
    "\\end{align*}\n",
    "$$"
   ]
  },
  {
   "cell_type": "markdown",
   "metadata": {},
   "source": [
    "**예제**"
   ]
  },
  {
   "cell_type": "markdown",
   "metadata": {},
   "source": [
    "캘리포니아 주택가격 데이터셋의 중위소득 범주는 1부터 5 사이의 정수이고,\n",
    "각각의 범주가 가리키는 중위소득의 구간은 다음과 같다.\n",
    "\n",
    "| 범주 | 1 | 2 | 3 | 4 | 5 |\n",
    "| :---: | :---: | :---: | :---: | :---: | :---: |\n",
    "| 구간 | 1.5 이하 | 1.5 - 3.0 | 3.0 - 4.5 | 4.5 - 6.0 | 6.0 이상 |"
   ]
  },
  {
   "cell_type": "markdown",
   "metadata": {},
   "source": [
    "하지만 실제로는 몇 만 달러 단위로 중위소득이 움직인다.\n",
    "따라서 범주별 중위소득은 실제로는 범주에 1만을 곱한 다음에 몇 천 정도 더해줘야 할 듯하다.\n",
    "예를 들어 5천 정도 더해준다고 가정하자.\n",
    "그러면 실제 중위소득을 가리키는 확률 변수는 다음과 같게 된다.\n",
    "\n",
    "$$\n",
    "Y = 10000\\, X + 5000\n",
    "$$"
   ]
  },
  {
   "cell_type": "markdown",
   "metadata": {},
   "source": [
    "임의로 선택된 구역의 중위소득에 대한 기댓값은 \n",
    "34,354 달러 정도로 계산된다."
   ]
  },
  {
   "cell_type": "markdown",
   "metadata": {},
   "source": [
    "- $E[Y]$ 계산"
   ]
  },
  {
   "cell_type": "code",
   "execution_count": 22,
   "metadata": {},
   "outputs": [
    {
     "data": {
      "text/plain": [
       "34354.520000"
      ]
     },
     "execution_count": 22,
     "metadata": {},
     "output_type": "execute_result"
    }
   ],
   "source": [
    "mu_real_income = 10000 * mu_income + 5000\n",
    "mu_real_income"
   ]
  },
  {
   "cell_type": "markdown",
   "metadata": {},
   "source": [
    "임의로 선택된 구역의 실제 중위소득은 위 기댓값으로부터 평균적으로\n",
    "10,093 달러 정도의 오차를 가질 것으로 기대된다."
   ]
  },
  {
   "cell_type": "markdown",
   "metadata": {},
   "source": [
    "- $V(Y)$ 와 $\\sigma_Y$ 계산"
   ]
  },
  {
   "cell_type": "code",
   "execution_count": 23,
   "metadata": {},
   "outputs": [
    {
     "data": {
      "text/plain": [
       "10093.332233"
      ]
     },
     "execution_count": 23,
     "metadata": {},
     "output_type": "execute_result"
    }
   ],
   "source": [
    "V_real_income = 10000**2 * V_income\n",
    "sigma_real_income = 10000 * sigma_income\n",
    "sigma_real_income"
   ]
  },
  {
   "cell_type": "markdown",
   "metadata": {},
   "source": [
    "**선형 변환 결과 확인**"
   ]
  },
  {
   "cell_type": "markdown",
   "metadata": {},
   "source": [
    "앞서 공식을 이용한 계산대로 결과가 나오는지 실제 확인해본다.\n",
    "아래 표는 범주에 1만을 곱한 다음에 5천을 더한 실제 중위소득을 담고 있다."
   ]
  },
  {
   "cell_type": "markdown",
   "metadata": {},
   "source": [
    "| 범주 | 1 | 2 | 3 | 4 | 5 |\n",
    "| :---: | :---: | :---: | :---: | :---: | :---: |\n",
    "| 실제 중위소득 | 15,000 | 25,000 | 35,000 | 45,000 | 55,000 |"
   ]
  },
  {
   "cell_type": "markdown",
   "metadata": {},
   "source": [
    "확률 분포는 `f_income()` 함수와 동일하기에\n",
    "임의로 선택된 구역의 실제 중위소득에 대한 기댓값은 다음과 같이 계산된다."
   ]
  },
  {
   "cell_type": "code",
   "execution_count": 24,
   "metadata": {},
   "outputs": [
    {
     "data": {
      "text/plain": [
       "34354.520000"
      ]
     },
     "execution_count": 24,
     "metadata": {},
     "output_type": "execute_result"
    }
   ],
   "source": [
    "mu_transformed = np.sum([(10000 * x + 5000) * f_income(x) for x in range(1, 6)])\n",
    "mu_transformed"
   ]
  },
  {
   "cell_type": "markdown",
   "metadata": {},
   "source": [
    "앞서의 계산과 소수점 이하 셋째 자리에서 발생한 오차는 부동소수점 연산의 불완전성 때문이다.\n",
    "확률 변수 $X$의 기댓값인 `mu_income` 에 1만을 곱한 다음에 5천을 더할 때와\n",
    "먼저 확률을 곱한 다음에 기댓값을 계산한 결과가 어쩔 수 없이 약간의 오차를 보였다.\n",
    "\n",
    "아래 코드는 임의로 선택된 10만 개 구역의 중위소득에 대해 100개씩 누적된 평균값은\n",
    "바로 앞세 계산된 `mu_transformed`에 수렴함을 보여준다."
   ]
  },
  {
   "cell_type": "code",
   "execution_count": 32,
   "metadata": {},
   "outputs": [
    {
     "data": {
      "image/png": "[encoded data removed]",
      "text/plain": [
       "<Figure size 600x400 with 1 Axes>"
      ]
     },
     "metadata": {},
     "output_type": "display_data"
    }
   ],
   "source": [
    "np.random.seed(0)\n",
    "\n",
    "fig = plt.figure(figsize=(6,4 ))\n",
    "ax = fig.add_subplot(111)\n",
    "\n",
    "# 총 10만번 실제 중위소득 선택\n",
    "size = 100_001\n",
    "income100k_transformed = np.random.choice(range(1, 6), size, p=prob_income) * 10000 + 5000\n",
    "\n",
    "# 100번 던질 때마다 누적 평균값 계산\n",
    "income_means_transformed = [income100k_transformed[:step].mean() for step in range(100, size, 100)]\n",
    "plt.plot(range(100, size, 100), income_means_transformed)\n",
    "\n",
    "# 평균값들의 기댓값\n",
    "plt.hlines(mu_transformed, 100, size, color='red')\n",
    "\n",
    "plt.show()"
   ]
  },
  {
   "cell_type": "markdown",
   "metadata": {},
   "source": [
    "이상하게도 표준편차는 동일하게 계산된다.\n",
    "결론적으로 엄밀한 계산이 요구되는 경우엔 부동소수점 연산을 매우 조심스럽게 다뤄야 하지만\n",
    "여기서는 그렇지 않기에 더 이상 언급하지 않는다."
   ]
  },
  {
   "cell_type": "code",
   "execution_count": 26,
   "metadata": {},
   "outputs": [
    {
     "data": {
      "text/plain": [
       "10093.332233"
      ]
     },
     "execution_count": 26,
     "metadata": {},
     "output_type": "execute_result"
    }
   ],
   "source": [
    "V_transformed = np.sum([(10000 * x + 5000 - mu_transformed)**2 * f_income(x) for x in range(1, 6)])\n",
    "sigma_transformed = np.sqrt(V_transformed)\n",
    "sigma_transformed"
   ]
  },
  {
   "cell_type": "markdown",
   "metadata": {},
   "source": [
    "## 연속 확률 변수의 기댓값과 분산"
   ]
  },
  {
   "cell_type": "markdown",
   "metadata": {},
   "source": [
    "(준비중)"
   ]
  },
  {
   "cell_type": "markdown",
   "metadata": {},
   "source": [
    "## 연습문제"
   ]
  },
  {
   "cell_type": "markdown",
   "metadata": {},
   "source": [
    "참고: [(연습) 기댓값과 분산](https://colab.research.google.com/github/codingalzi/DataSci/blob/master/practices/practice-expected_values.ipynb)"
   ]
  }
 ],
 "metadata": {
  "kernelspec": {
   "display_name": "Python 3 (ipykernel)",
   "language": "python",
   "name": "python3"
  },
  "language_info": {
   "codemirror_mode": {
    "name": "ipython",
    "version": 3
   },
   "file_extension": ".py",
   "mimetype": "text/x-python",
   "name": "python",
   "nbconvert_exporter": "python",
   "pygments_lexer": "ipython3",
   "version": "3.12.2"
  },
  "toc": {
   "nav_menu": {},
   "number_sections": true,
   "sideBar": true,
   "skip_h1_title": false,
   "toc_cell": false,
   "toc_position": {},
   "toc_section_display": "block",
   "toc_window_display": false
  }
 },
 "nbformat": 4,
 "nbformat_minor": 2
}