{
 "cells": [
  {
   "cell_type": "markdown",
   "metadata": {
    "ExecuteTime": {
     "end_time": "2018-03-06T03:37:40.696920Z",
     "start_time": "2018-03-06T03:37:40.690655Z"
    }
   },
   "source": [
    "(ch:probability-continuous)=\n",
    "# 연속 확률분포"
   ]
  },
  {
   "cell_type": "markdown",
   "metadata": {},
   "source": [
    "**기본 설정**"
   ]
  },
  {
   "cell_type": "markdown",
   "metadata": {
    "ExecuteTime": {
     "end_time": "2018-08-03T08:26:15.690793Z",
     "start_time": "2018-08-03T08:26:15.507201Z"
    }
   },
   "source": [
    "`numpy`와 `pandas` 라이브러리를 각각 `np`와 `pd`로 불러온다."
   ]
  },
  {
   "cell_type": "code",
   "execution_count": 1,
   "metadata": {
    "ExecuteTime": {
     "end_time": "2018-08-14T06:43:30.149227Z",
     "start_time": "2018-08-14T06:43:29.960007Z"
    }
   },
   "outputs": [],
   "source": [
    "import numpy as np\n",
    "import pandas as pd"
   ]
  },
  {
   "cell_type": "markdown",
   "metadata": {},
   "source": [
    "데이터프레임의 [chained indexing을 금지시키기 위한 설정](https://pandas.pydata.org/pandas-docs/stable/user_guide/indexing.html#returning-a-view-versus-a-copy)을 지정한다.\n",
    "Pandas 3.0 버전부터는 기본 옵션으로 지정된다."
   ]
  },
  {
   "cell_type": "code",
   "execution_count": 2,
   "metadata": {},
   "outputs": [],
   "source": [
    "pd.options.mode.copy_on_write = True"
   ]
  },
  {
   "cell_type": "markdown",
   "metadata": {
    "ExecuteTime": {
     "end_time": "2018-08-14T06:43:30.149227Z",
     "start_time": "2018-08-14T06:43:29.960007Z"
    }
   },
   "source": [
    "주피터 노트북에서 부동소수점의 출력을 소수점 이하 6자리로 제한한다.\n",
    "아래 코드는 주피터 노트북에서만 사용하며 일반적인 파이썬 코드가 아니다."
   ]
  },
  {
   "cell_type": "code",
   "execution_count": 3,
   "metadata": {
    "ExecuteTime": {
     "end_time": "2018-08-14T06:43:30.149227Z",
     "start_time": "2018-08-14T06:43:29.960007Z"
    }
   },
   "outputs": [
    {
     "data": {
      "text/plain": [
       "'%.6f'"
      ]
     },
     "execution_count": 3,
     "metadata": {},
     "output_type": "execute_result"
    }
   ],
   "source": [
    "%precision 6"
   ]
  },
  {
   "cell_type": "markdown",
   "metadata": {
    "ExecuteTime": {
     "end_time": "2018-08-14T06:43:30.149227Z",
     "start_time": "2018-08-14T06:43:29.960007Z"
    }
   },
   "source": [
    "아래 코드는 데이터프레임 내에서 부동소수점의 출력을 소수점 이하 6자리로 제한한다."
   ]
  },
  {
   "cell_type": "code",
   "execution_count": 4,
   "metadata": {
    "ExecuteTime": {
     "end_time": "2018-08-14T06:43:30.149227Z",
     "start_time": "2018-08-14T06:43:29.960007Z"
    }
   },
   "outputs": [],
   "source": [
    "pd.set_option('display.precision', 6)"
   ]
  },
  {
   "cell_type": "markdown",
   "metadata": {},
   "source": [
    "데이터 시각화를 위해 `matplotlib.pyplot`를 `plt`로,\n",
    "`seaborn`을 `sns`로 불러온다.\n",
    "`seaborn` 라이브러리는 통계 관련 데이터의 정보를 보다 세련되고 정확하게 전달하는 그래프를 그리는 도구를 제공한다.\n",
    "`matplotlib` 라이브러리를 바탕으로 만들어져서 함께 사용해도 된다."
   ]
  },
  {
   "cell_type": "code",
   "execution_count": 5,
   "metadata": {},
   "outputs": [],
   "source": [
    "import matplotlib.pyplot as plt\n",
    "import seaborn as sns"
   ]
  },
  {
   "cell_type": "markdown",
   "metadata": {},
   "source": [
    "그래프 스타일을 `seaborn`에서 제공하는 `white` 스타일로 지정한다."
   ]
  },
  {
   "cell_type": "code",
   "execution_count": 6,
   "metadata": {},
   "outputs": [],
   "source": [
    "sns.set_style(\"white\")"
   ]
  },
  {
   "cell_type": "markdown",
   "metadata": {},
   "source": [
    "**데이터 저장소 디렉토리**"
   ]
  },
  {
   "cell_type": "markdown",
   "metadata": {},
   "source": [
    "코드에 사용되는 [데이터 저장소의 기본 디렉토리](https://github.com/codingalzi/DataSci/tree/master/data)를 지정한다."
   ]
  },
  {
   "cell_type": "code",
   "execution_count": 7,
   "metadata": {},
   "outputs": [],
   "source": [
    "data_url = 'https://raw.githubusercontent.com/codingalzi/DataSci/refs/heads/master/data/'"
   ]
  },
  {
   "cell_type": "markdown",
   "metadata": {},
   "source": [
    "**주요 내용**"
   ]
  },
  {
   "cell_type": "markdown",
   "metadata": {},
   "source": [
    "연속 확률 분포의 주요 개념을 소개한다.\n",
    "\n",
    "- 연속 확률 변수\n",
    "- 누적 분포 함수\n",
    "- 확률 밀도 함수\n",
    "- 커널 밀도 추정"
   ]
  },
  {
   "cell_type": "markdown",
   "metadata": {},
   "source": [
    "## 연속 확률 변수"
   ]
  },
  {
   "cell_type": "markdown",
   "metadata": {},
   "source": [
    "{numref}`%s장 <ch:probability-discrete>`에서 살펴 본 이산 확률 변수는\n",
    "$x_1$, $x_2$, $x_3$ ... 등의 형식으로 하나, 둘, 셋 하며 셀 수 있는 \n",
    "**이산형 값**<font size='2'>discrete value</font>을 취한다.\n",
    "\n",
    "예를 들어 하나의 정상적인 주사위를 던졌을 때 나오는 값을 가리키는 확률 변수는\n",
    "1, 2, 3, 4, 5, 6 중에 하나를 취하고,\n",
    "캘리포니아 주택가격 데이터셋에서 임의로 선택된 구역의 소득 범주를 가리키는 확률 변수는\n",
    "1, 2, 3, 4, 5 중에 하나를 취한다.\n",
    "그리고 어느 학급의 수학 시험 점수를 가리키는 확률 변수는 0부터 100까지의 정수 중에 하나를 취한다.\n",
    "\n",
    "반면에 **연속 확률 변수**<font size='2'>continuous random variable</font>는 \n",
    "일정 구간에 속한 임의의 실수를 가리킨다.\n",
    "여기서 구간은 0과 1사이 등 구간의 크기가 유한할 수도 있지만\n",
    "0보다 큰 모든 실수, 아니면 그냥 모든 실수 처럼 구간의 크기가 무한일 수도 있다.\n",
    "\n",
    "예를 들어 캘리포니아 주택가격 데이터셋에서 임의로 선택된 구역의 가구중위소득은\n",
    "0.4999에서 15.0001 사이의 실수로 구성된다.\n",
    "그리고 대학생의 학점 평균으로 구성된 데이터셋은 0에서 4.5 사이의 실수로 구성된다."
   ]
  },
  {
   "cell_type": "markdown",
   "metadata": {},
   "source": [
    ":::{admonition} 실수와 부동소수점\n",
    ":class: note\n",
    "\n",
    "프로그래밍에서 실수는 부동소수점으로 표현된다.\n",
    "부동소수점은 엄밀히 말해 유한소수만 다루지만 여기서는 특별한 의미 없이 실수라는 표현을 사용한다.\n",
    ":::"
   ]
  },
  {
   "cell_type": "markdown",
   "metadata": {},
   "source": [
    "**이산 확률 분포 대 연속 확률 분포**"
   ]
  },
  {
   "cell_type": "markdown",
   "metadata": {},
   "source": [
    "이산 확률 분포는 확률 변수가 특정 값을 가리킬 확률을 표 형식으로 표현한다.\n",
    "예를 들어 아래 표는 정상적인 주사위 하나를 던졌을 때 나오는 값을 가리키는 확률 변수 $X$의 확률 분포다.\n",
    "\n",
    "| X | 1 | 2 | 3 | 4 | 5 | 6|\n",
    "| :---: | :---: | :---: | :---: | :---: | :---: | :---: |\n",
    "| 확률 | 1/6 | 1/6 | 1/6 | 1/6 | 1/6 | 1/6 |\n",
    "\n",
    "그리고 {numref}`%s장 <ch:probability-discrete>`에서 살펴 본 아래 표는 캘리포니아 주택가격 데이터셋에서 임의로 선택된 구역의 소득 범주를 가리키는 확률 변수 $X$의 확률 분포다.\n",
    "1부터 5까지 소득 범주는 중위소득을 0에서 1.5, 1.5에서 3.0, 3.0에서 4.5, 4.5에서 6, 6 이상 등 5개의 구간에 각각 해당한다.\n",
    "\n",
    "| X | 1 | 2 | 3 | 4 | 5 |\n",
    "| :---: | :---: | :---: | :---: | :---: | :---: |\n",
    "| 확률 | 0.041372 | 0.333011 | 0.361017 | 0.177992 | 0.086607 |"
   ]
  },
  {
   "cell_type": "markdown",
   "metadata": {},
   "source": [
    "반면에 연속 확률 변수가 따르는 확률 분포를 **연속 확률 분포**<font size='2'>continuous probability distribution</font>라 한다.\n",
    "이산 확률 분포와는 달리 연속 확률 분포는 확률 변수가 특정 값을 취할 확률을 계산하지 않는다.\n",
    "이유는 연속 확률 변수 $X$가 특정 실수 $x$를 취할 확률은 항상 0이기 때문이다\n",
    "\n",
    "$$\n",
    "P(X=x) = 0\n",
    "$$\n",
    "\n",
    "예를 들어 0과 1사이의 실수 중에서 무작위로 하나의 값을 취했을 때 그 값이 정확히 0.5일 확률과\n",
    "캘리포니아 주택가격 데이터셋에서 임의로 선택된 구역의 중위소득이 정확히 1.999999일 확률 모두 0이다.\n",
    "\n",
    "연속 확률 분포는 대신 확률 변수가 특정 구간에서 하나의 값을 취할 확률을 계산한다.\n",
    "0과 1사이에서 무작위로 선택한 값이 0.49에서 0.51 사이일 확률은 0.02, 즉 2%다.\n",
    "구간 전체의 크기가 1인데 0.49에서 0.51 사이 구간의 크기는 0.02이기 때문이다.\n",
    "반면에 캘리포니아 주택가격 데이터셋에서 임의로 선택된 구역의 중위소득이 1.5에서 3.0 사이일 확률은 \n",
    "중위 소득이 2구간에 속할 확률인 0.333011이다.\n",
    "\n",
    "이처럼 연속 확률 변수는 아래 표현식처럼 특정 구간의 값을 취할 확률을 계산한다.\n",
    "\n",
    "$$\n",
    "P(a \\le X \\le b)\n",
    "$$\n",
    "\n",
    "또한 연속 확률 변수가 특정 값을 취할 확률은 0이기에 구간의 끝 포함 여부는 중요하지 않기에\n",
    "아래 식에서처럼 등호 기호는 생략해도 된다.\n",
    "\n",
    "$$\n",
    "P(a \\le X \\le b) = P(a < X < b) = P(a < X \\le b) = P(a \\le X < b)\n",
    "$$"
   ]
  },
  {
   "cell_type": "markdown",
   "metadata": {},
   "source": [
    "## 누적 분포 함수"
   ]
  },
  {
   "cell_type": "markdown",
   "metadata": {},
   "source": [
    "0과 1사이의 실수 중에서 구간 $[a, b]$에서 하나의 값을 취할 확률은 $b-a$임을 바로 알 수 있다.\n",
    "하지만 연속 확률 변수가 특정 구간의 값을 취할 확률을 정확하게 계산하는 일이\n",
    "일반적으로 그렇게 간단하지 않다.\n",
    "예를 들어 캘리포니아 주택가격 데이터셋에서 임의로 선택된 구역의 중위소득이 2.0에서 2.1 사이일 확률은 쉽게 알 수 없다.\n",
    "이유는 해당 구간이 앞서 언급한 대로 0에서 1.5, 1.5에서 3.0, 3.0에서 4.5, 4.5에서 6, 6 이상 등 5개의 구간\n",
    "어디와도 일치하지 않기 때문이다.\n",
    "\n",
    "여기서는 **누적 분포 함수**<font size='2'>cumulative distribution function</font>(CDF)를 활용하여\n",
    "연속 확률 변수가 특정 구간의 값을 취할 확률을 계산하는 방법을 소개한다.\n",
    "연속 확률 변수 $X$의 누적 분포 함수 $F$는\n",
    "아래 식에서 처럼 확률 변수 $X$가 특정 값보다 같거나 작은 값을 취할 확률을 계산한다.\n",
    "\n",
    "$$\n",
    "F(a) = P(X \\le a)\n",
    "$$\n",
    "\n",
    "누적 분포 함수가 알려진 경우 연속 확률 변수 $X$가 $a$에서 $b$ 사이의 값을 취할 확률은\n",
    "다음과 같이 계산된다.\n",
    "단, $a \\le b$를 가정한다.\n",
    "\n",
    "$$\n",
    "P(a \\le X \\le b) = F(b) - F(a)\n",
    "$$"
   ]
  },
  {
   "cell_type": "markdown",
   "metadata": {},
   "source": [
    "**예제: 캘리포니아 구역별 중위소득 확률 분포**"
   ]
  },
  {
   "cell_type": "markdown",
   "metadata": {},
   "source": [
    "확률 변수 $X$가 캘리포니아의 구역별 중위소득을 가리킨다고 할 때\n",
    "임의로 선택된 구역의 중위소득이 특정 값 이하일 확률을 계산하는 누적 분포 함수 $F$를 \n",
    "부울 인덱싱을 이용하여 정의할 수 있다.\n",
    "\n",
    "아래 코드는 캘리포니아 주택가격 데이터셋을 불러온 후에\n",
    "중위주택가격이 50만을 초과하는 경우는 삭제하고 인덱스를 초기화한다.\n",
    "최종적으로 중위소득 특성만 남긴다."
   ]
  },
  {
   "cell_type": "code",
   "execution_count": 8,
   "metadata": {},
   "outputs": [
    {
     "data": {
      "text/plain": [
       "district\n",
       "0        8.3252\n",
       "1        8.3014\n",
       "2        7.2574\n",
       "3        5.6431\n",
       "4        3.8462\n",
       "          ...  \n",
       "19670    1.5603\n",
       "19671    2.5568\n",
       "19672    1.7000\n",
       "19673    1.8672\n",
       "19674    2.3886\n",
       "Name: median_income, Length: 19675, dtype: float64"
      ]
     },
     "execution_count": 8,
     "metadata": {},
     "output_type": "execute_result"
    }
   ],
   "source": [
    "housing = pd.read_csv(data_url+\"california_housing.csv\")\n",
    "\n",
    "# 중위주택가격이 50만1달러 이상인 구역 삭제\n",
    "house_value_max = housing['median_house_value'].max() # 500,001\n",
    "mask = housing['median_house_value'] >= house_value_max\n",
    "housing = housing[~mask]\n",
    "\n",
    "# 인덱스 초기화\n",
    "housing = housing.reset_index(drop=True)\n",
    "\n",
    "# 중위소득 특성만 선택\n",
    "housing = housing.loc[:, 'median_income']\n",
    "housing.index.name = 'district'\n",
    "housing"
   ]
  },
  {
   "cell_type": "markdown",
   "metadata": {},
   "source": [
    "중위소득을 가리키는 연속 확률 변수 $X$가 특정 값 $a$ 이하의 값을 가질 확률은\n",
    "중위소득이 $a$보다 같거나 작은 구역의 비율이며,\n",
    "아래 `F_income()` 함수가 확률 변수 $X$에 대한 누적 분포 함수를 구현한다."
   ]
  },
  {
   "cell_type": "code",
   "execution_count": 9,
   "metadata": {},
   "outputs": [],
   "source": [
    "def F_income(a):\n",
    "    mask = housing <= a # a 보다 같거나 작을 때만 1\n",
    "    return mask.mean()  # 전체 중에 True 인 지역의 비율 "
   ]
  },
  {
   "cell_type": "markdown",
   "metadata": {},
   "source": [
    "임의의 구역을 선택했을 때 소득 범주 2에 속할 확률 $P(1.5 < X <= 3.0)$를\n",
    "`F_income()`을 이용하여 계산하면 앞서 언급한 값과 동일하게 나온다."
   ]
  },
  {
   "cell_type": "code",
   "execution_count": 10,
   "metadata": {},
   "outputs": [
    {
     "data": {
      "text/plain": [
       "0.333011"
      ]
     },
     "execution_count": 10,
     "metadata": {},
     "output_type": "execute_result"
    }
   ],
   "source": [
    "F_income(3.0) - F_income(1.5)"
   ]
  },
  {
   "cell_type": "markdown",
   "metadata": {},
   "source": [
    "아래 `P_income()` 함수는 임의로 선택된 구역의 중위소득이 특정 구간에 속할 확률을 계산한다."
   ]
  },
  {
   "cell_type": "code",
   "execution_count": 11,
   "metadata": {},
   "outputs": [],
   "source": [
    "def P_income(a, b):\n",
    "    assert a <= b, f'둘째 인자가 첫째 인자보다 같거나 커야 함'\n",
    "    \n",
    "    return F_income(b) - F_income(a)"
   ]
  },
  {
   "cell_type": "code",
   "execution_count": 12,
   "metadata": {},
   "outputs": [
    {
     "data": {
      "text/plain": [
       "0.333011"
      ]
     },
     "execution_count": 12,
     "metadata": {},
     "output_type": "execute_result"
    }
   ],
   "source": [
    "P_income(1.5, 3.0)"
   ]
  },
  {
   "cell_type": "markdown",
   "metadata": {},
   "source": [
    "앞서 질문했던 임의의 구역을 선택했을 때 중위소득이 2.0에서 2.1 사이일 확률은 약 2.1%로 계산된다."
   ]
  },
  {
   "cell_type": "code",
   "execution_count": 13,
   "metadata": {},
   "outputs": [
    {
     "data": {
      "text/plain": [
       "0.020534"
      ]
     },
     "execution_count": 13,
     "metadata": {},
     "output_type": "execute_result"
    }
   ],
   "source": [
    "P_income(2.0, 2.1)"
   ]
  },
  {
   "cell_type": "markdown",
   "metadata": {},
   "source": [
    "**누적 분포 함수의 성질**"
   ]
  },
  {
   "cell_type": "markdown",
   "metadata": {},
   "source": [
    "연속 확률 변수 $X$가 $x_0$에서 $x_1$ 사이에서만 값을 취한다고 가정하자.\n",
    "그러면 $X$의 누적 분포 함수$F$는 다음 세 가지 성질을 만족한다.\n",
    "단, $a, b \\in [x_0, x_1]$과 $a \\le b$를 가정한다."
   ]
  },
  {
   "cell_type": "markdown",
   "metadata": {},
   "source": [
    "$(1)\\,\\,\\, F(a) \\le F(b)$"
   ]
  },
  {
   "cell_type": "markdown",
   "metadata": {},
   "source": [
    "$(2)\\,\\,\\, 0 \\le F(a) \\le 1$"
   ]
  },
  {
   "cell_type": "markdown",
   "metadata": {},
   "source": [
    "$(3)\\,\\,\\, \\displaystyle \\lim_{a \\to x_0} F(a) = 0$ 와 $\\displaystyle\\lim_{a \\to x_1} F(a) = 1$"
   ]
  },
  {
   "cell_type": "markdown",
   "metadata": {},
   "source": [
    "위 식에서 경우에 따라 다음과 같이 $x_0$는 음의 무한대를, $x_1$은 양의 무한대를 가리킬 수 있다.\n",
    "\n",
    ":::{list-table} 무한대와 구간\n",
    ":widths: 10 55\n",
    ":header-rows: 1\n",
    ":name: infinity\n",
    "\n",
    "*   - 구간\n",
    "    - 의미\n",
    "*   - $[-\\infty, \\infty]$\n",
    "    - 모든 실수들의 구간\n",
    "*   - $[0, \\infty]$\n",
    "    - 음이 아닌 실수들의 구간\n",
    "*   - $[-\\infty, 1]$\n",
    "    - $1$보다 같거나 작은 모든 실수들의 구간\n",
    "*   - $[0, 1]$\n",
    "    - $0$과 $1$ 사이의 모든 실수들의 구간\n",
    "*   - $[-1, 1]$\n",
    "    - $-1$과 $1$ 사이의 모든 실수들의 구간\n",
    ":::"
   ]
  },
  {
   "cell_type": "markdown",
   "metadata": {},
   "source": [
    "$x_0$ 또는 $x_1$이 각각 음의 무한대와 양의 무한대를 가리키지 않아도 $F(a)$는 \n",
    "모든 실수 $a$에 대해 정의되었다고 가정할 수 있다.\n",
    "이유는 구간 $[x_0, x_1]$ 밖에 위치하는 값에 대해서 다음과 같이 정의할 수 있기 때문이다.\n",
    "\n",
    "- $a \\le x_0$인 경우: $F(a) = 0$\n",
    "- $a \\ge x_1$인 경우: $F(a) = 1$"
   ]
  },
  {
   "cell_type": "markdown",
   "metadata": {},
   "source": [
    "`F_income()` 함수가 앞서 언급한 모든 성질을 만족한다."
   ]
  },
  {
   "cell_type": "markdown",
   "metadata": {},
   "source": [
    "$(1)$ `a < b`이면 `housing < a`에서 `True`인 항목은 `housing < b`에서도 참이기에 `F_income(b)`가 `F_income(a)` 보다 같거나 크다."
   ]
  },
  {
   "cell_type": "markdown",
   "metadata": {},
   "source": [
    "$(2)$ `mask.mean()`은 `mask.sum()/len(housing)` 이기에 모든 `a`에 대해 `F_income(a)`는 0과 1 사이의 값을 갖는다."
   ]
  },
  {
   "cell_type": "markdown",
   "metadata": {},
   "source": [
    "$(3)$ 최소 중위소득과 최대 중위소득에 대한 값도 요구되는 조건이 충족된다.\n",
    "단, `housing` 데이터셋의 크기가 실제로는 유한하기에 최솟값에 대한 누적 분포 함숫값은 0이 나오지는 않는다."
   ]
  },
  {
   "cell_type": "code",
   "execution_count": 14,
   "metadata": {},
   "outputs": [
    {
     "data": {
      "text/plain": [
       "0.000508"
      ]
     },
     "execution_count": 14,
     "metadata": {},
     "output_type": "execute_result"
    }
   ],
   "source": [
    "F_income(housing.min())"
   ]
  },
  {
   "cell_type": "markdown",
   "metadata": {},
   "source": [
    "실제로 최솟값은 갖는 구역이 10군데인데 그 비율이 계산된다."
   ]
  },
  {
   "cell_type": "code",
   "execution_count": 15,
   "metadata": {},
   "outputs": [
    {
     "data": {
      "text/plain": [
       "10"
      ]
     },
     "execution_count": 15,
     "metadata": {},
     "output_type": "execute_result"
    }
   ],
   "source": [
    "housing.value_counts()[housing.min()]"
   ]
  },
  {
   "cell_type": "code",
   "execution_count": 16,
   "metadata": {},
   "outputs": [
    {
     "data": {
      "text/plain": [
       "0.000508"
      ]
     },
     "execution_count": 16,
     "metadata": {},
     "output_type": "execute_result"
    }
   ],
   "source": [
    "housing.value_counts()[housing.min()] / len(housing)"
   ]
  },
  {
   "cell_type": "markdown",
   "metadata": {},
   "source": [
    "이론과 실재의 차이는 어쩔 수 없다.\n",
    "하지만 최솟값보다 조금이라도 작은 값에 대해서는 0을 계산한다."
   ]
  },
  {
   "cell_type": "code",
   "execution_count": 17,
   "metadata": {},
   "outputs": [
    {
     "data": {
      "text/plain": [
       "0.000000"
      ]
     },
     "execution_count": 17,
     "metadata": {},
     "output_type": "execute_result"
    }
   ],
   "source": [
    "F_income(housing.min() - 1.0e-16)"
   ]
  },
  {
   "cell_type": "markdown",
   "metadata": {},
   "source": [
    "반면에 최댓값에 대해서는 정확하게 1을 계산한다."
   ]
  },
  {
   "cell_type": "code",
   "execution_count": 18,
   "metadata": {},
   "outputs": [
    {
     "data": {
      "text/plain": [
       "1.000000"
      ]
     },
     "execution_count": 18,
     "metadata": {},
     "output_type": "execute_result"
    }
   ],
   "source": [
    "F_income(housing.max())"
   ]
  },
  {
   "cell_type": "markdown",
   "metadata": {},
   "source": [
    "조금이라도 큰 값에 대해서도 항상 1을 계산한다."
   ]
  },
  {
   "cell_type": "code",
   "execution_count": 19,
   "metadata": {},
   "outputs": [
    {
     "data": {
      "text/plain": [
       "1.000000"
      ]
     },
     "execution_count": 19,
     "metadata": {},
     "output_type": "execute_result"
    }
   ],
   "source": [
    "F_income(housing.max() + 1.0e-16)"
   ]
  },
  {
   "cell_type": "markdown",
   "metadata": {},
   "source": [
    "## 확률 밀도 함수"
   ]
  },
  {
   "cell_type": "markdown",
   "metadata": {},
   "source": [
    "연속 확률 변수가 특정 구간 내에서 값을 취할 확률을 이용하여\n",
    "누적 분포 함수의 특정 값 근처에서의 변화율을 계산할 수 있다.\n",
    "\n",
    "예를 들어 연속 확률 변수 $X$가 임의의 양수 $h$에 대해 구간 $[x, x+h]$에서 값을 취할 확률은 다음과 같다.\n",
    "\n",
    "$$\n",
    "F(x + h) - F(x)\n",
    "$$\n",
    "\n",
    "위 값을 $h$로 나눈다.\n",
    "\n",
    "$$\n",
    "\\frac{F(x + h) - F(x)}{h}\n",
    "$$\n",
    "\n",
    "함수 $F$가 $x$에서 미분가능하다면 $h$가 0에 수렴할 때 위 식은 \n",
    "$x$에서 누적 분포 함수의 변화율인 $F'(x)$로 수렴한다.\n",
    "\n",
    "$$\n",
    "F'(x) = \\lim_{h \\to 0}\\frac{F(x + h) - F(x)}{h}\n",
    "$$\n",
    "\n",
    "$F'$은 함수 $F$의 도함수를 가리키며, $F$가 단조증가함수이기에 $F'(x) \\ge 0$ 이다."
   ]
  },
  {
   "cell_type": "markdown",
   "metadata": {},
   "source": [
    "대부분의 누적 분포 함수 $F$는 지정된 구간에서 미분가능하다.\n",
    "그리고 $F$가 구간 $[x_0, x_1]$ 전체에서 미분가능하다면 정적분의 정의에 의해 다음이 성립한다.\n",
    "아래 식에서 $f$는 도함수 $F'$을 가리킨다.\n",
    "\n",
    "$$\n",
    "F(a) = P(X \\le a) = P(x_0 < X \\le a) = F(a) - F(x_0) = \\int_{x_0}^{a} f(x)\\, dx\n",
    "$$\n",
    "\n",
    "영역의 변화율을 가리킨다는 의미에서 $f$를 연속 확률 변수 $X$의 \n",
    "**확률 밀도 함수**<font size='2'>probability density function</font>(PDF)라 부른다."
   ]
  },
  {
   "cell_type": "markdown",
   "metadata": {},
   "source": [
    "**확률 밀도 함수 vs. 누적 분포 함수**"
   ]
  },
  {
   "cell_type": "markdown",
   "metadata": {},
   "source": [
    "아래 두 그래프가 위 설명의 내용을 정리해서 전달한다.\n",
    "\n",
    "(1) 왼편 그래프\n",
    "\n",
    "- $F(a)$: 빨강 영역. 구간 $[x_0, a]$ 내에서 확률 밀도 함수 $f$의 그래프와 $x$-축 사이의 면적\n",
    "- $P(a \\le x \\le b)$: 회색 영역. $[a, b]$ 구간 내에서 확률 밀도 함수 $f$의 그래프와 $x$-축 사이의 면적\n",
    "\n",
    "(2) 오른편 그래프\n",
    "\n",
    "- 누적 분포 함수 그래프\n",
    "- 왼편 그래프의 빨간색 면적에 해당하는 값들의 그래프\n",
    "- 일반적으로 늘어진 S자 형태를 띄며 $x$가 작아지면서 0에, 커지면서 1에 수렴"
   ]
  },
  {
   "cell_type": "markdown",
   "metadata": {},
   "source": [
    "<p><div align=\"center\"><img src=\"https://raw.githubusercontent.com/codingalzi/DataSci/master/jupyter-book/images/pdf-cdf-1.png\" style=\"width:100%\"></div></p>"
   ]
  },
  {
   "cell_type": "markdown",
   "metadata": {},
   "source": [
    ":::{admonition} 확률 질량 함수 vs. 확률 밀도 함수\n",
    ":class: note\n",
    "\n",
    "확률 질량 함수(PMF)는 이산 확률 변수가 특정 값을 취할 확률을 계산한다.\n",
    "반면에 확률 밀도 함수(PDF)는 연속 확률 변수가 특정 값 이하의 값을 가질 확률의 변화율을 계산한다.\n",
    "\n",
    "<p><div align=\"center\"><img src=\"https://raw.githubusercontent.com/codingalzi/DataSci/master/jupyter-book/images/pmf-pdf-cdf.png\" style=\"width:450px\"></div></p>\n",
    ":::"
   ]
  },
  {
   "cell_type": "markdown",
   "metadata": {},
   "source": [
    "## 연속 균등 분포"
   ]
  },
  {
   "cell_type": "markdown",
   "metadata": {},
   "source": [
    "특정 범위 내에서 균등하게 값을 취할 수 있는 연속 확률 변수의 분포를\n",
    "**연속 균등 분포**<font size='2'>continuous uniform distribution</font>라 한다.\n",
    "$U(a, b)$는 구간 $[a, b]$에서 값을 취하는 연속 균등 분포를 표현한다.\n",
    "연속 균등 분포 $U(a, b)$의 누적 분포 함수는 아래 그림에서 보여지는, 직선의 기울기가 $\\frac{1}{b-a}$인 직선의 선분으로 표현된다."
   ]
  },
  {
   "cell_type": "markdown",
   "metadata": {},
   "source": [
    "<p><div align=\"center\"><img src=\"https://raw.githubusercontent.com/codingalzi/DataSci/master/jupyter-book/images/uniform-cdf.png\" style=\"width:300px\"></div></p>"
   ]
  },
  {
   "cell_type": "markdown",
   "metadata": {},
   "source": [
    "이유는 $x$가 $a$에서 $b$ 사이의 값일 때 임의로 선택된 값이 구간 $[a, x]$에 \n",
    "위치할 확률은 다음과 같이 $x$에 대한 1차 함수로 표현되기 때문이다.\n",
    "\n",
    "$$\n",
    "F(x) = \\frac{x-a}{b-a}\n",
    "$$"
   ]
  },
  {
   "cell_type": "markdown",
   "metadata": {},
   "source": [
    "따라서 연속 균등 분포 $U(a, b)$의 확률 밀도 함수는 구간 $[a, b]$에서 \n",
    "기울기가 $\\frac{1}{b-a}$인 직선의 미분 함수인 상수 함수 $f(x) = \\frac{1}{b-a}$로 표현된다."
   ]
  },
  {
   "cell_type": "markdown",
   "metadata": {},
   "source": [
    "<p><div align=\"center\"><img src=\"https://raw.githubusercontent.com/codingalzi/DataSci/master/jupyter-book/images/uniform-pdf.png\" style=\"width:300px\"></div></p>"
   ]
  },
  {
   "cell_type": "markdown",
   "metadata": {},
   "source": [
    "실제로 구간 $[a, b]$에서 확률 밀도 함수 $f$와 $x$-축 사이의 영역인 직사각형의 넓이는 1이며,\n",
    "$x$가 $a$에서 $b$ 사이에 움직일 때의 밑변 $\\overline{ax}$를 갖는 직사각형의 면적은\n",
    "$\\frac{x-a}{b-a}$로 앞서 설명한 $F(x)$와 동일하다."
   ]
  },
  {
   "cell_type": "markdown",
   "metadata": {},
   "source": [
    "**`np.random.uniform()` 함수**"
   ]
  },
  {
   "cell_type": "markdown",
   "metadata": {},
   "source": [
    "넘파이 라이브러리에서 제공하는 `np.random.uniform()` 함수는 지정된 구간 내에서\n",
    "균등 분포를 따르면서 무작위로 원하는 개수만큼의 부동소수점을 생성한다.\n",
    "단, 생성된 부동소수점은 지정된 모양<font size='2'>shape</font>의 어레이로 반환된다."
   ]
  },
  {
   "cell_type": "markdown",
   "metadata": {},
   "source": [
    "예를 들어 아래 코드는 2와 5 사이에서 균등하게 선택된 1,000개의 부동소수점을 포함하는 1차원 어레이를 반환한다."
   ]
  },
  {
   "cell_type": "code",
   "execution_count": 20,
   "metadata": {},
   "outputs": [],
   "source": [
    "np.random.seed(17)\n",
    "\n",
    "uni1000 = np.random.uniform(2, 5,1000)"
   ]
  },
  {
   "cell_type": "markdown",
   "metadata": {},
   "source": [
    "선택된 부동소수점이 2보다는 같거나 크고, 5보다는 작음이 확인된다."
   ]
  },
  {
   "cell_type": "code",
   "execution_count": 21,
   "metadata": {},
   "outputs": [
    {
     "data": {
      "text/plain": [
       "True"
      ]
     },
     "execution_count": 21,
     "metadata": {},
     "output_type": "execute_result"
    }
   ],
   "source": [
    "np.all((2 <= uni1000) & (uni1000 < 5))"
   ]
  },
  {
   "cell_type": "markdown",
   "metadata": {},
   "source": [
    "아래 코드는 선택된 1,000개의 부동소수점에 대해 히스토그램을 그린다.\n",
    "`bins=25` 키워드 인자는 전체 영역을 25 등분해서 각 구간별 도수에 해당하는 막대를 그린다.\n",
    "구간별로 편차가 있지만 각 구간에 평균 $1000/25 = 40$ 개의 데이터가 포함된다.\n",
    "\n",
    "`plt.hist()` 함수는 `(n, bins, patches)` 형식의 튜플을 반환한다.\n",
    "\n",
    "- `n`: 구간별 도수 또는 밀도로 구성된 어레이\n",
    "- `bins`: 구간의 양 끝을 가리키는 값들의 어레이\n",
    "- `patches`: 생성되는 막대그래프의 정보를 담당하는 `BarContainer` 객체\n",
    "\n",
    "이중에 `patches`에 해당하는 값인 `BarContainer` 객체는 신경쓰지 않는다.\n",
    "`n`이 가리키는 값이 도수 또는 밀도인지 여부는 `density` 키워드의 인자가\n",
    "`False` 또는 `True`인지 여부에 의해 결정된다.\n",
    "아래 코드에서는 `density=False` 기본 키워드 인자가 사용되기에\n",
    "각 구간별 도수가 $y$-축에 표시된다."
   ]
  },
  {
   "cell_type": "code",
   "execution_count": 22,
   "metadata": {},
   "outputs": [
    {
     "data": {
      "image/png": "[encoded data removed]",
      "text/plain": [
       "<Figure size 640x480 with 1 Axes>"
      ]
     },
     "metadata": {},
     "output_type": "display_data"
    }
   ],
   "source": [
    "fig, ax = plt.subplots()\n",
    "\n",
    "freqs, bins, _ = ax.hist(uni1000, bins=25)\n",
    "\n",
    "# 평균 도수: freqs.mean() = 40.0\n",
    "ax.plot(bins, np.ones_like(bins) * freqs.mean(), linewidth=2, color='r')\n",
    "\n",
    "ax.set_xlabel('x')\n",
    "ax.set_ylabel('Frequency')\n",
    "\n",
    "plt.show()"
   ]
  },
  {
   "cell_type": "markdown",
   "metadata": {},
   "source": [
    "**균등 분포의 히스토그램과 확률 밀도 함수**"
   ]
  },
  {
   "cell_type": "markdown",
   "metadata": {},
   "source": [
    "`plt.hist()` 함수를 호출할 때 `density=True` 키워드 인자를 지정하면 각 구간별로 상대도수를 막대로 표현한다.\n",
    "또한 전체 구역의 면적을 1로 만들기 위해 구간의 상대도수를 해당 구간의 크기로 나눈 값을 막대의 높이로 사용한다."
   ]
  },
  {
   "cell_type": "markdown",
   "metadata": {},
   "source": [
    ":::{admonition} 히스토그램의 막대 높이\n",
    ":class: note\n",
    "\n",
    "$t$ 개의 데이터 샘플을 $n$개의 구간으로 나누면서 히스토그램을 그린다고 하자.\n",
    "이때 `density=True` 키워드 인자를 사용하면 $i$-번째 구간의 막대 높이 $h_i$는 \n",
    "다음과 같이 해당 구간의 상대도수를 해당 구간의 크기로 나눈 값이다.\n",
    "아래 식에서 $t_i$는 $i$-번째 구간의 도수, $w_i$는 $i$-번째 구간의 크기를 가리킨다.\n",
    "\n",
    "$$\n",
    "h_i = \\frac{t_i}{t} \\cdot \\frac{1}{w_i}\n",
    "$$\n",
    "\n",
    "그러면 막대 면적의 총합은 다음과 같이 1로 계산된다.\n",
    "\n",
    "$$\n",
    "\\sum_{i=1}^n h_i \\cdot w_i = \\sum_{i=1}^n \\frac{t_i}{t} \\cdot \\frac{1}{w_i}\\cdot w_i = \\sum_{i=1}^n \\frac{t_i}{t} = \\frac 1 t \\cdot \\sum_{i=1}^n t_i = \\frac t t = 1\n",
    "$$\n",
    ":::"
   ]
  },
  {
   "cell_type": "markdown",
   "metadata": {},
   "source": [
    "따라서 데이터셋의 구간별 밀도를 나타내는 히스토그램과 확률 밀도 함수의 그래프와 밀접하게 연관된다.\n",
    "예를 들어 균등 분포의 경우 구간별 밀도 히스토그램에서 구간별 막대 높이는 평균 $\\frac{1}{b-a}$로 계산된다.\n",
    "이유는 다음과 같다.\n",
    "\n",
    "먼저 $t$는 데이터셋의 크기, $n$은 구간의 개수를 가리킨다고 하자.\n",
    "그러면 구간별 평균 도수는 $\\frac t n$이고, 따라서 구간별 평균 상대도수는 $\\frac 1 n$이다.\n",
    "\n",
    "$$\n",
    "\\frac{\\displaystyle\\frac{t}{n}}{t} = \\frac 1 n\n",
    "$$\n",
    "\n",
    "각 구간의 크기는 일정하게 $\\frac{b-a}{n}$이기에 앞서 언급한 정의에 의해\n",
    "균등 분포 함수의 히스토그램에서 구간별 막대의 평균 높이는 다음과 같이 $\\frac{1}{b-a}$다.\n",
    "\n",
    "$$\n",
    "\\frac{1}{n} \\cdot \\frac{1}{\\displaystyle \\frac{b-a}{n}} = \\frac 1 n \\cdot \\frac{n}{b-a} = \\frac{1}{b-a}\n",
    "$$"
   ]
  },
  {
   "cell_type": "markdown",
   "metadata": {},
   "source": [
    "아래 코드는 균등 분포 함수로 선택된 데이터셋을 히스토그램으로 그렸을 때\n",
    "막대의 평균 높이가 $1/3 = 0.33$에 매우 근접함을 보여준다.\n",
    "그래프에서 빨간 직선은 이론적 평균 막대 높이인 0.333333을, \n",
    "노란 직선은 주어진 데이터셋의 실제 평균 막대 높이인 0.334067을 가리킨다."
   ]
  },
  {
   "cell_type": "code",
   "execution_count": 23,
   "metadata": {},
   "outputs": [
    {
     "data": {
      "image/png": "[encoded data removed]",
      "text/plain": [
       "<Figure size 640x480 with 1 Axes>"
      ]
     },
     "metadata": {},
     "output_type": "display_data"
    }
   ],
   "source": [
    "fig, ax = plt.subplots()\n",
    "\n",
    "dens, bins, _ = ax.hist(uni1000, 25, density=True)\n",
    "\n",
    "# 이론적 확률 밀도 함수 그래프: y = 1/(5-2) = 0.333333 (빨간 직선)\n",
    "ax.plot(bins, np.ones_like(bins)/(5-2), linewidth=3, color='r')\n",
    "\n",
    "# 실제 평균 밀도: dens.mean() = 0.334067 (노란 직선)\n",
    "ax.plot(bins, np.ones_like(bins)*dens.mean(), linewidth=2, color='y')\n",
    "\n",
    "ax.set_xlabel('x')\n",
    "ax.set_ylabel('Density')\n",
    "\n",
    "plt.show()"
   ]
  },
  {
   "cell_type": "markdown",
   "metadata": {},
   "source": [
    "이론적 평균 막대 높이와 실제 평균 막대 높이가 다르게 계산되는 이유는 부동소수점 연산에 기인한다.\n",
    "앞서 확인한 대로 구간별 실제 평균 도수는 $\\frac{1000}{25} = 40$이기에 평균 막대 높이 또한 \n",
    "이론적으로 다음과 같이 1/3로 나와야 한다.\n",
    "\n",
    "$$\n",
    "\\frac{40}{1000} \\cdot \\frac{1}{\\frac{3}{25}} = \\frac{1}{25} \\cdot \\frac{25}{3} = \\frac 1 3\n",
    "$$\n",
    "\n",
    "하지만 각 막대의 높이가 저장된 `dens`는 해당 구간의 실제 상대도수를 구간 크기 $3/25$으로 나눈 값을 사용하고,\n",
    "그 값들의 평균을 계산하기 위해 또다시 부동소수점 연산을 사용하면서 이론 평균값인 1/3과 약간의 오차가 발생하게 된다."
   ]
  },
  {
   "cell_type": "markdown",
   "metadata": {},
   "source": [
    "(sec:kde)=\n",
    "## 커널 밀도 추정"
   ]
  },
  {
   "cell_type": "markdown",
   "metadata": {},
   "source": [
    "데이터셋이 주어졌을 때\n",
    "**커널 밀도 추정**<font size='2'>kernel density estimation</font>(KDE) 기법을 이용하여\n",
    "데이터 분포에 대한 확률 밀도 함수를 구할 수 있다.\n",
    "여기서는 캘리포니아 데이터셋의 중위소득 분포에 대한 확률 밀도 함수를\n",
    "KDE에 기반하여 구현할 수 있음을 보인다."
   ]
  },
  {
   "cell_type": "markdown",
   "metadata": {},
   "source": [
    ":::{admonition} KDE 기법 이해\n",
    ":class: note\n",
    "\n",
    "여기서는 KDE의 활용 결과만 언급한다.\n",
    "KDE 기법 자체에 대한 설명은 나중에 정규 분포를 설명할 때 조금 다룬다.\n",
    "보다 자세한 설명은 위키피디아의\n",
    "[Kernal density estimation](https://en.wikipedia.org/wiki/Kernel_density_estimation)를 참고할 수 있다.\n",
    ":::"
   ]
  },
  {
   "cell_type": "markdown",
   "metadata": {},
   "source": [
    "### Seaborn 라이브러리"
   ]
  },
  {
   "cell_type": "markdown",
   "metadata": {},
   "source": [
    "캘리포니아 주택가격 데이터셋의 구역별 중위소득은 부동소수점을 사용하는 연속형 자료형이다."
   ]
  },
  {
   "cell_type": "code",
   "execution_count": 24,
   "metadata": {},
   "outputs": [
    {
     "name": "stdout",
     "output_type": "stream",
     "text": [
      "<class 'pandas.core.series.Series'>\n",
      "RangeIndex: 19675 entries, 0 to 19674\n",
      "Series name: median_income\n",
      "Non-Null Count  Dtype  \n",
      "--------------  -----  \n",
      "19675 non-null  float64\n",
      "dtypes: float64(1)\n",
      "memory usage: 153.8 KB\n"
     ]
    }
   ],
   "source": [
    "housing.info()"
   ]
  },
  {
   "cell_type": "markdown",
   "metadata": {},
   "source": [
    "앞서 중위소득 확률 분포에 대한 누적 분포 함수를 다음과 같이 정의하였다.\n",
    "\n",
    "```python\n",
    "def F_income(a):\n",
    "    mask = housing <= a # a 보다 같거나 작을 때만 1\n",
    "    return mask.mean()  # 전체 중에 True 인 지역의 비율 \n",
    "```"
   ]
  },
  {
   "cell_type": "markdown",
   "metadata": {},
   "source": [
    "하지만 `F_income()` 함수는 유한개의 데이터 샘플로 구성된 데이터셋을 이용하여 정의된 함수이기에 \n",
    "미분가능하지 않다. \n",
    "따라서 미분을 적용하여 중위소득 확률 분포에 대한 확률 밀도 함수를 구할 수 없다.\n",
    "`F_income()` 함수를 모든 실수에 대해 정의되도록 할 수는 있지만 여기서는 그런 수학 기법까지 사용하지는 않는다.\n",
    "\n",
    "대신 구간별 밀도 히스토그램을 이용하여 중위소득 데이터 분포에 대한 확률 밀도 함수의 그래프 형태를\n",
    "그려본 다음에 **커널 밀도 추정**<font size='2'>kernel density estimation</font>(KDE) 기법으로\n",
    "확률 밀도 함수를 구하는 방법을 소개한다."
   ]
  },
  {
   "cell_type": "markdown",
   "metadata": {},
   "source": [
    "아래 코드는 중위소득을 30개의 구간으로 등분하여 구간별 밀도를 막대로 표현한다."
   ]
  },
  {
   "cell_type": "code",
   "execution_count": 25,
   "metadata": {},
   "outputs": [
    {
     "data": {
      "image/png": "[encoded data removed]",
      "text/plain": [
       "<Figure size 640x480 with 1 Axes>"
      ]
     },
     "metadata": {},
     "output_type": "display_data"
    }
   ],
   "source": [
    "fig, ax = plt.subplots()\n",
    "\n",
    "# 구간별 밀도 히스토그램\n",
    "ax.hist(housing, bins=30, density=True)\n",
    "\n",
    "ax.set_xlim([-1, 16.7])\n",
    "ax.set_ylim([0.0, 0.299])\n",
    "\n",
    "ax.set_xlabel('median income')\n",
    "ax.set_ylabel('Density')\n",
    "\n",
    "plt.show()"
   ]
  },
  {
   "cell_type": "markdown",
   "metadata": {},
   "source": [
    "`plt.hist()` 함수를 `density=True` 키워드 인자와 함께 호출할 때 앞서 설명한 대로 막대 면적의 \n",
    "총합이 1이 되도록 구간별 막대의 높이가 지정된다.\n",
    "그러면 확률 밀도 함수의 그래프가 히스토그램에 사용된 막대들이 만드는 형태와 유사하게 그려진다. \n",
    "이유는 확률 밀도 함수 $f$와 $x$-축 사이의 면적이 지정된 구간 내에서 1이 되어야 하고,\n",
    "$f(x)$가 크다는 것은 $x$ 근처에 데이터가 많이 모여 있음을, \n",
    "즉 해당 구간의 상대도수가 커서 결국 구간 밀도 막대가 높게 그려지기 때문이다."
   ]
  },
  {
   "cell_type": "markdown",
   "metadata": {},
   "source": [
    "**`sns.kdeplot()` 함수**"
   ]
  },
  {
   "cell_type": "markdown",
   "metadata": {},
   "source": [
    "아래 코드의 `sns.kdeplot()` 함수는\n",
    "가우스 커널을 사용하는 밀도 추정 기법(Gaussian KDE)을 활용하여 **추정된** 확률 밀도 함수의 그래프를 그린다."
   ]
  },
  {
   "cell_type": "code",
   "execution_count": 26,
   "metadata": {},
   "outputs": [
    {
     "data": {
      "image/png": "[encoded data removed]",
      "text/plain": [
       "<Figure size 640x480 with 1 Axes>"
      ]
     },
     "metadata": {},
     "output_type": "display_data"
    }
   ],
   "source": [
    "fig, ax = plt.subplots()\n",
    "\n",
    "# 구간별 밀도 히스토그램\n",
    "ax.hist(housing, bins=30, density=True)\n",
    "\n",
    "# 추정된 확률 밀도 함수 그래프\n",
    "kde = sns.kdeplot(ax=ax, data=housing)\n",
    "\n",
    "plt.show()"
   ]
  },
  {
   "cell_type": "markdown",
   "metadata": {},
   "source": [
    "가우스 KDE 기법으로 추정된 확률 밀도 함수는 모든 실수에 대해 정의된다.\n",
    "이에 대한 자세한 설명은 이후에 정규 분포를 다룰 때 소개한다.\n",
    "\n",
    "데이터의 범위 내에서만 확률 밀도 함수의 그래프를 그리도록 하려면 \n",
    "`sns.kdeplot()` 함수를 호출할 때 `cut=0` 키워드 인자를 지정하면 된다."
   ]
  },
  {
   "cell_type": "code",
   "execution_count": 27,
   "metadata": {},
   "outputs": [
    {
     "data": {
      "image/png": "[encoded data removed]",
      "text/plain": [
       "<Figure size 640x480 with 1 Axes>"
      ]
     },
     "metadata": {},
     "output_type": "display_data"
    }
   ],
   "source": [
    "fig, ax = plt.subplots()\n",
    "\n",
    "# 구간별 밀도 히스토그램\n",
    "ax.hist(housing, bins=30, density=True)\n",
    "\n",
    "# 추정된 확률 밀도 함수 그래프\n",
    "kde = sns.kdeplot(ax=ax, data=housing, cut=0)\n",
    "\n",
    "plt.show()"
   ]
  },
  {
   "cell_type": "markdown",
   "metadata": {},
   "source": [
    "하지만 여기서는 `cut` 키워드 인자를 지정하지 않고 \n",
    "확률 밀도 함수를 추정된 그대로 사용한다.\n",
    "\n",
    "아래 코드는 확률 밀도 함수 그래프만 따로 확인한다.\n",
    "그래프의 곡선이 일부 구간에서 급격하게 변해서 조금 부자연스러워 보인다."
   ]
  },
  {
   "cell_type": "code",
   "execution_count": 28,
   "metadata": {},
   "outputs": [
    {
     "data": {
      "image/png": "[encoded data removed]",
      "text/plain": [
       "<Figure size 640x480 with 1 Axes>"
      ]
     },
     "metadata": {},
     "output_type": "display_data"
    }
   ],
   "source": [
    "fig, ax = plt.subplots()\n",
    "\n",
    "# 추정된 확률 밀도 함수 그래프\n",
    "kde = sns.kdeplot(ax=ax, data=housing, color='tab:orange')\n",
    "\n",
    "plt.show()"
   ]
  },
  {
   "cell_type": "markdown",
   "metadata": {},
   "source": [
    "`sns.kdeplot()` 함수의 `bw_method=0.19` 키워드 인자를 함께 사용하면\n",
    "추정된 확률 밀도 함수의 그래프가 보다 부드러워진다."
   ]
  },
  {
   "cell_type": "code",
   "execution_count": 29,
   "metadata": {},
   "outputs": [
    {
     "data": {
      "image/png": "[encoded data removed]",
      "text/plain": [
       "<Figure size 640x480 with 1 Axes>"
      ]
     },
     "metadata": {},
     "output_type": "display_data"
    }
   ],
   "source": [
    "fig, ax = plt.subplots()\n",
    "\n",
    "# 추정된 확률 밀도 함수 그래프\n",
    "kde = sns.kdeplot(ax=ax, data=housing, color='tab:orange', bw_method=0.19)\n",
    "\n",
    "plt.show()"
   ]
  },
  {
   "cell_type": "markdown",
   "metadata": {},
   "source": [
    "구간별 밀도 히스토그램과 함께 그리면 자연스럽게 막대들의 끝을 따라 부드럽게 움직이는 것처럼 보인다."
   ]
  },
  {
   "cell_type": "code",
   "execution_count": 30,
   "metadata": {},
   "outputs": [
    {
     "data": {
      "image/png": "[encoded data removed]",
      "text/plain": [
       "<Figure size 640x480 with 1 Axes>"
      ]
     },
     "metadata": {},
     "output_type": "display_data"
    }
   ],
   "source": [
    "fig, ax = plt.subplots()\n",
    "\n",
    "# 구간별 밀도 히스토그램\n",
    "ax.hist(housing, bins=30, density=True)\n",
    "\n",
    "# 추정된 확률 밀도 함수 그래프\n",
    "kde = sns.kdeplot(ax=ax, data=housing, bw_method=0.19)\n",
    "\n",
    "plt.show()"
   ]
  },
  {
   "cell_type": "markdown",
   "metadata": {},
   "source": [
    "`bw_method` 변수는 평활모수(smoothing parameter, bandwidth)라고 불리는 값을 인자로 받는다.\n",
    "기본 인자는 주어진 데이터를 활용해 자동으로 적절한 값으로 지정된다.\n",
    "보다 자세한 설명은 이후에 정규 분포를 다룰 때 다룬다.\n",
    "다만 값을 크게 지정할 수록 확률 밀도 함수 그래프의 곡선이 부드럽고 평평해진다는 점은 기억해 둔다.\n",
    "\n",
    "예를 들어 아래 코드는 `bw_method=1`로 지정했을 때 구간별 밀도 히스토그램과 많이 동떨어지게 \n",
    "추정된 확률 밀도 함수의 그래프를 생성함을 보여준다."
   ]
  },
  {
   "cell_type": "code",
   "execution_count": 31,
   "metadata": {},
   "outputs": [
    {
     "data": {
      "image/png": "[encoded data removed]",
      "text/plain": [
       "<Figure size 640x480 with 1 Axes>"
      ]
     },
     "metadata": {},
     "output_type": "display_data"
    }
   ],
   "source": [
    "fig, ax = plt.subplots()\n",
    "\n",
    "# 구간별 밀도 히스토그램\n",
    "ax.hist(housing, bins=30, density=True)\n",
    "\n",
    "# 추정된 확률 밀도 함수 그래프\n",
    "kde = sns.kdeplot(ax=ax, data=housing, bw_method=1)\n",
    "\n",
    "plt.show()"
   ]
  },
  {
   "cell_type": "markdown",
   "metadata": {},
   "source": [
    "중위소득 데이터의 경우엔\n",
    "자동으로 계산된 `bw_method`의 값보다 `bw_method=0.19`로 지정했을 때\n",
    "중위소득의 구간별 밀도 히스토그램과 보다 잘 어울리는 확률 밀도 함수 그래프가 그려진다고 판단된다.\n",
    "사실 커널 밀도 추정 기법은 여러 옵션에 의존하기 때문에 \n",
    "사용자 입장에서 경우에 따라 보다 적절한 옵션을 수동으로 지정해줄 필요가 있다."
   ]
  },
  {
   "cell_type": "markdown",
   "metadata": {},
   "source": [
    "**`sns.histplot()` 함수**"
   ]
  },
  {
   "cell_type": "markdown",
   "metadata": {},
   "source": [
    "Seaborn 라이브러리의 `histplot()` 함수가\n",
    "`plt.hist()` 함수와 키워드 인자를 받는 매개변수명은 다르지만 기본적으로 동일하게 작동한다.\n",
    "다만 Seaborn 라이브러리의 특성상 색상이 좀 더 연해진다."
   ]
  },
  {
   "cell_type": "code",
   "execution_count": 32,
   "metadata": {},
   "outputs": [
    {
     "data": {
      "image/png": "[encoded data removed]",
      "text/plain": [
       "<Figure size 640x480 with 1 Axes>"
      ]
     },
     "metadata": {},
     "output_type": "display_data"
    }
   ],
   "source": [
    "fig, ax = plt.subplots()\n",
    "\n",
    "# 구간별 밀도 히스토그램\n",
    "sns.histplot(ax=ax, data=housing, bins=30, stat='density')\n",
    "\n",
    "# 추정된 확률 밀도 함수 그래프\n",
    "kde = sns.kdeplot(ax=ax, data=housing, bw_method=.19, color='tab:orange')\n",
    "\n",
    "plt.show()"
   ]
  },
  {
   "cell_type": "markdown",
   "metadata": {},
   "source": [
    "참고로 `sns.kdeplot()` 함수의 반환값은 `matplotlib.axes._axes.Axes` 클래스의 객체이고\n",
    "그려지는 그래프의 모든 정보를 담고 있다.\n",
    "예를 들어 확률 밀도 함수 그래프의 좌표 정보는 아래와 같이 구한다. "
   ]
  },
  {
   "cell_type": "code",
   "execution_count": 33,
   "metadata": {},
   "outputs": [],
   "source": [
    "xs, ys = kde.get_lines()[0].get_data()"
   ]
  },
  {
   "cell_type": "markdown",
   "metadata": {},
   "source": [
    "이렇게 얻어진 좌표를 이용하여 그래프를 그리면 동일한 확률 밀도 함수 그래프를 얻는다."
   ]
  },
  {
   "cell_type": "code",
   "execution_count": 34,
   "metadata": {},
   "outputs": [
    {
     "data": {
      "image/png": "[encoded data removed]",
      "text/plain": [
       "<Figure size 640x480 with 1 Axes>"
      ]
     },
     "metadata": {},
     "output_type": "display_data"
    }
   ],
   "source": [
    "fig, ax = plt.subplots()\n",
    "\n",
    "ax.plot(xs, ys, color='#ff7f0e')\n",
    "ax.set_ylim([0.0, 0.299])\n",
    "\n",
    "plt.show()"
   ]
  },
  {
   "cell_type": "markdown",
   "metadata": {},
   "source": [
    "**`scipy.stats` 모듈**"
   ]
  },
  {
   "cell_type": "markdown",
   "metadata": {},
   "source": [
    "그런데 `sns.kdeplot()` 함수는 확률 밀도 함수 자체를 제공하지 않는다.\n",
    "대신 주요 통계 함수를 제공하는 `scipy.stats` 모듈의 `gaussian_kde()` 함수가\n",
    "`sns.kdeplot()` 함수와 동일한 방식으로 커널 밀도 추정 기법을 활용하여 \n",
    "주어진 데이터에 대한 확률 밀도 함수를 반환한다."
   ]
  },
  {
   "cell_type": "code",
   "execution_count": 35,
   "metadata": {},
   "outputs": [],
   "source": [
    "import scipy.stats"
   ]
  },
  {
   "cell_type": "markdown",
   "metadata": {},
   "source": [
    "아래 코드는 `sns.kdeplot()` 함수를 호출할 때 사용된 `bw_method=0.19`를 동일하게 사용하여\n",
    "중위소득 분포에 대한 확률 밀도 함수 `f_income()`을 정의한다."
   ]
  },
  {
   "cell_type": "code",
   "execution_count": 36,
   "metadata": {},
   "outputs": [],
   "source": [
    "f_income = scipy.stats.gaussian_kde(housing, bw_method=.19)"
   ]
  },
  {
   "cell_type": "markdown",
   "metadata": {},
   "source": [
    "이전 그래프에서 사용된 확률 밀도 함수 그래프와 동일한 그래프를 `f_income()` 함수를 이용하여 그릴 수 있다."
   ]
  },
  {
   "cell_type": "code",
   "execution_count": 37,
   "metadata": {},
   "outputs": [
    {
     "data": {
      "image/png": "[encoded data removed]",
      "text/plain": [
       "<Figure size 640x480 with 1 Axes>"
      ]
     },
     "metadata": {},
     "output_type": "display_data"
    }
   ],
   "source": [
    "fig, ax = plt.subplots()\n",
    "\n",
    "xs = np.arange(-0.2, 15.7, 0.01)\n",
    "\n",
    "ax.plot(xs, f_income(xs), color='#ff7f0e')\n",
    "# ax.set_xlim([-0.2, 15.7])\n",
    "ax.set_ylim([0.0, 0.299])\n",
    "\n",
    "plt.show()"
   ]
  },
  {
   "cell_type": "markdown",
   "metadata": {},
   "source": [
    "### 확률 밀도 함수 적분"
   ]
  },
  {
   "cell_type": "markdown",
   "metadata": {},
   "source": [
    "KDE 기법으로 생성된 확률 밀도 함수 `f_income()`이\n",
    "앞서 중위소득 데이터를 이용하여 직접 정의한 `F_income()` 함수의 미분함수에 해당한다는 사실을 근사적으로 보일 수 있다.\n",
    "이를 위해 `F_income(a)`가 `f_income()` 함수를 구간 `[-np.inf, a]`에서 정적분한 값과\n",
    "매우 유사함을 보인다.\n",
    "두 함숫값이 정확히 일치하지 않는 이유는 \n",
    "`f_income()` 함수는 KDE 기법으로 이론적으로 추정된 함수이기에\n",
    "함숫값 또한 추정값이기 때문이다."
   ]
  },
  {
   "cell_type": "markdown",
   "metadata": {},
   "source": [
    "**scipy.integrate 모듈**"
   ]
  },
  {
   "cell_type": "markdown",
   "metadata": {},
   "source": [
    "정적분을 프로그래밍으로 직접 구현하는 일은 간단하지 않기에 \n",
    "통계 관련 전문 라이브러리인 SciPy 라이브러리의 `integrate` 모듈에\n",
    "포함된 `quad()` 함수를 이용한다."
   ]
  },
  {
   "cell_type": "code",
   "execution_count": 38,
   "metadata": {},
   "outputs": [],
   "source": [
    "from scipy.integrate import quad"
   ]
  },
  {
   "cell_type": "markdown",
   "metadata": {},
   "source": [
    ":::{admonition} `scipy.integrate.quad()` 함수\n",
    ":class: note\n",
    "\n",
    "`quad()` 함수는 단변수 함수의 정적분을 계산한다.\n",
    "함수에 사용된 알고리즘은 Fortran 이라는 계산 전용 프로그래밍언어을 위해\n",
    "개발된 QUADPACK에 포함된 기능을 활용한다.\n",
    "그래서 함수의 이름도 `quad()` 정해진 것으로 알려졌다.\n",
    ":::"
   ]
  },
  {
   "cell_type": "markdown",
   "metadata": {},
   "source": [
    "아래 코드는 중위소득의 범위에서 `f_income()` 함수를 정적분한 결과를 보여준다.\n",
    "`quad()` 함수는 정적분값과 함께 계산된 값과 실제 값 사이의 오차를 함께 반환한다."
   ]
  },
  {
   "cell_type": "code",
   "execution_count": 39,
   "metadata": {},
   "outputs": [
    {
     "data": {
      "text/plain": [
       "(0.998388, 0.000000)"
      ]
     },
     "execution_count": 39,
     "metadata": {},
     "output_type": "execute_result"
    }
   ],
   "source": [
    "quad(f_income, housing.min(), housing.max())"
   ]
  },
  {
   "cell_type": "markdown",
   "metadata": {},
   "source": [
    "여기서는 `f_income()` 함수를 정적분했을 때\n",
    "임의로 선택된 구역의 중위소득이 지정된 구간 안에 포함될 확률의 추정치가 계산되는가를\n",
    "확인하고자 하기에 따라서 오차는 무시한다.\n",
    "\n",
    "아래 `P_estimate()` 함수는 `quad()` 함수를 이용하여 $P(a \\le X \\le b)$를 추정하는 함수다.\n",
    "즉, 앞서 정의한 `P_income()` 함수의 추정 함수다."
   ]
  },
  {
   "cell_type": "code",
   "execution_count": 40,
   "metadata": {},
   "outputs": [],
   "source": [
    "def P_estimate(a, b):\n",
    "    p, _ = quad(f_income, a, b)\n",
    "    return p"
   ]
  },
  {
   "cell_type": "markdown",
   "metadata": {},
   "source": [
    "실수 전체 영역에서는 확률이 1이다."
   ]
  },
  {
   "cell_type": "code",
   "execution_count": 41,
   "metadata": {},
   "outputs": [
    {
     "data": {
      "text/plain": [
       "1.000000"
      ]
     },
     "execution_count": 41,
     "metadata": {},
     "output_type": "execute_result"
    }
   ],
   "source": [
    "P_estimate(-np.inf, np.inf)"
   ]
  },
  {
   "cell_type": "markdown",
   "metadata": {},
   "source": [
    "중위소득 범위에서의 확률은 1보다 아주 조금 작다.\n",
    "이유는 앞서 추정된 확률 밀도 함수의 그래프에서 보았듯이\n",
    "데이터 분포의 영역 밖에서도 확률 밀도가 0보다 큰 영역이 존재하기 때문이다.\n",
    "KDE 기법이 원래 그렇게 작동한다."
   ]
  },
  {
   "cell_type": "code",
   "execution_count": 42,
   "metadata": {},
   "outputs": [
    {
     "data": {
      "text/plain": [
       "0.998388"
      ]
     },
     "execution_count": 42,
     "metadata": {},
     "output_type": "execute_result"
    }
   ],
   "source": [
    "P_estimate(housing.min(), housing.max())"
   ]
  },
  {
   "cell_type": "markdown",
   "metadata": {},
   "source": [
    "중위소득 범주가 2일 확률, 즉 중위소득이 1.5에서 3.0 사이에 위치할 확률은 다음과 같다."
   ]
  },
  {
   "cell_type": "code",
   "execution_count": 43,
   "metadata": {},
   "outputs": [
    {
     "data": {
      "text/plain": [
       "0.329210"
      ]
     },
     "execution_count": 43,
     "metadata": {},
     "output_type": "execute_result"
    }
   ],
   "source": [
    "P_estimate(1.5, 3.0)"
   ]
  },
  {
   "cell_type": "markdown",
   "metadata": {},
   "source": [
    "앞서 데이터로부터 직접 계산된 `P_income()` 함수가 계산한 확률과는 역시 약간의 오차만큼 작다."
   ]
  },
  {
   "cell_type": "code",
   "execution_count": 44,
   "metadata": {},
   "outputs": [
    {
     "data": {
      "text/plain": [
       "0.333011"
      ]
     },
     "execution_count": 44,
     "metadata": {},
     "output_type": "execute_result"
    }
   ],
   "source": [
    "P_income(1.5, 3.0)"
   ]
  },
  {
   "cell_type": "markdown",
   "metadata": {},
   "source": [
    "`P_estimate()` 함수의 첫째 인자를 음의 무한대로 지정하면 \n",
    "앞서 정의한 누적 분포 함수인 `F_income()`과 유사한 값을 계산한다.\n",
    "예를 들어 중위소득이 3.7 이하일 확률의 추정값은 다음과 같다."
   ]
  },
  {
   "cell_type": "code",
   "execution_count": 45,
   "metadata": {},
   "outputs": [
    {
     "data": {
      "text/plain": [
       "0.561979"
      ]
     },
     "execution_count": 45,
     "metadata": {},
     "output_type": "execute_result"
    }
   ],
   "source": [
    "P_estimate(-np.inf, 3.7)"
   ]
  },
  {
   "cell_type": "markdown",
   "metadata": {},
   "source": [
    "반면에 실제 확률은 다음과 같이 조금 더 크다."
   ]
  },
  {
   "cell_type": "code",
   "execution_count": 46,
   "metadata": {
    "scrolled": true
   },
   "outputs": [
    {
     "data": {
      "text/plain": [
       "0.567217"
      ]
     },
     "execution_count": 46,
     "metadata": {},
     "output_type": "execute_result"
    }
   ],
   "source": [
    "F_income(3.7)"
   ]
  },
  {
   "cell_type": "markdown",
   "metadata": {},
   "source": [
    "**결론**"
   ]
  },
  {
   "cell_type": "markdown",
   "metadata": {},
   "source": [
    "KDE 기법으로 추정된 확률 밀도 함수가 데이터셋의 실제 분포를 잘 추정한다."
   ]
  },
  {
   "cell_type": "markdown",
   "metadata": {},
   "source": [
    "## Cycler 색상표"
   ]
  },
  {
   "cell_type": "markdown",
   "metadata": {},
   "source": [
    "`matplotlib.axes._axes.Axes` 클래스는 이미지를 담당하는 객체를 생성할 때 활용된다.\n",
    "하나의 이미지에 여러 개의 그래프를 구분하며 그릴 때 색을 사용한다.\n",
    "`matplotlib.pyplot`과 `seaborn` 라이브러리는 하나의 이미지에 여러 개의 그래프를 그릴 때\n",
    "최대 10개의 색으로 구분한다.\n",
    "10개 보다 많은 그래프를 하나의 이미지에 그릴 때는 10개의 색이 순환되며,\n",
    "이런 의미에서 **cycler 색상표**라 부른다.\n",
    "\n",
    "아래 코드는 한 이미지에 포함된 여러 개의 그래프를 구분하기 위해 사용하는 10개의 색 순서와\n",
    "색 이름을 문자열과 hex code라 불리는 16진수를 멋진 이미지로 그린다."
   ]
  },
  {
   "cell_type": "markdown",
   "metadata": {},
   "source": [
    ":::{admonition} 주의사항\n",
    ":class: warning\n",
    "\n",
    "아래 코드는 그래프를 그릴 때 사용되는 색과 색의 코드를 보여주는 용도로만 사용된다.\n",
    "코드 자체를 이해하지 못해도 상관 없다.\n",
    ":::"
   ]
  },
  {
   "cell_type": "code",
   "execution_count": 47,
   "metadata": {},
   "outputs": [
    {
     "data": {
      "image/png": "[encoded data removed]",
      "text/plain": [
       "<Figure size 640x480 with 1 Axes>"
      ]
     },
     "metadata": {},
     "output_type": "display_data"
    }
   ],
   "source": [
    "import matplotlib.pyplot as plt\n",
    "import numpy as np\n",
    "\n",
    "from matplotlib.colors import TABLEAU_COLORS, same_color\n",
    "\n",
    "\n",
    "def sigmoid_like(x, pos):\n",
    "    \"\"\"S-자 곡선 함수. 대략적으로 pos 위치에서 끝남.\"\"\"\n",
    "    return 0.85 * pos * (1 / (1 + np.exp(-x)) + 0.2)\n",
    "\n",
    "\n",
    "fig, ax = plt.subplots()\n",
    "ax.axis('off')\n",
    "ax.set_title(\"Colors in the default property cycle\")\n",
    "\n",
    "prop_cycle = plt.rcParams['axes.prop_cycle']\n",
    "colors = prop_cycle.by_key()['color']\n",
    "x = np.linspace(-4, 4, 200)\n",
    "\n",
    "for i, (color, color_name) in enumerate(zip(colors, TABLEAU_COLORS)):\n",
    "    assert same_color(color, color_name)\n",
    "    pos = 4.5 - i\n",
    "    ax.plot(x, sigmoid_like(x, pos))\n",
    "    ax.text(4.2, pos, f\"'C{i}': '{color_name}' ('{color}')\", color=color, va=\"center\")\n",
    "    ax.bar(11, 1, width=1.5, bottom=pos-0.5)\n",
    "\n",
    "plt.show()"
   ]
  },
  {
   "cell_type": "markdown",
   "metadata": {},
   "source": [
    "참고로 지금까지 확률 밀도 함수의 그래프는 모두 Cycler 색상의 두번째(C2)인 주황색(`tab:orange` 또는 `#ff7f0e`)으로 지정되었다."
   ]
  },
  {
   "cell_type": "markdown",
   "metadata": {},
   "source": [
    "## 연습문제"
   ]
  },
  {
   "cell_type": "markdown",
   "metadata": {},
   "source": [
    "참고: [(연습) 연속 확률 분포](https://colab.research.google.com/github/codingalzi/DataSci/blob/master/practices/practice-probability_continuous.ipynb)"
   ]
  }
 ],
 "metadata": {
  "kernelspec": {
   "display_name": "Python 3 (ipykernel)",
   "language": "python",
   "name": "python3"
  },
  "language_info": {
   "codemirror_mode": {
    "name": "ipython",
    "version": 3
   },
   "file_extension": ".py",
   "mimetype": "text/x-python",
   "name": "python",
   "nbconvert_exporter": "python",
   "pygments_lexer": "ipython3",
   "version": "3.12.2"
  },
  "toc": {
   "nav_menu": {},
   "number_sections": true,
   "sideBar": true,
   "skip_h1_title": false,
   "toc_cell": false,
   "toc_position": {},
   "toc_section_display": "block",
   "toc_window_display": false
  }
 },
 "nbformat": 4,
 "nbformat_minor": 2
}