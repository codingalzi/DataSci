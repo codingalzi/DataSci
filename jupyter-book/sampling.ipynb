{
 "cells": [
  {
   "cell_type": "markdown",
   "metadata": {
    "ExecuteTime": {
     "end_time": "2018-03-06T03:37:40.696920Z",
     "start_time": "2018-03-06T03:37:40.690655Z"
    }
   },
   "source": [
    "# 모집단, 표본, 확률변수"
   ]
  },
  {
   "cell_type": "markdown",
   "metadata": {},
   "source": [
    "**기본 설정**"
   ]
  },
  {
   "cell_type": "markdown",
   "metadata": {
    "ExecuteTime": {
     "end_time": "2018-08-03T08:26:15.690793Z",
     "start_time": "2018-08-03T08:26:15.507201Z"
    }
   },
   "source": [
    "Numpy와 Pandas 라이브러리를 각각 np와 pd로 불러온다."
   ]
  },
  {
   "cell_type": "code",
   "execution_count": 1,
   "metadata": {
    "ExecuteTime": {
     "end_time": "2018-08-14T06:43:30.149227Z",
     "start_time": "2018-08-14T06:43:29.960007Z"
    }
   },
   "outputs": [],
   "source": [
    "import numpy as np\n",
    "import pandas as pd"
   ]
  },
  {
   "cell_type": "markdown",
   "metadata": {},
   "source": [
    "데이터프레임의 [chained indexing을 금지시키기 위한 설정](https://pandas.pydata.org/pandas-docs/stable/user_guide/indexing.html#returning-a-view-versus-a-copy)을 지정한다.\n",
    "Pandas 3.0 버전부터는 기본 옵션으로 지정된다."
   ]
  },
  {
   "cell_type": "code",
   "execution_count": 2,
   "metadata": {},
   "outputs": [],
   "source": [
    "pd.options.mode.copy_on_write = True"
   ]
  },
  {
   "cell_type": "markdown",
   "metadata": {
    "ExecuteTime": {
     "end_time": "2018-08-14T06:43:30.149227Z",
     "start_time": "2018-08-14T06:43:29.960007Z"
    }
   },
   "source": [
    "주피터 노트북에서 부동소수점의 출력을 소수점 이하 6자리로 제한한다.\n",
    "아래 코드는 주피터 노트북에서만 사용하며 일반적인 파이썬 코드가 아니다."
   ]
  },
  {
   "cell_type": "code",
   "execution_count": 3,
   "metadata": {
    "ExecuteTime": {
     "end_time": "2018-08-14T06:43:30.149227Z",
     "start_time": "2018-08-14T06:43:29.960007Z"
    }
   },
   "outputs": [
    {
     "data": {
      "text/plain": [
       "'%.6f'"
      ]
     },
     "execution_count": 3,
     "metadata": {},
     "output_type": "execute_result"
    }
   ],
   "source": [
    "%precision 6"
   ]
  },
  {
   "cell_type": "markdown",
   "metadata": {
    "ExecuteTime": {
     "end_time": "2018-08-14T06:43:30.149227Z",
     "start_time": "2018-08-14T06:43:29.960007Z"
    }
   },
   "source": [
    "아래 코드는 데이터프레임 내에서 부동소수점의 출력을 소수점 이하 6자리로 제한한다."
   ]
  },
  {
   "cell_type": "code",
   "execution_count": 4,
   "metadata": {
    "ExecuteTime": {
     "end_time": "2018-08-14T06:43:30.149227Z",
     "start_time": "2018-08-14T06:43:29.960007Z"
    }
   },
   "outputs": [],
   "source": [
    "pd.set_option('display.precision', 6)"
   ]
  },
  {
   "cell_type": "markdown",
   "metadata": {},
   "source": [
    "데이터 시각화를 위해 `matplotlib.pyplot`를 `plt`라는 별칭으로 불러온다."
   ]
  },
  {
   "cell_type": "code",
   "execution_count": 5,
   "metadata": {},
   "outputs": [],
   "source": [
    "import matplotlib.pyplot as plt"
   ]
  },
  {
   "cell_type": "markdown",
   "metadata": {},
   "source": [
    "**데이터 저장소 디렉토리**"
   ]
  },
  {
   "cell_type": "markdown",
   "metadata": {},
   "source": [
    "코드에 사용되는 [데이터 저장소의 기본 디렉토리](https://github.com/codingalzi/DataSci/tree/master/data)를 지정한다."
   ]
  },
  {
   "cell_type": "code",
   "execution_count": 6,
   "metadata": {},
   "outputs": [],
   "source": [
    "data_url = 'https://raw.githubusercontent.com/codingalzi/DataSci/refs/heads/master/data/'"
   ]
  },
  {
   "cell_type": "markdown",
   "metadata": {},
   "source": [
    "**주요 내용**"
   ]
  },
  {
   "cell_type": "markdown",
   "metadata": {},
   "source": [
    "구할 수 있는 또는 구해진 몇 개의 데이터만을 이용하여\n",
    "전체 데이터에 대한 통계적 성질을 추측하는 추측통계의 기본 개념을 소개한다.\n",
    "\n",
    "- 모집단\n",
    "- 표본\n",
    "- 표본추출\n",
    "- 확률분포\n",
    "- 확률변수"
   ]
  },
  {
   "cell_type": "markdown",
   "metadata": {},
   "source": [
    "## 모집단과 표본"
   ]
  },
  {
   "cell_type": "code",
   "execution_count": 8,
   "metadata": {
    "ExecuteTime": {
     "end_time": "2018-08-18T08:15:59.206470Z",
     "start_time": "2018-08-18T08:15:59.202081Z"
    }
   },
   "outputs": [],
   "source": [
    "df = pd.read_csv(data_url+'ch04_scores400.csv')\n",
    "scores = np.array(df['score'])"
   ]
  },
  {
   "cell_type": "code",
   "execution_count": 9,
   "metadata": {
    "ExecuteTime": {
     "end_time": "2018-08-18T08:15:59.206470Z",
     "start_time": "2018-08-18T08:15:59.202081Z"
    }
   },
   "outputs": [
    {
     "data": {
      "text/plain": [
       "array([76, 55, 80, 80, 74, 61, 81, 76, 23, 80])"
      ]
     },
     "execution_count": 9,
     "metadata": {},
     "output_type": "execute_result"
    }
   ],
   "source": [
    "scores[:10]"
   ]
  },
  {
   "cell_type": "code",
   "execution_count": 10,
   "metadata": {},
   "outputs": [
    {
     "data": {
      "text/plain": [
       "array([ 76,  55,  80,  80,  74,  61,  81,  76,  23,  80,  41,  80,  68,\n",
       "        88,  69,  57,  68,  86,  70,  68,  81,  73,  70,  90,  93,  79,\n",
       "        66,  92,  88,  81,  52,  72,  59,  68,  74,  72,  63,  89,  45,\n",
       "        81,  42,  76,  57,  83,  71,  74,  55,  60,  73,  79, 100,  73,\n",
       "        85,  47,  50,  65,  52,  92,  64,  91,  92,  71,  78,  69,  78,\n",
       "        77,  68,  78,  96,  81,  75,  72,  55,  55,  75,  49,  59,  89,\n",
       "        99,  45,  94,  67,  70,  68,  86,  46,  77,  56,  79,  93,  70,\n",
       "        76,  76,  58,  93,  96,  81,  71,  63,  61,  96,  91,  69,  46,\n",
       "        28,  54,  68,  91,  60,  78,  90,  72,  68,  50,  52,  76,  67,\n",
       "        72,  69,  80,  58,  65,  98,  58,  66,  61,  77,  85,  63,  64,\n",
       "        66,  78,  59,  64,  34,  49,  68,  83,  74,  54,  49,  73,  45,\n",
       "        86,  71,  46,  56,  59,  58,  48,  57,  60,  59,  87,  72,  55,\n",
       "        65,  57,  65,  83,  74, 100,  76,  56,  82,  86,  86,  54,  68,\n",
       "        87,  45,  63,  49,  56,  55,  89,  66,  57,  54,  72,  70,  90,\n",
       "        78,  49,  61,  86,  61,  96,  54,  79,  57,  62,  86,  68,  82,\n",
       "        77,  81,  57,  67,  76,  57,  94,  58,  65,  55,  38,  97,  67,\n",
       "        63,  67,  91,  56,  80,  64,  61,  79,  85,  62,  58,  52,  87,\n",
       "        61,  42,  91,  49,  82,  73,  74,  61,  75,  45,  79,  93,  83,\n",
       "        40,  55,  67,  77,  68,  63,  79,  87,  67,  81,  31,  56,  65,\n",
       "        63,  75,  85,  78,  61,  47,  78,  42,  80,  67,  52,  74,  70,\n",
       "        69,  69,  76,  84,  77,  85,  69,  94,  79,  62,  54,  73,  50,\n",
       "        55,  74,  61,  56,  69,  71,  67,  64,  83,  75,  67, 100,  73,\n",
       "        87,  62,  50,  58,  66,  63,  90,  68,  77,  69,  63,  71,  96,\n",
       "        58,  82,  55,  63,  70,  75,  92,  69,  57,  80,  65,  74,  68,\n",
       "        41,  78,  79,  84,  97,  52,  78,  76,  64,  76,  77,  52,  74,\n",
       "        56,  60,  43,  63,  67,  78,  70,  47,  83,  68,  77,  84,  91,\n",
       "        99,  69,  75,  54,  86,  52,  43,  82,  62,  82,  76,  46,  29,\n",
       "        54,  70,  52,  60,  48,  73,  71,  63,  91,  92,  78,  43,  53,\n",
       "        76,  61,  63,  83,  78,  90,  64,  91,  62,  92,  72,  57,  46,\n",
       "        65,  66,  83,  68,  64,  86,  67,  61,  79,  63,  80,  61,  67,\n",
       "        72,  64,  70,  82,  76,  77,  60,  83,  80,  85])"
      ]
     },
     "execution_count": 10,
     "metadata": {},
     "output_type": "execute_result"
    }
   ],
   "source": [
    "scores"
   ]
  },
  {
   "cell_type": "code",
   "execution_count": 130,
   "metadata": {},
   "outputs": [
    {
     "data": {
      "text/plain": [
       "69.530000"
      ]
     },
     "execution_count": 130,
     "metadata": {},
     "output_type": "execute_result"
    }
   ],
   "source": [
    "np.mean(scores)"
   ]
  },
  {
   "cell_type": "code",
   "execution_count": 11,
   "metadata": {},
   "outputs": [
    {
     "data": {
      "text/plain": [
       "14.375990"
      ]
     },
     "execution_count": 11,
     "metadata": {},
     "output_type": "execute_result"
    }
   ],
   "source": [
    "np.std(scores)"
   ]
  },
  {
   "cell_type": "code",
   "execution_count": 140,
   "metadata": {},
   "outputs": [
    {
     "data": {
      "text/plain": [
       "array([  5,   5,  -1,  10,   9,   8,  -3,  -5,  -6,  -1,   8,   8,  14,\n",
       "         8,  11,   1,  14, -12,   3, -12,   9,  12,   4,   1,  -3,  -3,\n",
       "         5,  -7,  -2,  -7,  -7,   0, -11,  10,  -8,   0, -12, -13,  13,\n",
       "       -13,  -8,  12, -11,  -4,   5,  -3,  -3,  -2,   4,   8,  -2,  -9,\n",
       "         9,  -3,   4,   6,   9,  -4,  13,  -5,   1,   1,  -9,  -3,   4,\n",
       "       -11,   9,   6,  -5,  -7,  -4, -12,   4,  12,  -9,   0,   7,  13,\n",
       "         2,  13, -10, -10,  12, -13,  -1,  11,  -2,  -5,  -6, -10,   5,\n",
       "         3,  -1,  -6,  13,   0,  -5,  -7,  -4,  -9, -13,  -9,  -7,   3,\n",
       "        -4,  -6,   3,   1,   1,  -2,  12,  -4,  -2,   2, -10, -10, -10,\n",
       "       -13,  -9,  -1,  -7,  13,  -3,   4,  -8,  14,  10,  10,   5,   5,\n",
       "        11,  -5, -11,  -8,  11,  14,  14,  -6, -13,  -7,  14,  -8, -12,\n",
       "         5,  13,  -2,  12,  -2,   8,  -1,  -2,   9,   3,   5,  -4,  11,\n",
       "         2,   3,  -4,  13, -12,  -4,  -1, -11,  10,  11, -14,  14,  -4,\n",
       "        10,  -3,  10,  14,  13,  13, -10, -13,  11, -14,   8, -12,   6,\n",
       "       -13, -12,  -9, -14,  -1, -11,  -2,  -4,   8,   9,  13,   2,  13,\n",
       "         3,  14,   5,  -5,  -1,  -6,  -7,   5,   3,   0,   7,  -9,  12,\n",
       "        12,   7,  -5,  -3,   6, -10,  13,   0, -13,   1,  -5,  14, -10,\n",
       "        -1,  14,  -7,   6,   0,  -6,   1,   8,  14,  -1,  -5,  -3, -13,\n",
       "         9, -14,   9,  -2, -10,  -9,  11,  -9,   2,  11,  -9,   5,   0,\n",
       "       -12,  -6,   5,  -4,  -4,  -2, -12, -12, -13,  -3,  -8,   4,  -3,\n",
       "        13,  -3, -12,  13,  -4,  13,   4, -14,  -6, -11,  -6,   7,  10,\n",
       "       -14,   5,  10,  -9,  -8, -13,  -5,  14,  14,  -7,  -9,  -7, -10,\n",
       "         2,  -6, -11, -12,  -6,   5,   2,   8,   6,   4,  -1,  -2, -10,\n",
       "         7,  10,   2,   2,   2, -11,  13,  -2, -14,  -7,  -1, -12, -12,\n",
       "         0,   2,  11,  -8,  11,  -8, -13,   1,  -2,  -7,   2, -11,  14,\n",
       "         5,  -6,   9, -14,   8,  12,   3,  -3, -12,  12,   9, -10,  -5,\n",
       "         1,  14, -13,   9,  -8,  -5,   3, -12,  -7,   2,   1,  12,   5,\n",
       "        12,  14,   1, -12,   2,  13, -14,   6,   5,  10,  10,   6, -12,\n",
       "       -10,  12,   2,   5, -10,  12,  -9, -10,   2,   5,  13,   9,   3,\n",
       "       -12,  14,  -8,   2, -10,   1, -12,  -1,   9,   9,   1,  -6, -10,\n",
       "         4,  -2,   4,  12,   6,   0, -14,  -8, -12,  12,   8,  -4,   7,\n",
       "       -12,  -5, -11, -11, -12,   2,  -7,   5,  -2,  11,  13,   8,   6,\n",
       "         1,  -9, -11, -10,  -8,   0,   0,   1,  10,   4,  11,   0,  -5,\n",
       "         9,  -1,   5,   3,  10,   8,   2,   9, -10, -12,   5,  -6, -13,\n",
       "        -2,  -9,   4,   2,  -7,  13,   0, -12, -12,   4,  -5,  11,   2,\n",
       "       -13, -10,  10,  12, -12,   6,  -6,   0,   5, -13,   7,  10,   6,\n",
       "       -10,   9,   1,  14,   4,   8, -13, -10, -10,  -3,  10,  -3,   1,\n",
       "        -2,  12,  -3, -13,   2,  -5,  -1,  -8,  11,  -3,   3,  -3, -14,\n",
       "        -4,   8, -11,   3,  13,   6])"
      ]
     },
     "execution_count": 140,
     "metadata": {},
     "output_type": "execute_result"
    }
   ],
   "source": [
    "x = np.random.choice(range(-14, 15), size=(500,))\n",
    "x"
   ]
  },
  {
   "cell_type": "code",
   "execution_count": 141,
   "metadata": {},
   "outputs": [
    {
     "ename": "ValueError",
     "evalue": "operands could not be broadcast together with shapes (400,) (500,) ",
     "output_type": "error",
     "traceback": [
      "\u001b[0;31m---------------------------------------------------------------------------\u001b[0m",
      "\u001b[0;31mValueError\u001b[0m                                Traceback (most recent call last)",
      "Cell \u001b[0;32mIn[141], line 1\u001b[0m\n\u001b[0;32m----> 1\u001b[0m scores \u001b[38;5;241m=\u001b[39m scores \u001b[38;5;241m+\u001b[39m x\n",
      "\u001b[0;31mValueError\u001b[0m: operands could not be broadcast together with shapes (400,) (500,) "
     ]
    }
   ],
   "source": [
    "scores = scores + x"
   ]
  },
  {
   "cell_type": "code",
   "execution_count": 136,
   "metadata": {},
   "outputs": [
    {
     "data": {
      "text/plain": [
       "69.792500"
      ]
     },
     "execution_count": 136,
     "metadata": {},
     "output_type": "execute_result"
    }
   ],
   "source": [
    "np.mean(math)"
   ]
  },
  {
   "cell_type": "code",
   "execution_count": 137,
   "metadata": {},
   "outputs": [
    {
     "data": {
      "text/plain": [
       "69.530000"
      ]
     },
     "execution_count": 137,
     "metadata": {},
     "output_type": "execute_result"
    }
   ],
   "source": [
    "np.mean(scores)"
   ]
  },
  {
   "cell_type": "code",
   "execution_count": 139,
   "metadata": {},
   "outputs": [
    {
     "data": {
      "text/plain": [
       "<matplotlib.collections.PathCollection at 0x7f10c76c7350>"
      ]
     },
     "execution_count": 139,
     "metadata": {},
     "output_type": "execute_result"
    },
    {
     "data": {
      "image/png": "[encoded data removed]",
      "text/plain": [
       "<Figure size 640x480 with 1 Axes>"
      ]
     },
     "metadata": {},
     "output_type": "display_data"
    }
   ],
   "source": [
    "plt.scatter(scores, math)"
   ]
  },
  {
   "cell_type": "code",
   "execution_count": null,
   "metadata": {},
   "outputs": [],
   "source": []
  },
  {
   "cell_type": "code",
   "execution_count": null,
   "metadata": {},
   "outputs": [],
   "source": []
  },
  {
   "cell_type": "code",
   "execution_count": null,
   "metadata": {},
   "outputs": [],
   "source": []
  },
  {
   "cell_type": "code",
   "execution_count": 152,
   "metadata": {},
   "outputs": [
    {
     "data": {
      "text/plain": [
       "array([ 61.,  64.,  58.,  77.,  55.,  85.,  84.,  89.,  80.,  68.,  74.,\n",
       "        47.,  56.,  61.,  67.,  33.,  39.,  98.,  68.,  78.,  56.,  75.,\n",
       "        58.,  73.,  58.,  67.,  52.,  71.,  76.,  93.,  86.,  82.,  67.,\n",
       "        84.,  72.,  77.,  92.,  63.,  54.,  82.,  45.,  70.,  72.,  48.,\n",
       "        65.,  60.,  66.,  49.,  44.,  65.,  60.,  67.,  81., 112.,  94.,\n",
       "        86.,  37.,  71.,  46.,  91.,  76.,  66.,  44.,  56.,  66.,  68.,\n",
       "        61.,  81.,  82.,  54., 104., 101.,  98.,  67.,  72.,  87.,  97.,\n",
       "        70.,  71.,  79.,  86.,  84.,  78.,  81.,  69.,  73.,  70.,  61.,\n",
       "        91.,  56.,  57.,  62.,  59.,  76.,  88.,  59.,  47.,  76.,  98.,\n",
       "        63.,  76.,  62.,  70.,  67.,  87.,  84.,  74.,  54.,  74.,  71.,\n",
       "        62.,  74.,  44.,  72.,  69.,  88.,  35.,  79.,  80.,  75.,  55.,\n",
       "        97.,  69.,  92.,  70.,  71.,  93.,  62.,  82.,  54.,  38.,  52.,\n",
       "        59.,  65.,  59.,  43.,  62.,  47.,  40.,  40.,  77.,  55.,  75.,\n",
       "        81.,  62.,  63.,  51.,  74.,  93.,  66.,  71.,  61.,  90.,  91.,\n",
       "        95.,  75.,  83.,  91.,  68.,  85.,  79.,  75.,  60.,  65.,  77.,\n",
       "        81.,  85.,  74.,  47.,  73.,  54.,  83.,  47.,  58.,  85.,  77.,\n",
       "        68.,  64.,  76.,  70.,  58.,  68.,  55.,  89.,  52.,  81.,  70.,\n",
       "        62.,  76., 104.,  89., 108.,  77.,  77.,  67.,  53.,  62.,  76.,\n",
       "        68.,  86.,  62.,  65.,  54.,  72.,  73.,  73.,  79.,  58.,  62.,\n",
       "        63.,  77., 108.,  62.,  65.,  68.,  61.,  86.,  58.,  78.,  84.,\n",
       "        55.,  88.,  54.,  66.,  74.,  66.,  70.,  59.,  98.,  57.,  57.,\n",
       "        76.,  68.,  50.,  91.,  62.,  56.,  71.,  72.,  80.,  42.,  72.,\n",
       "        46.,  75.,  71.,  66.,  77.,  60.,  75.,  74.,  63.,  69., 100.,\n",
       "        66.,  85.,  72.,  85.,  99.,  58.,  81.,  54.,  76.,  96.,  86.,\n",
       "        74.,  93.,  74.,  75.,  47.,  57.,  81.,  52.,  51.,  51.,  74.,\n",
       "        65.,  69.,  81.,  52.,  64.,  82.,  73.,  47.,  65.,  71.,  67.,\n",
       "        47.,  95.,  91.,  81.,  77.,  80.,  82.,  62.,  92.,  93.,  65.,\n",
       "        61.,  94.,  79.,  90.,  68.,  94.,  90.,  85.,  76.,  69.,  56.,\n",
       "        64.,  64.,  62.,  77.,  26.,  55.,  56.,  94.,  50.,  66.,  94.,\n",
       "        57.,  73.,  60.,  84.,  46.,  55.,  89.,  59.,  95.,  40.,  70.,\n",
       "        79.,  87.,  61.,  87.,  78.,  80.,  63.,  84.,  69., 107.,  75.,\n",
       "        87.,  58.,  78.,  72.,  83.,  49.,  57.,  75.,  37.,  76., 107.,\n",
       "        76.,  69.,  58.,  42.,  84.,  79.,  66.,  61.,  94.,  65.,  82.,\n",
       "        56.,  77.,  74.,  83.,  86.,  80.,  72.,  81.,  88.,  50.,  77.,\n",
       "        76.,  74.,  41.,  68.,  57.,  88.,  66.,  43.,  78.,  49.,  51.,\n",
       "        76.,  33.,  67.,  75.,  66.,  68.,  37.,  86.,  70.,  68.,  74.,\n",
       "        57.,  72.,  80.,  62.,  90.,  53.,  86.,  77.,  59.,  97., 103.,\n",
       "        86.,  57.,  68.,  75.,  55.,  61.,  55.,  92.,  67.,  56.,  77.,\n",
       "        82.,  77.,  84.,  48.,  76.,  78.,  72.,  62.,  58.,  91.,  61.,\n",
       "        67.,  65.,  69.,  92.,  42.,  64.,  79.,  75.,  79.,  72.,  80.,\n",
       "        63.,  42.,  65.,  75.,  79.,  75.,  57.,  63.,  50.,  83.,  83.,\n",
       "        52.,  76.,  60.,  64.,  84.,  72., 101.,  55.,  68.,  74.,  53.,\n",
       "        81.,  62.,  51.,  86.,  78.,  50.,  76.,  77.,  85.,  69.,  31.,\n",
       "        93.,  39., 112.,  85.,  59.,  65.,  93.,  49.,  80.,  70.,  47.,\n",
       "        77.,  84.,  79.,  70.,  77.,  68.,  87.,  72.,  82.,  54.,  92.,\n",
       "        64.,  40.,  47.,  90.,  90.])"
      ]
     },
     "execution_count": 152,
     "metadata": {},
     "output_type": "execute_result"
    }
   ],
   "source": [
    "eng_scores_ = np.random.normal(69.53, 14.4, (500,))\n",
    "eng_scores = eng_scores_.round()\n",
    "eng_scores"
   ]
  },
  {
   "cell_type": "code",
   "execution_count": 157,
   "metadata": {},
   "outputs": [],
   "source": [
    "math_scores_ = eng_scores_ + np.random.normal(0, 20, (500,))\n",
    "math_scores = math_scores_.round()"
   ]
  },
  {
   "cell_type": "code",
   "execution_count": 158,
   "metadata": {},
   "outputs": [
    {
     "data": {
      "text/plain": [
       "array([ 34.,  54.,  88.,  81.,  62.,  98.,  80.,  85.,  82.,  70.,  44.,\n",
       "        25.,  87.,  64.,  51.,   7.,  30.,  96.,  85.,  53.,   8.,  86.,\n",
       "        51.,  70.,  42.,  20.,  95.,  78.,  89., 103., 114.,  79.,  79.,\n",
       "        71.,  35., 125., 124.,  57.,  44.,  74.,  83.,  54.,  84.,  21.,\n",
       "        70.,  53.,  54.,  78.,  58.,  99.,  90.,  60.,  45.,  97.,  88.,\n",
       "        69., -13.,  50.,  23.,  91.,  64.,  55.,  55.,  54., 106.,  71.,\n",
       "        45.,  79., 103.,  73., 108., 128.,  90.,  56.,  52.,  65.,  95.,\n",
       "        73.,  70.,  48.,  87.,  90., 100.,  89.,  83.,  58.,  84.,  60.,\n",
       "        64.,  70.,  57.,  42.,  66.,  73.,  54.,  60.,  44.,  97., 102.,\n",
       "        36.,  99.,  87.,  96.,  81., 114.,  63.,  85.,  56.,  90.,  84.,\n",
       "        49.,  41.,  35.,  89.,  81.,  55.,  72., 103.,  62.,  75.,  28.,\n",
       "       114.,  53.,  89.,  79.,  90., 121.,  93., 109.,  54.,  36.,  74.,\n",
       "        71.,  82.,  97.,  43.,  73.,  40.,  43.,  20.,  99.,  56.,  45.,\n",
       "       106.,  49.,  63., 101.,  76., 104.,  35.,  51.,  66., 111.,  76.,\n",
       "       101.,  73.,  74., 107.,  58.,  90.,  88.,  75.,  52.,  40.,  70.,\n",
       "        91.,  47., 101.,  34., 102.,  63.,  62.,  23.,  60.,  64.,  57.,\n",
       "        82.,  58.,  94.,  37.,  75.,  60.,  60.,  96.,  37.,  86.,  71.,\n",
       "        75.,  59., 126.,  80., 110.,  60.,  56.,  77.,  53.,  49.,  80.,\n",
       "        42.,  96.,  61.,  62.,  88.,  54.,  47.,  82.,  69.,  52.,  38.,\n",
       "        69.,  61., 124.,  56.,  70.,  79.,  77.,  90.,  89.,  85.,  86.,\n",
       "        31., 118.,  20.,  31.,  72.,  54.,  74.,  49.,  77.,  62.,  50.,\n",
       "        77.,  81.,  75.,  85.,  32.,  49.,  83.,  62.,  74.,  35., 108.,\n",
       "        38.,  63.,  39.,  58.,  81.,  71.,  76.,  52.,  45.,  62.,  88.,\n",
       "        79.,  88.,  98., 122., 121.,  37.,  63.,  29.,  50.,  83., 111.,\n",
       "        46., 115.,  71.,  77.,  58.,  94.,  52.,  44.,  24.,  83.,  87.,\n",
       "        77., 102.,  79.,  78.,  55.,  79.,  81.,  50.,  87.,  99.,  43.,\n",
       "         8.,  83.,  64.,  63.,  87.,  88.,  89.,  87., 120.,  61.,  52.,\n",
       "        54.,  57.,  74., 104.,  46., 105.,  70.,  82.,  89.,  39.,  51.,\n",
       "        46.,  98.,  76.,  91.,  42.,  53.,  46.,  76.,  69.,  47., 115.,\n",
       "        68.,  65.,  79.,  55.,  45., 102.,  84.,  71., 109.,  59.,  97.,\n",
       "       103., 101.,  35.,  78.,  73.,  83.,  49.,  65.,  76., 112.,  70.,\n",
       "        86.,  84.,  71.,  48.,  64.,  23.,  53.,  72.,  36.,  63.,  89.,\n",
       "        85., 103.,  49.,  53.,  82.,  72.,  65.,  42., 109.,  82.,  91.,\n",
       "        26.,  76.,  74.,  80.,  97.,  69.,  75., 114.,  68.,  64.,  85.,\n",
       "        39.,  61.,  49.,  91.,  81.,  67.,  73.,  92.,  87.,  39.,  42.,\n",
       "        66.,  41.,  72.,  30.,  61.,  57.,  21.,  89.,  81.,  89.,  60.,\n",
       "        56.,  82.,  77.,  45.,  97.,  85.,  49.,  56.,  61., 106.,  96.,\n",
       "        64.,  54.,  68.,  57.,  72.,  51.,  53., 107.,  48.,  51., 118.,\n",
       "        89., 113., 104.,  63.,  78.,  36.,  84.,  91.,  29.,  94.,  78.,\n",
       "       -12.,  81.,  69.,  75.,  55.,  36., 118., 119., 101.,  87.,  79.,\n",
       "        74.,  46.,  87.,  58.,  85.,  72.,  29.,  65.,  61.,  61.,  49.,\n",
       "        35.,  86.,  39.,  82.,  72.,  42., 124.,  64.,  38.,  66.,  36.,\n",
       "        64.,  96.,  55., 103.,  74.,  95.,  93.,  57.,  67., 123.,  17.,\n",
       "       109.,  79., 109.,  85.,  45.,  47.,  69.,  56.,  60.,  75.,  78.,\n",
       "        68.,  96., 109.,  77.,  71.,  66.,  90.,  67., 107.,  58.,  95.,\n",
       "        37.,  26.,  42., 112.,  86.])"
      ]
     },
     "execution_count": 158,
     "metadata": {},
     "output_type": "execute_result"
    }
   ],
   "source": [
    "math_scores"
   ]
  },
  {
   "cell_type": "code",
   "execution_count": 165,
   "metadata": {
    "scrolled": true
   },
   "outputs": [],
   "source": [
    "eng_math_scores = np.concatenate([eng_scores.reshape(-1, 1), math_scores.reshape(-1, 1)], axis=1)"
   ]
  },
  {
   "cell_type": "code",
   "execution_count": 166,
   "metadata": {},
   "outputs": [],
   "source": [
    "eng_math_scores_df = pd.DataFrame(eng_math_scores, columns=['eng_scores', 'math_scores'])"
   ]
  },
  {
   "cell_type": "code",
   "execution_count": 167,
   "metadata": {},
   "outputs": [
    {
     "data": {
      "text/html": [
       "<div>\n",
       "<style scoped>\n",
       "    .dataframe tbody tr th:only-of-type {\n",
       "        vertical-align: middle;\n",
       "    }\n",
       "\n",
       "    .dataframe tbody tr th {\n",
       "        vertical-align: top;\n",
       "    }\n",
       "\n",
       "    .dataframe thead th {\n",
       "        text-align: right;\n",
       "    }\n",
       "</style>\n",
       "<table border=\"1\" class=\"dataframe\">\n",
       "  <thead>\n",
       "    <tr style=\"text-align: right;\">\n",
       "      <th></th>\n",
       "      <th>eng_scores</th>\n",
       "      <th>math_scores</th>\n",
       "    </tr>\n",
       "  </thead>\n",
       "  <tbody>\n",
       "    <tr>\n",
       "      <th>0</th>\n",
       "      <td>61.0</td>\n",
       "      <td>34.0</td>\n",
       "    </tr>\n",
       "    <tr>\n",
       "      <th>1</th>\n",
       "      <td>64.0</td>\n",
       "      <td>54.0</td>\n",
       "    </tr>\n",
       "    <tr>\n",
       "      <th>2</th>\n",
       "      <td>58.0</td>\n",
       "      <td>88.0</td>\n",
       "    </tr>\n",
       "    <tr>\n",
       "      <th>3</th>\n",
       "      <td>77.0</td>\n",
       "      <td>81.0</td>\n",
       "    </tr>\n",
       "    <tr>\n",
       "      <th>4</th>\n",
       "      <td>55.0</td>\n",
       "      <td>62.0</td>\n",
       "    </tr>\n",
       "    <tr>\n",
       "      <th>...</th>\n",
       "      <td>...</td>\n",
       "      <td>...</td>\n",
       "    </tr>\n",
       "    <tr>\n",
       "      <th>495</th>\n",
       "      <td>64.0</td>\n",
       "      <td>37.0</td>\n",
       "    </tr>\n",
       "    <tr>\n",
       "      <th>496</th>\n",
       "      <td>40.0</td>\n",
       "      <td>26.0</td>\n",
       "    </tr>\n",
       "    <tr>\n",
       "      <th>497</th>\n",
       "      <td>47.0</td>\n",
       "      <td>42.0</td>\n",
       "    </tr>\n",
       "    <tr>\n",
       "      <th>498</th>\n",
       "      <td>90.0</td>\n",
       "      <td>112.0</td>\n",
       "    </tr>\n",
       "    <tr>\n",
       "      <th>499</th>\n",
       "      <td>90.0</td>\n",
       "      <td>86.0</td>\n",
       "    </tr>\n",
       "  </tbody>\n",
       "</table>\n",
       "<p>500 rows × 2 columns</p>\n",
       "</div>"
      ],
      "text/plain": [
       "     eng_scores  math_scores\n",
       "0          61.0         34.0\n",
       "1          64.0         54.0\n",
       "2          58.0         88.0\n",
       "3          77.0         81.0\n",
       "4          55.0         62.0\n",
       "..          ...          ...\n",
       "495        64.0         37.0\n",
       "496        40.0         26.0\n",
       "497        47.0         42.0\n",
       "498        90.0        112.0\n",
       "499        90.0         86.0\n",
       "\n",
       "[500 rows x 2 columns]"
      ]
     },
     "execution_count": 167,
     "metadata": {},
     "output_type": "execute_result"
    }
   ],
   "source": [
    "eng_math_scores_df"
   ]
  },
  {
   "cell_type": "code",
   "execution_count": 172,
   "metadata": {},
   "outputs": [],
   "source": [
    "eng_math_scores_df = eng_math_scores_df.astype('i8')"
   ]
  },
  {
   "cell_type": "code",
   "execution_count": 173,
   "metadata": {},
   "outputs": [
    {
     "name": "stdout",
     "output_type": "stream",
     "text": [
      "<class 'pandas.core.frame.DataFrame'>\n",
      "RangeIndex: 500 entries, 0 to 499\n",
      "Data columns (total 2 columns):\n",
      " #   Column       Non-Null Count  Dtype\n",
      "---  ------       --------------  -----\n",
      " 0   eng_scores   500 non-null    int64\n",
      " 1   math_scores  500 non-null    int64\n",
      "dtypes: int64(2)\n",
      "memory usage: 7.9 KB\n"
     ]
    }
   ],
   "source": [
    "eng_math_scores_df.info()"
   ]
  },
  {
   "cell_type": "code",
   "execution_count": 179,
   "metadata": {},
   "outputs": [],
   "source": [
    "eng_math_scores_df.to_csv('../data/eng_math_scores500.csv', index=False)"
   ]
  },
  {
   "cell_type": "code",
   "execution_count": 159,
   "metadata": {},
   "outputs": [
    {
     "data": {
      "text/plain": [
       "<matplotlib.collections.PathCollection at 0x7f10c4c21520>"
      ]
     },
     "execution_count": 159,
     "metadata": {},
     "output_type": "execute_result"
    },
    {
     "data": {
      "image/png": "[encoded data removed]",
      "text/plain": [
       "<Figure size 640x480 with 1 Axes>"
      ]
     },
     "metadata": {},
     "output_type": "display_data"
    }
   ],
   "source": [
    "plt.scatter(eng_scores, math_scores)"
   ]
  },
  {
   "cell_type": "code",
   "execution_count": null,
   "metadata": {},
   "outputs": [],
   "source": []
  },
  {
   "cell_type": "code",
   "execution_count": null,
   "metadata": {},
   "outputs": [],
   "source": []
  },
  {
   "cell_type": "code",
   "execution_count": 3,
   "metadata": {
    "ExecuteTime": {
     "end_time": "2018-08-14T06:47:18.710063Z",
     "start_time": "2018-08-14T06:47:18.706621Z"
    }
   },
   "outputs": [
    {
     "data": {
      "text/plain": [
       "array([3, 1, 2])"
      ]
     },
     "execution_count": 3,
     "metadata": {},
     "output_type": "execute_result"
    }
   ],
   "source": [
    "np.random.choice([1, 2, 3], 3)"
   ]
  },
  {
   "cell_type": "code",
   "execution_count": 4,
   "metadata": {
    "ExecuteTime": {
     "end_time": "2018-08-14T06:47:18.714348Z",
     "start_time": "2018-08-14T06:47:18.711029Z"
    }
   },
   "outputs": [
    {
     "data": {
      "text/plain": [
       "array([1, 2, 3])"
      ]
     },
     "execution_count": 4,
     "metadata": {},
     "output_type": "execute_result"
    }
   ],
   "source": [
    "np.random.choice([1, 2, 3], 3, replace=False)"
   ]
  },
  {
   "cell_type": "code",
   "execution_count": 5,
   "metadata": {
    "ExecuteTime": {
     "end_time": "2018-08-14T06:47:18.718669Z",
     "start_time": "2018-08-14T06:47:18.715323Z"
    }
   },
   "outputs": [
    {
     "data": {
      "text/plain": [
       "array([1, 2, 1])"
      ]
     },
     "execution_count": 5,
     "metadata": {},
     "output_type": "execute_result"
    }
   ],
   "source": [
    "np.random.seed(0)\n",
    "np.random.choice([1, 2, 3], 3)"
   ]
  },
  {
   "cell_type": "code",
   "execution_count": 7,
   "metadata": {
    "ExecuteTime": {
     "end_time": "2018-08-14T06:47:18.722968Z",
     "start_time": "2018-08-14T06:47:18.719676Z"
    }
   },
   "outputs": [
    {
     "data": {
      "text/plain": [
       "70.4"
      ]
     },
     "execution_count": 7,
     "metadata": {},
     "output_type": "execute_result"
    }
   ],
   "source": [
    "np.random.seed(0)\n",
    "sample = np.random.choice(scores, 20)\n",
    "\n",
    "sample.mean()"
   ]
  },
  {
   "cell_type": "code",
   "execution_count": 8,
   "metadata": {
    "ExecuteTime": {
     "end_time": "2018-08-14T06:47:18.726978Z",
     "start_time": "2018-08-14T06:47:18.724063Z"
    }
   },
   "outputs": [
    {
     "data": {
      "text/plain": [
       "69.53"
      ]
     },
     "execution_count": 8,
     "metadata": {},
     "output_type": "execute_result"
    }
   ],
   "source": [
    "scores.mean()"
   ]
  },
  {
   "cell_type": "code",
   "execution_count": 9,
   "metadata": {
    "ExecuteTime": {
     "end_time": "2018-08-14T06:47:18.731373Z",
     "start_time": "2018-08-14T06:47:18.727854Z"
    }
   },
   "outputs": [
    {
     "name": "stdout",
     "output_type": "stream",
     "text": [
      "1번째 무작위 추출로 얻은 표본평균 72.45\n",
      "2번째 무작위 추출로 얻은 표본평균 63.7\n",
      "3번째 무작위 추출로 얻은 표본평균 66.05\n",
      "4번째 무작위 추출로 얻은 표본평균 71.7\n",
      "5번째 무작위 추출로 얻은 표본평균 74.15\n"
     ]
    }
   ],
   "source": [
    "for i in range(5):\n",
    "    sample = np.random.choice(scores, 20)\n",
    "    print(f'{i+1}번째 무작위 추출로 얻은 표본평균', sample.mean())"
   ]
  },
  {
   "cell_type": "markdown",
   "metadata": {},
   "source": [
    "## 확률 모델"
   ]
  },
  {
   "cell_type": "markdown",
   "metadata": {
    "ExecuteTime": {
     "end_time": "2018-03-06T10:06:25.135659Z",
     "start_time": "2018-03-06T10:06:25.129307Z"
    }
   },
   "source": [
    "### 확률분포"
   ]
  },
  {
   "cell_type": "code",
   "execution_count": 11,
   "metadata": {
    "ExecuteTime": {
     "end_time": "2018-08-14T06:47:18.735390Z",
     "start_time": "2018-08-14T06:47:18.732292Z"
    }
   },
   "outputs": [],
   "source": [
    "dice = [1, 2, 3, 4, 5, 6]\n",
    "prob = [1/21, 2/21, 3/21, 4/21, 5/21, 6/21]"
   ]
  },
  {
   "cell_type": "code",
   "execution_count": 13,
   "metadata": {
    "ExecuteTime": {
     "end_time": "2018-08-14T06:47:18.740013Z",
     "start_time": "2018-08-14T06:47:18.736262Z"
    }
   },
   "outputs": [
    {
     "data": {
      "text/plain": [
       "4"
      ]
     },
     "execution_count": 13,
     "metadata": {},
     "output_type": "execute_result"
    }
   ],
   "source": [
    "np.random.choice(dice, p=prob)"
   ]
  },
  {
   "cell_type": "code",
   "execution_count": 14,
   "metadata": {
    "ExecuteTime": {
     "end_time": "2018-08-14T06:47:18.744199Z",
     "start_time": "2018-08-14T06:47:18.741030Z"
    }
   },
   "outputs": [
    {
     "data": {
      "text/plain": [
       "array([6, 6, 5, 5, 6, 5, 2, 5, 6, 3, 5, 6, 6, 6, 5, 3, 3, 3, 5, 4, 6, 5,\n",
       "       2, 2, 5, 6, 6, 5, 5, 6, 6, 5, 5, 5, 6, 4, 4, 6, 2, 3, 6, 6, 5, 4,\n",
       "       5, 1, 4, 4, 6, 5, 4, 5, 6, 3, 6, 4, 6, 4, 5, 3, 6, 5, 3, 3, 6, 6,\n",
       "       5, 3, 3, 5, 4, 6, 3, 3, 2, 6, 1, 6, 2, 3, 6, 6, 1, 3, 4, 5, 2, 5,\n",
       "       1, 6, 6, 5, 3, 5, 5, 6, 5, 3, 4, 6])"
      ]
     },
     "execution_count": 14,
     "metadata": {},
     "output_type": "execute_result"
    }
   ],
   "source": [
    "num_trial = 100\n",
    "sample = np.random.choice(dice, num_trial, p=prob)\n",
    "sample"
   ]
  },
  {
   "cell_type": "code",
   "execution_count": 16,
   "metadata": {
    "ExecuteTime": {
     "end_time": "2018-08-14T06:47:18.752137Z",
     "start_time": "2018-08-14T06:47:18.745175Z"
    }
   },
   "outputs": [
    {
     "data": {
      "text/html": [
       "<div>\n",
       "<style scoped>\n",
       "    .dataframe tbody tr th:only-of-type {\n",
       "        vertical-align: middle;\n",
       "    }\n",
       "\n",
       "    .dataframe tbody tr th {\n",
       "        vertical-align: top;\n",
       "    }\n",
       "\n",
       "    .dataframe thead th {\n",
       "        text-align: right;\n",
       "    }\n",
       "</style>\n",
       "<table border=\"1\" class=\"dataframe\">\n",
       "  <thead>\n",
       "    <tr style=\"text-align: right;\">\n",
       "      <th></th>\n",
       "      <th>frequency</th>\n",
       "      <th>relative frequency</th>\n",
       "    </tr>\n",
       "    <tr>\n",
       "      <th>dice</th>\n",
       "      <th></th>\n",
       "      <th></th>\n",
       "    </tr>\n",
       "  </thead>\n",
       "  <tbody>\n",
       "    <tr>\n",
       "      <td>1</td>\n",
       "      <td>4</td>\n",
       "      <td>0.04</td>\n",
       "    </tr>\n",
       "    <tr>\n",
       "      <td>2</td>\n",
       "      <td>7</td>\n",
       "      <td>0.07</td>\n",
       "    </tr>\n",
       "    <tr>\n",
       "      <td>3</td>\n",
       "      <td>17</td>\n",
       "      <td>0.17</td>\n",
       "    </tr>\n",
       "    <tr>\n",
       "      <td>4</td>\n",
       "      <td>12</td>\n",
       "      <td>0.12</td>\n",
       "    </tr>\n",
       "    <tr>\n",
       "      <td>5</td>\n",
       "      <td>28</td>\n",
       "      <td>0.28</td>\n",
       "    </tr>\n",
       "    <tr>\n",
       "      <td>6</td>\n",
       "      <td>32</td>\n",
       "      <td>0.32</td>\n",
       "    </tr>\n",
       "  </tbody>\n",
       "</table>\n",
       "</div>"
      ],
      "text/plain": [
       "      frequency  relative frequency\n",
       "dice                               \n",
       "1             4                0.04\n",
       "2             7                0.07\n",
       "3            17                0.17\n",
       "4            12                0.12\n",
       "5            28                0.28\n",
       "6            32                0.32"
      ]
     },
     "execution_count": 16,
     "metadata": {},
     "output_type": "execute_result"
    }
   ],
   "source": [
    "freq, _ = np.histogram(sample, bins=6, range=(1, 7))\n",
    "pd.DataFrame({'frequency':freq,\n",
    "              'relative frequency':freq / num_trial},\n",
    "              index = pd.Index(np.arange(1, 7), name='dice'))"
   ]
  },
  {
   "cell_type": "code",
   "execution_count": 17,
   "metadata": {
    "ExecuteTime": {
     "end_time": "2018-08-14T06:47:18.839357Z",
     "start_time": "2018-08-14T06:47:18.753130Z"
    }
   },
   "outputs": [
    {
     "data": {
      "image/png": "[encoded data removed]",
      "text/plain": [
       "<Figure size 720x432 with 1 Axes>"
      ]
     },
     "metadata": {
      "needs_background": "light"
     },
     "output_type": "display_data"
    }
   ],
   "source": [
    "fig = plt.figure(figsize=(10, 6))\n",
    "ax = fig.add_subplot(111)\n",
    "ax.hist(sample, bins=6, range=(1, 7), density=True, rwidth=0.8)\n",
    "# 실제의 확률분포를 가로선으로 표시\n",
    "ax.hlines(prob, np.arange(1, 7), np.arange(2, 8), colors='gray')\n",
    "# 막대 그래프의 [1.5, 2.5, ..., 6.5]에 눈금을 표시\n",
    "ax.set_xticks(np.linspace(1.5, 6.5, 6))\n",
    "# 주사위 눈의 값은 [1, 2, 3, 4, 5, 6]\n",
    "ax.set_xticklabels(np.arange(1, 7))\n",
    "ax.set_xlabel('dice')\n",
    "ax.set_ylabel('relative frequency')\n",
    "plt.show()"
   ]
  },
  {
   "cell_type": "code",
   "execution_count": 18,
   "metadata": {
    "ExecuteTime": {
     "end_time": "2018-08-14T06:47:18.937910Z",
     "start_time": "2018-08-14T06:47:18.840450Z"
    }
   },
   "outputs": [
    {
     "data": {
      "image/png": "[encoded data removed]",
      "text/plain": [
       "<Figure size 720x432 with 1 Axes>"
      ]
     },
     "metadata": {
      "needs_background": "light"
     },
     "output_type": "display_data"
    }
   ],
   "source": [
    "num_trial = 10000\n",
    "sample = np.random.choice(dice, size=num_trial, p=prob)\n",
    "\n",
    "fig = plt.figure(figsize=(10, 6))\n",
    "ax = fig.add_subplot(111)\n",
    "ax.hist(sample, bins=6, range=(1, 7), density=True, rwidth=0.8)\n",
    "ax.hlines(prob, np.arange(1, 7), np.arange(2, 8), colors='gray')\n",
    "ax.set_xticks(np.linspace(1.5, 6.5, 6))\n",
    "ax.set_xticklabels(np.arange(1, 7))\n",
    "ax.set_xlabel('dice')\n",
    "ax.set_ylabel('relative frequency')\n",
    "plt.show()"
   ]
  },
  {
   "cell_type": "markdown",
   "metadata": {},
   "source": [
    "## 추측통계에서의 확률"
   ]
  },
  {
   "cell_type": "code",
   "execution_count": 19,
   "metadata": {
    "ExecuteTime": {
     "end_time": "2018-08-14T06:47:19.099892Z",
     "start_time": "2018-08-14T06:47:18.939207Z"
    }
   },
   "outputs": [
    {
     "data": {
      "image/png": "[encoded data removed]",
      "text/plain": [
       "<Figure size 720x432 with 1 Axes>"
      ]
     },
     "metadata": {
      "needs_background": "light"
     },
     "output_type": "display_data"
    }
   ],
   "source": [
    "fig = plt.figure(figsize=(10, 6))\n",
    "ax = fig.add_subplot(111)\n",
    "ax.hist(scores, bins=100, range=(0, 100), density=True)\n",
    "ax.set_xlim(20, 100)\n",
    "ax.set_ylim(0, 0.042)\n",
    "ax.set_xlabel('score')\n",
    "ax.set_ylabel('relative frequency')\n",
    "plt.show()"
   ]
  },
  {
   "cell_type": "code",
   "execution_count": 20,
   "metadata": {
    "ExecuteTime": {
     "end_time": "2018-08-14T06:47:19.103313Z",
     "start_time": "2018-08-14T06:47:19.100842Z"
    }
   },
   "outputs": [
    {
     "data": {
      "text/plain": [
       "63"
      ]
     },
     "execution_count": 20,
     "metadata": {},
     "output_type": "execute_result"
    }
   ],
   "source": [
    "np.random.choice(scores)"
   ]
  },
  {
   "cell_type": "code",
   "execution_count": 21,
   "metadata": {
    "ExecuteTime": {
     "end_time": "2018-08-14T06:47:19.265020Z",
     "start_time": "2018-08-14T06:47:19.104243Z"
    }
   },
   "outputs": [
    {
     "data": {
      "image/png": "[encoded data removed]",
      "text/plain": [
       "<Figure size 720x432 with 1 Axes>"
      ]
     },
     "metadata": {
      "needs_background": "light"
     },
     "output_type": "display_data"
    }
   ],
   "source": [
    "sample = np.random.choice(scores, 10000)\n",
    "\n",
    "fig = plt.figure(figsize=(10, 6))\n",
    "ax = fig.add_subplot(111)\n",
    "ax.hist(sample, bins=100, range=(0, 100), density=True)\n",
    "ax.set_xlim(20, 100)\n",
    "ax.set_ylim(0, 0.042)\n",
    "ax.set_xlabel('score')\n",
    "ax.set_ylabel('relative frequency')\n",
    "plt.show()"
   ]
  },
  {
   "cell_type": "code",
   "execution_count": 22,
   "metadata": {
    "ExecuteTime": {
     "end_time": "2018-08-14T06:47:19.591784Z",
     "start_time": "2018-08-14T06:47:19.266201Z"
    }
   },
   "outputs": [
    {
     "data": {
      "image/png": "[encoded data removed]",
      "text/plain": [
       "<Figure size 720x432 with 1 Axes>"
      ]
     },
     "metadata": {
      "needs_background": "light"
     },
     "output_type": "display_data"
    }
   ],
   "source": [
    "sample_means = [np.random.choice(scores, 20).mean()\n",
    "                for _ in range(10000)]\n",
    "\n",
    "fig = plt.figure(figsize=(10, 6))\n",
    "ax = fig.add_subplot(111)\n",
    "ax.hist(sample_means, bins=100, range=(0, 100), density=True)\n",
    "# 모평균을 세로선으로 표시\n",
    "ax.vlines(np.mean(scores), 0, 1, 'gray')\n",
    "ax.set_xlim(50, 90)\n",
    "ax.set_ylim(0, 0.13)\n",
    "ax.set_xlabel('score')\n",
    "ax.set_ylabel('relative frequency')\n",
    "plt.show()"
   ]
  }
 ],
 "metadata": {
  "kernelspec": {
   "display_name": "Python 3 (ipykernel)",
   "language": "python",
   "name": "python3"
  },
  "language_info": {
   "codemirror_mode": {
    "name": "ipython",
    "version": 3
   },
   "file_extension": ".py",
   "mimetype": "text/x-python",
   "name": "python",
   "nbconvert_exporter": "python",
   "pygments_lexer": "ipython3",
   "version": "3.12.2"
  },
  "toc": {
   "nav_menu": {},
   "number_sections": true,
   "sideBar": true,
   "skip_h1_title": false,
   "toc_cell": false,
   "toc_position": {},
   "toc_section_display": "block",
   "toc_window_display": false
  }
 },
 "nbformat": 4,
 "nbformat_minor": 2
}
