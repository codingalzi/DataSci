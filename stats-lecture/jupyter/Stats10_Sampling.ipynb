{
 "cells": [
  {
   "cell_type": "markdown",
   "metadata": {
    "id": "UQe15Sg2XlIB"
   },
   "source": [
    "# 10장. 표본 고르기"
   ]
  },
  {
   "cell_type": "markdown",
   "metadata": {
    "id": "FvlaxL1SOxbk"
   },
   "source": [
    "### 나눔 폰트 설치"
   ]
  },
  {
   "cell_type": "code",
   "execution_count": null,
   "metadata": {
    "colab": {
     "base_uri": "https://localhost:8080/"
    },
    "executionInfo": {
     "elapsed": 5789,
     "status": "ok",
     "timestamp": 1677245533150,
     "user": {
      "displayName": "오리온",
      "userId": "03097998205438381973"
     },
     "user_tz": -540
    },
    "id": "c3_8IuzuOwya",
    "outputId": "8967b3fb-10d3-412a-c55b-40d2f3bd53e1"
   },
   "outputs": [
    {
     "name": "stdout",
     "output_type": "stream",
     "text": [
      "Reading package lists... Done\n",
      "Building dependency tree       \n",
      "Reading state information... Done\n",
      "fonts-nanum is already the newest version (20180306-3).\n",
      "The following package was automatically installed and is no longer required:\n",
      "  libnvidia-common-510\n",
      "Use 'sudo apt autoremove' to remove it.\n",
      "0 upgraded, 0 newly installed, 0 to remove and 21 not upgraded.\n",
      "/usr/share/fonts: caching, new cache contents: 0 fonts, 1 dirs\n",
      "/usr/share/fonts/truetype: caching, new cache contents: 0 fonts, 3 dirs\n",
      "/usr/share/fonts/truetype/humor-sans: caching, new cache contents: 1 fonts, 0 dirs\n",
      "/usr/share/fonts/truetype/liberation: caching, new cache contents: 16 fonts, 0 dirs\n",
      "/usr/share/fonts/truetype/nanum: caching, new cache contents: 10 fonts, 0 dirs\n",
      "/usr/local/share/fonts: caching, new cache contents: 0 fonts, 0 dirs\n",
      "/root/.local/share/fonts: skipping, no such directory\n",
      "/root/.fonts: skipping, no such directory\n",
      "/usr/share/fonts/truetype: skipping, looped directory detected\n",
      "/usr/share/fonts/truetype/humor-sans: skipping, looped directory detected\n",
      "/usr/share/fonts/truetype/liberation: skipping, looped directory detected\n",
      "/usr/share/fonts/truetype/nanum: skipping, looped directory detected\n",
      "/var/cache/fontconfig: cleaning cache directory\n",
      "/root/.cache/fontconfig: not cleaning non-existent cache directory\n",
      "/root/.fontconfig: not cleaning non-existent cache directory\n",
      "fc-cache: succeeded\n"
     ]
    }
   ],
   "source": [
    "!sudo apt-get install -y fonts-nanum\n",
    "!sudo fc-cache -fv\n",
    "!rm ~/.cache/matplotlib -rf\n",
    "# 런타임 다시 시작 필요"
   ]
  },
  {
   "cell_type": "markdown",
   "metadata": {
    "id": "XMhk6UhgXoR2"
   },
   "source": [
    "### 1. 모집단\n",
    ": 조사 대상 전체"
   ]
  },
  {
   "cell_type": "markdown",
   "metadata": {
    "id": "GN-wb9iPXsQK"
   },
   "source": [
    "예 )\n",
    "- 한국인 성인 몸무게의 데이터가 요구될 때 : 한국인 성인 전체\n",
    "- 지구 바다에 서식하는 돌고래의 수명 데이터가 요구될 때 : 지구 바다에 서식하는 돌고래 전체\n",
    "- 대통령 선거 후보 지지율 : 유권자 전체\n",
    "- 어느 풍선껌 회사에서 생산하는 풍선껌 맛의 지속시간 데이터가 필요할 때 : 해당 공장에서 생산되는 껌 전체\n",
    "\n",
    "$  $\n",
    "\n",
    "__문제점__   \n",
    "- 경우에 따라 모집단 전체에 대한 데이터를 구하지 못할 수 있거나(돌고래의 경우),  \n",
    "비용이 너무 많이 들거나(후보 지지율 조사의 경우),  \n",
    "아니면 모집단 전체를 대상으로 하면 안되는 경우(풍선껌의 경우)가 존재한다.  \n",
    "그런 경우에는 __표본__을 선택하여 조사하는 __표본조사__ 방식을 활용해야 함.\n",
    "\n",
    "$  $\n",
    "\n",
    "__총조사__ : 표본조사와는 달리 모집단 전체를 대상으로 데이터를 조사하는 방식"
   ]
  },
  {
   "cell_type": "markdown",
   "metadata": {
    "id": "sXHFtttxZGZp"
   },
   "source": [
    "### 표본  \n",
    ": 모집단에서 선택된 일부"
   ]
  },
  {
   "cell_type": "markdown",
   "metadata": {
    "id": "6ofFXW8-ZK2f"
   },
   "source": [
    "예 )  \n",
    "- 지역별, 연령별, 성별을 고려하여 무작위로 선택된 성인 2,000명\n",
    "- 오대양에서 적절한 비율로 채집검사 대상이 된 돌거래 100마리\n",
    "- 종류별 무작위로 선택된 풍선껌 1,000개"
   ]
  },
  {
   "cell_type": "markdown",
   "metadata": {
    "id": "BouVk4TVZYXT"
   },
   "source": [
    "### 3. 표본 선택방법 및 주의사항  "
   ]
  },
  {
   "cell_type": "markdown",
   "metadata": {
    "id": "6MLVz4mrZcdY"
   },
   "source": [
    "다음의 과정을 통해 표본을 선택한다.\n",
    "① 조사대상의 모집단 정의   \n",
    "② <U>모집단을 제대로 반영하는 표본 구성</U>\n",
    "- 어떻게 ? __잘__해야함\n",
    "  - 매우 어려운 문제임. 하지만 자세한 내용은 강의에서 다루지 않음음\n",
    "\n",
    "> 앞으로 표본이 주어졌다고 가정하고서 모집단에 대한 정보를 얻는 다양한 통계 기법을 배울 것임. \n",
    "> - 여기서는 상식적으로 판단할 것 권유 !"
   ]
  },
  {
   "cell_type": "markdown",
   "metadata": {
    "id": "ZtJB5JYKaXCk"
   },
   "source": [
    "### 4. 편향된 표본 \n",
    ": 모집단을 제대로 반영하지 못하는 표본  \n",
    "\n",
    "$  $\n",
    "\n",
    "편향된 표본은 아래의 그림에서처럼 모집단과 다른 분포를 보인다."
   ]
  },
  {
   "cell_type": "code",
   "execution_count": null,
   "metadata": {
    "colab": {
     "base_uri": "https://localhost:8080/",
     "height": 388
    },
    "executionInfo": {
     "elapsed": 1057,
     "status": "ok",
     "timestamp": 1677245534198,
     "user": {
      "displayName": "오리온",
      "userId": "03097998205438381973"
     },
     "user_tz": -540
    },
    "id": "9cIqbcbdcRii",
    "outputId": "a9bb402e-d907-4819-bde0-28368c0030ff"
   },
   "outputs": [
    {
     "name": "stderr",
     "output_type": "stream",
     "text": [
      "/usr/local/lib/python3.8/dist-packages/IPython/core/pylabtools.py:128: UserWarning: Glyph 8722 (\\N{MINUS SIGN}) missing from current font.\n",
      "  fig.canvas.print_figure(bytes_io, **kw)\n"
     ]
    },
    {
     "data": {
      "image/png": "[encoded data removed]",
      "text/plain": [
       "<Figure size 720x360 with 1 Axes>"
      ]
     },
     "metadata": {
      "needs_background": "light"
     },
     "output_type": "display_data"
    }
   ],
   "source": [
    "import numpy as np\n",
    "import matplotlib.pyplot as plt\n",
    "from scipy.stats import norm\n",
    "plt.rc(\"font\", family='NanumGothic')\n",
    "\n",
    "\n",
    "x1 = np.arange(-10, 10, 0.01)\n",
    "x = np.arange(-5, 3, 0.01)\n",
    "\n",
    "def gaussian(x, mean, sigma):\n",
    "  return (1 / np.sqrt(2 * np.pi * sigma**2)) * np.exp(-(x - mean)**2 / (2 * sigma**2))\n",
    "\n",
    "fig = plt.figure(figsize=(10, 5))\n",
    "ax = fig.add_subplot(1, 1, 1)\n",
    "\n",
    "\n",
    "plt.plot(x1, gaussian(x1, 0, 2))\n",
    "plt.plot(x, gaussian((x)**3, -10, 5))\n",
    "\n",
    "plt.xlabel('범주')\n",
    "plt.ylabel('도수')\n",
    "\n",
    "ax.annotate('모집단', xy=(2.5,0.1), xytext=(4, 0.13),\n",
    "            arrowprops=dict(facecolor='blue', shrink=0.05))\n",
    "ax.annotate('표본', xy=(-2.4,0.075), xytext=(-5, 0.13),\n",
    "            arrowprops=dict(facecolor='orange', shrink=0.05))\n",
    "\n",
    "\n",
    "plt.show()"
   ]
  },
  {
   "cell_type": "markdown",
   "metadata": {
    "id": "8kS9taCNfGi2"
   },
   "source": [
    "__✏️ 예제__  \n",
    "풍선껌 맛의 지속시간을 알아보고자 할 때 특정 맛의 껌만을 표본으로 선택하면 다른 맛을 포함한 풍선껌 전체에 대한 잘못된 정보를 유추할 수 있다."
   ]
  },
  {
   "cell_type": "markdown",
   "metadata": {
    "id": "Sl_23qfhghEQ"
   },
   "source": [
    "### 5. 전체를 잘 반영하는 표본\n",
    "모집단과 비슷한 분포를 갖는 표본을 선택해야한다."
   ]
  },
  {
   "cell_type": "code",
   "execution_count": null,
   "metadata": {
    "colab": {
     "base_uri": "https://localhost:8080/",
     "height": 388
    },
    "executionInfo": {
     "elapsed": 1054,
     "status": "ok",
     "timestamp": 1677245578946,
     "user": {
      "displayName": "오리온",
      "userId": "03097998205438381973"
     },
     "user_tz": -540
    },
    "id": "hf0L7EIQggV7",
    "outputId": "2d97e5b5-880c-42ba-8f10-2433311988a3"
   },
   "outputs": [
    {
     "name": "stderr",
     "output_type": "stream",
     "text": [
      "/usr/local/lib/python3.8/dist-packages/IPython/core/pylabtools.py:128: UserWarning: Glyph 8722 (\\N{MINUS SIGN}) missing from current font.\n",
      "  fig.canvas.print_figure(bytes_io, **kw)\n"
     ]
    },
    {
     "data": {
      "image/png": "[encoded data removed]",
      "text/plain": [
       "<Figure size 720x360 with 1 Axes>"
      ]
     },
     "metadata": {
      "needs_background": "light"
     },
     "output_type": "display_data"
    }
   ],
   "source": [
    "import numpy as np\n",
    "import matplotlib.pyplot as plt\n",
    "from scipy.stats import norm\n",
    "plt.rc(\"font\", family='NanumGothic')\n",
    "\n",
    "\n",
    "x1 = np.arange(-10, 10, 0.01)\n",
    "\n",
    "def gaussian(x, mean, sigma):\n",
    "  return (1 / np.sqrt(2 * np.pi * sigma**2)) * np.exp(-(x - mean)**2 / (2 * sigma**2))\n",
    "\n",
    "fig = plt.figure(figsize=(10, 5))\n",
    "ax = fig.add_subplot(1, 1, 1)\n",
    "\n",
    "\n",
    "plt.plot(x1, gaussian(x1, 0, 2))\n",
    "plt.plot(x1, gaussian(x1*(1/2), 0, 1))\n",
    "\n",
    "plt.xlabel('범주')\n",
    "plt.ylabel('도수')\n",
    "\n",
    "ax.annotate('모집단', xy=(2.5,0.1), xytext=(4, 0.13),\n",
    "            arrowprops=dict(facecolor='blue', shrink=0.05))\n",
    "ax.annotate('표본', xy=(-3.9,0.075), xytext=(-5, 0.13),\n",
    "            arrowprops=dict(facecolor='orange', shrink=0.05))\n",
    "\n",
    "\n",
    "plt.show()"
   ]
  },
  {
   "cell_type": "markdown",
   "metadata": {
    "id": "vIiDl-0vgsxP"
   },
   "source": [
    "__✏️ 예제__ : 풍선껌의 맛 지속시간 검사하기  \n",
    "풍선껌은 네 개의 서로 다른 맛을 갖는다고 가정하자. 표본은 어떻게 구성해야하는가?\n",
    "\n",
    "####  \n",
    "\n",
    "__견본 답안__  \n",
    "① 모집단 설정 : 개별적인 풍선껌 전체  \n",
    "② 맛별 풍선껌의 비율에 따라 무작위로 선택"
   ]
  }
 ],
 "metadata": {
  "colab": {
   "provenance": [
    {
     "file_id": "1D-vs0Lu4NTUWazzew76MU4n8kXx8hPNf",
     "timestamp": 1678683918652
    }
   ]
  },
  "kernelspec": {
   "display_name": "Python 3 (ipykernel)",
   "language": "python",
   "name": "python3"
  },
  "language_info": {
   "codemirror_mode": {
    "name": "ipython",
    "version": 3
   },
   "file_extension": ".py",
   "mimetype": "text/x-python",
   "name": "python",
   "nbconvert_exporter": "python",
   "pygments_lexer": "ipython3",
   "version": "3.12.2"
  }
 },
 "nbformat": 4,
 "nbformat_minor": 1
}
